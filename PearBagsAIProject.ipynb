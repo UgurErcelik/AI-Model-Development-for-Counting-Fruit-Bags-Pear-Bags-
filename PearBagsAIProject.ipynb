{
 "cells": [
  {
   "cell_type": "code",
   "execution_count": 1,
   "id": "63ce2129-97c7-4c6a-aa67-90514c4f698f",
   "metadata": {},
   "outputs": [],
   "source": [
    "import os\n",
    "os.environ[\"KMP_DUPLICATE_LIB_OK\"] = \"TRUE\""
   ]
  },
  {
   "cell_type": "code",
   "execution_count": 2,
   "id": "7965132f-c54c-4188-b02c-ea43b4fa4712",
   "metadata": {},
   "outputs": [
    {
     "name": "stderr",
     "output_type": "stream",
     "text": [
      "C:\\Users\\dnslab_fox\\anaconda3\\envs\\Ugur\\Lib\\site-packages\\tqdm\\auto.py:21: TqdmWarning: IProgress not found. Please update jupyter and ipywidgets. See https://ipywidgets.readthedocs.io/en/stable/user_install.html\n",
      "  from .autonotebook import tqdm as notebook_tqdm\n",
      "C:\\Users\\dnslab_fox\\anaconda3\\envs\\Ugur\\Lib\\site-packages\\albumentations\\__init__.py:24: UserWarning: A new version of Albumentations is available: 2.0.7 (you have 1.4.24). Upgrade using: pip install -U albumentations. To disable automatic update checks, set the environment variable NO_ALBUMENTATIONS_UPDATE to 1.\n",
      "  check_for_updates()\n"
     ]
    }
   ],
   "source": [
    "import albumentations as A\n",
    "import cv2\n",
    "import os\n",
    "import numpy as np\n",
    "from tqdm import tqdm"
   ]
  },
  {
   "cell_type": "code",
   "execution_count": 3,
   "id": "4341e48e-749c-4472-8547-5f21ff571706",
   "metadata": {},
   "outputs": [],
   "source": [
    "import ultralytics"
   ]
  },
  {
   "cell_type": "code",
   "execution_count": 4,
   "id": "d981c7ae-8cad-4fdb-8366-ed54f58da2ae",
   "metadata": {},
   "outputs": [],
   "source": [
    "from ultralytics import YOLO"
   ]
  },
  {
   "cell_type": "code",
   "execution_count": 5,
   "id": "d65af00e-ab2b-4e35-a54e-8584ce35b218",
   "metadata": {},
   "outputs": [],
   "source": [
    "import torch\n",
    "import argparse\n",
    "from torch.utils.data import DataLoader\n",
    "from ultralytics.utils.torch_utils import select_device\n",
    "import torch.nn as nn\n",
    "import torch.nn.functional as F\n",
    "import torch.optim as optim\n",
    "from ultralytics import solutions\n",
    "from torchvision import transforms, datasets\n",
    "from torch.utils.data import Dataset\n",
    "from torchvision import transforms\n",
    "from PIL import Image"
   ]
  },
  {
   "cell_type": "code",
   "execution_count": 6,
   "id": "dcda2dd8-b40a-4181-9777-b19b75ed804e",
   "metadata": {},
   "outputs": [],
   "source": [
    "from ultralytics.nn.modules import *"
   ]
  },
  {
   "cell_type": "code",
   "execution_count": 7,
   "id": "2639b9a0-d98d-42d2-a0e7-036ddcf1a8fe",
   "metadata": {},
   "outputs": [],
   "source": [
    "from yolov5.utils.loss import ComputeLoss"
   ]
  },
  {
   "cell_type": "code",
   "execution_count": 7,
   "id": "75392147-fd34-4b58-909c-3f10da70973b",
   "metadata": {},
   "outputs": [],
   "source": [
    "torch.cuda.empty_cache()"
   ]
  },
  {
   "cell_type": "code",
   "execution_count": 7,
   "id": "d82953a8-9dbf-4036-b536-7496960a868f",
   "metadata": {},
   "outputs": [
    {
     "name": "stdout",
     "output_type": "stream",
     "text": [
      "8.3.101\n"
     ]
    }
   ],
   "source": [
    "import ultralytics\n",
    "print(ultralytics.__version__)"
   ]
  },
  {
   "cell_type": "code",
   "execution_count": 8,
   "id": "9b454c76-755e-40e0-9afc-d7a146c41602",
   "metadata": {},
   "outputs": [
    {
     "name": "stdout",
     "output_type": "stream",
     "text": [
      "2.5.1\n",
      "11.8\n"
     ]
    }
   ],
   "source": [
    "print(torch.__version__)  # Check PyTorch version\n",
    "print(torch.version.cuda) # Check CUDA version"
   ]
  },
  {
   "cell_type": "code",
   "execution_count": 5,
   "id": "277280cd-191c-401c-9630-715240865625",
   "metadata": {},
   "outputs": [
    {
     "name": "stdout",
     "output_type": "stream",
     "text": [
      "3.12.8 | packaged by Anaconda, Inc. | (main, Dec 11 2024, 16:48:34) [MSC v.1929 64 bit (AMD64)]\n"
     ]
    }
   ],
   "source": [
    "import sys\n",
    "print(sys.version)"
   ]
  },
  {
   "cell_type": "code",
   "execution_count": 9,
   "id": "5afbb9f1-b377-4407-baa9-b322ce76c8ac",
   "metadata": {},
   "outputs": [
    {
     "name": "stdout",
     "output_type": "stream",
     "text": [
      "✅ Label files renamed to match image files.\n"
     ]
    }
   ],
   "source": [
    "import os\n",
    "# Rename\n",
    "# Paths\n",
    "image_dir = \"PearbagsDrone/train/images\"\n",
    "label_dir = \"PearbagsDrone/train/labels\"\n",
    "\n",
    "# Get sorted lists\n",
    "image_files = sorted([f for f in os.listdir(image_dir) if f.endswith(\".jpg\")])\n",
    "label_files = sorted([f for f in os.listdir(label_dir) if f.endswith(\".txt\")])\n",
    "\n",
    "# Sanity check\n",
    "assert len(image_files) == len(label_files), \"Number of images and labels must match!\"\n",
    "\n",
    "# Rename label files to match image files\n",
    "for img_name, lbl_name in zip(image_files, label_files):\n",
    "    new_lbl_name = os.path.splitext(img_name)[0] + \".txt\"\n",
    "    old_lbl_path = os.path.join(label_dir, lbl_name)\n",
    "    new_lbl_path = os.path.join(label_dir, new_lbl_name)\n",
    "    os.rename(old_lbl_path, new_lbl_path)\n",
    "\n",
    "print(\"✅ Label files renamed to match image files.\")"
   ]
  },
  {
   "cell_type": "markdown",
   "id": "ae77081a-dbb4-4cbe-8301-3f985b5d2f1e",
   "metadata": {
    "jp-MarkdownHeadingCollapsed": true
   },
   "source": [
    "## Images to Video"
   ]
  },
  {
   "cell_type": "code",
   "execution_count": 12,
   "id": "42950af8-1edf-476a-aff3-44643e6bb998",
   "metadata": {},
   "outputs": [
    {
     "name": "stdout",
     "output_type": "stream",
     "text": [
      "Video saved to: pearbags_video.avi\n"
     ]
    }
   ],
   "source": [
    "import cv2\n",
    "import os\n",
    "from natsort import natsorted  # to sort files numerically\n",
    "#Images to video\n",
    "# Path to your images folder\n",
    "image_folder = 'PearbagsVideo/train/images'\n",
    "output_video_path = 'pearbags_video.avi'\n",
    "fps = 25  # Adjust depending on how fast you want the video to play\n",
    "\n",
    "# Get list of image files\n",
    "images = [img for img in os.listdir(image_folder) if img.endswith(('.jpg', '.png'))]\n",
    "images = natsorted(images)  # Ensures numerical sorting\n",
    "\n",
    "# Read the first image to get the video frame size\n",
    "first_image = cv2.imread(os.path.join(image_folder, images[0]))\n",
    "height, width, layers = first_image.shape\n",
    "\n",
    "# Define video codec and create VideoWriter object\n",
    "fourcc = cv2.VideoWriter_fourcc(*'XVID')\n",
    "video = cv2.VideoWriter(output_video_path, fourcc, fps, (width, height))\n",
    "\n",
    "# Write images to the video\n",
    "for img_name in images:\n",
    "    img_path = os.path.join(image_folder, img_name)\n",
    "    frame = cv2.imread(img_path)\n",
    "    video.write(frame)\n",
    "\n",
    "video.release()\n",
    "print(f\"Video saved to: {output_video_path}\")"
   ]
  },
  {
   "cell_type": "code",
   "execution_count": 13,
   "id": "7233795b-e7d9-43d6-b076-c3dd1b002b83",
   "metadata": {},
   "outputs": [],
   "source": [
    "import cv2\n",
    "import os\n",
    "\n",
    "output_path = \"pearbags_drone_video.mp4\"\n",
    "fps = 25  # or your original frame rate\n",
    "width, height = 640, 480  # use actual frame size\n",
    "\n",
    "# Define the video writer (use 'mp4v' codec for mp4 files)\n",
    "fourcc = cv2.VideoWriter_fourcc(*'mp4v')\n",
    "out = cv2.VideoWriter(output_path, fourcc, fps, (width, height))\n",
    "\n",
    "# Example: writing frames\n",
    "for img_path in sorted(os.listdir(\"PearbagsDrone/train/images\")):  # assume 'frames' folder\n",
    "    frame = cv2.imread(os.path.join(\"PearbagsDrone/train/images\", img_path))\n",
    "    resized = cv2.resize(frame, (width, height))\n",
    "    out.write(resized)\n",
    "\n",
    "out.release()"
   ]
  },
  {
   "cell_type": "markdown",
   "id": "786811b2-9e2c-43e1-9bef-88c863b28732",
   "metadata": {
    "jp-MarkdownHeadingCollapsed": true
   },
   "source": [
    "## YOLO video and Tracking and Deduplication"
   ]
  },
  {
   "cell_type": "code",
   "execution_count": 16,
   "id": "e3e658e6-c2b8-4b10-b152-6b53c4376973",
   "metadata": {
    "scrolled": true
   },
   "outputs": [
    {
     "name": "stdout",
     "output_type": "stream",
     "text": [
      "Collecting filterpy\n",
      "  Downloading filterpy-1.4.5.zip (177 kB)\n",
      "  Preparing metadata (setup.py): started\n",
      "  Preparing metadata (setup.py): finished with status 'done'\n",
      "Requirement already satisfied: numpy in c:\\users\\dnslab_fox\\anaconda3\\envs\\ugur\\lib\\site-packages (from filterpy) (2.0.1)\n",
      "Requirement already satisfied: scipy in c:\\users\\dnslab_fox\\anaconda3\\envs\\ugur\\lib\\site-packages (from filterpy) (1.14.1)\n",
      "Requirement already satisfied: matplotlib in c:\\users\\dnslab_fox\\anaconda3\\envs\\ugur\\lib\\site-packages (from filterpy) (3.10.0)\n",
      "Requirement already satisfied: contourpy>=1.0.1 in c:\\users\\dnslab_fox\\anaconda3\\envs\\ugur\\lib\\site-packages (from matplotlib->filterpy) (1.3.1)\n",
      "Requirement already satisfied: cycler>=0.10 in c:\\users\\dnslab_fox\\anaconda3\\envs\\ugur\\lib\\site-packages (from matplotlib->filterpy) (0.12.1)\n",
      "Requirement already satisfied: fonttools>=4.22.0 in c:\\users\\dnslab_fox\\anaconda3\\envs\\ugur\\lib\\site-packages (from matplotlib->filterpy) (4.55.3)\n",
      "Requirement already satisfied: kiwisolver>=1.3.1 in c:\\users\\dnslab_fox\\anaconda3\\envs\\ugur\\lib\\site-packages (from matplotlib->filterpy) (1.4.8)\n",
      "Requirement already satisfied: packaging>=20.0 in c:\\users\\dnslab_fox\\anaconda3\\envs\\ugur\\lib\\site-packages (from matplotlib->filterpy) (24.2)\n",
      "Requirement already satisfied: pillow>=8 in c:\\users\\dnslab_fox\\anaconda3\\envs\\ugur\\lib\\site-packages (from matplotlib->filterpy) (11.0.0)\n",
      "Requirement already satisfied: pyparsing>=2.3.1 in c:\\users\\dnslab_fox\\anaconda3\\envs\\ugur\\lib\\site-packages (from matplotlib->filterpy) (3.2.0)\n",
      "Requirement already satisfied: python-dateutil>=2.7 in c:\\users\\dnslab_fox\\anaconda3\\envs\\ugur\\lib\\site-packages (from matplotlib->filterpy) (2.9.0.post0)\n",
      "Requirement already satisfied: six>=1.5 in c:\\users\\dnslab_fox\\anaconda3\\envs\\ugur\\lib\\site-packages (from python-dateutil>=2.7->matplotlib->filterpy) (1.16.0)\n",
      "Building wheels for collected packages: filterpy\n",
      "  Building wheel for filterpy (setup.py): started\n",
      "  Building wheel for filterpy (setup.py): finished with status 'done'\n",
      "  Created wheel for filterpy: filename=filterpy-1.4.5-py3-none-any.whl size=110541 sha256=06998abce6051800a6e5791845ef6e5017aac3953a30807bb8c8c0a92f88ae0d\n",
      "  Stored in directory: c:\\users\\dnslab_fox\\appdata\\local\\pip\\cache\\wheels\\77\\bf\\4c\\b0c3f4798a0166668752312a67118b27a3cd341e13ac0ae6ee\n",
      "Successfully built filterpy\n",
      "Installing collected packages: filterpy\n",
      "Successfully installed filterpy-1.4.5\n"
     ]
    }
   ],
   "source": [
    "!pip install filterpy"
   ]
  },
  {
   "cell_type": "code",
   "execution_count": 11,
   "id": "0d687a05-11e6-410f-ba5c-102e57dfd7dc",
   "metadata": {
    "scrolled": true
   },
   "outputs": [
    {
     "name": "stdout",
     "output_type": "stream",
     "text": [
      "Collecting deep-sort-realtime\n",
      "  Downloading deep_sort_realtime-1.3.2-py3-none-any.whl.metadata (12 kB)\n",
      "Requirement already satisfied: numpy in c:\\users\\dnslab_fox\\anaconda3\\envs\\ugur\\lib\\site-packages (from deep-sort-realtime) (2.0.1)\n",
      "Requirement already satisfied: scipy in c:\\users\\dnslab_fox\\anaconda3\\envs\\ugur\\lib\\site-packages (from deep-sort-realtime) (1.14.1)\n",
      "Requirement already satisfied: opencv-python in c:\\users\\dnslab_fox\\anaconda3\\envs\\ugur\\lib\\site-packages (from deep-sort-realtime) (4.10.0.84)\n",
      "Downloading deep_sort_realtime-1.3.2-py3-none-any.whl (8.4 MB)\n",
      "   ---------------------------------------- 0.0/8.4 MB ? eta -:--:--\n",
      "   ------- -------------------------------- 1.6/8.4 MB 8.4 MB/s eta 0:00:01\n",
      "   ---------------- ----------------------- 3.4/8.4 MB 8.4 MB/s eta 0:00:01\n",
      "   ----------------------- ---------------- 5.0/8.4 MB 8.2 MB/s eta 0:00:01\n",
      "   -------------------------------- ------- 6.8/8.4 MB 8.2 MB/s eta 0:00:01\n",
      "   ---------------------------------------  8.4/8.4 MB 8.3 MB/s eta 0:00:01\n",
      "   ---------------------------------------- 8.4/8.4 MB 7.9 MB/s eta 0:00:00\n",
      "Installing collected packages: deep-sort-realtime\n",
      "Successfully installed deep-sort-realtime-1.3.2\n"
     ]
    }
   ],
   "source": [
    "!pip install deep-sort-realtime"
   ]
  },
  {
   "cell_type": "code",
   "execution_count": 12,
   "id": "81da22f3-9b2f-49e6-a0f4-b6d6601342ec",
   "metadata": {},
   "outputs": [],
   "source": [
    "from ultralytics import YOLO\n",
    "from deep_sort_realtime.deepsort_tracker import DeepSort"
   ]
  },
  {
   "cell_type": "code",
   "execution_count": 11,
   "id": "c937acb1-1610-4861-b5ec-6649b304110a",
   "metadata": {},
   "outputs": [
    {
     "name": "stdout",
     "output_type": "stream",
     "text": [
      "Using device: cuda\n",
      "CUDA Available: True\n",
      "Number of GPUs: 1\n"
     ]
    }
   ],
   "source": [
    "# Check if GPU is available\n",
    "device = torch.device(\"cuda\" if torch.cuda.is_available() else \"cpu\")\n",
    "print(f\"Using device: {device}\")\n",
    "print(f\"CUDA Available: {torch.cuda.is_available()}\")\n",
    "print(f\"Number of GPUs: {torch.cuda.device_count()}\")"
   ]
  },
  {
   "cell_type": "code",
   "execution_count": 10,
   "id": "eece902a-f881-41ab-96cb-5ab66383d50c",
   "metadata": {},
   "outputs": [],
   "source": [
    "import cv2\n",
    "import torch\n",
    "from ultralytics import YOLO\n",
    "from deep_sort_realtime.deepsort_tracker import DeepSort"
   ]
  },
  {
   "cell_type": "code",
   "execution_count": 14,
   "id": "1675f945-a17e-4243-9f80-b2c1aef69402",
   "metadata": {
    "scrolled": true
   },
   "outputs": [
    {
     "name": "stdout",
     "output_type": "stream",
     "text": [
      "Processed frame 1 | Unique pearbags: 0\n",
      "Processed frame 2 | Unique pearbags: 0\n",
      "Processed frame 3 | Unique pearbags: 3\n",
      "Processed frame 4 | Unique pearbags: 3\n",
      "Processed frame 5 | Unique pearbags: 3\n",
      "Processed frame 6 | Unique pearbags: 3\n",
      "Processed frame 7 | Unique pearbags: 3\n",
      "Processed frame 8 | Unique pearbags: 3\n",
      "Processed frame 9 | Unique pearbags: 3\n",
      "Processed frame 10 | Unique pearbags: 3\n",
      "Processed frame 11 | Unique pearbags: 3\n",
      "Processed frame 12 | Unique pearbags: 3\n",
      "Processed frame 13 | Unique pearbags: 3\n",
      "Processed frame 14 | Unique pearbags: 3\n",
      "Processed frame 15 | Unique pearbags: 3\n",
      "Processed frame 16 | Unique pearbags: 3\n",
      "Processed frame 17 | Unique pearbags: 3\n",
      "Processed frame 18 | Unique pearbags: 3\n",
      "Processed frame 19 | Unique pearbags: 4\n",
      "Processed frame 20 | Unique pearbags: 4\n",
      "Processed frame 21 | Unique pearbags: 4\n",
      "Processed frame 22 | Unique pearbags: 4\n",
      "Processed frame 23 | Unique pearbags: 4\n",
      "Processed frame 24 | Unique pearbags: 4\n",
      "Processed frame 25 | Unique pearbags: 4\n",
      "Processed frame 26 | Unique pearbags: 4\n",
      "Processed frame 27 | Unique pearbags: 5\n",
      "Processed frame 28 | Unique pearbags: 5\n",
      "Processed frame 29 | Unique pearbags: 5\n",
      "Processed frame 30 | Unique pearbags: 5\n",
      "Processed frame 31 | Unique pearbags: 5\n",
      "Processed frame 32 | Unique pearbags: 5\n",
      "Processed frame 33 | Unique pearbags: 5\n",
      "Processed frame 34 | Unique pearbags: 5\n",
      "Processed frame 35 | Unique pearbags: 5\n",
      "Processed frame 36 | Unique pearbags: 5\n",
      "Processed frame 37 | Unique pearbags: 5\n",
      "Processed frame 38 | Unique pearbags: 5\n",
      "Processed frame 39 | Unique pearbags: 5\n",
      "Processed frame 40 | Unique pearbags: 5\n",
      "Processed frame 41 | Unique pearbags: 5\n",
      "Processed frame 42 | Unique pearbags: 5\n",
      "Processed frame 43 | Unique pearbags: 5\n",
      "Processed frame 44 | Unique pearbags: 5\n",
      "Processed frame 45 | Unique pearbags: 5\n",
      "Processed frame 46 | Unique pearbags: 5\n",
      "Processed frame 47 | Unique pearbags: 5\n",
      "Processed frame 48 | Unique pearbags: 5\n",
      "Processed frame 49 | Unique pearbags: 5\n",
      "Processed frame 50 | Unique pearbags: 5\n",
      "Processed frame 51 | Unique pearbags: 5\n",
      "Processed frame 52 | Unique pearbags: 5\n",
      "Processed frame 53 | Unique pearbags: 5\n",
      "Processed frame 54 | Unique pearbags: 5\n",
      "Processed frame 55 | Unique pearbags: 5\n",
      "Processed frame 56 | Unique pearbags: 5\n",
      "Processed frame 57 | Unique pearbags: 6\n",
      "Processed frame 58 | Unique pearbags: 6\n",
      "Processed frame 59 | Unique pearbags: 6\n",
      "Processed frame 60 | Unique pearbags: 6\n",
      "Processed frame 61 | Unique pearbags: 6\n",
      "Processed frame 62 | Unique pearbags: 6\n",
      "Processed frame 63 | Unique pearbags: 6\n",
      "Processed frame 64 | Unique pearbags: 6\n",
      "Processed frame 65 | Unique pearbags: 6\n",
      "Processed frame 66 | Unique pearbags: 6\n",
      "Processed frame 67 | Unique pearbags: 6\n",
      "Processed frame 68 | Unique pearbags: 6\n",
      "Processed frame 69 | Unique pearbags: 6\n",
      "Processed frame 70 | Unique pearbags: 7\n",
      "Processed frame 71 | Unique pearbags: 7\n",
      "Processed frame 72 | Unique pearbags: 7\n",
      "Processed frame 73 | Unique pearbags: 7\n",
      "Processed frame 74 | Unique pearbags: 7\n",
      "Processed frame 75 | Unique pearbags: 7\n",
      "Processed frame 76 | Unique pearbags: 7\n",
      "Processed frame 77 | Unique pearbags: 7\n",
      "Processed frame 78 | Unique pearbags: 7\n",
      "Processed frame 79 | Unique pearbags: 7\n",
      "Processed frame 80 | Unique pearbags: 7\n",
      "Processed frame 81 | Unique pearbags: 7\n",
      "Processed frame 82 | Unique pearbags: 7\n",
      "Processed frame 83 | Unique pearbags: 7\n",
      "Processed frame 84 | Unique pearbags: 7\n",
      "Processed frame 85 | Unique pearbags: 7\n",
      "Processed frame 86 | Unique pearbags: 7\n",
      "Processed frame 87 | Unique pearbags: 7\n",
      "Processed frame 88 | Unique pearbags: 8\n",
      "Processed frame 89 | Unique pearbags: 8\n",
      "Processed frame 90 | Unique pearbags: 8\n",
      "Processed frame 91 | Unique pearbags: 8\n",
      "Processed frame 92 | Unique pearbags: 8\n",
      "Processed frame 93 | Unique pearbags: 8\n",
      "Processed frame 94 | Unique pearbags: 8\n",
      "Processed frame 95 | Unique pearbags: 8\n",
      "Processed frame 96 | Unique pearbags: 8\n",
      "Processed frame 97 | Unique pearbags: 8\n",
      "Processed frame 98 | Unique pearbags: 9\n",
      "Processed frame 99 | Unique pearbags: 9\n",
      "Processed frame 100 | Unique pearbags: 9\n",
      "Processed frame 101 | Unique pearbags: 9\n",
      "Processed frame 102 | Unique pearbags: 9\n",
      "Processed frame 103 | Unique pearbags: 9\n",
      "Processed frame 104 | Unique pearbags: 9\n",
      "Processed frame 105 | Unique pearbags: 9\n",
      "Processed frame 106 | Unique pearbags: 9\n",
      "Processed frame 107 | Unique pearbags: 9\n",
      "Processed frame 108 | Unique pearbags: 9\n",
      "Processed frame 109 | Unique pearbags: 9\n",
      "Processed frame 110 | Unique pearbags: 9\n",
      "Processed frame 111 | Unique pearbags: 9\n",
      "Processed frame 112 | Unique pearbags: 9\n",
      "Processed frame 113 | Unique pearbags: 9\n",
      "Processed frame 114 | Unique pearbags: 10\n",
      "Processed frame 115 | Unique pearbags: 10\n",
      "Processed frame 116 | Unique pearbags: 10\n",
      "Processed frame 117 | Unique pearbags: 10\n",
      "Processed frame 118 | Unique pearbags: 10\n",
      "Processed frame 119 | Unique pearbags: 11\n",
      "Processed frame 120 | Unique pearbags: 11\n",
      "Processed frame 121 | Unique pearbags: 11\n",
      "Processed frame 122 | Unique pearbags: 11\n",
      "Processed frame 123 | Unique pearbags: 11\n",
      "Processed frame 124 | Unique pearbags: 11\n",
      "Processed frame 125 | Unique pearbags: 12\n",
      "Processed frame 126 | Unique pearbags: 12\n",
      "Processed frame 127 | Unique pearbags: 12\n",
      "Processed frame 128 | Unique pearbags: 12\n",
      "Processed frame 129 | Unique pearbags: 12\n",
      "Processed frame 130 | Unique pearbags: 12\n",
      "Processed frame 131 | Unique pearbags: 12\n",
      "Processed frame 132 | Unique pearbags: 13\n",
      "Processed frame 133 | Unique pearbags: 13\n",
      "Processed frame 134 | Unique pearbags: 13\n",
      "Processed frame 135 | Unique pearbags: 13\n",
      "Processed frame 136 | Unique pearbags: 14\n",
      "Processed frame 137 | Unique pearbags: 14\n",
      "Processed frame 138 | Unique pearbags: 14\n",
      "Processed frame 139 | Unique pearbags: 14\n",
      "Processed frame 140 | Unique pearbags: 14\n",
      "Processed frame 141 | Unique pearbags: 14\n",
      "Processed frame 142 | Unique pearbags: 14\n",
      "Processed frame 143 | Unique pearbags: 14\n",
      "Processed frame 144 | Unique pearbags: 14\n",
      "Processed frame 145 | Unique pearbags: 14\n",
      "Processed frame 146 | Unique pearbags: 14\n",
      "Processed frame 147 | Unique pearbags: 14\n",
      "Processed frame 148 | Unique pearbags: 16\n",
      "Processed frame 149 | Unique pearbags: 16\n",
      "Processed frame 150 | Unique pearbags: 16\n",
      "Processed frame 151 | Unique pearbags: 16\n",
      "Processed frame 152 | Unique pearbags: 16\n",
      "Processed frame 153 | Unique pearbags: 16\n",
      "Processed frame 154 | Unique pearbags: 16\n",
      "Processed frame 155 | Unique pearbags: 16\n",
      "Processed frame 156 | Unique pearbags: 17\n",
      "Processed frame 157 | Unique pearbags: 17\n",
      "Processed frame 158 | Unique pearbags: 17\n",
      "Processed frame 159 | Unique pearbags: 17\n",
      "Processed frame 160 | Unique pearbags: 17\n",
      "Processed frame 161 | Unique pearbags: 17\n",
      "Processed frame 162 | Unique pearbags: 17\n",
      "Processed frame 163 | Unique pearbags: 17\n",
      "Processed frame 164 | Unique pearbags: 17\n",
      "Processed frame 165 | Unique pearbags: 17\n",
      "Processed frame 166 | Unique pearbags: 17\n",
      "Processed frame 167 | Unique pearbags: 17\n",
      "Processed frame 168 | Unique pearbags: 17\n",
      "Processed frame 169 | Unique pearbags: 17\n",
      "Processed frame 170 | Unique pearbags: 17\n",
      "Processed frame 171 | Unique pearbags: 17\n",
      "Processed frame 172 | Unique pearbags: 18\n",
      "Processed frame 173 | Unique pearbags: 18\n",
      "Processed frame 174 | Unique pearbags: 18\n",
      "Processed frame 175 | Unique pearbags: 18\n",
      "Processed frame 176 | Unique pearbags: 18\n",
      "Processed frame 177 | Unique pearbags: 18\n",
      "Processed frame 178 | Unique pearbags: 18\n",
      "Processed frame 179 | Unique pearbags: 18\n",
      "Processed frame 180 | Unique pearbags: 18\n",
      "Processed frame 181 | Unique pearbags: 18\n",
      "Processed frame 182 | Unique pearbags: 18\n",
      "Processed frame 183 | Unique pearbags: 18\n",
      "Processed frame 184 | Unique pearbags: 18\n",
      "Processed frame 185 | Unique pearbags: 18\n",
      "Processed frame 186 | Unique pearbags: 18\n",
      "Processed frame 187 | Unique pearbags: 18\n",
      "Processed frame 188 | Unique pearbags: 18\n",
      "Processed frame 189 | Unique pearbags: 18\n",
      "Processed frame 190 | Unique pearbags: 18\n",
      "Processed frame 191 | Unique pearbags: 18\n",
      "Processed frame 192 | Unique pearbags: 18\n",
      "Processed frame 193 | Unique pearbags: 18\n",
      "Processed frame 194 | Unique pearbags: 18\n",
      "Processed frame 195 | Unique pearbags: 18\n",
      "Processed frame 196 | Unique pearbags: 18\n",
      "Processed frame 197 | Unique pearbags: 18\n",
      "Processed frame 198 | Unique pearbags: 18\n",
      "Processed frame 199 | Unique pearbags: 18\n",
      "Processed frame 200 | Unique pearbags: 18\n",
      "Processed frame 201 | Unique pearbags: 18\n",
      "Processed frame 202 | Unique pearbags: 18\n",
      "Processed frame 203 | Unique pearbags: 18\n",
      "Processed frame 204 | Unique pearbags: 18\n",
      "Processed frame 205 | Unique pearbags: 18\n",
      "Processed frame 206 | Unique pearbags: 18\n",
      "Processed frame 207 | Unique pearbags: 18\n",
      "Processed frame 208 | Unique pearbags: 18\n",
      "Processed frame 209 | Unique pearbags: 18\n",
      "Processed frame 210 | Unique pearbags: 18\n",
      "Processed frame 211 | Unique pearbags: 18\n",
      "Processed frame 212 | Unique pearbags: 18\n",
      "Processed frame 213 | Unique pearbags: 18\n",
      "Processed frame 214 | Unique pearbags: 18\n",
      "Processed frame 215 | Unique pearbags: 18\n",
      "Processed frame 216 | Unique pearbags: 18\n",
      "Processed frame 217 | Unique pearbags: 18\n",
      "Processed frame 218 | Unique pearbags: 18\n",
      "Processed frame 219 | Unique pearbags: 18\n",
      "Processed frame 220 | Unique pearbags: 18\n",
      "Processed frame 221 | Unique pearbags: 18\n",
      "Processed frame 222 | Unique pearbags: 18\n",
      "Processed frame 223 | Unique pearbags: 18\n",
      "Processed frame 224 | Unique pearbags: 18\n",
      "Processed frame 225 | Unique pearbags: 19\n",
      "Processed frame 226 | Unique pearbags: 19\n",
      "Processed frame 227 | Unique pearbags: 19\n",
      "Processed frame 228 | Unique pearbags: 19\n",
      "Processed frame 229 | Unique pearbags: 19\n",
      "Processed frame 230 | Unique pearbags: 19\n",
      "Processed frame 231 | Unique pearbags: 19\n",
      "Processed frame 232 | Unique pearbags: 19\n",
      "Processed frame 233 | Unique pearbags: 19\n",
      "Processed frame 234 | Unique pearbags: 19\n",
      "Processed frame 235 | Unique pearbags: 19\n",
      "Processed frame 236 | Unique pearbags: 19\n",
      "Processed frame 237 | Unique pearbags: 19\n",
      "Processed frame 238 | Unique pearbags: 19\n",
      "Processed frame 239 | Unique pearbags: 19\n",
      "Processed frame 240 | Unique pearbags: 19\n",
      "Processed frame 241 | Unique pearbags: 19\n",
      "Processed frame 242 | Unique pearbags: 19\n",
      "Processed frame 243 | Unique pearbags: 19\n",
      "Processed frame 244 | Unique pearbags: 19\n",
      "Processed frame 245 | Unique pearbags: 19\n",
      "Processed frame 246 | Unique pearbags: 19\n",
      "Processed frame 247 | Unique pearbags: 19\n",
      "Processed frame 248 | Unique pearbags: 19\n",
      "Processed frame 249 | Unique pearbags: 19\n",
      "Processed frame 250 | Unique pearbags: 19\n",
      "Processed frame 251 | Unique pearbags: 19\n",
      "Processed frame 252 | Unique pearbags: 19\n",
      "Processed frame 253 | Unique pearbags: 19\n",
      "Processed frame 254 | Unique pearbags: 19\n",
      "Processed frame 255 | Unique pearbags: 19\n",
      "Processed frame 256 | Unique pearbags: 19\n",
      "Processed frame 257 | Unique pearbags: 19\n",
      "Processed frame 258 | Unique pearbags: 19\n",
      "Processed frame 259 | Unique pearbags: 19\n",
      "Processed frame 260 | Unique pearbags: 19\n",
      "Processed frame 261 | Unique pearbags: 19\n",
      "Processed frame 262 | Unique pearbags: 19\n",
      "Processed frame 263 | Unique pearbags: 19\n",
      "Processed frame 264 | Unique pearbags: 19\n",
      "Processed frame 265 | Unique pearbags: 19\n",
      "Processed frame 266 | Unique pearbags: 19\n",
      "Processed frame 267 | Unique pearbags: 19\n",
      "Processed frame 268 | Unique pearbags: 19\n",
      "Processed frame 269 | Unique pearbags: 19\n",
      "Processed frame 270 | Unique pearbags: 19\n",
      "Processed frame 271 | Unique pearbags: 19\n",
      "Processed frame 272 | Unique pearbags: 19\n",
      "Processed frame 273 | Unique pearbags: 19\n",
      "Processed frame 274 | Unique pearbags: 19\n",
      "Processed frame 275 | Unique pearbags: 19\n",
      "Processed frame 276 | Unique pearbags: 19\n",
      "Processed frame 277 | Unique pearbags: 19\n",
      "Processed frame 278 | Unique pearbags: 20\n",
      "Processed frame 279 | Unique pearbags: 20\n",
      "Processed frame 280 | Unique pearbags: 20\n",
      "Processed frame 281 | Unique pearbags: 20\n",
      "Processed frame 282 | Unique pearbags: 20\n",
      "Processed frame 283 | Unique pearbags: 20\n",
      "Processed frame 284 | Unique pearbags: 20\n",
      "Processed frame 285 | Unique pearbags: 20\n",
      "Processed frame 286 | Unique pearbags: 20\n",
      "Processed frame 287 | Unique pearbags: 20\n",
      "Processed frame 288 | Unique pearbags: 20\n",
      "Processed frame 289 | Unique pearbags: 21\n",
      "Processed frame 290 | Unique pearbags: 21\n",
      "Processed frame 291 | Unique pearbags: 22\n",
      "Processed frame 292 | Unique pearbags: 22\n",
      "Processed frame 293 | Unique pearbags: 22\n",
      "Processed frame 294 | Unique pearbags: 22\n",
      "Processed frame 295 | Unique pearbags: 23\n",
      "Processed frame 296 | Unique pearbags: 23\n",
      "Processed frame 297 | Unique pearbags: 23\n",
      "Processed frame 298 | Unique pearbags: 23\n",
      "Processed frame 299 | Unique pearbags: 23\n",
      "Processed frame 300 | Unique pearbags: 23\n",
      "Processed frame 301 | Unique pearbags: 23\n",
      "Processed frame 302 | Unique pearbags: 23\n",
      "Processed frame 303 | Unique pearbags: 23\n",
      "Processed frame 304 | Unique pearbags: 23\n",
      "Processed frame 305 | Unique pearbags: 23\n",
      "Processed frame 306 | Unique pearbags: 23\n",
      "Processed frame 307 | Unique pearbags: 23\n",
      "Processed frame 308 | Unique pearbags: 23\n",
      "Processed frame 309 | Unique pearbags: 23\n",
      "Processed frame 310 | Unique pearbags: 23\n",
      "Processed frame 311 | Unique pearbags: 23\n",
      "Processed frame 312 | Unique pearbags: 23\n",
      "Processed frame 313 | Unique pearbags: 23\n",
      "Processed frame 314 | Unique pearbags: 23\n",
      "Processed frame 315 | Unique pearbags: 23\n",
      "Processed frame 316 | Unique pearbags: 23\n",
      "Processed frame 317 | Unique pearbags: 23\n",
      "Processed frame 318 | Unique pearbags: 23\n",
      "Processed frame 319 | Unique pearbags: 23\n",
      "Processed frame 320 | Unique pearbags: 23\n",
      "Processed frame 321 | Unique pearbags: 23\n",
      "Processed frame 322 | Unique pearbags: 23\n",
      "Processed frame 323 | Unique pearbags: 23\n",
      "Processed frame 324 | Unique pearbags: 23\n",
      "Processed frame 325 | Unique pearbags: 23\n",
      "Processed frame 326 | Unique pearbags: 23\n",
      "Processed frame 327 | Unique pearbags: 23\n",
      "Processed frame 328 | Unique pearbags: 23\n",
      "Processed frame 329 | Unique pearbags: 23\n",
      "Processed frame 330 | Unique pearbags: 23\n",
      "Processed frame 331 | Unique pearbags: 23\n",
      "Processed frame 332 | Unique pearbags: 23\n",
      "Processed frame 333 | Unique pearbags: 23\n",
      "Processed frame 334 | Unique pearbags: 23\n",
      "Processed frame 335 | Unique pearbags: 23\n",
      "Processed frame 336 | Unique pearbags: 23\n",
      "Processed frame 337 | Unique pearbags: 23\n",
      "Processed frame 338 | Unique pearbags: 23\n",
      "Processed frame 339 | Unique pearbags: 23\n",
      "Processed frame 340 | Unique pearbags: 23\n",
      "Processed frame 341 | Unique pearbags: 23\n",
      "Processed frame 342 | Unique pearbags: 23\n",
      "Processed frame 343 | Unique pearbags: 23\n",
      "Processed frame 344 | Unique pearbags: 23\n",
      "Processed frame 345 | Unique pearbags: 23\n",
      "Processed frame 346 | Unique pearbags: 23\n",
      "Processed frame 347 | Unique pearbags: 23\n",
      "Processed frame 348 | Unique pearbags: 23\n",
      "Processed frame 349 | Unique pearbags: 23\n",
      "Processed frame 350 | Unique pearbags: 24\n",
      "Processed frame 351 | Unique pearbags: 24\n",
      "Processed frame 352 | Unique pearbags: 24\n",
      "Processed frame 353 | Unique pearbags: 24\n",
      "Processed frame 354 | Unique pearbags: 24\n",
      "Processed frame 355 | Unique pearbags: 24\n",
      "Processed frame 356 | Unique pearbags: 25\n",
      "Processed frame 357 | Unique pearbags: 25\n",
      "Processed frame 358 | Unique pearbags: 25\n",
      "Processed frame 359 | Unique pearbags: 25\n",
      "Processed frame 360 | Unique pearbags: 25\n",
      "Processed frame 361 | Unique pearbags: 25\n",
      "Processed frame 362 | Unique pearbags: 25\n",
      "Processed frame 363 | Unique pearbags: 25\n",
      "Processed frame 364 | Unique pearbags: 25\n",
      "Processed frame 365 | Unique pearbags: 25\n",
      "Processed frame 366 | Unique pearbags: 25\n",
      "Processed frame 367 | Unique pearbags: 25\n",
      "Processed frame 368 | Unique pearbags: 25\n",
      "Processed frame 369 | Unique pearbags: 25\n",
      "Processed frame 370 | Unique pearbags: 25\n",
      "Processed frame 371 | Unique pearbags: 25\n",
      "Processed frame 372 | Unique pearbags: 25\n",
      "Processed frame 373 | Unique pearbags: 25\n",
      "Processed frame 374 | Unique pearbags: 25\n",
      "Processed frame 375 | Unique pearbags: 25\n",
      "Processed frame 376 | Unique pearbags: 25\n",
      "Processed frame 377 | Unique pearbags: 25\n",
      "Processed frame 378 | Unique pearbags: 25\n",
      "Processed frame 379 | Unique pearbags: 25\n",
      "Processed frame 380 | Unique pearbags: 25\n",
      "Processed frame 381 | Unique pearbags: 25\n",
      "Processed frame 382 | Unique pearbags: 25\n",
      "Processed frame 383 | Unique pearbags: 25\n",
      "Processed frame 384 | Unique pearbags: 25\n",
      "Processed frame 385 | Unique pearbags: 25\n",
      "Processed frame 386 | Unique pearbags: 25\n",
      "Processed frame 387 | Unique pearbags: 25\n",
      "Processed frame 388 | Unique pearbags: 25\n",
      "Processed frame 389 | Unique pearbags: 26\n",
      "Processed frame 390 | Unique pearbags: 26\n",
      "Processed frame 391 | Unique pearbags: 26\n",
      "Processed frame 392 | Unique pearbags: 26\n",
      "Processed frame 393 | Unique pearbags: 26\n",
      "Processed frame 394 | Unique pearbags: 26\n",
      "Processed frame 395 | Unique pearbags: 27\n",
      "Processed frame 396 | Unique pearbags: 27\n",
      "Processed frame 397 | Unique pearbags: 27\n",
      "Processed frame 398 | Unique pearbags: 27\n",
      "Processed frame 399 | Unique pearbags: 27\n",
      "Processed frame 400 | Unique pearbags: 27\n",
      "Processed frame 401 | Unique pearbags: 27\n",
      "Processed frame 402 | Unique pearbags: 27\n",
      "Processed frame 403 | Unique pearbags: 27\n",
      "Processed frame 404 | Unique pearbags: 27\n",
      "Processed frame 405 | Unique pearbags: 27\n",
      "Processed frame 406 | Unique pearbags: 27\n",
      "Processed frame 407 | Unique pearbags: 27\n",
      "Processed frame 408 | Unique pearbags: 27\n",
      "Processed frame 409 | Unique pearbags: 27\n",
      "Processed frame 410 | Unique pearbags: 27\n",
      "Processed frame 411 | Unique pearbags: 27\n",
      "Processed frame 412 | Unique pearbags: 27\n",
      "Processed frame 413 | Unique pearbags: 27\n",
      "Processed frame 414 | Unique pearbags: 27\n",
      "Processed frame 415 | Unique pearbags: 29\n",
      "Processed frame 416 | Unique pearbags: 29\n",
      "Processed frame 417 | Unique pearbags: 29\n",
      "Processed frame 418 | Unique pearbags: 29\n",
      "Processed frame 419 | Unique pearbags: 29\n",
      "Processed frame 420 | Unique pearbags: 29\n",
      "Processed frame 421 | Unique pearbags: 29\n",
      "Processed frame 422 | Unique pearbags: 29\n",
      "Processed frame 423 | Unique pearbags: 29\n",
      "Processed frame 424 | Unique pearbags: 29\n",
      "Processed frame 425 | Unique pearbags: 29\n",
      "Processed frame 426 | Unique pearbags: 29\n",
      "Processed frame 427 | Unique pearbags: 29\n",
      "Processed frame 428 | Unique pearbags: 29\n",
      "Processed frame 429 | Unique pearbags: 29\n",
      "Processed frame 430 | Unique pearbags: 29\n",
      "Processed frame 431 | Unique pearbags: 29\n",
      "Processed frame 432 | Unique pearbags: 29\n",
      "Processed frame 433 | Unique pearbags: 30\n",
      "Processed frame 434 | Unique pearbags: 30\n",
      "Processed frame 435 | Unique pearbags: 30\n",
      "Processed frame 436 | Unique pearbags: 30\n",
      "Processed frame 437 | Unique pearbags: 30\n",
      "Processed frame 438 | Unique pearbags: 30\n",
      "Processed frame 439 | Unique pearbags: 30\n",
      "Processed frame 440 | Unique pearbags: 30\n",
      "Processed frame 441 | Unique pearbags: 30\n",
      "Processed frame 442 | Unique pearbags: 30\n",
      "Processed frame 443 | Unique pearbags: 30\n",
      "Processed frame 444 | Unique pearbags: 30\n",
      "Processed frame 445 | Unique pearbags: 30\n",
      "Processed frame 446 | Unique pearbags: 30\n",
      "Processed frame 447 | Unique pearbags: 30\n",
      "Processed frame 448 | Unique pearbags: 30\n",
      "Processed frame 449 | Unique pearbags: 30\n",
      "Processed frame 450 | Unique pearbags: 30\n",
      "Processed frame 451 | Unique pearbags: 30\n",
      "Processed frame 452 | Unique pearbags: 30\n",
      "Processed frame 453 | Unique pearbags: 30\n",
      "Processed frame 454 | Unique pearbags: 30\n",
      "Processed frame 455 | Unique pearbags: 30\n",
      "Processed frame 456 | Unique pearbags: 30\n",
      "Processed frame 457 | Unique pearbags: 31\n",
      "Processed frame 458 | Unique pearbags: 31\n",
      "Processed frame 459 | Unique pearbags: 31\n",
      "Processed frame 460 | Unique pearbags: 31\n",
      "Processed frame 461 | Unique pearbags: 31\n",
      "Processed frame 462 | Unique pearbags: 31\n",
      "Processed frame 463 | Unique pearbags: 31\n",
      "Processed frame 464 | Unique pearbags: 32\n",
      "Processed frame 465 | Unique pearbags: 32\n",
      "Processed frame 466 | Unique pearbags: 32\n",
      "Processed frame 467 | Unique pearbags: 32\n",
      "Processed frame 468 | Unique pearbags: 32\n",
      "Processed frame 469 | Unique pearbags: 32\n",
      "Processed frame 470 | Unique pearbags: 32\n",
      "Processed frame 471 | Unique pearbags: 32\n",
      "Processed frame 472 | Unique pearbags: 32\n",
      "Processed frame 473 | Unique pearbags: 32\n",
      "Processed frame 474 | Unique pearbags: 32\n",
      "Processed frame 475 | Unique pearbags: 32\n",
      "Processed frame 476 | Unique pearbags: 32\n",
      "Processed frame 477 | Unique pearbags: 32\n",
      "Processed frame 478 | Unique pearbags: 32\n",
      "Processed frame 479 | Unique pearbags: 32\n",
      "Processed frame 480 | Unique pearbags: 32\n",
      "Processed frame 481 | Unique pearbags: 32\n",
      "Processed frame 482 | Unique pearbags: 32\n",
      "Processed frame 483 | Unique pearbags: 32\n",
      "Processed frame 484 | Unique pearbags: 32\n",
      "Processed frame 485 | Unique pearbags: 32\n",
      "Processed frame 486 | Unique pearbags: 32\n",
      "Processed frame 487 | Unique pearbags: 32\n",
      "Processed frame 488 | Unique pearbags: 32\n",
      "Processed frame 489 | Unique pearbags: 32\n",
      "Processed frame 490 | Unique pearbags: 32\n",
      "Processed frame 491 | Unique pearbags: 32\n",
      "Processed frame 492 | Unique pearbags: 32\n",
      "Processed frame 493 | Unique pearbags: 32\n",
      "Processed frame 494 | Unique pearbags: 32\n",
      "Processed frame 495 | Unique pearbags: 32\n",
      "Processed frame 496 | Unique pearbags: 32\n",
      "Processed frame 497 | Unique pearbags: 32\n",
      "Processed frame 498 | Unique pearbags: 32\n",
      "Processed frame 499 | Unique pearbags: 32\n",
      "Processed frame 500 | Unique pearbags: 32\n",
      "Processed frame 501 | Unique pearbags: 32\n",
      "Processed frame 502 | Unique pearbags: 32\n",
      "Processed frame 503 | Unique pearbags: 32\n",
      "Processed frame 504 | Unique pearbags: 32\n",
      "Processed frame 505 | Unique pearbags: 32\n",
      "Processed frame 506 | Unique pearbags: 33\n",
      "Processed frame 507 | Unique pearbags: 33\n",
      "Processed frame 508 | Unique pearbags: 33\n",
      "Processed frame 509 | Unique pearbags: 33\n",
      "Processed frame 510 | Unique pearbags: 33\n",
      "Processed frame 511 | Unique pearbags: 33\n",
      "Processed frame 512 | Unique pearbags: 33\n",
      "Processed frame 513 | Unique pearbags: 33\n",
      "Processed frame 514 | Unique pearbags: 33\n",
      "Processed frame 515 | Unique pearbags: 33\n",
      "Processed frame 516 | Unique pearbags: 33\n",
      "Processed frame 517 | Unique pearbags: 33\n",
      "Processed frame 518 | Unique pearbags: 33\n",
      "Processed frame 519 | Unique pearbags: 33\n",
      "Processed frame 520 | Unique pearbags: 33\n",
      "Processed frame 521 | Unique pearbags: 33\n",
      "Processed frame 522 | Unique pearbags: 33\n",
      "Processed frame 523 | Unique pearbags: 33\n",
      "Processed frame 524 | Unique pearbags: 33\n",
      "Processed frame 525 | Unique pearbags: 33\n",
      "Processed frame 526 | Unique pearbags: 33\n",
      "Processed frame 527 | Unique pearbags: 33\n",
      "Processed frame 528 | Unique pearbags: 33\n",
      "Processed frame 529 | Unique pearbags: 34\n",
      "Processed frame 530 | Unique pearbags: 34\n",
      "Processed frame 531 | Unique pearbags: 36\n",
      "Processed frame 532 | Unique pearbags: 36\n",
      "Processed frame 533 | Unique pearbags: 36\n",
      "Processed frame 534 | Unique pearbags: 36\n",
      "Processed frame 535 | Unique pearbags: 36\n",
      "Processed frame 536 | Unique pearbags: 36\n",
      "Processed frame 537 | Unique pearbags: 36\n",
      "Processed frame 538 | Unique pearbags: 36\n",
      "Processed frame 539 | Unique pearbags: 36\n",
      "Processed frame 540 | Unique pearbags: 36\n",
      "Processed frame 541 | Unique pearbags: 36\n",
      "Processed frame 542 | Unique pearbags: 36\n",
      "Processed frame 543 | Unique pearbags: 36\n",
      "Processed frame 544 | Unique pearbags: 37\n",
      "Processed frame 545 | Unique pearbags: 37\n",
      "Processed frame 546 | Unique pearbags: 37\n",
      "Processed frame 547 | Unique pearbags: 37\n",
      "Processed frame 548 | Unique pearbags: 37\n",
      "Processed frame 549 | Unique pearbags: 37\n",
      "Processed frame 550 | Unique pearbags: 37\n",
      "Processed frame 551 | Unique pearbags: 37\n",
      "Processed frame 552 | Unique pearbags: 37\n",
      "Processed frame 553 | Unique pearbags: 37\n",
      "Processed frame 554 | Unique pearbags: 37\n",
      "Processed frame 555 | Unique pearbags: 37\n",
      "Processed frame 556 | Unique pearbags: 37\n",
      "Processed frame 557 | Unique pearbags: 38\n",
      "Processed frame 558 | Unique pearbags: 38\n",
      "Processed frame 559 | Unique pearbags: 38\n",
      "Processed frame 560 | Unique pearbags: 38\n",
      "Processed frame 561 | Unique pearbags: 38\n",
      "Processed frame 562 | Unique pearbags: 38\n",
      "Processed frame 563 | Unique pearbags: 38\n",
      "Processed frame 564 | Unique pearbags: 38\n",
      "Processed frame 565 | Unique pearbags: 38\n",
      "Processed frame 566 | Unique pearbags: 38\n",
      "Processed frame 567 | Unique pearbags: 38\n",
      "Processed frame 568 | Unique pearbags: 38\n",
      "Processed frame 569 | Unique pearbags: 38\n",
      "Processed frame 570 | Unique pearbags: 38\n",
      "Processed frame 571 | Unique pearbags: 38\n",
      "Processed frame 572 | Unique pearbags: 38\n",
      "Processed frame 573 | Unique pearbags: 38\n",
      "Processed frame 574 | Unique pearbags: 38\n",
      "Processed frame 575 | Unique pearbags: 38\n",
      "Processed frame 576 | Unique pearbags: 38\n",
      "Processed frame 577 | Unique pearbags: 38\n",
      "Processed frame 578 | Unique pearbags: 38\n",
      "Processed frame 579 | Unique pearbags: 38\n",
      "Processed frame 580 | Unique pearbags: 38\n",
      "Processed frame 581 | Unique pearbags: 38\n",
      "Processed frame 582 | Unique pearbags: 38\n",
      "Processed frame 583 | Unique pearbags: 38\n",
      "Processed frame 584 | Unique pearbags: 38\n",
      "Processed frame 585 | Unique pearbags: 38\n",
      "Processed frame 586 | Unique pearbags: 38\n",
      "Processed frame 587 | Unique pearbags: 38\n",
      "Processed frame 588 | Unique pearbags: 38\n",
      "Processed frame 589 | Unique pearbags: 38\n",
      "Processed frame 590 | Unique pearbags: 38\n",
      "Processed frame 591 | Unique pearbags: 38\n",
      "Processed frame 592 | Unique pearbags: 38\n",
      "Processed frame 593 | Unique pearbags: 38\n",
      "Processed frame 594 | Unique pearbags: 38\n",
      "Processed frame 595 | Unique pearbags: 38\n",
      "Processed frame 596 | Unique pearbags: 38\n",
      "Processed frame 597 | Unique pearbags: 38\n",
      "Processed frame 598 | Unique pearbags: 38\n",
      "Processed frame 599 | Unique pearbags: 38\n",
      "Processed frame 600 | Unique pearbags: 38\n",
      "Processed frame 601 | Unique pearbags: 38\n",
      "Processed frame 602 | Unique pearbags: 38\n",
      "Processed frame 603 | Unique pearbags: 39\n",
      "Processed frame 604 | Unique pearbags: 39\n",
      "Processed frame 605 | Unique pearbags: 39\n",
      "Processed frame 606 | Unique pearbags: 39\n",
      "Processed frame 607 | Unique pearbags: 39\n",
      "Processed frame 608 | Unique pearbags: 39\n",
      "Processed frame 609 | Unique pearbags: 39\n",
      "Processed frame 610 | Unique pearbags: 39\n",
      "Processed frame 611 | Unique pearbags: 39\n",
      "Processed frame 612 | Unique pearbags: 39\n",
      "Processed frame 613 | Unique pearbags: 39\n",
      "Processed frame 614 | Unique pearbags: 39\n",
      "Processed frame 615 | Unique pearbags: 39\n",
      "Processed frame 616 | Unique pearbags: 39\n",
      "Processed frame 617 | Unique pearbags: 39\n",
      "Processed frame 618 | Unique pearbags: 39\n",
      "Processed frame 619 | Unique pearbags: 39\n",
      "Processed frame 620 | Unique pearbags: 39\n",
      "Processed frame 621 | Unique pearbags: 39\n",
      "Processed frame 622 | Unique pearbags: 39\n",
      "Processed frame 623 | Unique pearbags: 39\n",
      "Processed frame 624 | Unique pearbags: 39\n",
      "Processed frame 625 | Unique pearbags: 39\n",
      "Processed frame 626 | Unique pearbags: 39\n",
      "Processed frame 627 | Unique pearbags: 39\n",
      "Processed frame 628 | Unique pearbags: 39\n",
      "Processed frame 629 | Unique pearbags: 39\n",
      "Processed frame 630 | Unique pearbags: 39\n",
      "Processed frame 631 | Unique pearbags: 39\n",
      "Processed frame 632 | Unique pearbags: 40\n",
      "Processed frame 633 | Unique pearbags: 41\n",
      "Processed frame 634 | Unique pearbags: 41\n",
      "Processed frame 635 | Unique pearbags: 41\n",
      "Processed frame 636 | Unique pearbags: 41\n",
      "Processed frame 637 | Unique pearbags: 41\n",
      "Processed frame 638 | Unique pearbags: 41\n",
      "Processed frame 639 | Unique pearbags: 41\n",
      "Processed frame 640 | Unique pearbags: 41\n",
      "Processed frame 641 | Unique pearbags: 41\n",
      "Processed frame 642 | Unique pearbags: 41\n",
      "Processed frame 643 | Unique pearbags: 41\n",
      "Processed frame 644 | Unique pearbags: 41\n",
      "Processed frame 645 | Unique pearbags: 41\n",
      "Processed frame 646 | Unique pearbags: 41\n",
      "Processed frame 647 | Unique pearbags: 41\n",
      "Processed frame 648 | Unique pearbags: 41\n",
      "Processed frame 649 | Unique pearbags: 41\n",
      "Processed frame 650 | Unique pearbags: 41\n",
      "Processed frame 651 | Unique pearbags: 41\n",
      "Processed frame 652 | Unique pearbags: 41\n",
      "Processed frame 653 | Unique pearbags: 41\n",
      "Processed frame 654 | Unique pearbags: 41\n",
      "Processed frame 655 | Unique pearbags: 41\n",
      "Processed frame 656 | Unique pearbags: 41\n",
      "Processed frame 657 | Unique pearbags: 41\n",
      "Processed frame 658 | Unique pearbags: 41\n",
      "Processed frame 659 | Unique pearbags: 41\n",
      "Processed frame 660 | Unique pearbags: 41\n",
      "Processed frame 661 | Unique pearbags: 41\n",
      "Processed frame 662 | Unique pearbags: 41\n",
      "Processed frame 663 | Unique pearbags: 41\n",
      "Processed frame 664 | Unique pearbags: 41\n",
      "Processed frame 665 | Unique pearbags: 41\n",
      "Processed frame 666 | Unique pearbags: 41\n",
      "Processed frame 667 | Unique pearbags: 41\n",
      "Processed frame 668 | Unique pearbags: 41\n",
      "Processed frame 669 | Unique pearbags: 41\n",
      "Processed frame 670 | Unique pearbags: 41\n",
      "Processed frame 671 | Unique pearbags: 41\n",
      "Processed frame 672 | Unique pearbags: 41\n",
      "Processed frame 673 | Unique pearbags: 41\n",
      "Processed frame 674 | Unique pearbags: 41\n",
      "Processed frame 675 | Unique pearbags: 41\n",
      "Processed frame 676 | Unique pearbags: 41\n",
      "Processed frame 677 | Unique pearbags: 42\n",
      "Processed frame 678 | Unique pearbags: 42\n",
      "Processed frame 679 | Unique pearbags: 42\n",
      "Processed frame 680 | Unique pearbags: 42\n",
      "Processed frame 681 | Unique pearbags: 42\n",
      "Processed frame 682 | Unique pearbags: 42\n",
      "Processed frame 683 | Unique pearbags: 42\n",
      "Processed frame 684 | Unique pearbags: 42\n",
      "Processed frame 685 | Unique pearbags: 42\n",
      "Processed frame 686 | Unique pearbags: 42\n",
      "Processed frame 687 | Unique pearbags: 42\n",
      "Processed frame 688 | Unique pearbags: 42\n",
      "Processed frame 689 | Unique pearbags: 42\n",
      "Processed frame 690 | Unique pearbags: 42\n",
      "Processed frame 691 | Unique pearbags: 42\n",
      "Processed frame 692 | Unique pearbags: 42\n",
      "Processed frame 693 | Unique pearbags: 43\n",
      "Processed frame 694 | Unique pearbags: 43\n",
      "Processed frame 695 | Unique pearbags: 43\n",
      "Processed frame 696 | Unique pearbags: 43\n",
      "Processed frame 697 | Unique pearbags: 43\n",
      "Processed frame 698 | Unique pearbags: 43\n",
      "Processed frame 699 | Unique pearbags: 43\n",
      "Processed frame 700 | Unique pearbags: 43\n",
      "Processed frame 701 | Unique pearbags: 43\n",
      "Processed frame 702 | Unique pearbags: 43\n",
      "Processed frame 703 | Unique pearbags: 43\n",
      "Processed frame 704 | Unique pearbags: 43\n",
      "Processed frame 705 | Unique pearbags: 43\n",
      "Processed frame 706 | Unique pearbags: 43\n",
      "Processed frame 707 | Unique pearbags: 43\n",
      "Processed frame 708 | Unique pearbags: 43\n",
      "Processed frame 709 | Unique pearbags: 43\n",
      "Processed frame 710 | Unique pearbags: 43\n",
      "Processed frame 711 | Unique pearbags: 43\n",
      "Processed frame 712 | Unique pearbags: 43\n",
      "Processed frame 713 | Unique pearbags: 43\n",
      "Processed frame 714 | Unique pearbags: 43\n",
      "Processed frame 715 | Unique pearbags: 43\n",
      "Processed frame 716 | Unique pearbags: 43\n",
      "Processed frame 717 | Unique pearbags: 43\n",
      "Processed frame 718 | Unique pearbags: 43\n",
      "Processed frame 719 | Unique pearbags: 43\n",
      "Processed frame 720 | Unique pearbags: 43\n",
      "Processed frame 721 | Unique pearbags: 43\n",
      "Processed frame 722 | Unique pearbags: 43\n",
      "Processed frame 723 | Unique pearbags: 43\n",
      "Processed frame 724 | Unique pearbags: 43\n",
      "Processed frame 725 | Unique pearbags: 43\n",
      "Processed frame 726 | Unique pearbags: 43\n",
      "Processed frame 727 | Unique pearbags: 43\n",
      "Processed frame 728 | Unique pearbags: 43\n",
      "Processed frame 729 | Unique pearbags: 43\n",
      "Processed frame 730 | Unique pearbags: 43\n",
      "Processed frame 731 | Unique pearbags: 43\n",
      "Processed frame 732 | Unique pearbags: 43\n",
      "Processed frame 733 | Unique pearbags: 43\n",
      "Processed frame 734 | Unique pearbags: 43\n",
      "Processed frame 735 | Unique pearbags: 43\n",
      "Processed frame 736 | Unique pearbags: 43\n",
      "Processed frame 737 | Unique pearbags: 43\n",
      "Processed frame 738 | Unique pearbags: 43\n",
      "Processed frame 739 | Unique pearbags: 43\n",
      "Processed frame 740 | Unique pearbags: 43\n",
      "Processed frame 741 | Unique pearbags: 43\n",
      "Processed frame 742 | Unique pearbags: 43\n",
      "Processed frame 743 | Unique pearbags: 43\n",
      "Processed frame 744 | Unique pearbags: 43\n",
      "Processed frame 745 | Unique pearbags: 43\n",
      "Processed frame 746 | Unique pearbags: 43\n",
      "Processed frame 747 | Unique pearbags: 43\n",
      "Processed frame 748 | Unique pearbags: 43\n",
      "Processed frame 749 | Unique pearbags: 43\n",
      "Processed frame 750 | Unique pearbags: 43\n",
      "Processed frame 751 | Unique pearbags: 43\n",
      "Processed frame 752 | Unique pearbags: 43\n",
      "Processed frame 753 | Unique pearbags: 43\n",
      "Processed frame 754 | Unique pearbags: 43\n",
      "Processed frame 755 | Unique pearbags: 43\n",
      "Processed frame 756 | Unique pearbags: 43\n",
      "Processed frame 757 | Unique pearbags: 43\n",
      "Processed frame 758 | Unique pearbags: 43\n",
      "Processed frame 759 | Unique pearbags: 43\n",
      "Processed frame 760 | Unique pearbags: 43\n",
      "Processed frame 761 | Unique pearbags: 43\n",
      "Processed frame 762 | Unique pearbags: 43\n",
      "Processed frame 763 | Unique pearbags: 43\n",
      "Processed frame 764 | Unique pearbags: 43\n",
      "Processed frame 765 | Unique pearbags: 43\n",
      "Processed frame 766 | Unique pearbags: 43\n",
      "Processed frame 767 | Unique pearbags: 43\n",
      "Processed frame 768 | Unique pearbags: 43\n",
      "Processed frame 769 | Unique pearbags: 43\n",
      "Processed frame 770 | Unique pearbags: 43\n",
      "Processed frame 771 | Unique pearbags: 43\n",
      "Processed frame 772 | Unique pearbags: 43\n",
      "Processed frame 773 | Unique pearbags: 43\n",
      "Processed frame 774 | Unique pearbags: 43\n",
      "Processed frame 775 | Unique pearbags: 43\n",
      "Processed frame 776 | Unique pearbags: 43\n",
      "Processed frame 777 | Unique pearbags: 43\n",
      "Processed frame 778 | Unique pearbags: 43\n",
      "Processed frame 779 | Unique pearbags: 43\n",
      "Processed frame 780 | Unique pearbags: 43\n",
      "Processed frame 781 | Unique pearbags: 43\n",
      "Processed frame 782 | Unique pearbags: 43\n",
      "Processed frame 783 | Unique pearbags: 43\n",
      "Processed frame 784 | Unique pearbags: 43\n",
      "Processed frame 785 | Unique pearbags: 44\n",
      "Processed frame 786 | Unique pearbags: 44\n",
      "Processed frame 787 | Unique pearbags: 45\n",
      "Processed frame 788 | Unique pearbags: 45\n",
      "Processed frame 789 | Unique pearbags: 45\n",
      "Processed frame 790 | Unique pearbags: 45\n",
      "Processed frame 791 | Unique pearbags: 45\n",
      "Processed frame 792 | Unique pearbags: 45\n",
      "Processed frame 793 | Unique pearbags: 45\n",
      "Processed frame 794 | Unique pearbags: 45\n",
      "Processed frame 795 | Unique pearbags: 45\n",
      "Processed frame 796 | Unique pearbags: 45\n",
      "Processed frame 797 | Unique pearbags: 45\n",
      "Processed frame 798 | Unique pearbags: 45\n",
      "Processed frame 799 | Unique pearbags: 45\n",
      "Processed frame 800 | Unique pearbags: 45\n",
      "Processed frame 801 | Unique pearbags: 46\n",
      "Processed frame 802 | Unique pearbags: 46\n",
      "Processed frame 803 | Unique pearbags: 46\n",
      "Processed frame 804 | Unique pearbags: 46\n",
      "Processed frame 805 | Unique pearbags: 46\n",
      "Processed frame 806 | Unique pearbags: 46\n",
      "Processed frame 807 | Unique pearbags: 46\n",
      "Processed frame 808 | Unique pearbags: 46\n",
      "Processed frame 809 | Unique pearbags: 46\n",
      "Processed frame 810 | Unique pearbags: 46\n",
      "Processed frame 811 | Unique pearbags: 46\n",
      "Processed frame 812 | Unique pearbags: 46\n",
      "Processed frame 813 | Unique pearbags: 46\n",
      "Processed frame 814 | Unique pearbags: 46\n",
      "Processed frame 815 | Unique pearbags: 46\n",
      "Processed frame 816 | Unique pearbags: 46\n",
      "Processed frame 817 | Unique pearbags: 46\n",
      "Processed frame 818 | Unique pearbags: 46\n",
      "Processed frame 819 | Unique pearbags: 46\n",
      "Processed frame 820 | Unique pearbags: 46\n",
      "Processed frame 821 | Unique pearbags: 46\n",
      "Processed frame 822 | Unique pearbags: 46\n",
      "Processed frame 823 | Unique pearbags: 46\n",
      "Processed frame 824 | Unique pearbags: 46\n",
      "Processed frame 825 | Unique pearbags: 46\n",
      "Processed frame 826 | Unique pearbags: 46\n",
      "Processed frame 827 | Unique pearbags: 46\n",
      "Processed frame 828 | Unique pearbags: 46\n",
      "Processed frame 829 | Unique pearbags: 46\n",
      "Processed frame 830 | Unique pearbags: 46\n",
      "Processed frame 831 | Unique pearbags: 46\n",
      "Processed frame 832 | Unique pearbags: 46\n",
      "Processed frame 833 | Unique pearbags: 46\n",
      "Processed frame 834 | Unique pearbags: 46\n",
      "Processed frame 835 | Unique pearbags: 46\n",
      "Processed frame 836 | Unique pearbags: 46\n",
      "Processed frame 837 | Unique pearbags: 46\n",
      "Processed frame 838 | Unique pearbags: 46\n",
      "Processed frame 839 | Unique pearbags: 47\n",
      "Processed frame 840 | Unique pearbags: 47\n",
      "Processed frame 841 | Unique pearbags: 47\n",
      "Processed frame 842 | Unique pearbags: 47\n",
      "Processed frame 843 | Unique pearbags: 47\n",
      "Processed frame 844 | Unique pearbags: 47\n",
      "Processed frame 845 | Unique pearbags: 47\n",
      "Processed frame 846 | Unique pearbags: 47\n",
      "Processed frame 847 | Unique pearbags: 47\n",
      "Processed frame 848 | Unique pearbags: 47\n",
      "Processed frame 849 | Unique pearbags: 47\n",
      "Processed frame 850 | Unique pearbags: 47\n",
      "Processed frame 851 | Unique pearbags: 47\n",
      "Processed frame 852 | Unique pearbags: 47\n",
      "Processed frame 853 | Unique pearbags: 47\n",
      "Processed frame 854 | Unique pearbags: 47\n",
      "Processed frame 855 | Unique pearbags: 47\n",
      "Processed frame 856 | Unique pearbags: 47\n",
      "Processed frame 857 | Unique pearbags: 48\n",
      "Processed frame 858 | Unique pearbags: 48\n",
      "Processed frame 859 | Unique pearbags: 48\n",
      "Processed frame 860 | Unique pearbags: 48\n",
      "Processed frame 861 | Unique pearbags: 48\n",
      "Processed frame 862 | Unique pearbags: 48\n",
      "Processed frame 863 | Unique pearbags: 48\n",
      "Processed frame 864 | Unique pearbags: 48\n",
      "Processed frame 865 | Unique pearbags: 48\n",
      "Processed frame 866 | Unique pearbags: 48\n",
      "Processed frame 867 | Unique pearbags: 48\n",
      "Processed frame 868 | Unique pearbags: 48\n",
      "Processed frame 869 | Unique pearbags: 48\n",
      "Processed frame 870 | Unique pearbags: 48\n",
      "Processed frame 871 | Unique pearbags: 48\n",
      "Processed frame 872 | Unique pearbags: 48\n",
      "Processed frame 873 | Unique pearbags: 48\n",
      "Processed frame 874 | Unique pearbags: 48\n",
      "Processed frame 875 | Unique pearbags: 48\n",
      "Processed frame 876 | Unique pearbags: 48\n",
      "Processed frame 877 | Unique pearbags: 48\n",
      "Processed frame 878 | Unique pearbags: 48\n",
      "Processed frame 879 | Unique pearbags: 48\n",
      "Processed frame 880 | Unique pearbags: 48\n",
      "Processed frame 881 | Unique pearbags: 48\n",
      "Processed frame 882 | Unique pearbags: 48\n",
      "Processed frame 883 | Unique pearbags: 48\n",
      "Processed frame 884 | Unique pearbags: 48\n",
      "Processed frame 885 | Unique pearbags: 48\n",
      "Processed frame 886 | Unique pearbags: 48\n",
      "Processed frame 887 | Unique pearbags: 49\n",
      "Processed frame 888 | Unique pearbags: 49\n",
      "Processed frame 889 | Unique pearbags: 49\n",
      "Processed frame 890 | Unique pearbags: 49\n",
      "Processed frame 891 | Unique pearbags: 49\n",
      "Processed frame 892 | Unique pearbags: 49\n",
      "Processed frame 893 | Unique pearbags: 49\n",
      "Processed frame 894 | Unique pearbags: 49\n",
      "Processed frame 895 | Unique pearbags: 49\n",
      "Processed frame 896 | Unique pearbags: 49\n",
      "Processed frame 897 | Unique pearbags: 49\n",
      "Processed frame 898 | Unique pearbags: 49\n",
      "Processed frame 899 | Unique pearbags: 49\n",
      "Processed frame 900 | Unique pearbags: 49\n",
      "Processed frame 901 | Unique pearbags: 49\n",
      "Processed frame 902 | Unique pearbags: 49\n",
      "Processed frame 903 | Unique pearbags: 49\n",
      "Processed frame 904 | Unique pearbags: 49\n",
      "Processed frame 905 | Unique pearbags: 49\n",
      "Processed frame 906 | Unique pearbags: 49\n",
      "Processed frame 907 | Unique pearbags: 49\n",
      "Processed frame 908 | Unique pearbags: 49\n",
      "Processed frame 909 | Unique pearbags: 49\n",
      "Processed frame 910 | Unique pearbags: 49\n",
      "Processed frame 911 | Unique pearbags: 49\n",
      "Processed frame 912 | Unique pearbags: 49\n",
      "Processed frame 913 | Unique pearbags: 49\n",
      "Processed frame 914 | Unique pearbags: 49\n",
      "Processed frame 915 | Unique pearbags: 49\n",
      "Processed frame 916 | Unique pearbags: 49\n",
      "Processed frame 917 | Unique pearbags: 49\n",
      "Processed frame 918 | Unique pearbags: 49\n",
      "Processed frame 919 | Unique pearbags: 49\n",
      "Processed frame 920 | Unique pearbags: 49\n",
      "Processed frame 921 | Unique pearbags: 49\n",
      "Processed frame 922 | Unique pearbags: 49\n",
      "Processed frame 923 | Unique pearbags: 49\n",
      "Processed frame 924 | Unique pearbags: 49\n",
      "Processed frame 925 | Unique pearbags: 50\n",
      "Processed frame 926 | Unique pearbags: 50\n",
      "Processed frame 927 | Unique pearbags: 50\n",
      "Processed frame 928 | Unique pearbags: 51\n",
      "Processed frame 929 | Unique pearbags: 51\n",
      "Processed frame 930 | Unique pearbags: 51\n",
      "Processed frame 931 | Unique pearbags: 51\n",
      "Processed frame 932 | Unique pearbags: 51\n",
      "Processed frame 933 | Unique pearbags: 51\n",
      "Processed frame 934 | Unique pearbags: 52\n",
      "Processed frame 935 | Unique pearbags: 52\n",
      "Processed frame 936 | Unique pearbags: 52\n",
      "Processed frame 937 | Unique pearbags: 52\n",
      "Processed frame 938 | Unique pearbags: 52\n",
      "Processed frame 939 | Unique pearbags: 52\n",
      "Processed frame 940 | Unique pearbags: 52\n",
      "Processed frame 941 | Unique pearbags: 52\n",
      "Processed frame 942 | Unique pearbags: 52\n",
      "Processed frame 943 | Unique pearbags: 52\n",
      "Processed frame 944 | Unique pearbags: 52\n",
      "Processed frame 945 | Unique pearbags: 52\n",
      "Processed frame 946 | Unique pearbags: 52\n",
      "Processed frame 947 | Unique pearbags: 52\n",
      "Processed frame 948 | Unique pearbags: 52\n",
      "Processed frame 949 | Unique pearbags: 52\n",
      "Processed frame 950 | Unique pearbags: 52\n",
      "Processed frame 951 | Unique pearbags: 52\n",
      "Processed frame 952 | Unique pearbags: 52\n",
      "Processed frame 953 | Unique pearbags: 52\n",
      "Processed frame 954 | Unique pearbags: 52\n",
      "Processed frame 955 | Unique pearbags: 52\n",
      "Processed frame 956 | Unique pearbags: 52\n",
      "Processed frame 957 | Unique pearbags: 52\n",
      "Processed frame 958 | Unique pearbags: 52\n",
      "Processed frame 959 | Unique pearbags: 52\n",
      "Processed frame 960 | Unique pearbags: 52\n",
      "Processed frame 961 | Unique pearbags: 52\n",
      "Processed frame 962 | Unique pearbags: 52\n",
      "Processed frame 963 | Unique pearbags: 52\n",
      "Processed frame 964 | Unique pearbags: 52\n",
      "Processed frame 965 | Unique pearbags: 52\n",
      "Processed frame 966 | Unique pearbags: 52\n",
      "Processed frame 967 | Unique pearbags: 52\n",
      "Processed frame 968 | Unique pearbags: 52\n",
      "Processed frame 969 | Unique pearbags: 52\n",
      "Processed frame 970 | Unique pearbags: 52\n",
      "Processed frame 971 | Unique pearbags: 52\n",
      "Processed frame 972 | Unique pearbags: 52\n",
      "Processed frame 973 | Unique pearbags: 52\n",
      "Processed frame 974 | Unique pearbags: 52\n",
      "Processed frame 975 | Unique pearbags: 52\n",
      "Processed frame 976 | Unique pearbags: 52\n",
      "Processed frame 977 | Unique pearbags: 52\n",
      "Processed frame 978 | Unique pearbags: 52\n",
      "Processed frame 979 | Unique pearbags: 52\n",
      "Processed frame 980 | Unique pearbags: 52\n",
      "Processed frame 981 | Unique pearbags: 53\n",
      "Processed frame 982 | Unique pearbags: 53\n",
      "Processed frame 983 | Unique pearbags: 53\n",
      "Processed frame 984 | Unique pearbags: 53\n",
      "Processed frame 985 | Unique pearbags: 53\n",
      "Processed frame 986 | Unique pearbags: 53\n",
      "Processed frame 987 | Unique pearbags: 53\n",
      "Processed frame 988 | Unique pearbags: 53\n",
      "Processed frame 989 | Unique pearbags: 53\n",
      "Processed frame 990 | Unique pearbags: 53\n",
      "Processed frame 991 | Unique pearbags: 53\n",
      "Processed frame 992 | Unique pearbags: 53\n",
      "Processed frame 993 | Unique pearbags: 53\n",
      "Processed frame 994 | Unique pearbags: 53\n",
      "Processed frame 995 | Unique pearbags: 53\n",
      "Processed frame 996 | Unique pearbags: 53\n",
      "Processed frame 997 | Unique pearbags: 53\n",
      "Processed frame 998 | Unique pearbags: 53\n",
      "Processed frame 999 | Unique pearbags: 53\n",
      "Processed frame 1000 | Unique pearbags: 53\n",
      "Processed frame 1001 | Unique pearbags: 53\n",
      "Processed frame 1002 | Unique pearbags: 53\n",
      "Processed frame 1003 | Unique pearbags: 53\n",
      "Processed frame 1004 | Unique pearbags: 53\n",
      "Processed frame 1005 | Unique pearbags: 53\n",
      "Processed frame 1006 | Unique pearbags: 53\n",
      "Processed frame 1007 | Unique pearbags: 53\n",
      "Processed frame 1008 | Unique pearbags: 53\n",
      "Processed frame 1009 | Unique pearbags: 53\n",
      "Processed frame 1010 | Unique pearbags: 53\n",
      "Processed frame 1011 | Unique pearbags: 53\n",
      "Processed frame 1012 | Unique pearbags: 53\n",
      "Processed frame 1013 | Unique pearbags: 53\n",
      "Processed frame 1014 | Unique pearbags: 53\n",
      "Processed frame 1015 | Unique pearbags: 53\n",
      "Processed frame 1016 | Unique pearbags: 53\n",
      "Processed frame 1017 | Unique pearbags: 53\n",
      "Processed frame 1018 | Unique pearbags: 53\n",
      "Processed frame 1019 | Unique pearbags: 53\n",
      "Processed frame 1020 | Unique pearbags: 53\n",
      "Processed frame 1021 | Unique pearbags: 53\n",
      "Processed frame 1022 | Unique pearbags: 53\n",
      "Processed frame 1023 | Unique pearbags: 53\n",
      "Processed frame 1024 | Unique pearbags: 53\n",
      "Processed frame 1025 | Unique pearbags: 53\n",
      "Processed frame 1026 | Unique pearbags: 53\n",
      "Processed frame 1027 | Unique pearbags: 53\n",
      "Processed frame 1028 | Unique pearbags: 53\n",
      "Processed frame 1029 | Unique pearbags: 53\n",
      "Processed frame 1030 | Unique pearbags: 54\n",
      "Processed frame 1031 | Unique pearbags: 54\n",
      "Processed frame 1032 | Unique pearbags: 54\n",
      "Processed frame 1033 | Unique pearbags: 54\n",
      "Processed frame 1034 | Unique pearbags: 54\n",
      "Processed frame 1035 | Unique pearbags: 54\n",
      "Processed frame 1036 | Unique pearbags: 54\n",
      "Processed frame 1037 | Unique pearbags: 54\n",
      "Processed frame 1038 | Unique pearbags: 54\n",
      "Processed frame 1039 | Unique pearbags: 54\n",
      "Processed frame 1040 | Unique pearbags: 54\n",
      "Processed frame 1041 | Unique pearbags: 54\n",
      "Processed frame 1042 | Unique pearbags: 54\n",
      "Processed frame 1043 | Unique pearbags: 54\n",
      "Processed frame 1044 | Unique pearbags: 54\n",
      "Processed frame 1045 | Unique pearbags: 54\n",
      "Processed frame 1046 | Unique pearbags: 54\n",
      "Processed frame 1047 | Unique pearbags: 54\n",
      "Processed frame 1048 | Unique pearbags: 54\n",
      "Processed frame 1049 | Unique pearbags: 54\n",
      "Processed frame 1050 | Unique pearbags: 54\n",
      "Processed frame 1051 | Unique pearbags: 54\n",
      "Processed frame 1052 | Unique pearbags: 54\n",
      "Processed frame 1053 | Unique pearbags: 54\n",
      "Processed frame 1054 | Unique pearbags: 54\n",
      "Processed frame 1055 | Unique pearbags: 54\n",
      "Processed frame 1056 | Unique pearbags: 54\n",
      "Processed frame 1057 | Unique pearbags: 54\n",
      "Processed frame 1058 | Unique pearbags: 54\n",
      "Processed frame 1059 | Unique pearbags: 54\n",
      "Processed frame 1060 | Unique pearbags: 54\n",
      "Processed frame 1061 | Unique pearbags: 54\n",
      "Processed frame 1062 | Unique pearbags: 54\n",
      "Processed frame 1063 | Unique pearbags: 54\n",
      "Processed frame 1064 | Unique pearbags: 54\n",
      "Processed frame 1065 | Unique pearbags: 54\n",
      "Processed frame 1066 | Unique pearbags: 54\n",
      "Processed frame 1067 | Unique pearbags: 54\n",
      "Processed frame 1068 | Unique pearbags: 54\n",
      "Processed frame 1069 | Unique pearbags: 54\n",
      "Processed frame 1070 | Unique pearbags: 54\n",
      "Processed frame 1071 | Unique pearbags: 54\n",
      "Processed frame 1072 | Unique pearbags: 54\n",
      "Processed frame 1073 | Unique pearbags: 54\n",
      "Processed frame 1074 | Unique pearbags: 55\n",
      "Processed frame 1075 | Unique pearbags: 55\n",
      "Processed frame 1076 | Unique pearbags: 55\n",
      "Processed frame 1077 | Unique pearbags: 55\n",
      "Processed frame 1078 | Unique pearbags: 55\n",
      "Processed frame 1079 | Unique pearbags: 55\n",
      "Processed frame 1080 | Unique pearbags: 55\n",
      "Processed frame 1081 | Unique pearbags: 55\n",
      "Processed frame 1082 | Unique pearbags: 55\n",
      "Processed frame 1083 | Unique pearbags: 55\n",
      "Processed frame 1084 | Unique pearbags: 55\n",
      "Processed frame 1085 | Unique pearbags: 55\n",
      "Processed frame 1086 | Unique pearbags: 55\n",
      "Processed frame 1087 | Unique pearbags: 55\n",
      "Processed frame 1088 | Unique pearbags: 55\n",
      "Processed frame 1089 | Unique pearbags: 55\n",
      "Processed frame 1090 | Unique pearbags: 55\n",
      "Processed frame 1091 | Unique pearbags: 55\n",
      "Processed frame 1092 | Unique pearbags: 55\n",
      "Processed frame 1093 | Unique pearbags: 55\n",
      "Processed frame 1094 | Unique pearbags: 55\n",
      "Processed frame 1095 | Unique pearbags: 55\n",
      "Processed frame 1096 | Unique pearbags: 55\n",
      "Processed frame 1097 | Unique pearbags: 55\n",
      "Processed frame 1098 | Unique pearbags: 55\n",
      "Processed frame 1099 | Unique pearbags: 55\n",
      "Processed frame 1100 | Unique pearbags: 55\n",
      "Processed frame 1101 | Unique pearbags: 55\n",
      "Processed frame 1102 | Unique pearbags: 55\n",
      "Processed frame 1103 | Unique pearbags: 55\n",
      "Processed frame 1104 | Unique pearbags: 55\n",
      "Processed frame 1105 | Unique pearbags: 55\n",
      "Processed frame 1106 | Unique pearbags: 55\n",
      "Processed frame 1107 | Unique pearbags: 55\n",
      "Processed frame 1108 | Unique pearbags: 55\n",
      "Processed frame 1109 | Unique pearbags: 55\n",
      "Processed frame 1110 | Unique pearbags: 55\n",
      "Processed frame 1111 | Unique pearbags: 55\n",
      "Processed frame 1112 | Unique pearbags: 56\n",
      "Processed frame 1113 | Unique pearbags: 56\n",
      "Processed frame 1114 | Unique pearbags: 56\n",
      "Processed frame 1115 | Unique pearbags: 56\n",
      "Processed frame 1116 | Unique pearbags: 56\n",
      "Processed frame 1117 | Unique pearbags: 56\n",
      "Processed frame 1118 | Unique pearbags: 56\n",
      "Processed frame 1119 | Unique pearbags: 56\n",
      "Processed frame 1120 | Unique pearbags: 56\n",
      "Processed frame 1121 | Unique pearbags: 57\n",
      "Processed frame 1122 | Unique pearbags: 57\n",
      "Processed frame 1123 | Unique pearbags: 57\n",
      "Processed frame 1124 | Unique pearbags: 57\n",
      "Processed frame 1125 | Unique pearbags: 57\n",
      "Processed frame 1126 | Unique pearbags: 57\n",
      "Processed frame 1127 | Unique pearbags: 57\n",
      "Processed frame 1128 | Unique pearbags: 57\n",
      "Processed frame 1129 | Unique pearbags: 57\n",
      "Processed frame 1130 | Unique pearbags: 57\n",
      "Processed frame 1131 | Unique pearbags: 57\n",
      "Processed frame 1132 | Unique pearbags: 57\n",
      "Processed frame 1133 | Unique pearbags: 57\n",
      "Processed frame 1134 | Unique pearbags: 57\n",
      "Processed frame 1135 | Unique pearbags: 57\n",
      "Processed frame 1136 | Unique pearbags: 57\n",
      "Processed frame 1137 | Unique pearbags: 57\n",
      "Processed frame 1138 | Unique pearbags: 57\n",
      "Processed frame 1139 | Unique pearbags: 57\n",
      "Processed frame 1140 | Unique pearbags: 57\n",
      "Processed frame 1141 | Unique pearbags: 57\n",
      "Processed frame 1142 | Unique pearbags: 57\n",
      "Processed frame 1143 | Unique pearbags: 57\n",
      "Processed frame 1144 | Unique pearbags: 57\n",
      "Processed frame 1145 | Unique pearbags: 57\n",
      "Processed frame 1146 | Unique pearbags: 57\n",
      "Processed frame 1147 | Unique pearbags: 57\n",
      "Processed frame 1148 | Unique pearbags: 57\n",
      "Processed frame 1149 | Unique pearbags: 57\n",
      "Processed frame 1150 | Unique pearbags: 57\n",
      "Processed frame 1151 | Unique pearbags: 57\n",
      "Processed frame 1152 | Unique pearbags: 57\n",
      "Processed frame 1153 | Unique pearbags: 57\n",
      "Processed frame 1154 | Unique pearbags: 57\n",
      "Processed frame 1155 | Unique pearbags: 57\n",
      "Processed frame 1156 | Unique pearbags: 57\n",
      "Processed frame 1157 | Unique pearbags: 57\n",
      "Processed frame 1158 | Unique pearbags: 57\n",
      "Processed frame 1159 | Unique pearbags: 58\n",
      "Processed frame 1160 | Unique pearbags: 58\n",
      "Processed frame 1161 | Unique pearbags: 58\n",
      "Processed frame 1162 | Unique pearbags: 58\n",
      "Processed frame 1163 | Unique pearbags: 58\n",
      "Processed frame 1164 | Unique pearbags: 58\n",
      "Processed frame 1165 | Unique pearbags: 58\n",
      "Processed frame 1166 | Unique pearbags: 58\n",
      "Processed frame 1167 | Unique pearbags: 58\n",
      "Processed frame 1168 | Unique pearbags: 58\n",
      "Processed frame 1169 | Unique pearbags: 58\n",
      "Processed frame 1170 | Unique pearbags: 58\n",
      "Processed frame 1171 | Unique pearbags: 58\n",
      "Processed frame 1172 | Unique pearbags: 58\n",
      "Processed frame 1173 | Unique pearbags: 58\n",
      "Processed frame 1174 | Unique pearbags: 58\n",
      "Processed frame 1175 | Unique pearbags: 58\n",
      "Processed frame 1176 | Unique pearbags: 58\n",
      "Processed frame 1177 | Unique pearbags: 58\n",
      "Processed frame 1178 | Unique pearbags: 58\n",
      "Processed frame 1179 | Unique pearbags: 58\n",
      "Processed frame 1180 | Unique pearbags: 58\n",
      "Processed frame 1181 | Unique pearbags: 58\n",
      "Processed frame 1182 | Unique pearbags: 58\n",
      "Processed frame 1183 | Unique pearbags: 58\n",
      "Processed frame 1184 | Unique pearbags: 58\n",
      "Processed frame 1185 | Unique pearbags: 58\n",
      "Processed frame 1186 | Unique pearbags: 58\n",
      "Processed frame 1187 | Unique pearbags: 58\n",
      "Processed frame 1188 | Unique pearbags: 58\n",
      "Processed frame 1189 | Unique pearbags: 58\n",
      "Processed frame 1190 | Unique pearbags: 58\n",
      "Processed frame 1191 | Unique pearbags: 58\n",
      "Processed frame 1192 | Unique pearbags: 58\n",
      "Processed frame 1193 | Unique pearbags: 58\n",
      "Processed frame 1194 | Unique pearbags: 58\n",
      "Processed frame 1195 | Unique pearbags: 58\n",
      "Processed frame 1196 | Unique pearbags: 58\n",
      "Processed frame 1197 | Unique pearbags: 58\n",
      "Processed frame 1198 | Unique pearbags: 58\n",
      "Processed frame 1199 | Unique pearbags: 58\n",
      "Processed frame 1200 | Unique pearbags: 58\n",
      "Processed frame 1201 | Unique pearbags: 58\n",
      "Processed frame 1202 | Unique pearbags: 58\n",
      "Processed frame 1203 | Unique pearbags: 58\n",
      "Processed frame 1204 | Unique pearbags: 58\n",
      "Processed frame 1205 | Unique pearbags: 58\n",
      "Processed frame 1206 | Unique pearbags: 58\n",
      "Processed frame 1207 | Unique pearbags: 58\n",
      "Processed frame 1208 | Unique pearbags: 58\n",
      "Processed frame 1209 | Unique pearbags: 58\n",
      "Processed frame 1210 | Unique pearbags: 58\n",
      "Processed frame 1211 | Unique pearbags: 58\n",
      "Processed frame 1212 | Unique pearbags: 58\n",
      "Processed frame 1213 | Unique pearbags: 58\n",
      "Processed frame 1214 | Unique pearbags: 58\n",
      "Processed frame 1215 | Unique pearbags: 58\n",
      "Processed frame 1216 | Unique pearbags: 58\n",
      "Processed frame 1217 | Unique pearbags: 58\n",
      "Processed frame 1218 | Unique pearbags: 58\n",
      "Processed frame 1219 | Unique pearbags: 58\n",
      "Processed frame 1220 | Unique pearbags: 58\n",
      "Processed frame 1221 | Unique pearbags: 58\n",
      "Processed frame 1222 | Unique pearbags: 58\n",
      "Processed frame 1223 | Unique pearbags: 58\n",
      "Processed frame 1224 | Unique pearbags: 58\n",
      "Processed frame 1225 | Unique pearbags: 58\n",
      "Processed frame 1226 | Unique pearbags: 58\n",
      "Processed frame 1227 | Unique pearbags: 58\n",
      "Processed frame 1228 | Unique pearbags: 58\n",
      "Processed frame 1229 | Unique pearbags: 58\n",
      "Processed frame 1230 | Unique pearbags: 58\n",
      "Processed frame 1231 | Unique pearbags: 58\n",
      "Processed frame 1232 | Unique pearbags: 58\n",
      "Processed frame 1233 | Unique pearbags: 58\n",
      "Processed frame 1234 | Unique pearbags: 58\n",
      "Processed frame 1235 | Unique pearbags: 58\n",
      "Processed frame 1236 | Unique pearbags: 58\n",
      "Processed frame 1237 | Unique pearbags: 58\n",
      "Processed frame 1238 | Unique pearbags: 58\n",
      "Processed frame 1239 | Unique pearbags: 58\n",
      "Processed frame 1240 | Unique pearbags: 58\n",
      "Processed frame 1241 | Unique pearbags: 58\n",
      "Processed frame 1242 | Unique pearbags: 58\n",
      "Processed frame 1243 | Unique pearbags: 58\n",
      "Processed frame 1244 | Unique pearbags: 58\n",
      "Processed frame 1245 | Unique pearbags: 58\n",
      "Processed frame 1246 | Unique pearbags: 58\n",
      "Processed frame 1247 | Unique pearbags: 58\n",
      "Processed frame 1248 | Unique pearbags: 58\n",
      "Processed frame 1249 | Unique pearbags: 58\n",
      "Processed frame 1250 | Unique pearbags: 58\n",
      "Processed frame 1251 | Unique pearbags: 58\n",
      "Processed frame 1252 | Unique pearbags: 58\n",
      "Processed frame 1253 | Unique pearbags: 58\n",
      "Processed frame 1254 | Unique pearbags: 58\n",
      "Processed frame 1255 | Unique pearbags: 58\n",
      "Processed frame 1256 | Unique pearbags: 58\n",
      "Processed frame 1257 | Unique pearbags: 59\n",
      "Processed frame 1258 | Unique pearbags: 59\n",
      "Processed frame 1259 | Unique pearbags: 59\n",
      "Processed frame 1260 | Unique pearbags: 59\n",
      "Processed frame 1261 | Unique pearbags: 59\n",
      "Processed frame 1262 | Unique pearbags: 59\n",
      "Processed frame 1263 | Unique pearbags: 60\n",
      "Processed frame 1264 | Unique pearbags: 60\n",
      "Processed frame 1265 | Unique pearbags: 60\n",
      "Processed frame 1266 | Unique pearbags: 60\n",
      "Processed frame 1267 | Unique pearbags: 60\n",
      "Processed frame 1268 | Unique pearbags: 60\n",
      "Processed frame 1269 | Unique pearbags: 60\n",
      "Processed frame 1270 | Unique pearbags: 60\n",
      "Processed frame 1271 | Unique pearbags: 60\n",
      "Processed frame 1272 | Unique pearbags: 60\n",
      "Processed frame 1273 | Unique pearbags: 60\n",
      "Processed frame 1274 | Unique pearbags: 60\n",
      "Processed frame 1275 | Unique pearbags: 60\n",
      "Processed frame 1276 | Unique pearbags: 60\n",
      "Processed frame 1277 | Unique pearbags: 60\n",
      "Processed frame 1278 | Unique pearbags: 60\n",
      "Processed frame 1279 | Unique pearbags: 60\n",
      "Processed frame 1280 | Unique pearbags: 60\n",
      "Processed frame 1281 | Unique pearbags: 60\n",
      "Processed frame 1282 | Unique pearbags: 60\n",
      "Processed frame 1283 | Unique pearbags: 60\n",
      "Processed frame 1284 | Unique pearbags: 60\n",
      "Processed frame 1285 | Unique pearbags: 60\n",
      "Processed frame 1286 | Unique pearbags: 60\n",
      "Processed frame 1287 | Unique pearbags: 60\n",
      "Processed frame 1288 | Unique pearbags: 60\n",
      "Processed frame 1289 | Unique pearbags: 60\n",
      "Processed frame 1290 | Unique pearbags: 60\n",
      "Processed frame 1291 | Unique pearbags: 60\n",
      "Processed frame 1292 | Unique pearbags: 60\n",
      "Processed frame 1293 | Unique pearbags: 60\n",
      "Processed frame 1294 | Unique pearbags: 60\n",
      "Processed frame 1295 | Unique pearbags: 60\n",
      "Processed frame 1296 | Unique pearbags: 60\n",
      "Processed frame 1297 | Unique pearbags: 60\n",
      "Processed frame 1298 | Unique pearbags: 60\n",
      "Processed frame 1299 | Unique pearbags: 60\n",
      "Processed frame 1300 | Unique pearbags: 60\n",
      "Processed frame 1301 | Unique pearbags: 60\n",
      "Processed frame 1302 | Unique pearbags: 61\n",
      "Processed frame 1303 | Unique pearbags: 61\n",
      "Processed frame 1304 | Unique pearbags: 61\n",
      "Processed frame 1305 | Unique pearbags: 62\n",
      "Processed frame 1306 | Unique pearbags: 62\n",
      "Processed frame 1307 | Unique pearbags: 62\n",
      "Processed frame 1308 | Unique pearbags: 62\n",
      "Processed frame 1309 | Unique pearbags: 62\n",
      "Processed frame 1310 | Unique pearbags: 62\n",
      "Processed frame 1311 | Unique pearbags: 62\n",
      "Processed frame 1312 | Unique pearbags: 62\n",
      "Processed frame 1313 | Unique pearbags: 62\n",
      "Processed frame 1314 | Unique pearbags: 62\n",
      "Processed frame 1315 | Unique pearbags: 62\n",
      "Processed frame 1316 | Unique pearbags: 62\n",
      "Processed frame 1317 | Unique pearbags: 62\n",
      "Processed frame 1318 | Unique pearbags: 62\n",
      "Processed frame 1319 | Unique pearbags: 62\n",
      "Processed frame 1320 | Unique pearbags: 62\n",
      "Processed frame 1321 | Unique pearbags: 62\n",
      "Processed frame 1322 | Unique pearbags: 62\n",
      "Processed frame 1323 | Unique pearbags: 62\n",
      "Processed frame 1324 | Unique pearbags: 62\n",
      "Processed frame 1325 | Unique pearbags: 62\n",
      "Processed frame 1326 | Unique pearbags: 62\n",
      "Processed frame 1327 | Unique pearbags: 62\n",
      "Processed frame 1328 | Unique pearbags: 62\n",
      "Processed frame 1329 | Unique pearbags: 62\n",
      "Processed frame 1330 | Unique pearbags: 62\n",
      "Processed frame 1331 | Unique pearbags: 62\n",
      "Processed frame 1332 | Unique pearbags: 62\n",
      "Processed frame 1333 | Unique pearbags: 62\n",
      "Processed frame 1334 | Unique pearbags: 62\n",
      "Processed frame 1335 | Unique pearbags: 62\n",
      "Processed frame 1336 | Unique pearbags: 62\n",
      "Processed frame 1337 | Unique pearbags: 62\n",
      "Processed frame 1338 | Unique pearbags: 62\n",
      "Processed frame 1339 | Unique pearbags: 63\n",
      "Processed frame 1340 | Unique pearbags: 63\n",
      "Processed frame 1341 | Unique pearbags: 63\n",
      "Processed frame 1342 | Unique pearbags: 63\n",
      "Processed frame 1343 | Unique pearbags: 63\n",
      "Processed frame 1344 | Unique pearbags: 63\n",
      "Processed frame 1345 | Unique pearbags: 63\n",
      "Processed frame 1346 | Unique pearbags: 63\n",
      "Processed frame 1347 | Unique pearbags: 63\n",
      "Processed frame 1348 | Unique pearbags: 63\n",
      "Processed frame 1349 | Unique pearbags: 63\n",
      "Processed frame 1350 | Unique pearbags: 63\n",
      "Processed frame 1351 | Unique pearbags: 63\n",
      "Processed frame 1352 | Unique pearbags: 63\n",
      "Processed frame 1353 | Unique pearbags: 63\n",
      "Processed frame 1354 | Unique pearbags: 63\n",
      "Processed frame 1355 | Unique pearbags: 63\n",
      "Processed frame 1356 | Unique pearbags: 63\n",
      "Processed frame 1357 | Unique pearbags: 63\n",
      "Processed frame 1358 | Unique pearbags: 63\n",
      "Processed frame 1359 | Unique pearbags: 63\n",
      "Processed frame 1360 | Unique pearbags: 63\n",
      "Processed frame 1361 | Unique pearbags: 63\n",
      "Processed frame 1362 | Unique pearbags: 63\n",
      "Processed frame 1363 | Unique pearbags: 63\n",
      "Processed frame 1364 | Unique pearbags: 64\n",
      "Processed frame 1365 | Unique pearbags: 64\n",
      "Processed frame 1366 | Unique pearbags: 64\n",
      "Processed frame 1367 | Unique pearbags: 64\n",
      "Processed frame 1368 | Unique pearbags: 64\n",
      "Processed frame 1369 | Unique pearbags: 64\n",
      "Processed frame 1370 | Unique pearbags: 64\n",
      "Processed frame 1371 | Unique pearbags: 64\n",
      "Processed frame 1372 | Unique pearbags: 65\n",
      "Processed frame 1373 | Unique pearbags: 65\n",
      "Processed frame 1374 | Unique pearbags: 67\n",
      "Processed frame 1375 | Unique pearbags: 67\n",
      "Processed frame 1376 | Unique pearbags: 67\n",
      "Processed frame 1377 | Unique pearbags: 67\n",
      "Processed frame 1378 | Unique pearbags: 67\n",
      "Processed frame 1379 | Unique pearbags: 67\n",
      "Processed frame 1380 | Unique pearbags: 67\n",
      "Processed frame 1381 | Unique pearbags: 67\n",
      "Processed frame 1382 | Unique pearbags: 67\n",
      "Processed frame 1383 | Unique pearbags: 67\n",
      "Processed frame 1384 | Unique pearbags: 67\n",
      "Processed frame 1385 | Unique pearbags: 67\n",
      "Processed frame 1386 | Unique pearbags: 67\n",
      "Processed frame 1387 | Unique pearbags: 67\n",
      "Processed frame 1388 | Unique pearbags: 67\n",
      "Processed frame 1389 | Unique pearbags: 67\n",
      "Processed frame 1390 | Unique pearbags: 67\n",
      "Processed frame 1391 | Unique pearbags: 67\n",
      "Processed frame 1392 | Unique pearbags: 67\n",
      "Processed frame 1393 | Unique pearbags: 67\n",
      "Processed frame 1394 | Unique pearbags: 67\n",
      "Processed frame 1395 | Unique pearbags: 67\n",
      "Processed frame 1396 | Unique pearbags: 67\n",
      "Processed frame 1397 | Unique pearbags: 67\n",
      "Processed frame 1398 | Unique pearbags: 67\n",
      "Processed frame 1399 | Unique pearbags: 67\n",
      "Processed frame 1400 | Unique pearbags: 67\n",
      "Processed frame 1401 | Unique pearbags: 67\n",
      "Processed frame 1402 | Unique pearbags: 67\n",
      "Processed frame 1403 | Unique pearbags: 67\n",
      "Processed frame 1404 | Unique pearbags: 67\n",
      "Processed frame 1405 | Unique pearbags: 67\n",
      "Processed frame 1406 | Unique pearbags: 67\n",
      "Processed frame 1407 | Unique pearbags: 67\n",
      "Processed frame 1408 | Unique pearbags: 67\n",
      "Processed frame 1409 | Unique pearbags: 67\n",
      "Processed frame 1410 | Unique pearbags: 67\n",
      "Processed frame 1411 | Unique pearbags: 67\n",
      "Processed frame 1412 | Unique pearbags: 67\n",
      "Processed frame 1413 | Unique pearbags: 67\n",
      "Processed frame 1414 | Unique pearbags: 67\n",
      "Processed frame 1415 | Unique pearbags: 67\n",
      "Processed frame 1416 | Unique pearbags: 67\n",
      "Processed frame 1417 | Unique pearbags: 67\n",
      "Processed frame 1418 | Unique pearbags: 67\n",
      "Processed frame 1419 | Unique pearbags: 67\n",
      "Processed frame 1420 | Unique pearbags: 67\n",
      "Processed frame 1421 | Unique pearbags: 67\n",
      "Processed frame 1422 | Unique pearbags: 67\n",
      "Processed frame 1423 | Unique pearbags: 67\n",
      "Processed frame 1424 | Unique pearbags: 67\n",
      "Processed frame 1425 | Unique pearbags: 67\n",
      "Processed frame 1426 | Unique pearbags: 67\n",
      "Processed frame 1427 | Unique pearbags: 67\n",
      "Processed frame 1428 | Unique pearbags: 67\n",
      "Processed frame 1429 | Unique pearbags: 67\n",
      "Processed frame 1430 | Unique pearbags: 67\n",
      "Processed frame 1431 | Unique pearbags: 67\n",
      "Processed frame 1432 | Unique pearbags: 67\n",
      "Processed frame 1433 | Unique pearbags: 67\n",
      "Processed frame 1434 | Unique pearbags: 67\n",
      "Processed frame 1435 | Unique pearbags: 67\n",
      "Processed frame 1436 | Unique pearbags: 67\n",
      "Processed frame 1437 | Unique pearbags: 67\n",
      "Processed frame 1438 | Unique pearbags: 68\n",
      "Processed frame 1439 | Unique pearbags: 68\n",
      "Processed frame 1440 | Unique pearbags: 68\n",
      "Processed frame 1441 | Unique pearbags: 68\n",
      "Processed frame 1442 | Unique pearbags: 68\n",
      "Processed frame 1443 | Unique pearbags: 68\n",
      "Processed frame 1444 | Unique pearbags: 68\n",
      "Processed frame 1445 | Unique pearbags: 68\n",
      "Processed frame 1446 | Unique pearbags: 68\n",
      "Processed frame 1447 | Unique pearbags: 68\n",
      "Processed frame 1448 | Unique pearbags: 68\n",
      "Processed frame 1449 | Unique pearbags: 68\n",
      "Processed frame 1450 | Unique pearbags: 68\n",
      "Processed frame 1451 | Unique pearbags: 68\n",
      "Processed frame 1452 | Unique pearbags: 68\n",
      "Processed frame 1453 | Unique pearbags: 68\n",
      "Processed frame 1454 | Unique pearbags: 68\n",
      "Processed frame 1455 | Unique pearbags: 68\n",
      "Processed frame 1456 | Unique pearbags: 68\n",
      "Processed frame 1457 | Unique pearbags: 68\n",
      "Processed frame 1458 | Unique pearbags: 68\n",
      "Processed frame 1459 | Unique pearbags: 68\n",
      "Processed frame 1460 | Unique pearbags: 68\n",
      "Processed frame 1461 | Unique pearbags: 68\n",
      "Processed frame 1462 | Unique pearbags: 68\n",
      "Processed frame 1463 | Unique pearbags: 68\n",
      "Processed frame 1464 | Unique pearbags: 68\n",
      "Processed frame 1465 | Unique pearbags: 68\n",
      "Processed frame 1466 | Unique pearbags: 68\n",
      "Processed frame 1467 | Unique pearbags: 68\n",
      "Processed frame 1468 | Unique pearbags: 68\n",
      "Processed frame 1469 | Unique pearbags: 68\n",
      "Processed frame 1470 | Unique pearbags: 68\n",
      "Processed frame 1471 | Unique pearbags: 68\n",
      "Processed frame 1472 | Unique pearbags: 68\n",
      "Processed frame 1473 | Unique pearbags: 68\n",
      "Processed frame 1474 | Unique pearbags: 68\n",
      "Processed frame 1475 | Unique pearbags: 68\n",
      "Processed frame 1476 | Unique pearbags: 68\n",
      "Processed frame 1477 | Unique pearbags: 68\n",
      "Processed frame 1478 | Unique pearbags: 68\n",
      "Processed frame 1479 | Unique pearbags: 68\n",
      "Processed frame 1480 | Unique pearbags: 68\n",
      "Processed frame 1481 | Unique pearbags: 68\n",
      "Processed frame 1482 | Unique pearbags: 68\n",
      "Processed frame 1483 | Unique pearbags: 68\n",
      "Processed frame 1484 | Unique pearbags: 68\n",
      "Processed frame 1485 | Unique pearbags: 68\n",
      "Processed frame 1486 | Unique pearbags: 68\n",
      "Processed frame 1487 | Unique pearbags: 68\n",
      "Processed frame 1488 | Unique pearbags: 68\n",
      "Processed frame 1489 | Unique pearbags: 68\n",
      "Processed frame 1490 | Unique pearbags: 68\n",
      "Processed frame 1491 | Unique pearbags: 68\n",
      "Processed frame 1492 | Unique pearbags: 68\n",
      "Processed frame 1493 | Unique pearbags: 68\n",
      "Processed frame 1494 | Unique pearbags: 68\n",
      "Processed frame 1495 | Unique pearbags: 68\n",
      "Processed frame 1496 | Unique pearbags: 68\n",
      "Processed frame 1497 | Unique pearbags: 69\n",
      "Processed frame 1498 | Unique pearbags: 70\n",
      "Processed frame 1499 | Unique pearbags: 70\n",
      "Processed frame 1500 | Unique pearbags: 70\n",
      "Processed frame 1501 | Unique pearbags: 70\n",
      "Processed frame 1502 | Unique pearbags: 70\n",
      "Processed frame 1503 | Unique pearbags: 70\n",
      "Processed frame 1504 | Unique pearbags: 70\n",
      "Processed frame 1505 | Unique pearbags: 70\n",
      "Processed frame 1506 | Unique pearbags: 70\n",
      "Processed frame 1507 | Unique pearbags: 70\n",
      "Processed frame 1508 | Unique pearbags: 70\n",
      "Processed frame 1509 | Unique pearbags: 70\n",
      "Processed frame 1510 | Unique pearbags: 70\n",
      "Processed frame 1511 | Unique pearbags: 70\n",
      "Processed frame 1512 | Unique pearbags: 70\n",
      "Processed frame 1513 | Unique pearbags: 70\n",
      "Processed frame 1514 | Unique pearbags: 70\n",
      "Processed frame 1515 | Unique pearbags: 70\n",
      "Processed frame 1516 | Unique pearbags: 70\n",
      "Processed frame 1517 | Unique pearbags: 70\n",
      "Processed frame 1518 | Unique pearbags: 70\n",
      "Processed frame 1519 | Unique pearbags: 70\n",
      "Processed frame 1520 | Unique pearbags: 70\n",
      "Processed frame 1521 | Unique pearbags: 70\n",
      "Processed frame 1522 | Unique pearbags: 70\n",
      "Processed frame 1523 | Unique pearbags: 70\n",
      "Processed frame 1524 | Unique pearbags: 70\n",
      "Processed frame 1525 | Unique pearbags: 70\n",
      "Processed frame 1526 | Unique pearbags: 70\n",
      "Processed frame 1527 | Unique pearbags: 70\n",
      "Processed frame 1528 | Unique pearbags: 70\n",
      "Processed frame 1529 | Unique pearbags: 70\n",
      "Processed frame 1530 | Unique pearbags: 70\n",
      "Processed frame 1531 | Unique pearbags: 70\n",
      "Processed frame 1532 | Unique pearbags: 70\n",
      "Processed frame 1533 | Unique pearbags: 70\n",
      "Processed frame 1534 | Unique pearbags: 70\n",
      "Processed frame 1535 | Unique pearbags: 70\n",
      "Processed frame 1536 | Unique pearbags: 70\n",
      "Processed frame 1537 | Unique pearbags: 71\n",
      "Processed frame 1538 | Unique pearbags: 71\n",
      "Processed frame 1539 | Unique pearbags: 71\n",
      "Processed frame 1540 | Unique pearbags: 71\n",
      "Processed frame 1541 | Unique pearbags: 71\n",
      "Processed frame 1542 | Unique pearbags: 71\n",
      "Processed frame 1543 | Unique pearbags: 71\n",
      "Processed frame 1544 | Unique pearbags: 71\n",
      "Processed frame 1545 | Unique pearbags: 71\n",
      "Processed frame 1546 | Unique pearbags: 71\n",
      "Processed frame 1547 | Unique pearbags: 71\n",
      "Processed frame 1548 | Unique pearbags: 71\n",
      "Processed frame 1549 | Unique pearbags: 71\n",
      "Processed frame 1550 | Unique pearbags: 71\n",
      "Processed frame 1551 | Unique pearbags: 71\n",
      "Processed frame 1552 | Unique pearbags: 71\n",
      "Processed frame 1553 | Unique pearbags: 71\n",
      "Processed frame 1554 | Unique pearbags: 71\n",
      "Processed frame 1555 | Unique pearbags: 71\n",
      "Processed frame 1556 | Unique pearbags: 71\n",
      "Processed frame 1557 | Unique pearbags: 71\n",
      "Processed frame 1558 | Unique pearbags: 71\n",
      "Processed frame 1559 | Unique pearbags: 71\n",
      "Processed frame 1560 | Unique pearbags: 71\n",
      "Processed frame 1561 | Unique pearbags: 71\n",
      "Processed frame 1562 | Unique pearbags: 71\n",
      "Processed frame 1563 | Unique pearbags: 71\n",
      "Processed frame 1564 | Unique pearbags: 71\n",
      "Processed frame 1565 | Unique pearbags: 71\n",
      "Processed frame 1566 | Unique pearbags: 71\n",
      "Processed frame 1567 | Unique pearbags: 71\n",
      "Processed frame 1568 | Unique pearbags: 71\n",
      "Processed frame 1569 | Unique pearbags: 71\n",
      "Processed frame 1570 | Unique pearbags: 71\n",
      "Processed frame 1571 | Unique pearbags: 71\n",
      "Processed frame 1572 | Unique pearbags: 71\n",
      "Processed frame 1573 | Unique pearbags: 71\n",
      "Processed frame 1574 | Unique pearbags: 71\n",
      "Processed frame 1575 | Unique pearbags: 71\n",
      "Processed frame 1576 | Unique pearbags: 72\n",
      "Processed frame 1577 | Unique pearbags: 72\n",
      "Processed frame 1578 | Unique pearbags: 72\n",
      "Processed frame 1579 | Unique pearbags: 72\n",
      "Processed frame 1580 | Unique pearbags: 72\n",
      "Processed frame 1581 | Unique pearbags: 72\n",
      "Processed frame 1582 | Unique pearbags: 72\n",
      "Processed frame 1583 | Unique pearbags: 72\n",
      "Processed frame 1584 | Unique pearbags: 72\n",
      "Processed frame 1585 | Unique pearbags: 72\n",
      "Processed frame 1586 | Unique pearbags: 72\n",
      "Processed frame 1587 | Unique pearbags: 72\n",
      "Processed frame 1588 | Unique pearbags: 74\n",
      "Processed frame 1589 | Unique pearbags: 74\n",
      "Processed frame 1590 | Unique pearbags: 74\n",
      "Processed frame 1591 | Unique pearbags: 74\n",
      "Processed frame 1592 | Unique pearbags: 74\n",
      "Processed frame 1593 | Unique pearbags: 74\n",
      "Processed frame 1594 | Unique pearbags: 74\n",
      "Processed frame 1595 | Unique pearbags: 74\n",
      "Processed frame 1596 | Unique pearbags: 74\n",
      "Processed frame 1597 | Unique pearbags: 74\n",
      "Processed frame 1598 | Unique pearbags: 74\n",
      "Processed frame 1599 | Unique pearbags: 74\n",
      "Processed frame 1600 | Unique pearbags: 74\n",
      "Processed frame 1601 | Unique pearbags: 74\n",
      "Processed frame 1602 | Unique pearbags: 74\n",
      "Processed frame 1603 | Unique pearbags: 74\n",
      "Processed frame 1604 | Unique pearbags: 74\n",
      "Processed frame 1605 | Unique pearbags: 74\n",
      "Processed frame 1606 | Unique pearbags: 74\n",
      "Processed frame 1607 | Unique pearbags: 74\n",
      "Processed frame 1608 | Unique pearbags: 74\n",
      "Processed frame 1609 | Unique pearbags: 74\n",
      "Processed frame 1610 | Unique pearbags: 74\n",
      "Processed frame 1611 | Unique pearbags: 74\n",
      "Processed frame 1612 | Unique pearbags: 74\n",
      "Processed frame 1613 | Unique pearbags: 74\n",
      "Processed frame 1614 | Unique pearbags: 74\n",
      "Processed frame 1615 | Unique pearbags: 74\n",
      "Processed frame 1616 | Unique pearbags: 74\n",
      "Processed frame 1617 | Unique pearbags: 74\n",
      "Processed frame 1618 | Unique pearbags: 74\n",
      "Processed frame 1619 | Unique pearbags: 74\n",
      "Processed frame 1620 | Unique pearbags: 74\n",
      "Processed frame 1621 | Unique pearbags: 74\n",
      "Processed frame 1622 | Unique pearbags: 74\n",
      "Processed frame 1623 | Unique pearbags: 74\n",
      "Processed frame 1624 | Unique pearbags: 74\n",
      "Processed frame 1625 | Unique pearbags: 74\n",
      "Processed frame 1626 | Unique pearbags: 74\n",
      "Processed frame 1627 | Unique pearbags: 74\n",
      "Processed frame 1628 | Unique pearbags: 74\n",
      "Processed frame 1629 | Unique pearbags: 74\n",
      "Processed frame 1630 | Unique pearbags: 74\n",
      "Processed frame 1631 | Unique pearbags: 74\n",
      "Processed frame 1632 | Unique pearbags: 74\n",
      "Processed frame 1633 | Unique pearbags: 74\n",
      "Processed frame 1634 | Unique pearbags: 74\n",
      "Processed frame 1635 | Unique pearbags: 74\n",
      "Processed frame 1636 | Unique pearbags: 74\n",
      "Processed frame 1637 | Unique pearbags: 74\n",
      "Processed frame 1638 | Unique pearbags: 74\n",
      "Processed frame 1639 | Unique pearbags: 74\n",
      "Processed frame 1640 | Unique pearbags: 74\n",
      "Processed frame 1641 | Unique pearbags: 74\n",
      "Processed frame 1642 | Unique pearbags: 74\n",
      "Processed frame 1643 | Unique pearbags: 76\n",
      "Processed frame 1644 | Unique pearbags: 76\n",
      "Processed frame 1645 | Unique pearbags: 77\n",
      "Processed frame 1646 | Unique pearbags: 77\n",
      "Processed frame 1647 | Unique pearbags: 77\n",
      "Processed frame 1648 | Unique pearbags: 78\n",
      "Processed frame 1649 | Unique pearbags: 78\n",
      "Processed frame 1650 | Unique pearbags: 78\n",
      "Processed frame 1651 | Unique pearbags: 78\n",
      "Processed frame 1652 | Unique pearbags: 78\n",
      "Processed frame 1653 | Unique pearbags: 78\n",
      "Processed frame 1654 | Unique pearbags: 78\n",
      "Processed frame 1655 | Unique pearbags: 78\n",
      "Processed frame 1656 | Unique pearbags: 78\n",
      "Processed frame 1657 | Unique pearbags: 78\n",
      "Processed frame 1658 | Unique pearbags: 78\n",
      "Processed frame 1659 | Unique pearbags: 78\n",
      "Processed frame 1660 | Unique pearbags: 78\n",
      "Processed frame 1661 | Unique pearbags: 78\n",
      "Processed frame 1662 | Unique pearbags: 78\n",
      "Processed frame 1663 | Unique pearbags: 78\n",
      "Processed frame 1664 | Unique pearbags: 78\n",
      "Processed frame 1665 | Unique pearbags: 78\n",
      "Processed frame 1666 | Unique pearbags: 78\n",
      "Processed frame 1667 | Unique pearbags: 78\n",
      "Processed frame 1668 | Unique pearbags: 78\n",
      "Processed frame 1669 | Unique pearbags: 78\n",
      "Processed frame 1670 | Unique pearbags: 78\n",
      "Processed frame 1671 | Unique pearbags: 78\n",
      "Processed frame 1672 | Unique pearbags: 78\n",
      "Processed frame 1673 | Unique pearbags: 78\n",
      "Processed frame 1674 | Unique pearbags: 78\n",
      "Processed frame 1675 | Unique pearbags: 78\n",
      "Processed frame 1676 | Unique pearbags: 79\n",
      "Processed frame 1677 | Unique pearbags: 79\n",
      "Processed frame 1678 | Unique pearbags: 79\n",
      "Processed frame 1679 | Unique pearbags: 79\n",
      "Processed frame 1680 | Unique pearbags: 79\n",
      "Processed frame 1681 | Unique pearbags: 79\n",
      "Processed frame 1682 | Unique pearbags: 79\n",
      "Processed frame 1683 | Unique pearbags: 80\n",
      "Processed frame 1684 | Unique pearbags: 80\n",
      "Processed frame 1685 | Unique pearbags: 80\n",
      "Processed frame 1686 | Unique pearbags: 80\n",
      "Processed frame 1687 | Unique pearbags: 80\n",
      "Processed frame 1688 | Unique pearbags: 80\n",
      "Processed frame 1689 | Unique pearbags: 80\n",
      "Processed frame 1690 | Unique pearbags: 80\n",
      "Processed frame 1691 | Unique pearbags: 80\n",
      "Processed frame 1692 | Unique pearbags: 80\n",
      "Processed frame 1693 | Unique pearbags: 80\n",
      "Processed frame 1694 | Unique pearbags: 80\n",
      "Processed frame 1695 | Unique pearbags: 80\n",
      "Processed frame 1696 | Unique pearbags: 80\n",
      "Processed frame 1697 | Unique pearbags: 80\n",
      "Processed frame 1698 | Unique pearbags: 80\n",
      "Processed frame 1699 | Unique pearbags: 80\n",
      "Processed frame 1700 | Unique pearbags: 80\n",
      "Processed frame 1701 | Unique pearbags: 81\n",
      "Processed frame 1702 | Unique pearbags: 81\n",
      "Processed frame 1703 | Unique pearbags: 81\n",
      "Processed frame 1704 | Unique pearbags: 81\n",
      "Processed frame 1705 | Unique pearbags: 81\n",
      "Processed frame 1706 | Unique pearbags: 81\n",
      "Processed frame 1707 | Unique pearbags: 81\n",
      "Processed frame 1708 | Unique pearbags: 81\n",
      "Processed frame 1709 | Unique pearbags: 81\n",
      "Processed frame 1710 | Unique pearbags: 81\n",
      "Processed frame 1711 | Unique pearbags: 81\n",
      "Processed frame 1712 | Unique pearbags: 81\n",
      "Processed frame 1713 | Unique pearbags: 81\n",
      "Processed frame 1714 | Unique pearbags: 81\n",
      "Processed frame 1715 | Unique pearbags: 81\n",
      "Processed frame 1716 | Unique pearbags: 81\n",
      "Processed frame 1717 | Unique pearbags: 81\n",
      "Processed frame 1718 | Unique pearbags: 81\n",
      "Processed frame 1719 | Unique pearbags: 81\n",
      "Processed frame 1720 | Unique pearbags: 81\n",
      "Processed frame 1721 | Unique pearbags: 81\n",
      "Processed frame 1722 | Unique pearbags: 81\n",
      "Processed frame 1723 | Unique pearbags: 81\n",
      "Processed frame 1724 | Unique pearbags: 81\n",
      "Processed frame 1725 | Unique pearbags: 81\n",
      "Processed frame 1726 | Unique pearbags: 81\n",
      "Processed frame 1727 | Unique pearbags: 81\n",
      "Processed frame 1728 | Unique pearbags: 82\n",
      "Processed frame 1729 | Unique pearbags: 82\n",
      "Processed frame 1730 | Unique pearbags: 82\n",
      "Processed frame 1731 | Unique pearbags: 82\n",
      "Processed frame 1732 | Unique pearbags: 82\n",
      "Processed frame 1733 | Unique pearbags: 82\n",
      "Processed frame 1734 | Unique pearbags: 82\n",
      "Processed frame 1735 | Unique pearbags: 82\n",
      "Processed frame 1736 | Unique pearbags: 82\n",
      "Processed frame 1737 | Unique pearbags: 82\n",
      "Processed frame 1738 | Unique pearbags: 82\n",
      "Processed frame 1739 | Unique pearbags: 82\n",
      "Processed frame 1740 | Unique pearbags: 82\n",
      "Processed frame 1741 | Unique pearbags: 82\n",
      "Processed frame 1742 | Unique pearbags: 82\n",
      "Processed frame 1743 | Unique pearbags: 82\n",
      "Processed frame 1744 | Unique pearbags: 82\n",
      "Processed frame 1745 | Unique pearbags: 82\n",
      "Processed frame 1746 | Unique pearbags: 82\n",
      "Processed frame 1747 | Unique pearbags: 82\n",
      "Processed frame 1748 | Unique pearbags: 82\n",
      "Processed frame 1749 | Unique pearbags: 82\n",
      "Processed frame 1750 | Unique pearbags: 82\n",
      "Processed frame 1751 | Unique pearbags: 82\n",
      "Processed frame 1752 | Unique pearbags: 82\n",
      "Processed frame 1753 | Unique pearbags: 82\n",
      "Processed frame 1754 | Unique pearbags: 82\n",
      "Processed frame 1755 | Unique pearbags: 82\n",
      "Processed frame 1756 | Unique pearbags: 82\n",
      "Processed frame 1757 | Unique pearbags: 82\n",
      "Processed frame 1758 | Unique pearbags: 82\n",
      "Processed frame 1759 | Unique pearbags: 82\n",
      "Processed frame 1760 | Unique pearbags: 82\n",
      "Processed frame 1761 | Unique pearbags: 82\n",
      "Processed frame 1762 | Unique pearbags: 82\n",
      "Processed frame 1763 | Unique pearbags: 82\n",
      "Processed frame 1764 | Unique pearbags: 82\n",
      "Processed frame 1765 | Unique pearbags: 82\n",
      "Processed frame 1766 | Unique pearbags: 82\n",
      "Processed frame 1767 | Unique pearbags: 82\n",
      "Processed frame 1768 | Unique pearbags: 82\n",
      "Processed frame 1769 | Unique pearbags: 82\n",
      "Processed frame 1770 | Unique pearbags: 82\n",
      "Processed frame 1771 | Unique pearbags: 82\n",
      "Processed frame 1772 | Unique pearbags: 82\n",
      "Processed frame 1773 | Unique pearbags: 82\n",
      "Processed frame 1774 | Unique pearbags: 82\n",
      "Processed frame 1775 | Unique pearbags: 82\n",
      "Processed frame 1776 | Unique pearbags: 82\n",
      "Processed frame 1777 | Unique pearbags: 82\n",
      "Processed frame 1778 | Unique pearbags: 82\n",
      "Processed frame 1779 | Unique pearbags: 82\n",
      "Processed frame 1780 | Unique pearbags: 82\n",
      "Processed frame 1781 | Unique pearbags: 82\n",
      "Processed frame 1782 | Unique pearbags: 82\n",
      "Processed frame 1783 | Unique pearbags: 82\n",
      "Processed frame 1784 | Unique pearbags: 82\n",
      "Processed frame 1785 | Unique pearbags: 82\n",
      "Processed frame 1786 | Unique pearbags: 82\n",
      "Processed frame 1787 | Unique pearbags: 82\n",
      "Processed frame 1788 | Unique pearbags: 82\n",
      "Processed frame 1789 | Unique pearbags: 87\n",
      "Processed frame 1790 | Unique pearbags: 87\n",
      "Processed frame 1791 | Unique pearbags: 87\n",
      "Processed frame 1792 | Unique pearbags: 87\n",
      "Processed frame 1793 | Unique pearbags: 87\n",
      "Processed frame 1794 | Unique pearbags: 87\n",
      "Processed frame 1795 | Unique pearbags: 87\n",
      "Processed frame 1796 | Unique pearbags: 87\n",
      "Processed frame 1797 | Unique pearbags: 87\n",
      "Processed frame 1798 | Unique pearbags: 87\n",
      "Processed frame 1799 | Unique pearbags: 87\n",
      "Processed frame 1800 | Unique pearbags: 87\n",
      "Processed frame 1801 | Unique pearbags: 87\n",
      "Processed frame 1802 | Unique pearbags: 87\n",
      "Processed frame 1803 | Unique pearbags: 87\n",
      "Processed frame 1804 | Unique pearbags: 87\n",
      "Processed frame 1805 | Unique pearbags: 87\n",
      "Processed frame 1806 | Unique pearbags: 87\n",
      "Processed frame 1807 | Unique pearbags: 87\n",
      "Processed frame 1808 | Unique pearbags: 87\n",
      "Processed frame 1809 | Unique pearbags: 87\n",
      "Processed frame 1810 | Unique pearbags: 87\n",
      "Processed frame 1811 | Unique pearbags: 87\n",
      "Processed frame 1812 | Unique pearbags: 87\n",
      "Processed frame 1813 | Unique pearbags: 88\n",
      "Processed frame 1814 | Unique pearbags: 88\n",
      "Processed frame 1815 | Unique pearbags: 88\n",
      "Processed frame 1816 | Unique pearbags: 88\n",
      "Processed frame 1817 | Unique pearbags: 88\n",
      "Processed frame 1818 | Unique pearbags: 88\n",
      "Processed frame 1819 | Unique pearbags: 88\n",
      "Processed frame 1820 | Unique pearbags: 88\n",
      "Processed frame 1821 | Unique pearbags: 88\n",
      "Processed frame 1822 | Unique pearbags: 88\n",
      "Processed frame 1823 | Unique pearbags: 88\n",
      "Processed frame 1824 | Unique pearbags: 88\n",
      "Processed frame 1825 | Unique pearbags: 88\n",
      "Processed frame 1826 | Unique pearbags: 88\n",
      "Processed frame 1827 | Unique pearbags: 88\n",
      "Processed frame 1828 | Unique pearbags: 88\n",
      "Processed frame 1829 | Unique pearbags: 88\n",
      "Processed frame 1830 | Unique pearbags: 88\n",
      "Processed frame 1831 | Unique pearbags: 89\n",
      "Processed frame 1832 | Unique pearbags: 89\n",
      "Processed frame 1833 | Unique pearbags: 89\n",
      "Processed frame 1834 | Unique pearbags: 89\n",
      "Processed frame 1835 | Unique pearbags: 89\n",
      "Processed frame 1836 | Unique pearbags: 89\n",
      "Processed frame 1837 | Unique pearbags: 89\n",
      "Processed frame 1838 | Unique pearbags: 89\n",
      "Processed frame 1839 | Unique pearbags: 89\n",
      "Processed frame 1840 | Unique pearbags: 89\n",
      "Processed frame 1841 | Unique pearbags: 89\n",
      "Processed frame 1842 | Unique pearbags: 89\n",
      "Processed frame 1843 | Unique pearbags: 89\n",
      "Processed frame 1844 | Unique pearbags: 89\n",
      "Processed frame 1845 | Unique pearbags: 90\n",
      "Processed frame 1846 | Unique pearbags: 91\n",
      "Processed frame 1847 | Unique pearbags: 91\n",
      "Processed frame 1848 | Unique pearbags: 91\n",
      "Processed frame 1849 | Unique pearbags: 91\n",
      "Processed frame 1850 | Unique pearbags: 91\n",
      "Processed frame 1851 | Unique pearbags: 91\n",
      "Processed frame 1852 | Unique pearbags: 91\n",
      "Processed frame 1853 | Unique pearbags: 92\n",
      "Processed frame 1854 | Unique pearbags: 92\n",
      "Processed frame 1855 | Unique pearbags: 92\n",
      "Processed frame 1856 | Unique pearbags: 92\n",
      "Processed frame 1857 | Unique pearbags: 92\n",
      "Processed frame 1858 | Unique pearbags: 92\n",
      "Processed frame 1859 | Unique pearbags: 93\n",
      "Processed frame 1860 | Unique pearbags: 93\n",
      "Processed frame 1861 | Unique pearbags: 93\n",
      "Processed frame 1862 | Unique pearbags: 94\n",
      "Processed frame 1863 | Unique pearbags: 94\n",
      "Processed frame 1864 | Unique pearbags: 94\n",
      "Processed frame 1865 | Unique pearbags: 94\n",
      "Processed frame 1866 | Unique pearbags: 95\n",
      "Processed frame 1867 | Unique pearbags: 95\n",
      "Processed frame 1868 | Unique pearbags: 95\n",
      "Processed frame 1869 | Unique pearbags: 95\n",
      "Processed frame 1870 | Unique pearbags: 95\n",
      "Processed frame 1871 | Unique pearbags: 95\n",
      "Processed frame 1872 | Unique pearbags: 95\n",
      "Processed frame 1873 | Unique pearbags: 95\n",
      "Processed frame 1874 | Unique pearbags: 95\n",
      "Processed frame 1875 | Unique pearbags: 95\n",
      "Processed frame 1876 | Unique pearbags: 95\n",
      "Processed frame 1877 | Unique pearbags: 95\n",
      "Processed frame 1878 | Unique pearbags: 95\n",
      "Processed frame 1879 | Unique pearbags: 95\n",
      "Processed frame 1880 | Unique pearbags: 95\n",
      "Processed frame 1881 | Unique pearbags: 95\n",
      "Processed frame 1882 | Unique pearbags: 95\n",
      "Processed frame 1883 | Unique pearbags: 95\n",
      "Processed frame 1884 | Unique pearbags: 95\n",
      "Processed frame 1885 | Unique pearbags: 95\n",
      "Processed frame 1886 | Unique pearbags: 95\n",
      "Processed frame 1887 | Unique pearbags: 95\n",
      "Processed frame 1888 | Unique pearbags: 95\n",
      "Processed frame 1889 | Unique pearbags: 96\n",
      "Processed frame 1890 | Unique pearbags: 96\n",
      "Processed frame 1891 | Unique pearbags: 97\n",
      "Processed frame 1892 | Unique pearbags: 97\n",
      "Processed frame 1893 | Unique pearbags: 97\n",
      "Processed frame 1894 | Unique pearbags: 97\n",
      "Processed frame 1895 | Unique pearbags: 98\n",
      "Processed frame 1896 | Unique pearbags: 98\n",
      "Processed frame 1897 | Unique pearbags: 98\n",
      "Processed frame 1898 | Unique pearbags: 98\n",
      "Processed frame 1899 | Unique pearbags: 98\n",
      "Processed frame 1900 | Unique pearbags: 98\n",
      "Processed frame 1901 | Unique pearbags: 98\n",
      "Processed frame 1902 | Unique pearbags: 98\n",
      "Processed frame 1903 | Unique pearbags: 98\n",
      "Processed frame 1904 | Unique pearbags: 98\n",
      "Processed frame 1905 | Unique pearbags: 98\n",
      "Processed frame 1906 | Unique pearbags: 98\n",
      "Processed frame 1907 | Unique pearbags: 98\n",
      "Processed frame 1908 | Unique pearbags: 98\n",
      "Processed frame 1909 | Unique pearbags: 98\n",
      "Processed frame 1910 | Unique pearbags: 98\n",
      "Processed frame 1911 | Unique pearbags: 98\n",
      "Processed frame 1912 | Unique pearbags: 98\n",
      "Processed frame 1913 | Unique pearbags: 98\n",
      "Processed frame 1914 | Unique pearbags: 98\n",
      "Processed frame 1915 | Unique pearbags: 98\n",
      "Processed frame 1916 | Unique pearbags: 98\n",
      "Processed frame 1917 | Unique pearbags: 98\n",
      "Processed frame 1918 | Unique pearbags: 98\n",
      "Processed frame 1919 | Unique pearbags: 98\n",
      "Processed frame 1920 | Unique pearbags: 98\n",
      "Processed frame 1921 | Unique pearbags: 98\n",
      "Processed frame 1922 | Unique pearbags: 98\n",
      "Processed frame 1923 | Unique pearbags: 98\n",
      "Processed frame 1924 | Unique pearbags: 98\n",
      "Processed frame 1925 | Unique pearbags: 98\n",
      "Processed frame 1926 | Unique pearbags: 98\n",
      "Processed frame 1927 | Unique pearbags: 98\n",
      "Processed frame 1928 | Unique pearbags: 98\n",
      "Processed frame 1929 | Unique pearbags: 98\n",
      "Processed frame 1930 | Unique pearbags: 98\n",
      "Processed frame 1931 | Unique pearbags: 98\n",
      "Processed frame 1932 | Unique pearbags: 98\n",
      "Processed frame 1933 | Unique pearbags: 98\n",
      "Processed frame 1934 | Unique pearbags: 98\n",
      "Processed frame 1935 | Unique pearbags: 98\n",
      "Processed frame 1936 | Unique pearbags: 98\n",
      "Processed frame 1937 | Unique pearbags: 98\n",
      "Processed frame 1938 | Unique pearbags: 98\n",
      "Processed frame 1939 | Unique pearbags: 98\n",
      "Processed frame 1940 | Unique pearbags: 99\n",
      "Processed frame 1941 | Unique pearbags: 99\n",
      "Processed frame 1942 | Unique pearbags: 99\n",
      "Processed frame 1943 | Unique pearbags: 100\n",
      "Processed frame 1944 | Unique pearbags: 100\n",
      "Processed frame 1945 | Unique pearbags: 100\n",
      "Processed frame 1946 | Unique pearbags: 100\n",
      "Processed frame 1947 | Unique pearbags: 101\n",
      "Processed frame 1948 | Unique pearbags: 101\n",
      "Processed frame 1949 | Unique pearbags: 101\n",
      "Processed frame 1950 | Unique pearbags: 101\n",
      "Processed frame 1951 | Unique pearbags: 101\n",
      "Processed frame 1952 | Unique pearbags: 103\n",
      "Processed frame 1953 | Unique pearbags: 103\n",
      "Processed frame 1954 | Unique pearbags: 103\n",
      "Processed frame 1955 | Unique pearbags: 103\n",
      "Processed frame 1956 | Unique pearbags: 103\n",
      "Processed frame 1957 | Unique pearbags: 103\n",
      "Processed frame 1958 | Unique pearbags: 103\n",
      "Processed frame 1959 | Unique pearbags: 103\n",
      "Processed frame 1960 | Unique pearbags: 103\n",
      "Processed frame 1961 | Unique pearbags: 103\n",
      "Processed frame 1962 | Unique pearbags: 103\n",
      "Processed frame 1963 | Unique pearbags: 103\n",
      "Processed frame 1964 | Unique pearbags: 103\n",
      "Processed frame 1965 | Unique pearbags: 103\n",
      "Processed frame 1966 | Unique pearbags: 103\n",
      "Processed frame 1967 | Unique pearbags: 103\n",
      "Processed frame 1968 | Unique pearbags: 103\n",
      "Processed frame 1969 | Unique pearbags: 103\n",
      "Processed frame 1970 | Unique pearbags: 103\n",
      "Processed frame 1971 | Unique pearbags: 103\n",
      "Processed frame 1972 | Unique pearbags: 103\n",
      "Processed frame 1973 | Unique pearbags: 103\n",
      "Processed frame 1974 | Unique pearbags: 103\n",
      "Processed frame 1975 | Unique pearbags: 103\n",
      "Processed frame 1976 | Unique pearbags: 103\n",
      "Processed frame 1977 | Unique pearbags: 103\n",
      "Processed frame 1978 | Unique pearbags: 103\n",
      "Processed frame 1979 | Unique pearbags: 103\n",
      "Processed frame 1980 | Unique pearbags: 103\n",
      "Processed frame 1981 | Unique pearbags: 104\n",
      "Processed frame 1982 | Unique pearbags: 104\n",
      "Processed frame 1983 | Unique pearbags: 104\n",
      "Processed frame 1984 | Unique pearbags: 104\n",
      "Processed frame 1985 | Unique pearbags: 104\n",
      "Processed frame 1986 | Unique pearbags: 104\n",
      "Processed frame 1987 | Unique pearbags: 104\n",
      "Processed frame 1988 | Unique pearbags: 104\n",
      "Processed frame 1989 | Unique pearbags: 104\n",
      "Processed frame 1990 | Unique pearbags: 104\n",
      "Processed frame 1991 | Unique pearbags: 104\n",
      "Processed frame 1992 | Unique pearbags: 104\n",
      "Processed frame 1993 | Unique pearbags: 104\n",
      "Processed frame 1994 | Unique pearbags: 104\n",
      "Processed frame 1995 | Unique pearbags: 104\n",
      "Processed frame 1996 | Unique pearbags: 104\n",
      "Processed frame 1997 | Unique pearbags: 104\n",
      "Processed frame 1998 | Unique pearbags: 104\n",
      "Processed frame 1999 | Unique pearbags: 104\n",
      "Processed frame 2000 | Unique pearbags: 104\n",
      "Processed frame 2001 | Unique pearbags: 104\n",
      "Processed frame 2002 | Unique pearbags: 104\n",
      "Processed frame 2003 | Unique pearbags: 104\n",
      "Processed frame 2004 | Unique pearbags: 104\n",
      "Processed frame 2005 | Unique pearbags: 104\n",
      "Processed frame 2006 | Unique pearbags: 104\n",
      "Processed frame 2007 | Unique pearbags: 104\n",
      "Processed frame 2008 | Unique pearbags: 104\n",
      "Processed frame 2009 | Unique pearbags: 104\n",
      "Processed frame 2010 | Unique pearbags: 105\n",
      "Processed frame 2011 | Unique pearbags: 105\n",
      "Processed frame 2012 | Unique pearbags: 105\n",
      "Processed frame 2013 | Unique pearbags: 105\n",
      "Processed frame 2014 | Unique pearbags: 105\n",
      "Processed frame 2015 | Unique pearbags: 105\n",
      "Processed frame 2016 | Unique pearbags: 105\n",
      "Processed frame 2017 | Unique pearbags: 105\n",
      "Processed frame 2018 | Unique pearbags: 105\n",
      "Processed frame 2019 | Unique pearbags: 105\n",
      "Processed frame 2020 | Unique pearbags: 105\n",
      "Processed frame 2021 | Unique pearbags: 105\n",
      "Processed frame 2022 | Unique pearbags: 105\n",
      "Processed frame 2023 | Unique pearbags: 105\n",
      "Processed frame 2024 | Unique pearbags: 105\n",
      "Processed frame 2025 | Unique pearbags: 105\n",
      "Processed frame 2026 | Unique pearbags: 105\n",
      "Processed frame 2027 | Unique pearbags: 105\n",
      "Processed frame 2028 | Unique pearbags: 105\n",
      "Processed frame 2029 | Unique pearbags: 105\n",
      "Processed frame 2030 | Unique pearbags: 105\n",
      "Processed frame 2031 | Unique pearbags: 105\n",
      "Processed frame 2032 | Unique pearbags: 105\n",
      "Processed frame 2033 | Unique pearbags: 105\n",
      "Processed frame 2034 | Unique pearbags: 105\n",
      "Processed frame 2035 | Unique pearbags: 105\n",
      "Processed frame 2036 | Unique pearbags: 105\n",
      "Processed frame 2037 | Unique pearbags: 105\n",
      "Processed frame 2038 | Unique pearbags: 105\n",
      "Processed frame 2039 | Unique pearbags: 105\n",
      "Processed frame 2040 | Unique pearbags: 105\n",
      "Processed frame 2041 | Unique pearbags: 105\n",
      "Processed frame 2042 | Unique pearbags: 105\n",
      "Processed frame 2043 | Unique pearbags: 105\n",
      "Processed frame 2044 | Unique pearbags: 105\n",
      "Processed frame 2045 | Unique pearbags: 105\n",
      "Processed frame 2046 | Unique pearbags: 105\n",
      "Processed frame 2047 | Unique pearbags: 105\n",
      "Processed frame 2048 | Unique pearbags: 105\n",
      "Processed frame 2049 | Unique pearbags: 105\n",
      "Processed frame 2050 | Unique pearbags: 105\n",
      "Processed frame 2051 | Unique pearbags: 105\n",
      "Processed frame 2052 | Unique pearbags: 105\n",
      "Processed frame 2053 | Unique pearbags: 105\n",
      "Processed frame 2054 | Unique pearbags: 105\n",
      "Processed frame 2055 | Unique pearbags: 105\n",
      "Processed frame 2056 | Unique pearbags: 105\n",
      "Processed frame 2057 | Unique pearbags: 105\n",
      "Processed frame 2058 | Unique pearbags: 105\n",
      "Processed frame 2059 | Unique pearbags: 105\n",
      "Processed frame 2060 | Unique pearbags: 105\n",
      "Processed frame 2061 | Unique pearbags: 105\n",
      "Processed frame 2062 | Unique pearbags: 105\n",
      "Processed frame 2063 | Unique pearbags: 105\n",
      "Processed frame 2064 | Unique pearbags: 105\n",
      "Processed frame 2065 | Unique pearbags: 105\n",
      "Processed frame 2066 | Unique pearbags: 106\n",
      "Processed frame 2067 | Unique pearbags: 106\n",
      "Processed frame 2068 | Unique pearbags: 106\n",
      "Processed frame 2069 | Unique pearbags: 106\n",
      "Processed frame 2070 | Unique pearbags: 106\n",
      "Processed frame 2071 | Unique pearbags: 106\n",
      "Processed frame 2072 | Unique pearbags: 106\n",
      "Processed frame 2073 | Unique pearbags: 107\n",
      "Processed frame 2074 | Unique pearbags: 107\n",
      "Processed frame 2075 | Unique pearbags: 107\n",
      "Processed frame 2076 | Unique pearbags: 107\n",
      "Processed frame 2077 | Unique pearbags: 107\n",
      "Processed frame 2078 | Unique pearbags: 107\n",
      "Processed frame 2079 | Unique pearbags: 107\n",
      "Processed frame 2080 | Unique pearbags: 107\n",
      "Processed frame 2081 | Unique pearbags: 107\n",
      "Processed frame 2082 | Unique pearbags: 107\n",
      "Processed frame 2083 | Unique pearbags: 107\n",
      "Processed frame 2084 | Unique pearbags: 107\n",
      "Processed frame 2085 | Unique pearbags: 107\n",
      "Processed frame 2086 | Unique pearbags: 107\n",
      "Processed frame 2087 | Unique pearbags: 107\n",
      "Processed frame 2088 | Unique pearbags: 107\n",
      "Processed frame 2089 | Unique pearbags: 107\n",
      "Processed frame 2090 | Unique pearbags: 107\n",
      "Processed frame 2091 | Unique pearbags: 108\n",
      "Processed frame 2092 | Unique pearbags: 108\n",
      "Processed frame 2093 | Unique pearbags: 108\n",
      "Processed frame 2094 | Unique pearbags: 108\n",
      "Processed frame 2095 | Unique pearbags: 108\n",
      "Processed frame 2096 | Unique pearbags: 108\n",
      "Processed frame 2097 | Unique pearbags: 108\n",
      "Processed frame 2098 | Unique pearbags: 108\n",
      "Processed frame 2099 | Unique pearbags: 108\n",
      "Processed frame 2100 | Unique pearbags: 108\n",
      "Processed frame 2101 | Unique pearbags: 108\n",
      "Processed frame 2102 | Unique pearbags: 108\n",
      "Processed frame 2103 | Unique pearbags: 108\n",
      "Processed frame 2104 | Unique pearbags: 108\n",
      "Processed frame 2105 | Unique pearbags: 108\n",
      "Processed frame 2106 | Unique pearbags: 108\n",
      "Processed frame 2107 | Unique pearbags: 108\n",
      "Processed frame 2108 | Unique pearbags: 108\n",
      "Processed frame 2109 | Unique pearbags: 108\n",
      "Processed frame 2110 | Unique pearbags: 108\n",
      "Processed frame 2111 | Unique pearbags: 108\n",
      "Processed frame 2112 | Unique pearbags: 108\n",
      "Processed frame 2113 | Unique pearbags: 108\n",
      "Processed frame 2114 | Unique pearbags: 110\n",
      "Processed frame 2115 | Unique pearbags: 110\n",
      "Processed frame 2116 | Unique pearbags: 110\n",
      "Processed frame 2117 | Unique pearbags: 110\n",
      "Processed frame 2118 | Unique pearbags: 110\n",
      "Processed frame 2119 | Unique pearbags: 110\n",
      "Processed frame 2120 | Unique pearbags: 110\n",
      "Processed frame 2121 | Unique pearbags: 110\n",
      "Processed frame 2122 | Unique pearbags: 110\n",
      "Processed frame 2123 | Unique pearbags: 110\n",
      "Processed frame 2124 | Unique pearbags: 110\n",
      "Processed frame 2125 | Unique pearbags: 110\n",
      "Processed frame 2126 | Unique pearbags: 110\n",
      "Processed frame 2127 | Unique pearbags: 110\n",
      "Processed frame 2128 | Unique pearbags: 110\n",
      "Processed frame 2129 | Unique pearbags: 110\n",
      "Processed frame 2130 | Unique pearbags: 110\n",
      "Processed frame 2131 | Unique pearbags: 110\n",
      "Processed frame 2132 | Unique pearbags: 110\n",
      "Processed frame 2133 | Unique pearbags: 110\n",
      "Processed frame 2134 | Unique pearbags: 110\n",
      "Processed frame 2135 | Unique pearbags: 110\n",
      "Processed frame 2136 | Unique pearbags: 110\n",
      "Processed frame 2137 | Unique pearbags: 110\n",
      "Processed frame 2138 | Unique pearbags: 110\n",
      "Processed frame 2139 | Unique pearbags: 110\n",
      "Processed frame 2140 | Unique pearbags: 110\n",
      "Processed frame 2141 | Unique pearbags: 110\n",
      "Processed frame 2142 | Unique pearbags: 110\n",
      "Processed frame 2143 | Unique pearbags: 111\n",
      "Processed frame 2144 | Unique pearbags: 111\n",
      "Processed frame 2145 | Unique pearbags: 111\n",
      "Processed frame 2146 | Unique pearbags: 111\n",
      "Processed frame 2147 | Unique pearbags: 111\n",
      "Processed frame 2148 | Unique pearbags: 111\n",
      "Processed frame 2149 | Unique pearbags: 111\n",
      "Processed frame 2150 | Unique pearbags: 111\n",
      "Processed frame 2151 | Unique pearbags: 111\n",
      "Processed frame 2152 | Unique pearbags: 111\n",
      "Processed frame 2153 | Unique pearbags: 111\n",
      "Processed frame 2154 | Unique pearbags: 111\n",
      "Processed frame 2155 | Unique pearbags: 111\n",
      "Processed frame 2156 | Unique pearbags: 111\n",
      "Processed frame 2157 | Unique pearbags: 111\n",
      "Processed frame 2158 | Unique pearbags: 111\n",
      "Processed frame 2159 | Unique pearbags: 112\n",
      "Processed frame 2160 | Unique pearbags: 112\n",
      "Processed frame 2161 | Unique pearbags: 112\n",
      "Processed frame 2162 | Unique pearbags: 112\n",
      "Processed frame 2163 | Unique pearbags: 112\n",
      "Processed frame 2164 | Unique pearbags: 112\n",
      "Processed frame 2165 | Unique pearbags: 112\n",
      "Processed frame 2166 | Unique pearbags: 112\n",
      "Processed frame 2167 | Unique pearbags: 112\n",
      "Processed frame 2168 | Unique pearbags: 112\n",
      "Processed frame 2169 | Unique pearbags: 112\n",
      "Processed frame 2170 | Unique pearbags: 112\n",
      "Processed frame 2171 | Unique pearbags: 112\n",
      "Processed frame 2172 | Unique pearbags: 112\n",
      "Processed frame 2173 | Unique pearbags: 112\n",
      "Processed frame 2174 | Unique pearbags: 113\n",
      "Processed frame 2175 | Unique pearbags: 113\n",
      "Processed frame 2176 | Unique pearbags: 113\n",
      "Processed frame 2177 | Unique pearbags: 113\n",
      "Processed frame 2178 | Unique pearbags: 113\n",
      "Processed frame 2179 | Unique pearbags: 113\n",
      "Processed frame 2180 | Unique pearbags: 113\n",
      "Processed frame 2181 | Unique pearbags: 113\n",
      "Processed frame 2182 | Unique pearbags: 113\n",
      "Processed frame 2183 | Unique pearbags: 113\n",
      "Processed frame 2184 | Unique pearbags: 113\n",
      "Processed frame 2185 | Unique pearbags: 113\n",
      "Processed frame 2186 | Unique pearbags: 113\n",
      "Processed frame 2187 | Unique pearbags: 113\n",
      "Processed frame 2188 | Unique pearbags: 113\n",
      "Processed frame 2189 | Unique pearbags: 113\n",
      "Processed frame 2190 | Unique pearbags: 113\n",
      "Processed frame 2191 | Unique pearbags: 113\n",
      "Processed frame 2192 | Unique pearbags: 113\n",
      "Processed frame 2193 | Unique pearbags: 113\n",
      "Processed frame 2194 | Unique pearbags: 113\n",
      "Processed frame 2195 | Unique pearbags: 113\n",
      "Processed frame 2196 | Unique pearbags: 113\n",
      "Processed frame 2197 | Unique pearbags: 113\n",
      "Processed frame 2198 | Unique pearbags: 113\n",
      "Processed frame 2199 | Unique pearbags: 113\n",
      "Processed frame 2200 | Unique pearbags: 113\n",
      "Processed frame 2201 | Unique pearbags: 113\n",
      "Processed frame 2202 | Unique pearbags: 113\n",
      "Processed frame 2203 | Unique pearbags: 113\n",
      "Processed frame 2204 | Unique pearbags: 114\n",
      "Processed frame 2205 | Unique pearbags: 114\n",
      "Processed frame 2206 | Unique pearbags: 114\n",
      "Processed frame 2207 | Unique pearbags: 114\n",
      "Processed frame 2208 | Unique pearbags: 114\n",
      "Processed frame 2209 | Unique pearbags: 114\n",
      "Processed frame 2210 | Unique pearbags: 114\n",
      "Processed frame 2211 | Unique pearbags: 114\n",
      "Processed frame 2212 | Unique pearbags: 114\n",
      "Processed frame 2213 | Unique pearbags: 114\n",
      "Processed frame 2214 | Unique pearbags: 114\n",
      "Processed frame 2215 | Unique pearbags: 114\n",
      "Processed frame 2216 | Unique pearbags: 114\n",
      "Processed frame 2217 | Unique pearbags: 114\n",
      "Processed frame 2218 | Unique pearbags: 114\n",
      "Processed frame 2219 | Unique pearbags: 114\n",
      "Processed frame 2220 | Unique pearbags: 114\n",
      "Processed frame 2221 | Unique pearbags: 114\n",
      "Processed frame 2222 | Unique pearbags: 114\n",
      "Processed frame 2223 | Unique pearbags: 114\n",
      "Processed frame 2224 | Unique pearbags: 114\n",
      "Processed frame 2225 | Unique pearbags: 114\n",
      "Processed frame 2226 | Unique pearbags: 114\n",
      "Processed frame 2227 | Unique pearbags: 114\n",
      "Processed frame 2228 | Unique pearbags: 114\n",
      "Processed frame 2229 | Unique pearbags: 114\n",
      "Processed frame 2230 | Unique pearbags: 114\n",
      "Processed frame 2231 | Unique pearbags: 114\n",
      "Processed frame 2232 | Unique pearbags: 114\n",
      "Processed frame 2233 | Unique pearbags: 114\n",
      "Processed frame 2234 | Unique pearbags: 115\n",
      "Processed frame 2235 | Unique pearbags: 115\n",
      "Processed frame 2236 | Unique pearbags: 115\n",
      "Processed frame 2237 | Unique pearbags: 115\n",
      "Processed frame 2238 | Unique pearbags: 115\n",
      "Processed frame 2239 | Unique pearbags: 115\n",
      "Processed frame 2240 | Unique pearbags: 115\n",
      "Processed frame 2241 | Unique pearbags: 116\n",
      "Processed frame 2242 | Unique pearbags: 116\n",
      "Processed frame 2243 | Unique pearbags: 116\n",
      "Processed frame 2244 | Unique pearbags: 116\n",
      "Processed frame 2245 | Unique pearbags: 116\n",
      "Processed frame 2246 | Unique pearbags: 116\n",
      "Processed frame 2247 | Unique pearbags: 116\n",
      "Processed frame 2248 | Unique pearbags: 116\n",
      "Processed frame 2249 | Unique pearbags: 116\n",
      "Processed frame 2250 | Unique pearbags: 116\n",
      "Processed frame 2251 | Unique pearbags: 116\n",
      "Processed frame 2252 | Unique pearbags: 116\n",
      "Processed frame 2253 | Unique pearbags: 116\n",
      "Processed frame 2254 | Unique pearbags: 116\n",
      "Processed frame 2255 | Unique pearbags: 116\n",
      "Processed frame 2256 | Unique pearbags: 116\n",
      "Processed frame 2257 | Unique pearbags: 116\n",
      "Processed frame 2258 | Unique pearbags: 117\n",
      "Processed frame 2259 | Unique pearbags: 117\n",
      "Processed frame 2260 | Unique pearbags: 117\n",
      "Processed frame 2261 | Unique pearbags: 117\n",
      "Processed frame 2262 | Unique pearbags: 117\n",
      "Processed frame 2263 | Unique pearbags: 117\n",
      "Processed frame 2264 | Unique pearbags: 117\n",
      "Processed frame 2265 | Unique pearbags: 117\n",
      "Processed frame 2266 | Unique pearbags: 117\n",
      "Processed frame 2267 | Unique pearbags: 117\n",
      "Processed frame 2268 | Unique pearbags: 117\n",
      "Processed frame 2269 | Unique pearbags: 117\n",
      "Processed frame 2270 | Unique pearbags: 117\n",
      "Processed frame 2271 | Unique pearbags: 117\n",
      "Processed frame 2272 | Unique pearbags: 117\n",
      "Processed frame 2273 | Unique pearbags: 117\n",
      "Processed frame 2274 | Unique pearbags: 117\n",
      "Processed frame 2275 | Unique pearbags: 117\n",
      "Processed frame 2276 | Unique pearbags: 118\n",
      "Processed frame 2277 | Unique pearbags: 118\n",
      "Processed frame 2278 | Unique pearbags: 118\n",
      "Processed frame 2279 | Unique pearbags: 118\n",
      "Processed frame 2280 | Unique pearbags: 118\n",
      "Processed frame 2281 | Unique pearbags: 118\n",
      "Processed frame 2282 | Unique pearbags: 118\n",
      "Processed frame 2283 | Unique pearbags: 118\n",
      "Processed frame 2284 | Unique pearbags: 118\n",
      "Processed frame 2285 | Unique pearbags: 118\n",
      "Processed frame 2286 | Unique pearbags: 118\n",
      "Processed frame 2287 | Unique pearbags: 118\n",
      "Processed frame 2288 | Unique pearbags: 118\n",
      "Processed frame 2289 | Unique pearbags: 118\n",
      "Processed frame 2290 | Unique pearbags: 118\n",
      "Processed frame 2291 | Unique pearbags: 119\n",
      "Processed frame 2292 | Unique pearbags: 119\n",
      "Processed frame 2293 | Unique pearbags: 119\n",
      "Processed frame 2294 | Unique pearbags: 119\n",
      "Processed frame 2295 | Unique pearbags: 119\n",
      "Processed frame 2296 | Unique pearbags: 119\n",
      "Processed frame 2297 | Unique pearbags: 119\n",
      "Processed frame 2298 | Unique pearbags: 119\n",
      "Processed frame 2299 | Unique pearbags: 119\n",
      "Processed frame 2300 | Unique pearbags: 119\n",
      "Processed frame 2301 | Unique pearbags: 119\n",
      "Processed frame 2302 | Unique pearbags: 119\n",
      "Processed frame 2303 | Unique pearbags: 119\n",
      "Processed frame 2304 | Unique pearbags: 119\n",
      "Processed frame 2305 | Unique pearbags: 119\n",
      "Processed frame 2306 | Unique pearbags: 119\n",
      "Processed frame 2307 | Unique pearbags: 119\n",
      "Processed frame 2308 | Unique pearbags: 119\n",
      "Processed frame 2309 | Unique pearbags: 119\n",
      "Processed frame 2310 | Unique pearbags: 119\n",
      "Processed frame 2311 | Unique pearbags: 119\n",
      "Processed frame 2312 | Unique pearbags: 119\n",
      "Processed frame 2313 | Unique pearbags: 119\n",
      "Processed frame 2314 | Unique pearbags: 119\n",
      "Processed frame 2315 | Unique pearbags: 119\n",
      "Processed frame 2316 | Unique pearbags: 119\n",
      "Processed frame 2317 | Unique pearbags: 119\n",
      "Processed frame 2318 | Unique pearbags: 120\n",
      "Processed frame 2319 | Unique pearbags: 120\n",
      "Processed frame 2320 | Unique pearbags: 120\n",
      "Processed frame 2321 | Unique pearbags: 120\n",
      "Processed frame 2322 | Unique pearbags: 120\n",
      "Processed frame 2323 | Unique pearbags: 120\n",
      "Processed frame 2324 | Unique pearbags: 121\n",
      "Processed frame 2325 | Unique pearbags: 121\n",
      "Processed frame 2326 | Unique pearbags: 121\n",
      "Processed frame 2327 | Unique pearbags: 121\n",
      "Processed frame 2328 | Unique pearbags: 121\n",
      "Processed frame 2329 | Unique pearbags: 121\n",
      "Processed frame 2330 | Unique pearbags: 122\n",
      "Processed frame 2331 | Unique pearbags: 122\n",
      "Processed frame 2332 | Unique pearbags: 122\n",
      "Processed frame 2333 | Unique pearbags: 122\n",
      "Processed frame 2334 | Unique pearbags: 122\n",
      "Processed frame 2335 | Unique pearbags: 122\n",
      "Processed frame 2336 | Unique pearbags: 122\n",
      "Processed frame 2337 | Unique pearbags: 122\n",
      "Processed frame 2338 | Unique pearbags: 122\n",
      "Processed frame 2339 | Unique pearbags: 122\n",
      "Processed frame 2340 | Unique pearbags: 122\n",
      "Processed frame 2341 | Unique pearbags: 122\n",
      "Processed frame 2342 | Unique pearbags: 123\n",
      "Processed frame 2343 | Unique pearbags: 123\n",
      "Processed frame 2344 | Unique pearbags: 123\n",
      "Processed frame 2345 | Unique pearbags: 124\n",
      "Processed frame 2346 | Unique pearbags: 124\n",
      "Processed frame 2347 | Unique pearbags: 124\n",
      "Processed frame 2348 | Unique pearbags: 124\n",
      "Processed frame 2349 | Unique pearbags: 124\n",
      "Processed frame 2350 | Unique pearbags: 124\n",
      "Processed frame 2351 | Unique pearbags: 124\n",
      "Processed frame 2352 | Unique pearbags: 124\n",
      "Processed frame 2353 | Unique pearbags: 124\n",
      "Processed frame 2354 | Unique pearbags: 124\n",
      "Processed frame 2355 | Unique pearbags: 124\n",
      "Processed frame 2356 | Unique pearbags: 124\n",
      "Processed frame 2357 | Unique pearbags: 124\n",
      "Processed frame 2358 | Unique pearbags: 124\n",
      "Processed frame 2359 | Unique pearbags: 124\n",
      "Processed frame 2360 | Unique pearbags: 124\n",
      "Processed frame 2361 | Unique pearbags: 124\n",
      "Processed frame 2362 | Unique pearbags: 124\n",
      "Processed frame 2363 | Unique pearbags: 124\n",
      "Processed frame 2364 | Unique pearbags: 124\n",
      "Processed frame 2365 | Unique pearbags: 125\n",
      "Processed frame 2366 | Unique pearbags: 125\n",
      "Processed frame 2367 | Unique pearbags: 125\n",
      "Processed frame 2368 | Unique pearbags: 125\n",
      "Processed frame 2369 | Unique pearbags: 125\n",
      "Processed frame 2370 | Unique pearbags: 125\n",
      "Processed frame 2371 | Unique pearbags: 125\n",
      "Processed frame 2372 | Unique pearbags: 125\n",
      "Processed frame 2373 | Unique pearbags: 125\n",
      "Processed frame 2374 | Unique pearbags: 125\n",
      "Processed frame 2375 | Unique pearbags: 125\n",
      "Processed frame 2376 | Unique pearbags: 125\n",
      "Processed frame 2377 | Unique pearbags: 125\n",
      "Processed frame 2378 | Unique pearbags: 125\n",
      "Processed frame 2379 | Unique pearbags: 125\n",
      "Processed frame 2380 | Unique pearbags: 125\n",
      "Processed frame 2381 | Unique pearbags: 125\n",
      "Processed frame 2382 | Unique pearbags: 125\n",
      "Processed frame 2383 | Unique pearbags: 126\n",
      "Processed frame 2384 | Unique pearbags: 127\n",
      "Processed frame 2385 | Unique pearbags: 127\n",
      "Processed frame 2386 | Unique pearbags: 127\n",
      "Processed frame 2387 | Unique pearbags: 127\n",
      "Processed frame 2388 | Unique pearbags: 127\n",
      "Processed frame 2389 | Unique pearbags: 127\n",
      "Processed frame 2390 | Unique pearbags: 127\n",
      "Processed frame 2391 | Unique pearbags: 127\n",
      "Processed frame 2392 | Unique pearbags: 127\n",
      "Processed frame 2393 | Unique pearbags: 128\n",
      "Processed frame 2394 | Unique pearbags: 128\n",
      "Processed frame 2395 | Unique pearbags: 129\n",
      "Processed frame 2396 | Unique pearbags: 129\n",
      "Processed frame 2397 | Unique pearbags: 129\n",
      "Processed frame 2398 | Unique pearbags: 129\n",
      "Processed frame 2399 | Unique pearbags: 129\n",
      "Processed frame 2400 | Unique pearbags: 129\n",
      "Processed frame 2401 | Unique pearbags: 129\n",
      "Processed frame 2402 | Unique pearbags: 129\n",
      "Processed frame 2403 | Unique pearbags: 129\n",
      "Processed frame 2404 | Unique pearbags: 129\n",
      "Processed frame 2405 | Unique pearbags: 129\n",
      "Processed frame 2406 | Unique pearbags: 129\n",
      "Processed frame 2407 | Unique pearbags: 129\n",
      "Processed frame 2408 | Unique pearbags: 129\n",
      "Processed frame 2409 | Unique pearbags: 129\n",
      "Processed frame 2410 | Unique pearbags: 129\n",
      "Processed frame 2411 | Unique pearbags: 129\n",
      "Processed frame 2412 | Unique pearbags: 129\n",
      "Processed frame 2413 | Unique pearbags: 129\n",
      "Processed frame 2414 | Unique pearbags: 129\n",
      "Processed frame 2415 | Unique pearbags: 129\n",
      "Processed frame 2416 | Unique pearbags: 129\n",
      "Processed frame 2417 | Unique pearbags: 129\n",
      "Processed frame 2418 | Unique pearbags: 129\n",
      "Processed frame 2419 | Unique pearbags: 129\n",
      "Processed frame 2420 | Unique pearbags: 129\n",
      "Processed frame 2421 | Unique pearbags: 129\n",
      "Processed frame 2422 | Unique pearbags: 131\n",
      "Processed frame 2423 | Unique pearbags: 131\n",
      "Processed frame 2424 | Unique pearbags: 131\n",
      "Processed frame 2425 | Unique pearbags: 132\n",
      "Processed frame 2426 | Unique pearbags: 132\n",
      "Processed frame 2427 | Unique pearbags: 132\n",
      "Processed frame 2428 | Unique pearbags: 132\n",
      "Processed frame 2429 | Unique pearbags: 132\n",
      "Processed frame 2430 | Unique pearbags: 132\n",
      "Processed frame 2431 | Unique pearbags: 132\n",
      "Processed frame 2432 | Unique pearbags: 132\n",
      "Processed frame 2433 | Unique pearbags: 132\n",
      "Processed frame 2434 | Unique pearbags: 132\n",
      "Processed frame 2435 | Unique pearbags: 132\n",
      "Processed frame 2436 | Unique pearbags: 132\n",
      "Processed frame 2437 | Unique pearbags: 132\n",
      "Processed frame 2438 | Unique pearbags: 132\n",
      "Processed frame 2439 | Unique pearbags: 132\n",
      "Processed frame 2440 | Unique pearbags: 132\n",
      "Processed frame 2441 | Unique pearbags: 133\n",
      "Processed frame 2442 | Unique pearbags: 133\n",
      "Processed frame 2443 | Unique pearbags: 133\n",
      "Processed frame 2444 | Unique pearbags: 133\n",
      "Processed frame 2445 | Unique pearbags: 133\n",
      "Processed frame 2446 | Unique pearbags: 134\n",
      "Processed frame 2447 | Unique pearbags: 134\n",
      "Processed frame 2448 | Unique pearbags: 134\n",
      "Processed frame 2449 | Unique pearbags: 134\n",
      "Processed frame 2450 | Unique pearbags: 134\n",
      "Processed frame 2451 | Unique pearbags: 134\n",
      "Processed frame 2452 | Unique pearbags: 135\n",
      "Processed frame 2453 | Unique pearbags: 135\n",
      "Processed frame 2454 | Unique pearbags: 135\n",
      "Processed frame 2455 | Unique pearbags: 135\n",
      "Processed frame 2456 | Unique pearbags: 135\n",
      "Processed frame 2457 | Unique pearbags: 135\n",
      "Processed frame 2458 | Unique pearbags: 135\n",
      "Processed frame 2459 | Unique pearbags: 135\n",
      "Processed frame 2460 | Unique pearbags: 135\n",
      "Processed frame 2461 | Unique pearbags: 135\n",
      "Processed frame 2462 | Unique pearbags: 135\n",
      "Processed frame 2463 | Unique pearbags: 135\n",
      "Processed frame 2464 | Unique pearbags: 135\n",
      "Processed frame 2465 | Unique pearbags: 135\n",
      "Processed frame 2466 | Unique pearbags: 135\n",
      "Processed frame 2467 | Unique pearbags: 135\n",
      "Processed frame 2468 | Unique pearbags: 136\n",
      "Processed frame 2469 | Unique pearbags: 136\n",
      "Processed frame 2470 | Unique pearbags: 136\n",
      "Processed frame 2471 | Unique pearbags: 136\n",
      "Processed frame 2472 | Unique pearbags: 136\n",
      "Processed frame 2473 | Unique pearbags: 136\n",
      "Processed frame 2474 | Unique pearbags: 136\n",
      "Processed frame 2475 | Unique pearbags: 136\n",
      "Processed frame 2476 | Unique pearbags: 136\n",
      "Processed frame 2477 | Unique pearbags: 136\n",
      "Processed frame 2478 | Unique pearbags: 136\n",
      "Processed frame 2479 | Unique pearbags: 136\n",
      "Processed frame 2480 | Unique pearbags: 136\n",
      "Processed frame 2481 | Unique pearbags: 137\n",
      "Processed frame 2482 | Unique pearbags: 137\n",
      "Processed frame 2483 | Unique pearbags: 137\n",
      "Processed frame 2484 | Unique pearbags: 137\n",
      "Processed frame 2485 | Unique pearbags: 137\n",
      "Processed frame 2486 | Unique pearbags: 137\n",
      "Processed frame 2487 | Unique pearbags: 137\n",
      "Processed frame 2488 | Unique pearbags: 138\n",
      "Processed frame 2489 | Unique pearbags: 138\n",
      "Processed frame 2490 | Unique pearbags: 138\n",
      "Processed frame 2491 | Unique pearbags: 138\n",
      "Processed frame 2492 | Unique pearbags: 138\n",
      "Processed frame 2493 | Unique pearbags: 139\n",
      "Processed frame 2494 | Unique pearbags: 139\n",
      "Processed frame 2495 | Unique pearbags: 139\n",
      "Processed frame 2496 | Unique pearbags: 140\n",
      "Processed frame 2497 | Unique pearbags: 140\n",
      "Processed frame 2498 | Unique pearbags: 140\n",
      "Processed frame 2499 | Unique pearbags: 141\n",
      "Processed frame 2500 | Unique pearbags: 141\n",
      "Processed frame 2501 | Unique pearbags: 141\n",
      "Processed frame 2502 | Unique pearbags: 141\n",
      "Processed frame 2503 | Unique pearbags: 141\n",
      "Processed frame 2504 | Unique pearbags: 141\n",
      "Processed frame 2505 | Unique pearbags: 141\n",
      "Processed frame 2506 | Unique pearbags: 141\n",
      "Processed frame 2507 | Unique pearbags: 141\n",
      "Processed frame 2508 | Unique pearbags: 141\n",
      "Processed frame 2509 | Unique pearbags: 141\n",
      "Processed frame 2510 | Unique pearbags: 141\n",
      "Processed frame 2511 | Unique pearbags: 141\n",
      "Processed frame 2512 | Unique pearbags: 141\n",
      "Processed frame 2513 | Unique pearbags: 141\n",
      "Processed frame 2514 | Unique pearbags: 141\n",
      "Processed frame 2515 | Unique pearbags: 141\n",
      "Processed frame 2516 | Unique pearbags: 141\n",
      "Processed frame 2517 | Unique pearbags: 141\n",
      "Processed frame 2518 | Unique pearbags: 141\n",
      "Processed frame 2519 | Unique pearbags: 141\n",
      "Processed frame 2520 | Unique pearbags: 141\n",
      "Processed frame 2521 | Unique pearbags: 141\n",
      "Processed frame 2522 | Unique pearbags: 141\n",
      "Processed frame 2523 | Unique pearbags: 141\n",
      "Processed frame 2524 | Unique pearbags: 141\n",
      "Processed frame 2525 | Unique pearbags: 141\n",
      "Processed frame 2526 | Unique pearbags: 141\n",
      "Processed frame 2527 | Unique pearbags: 142\n",
      "Processed frame 2528 | Unique pearbags: 142\n",
      "Processed frame 2529 | Unique pearbags: 142\n",
      "Processed frame 2530 | Unique pearbags: 142\n",
      "Processed frame 2531 | Unique pearbags: 142\n",
      "Processed frame 2532 | Unique pearbags: 143\n",
      "Processed frame 2533 | Unique pearbags: 143\n",
      "Processed frame 2534 | Unique pearbags: 143\n",
      "Processed frame 2535 | Unique pearbags: 143\n",
      "Processed frame 2536 | Unique pearbags: 143\n",
      "Processed frame 2537 | Unique pearbags: 144\n",
      "Processed frame 2538 | Unique pearbags: 144\n",
      "Processed frame 2539 | Unique pearbags: 144\n",
      "Processed frame 2540 | Unique pearbags: 144\n",
      "Processed frame 2541 | Unique pearbags: 144\n",
      "Processed frame 2542 | Unique pearbags: 144\n",
      "Processed frame 2543 | Unique pearbags: 144\n",
      "Processed frame 2544 | Unique pearbags: 144\n",
      "Processed frame 2545 | Unique pearbags: 144\n",
      "Processed frame 2546 | Unique pearbags: 144\n",
      "Processed frame 2547 | Unique pearbags: 144\n",
      "Processed frame 2548 | Unique pearbags: 144\n",
      "Processed frame 2549 | Unique pearbags: 144\n",
      "Processed frame 2550 | Unique pearbags: 144\n",
      "Processed frame 2551 | Unique pearbags: 144\n",
      "Processed frame 2552 | Unique pearbags: 144\n",
      "Processed frame 2553 | Unique pearbags: 144\n",
      "Processed frame 2554 | Unique pearbags: 145\n",
      "Processed frame 2555 | Unique pearbags: 145\n",
      "Processed frame 2556 | Unique pearbags: 145\n",
      "Processed frame 2557 | Unique pearbags: 145\n",
      "Processed frame 2558 | Unique pearbags: 145\n",
      "Processed frame 2559 | Unique pearbags: 145\n",
      "Processed frame 2560 | Unique pearbags: 145\n",
      "Processed frame 2561 | Unique pearbags: 145\n",
      "Processed frame 2562 | Unique pearbags: 145\n",
      "Processed frame 2563 | Unique pearbags: 145\n",
      "Processed frame 2564 | Unique pearbags: 145\n",
      "Processed frame 2565 | Unique pearbags: 145\n",
      "Processed frame 2566 | Unique pearbags: 145\n",
      "Processed frame 2567 | Unique pearbags: 145\n",
      "Processed frame 2568 | Unique pearbags: 145\n",
      "Processed frame 2569 | Unique pearbags: 145\n",
      "Processed frame 2570 | Unique pearbags: 145\n",
      "Processed frame 2571 | Unique pearbags: 145\n",
      "Processed frame 2572 | Unique pearbags: 145\n",
      "Processed frame 2573 | Unique pearbags: 145\n",
      "Processed frame 2574 | Unique pearbags: 145\n",
      "Processed frame 2575 | Unique pearbags: 145\n",
      "Processed frame 2576 | Unique pearbags: 145\n",
      "Processed frame 2577 | Unique pearbags: 145\n",
      "Processed frame 2578 | Unique pearbags: 145\n",
      "Processed frame 2579 | Unique pearbags: 146\n",
      "Processed frame 2580 | Unique pearbags: 146\n",
      "Processed frame 2581 | Unique pearbags: 146\n",
      "Processed frame 2582 | Unique pearbags: 147\n",
      "Processed frame 2583 | Unique pearbags: 147\n",
      "Processed frame 2584 | Unique pearbags: 147\n",
      "Processed frame 2585 | Unique pearbags: 147\n",
      "Processed frame 2586 | Unique pearbags: 147\n",
      "Processed frame 2587 | Unique pearbags: 147\n",
      "Processed frame 2588 | Unique pearbags: 147\n",
      "Processed frame 2589 | Unique pearbags: 147\n",
      "Processed frame 2590 | Unique pearbags: 147\n",
      "Processed frame 2591 | Unique pearbags: 147\n",
      "Processed frame 2592 | Unique pearbags: 147\n",
      "Processed frame 2593 | Unique pearbags: 147\n",
      "Processed frame 2594 | Unique pearbags: 147\n",
      "Processed frame 2595 | Unique pearbags: 148\n",
      "Processed frame 2596 | Unique pearbags: 148\n",
      "Processed frame 2597 | Unique pearbags: 148\n",
      "Processed frame 2598 | Unique pearbags: 148\n",
      "Processed frame 2599 | Unique pearbags: 148\n",
      "Processed frame 2600 | Unique pearbags: 148\n",
      "Processed frame 2601 | Unique pearbags: 148\n",
      "Processed frame 2602 | Unique pearbags: 148\n",
      "Processed frame 2603 | Unique pearbags: 148\n",
      "Processed frame 2604 | Unique pearbags: 148\n",
      "Processed frame 2605 | Unique pearbags: 148\n",
      "Processed frame 2606 | Unique pearbags: 148\n",
      "Processed frame 2607 | Unique pearbags: 148\n",
      "Processed frame 2608 | Unique pearbags: 149\n",
      "Processed frame 2609 | Unique pearbags: 149\n",
      "Processed frame 2610 | Unique pearbags: 149\n",
      "Processed frame 2611 | Unique pearbags: 149\n",
      "Processed frame 2612 | Unique pearbags: 149\n",
      "Processed frame 2613 | Unique pearbags: 149\n",
      "Processed frame 2614 | Unique pearbags: 150\n",
      "Processed frame 2615 | Unique pearbags: 150\n",
      "Processed frame 2616 | Unique pearbags: 150\n",
      "Processed frame 2617 | Unique pearbags: 150\n",
      "Processed frame 2618 | Unique pearbags: 150\n",
      "Processed frame 2619 | Unique pearbags: 150\n",
      "Processed frame 2620 | Unique pearbags: 150\n",
      "Processed frame 2621 | Unique pearbags: 150\n",
      "Processed frame 2622 | Unique pearbags: 150\n",
      "Processed frame 2623 | Unique pearbags: 150\n",
      "Processed frame 2624 | Unique pearbags: 150\n",
      "Processed frame 2625 | Unique pearbags: 150\n",
      "Processed frame 2626 | Unique pearbags: 150\n",
      "Processed frame 2627 | Unique pearbags: 150\n",
      "Processed frame 2628 | Unique pearbags: 150\n",
      "Processed frame 2629 | Unique pearbags: 150\n",
      "Processed frame 2630 | Unique pearbags: 150\n",
      "Processed frame 2631 | Unique pearbags: 150\n",
      "Processed frame 2632 | Unique pearbags: 150\n",
      "Processed frame 2633 | Unique pearbags: 150\n",
      "Processed frame 2634 | Unique pearbags: 150\n",
      "Processed frame 2635 | Unique pearbags: 150\n",
      "Processed frame 2636 | Unique pearbags: 150\n",
      "Processed frame 2637 | Unique pearbags: 150\n",
      "Processed frame 2638 | Unique pearbags: 150\n",
      "Processed frame 2639 | Unique pearbags: 150\n",
      "Processed frame 2640 | Unique pearbags: 150\n",
      "Processed frame 2641 | Unique pearbags: 150\n",
      "Processed frame 2642 | Unique pearbags: 150\n",
      "Processed frame 2643 | Unique pearbags: 150\n",
      "Processed frame 2644 | Unique pearbags: 150\n",
      "Processed frame 2645 | Unique pearbags: 150\n",
      "Processed frame 2646 | Unique pearbags: 150\n",
      "Processed frame 2647 | Unique pearbags: 150\n",
      "Processed frame 2648 | Unique pearbags: 150\n",
      "Processed frame 2649 | Unique pearbags: 150\n",
      "Processed frame 2650 | Unique pearbags: 150\n",
      "Processed frame 2651 | Unique pearbags: 150\n",
      "Processed frame 2652 | Unique pearbags: 150\n",
      "Processed frame 2653 | Unique pearbags: 150\n",
      "Processed frame 2654 | Unique pearbags: 150\n",
      "Processed frame 2655 | Unique pearbags: 150\n",
      "Processed frame 2656 | Unique pearbags: 150\n",
      "Processed frame 2657 | Unique pearbags: 150\n",
      "Processed frame 2658 | Unique pearbags: 151\n",
      "Processed frame 2659 | Unique pearbags: 151\n",
      "Processed frame 2660 | Unique pearbags: 151\n",
      "Processed frame 2661 | Unique pearbags: 151\n",
      "Processed frame 2662 | Unique pearbags: 151\n",
      "Processed frame 2663 | Unique pearbags: 151\n",
      "Processed frame 2664 | Unique pearbags: 151\n",
      "Processed frame 2665 | Unique pearbags: 151\n",
      "Processed frame 2666 | Unique pearbags: 152\n",
      "Processed frame 2667 | Unique pearbags: 152\n",
      "Processed frame 2668 | Unique pearbags: 152\n",
      "Processed frame 2669 | Unique pearbags: 152\n",
      "Processed frame 2670 | Unique pearbags: 152\n",
      "Processed frame 2671 | Unique pearbags: 152\n",
      "Processed frame 2672 | Unique pearbags: 152\n",
      "Processed frame 2673 | Unique pearbags: 152\n",
      "Processed frame 2674 | Unique pearbags: 152\n",
      "Processed frame 2675 | Unique pearbags: 152\n",
      "Processed frame 2676 | Unique pearbags: 152\n",
      "Processed frame 2677 | Unique pearbags: 152\n",
      "Processed frame 2678 | Unique pearbags: 152\n",
      "Processed frame 2679 | Unique pearbags: 152\n",
      "Processed frame 2680 | Unique pearbags: 152\n",
      "Processed frame 2681 | Unique pearbags: 152\n",
      "Processed frame 2682 | Unique pearbags: 152\n",
      "Processed frame 2683 | Unique pearbags: 152\n",
      "Processed frame 2684 | Unique pearbags: 152\n",
      "Processed frame 2685 | Unique pearbags: 152\n",
      "Processed frame 2686 | Unique pearbags: 152\n",
      "Processed frame 2687 | Unique pearbags: 152\n",
      "Processed frame 2688 | Unique pearbags: 152\n",
      "Processed frame 2689 | Unique pearbags: 152\n",
      "Processed frame 2690 | Unique pearbags: 152\n",
      "Processed frame 2691 | Unique pearbags: 152\n",
      "Processed frame 2692 | Unique pearbags: 152\n",
      "Processed frame 2693 | Unique pearbags: 152\n",
      "Processed frame 2694 | Unique pearbags: 152\n",
      "Processed frame 2695 | Unique pearbags: 152\n",
      "Processed frame 2696 | Unique pearbags: 152\n",
      "Processed frame 2697 | Unique pearbags: 152\n",
      "Processed frame 2698 | Unique pearbags: 152\n",
      "Processed frame 2699 | Unique pearbags: 152\n",
      "Processed frame 2700 | Unique pearbags: 152\n",
      "Processed frame 2701 | Unique pearbags: 152\n",
      "Processed frame 2702 | Unique pearbags: 152\n",
      "Processed frame 2703 | Unique pearbags: 152\n",
      "Processed frame 2704 | Unique pearbags: 152\n",
      "Processed frame 2705 | Unique pearbags: 152\n",
      "Processed frame 2706 | Unique pearbags: 152\n",
      "Processed frame 2707 | Unique pearbags: 152\n",
      "Processed frame 2708 | Unique pearbags: 152\n",
      "Processed frame 2709 | Unique pearbags: 152\n",
      "Processed frame 2710 | Unique pearbags: 152\n",
      "Processed frame 2711 | Unique pearbags: 152\n",
      "Processed frame 2712 | Unique pearbags: 152\n",
      "Processed frame 2713 | Unique pearbags: 152\n",
      "Processed frame 2714 | Unique pearbags: 153\n",
      "Processed frame 2715 | Unique pearbags: 153\n",
      "Processed frame 2716 | Unique pearbags: 153\n",
      "Processed frame 2717 | Unique pearbags: 154\n",
      "Processed frame 2718 | Unique pearbags: 154\n",
      "Processed frame 2719 | Unique pearbags: 154\n",
      "Processed frame 2720 | Unique pearbags: 154\n",
      "Processed frame 2721 | Unique pearbags: 156\n",
      "Processed frame 2722 | Unique pearbags: 156\n",
      "Processed frame 2723 | Unique pearbags: 156\n",
      "Processed frame 2724 | Unique pearbags: 156\n",
      "Processed frame 2725 | Unique pearbags: 156\n",
      "Processed frame 2726 | Unique pearbags: 156\n",
      "Processed frame 2727 | Unique pearbags: 156\n",
      "Processed frame 2728 | Unique pearbags: 156\n",
      "Processed frame 2729 | Unique pearbags: 156\n",
      "Processed frame 2730 | Unique pearbags: 156\n",
      "Processed frame 2731 | Unique pearbags: 156\n",
      "Processed frame 2732 | Unique pearbags: 156\n",
      "Processed frame 2733 | Unique pearbags: 156\n",
      "Processed frame 2734 | Unique pearbags: 156\n",
      "Processed frame 2735 | Unique pearbags: 156\n",
      "Processed frame 2736 | Unique pearbags: 156\n",
      "Processed frame 2737 | Unique pearbags: 156\n",
      "Processed frame 2738 | Unique pearbags: 156\n",
      "Processed frame 2739 | Unique pearbags: 156\n",
      "Processed frame 2740 | Unique pearbags: 156\n",
      "Processed frame 2741 | Unique pearbags: 156\n",
      "Processed frame 2742 | Unique pearbags: 156\n",
      "Processed frame 2743 | Unique pearbags: 156\n",
      "Processed frame 2744 | Unique pearbags: 156\n",
      "Processed frame 2745 | Unique pearbags: 157\n",
      "Processed frame 2746 | Unique pearbags: 157\n",
      "Processed frame 2747 | Unique pearbags: 157\n",
      "Processed frame 2748 | Unique pearbags: 157\n",
      "Processed frame 2749 | Unique pearbags: 157\n",
      "Processed frame 2750 | Unique pearbags: 157\n",
      "Processed frame 2751 | Unique pearbags: 157\n",
      "Processed frame 2752 | Unique pearbags: 157\n",
      "Processed frame 2753 | Unique pearbags: 157\n",
      "Processed frame 2754 | Unique pearbags: 157\n",
      "Processed frame 2755 | Unique pearbags: 157\n",
      "Processed frame 2756 | Unique pearbags: 157\n",
      "Processed frame 2757 | Unique pearbags: 157\n",
      "Processed frame 2758 | Unique pearbags: 157\n",
      "Processed frame 2759 | Unique pearbags: 157\n",
      "Processed frame 2760 | Unique pearbags: 157\n",
      "Processed frame 2761 | Unique pearbags: 157\n",
      "Processed frame 2762 | Unique pearbags: 157\n",
      "Processed frame 2763 | Unique pearbags: 159\n",
      "Processed frame 2764 | Unique pearbags: 159\n",
      "Processed frame 2765 | Unique pearbags: 159\n",
      "Processed frame 2766 | Unique pearbags: 160\n",
      "Processed frame 2767 | Unique pearbags: 160\n",
      "Processed frame 2768 | Unique pearbags: 160\n",
      "Processed frame 2769 | Unique pearbags: 160\n",
      "Processed frame 2770 | Unique pearbags: 160\n",
      "Processed frame 2771 | Unique pearbags: 160\n",
      "Processed frame 2772 | Unique pearbags: 160\n",
      "Processed frame 2773 | Unique pearbags: 160\n",
      "Processed frame 2774 | Unique pearbags: 160\n",
      "Processed frame 2775 | Unique pearbags: 160\n",
      "Processed frame 2776 | Unique pearbags: 160\n",
      "Processed frame 2777 | Unique pearbags: 160\n",
      "Processed frame 2778 | Unique pearbags: 160\n",
      "Processed frame 2779 | Unique pearbags: 160\n",
      "Processed frame 2780 | Unique pearbags: 160\n",
      "Processed frame 2781 | Unique pearbags: 160\n",
      "Processed frame 2782 | Unique pearbags: 160\n",
      "Processed frame 2783 | Unique pearbags: 160\n",
      "Processed frame 2784 | Unique pearbags: 160\n",
      "Processed frame 2785 | Unique pearbags: 160\n",
      "Processed frame 2786 | Unique pearbags: 160\n",
      "Processed frame 2787 | Unique pearbags: 160\n",
      "Processed frame 2788 | Unique pearbags: 160\n",
      "Processed frame 2789 | Unique pearbags: 160\n",
      "Processed frame 2790 | Unique pearbags: 160\n",
      "Processed frame 2791 | Unique pearbags: 160\n",
      "Processed frame 2792 | Unique pearbags: 160\n",
      "Processed frame 2793 | Unique pearbags: 160\n",
      "Processed frame 2794 | Unique pearbags: 160\n",
      "Processed frame 2795 | Unique pearbags: 160\n",
      "Processed frame 2796 | Unique pearbags: 160\n",
      "Processed frame 2797 | Unique pearbags: 160\n",
      "Processed frame 2798 | Unique pearbags: 160\n",
      "Processed frame 2799 | Unique pearbags: 160\n",
      "Processed frame 2800 | Unique pearbags: 160\n",
      "Processed frame 2801 | Unique pearbags: 160\n",
      "Processed frame 2802 | Unique pearbags: 160\n",
      "Processed frame 2803 | Unique pearbags: 160\n",
      "Processed frame 2804 | Unique pearbags: 160\n",
      "Processed frame 2805 | Unique pearbags: 160\n",
      "Processed frame 2806 | Unique pearbags: 160\n",
      "Processed frame 2807 | Unique pearbags: 160\n",
      "Processed frame 2808 | Unique pearbags: 160\n",
      "Processed frame 2809 | Unique pearbags: 160\n",
      "Processed frame 2810 | Unique pearbags: 160\n",
      "Processed frame 2811 | Unique pearbags: 160\n",
      "Processed frame 2812 | Unique pearbags: 160\n",
      "Processed frame 2813 | Unique pearbags: 160\n",
      "Processed frame 2814 | Unique pearbags: 160\n",
      "Processed frame 2815 | Unique pearbags: 160\n",
      "Processed frame 2816 | Unique pearbags: 160\n",
      "Processed frame 2817 | Unique pearbags: 160\n",
      "Processed frame 2818 | Unique pearbags: 160\n",
      "Processed frame 2819 | Unique pearbags: 160\n",
      "Processed frame 2820 | Unique pearbags: 160\n",
      "Processed frame 2821 | Unique pearbags: 160\n",
      "Processed frame 2822 | Unique pearbags: 160\n",
      "Processed frame 2823 | Unique pearbags: 160\n",
      "Processed frame 2824 | Unique pearbags: 160\n",
      "Processed frame 2825 | Unique pearbags: 160\n",
      "Processed frame 2826 | Unique pearbags: 160\n",
      "Processed frame 2827 | Unique pearbags: 160\n",
      "Processed frame 2828 | Unique pearbags: 160\n",
      "Processed frame 2829 | Unique pearbags: 160\n",
      "Processed frame 2830 | Unique pearbags: 161\n",
      "Processed frame 2831 | Unique pearbags: 161\n",
      "Processed frame 2832 | Unique pearbags: 161\n",
      "Processed frame 2833 | Unique pearbags: 161\n",
      "Processed frame 2834 | Unique pearbags: 161\n",
      "Processed frame 2835 | Unique pearbags: 161\n",
      "Processed frame 2836 | Unique pearbags: 161\n",
      "Processed frame 2837 | Unique pearbags: 161\n",
      "Processed frame 2838 | Unique pearbags: 161\n",
      "Processed frame 2839 | Unique pearbags: 162\n",
      "Processed frame 2840 | Unique pearbags: 162\n",
      "Processed frame 2841 | Unique pearbags: 162\n",
      "Processed frame 2842 | Unique pearbags: 163\n",
      "Processed frame 2843 | Unique pearbags: 163\n",
      "Processed frame 2844 | Unique pearbags: 163\n",
      "Processed frame 2845 | Unique pearbags: 163\n",
      "Processed frame 2846 | Unique pearbags: 163\n",
      "Processed frame 2847 | Unique pearbags: 163\n",
      "Processed frame 2848 | Unique pearbags: 163\n",
      "Processed frame 2849 | Unique pearbags: 163\n",
      "Processed frame 2850 | Unique pearbags: 163\n",
      "Processed frame 2851 | Unique pearbags: 163\n",
      "Processed frame 2852 | Unique pearbags: 163\n",
      "Processed frame 2853 | Unique pearbags: 163\n",
      "Processed frame 2854 | Unique pearbags: 163\n",
      "Processed frame 2855 | Unique pearbags: 163\n",
      "Processed frame 2856 | Unique pearbags: 163\n",
      "Processed frame 2857 | Unique pearbags: 163\n",
      "Processed frame 2858 | Unique pearbags: 163\n",
      "Processed frame 2859 | Unique pearbags: 163\n",
      "Processed frame 2860 | Unique pearbags: 163\n",
      "Processed frame 2861 | Unique pearbags: 163\n",
      "Processed frame 2862 | Unique pearbags: 163\n",
      "Processed frame 2863 | Unique pearbags: 163\n",
      "Processed frame 2864 | Unique pearbags: 163\n",
      "Processed frame 2865 | Unique pearbags: 163\n",
      "Processed frame 2866 | Unique pearbags: 163\n",
      "Processed frame 2867 | Unique pearbags: 163\n",
      "Processed frame 2868 | Unique pearbags: 163\n",
      "Processed frame 2869 | Unique pearbags: 163\n",
      "Processed frame 2870 | Unique pearbags: 163\n",
      "Processed frame 2871 | Unique pearbags: 163\n",
      "Processed frame 2872 | Unique pearbags: 163\n",
      "Processed frame 2873 | Unique pearbags: 163\n",
      "Processed frame 2874 | Unique pearbags: 164\n",
      "Processed frame 2875 | Unique pearbags: 164\n",
      "Processed frame 2876 | Unique pearbags: 164\n",
      "Processed frame 2877 | Unique pearbags: 164\n",
      "Processed frame 2878 | Unique pearbags: 164\n",
      "Processed frame 2879 | Unique pearbags: 164\n",
      "Processed frame 2880 | Unique pearbags: 164\n",
      "Processed frame 2881 | Unique pearbags: 164\n",
      "Processed frame 2882 | Unique pearbags: 164\n",
      "Processed frame 2883 | Unique pearbags: 164\n",
      "Processed frame 2884 | Unique pearbags: 164\n",
      "Processed frame 2885 | Unique pearbags: 164\n",
      "Processed frame 2886 | Unique pearbags: 164\n",
      "Processed frame 2887 | Unique pearbags: 164\n",
      "Processed frame 2888 | Unique pearbags: 165\n",
      "Processed frame 2889 | Unique pearbags: 165\n",
      "Processed frame 2890 | Unique pearbags: 165\n",
      "Processed frame 2891 | Unique pearbags: 165\n",
      "Processed frame 2892 | Unique pearbags: 165\n",
      "Processed frame 2893 | Unique pearbags: 165\n",
      "Processed frame 2894 | Unique pearbags: 165\n",
      "Processed frame 2895 | Unique pearbags: 165\n",
      "Processed frame 2896 | Unique pearbags: 165\n",
      "Processed frame 2897 | Unique pearbags: 165\n",
      "Processed frame 2898 | Unique pearbags: 165\n",
      "Processed frame 2899 | Unique pearbags: 165\n",
      "Processed frame 2900 | Unique pearbags: 165\n",
      "Processed frame 2901 | Unique pearbags: 165\n",
      "Processed frame 2902 | Unique pearbags: 165\n",
      "Processed frame 2903 | Unique pearbags: 165\n",
      "Processed frame 2904 | Unique pearbags: 165\n",
      "Processed frame 2905 | Unique pearbags: 165\n",
      "Processed frame 2906 | Unique pearbags: 165\n",
      "Processed frame 2907 | Unique pearbags: 165\n",
      "Processed frame 2908 | Unique pearbags: 165\n",
      "Processed frame 2909 | Unique pearbags: 165\n",
      "Processed frame 2910 | Unique pearbags: 165\n",
      "Processed frame 2911 | Unique pearbags: 165\n",
      "Processed frame 2912 | Unique pearbags: 165\n",
      "Processed frame 2913 | Unique pearbags: 165\n",
      "Processed frame 2914 | Unique pearbags: 165\n",
      "Processed frame 2915 | Unique pearbags: 165\n",
      "Processed frame 2916 | Unique pearbags: 166\n",
      "Processed frame 2917 | Unique pearbags: 166\n",
      "Processed frame 2918 | Unique pearbags: 166\n",
      "Processed frame 2919 | Unique pearbags: 166\n",
      "Processed frame 2920 | Unique pearbags: 166\n",
      "Processed frame 2921 | Unique pearbags: 166\n",
      "Processed frame 2922 | Unique pearbags: 166\n",
      "Processed frame 2923 | Unique pearbags: 166\n",
      "Processed frame 2924 | Unique pearbags: 166\n",
      "Processed frame 2925 | Unique pearbags: 166\n",
      "Processed frame 2926 | Unique pearbags: 166\n",
      "Processed frame 2927 | Unique pearbags: 166\n",
      "Processed frame 2928 | Unique pearbags: 166\n",
      "Processed frame 2929 | Unique pearbags: 166\n",
      "Processed frame 2930 | Unique pearbags: 166\n",
      "Processed frame 2931 | Unique pearbags: 166\n",
      "Processed frame 2932 | Unique pearbags: 166\n",
      "Processed frame 2933 | Unique pearbags: 166\n",
      "Processed frame 2934 | Unique pearbags: 166\n",
      "Processed frame 2935 | Unique pearbags: 166\n",
      "Processed frame 2936 | Unique pearbags: 166\n",
      "Processed frame 2937 | Unique pearbags: 166\n",
      "Processed frame 2938 | Unique pearbags: 166\n",
      "Processed frame 2939 | Unique pearbags: 166\n",
      "Processed frame 2940 | Unique pearbags: 166\n",
      "Processed frame 2941 | Unique pearbags: 166\n",
      "Processed frame 2942 | Unique pearbags: 166\n",
      "Processed frame 2943 | Unique pearbags: 166\n",
      "Processed frame 2944 | Unique pearbags: 166\n",
      "Processed frame 2945 | Unique pearbags: 166\n",
      "Processed frame 2946 | Unique pearbags: 166\n",
      "Processed frame 2947 | Unique pearbags: 166\n",
      "Processed frame 2948 | Unique pearbags: 166\n",
      "Processed frame 2949 | Unique pearbags: 166\n",
      "Processed frame 2950 | Unique pearbags: 167\n",
      "Processed frame 2951 | Unique pearbags: 167\n",
      "Processed frame 2952 | Unique pearbags: 167\n",
      "Processed frame 2953 | Unique pearbags: 167\n",
      "Processed frame 2954 | Unique pearbags: 167\n",
      "Processed frame 2955 | Unique pearbags: 167\n",
      "Processed frame 2956 | Unique pearbags: 167\n",
      "Processed frame 2957 | Unique pearbags: 167\n",
      "Processed frame 2958 | Unique pearbags: 167\n",
      "Processed frame 2959 | Unique pearbags: 167\n",
      "Processed frame 2960 | Unique pearbags: 167\n",
      "Processed frame 2961 | Unique pearbags: 167\n",
      "Processed frame 2962 | Unique pearbags: 167\n",
      "Processed frame 2963 | Unique pearbags: 167\n",
      "Processed frame 2964 | Unique pearbags: 167\n",
      "Processed frame 2965 | Unique pearbags: 167\n",
      "Processed frame 2966 | Unique pearbags: 167\n",
      "Processed frame 2967 | Unique pearbags: 167\n",
      "Processed frame 2968 | Unique pearbags: 167\n",
      "Processed frame 2969 | Unique pearbags: 167\n",
      "Processed frame 2970 | Unique pearbags: 167\n",
      "Processed frame 2971 | Unique pearbags: 167\n",
      "Processed frame 2972 | Unique pearbags: 167\n",
      "Processed frame 2973 | Unique pearbags: 167\n",
      "Processed frame 2974 | Unique pearbags: 167\n",
      "Processed frame 2975 | Unique pearbags: 167\n",
      "Processed frame 2976 | Unique pearbags: 167\n",
      "Processed frame 2977 | Unique pearbags: 167\n",
      "Processed frame 2978 | Unique pearbags: 167\n",
      "Processed frame 2979 | Unique pearbags: 167\n",
      "Processed frame 2980 | Unique pearbags: 167\n",
      "Processed frame 2981 | Unique pearbags: 167\n",
      "Processed frame 2982 | Unique pearbags: 167\n",
      "Processed frame 2983 | Unique pearbags: 167\n",
      "Processed frame 2984 | Unique pearbags: 167\n",
      "Processed frame 2985 | Unique pearbags: 167\n",
      "Processed frame 2986 | Unique pearbags: 167\n",
      "Processed frame 2987 | Unique pearbags: 167\n",
      "Processed frame 2988 | Unique pearbags: 167\n",
      "Processed frame 2989 | Unique pearbags: 167\n",
      "Processed frame 2990 | Unique pearbags: 167\n",
      "Processed frame 2991 | Unique pearbags: 167\n",
      "Processed frame 2992 | Unique pearbags: 168\n",
      "Processed frame 2993 | Unique pearbags: 168\n",
      "Processed frame 2994 | Unique pearbags: 168\n",
      "Processed frame 2995 | Unique pearbags: 168\n",
      "Processed frame 2996 | Unique pearbags: 168\n",
      "Processed frame 2997 | Unique pearbags: 168\n",
      "Processed frame 2998 | Unique pearbags: 168\n",
      "Processed frame 2999 | Unique pearbags: 168\n",
      "Processed frame 3000 | Unique pearbags: 168\n",
      "Processed frame 3001 | Unique pearbags: 168\n",
      "Processed frame 3002 | Unique pearbags: 168\n",
      "Processed frame 3003 | Unique pearbags: 169\n",
      "Processed frame 3004 | Unique pearbags: 169\n",
      "Processed frame 3005 | Unique pearbags: 169\n",
      "Processed frame 3006 | Unique pearbags: 169\n",
      "Processed frame 3007 | Unique pearbags: 169\n",
      "Processed frame 3008 | Unique pearbags: 169\n",
      "Processed frame 3009 | Unique pearbags: 169\n",
      "Processed frame 3010 | Unique pearbags: 169\n",
      "Processed frame 3011 | Unique pearbags: 169\n",
      "Processed frame 3012 | Unique pearbags: 169\n",
      "Processed frame 3013 | Unique pearbags: 169\n",
      "Processed frame 3014 | Unique pearbags: 169\n",
      "Processed frame 3015 | Unique pearbags: 169\n",
      "Processed frame 3016 | Unique pearbags: 169\n",
      "Processed frame 3017 | Unique pearbags: 169\n",
      "Processed frame 3018 | Unique pearbags: 169\n",
      "Processed frame 3019 | Unique pearbags: 169\n",
      "Processed frame 3020 | Unique pearbags: 169\n",
      "Processed frame 3021 | Unique pearbags: 169\n",
      "Processed frame 3022 | Unique pearbags: 169\n",
      "Processed frame 3023 | Unique pearbags: 169\n",
      "Processed frame 3024 | Unique pearbags: 169\n",
      "Processed frame 3025 | Unique pearbags: 169\n",
      "Processed frame 3026 | Unique pearbags: 169\n",
      "Processed frame 3027 | Unique pearbags: 169\n",
      "Processed frame 3028 | Unique pearbags: 169\n",
      "Processed frame 3029 | Unique pearbags: 169\n",
      "Processed frame 3030 | Unique pearbags: 169\n",
      "Processed frame 3031 | Unique pearbags: 169\n",
      "Processed frame 3032 | Unique pearbags: 169\n",
      "Processed frame 3033 | Unique pearbags: 169\n",
      "Processed frame 3034 | Unique pearbags: 169\n",
      "Processed frame 3035 | Unique pearbags: 169\n",
      "Processed frame 3036 | Unique pearbags: 169\n",
      "Processed frame 3037 | Unique pearbags: 169\n",
      "Processed frame 3038 | Unique pearbags: 169\n",
      "Processed frame 3039 | Unique pearbags: 169\n",
      "Processed frame 3040 | Unique pearbags: 169\n",
      "Processed frame 3041 | Unique pearbags: 169\n",
      "Processed frame 3042 | Unique pearbags: 169\n",
      "Processed frame 3043 | Unique pearbags: 169\n",
      "Processed frame 3044 | Unique pearbags: 169\n",
      "Processed frame 3045 | Unique pearbags: 169\n",
      "Processed frame 3046 | Unique pearbags: 169\n",
      "Processed frame 3047 | Unique pearbags: 169\n",
      "Processed frame 3048 | Unique pearbags: 169\n",
      "Processed frame 3049 | Unique pearbags: 169\n",
      "Processed frame 3050 | Unique pearbags: 169\n",
      "Processed frame 3051 | Unique pearbags: 169\n",
      "Processed frame 3052 | Unique pearbags: 169\n",
      "Processed frame 3053 | Unique pearbags: 169\n",
      "Processed frame 3054 | Unique pearbags: 169\n",
      "Processed frame 3055 | Unique pearbags: 169\n",
      "Processed frame 3056 | Unique pearbags: 169\n",
      "Processed frame 3057 | Unique pearbags: 169\n",
      "Processed frame 3058 | Unique pearbags: 170\n",
      "Processed frame 3059 | Unique pearbags: 170\n",
      "Processed frame 3060 | Unique pearbags: 170\n",
      "Processed frame 3061 | Unique pearbags: 170\n",
      "Processed frame 3062 | Unique pearbags: 170\n",
      "Processed frame 3063 | Unique pearbags: 170\n",
      "Processed frame 3064 | Unique pearbags: 170\n",
      "Processed frame 3065 | Unique pearbags: 170\n",
      "Processed frame 3066 | Unique pearbags: 170\n",
      "Processed frame 3067 | Unique pearbags: 170\n",
      "Processed frame 3068 | Unique pearbags: 170\n",
      "Processed frame 3069 | Unique pearbags: 170\n",
      "Processed frame 3070 | Unique pearbags: 170\n",
      "Processed frame 3071 | Unique pearbags: 170\n",
      "Processed frame 3072 | Unique pearbags: 170\n",
      "Processed frame 3073 | Unique pearbags: 170\n",
      "Processed frame 3074 | Unique pearbags: 170\n",
      "Processed frame 3075 | Unique pearbags: 170\n",
      "Processed frame 3076 | Unique pearbags: 170\n",
      "Processed frame 3077 | Unique pearbags: 170\n",
      "Processed frame 3078 | Unique pearbags: 171\n",
      "Processed frame 3079 | Unique pearbags: 171\n",
      "Processed frame 3080 | Unique pearbags: 171\n",
      "Processed frame 3081 | Unique pearbags: 171\n",
      "Processed frame 3082 | Unique pearbags: 171\n",
      "Processed frame 3083 | Unique pearbags: 171\n",
      "Processed frame 3084 | Unique pearbags: 171\n",
      "Processed frame 3085 | Unique pearbags: 171\n",
      "Processed frame 3086 | Unique pearbags: 171\n",
      "Processed frame 3087 | Unique pearbags: 171\n",
      "Processed frame 3088 | Unique pearbags: 171\n",
      "Processed frame 3089 | Unique pearbags: 171\n",
      "Processed frame 3090 | Unique pearbags: 171\n",
      "Processed frame 3091 | Unique pearbags: 171\n",
      "Processed frame 3092 | Unique pearbags: 171\n",
      "Processed frame 3093 | Unique pearbags: 171\n",
      "Processed frame 3094 | Unique pearbags: 171\n",
      "Processed frame 3095 | Unique pearbags: 171\n",
      "Processed frame 3096 | Unique pearbags: 171\n",
      "Processed frame 3097 | Unique pearbags: 171\n",
      "Processed frame 3098 | Unique pearbags: 171\n",
      "Processed frame 3099 | Unique pearbags: 171\n",
      "Processed frame 3100 | Unique pearbags: 171\n",
      "Processed frame 3101 | Unique pearbags: 171\n",
      "Processed frame 3102 | Unique pearbags: 171\n",
      "Processed frame 3103 | Unique pearbags: 171\n",
      "Processed frame 3104 | Unique pearbags: 171\n",
      "Processed frame 3105 | Unique pearbags: 171\n",
      "Processed frame 3106 | Unique pearbags: 171\n",
      "Processed frame 3107 | Unique pearbags: 171\n",
      "Processed frame 3108 | Unique pearbags: 171\n",
      "Processed frame 3109 | Unique pearbags: 171\n",
      "Processed frame 3110 | Unique pearbags: 171\n",
      "Processed frame 3111 | Unique pearbags: 171\n",
      "Processed frame 3112 | Unique pearbags: 171\n",
      "Processed frame 3113 | Unique pearbags: 171\n",
      "Processed frame 3114 | Unique pearbags: 171\n",
      "Processed frame 3115 | Unique pearbags: 171\n",
      "Processed frame 3116 | Unique pearbags: 171\n",
      "Processed frame 3117 | Unique pearbags: 171\n",
      "Processed frame 3118 | Unique pearbags: 171\n",
      "Processed frame 3119 | Unique pearbags: 171\n",
      "Processed frame 3120 | Unique pearbags: 171\n",
      "Processed frame 3121 | Unique pearbags: 171\n",
      "Processed frame 3122 | Unique pearbags: 171\n",
      "Processed frame 3123 | Unique pearbags: 171\n",
      "Processed frame 3124 | Unique pearbags: 171\n",
      "Processed frame 3125 | Unique pearbags: 171\n",
      "Processed frame 3126 | Unique pearbags: 171\n",
      "Processed frame 3127 | Unique pearbags: 171\n",
      "Processed frame 3128 | Unique pearbags: 171\n",
      "Processed frame 3129 | Unique pearbags: 171\n",
      "Processed frame 3130 | Unique pearbags: 171\n",
      "Processed frame 3131 | Unique pearbags: 171\n",
      "Processed frame 3132 | Unique pearbags: 171\n",
      "Processed frame 3133 | Unique pearbags: 171\n",
      "Processed frame 3134 | Unique pearbags: 171\n",
      "Processed frame 3135 | Unique pearbags: 171\n",
      "Processed frame 3136 | Unique pearbags: 172\n",
      "Processed frame 3137 | Unique pearbags: 172\n",
      "Processed frame 3138 | Unique pearbags: 173\n",
      "Processed frame 3139 | Unique pearbags: 173\n",
      "Processed frame 3140 | Unique pearbags: 173\n",
      "Processed frame 3141 | Unique pearbags: 173\n",
      "Processed frame 3142 | Unique pearbags: 173\n",
      "Processed frame 3143 | Unique pearbags: 173\n",
      "Processed frame 3144 | Unique pearbags: 173\n",
      "Processed frame 3145 | Unique pearbags: 173\n",
      "Processed frame 3146 | Unique pearbags: 173\n",
      "Processed frame 3147 | Unique pearbags: 173\n",
      "Processed frame 3148 | Unique pearbags: 173\n",
      "Processed frame 3149 | Unique pearbags: 173\n",
      "Processed frame 3150 | Unique pearbags: 173\n",
      "Processed frame 3151 | Unique pearbags: 173\n",
      "Processed frame 3152 | Unique pearbags: 173\n",
      "Processed frame 3153 | Unique pearbags: 173\n",
      "Processed frame 3154 | Unique pearbags: 173\n",
      "Processed frame 3155 | Unique pearbags: 173\n",
      "Processed frame 3156 | Unique pearbags: 173\n",
      "Processed frame 3157 | Unique pearbags: 173\n",
      "Processed frame 3158 | Unique pearbags: 173\n",
      "Processed frame 3159 | Unique pearbags: 173\n",
      "Processed frame 3160 | Unique pearbags: 173\n",
      "Processed frame 3161 | Unique pearbags: 173\n",
      "Processed frame 3162 | Unique pearbags: 173\n",
      "Processed frame 3163 | Unique pearbags: 173\n",
      "Processed frame 3164 | Unique pearbags: 173\n",
      "Processed frame 3165 | Unique pearbags: 173\n",
      "Processed frame 3166 | Unique pearbags: 173\n",
      "Processed frame 3167 | Unique pearbags: 173\n",
      "Processed frame 3168 | Unique pearbags: 173\n",
      "Processed frame 3169 | Unique pearbags: 173\n",
      "Processed frame 3170 | Unique pearbags: 173\n",
      "Processed frame 3171 | Unique pearbags: 173\n",
      "Processed frame 3172 | Unique pearbags: 173\n",
      "Processed frame 3173 | Unique pearbags: 174\n",
      "Processed frame 3174 | Unique pearbags: 174\n",
      "Processed frame 3175 | Unique pearbags: 174\n",
      "Processed frame 3176 | Unique pearbags: 174\n",
      "Processed frame 3177 | Unique pearbags: 174\n",
      "Processed frame 3178 | Unique pearbags: 174\n",
      "Processed frame 3179 | Unique pearbags: 174\n",
      "Processed frame 3180 | Unique pearbags: 174\n",
      "Processed frame 3181 | Unique pearbags: 174\n",
      "Processed frame 3182 | Unique pearbags: 174\n",
      "Processed frame 3183 | Unique pearbags: 175\n",
      "Processed frame 3184 | Unique pearbags: 175\n",
      "Processed frame 3185 | Unique pearbags: 175\n",
      "Processed frame 3186 | Unique pearbags: 175\n",
      "Processed frame 3187 | Unique pearbags: 175\n",
      "Processed frame 3188 | Unique pearbags: 175\n",
      "Processed frame 3189 | Unique pearbags: 175\n",
      "Processed frame 3190 | Unique pearbags: 175\n",
      "Processed frame 3191 | Unique pearbags: 175\n",
      "Processed frame 3192 | Unique pearbags: 175\n",
      "Processed frame 3193 | Unique pearbags: 175\n",
      "Processed frame 3194 | Unique pearbags: 175\n",
      "Processed frame 3195 | Unique pearbags: 175\n",
      "Processed frame 3196 | Unique pearbags: 175\n",
      "Processed frame 3197 | Unique pearbags: 175\n",
      "Processed frame 3198 | Unique pearbags: 175\n",
      "Processed frame 3199 | Unique pearbags: 175\n",
      "Processed frame 3200 | Unique pearbags: 175\n",
      "Processed frame 3201 | Unique pearbags: 175\n",
      "Processed frame 3202 | Unique pearbags: 175\n",
      "Processed frame 3203 | Unique pearbags: 175\n",
      "Processed frame 3204 | Unique pearbags: 175\n",
      "Processed frame 3205 | Unique pearbags: 175\n",
      "Processed frame 3206 | Unique pearbags: 175\n",
      "Processed frame 3207 | Unique pearbags: 175\n",
      "Processed frame 3208 | Unique pearbags: 175\n",
      "Processed frame 3209 | Unique pearbags: 175\n",
      "Processed frame 3210 | Unique pearbags: 175\n",
      "Processed frame 3211 | Unique pearbags: 175\n",
      "Processed frame 3212 | Unique pearbags: 175\n",
      "Processed frame 3213 | Unique pearbags: 175\n",
      "Processed frame 3214 | Unique pearbags: 175\n",
      "Processed frame 3215 | Unique pearbags: 175\n",
      "Processed frame 3216 | Unique pearbags: 175\n",
      "Processed frame 3217 | Unique pearbags: 176\n",
      "Processed frame 3218 | Unique pearbags: 176\n",
      "Processed frame 3219 | Unique pearbags: 176\n",
      "Processed frame 3220 | Unique pearbags: 176\n",
      "Processed frame 3221 | Unique pearbags: 176\n",
      "Processed frame 3222 | Unique pearbags: 177\n",
      "Processed frame 3223 | Unique pearbags: 177\n",
      "Processed frame 3224 | Unique pearbags: 177\n",
      "Processed frame 3225 | Unique pearbags: 177\n",
      "Processed frame 3226 | Unique pearbags: 177\n",
      "Processed frame 3227 | Unique pearbags: 177\n",
      "Processed frame 3228 | Unique pearbags: 177\n",
      "Processed frame 3229 | Unique pearbags: 177\n",
      "Processed frame 3230 | Unique pearbags: 177\n",
      "Processed frame 3231 | Unique pearbags: 177\n",
      "Processed frame 3232 | Unique pearbags: 177\n",
      "Processed frame 3233 | Unique pearbags: 177\n",
      "Processed frame 3234 | Unique pearbags: 178\n",
      "Processed frame 3235 | Unique pearbags: 178\n",
      "Processed frame 3236 | Unique pearbags: 178\n",
      "Processed frame 3237 | Unique pearbags: 178\n",
      "Processed frame 3238 | Unique pearbags: 178\n",
      "Processed frame 3239 | Unique pearbags: 178\n",
      "Processed frame 3240 | Unique pearbags: 178\n",
      "Processed frame 3241 | Unique pearbags: 178\n",
      "Processed frame 3242 | Unique pearbags: 178\n",
      "Processed frame 3243 | Unique pearbags: 178\n",
      "Processed frame 3244 | Unique pearbags: 178\n",
      "Processed frame 3245 | Unique pearbags: 178\n",
      "Processed frame 3246 | Unique pearbags: 178\n",
      "Processed frame 3247 | Unique pearbags: 178\n",
      "Processed frame 3248 | Unique pearbags: 178\n",
      "Processed frame 3249 | Unique pearbags: 178\n",
      "Processed frame 3250 | Unique pearbags: 178\n",
      "Processed frame 3251 | Unique pearbags: 178\n",
      "Processed frame 3252 | Unique pearbags: 178\n",
      "Processed frame 3253 | Unique pearbags: 178\n",
      "Processed frame 3254 | Unique pearbags: 178\n",
      "Processed frame 3255 | Unique pearbags: 180\n",
      "Processed frame 3256 | Unique pearbags: 180\n",
      "Processed frame 3257 | Unique pearbags: 180\n",
      "Processed frame 3258 | Unique pearbags: 180\n",
      "Processed frame 3259 | Unique pearbags: 180\n",
      "Processed frame 3260 | Unique pearbags: 180\n",
      "Processed frame 3261 | Unique pearbags: 180\n",
      "Processed frame 3262 | Unique pearbags: 180\n",
      "Processed frame 3263 | Unique pearbags: 180\n",
      "Processed frame 3264 | Unique pearbags: 180\n",
      "Processed frame 3265 | Unique pearbags: 180\n",
      "Processed frame 3266 | Unique pearbags: 180\n",
      "Processed frame 3267 | Unique pearbags: 180\n",
      "Processed frame 3268 | Unique pearbags: 180\n",
      "Processed frame 3269 | Unique pearbags: 180\n",
      "Processed frame 3270 | Unique pearbags: 180\n",
      "Processed frame 3271 | Unique pearbags: 180\n",
      "Processed frame 3272 | Unique pearbags: 180\n",
      "Processed frame 3273 | Unique pearbags: 180\n",
      "Processed frame 3274 | Unique pearbags: 180\n",
      "Processed frame 3275 | Unique pearbags: 180\n",
      "Processed frame 3276 | Unique pearbags: 180\n",
      "Processed frame 3277 | Unique pearbags: 180\n",
      "Processed frame 3278 | Unique pearbags: 180\n",
      "Processed frame 3279 | Unique pearbags: 180\n",
      "Processed frame 3280 | Unique pearbags: 180\n",
      "Processed frame 3281 | Unique pearbags: 180\n",
      "Processed frame 3282 | Unique pearbags: 180\n",
      "Processed frame 3283 | Unique pearbags: 180\n",
      "Processed frame 3284 | Unique pearbags: 180\n",
      "Processed frame 3285 | Unique pearbags: 180\n",
      "Processed frame 3286 | Unique pearbags: 180\n",
      "Processed frame 3287 | Unique pearbags: 180\n",
      "Processed frame 3288 | Unique pearbags: 180\n",
      "Processed frame 3289 | Unique pearbags: 180\n",
      "Processed frame 3290 | Unique pearbags: 180\n",
      "Processed frame 3291 | Unique pearbags: 180\n",
      "Processed frame 3292 | Unique pearbags: 180\n",
      "Processed frame 3293 | Unique pearbags: 180\n",
      "Processed frame 3294 | Unique pearbags: 180\n",
      "Processed frame 3295 | Unique pearbags: 180\n",
      "Processed frame 3296 | Unique pearbags: 180\n",
      "Processed frame 3297 | Unique pearbags: 180\n",
      "Processed frame 3298 | Unique pearbags: 180\n",
      "Processed frame 3299 | Unique pearbags: 180\n",
      "Processed frame 3300 | Unique pearbags: 180\n",
      "Processed frame 3301 | Unique pearbags: 180\n",
      "Processed frame 3302 | Unique pearbags: 180\n",
      "Processed frame 3303 | Unique pearbags: 180\n",
      "Processed frame 3304 | Unique pearbags: 180\n",
      "Processed frame 3305 | Unique pearbags: 180\n",
      "Processed frame 3306 | Unique pearbags: 180\n",
      "Processed frame 3307 | Unique pearbags: 180\n",
      "Processed frame 3308 | Unique pearbags: 180\n",
      "Processed frame 3309 | Unique pearbags: 180\n",
      "Processed frame 3310 | Unique pearbags: 181\n",
      "Processed frame 3311 | Unique pearbags: 181\n",
      "Processed frame 3312 | Unique pearbags: 181\n",
      "Processed frame 3313 | Unique pearbags: 181\n",
      "Processed frame 3314 | Unique pearbags: 182\n",
      "Processed frame 3315 | Unique pearbags: 182\n",
      "Processed frame 3316 | Unique pearbags: 182\n",
      "Processed frame 3317 | Unique pearbags: 182\n",
      "Processed frame 3318 | Unique pearbags: 182\n",
      "Processed frame 3319 | Unique pearbags: 182\n",
      "Processed frame 3320 | Unique pearbags: 182\n",
      "Processed frame 3321 | Unique pearbags: 182\n",
      "Processed frame 3322 | Unique pearbags: 182\n",
      "Processed frame 3323 | Unique pearbags: 182\n",
      "Processed frame 3324 | Unique pearbags: 182\n",
      "Processed frame 3325 | Unique pearbags: 182\n",
      "Processed frame 3326 | Unique pearbags: 182\n",
      "Processed frame 3327 | Unique pearbags: 182\n",
      "Processed frame 3328 | Unique pearbags: 182\n",
      "Processed frame 3329 | Unique pearbags: 182\n",
      "Processed frame 3330 | Unique pearbags: 182\n",
      "Processed frame 3331 | Unique pearbags: 182\n",
      "Processed frame 3332 | Unique pearbags: 182\n",
      "Processed frame 3333 | Unique pearbags: 182\n",
      "Processed frame 3334 | Unique pearbags: 182\n",
      "Processed frame 3335 | Unique pearbags: 182\n",
      "Processed frame 3336 | Unique pearbags: 182\n",
      "Processed frame 3337 | Unique pearbags: 182\n",
      "Processed frame 3338 | Unique pearbags: 182\n",
      "Processed frame 3339 | Unique pearbags: 182\n",
      "Processed frame 3340 | Unique pearbags: 182\n",
      "Processed frame 3341 | Unique pearbags: 182\n",
      "Processed frame 3342 | Unique pearbags: 182\n",
      "Processed frame 3343 | Unique pearbags: 182\n",
      "Processed frame 3344 | Unique pearbags: 182\n",
      "Processed frame 3345 | Unique pearbags: 182\n",
      "Processed frame 3346 | Unique pearbags: 182\n",
      "Processed frame 3347 | Unique pearbags: 182\n",
      "Processed frame 3348 | Unique pearbags: 182\n",
      "Processed frame 3349 | Unique pearbags: 182\n",
      "Processed frame 3350 | Unique pearbags: 182\n",
      "Processed frame 3351 | Unique pearbags: 182\n",
      "Processed frame 3352 | Unique pearbags: 182\n",
      "Processed frame 3353 | Unique pearbags: 182\n",
      "Processed frame 3354 | Unique pearbags: 182\n",
      "Processed frame 3355 | Unique pearbags: 182\n",
      "Processed frame 3356 | Unique pearbags: 182\n",
      "Processed frame 3357 | Unique pearbags: 182\n",
      "Processed frame 3358 | Unique pearbags: 182\n",
      "Processed frame 3359 | Unique pearbags: 182\n",
      "Processed frame 3360 | Unique pearbags: 182\n",
      "Processed frame 3361 | Unique pearbags: 182\n",
      "Processed frame 3362 | Unique pearbags: 182\n",
      "Processed frame 3363 | Unique pearbags: 182\n",
      "Processed frame 3364 | Unique pearbags: 182\n",
      "Processed frame 3365 | Unique pearbags: 182\n",
      "Processed frame 3366 | Unique pearbags: 182\n",
      "Processed frame 3367 | Unique pearbags: 182\n",
      "Processed frame 3368 | Unique pearbags: 182\n",
      "Processed frame 3369 | Unique pearbags: 182\n",
      "Processed frame 3370 | Unique pearbags: 182\n",
      "Processed frame 3371 | Unique pearbags: 182\n",
      "Processed frame 3372 | Unique pearbags: 182\n",
      "Processed frame 3373 | Unique pearbags: 182\n",
      "Processed frame 3374 | Unique pearbags: 182\n",
      "Processed frame 3375 | Unique pearbags: 182\n",
      "Processed frame 3376 | Unique pearbags: 182\n",
      "Processed frame 3377 | Unique pearbags: 182\n",
      "Processed frame 3378 | Unique pearbags: 182\n",
      "Processed frame 3379 | Unique pearbags: 182\n",
      "Processed frame 3380 | Unique pearbags: 182\n",
      "Processed frame 3381 | Unique pearbags: 182\n",
      "Processed frame 3382 | Unique pearbags: 182\n",
      "Processed frame 3383 | Unique pearbags: 182\n",
      "Processed frame 3384 | Unique pearbags: 182\n",
      "Processed frame 3385 | Unique pearbags: 182\n",
      "Processed frame 3386 | Unique pearbags: 182\n",
      "Processed frame 3387 | Unique pearbags: 182\n",
      "Processed frame 3388 | Unique pearbags: 182\n",
      "Processed frame 3389 | Unique pearbags: 182\n",
      "Processed frame 3390 | Unique pearbags: 182\n",
      "Processed frame 3391 | Unique pearbags: 183\n",
      "Processed frame 3392 | Unique pearbags: 183\n",
      "Processed frame 3393 | Unique pearbags: 183\n",
      "Processed frame 3394 | Unique pearbags: 183\n",
      "Processed frame 3395 | Unique pearbags: 183\n",
      "Processed frame 3396 | Unique pearbags: 183\n",
      "Processed frame 3397 | Unique pearbags: 183\n",
      "Processed frame 3398 | Unique pearbags: 183\n",
      "Processed frame 3399 | Unique pearbags: 183\n",
      "Processed frame 3400 | Unique pearbags: 183\n",
      "Processed frame 3401 | Unique pearbags: 183\n",
      "Processed frame 3402 | Unique pearbags: 183\n",
      "Processed frame 3403 | Unique pearbags: 183\n",
      "Processed frame 3404 | Unique pearbags: 183\n",
      "Processed frame 3405 | Unique pearbags: 183\n",
      "Processed frame 3406 | Unique pearbags: 183\n",
      "Processed frame 3407 | Unique pearbags: 183\n",
      "Processed frame 3408 | Unique pearbags: 183\n",
      "Processed frame 3409 | Unique pearbags: 183\n",
      "Processed frame 3410 | Unique pearbags: 183\n",
      "Processed frame 3411 | Unique pearbags: 183\n",
      "Processed frame 3412 | Unique pearbags: 183\n",
      "Processed frame 3413 | Unique pearbags: 183\n",
      "Processed frame 3414 | Unique pearbags: 183\n",
      "Processed frame 3415 | Unique pearbags: 183\n",
      "Processed frame 3416 | Unique pearbags: 183\n",
      "Processed frame 3417 | Unique pearbags: 183\n",
      "Processed frame 3418 | Unique pearbags: 183\n",
      "Processed frame 3419 | Unique pearbags: 183\n",
      "Processed frame 3420 | Unique pearbags: 183\n",
      "Processed frame 3421 | Unique pearbags: 183\n",
      "Processed frame 3422 | Unique pearbags: 183\n",
      "Processed frame 3423 | Unique pearbags: 184\n",
      "Processed frame 3424 | Unique pearbags: 184\n",
      "Processed frame 3425 | Unique pearbags: 184\n",
      "Processed frame 3426 | Unique pearbags: 184\n",
      "Processed frame 3427 | Unique pearbags: 184\n",
      "Processed frame 3428 | Unique pearbags: 184\n",
      "Processed frame 3429 | Unique pearbags: 184\n",
      "Processed frame 3430 | Unique pearbags: 184\n",
      "Processed frame 3431 | Unique pearbags: 184\n",
      "Processed frame 3432 | Unique pearbags: 184\n",
      "Processed frame 3433 | Unique pearbags: 184\n",
      "Processed frame 3434 | Unique pearbags: 184\n",
      "Processed frame 3435 | Unique pearbags: 184\n",
      "Processed frame 3436 | Unique pearbags: 184\n",
      "Processed frame 3437 | Unique pearbags: 184\n",
      "Processed frame 3438 | Unique pearbags: 184\n",
      "Processed frame 3439 | Unique pearbags: 184\n",
      "Processed frame 3440 | Unique pearbags: 184\n",
      "Processed frame 3441 | Unique pearbags: 184\n",
      "Processed frame 3442 | Unique pearbags: 184\n",
      "Processed frame 3443 | Unique pearbags: 184\n",
      "Processed frame 3444 | Unique pearbags: 184\n",
      "Processed frame 3445 | Unique pearbags: 184\n",
      "Processed frame 3446 | Unique pearbags: 184\n",
      "Processed frame 3447 | Unique pearbags: 184\n",
      "Processed frame 3448 | Unique pearbags: 184\n",
      "Processed frame 3449 | Unique pearbags: 184\n",
      "Processed frame 3450 | Unique pearbags: 184\n",
      "Processed frame 3451 | Unique pearbags: 184\n",
      "Processed frame 3452 | Unique pearbags: 184\n",
      "Processed frame 3453 | Unique pearbags: 184\n",
      "Processed frame 3454 | Unique pearbags: 184\n",
      "Processed frame 3455 | Unique pearbags: 184\n",
      "Processed frame 3456 | Unique pearbags: 184\n",
      "Processed frame 3457 | Unique pearbags: 184\n",
      "Processed frame 3458 | Unique pearbags: 184\n",
      "Processed frame 3459 | Unique pearbags: 184\n",
      "Processed frame 3460 | Unique pearbags: 184\n",
      "Processed frame 3461 | Unique pearbags: 184\n",
      "Processed frame 3462 | Unique pearbags: 184\n",
      "Processed frame 3463 | Unique pearbags: 184\n",
      "Processed frame 3464 | Unique pearbags: 184\n",
      "Processed frame 3465 | Unique pearbags: 184\n",
      "Processed frame 3466 | Unique pearbags: 184\n",
      "Processed frame 3467 | Unique pearbags: 184\n",
      "Processed frame 3468 | Unique pearbags: 184\n",
      "Processed frame 3469 | Unique pearbags: 184\n",
      "Processed frame 3470 | Unique pearbags: 184\n",
      "Processed frame 3471 | Unique pearbags: 184\n",
      "Processed frame 3472 | Unique pearbags: 184\n",
      "Processed frame 3473 | Unique pearbags: 187\n",
      "Processed frame 3474 | Unique pearbags: 187\n",
      "Processed frame 3475 | Unique pearbags: 187\n",
      "Processed frame 3476 | Unique pearbags: 187\n",
      "Processed frame 3477 | Unique pearbags: 187\n",
      "Processed frame 3478 | Unique pearbags: 188\n",
      "Processed frame 3479 | Unique pearbags: 188\n",
      "Processed frame 3480 | Unique pearbags: 188\n",
      "Processed frame 3481 | Unique pearbags: 188\n",
      "Processed frame 3482 | Unique pearbags: 188\n",
      "Processed frame 3483 | Unique pearbags: 188\n",
      "Processed frame 3484 | Unique pearbags: 188\n",
      "Processed frame 3485 | Unique pearbags: 188\n",
      "Processed frame 3486 | Unique pearbags: 188\n",
      "Processed frame 3487 | Unique pearbags: 188\n",
      "Processed frame 3488 | Unique pearbags: 188\n",
      "Processed frame 3489 | Unique pearbags: 188\n",
      "Processed frame 3490 | Unique pearbags: 188\n",
      "Processed frame 3491 | Unique pearbags: 188\n",
      "Processed frame 3492 | Unique pearbags: 188\n",
      "Processed frame 3493 | Unique pearbags: 188\n",
      "Processed frame 3494 | Unique pearbags: 188\n",
      "Processed frame 3495 | Unique pearbags: 188\n",
      "Processed frame 3496 | Unique pearbags: 189\n",
      "Processed frame 3497 | Unique pearbags: 189\n",
      "Processed frame 3498 | Unique pearbags: 189\n",
      "Processed frame 3499 | Unique pearbags: 189\n",
      "Processed frame 3500 | Unique pearbags: 189\n",
      "Processed frame 3501 | Unique pearbags: 189\n",
      "Processed frame 3502 | Unique pearbags: 189\n",
      "Processed frame 3503 | Unique pearbags: 189\n",
      "Processed frame 3504 | Unique pearbags: 189\n",
      "Processed frame 3505 | Unique pearbags: 189\n",
      "Processed frame 3506 | Unique pearbags: 189\n",
      "Processed frame 3507 | Unique pearbags: 189\n",
      "Processed frame 3508 | Unique pearbags: 189\n",
      "Processed frame 3509 | Unique pearbags: 189\n",
      "Processed frame 3510 | Unique pearbags: 189\n",
      "Processed frame 3511 | Unique pearbags: 189\n",
      "Processed frame 3512 | Unique pearbags: 189\n",
      "Processed frame 3513 | Unique pearbags: 189\n",
      "Processed frame 3514 | Unique pearbags: 189\n",
      "Processed frame 3515 | Unique pearbags: 189\n",
      "Processed frame 3516 | Unique pearbags: 190\n",
      "Processed frame 3517 | Unique pearbags: 191\n",
      "Processed frame 3518 | Unique pearbags: 191\n",
      "Processed frame 3519 | Unique pearbags: 191\n",
      "Processed frame 3520 | Unique pearbags: 191\n",
      "Processed frame 3521 | Unique pearbags: 191\n",
      "Processed frame 3522 | Unique pearbags: 191\n",
      "Processed frame 3523 | Unique pearbags: 191\n",
      "Processed frame 3524 | Unique pearbags: 191\n",
      "Processed frame 3525 | Unique pearbags: 191\n",
      "Processed frame 3526 | Unique pearbags: 191\n",
      "Processed frame 3527 | Unique pearbags: 191\n",
      "Processed frame 3528 | Unique pearbags: 191\n",
      "Processed frame 3529 | Unique pearbags: 191\n",
      "Processed frame 3530 | Unique pearbags: 191\n",
      "Processed frame 3531 | Unique pearbags: 191\n",
      "Processed frame 3532 | Unique pearbags: 191\n",
      "Processed frame 3533 | Unique pearbags: 191\n",
      "Processed frame 3534 | Unique pearbags: 191\n",
      "Processed frame 3535 | Unique pearbags: 191\n",
      "Processed frame 3536 | Unique pearbags: 191\n",
      "Processed frame 3537 | Unique pearbags: 191\n",
      "Processed frame 3538 | Unique pearbags: 191\n",
      "Processed frame 3539 | Unique pearbags: 191\n",
      "Processed frame 3540 | Unique pearbags: 191\n",
      "Processed frame 3541 | Unique pearbags: 191\n",
      "Processed frame 3542 | Unique pearbags: 191\n",
      "Processed frame 3543 | Unique pearbags: 191\n",
      "Processed frame 3544 | Unique pearbags: 191\n",
      "Processed frame 3545 | Unique pearbags: 191\n",
      "Processed frame 3546 | Unique pearbags: 191\n",
      "Processed frame 3547 | Unique pearbags: 191\n",
      "Processed frame 3548 | Unique pearbags: 191\n",
      "Processed frame 3549 | Unique pearbags: 191\n",
      "Processed frame 3550 | Unique pearbags: 191\n",
      "Processed frame 3551 | Unique pearbags: 192\n",
      "Processed frame 3552 | Unique pearbags: 192\n",
      "Processed frame 3553 | Unique pearbags: 192\n",
      "Processed frame 3554 | Unique pearbags: 192\n",
      "Processed frame 3555 | Unique pearbags: 192\n",
      "Processed frame 3556 | Unique pearbags: 192\n",
      "Processed frame 3557 | Unique pearbags: 192\n",
      "Processed frame 3558 | Unique pearbags: 192\n",
      "Processed frame 3559 | Unique pearbags: 192\n",
      "Processed frame 3560 | Unique pearbags: 192\n",
      "Processed frame 3561 | Unique pearbags: 192\n",
      "Processed frame 3562 | Unique pearbags: 192\n",
      "Processed frame 3563 | Unique pearbags: 192\n",
      "Processed frame 3564 | Unique pearbags: 193\n",
      "Processed frame 3565 | Unique pearbags: 193\n",
      "Processed frame 3566 | Unique pearbags: 193\n",
      "Processed frame 3567 | Unique pearbags: 193\n",
      "Processed frame 3568 | Unique pearbags: 193\n",
      "Processed frame 3569 | Unique pearbags: 193\n",
      "Processed frame 3570 | Unique pearbags: 194\n",
      "Processed frame 3571 | Unique pearbags: 194\n",
      "Processed frame 3572 | Unique pearbags: 194\n",
      "Processed frame 3573 | Unique pearbags: 194\n",
      "Processed frame 3574 | Unique pearbags: 195\n",
      "Processed frame 3575 | Unique pearbags: 195\n",
      "Processed frame 3576 | Unique pearbags: 195\n",
      "Processed frame 3577 | Unique pearbags: 195\n",
      "Processed frame 3578 | Unique pearbags: 195\n",
      "Processed frame 3579 | Unique pearbags: 195\n",
      "Processed frame 3580 | Unique pearbags: 195\n",
      "Processed frame 3581 | Unique pearbags: 195\n",
      "Processed frame 3582 | Unique pearbags: 195\n",
      "Processed frame 3583 | Unique pearbags: 195\n",
      "Processed frame 3584 | Unique pearbags: 195\n",
      "Processed frame 3585 | Unique pearbags: 195\n",
      "Processed frame 3586 | Unique pearbags: 195\n",
      "Processed frame 3587 | Unique pearbags: 195\n",
      "Processed frame 3588 | Unique pearbags: 195\n",
      "Processed frame 3589 | Unique pearbags: 195\n",
      "Processed frame 3590 | Unique pearbags: 195\n",
      "Processed frame 3591 | Unique pearbags: 195\n",
      "Processed frame 3592 | Unique pearbags: 195\n",
      "Processed frame 3593 | Unique pearbags: 195\n",
      "Processed frame 3594 | Unique pearbags: 195\n",
      "Processed frame 3595 | Unique pearbags: 195\n",
      "Processed frame 3596 | Unique pearbags: 195\n",
      "Processed frame 3597 | Unique pearbags: 195\n",
      "Processed frame 3598 | Unique pearbags: 195\n",
      "Processed frame 3599 | Unique pearbags: 195\n",
      "Processed frame 3600 | Unique pearbags: 195\n",
      "Processed frame 3601 | Unique pearbags: 195\n",
      "Processed frame 3602 | Unique pearbags: 195\n",
      "Processed frame 3603 | Unique pearbags: 195\n",
      "Processed frame 3604 | Unique pearbags: 195\n",
      "Processed frame 3605 | Unique pearbags: 195\n",
      "Processed frame 3606 | Unique pearbags: 195\n",
      "Processed frame 3607 | Unique pearbags: 195\n",
      "Processed frame 3608 | Unique pearbags: 195\n",
      "Processed frame 3609 | Unique pearbags: 195\n",
      "Processed frame 3610 | Unique pearbags: 195\n",
      "Processed frame 3611 | Unique pearbags: 195\n",
      "Processed frame 3612 | Unique pearbags: 195\n",
      "Processed frame 3613 | Unique pearbags: 195\n",
      "Processed frame 3614 | Unique pearbags: 195\n",
      "Processed frame 3615 | Unique pearbags: 195\n",
      "Processed frame 3616 | Unique pearbags: 195\n",
      "Processed frame 3617 | Unique pearbags: 195\n",
      "Processed frame 3618 | Unique pearbags: 196\n",
      "Processed frame 3619 | Unique pearbags: 196\n",
      "Processed frame 3620 | Unique pearbags: 196\n",
      "Processed frame 3621 | Unique pearbags: 196\n",
      "Processed frame 3622 | Unique pearbags: 196\n",
      "Processed frame 3623 | Unique pearbags: 196\n",
      "Processed frame 3624 | Unique pearbags: 196\n",
      "Processed frame 3625 | Unique pearbags: 196\n",
      "Processed frame 3626 | Unique pearbags: 196\n",
      "Processed frame 3627 | Unique pearbags: 196\n",
      "Processed frame 3628 | Unique pearbags: 196\n",
      "Processed frame 3629 | Unique pearbags: 196\n",
      "Processed frame 3630 | Unique pearbags: 196\n",
      "Processed frame 3631 | Unique pearbags: 197\n",
      "Processed frame 3632 | Unique pearbags: 197\n",
      "Processed frame 3633 | Unique pearbags: 197\n",
      "Processed frame 3634 | Unique pearbags: 199\n",
      "Processed frame 3635 | Unique pearbags: 199\n",
      "Processed frame 3636 | Unique pearbags: 199\n",
      "Processed frame 3637 | Unique pearbags: 199\n",
      "Processed frame 3638 | Unique pearbags: 199\n",
      "Processed frame 3639 | Unique pearbags: 199\n",
      "Processed frame 3640 | Unique pearbags: 200\n",
      "Processed frame 3641 | Unique pearbags: 200\n",
      "Processed frame 3642 | Unique pearbags: 200\n",
      "Processed frame 3643 | Unique pearbags: 200\n",
      "Processed frame 3644 | Unique pearbags: 200\n",
      "Processed frame 3645 | Unique pearbags: 200\n",
      "Processed frame 3646 | Unique pearbags: 200\n",
      "Processed frame 3647 | Unique pearbags: 200\n",
      "Processed frame 3648 | Unique pearbags: 200\n",
      "Processed frame 3649 | Unique pearbags: 200\n",
      "Processed frame 3650 | Unique pearbags: 200\n",
      "Processed frame 3651 | Unique pearbags: 200\n",
      "Processed frame 3652 | Unique pearbags: 200\n",
      "Processed frame 3653 | Unique pearbags: 200\n",
      "Processed frame 3654 | Unique pearbags: 200\n",
      "Processed frame 3655 | Unique pearbags: 200\n",
      "Processed frame 3656 | Unique pearbags: 200\n",
      "Processed frame 3657 | Unique pearbags: 200\n",
      "Processed frame 3658 | Unique pearbags: 200\n",
      "Processed frame 3659 | Unique pearbags: 200\n",
      "Processed frame 3660 | Unique pearbags: 200\n",
      "Processed frame 3661 | Unique pearbags: 200\n",
      "Processed frame 3662 | Unique pearbags: 200\n",
      "Processed frame 3663 | Unique pearbags: 200\n",
      "Processed frame 3664 | Unique pearbags: 200\n",
      "Processed frame 3665 | Unique pearbags: 200\n",
      "Processed frame 3666 | Unique pearbags: 201\n",
      "Processed frame 3667 | Unique pearbags: 201\n",
      "Processed frame 3668 | Unique pearbags: 201\n",
      "Processed frame 3669 | Unique pearbags: 201\n",
      "Processed frame 3670 | Unique pearbags: 201\n",
      "Processed frame 3671 | Unique pearbags: 203\n",
      "Processed frame 3672 | Unique pearbags: 203\n",
      "Processed frame 3673 | Unique pearbags: 203\n",
      "Processed frame 3674 | Unique pearbags: 203\n",
      "Processed frame 3675 | Unique pearbags: 204\n",
      "Processed frame 3676 | Unique pearbags: 204\n",
      "Processed frame 3677 | Unique pearbags: 204\n",
      "Processed frame 3678 | Unique pearbags: 204\n",
      "Processed frame 3679 | Unique pearbags: 208\n",
      "Processed frame 3680 | Unique pearbags: 208\n",
      "Processed frame 3681 | Unique pearbags: 208\n",
      "Processed frame 3682 | Unique pearbags: 208\n",
      "Processed frame 3683 | Unique pearbags: 208\n",
      "Processed frame 3684 | Unique pearbags: 208\n",
      "Processed frame 3685 | Unique pearbags: 208\n",
      "Processed frame 3686 | Unique pearbags: 208\n",
      "Processed frame 3687 | Unique pearbags: 208\n",
      "Processed frame 3688 | Unique pearbags: 208\n",
      "Processed frame 3689 | Unique pearbags: 208\n",
      "Processed frame 3690 | Unique pearbags: 208\n",
      "Processed frame 3691 | Unique pearbags: 208\n",
      "Processed frame 3692 | Unique pearbags: 208\n",
      "Processed frame 3693 | Unique pearbags: 208\n",
      "Processed frame 3694 | Unique pearbags: 208\n",
      "Processed frame 3695 | Unique pearbags: 209\n",
      "Processed frame 3696 | Unique pearbags: 209\n",
      "Processed frame 3697 | Unique pearbags: 209\n",
      "Processed frame 3698 | Unique pearbags: 209\n",
      "Processed frame 3699 | Unique pearbags: 209\n",
      "Processed frame 3700 | Unique pearbags: 210\n",
      "Processed frame 3701 | Unique pearbags: 210\n",
      "Processed frame 3702 | Unique pearbags: 210\n",
      "Processed frame 3703 | Unique pearbags: 210\n",
      "Processed frame 3704 | Unique pearbags: 210\n",
      "Processed frame 3705 | Unique pearbags: 210\n",
      "Processed frame 3706 | Unique pearbags: 211\n",
      "Processed frame 3707 | Unique pearbags: 211\n",
      "Processed frame 3708 | Unique pearbags: 211\n",
      "Processed frame 3709 | Unique pearbags: 211\n",
      "Processed frame 3710 | Unique pearbags: 211\n",
      "Processed frame 3711 | Unique pearbags: 211\n",
      "Processed frame 3712 | Unique pearbags: 211\n",
      "Processed frame 3713 | Unique pearbags: 211\n",
      "Processed frame 3714 | Unique pearbags: 211\n",
      "Processed frame 3715 | Unique pearbags: 211\n",
      "Processed frame 3716 | Unique pearbags: 211\n",
      "Processed frame 3717 | Unique pearbags: 211\n",
      "Processed frame 3718 | Unique pearbags: 211\n",
      "Processed frame 3719 | Unique pearbags: 211\n",
      "Processed frame 3720 | Unique pearbags: 211\n",
      "Processed frame 3721 | Unique pearbags: 211\n",
      "Processed frame 3722 | Unique pearbags: 211\n",
      "Processed frame 3723 | Unique pearbags: 211\n",
      "Processed frame 3724 | Unique pearbags: 211\n",
      "Processed frame 3725 | Unique pearbags: 211\n",
      "Processed frame 3726 | Unique pearbags: 211\n",
      "Processed frame 3727 | Unique pearbags: 211\n",
      "Processed frame 3728 | Unique pearbags: 211\n",
      "Processed frame 3729 | Unique pearbags: 211\n",
      "Processed frame 3730 | Unique pearbags: 211\n",
      "Processed frame 3731 | Unique pearbags: 211\n",
      "Processed frame 3732 | Unique pearbags: 211\n",
      "Processed frame 3733 | Unique pearbags: 211\n",
      "Processed frame 3734 | Unique pearbags: 211\n",
      "Processed frame 3735 | Unique pearbags: 211\n",
      "Processed frame 3736 | Unique pearbags: 211\n",
      "Processed frame 3737 | Unique pearbags: 212\n",
      "Processed frame 3738 | Unique pearbags: 212\n",
      "Processed frame 3739 | Unique pearbags: 212\n",
      "Processed frame 3740 | Unique pearbags: 212\n",
      "Processed frame 3741 | Unique pearbags: 213\n",
      "Processed frame 3742 | Unique pearbags: 213\n",
      "Processed frame 3743 | Unique pearbags: 213\n",
      "Processed frame 3744 | Unique pearbags: 213\n",
      "Processed frame 3745 | Unique pearbags: 213\n",
      "Processed frame 3746 | Unique pearbags: 214\n",
      "Processed frame 3747 | Unique pearbags: 214\n",
      "Processed frame 3748 | Unique pearbags: 214\n",
      "Processed frame 3749 | Unique pearbags: 214\n",
      "Processed frame 3750 | Unique pearbags: 214\n",
      "Processed frame 3751 | Unique pearbags: 214\n",
      "Processed frame 3752 | Unique pearbags: 215\n",
      "Processed frame 3753 | Unique pearbags: 215\n",
      "Processed frame 3754 | Unique pearbags: 215\n",
      "Processed frame 3755 | Unique pearbags: 215\n",
      "Processed frame 3756 | Unique pearbags: 215\n",
      "Processed frame 3757 | Unique pearbags: 215\n",
      "Processed frame 3758 | Unique pearbags: 215\n",
      "Processed frame 3759 | Unique pearbags: 215\n",
      "Processed frame 3760 | Unique pearbags: 215\n",
      "Processed frame 3761 | Unique pearbags: 215\n",
      "Processed frame 3762 | Unique pearbags: 215\n",
      "Processed frame 3763 | Unique pearbags: 215\n",
      "Processed frame 3764 | Unique pearbags: 215\n",
      "Processed frame 3765 | Unique pearbags: 216\n",
      "Processed frame 3766 | Unique pearbags: 216\n",
      "Processed frame 3767 | Unique pearbags: 216\n",
      "Processed frame 3768 | Unique pearbags: 216\n",
      "Processed frame 3769 | Unique pearbags: 216\n",
      "Processed frame 3770 | Unique pearbags: 216\n",
      "Processed frame 3771 | Unique pearbags: 216\n",
      "Processed frame 3772 | Unique pearbags: 216\n",
      "Processed frame 3773 | Unique pearbags: 216\n",
      "Processed frame 3774 | Unique pearbags: 216\n",
      "Processed frame 3775 | Unique pearbags: 216\n",
      "Processed frame 3776 | Unique pearbags: 216\n",
      "Processed frame 3777 | Unique pearbags: 216\n",
      "Processed frame 3778 | Unique pearbags: 216\n",
      "Processed frame 3779 | Unique pearbags: 216\n",
      "Processed frame 3780 | Unique pearbags: 216\n",
      "Processed frame 3781 | Unique pearbags: 216\n",
      "Processed frame 3782 | Unique pearbags: 216\n",
      "Processed frame 3783 | Unique pearbags: 216\n",
      "Processed frame 3784 | Unique pearbags: 216\n",
      "Processed frame 3785 | Unique pearbags: 217\n",
      "Processed frame 3786 | Unique pearbags: 217\n",
      "Processed frame 3787 | Unique pearbags: 218\n",
      "Processed frame 3788 | Unique pearbags: 218\n",
      "Processed frame 3789 | Unique pearbags: 218\n",
      "Processed frame 3790 | Unique pearbags: 218\n",
      "Processed frame 3791 | Unique pearbags: 218\n",
      "Processed frame 3792 | Unique pearbags: 221\n",
      "Processed frame 3793 | Unique pearbags: 221\n",
      "Processed frame 3794 | Unique pearbags: 221\n",
      "Processed frame 3795 | Unique pearbags: 221\n",
      "Processed frame 3796 | Unique pearbags: 222\n",
      "Processed frame 3797 | Unique pearbags: 222\n",
      "Processed frame 3798 | Unique pearbags: 223\n",
      "Processed frame 3799 | Unique pearbags: 223\n",
      "Processed frame 3800 | Unique pearbags: 223\n",
      "Processed frame 3801 | Unique pearbags: 223\n",
      "Processed frame 3802 | Unique pearbags: 223\n",
      "Processed frame 3803 | Unique pearbags: 224\n",
      "Processed frame 3804 | Unique pearbags: 224\n",
      "Processed frame 3805 | Unique pearbags: 224\n",
      "Processed frame 3806 | Unique pearbags: 224\n",
      "Processed frame 3807 | Unique pearbags: 224\n",
      "Processed frame 3808 | Unique pearbags: 224\n",
      "Processed frame 3809 | Unique pearbags: 224\n",
      "Processed frame 3810 | Unique pearbags: 224\n",
      "Processed frame 3811 | Unique pearbags: 224\n",
      "Processed frame 3812 | Unique pearbags: 224\n",
      "Processed frame 3813 | Unique pearbags: 224\n",
      "Processed frame 3814 | Unique pearbags: 224\n",
      "Processed frame 3815 | Unique pearbags: 224\n",
      "Processed frame 3816 | Unique pearbags: 224\n",
      "Processed frame 3817 | Unique pearbags: 224\n",
      "Processed frame 3818 | Unique pearbags: 224\n",
      "Processed frame 3819 | Unique pearbags: 224\n",
      "Processed frame 3820 | Unique pearbags: 224\n",
      "Processed frame 3821 | Unique pearbags: 224\n",
      "Processed frame 3822 | Unique pearbags: 224\n",
      "Processed frame 3823 | Unique pearbags: 224\n",
      "Processed frame 3824 | Unique pearbags: 224\n",
      "Processed frame 3825 | Unique pearbags: 224\n",
      "Processed frame 3826 | Unique pearbags: 224\n",
      "Processed frame 3827 | Unique pearbags: 224\n",
      "Processed frame 3828 | Unique pearbags: 224\n",
      "Processed frame 3829 | Unique pearbags: 225\n",
      "Processed frame 3830 | Unique pearbags: 225\n",
      "Processed frame 3831 | Unique pearbags: 225\n",
      "Processed frame 3832 | Unique pearbags: 225\n",
      "Processed frame 3833 | Unique pearbags: 225\n",
      "Processed frame 3834 | Unique pearbags: 225\n",
      "Processed frame 3835 | Unique pearbags: 225\n",
      "Processed frame 3836 | Unique pearbags: 225\n",
      "Processed frame 3837 | Unique pearbags: 225\n",
      "Processed frame 3838 | Unique pearbags: 225\n",
      "Processed frame 3839 | Unique pearbags: 225\n",
      "Processed frame 3840 | Unique pearbags: 225\n",
      "Processed frame 3841 | Unique pearbags: 225\n",
      "Processed frame 3842 | Unique pearbags: 225\n",
      "Processed frame 3843 | Unique pearbags: 225\n",
      "Processed frame 3844 | Unique pearbags: 225\n",
      "Processed frame 3845 | Unique pearbags: 225\n",
      "Processed frame 3846 | Unique pearbags: 225\n",
      "Processed frame 3847 | Unique pearbags: 225\n",
      "Processed frame 3848 | Unique pearbags: 225\n",
      "Processed frame 3849 | Unique pearbags: 225\n",
      "Processed frame 3850 | Unique pearbags: 225\n",
      "Processed frame 3851 | Unique pearbags: 225\n",
      "Processed frame 3852 | Unique pearbags: 225\n",
      "Processed frame 3853 | Unique pearbags: 225\n",
      "Processed frame 3854 | Unique pearbags: 225\n",
      "Processed frame 3855 | Unique pearbags: 225\n",
      "Processed frame 3856 | Unique pearbags: 225\n",
      "Processed frame 3857 | Unique pearbags: 225\n",
      "Processed frame 3858 | Unique pearbags: 225\n",
      "Processed frame 3859 | Unique pearbags: 225\n",
      "Processed frame 3860 | Unique pearbags: 225\n",
      "Processed frame 3861 | Unique pearbags: 225\n",
      "Processed frame 3862 | Unique pearbags: 225\n",
      "Processed frame 3863 | Unique pearbags: 225\n",
      "Processed frame 3864 | Unique pearbags: 225\n",
      "Processed frame 3865 | Unique pearbags: 225\n",
      "Processed frame 3866 | Unique pearbags: 225\n",
      "Processed frame 3867 | Unique pearbags: 225\n",
      "Processed frame 3868 | Unique pearbags: 225\n",
      "Processed frame 3869 | Unique pearbags: 225\n",
      "Processed frame 3870 | Unique pearbags: 226\n",
      "Processed frame 3871 | Unique pearbags: 226\n",
      "Processed frame 3872 | Unique pearbags: 226\n",
      "Processed frame 3873 | Unique pearbags: 226\n",
      "Processed frame 3874 | Unique pearbags: 226\n",
      "Processed frame 3875 | Unique pearbags: 226\n",
      "Processed frame 3876 | Unique pearbags: 226\n",
      "Processed frame 3877 | Unique pearbags: 226\n",
      "Processed frame 3878 | Unique pearbags: 226\n",
      "Processed frame 3879 | Unique pearbags: 226\n",
      "Processed frame 3880 | Unique pearbags: 226\n",
      "Processed frame 3881 | Unique pearbags: 226\n",
      "Processed frame 3882 | Unique pearbags: 226\n",
      "Processed frame 3883 | Unique pearbags: 226\n",
      "Processed frame 3884 | Unique pearbags: 227\n",
      "Processed frame 3885 | Unique pearbags: 227\n",
      "Processed frame 3886 | Unique pearbags: 227\n",
      "Processed frame 3887 | Unique pearbags: 227\n",
      "Processed frame 3888 | Unique pearbags: 227\n",
      "Processed frame 3889 | Unique pearbags: 227\n",
      "Processed frame 3890 | Unique pearbags: 227\n",
      "Processed frame 3891 | Unique pearbags: 227\n",
      "Processed frame 3892 | Unique pearbags: 227\n",
      "Processed frame 3893 | Unique pearbags: 227\n",
      "Processed frame 3894 | Unique pearbags: 227\n",
      "Processed frame 3895 | Unique pearbags: 227\n",
      "Processed frame 3896 | Unique pearbags: 227\n",
      "Processed frame 3897 | Unique pearbags: 227\n",
      "Processed frame 3898 | Unique pearbags: 227\n",
      "Processed frame 3899 | Unique pearbags: 227\n",
      "Processed frame 3900 | Unique pearbags: 227\n",
      "Processed frame 3901 | Unique pearbags: 227\n",
      "Processed frame 3902 | Unique pearbags: 227\n",
      "Processed frame 3903 | Unique pearbags: 227\n",
      "Processed frame 3904 | Unique pearbags: 227\n",
      "Processed frame 3905 | Unique pearbags: 227\n",
      "Processed frame 3906 | Unique pearbags: 227\n",
      "Processed frame 3907 | Unique pearbags: 227\n",
      "Processed frame 3908 | Unique pearbags: 227\n",
      "Processed frame 3909 | Unique pearbags: 228\n",
      "Processed frame 3910 | Unique pearbags: 228\n",
      "Processed frame 3911 | Unique pearbags: 228\n",
      "Processed frame 3912 | Unique pearbags: 229\n",
      "Processed frame 3913 | Unique pearbags: 229\n",
      "Processed frame 3914 | Unique pearbags: 229\n",
      "Processed frame 3915 | Unique pearbags: 229\n",
      "Processed frame 3916 | Unique pearbags: 229\n",
      "Processed frame 3917 | Unique pearbags: 229\n",
      "Processed frame 3918 | Unique pearbags: 230\n",
      "Processed frame 3919 | Unique pearbags: 230\n",
      "Processed frame 3920 | Unique pearbags: 230\n",
      "Processed frame 3921 | Unique pearbags: 230\n",
      "Processed frame 3922 | Unique pearbags: 230\n",
      "Processed frame 3923 | Unique pearbags: 230\n",
      "Processed frame 3924 | Unique pearbags: 230\n",
      "Processed frame 3925 | Unique pearbags: 230\n",
      "Processed frame 3926 | Unique pearbags: 230\n",
      "Processed frame 3927 | Unique pearbags: 230\n",
      "Processed frame 3928 | Unique pearbags: 230\n",
      "Processed frame 3929 | Unique pearbags: 230\n",
      "Processed frame 3930 | Unique pearbags: 230\n",
      "Processed frame 3931 | Unique pearbags: 230\n",
      "Processed frame 3932 | Unique pearbags: 230\n",
      "Processed frame 3933 | Unique pearbags: 230\n",
      "Processed frame 3934 | Unique pearbags: 230\n",
      "Processed frame 3935 | Unique pearbags: 230\n",
      "Processed frame 3936 | Unique pearbags: 230\n",
      "Processed frame 3937 | Unique pearbags: 230\n",
      "Processed frame 3938 | Unique pearbags: 230\n",
      "Processed frame 3939 | Unique pearbags: 230\n",
      "Processed frame 3940 | Unique pearbags: 230\n",
      "Processed frame 3941 | Unique pearbags: 230\n",
      "Processed frame 3942 | Unique pearbags: 230\n",
      "Processed frame 3943 | Unique pearbags: 230\n",
      "Processed frame 3944 | Unique pearbags: 230\n",
      "Processed frame 3945 | Unique pearbags: 230\n",
      "Processed frame 3946 | Unique pearbags: 230\n",
      "Processed frame 3947 | Unique pearbags: 230\n",
      "Processed frame 3948 | Unique pearbags: 230\n",
      "Processed frame 3949 | Unique pearbags: 230\n",
      "Processed frame 3950 | Unique pearbags: 230\n",
      "Processed frame 3951 | Unique pearbags: 231\n",
      "Processed frame 3952 | Unique pearbags: 231\n",
      "Processed frame 3953 | Unique pearbags: 231\n",
      "Processed frame 3954 | Unique pearbags: 231\n",
      "Processed frame 3955 | Unique pearbags: 231\n",
      "Processed frame 3956 | Unique pearbags: 231\n",
      "Processed frame 3957 | Unique pearbags: 231\n",
      "Processed frame 3958 | Unique pearbags: 231\n",
      "Processed frame 3959 | Unique pearbags: 231\n",
      "Processed frame 3960 | Unique pearbags: 231\n",
      "Processed frame 3961 | Unique pearbags: 231\n",
      "Processed frame 3962 | Unique pearbags: 231\n",
      "Processed frame 3963 | Unique pearbags: 231\n",
      "Processed frame 3964 | Unique pearbags: 231\n",
      "Processed frame 3965 | Unique pearbags: 231\n",
      "Processed frame 3966 | Unique pearbags: 231\n",
      "Processed frame 3967 | Unique pearbags: 231\n",
      "Processed frame 3968 | Unique pearbags: 231\n",
      "Processed frame 3969 | Unique pearbags: 231\n",
      "Processed frame 3970 | Unique pearbags: 231\n",
      "Processed frame 3971 | Unique pearbags: 231\n",
      "Processed frame 3972 | Unique pearbags: 231\n",
      "Processed frame 3973 | Unique pearbags: 231\n",
      "Processed frame 3974 | Unique pearbags: 231\n",
      "Processed frame 3975 | Unique pearbags: 231\n",
      "Processed frame 3976 | Unique pearbags: 231\n",
      "Processed frame 3977 | Unique pearbags: 231\n",
      "Processed frame 3978 | Unique pearbags: 231\n",
      "Processed frame 3979 | Unique pearbags: 231\n",
      "Processed frame 3980 | Unique pearbags: 231\n",
      "Processed frame 3981 | Unique pearbags: 231\n",
      "Processed frame 3982 | Unique pearbags: 231\n",
      "Processed frame 3983 | Unique pearbags: 231\n",
      "Processed frame 3984 | Unique pearbags: 231\n",
      "Processed frame 3985 | Unique pearbags: 231\n",
      "Processed frame 3986 | Unique pearbags: 231\n",
      "Processed frame 3987 | Unique pearbags: 232\n",
      "Processed frame 3988 | Unique pearbags: 232\n",
      "Processed frame 3989 | Unique pearbags: 232\n",
      "Processed frame 3990 | Unique pearbags: 232\n",
      "Processed frame 3991 | Unique pearbags: 232\n",
      "Processed frame 3992 | Unique pearbags: 232\n",
      "Processed frame 3993 | Unique pearbags: 232\n",
      "Processed frame 3994 | Unique pearbags: 232\n",
      "Processed frame 3995 | Unique pearbags: 232\n",
      "Processed frame 3996 | Unique pearbags: 233\n",
      "Processed frame 3997 | Unique pearbags: 233\n",
      "Processed frame 3998 | Unique pearbags: 233\n",
      "Processed frame 3999 | Unique pearbags: 233\n",
      "Processed frame 4000 | Unique pearbags: 233\n",
      "Processed frame 4001 | Unique pearbags: 233\n",
      "Processed frame 4002 | Unique pearbags: 233\n",
      "Processed frame 4003 | Unique pearbags: 233\n",
      "Processed frame 4004 | Unique pearbags: 233\n",
      "Processed frame 4005 | Unique pearbags: 233\n",
      "Processed frame 4006 | Unique pearbags: 233\n",
      "Processed frame 4007 | Unique pearbags: 233\n",
      "Processed frame 4008 | Unique pearbags: 233\n",
      "Processed frame 4009 | Unique pearbags: 233\n",
      "Processed frame 4010 | Unique pearbags: 233\n",
      "Processed frame 4011 | Unique pearbags: 233\n",
      "Processed frame 4012 | Unique pearbags: 233\n",
      "Processed frame 4013 | Unique pearbags: 233\n",
      "Processed frame 4014 | Unique pearbags: 233\n",
      "Processed frame 4015 | Unique pearbags: 233\n",
      "Processed frame 4016 | Unique pearbags: 233\n",
      "Processed frame 4017 | Unique pearbags: 233\n",
      "Processed frame 4018 | Unique pearbags: 233\n",
      "Processed frame 4019 | Unique pearbags: 233\n",
      "Processed frame 4020 | Unique pearbags: 233\n",
      "Processed frame 4021 | Unique pearbags: 233\n",
      "Processed frame 4022 | Unique pearbags: 233\n",
      "Processed frame 4023 | Unique pearbags: 234\n",
      "Processed frame 4024 | Unique pearbags: 234\n",
      "Processed frame 4025 | Unique pearbags: 234\n",
      "Processed frame 4026 | Unique pearbags: 234\n",
      "Processed frame 4027 | Unique pearbags: 234\n",
      "Processed frame 4028 | Unique pearbags: 234\n",
      "Processed frame 4029 | Unique pearbags: 234\n",
      "Processed frame 4030 | Unique pearbags: 234\n",
      "Processed frame 4031 | Unique pearbags: 234\n",
      "Processed frame 4032 | Unique pearbags: 234\n",
      "Processed frame 4033 | Unique pearbags: 234\n",
      "Processed frame 4034 | Unique pearbags: 234\n",
      "Processed frame 4035 | Unique pearbags: 234\n",
      "Processed frame 4036 | Unique pearbags: 234\n",
      "Processed frame 4037 | Unique pearbags: 234\n",
      "Processed frame 4038 | Unique pearbags: 234\n",
      "Processed frame 4039 | Unique pearbags: 234\n",
      "Processed frame 4040 | Unique pearbags: 234\n",
      "Processed frame 4041 | Unique pearbags: 234\n",
      "Processed frame 4042 | Unique pearbags: 234\n",
      "Processed frame 4043 | Unique pearbags: 234\n",
      "Processed frame 4044 | Unique pearbags: 234\n",
      "Processed frame 4045 | Unique pearbags: 234\n",
      "Processed frame 4046 | Unique pearbags: 234\n",
      "Processed frame 4047 | Unique pearbags: 234\n",
      "Processed frame 4048 | Unique pearbags: 234\n",
      "Processed frame 4049 | Unique pearbags: 234\n",
      "Processed frame 4050 | Unique pearbags: 234\n",
      "Processed frame 4051 | Unique pearbags: 234\n",
      "Processed frame 4052 | Unique pearbags: 234\n",
      "Processed frame 4053 | Unique pearbags: 234\n",
      "Processed frame 4054 | Unique pearbags: 234\n",
      "Processed frame 4055 | Unique pearbags: 234\n",
      "Processed frame 4056 | Unique pearbags: 234\n",
      "Processed frame 4057 | Unique pearbags: 234\n",
      "Processed frame 4058 | Unique pearbags: 234\n",
      "Processed frame 4059 | Unique pearbags: 234\n",
      "Processed frame 4060 | Unique pearbags: 234\n",
      "Processed frame 4061 | Unique pearbags: 234\n",
      "Processed frame 4062 | Unique pearbags: 234\n",
      "Processed frame 4063 | Unique pearbags: 234\n",
      "Processed frame 4064 | Unique pearbags: 234\n",
      "Processed frame 4065 | Unique pearbags: 234\n",
      "Processed frame 4066 | Unique pearbags: 234\n",
      "Processed frame 4067 | Unique pearbags: 234\n",
      "Processed frame 4068 | Unique pearbags: 234\n",
      "Processed frame 4069 | Unique pearbags: 234\n",
      "Processed frame 4070 | Unique pearbags: 234\n",
      "Processed frame 4071 | Unique pearbags: 234\n",
      "Processed frame 4072 | Unique pearbags: 234\n",
      "Processed frame 4073 | Unique pearbags: 234\n",
      "Processed frame 4074 | Unique pearbags: 234\n",
      "Processed frame 4075 | Unique pearbags: 234\n",
      "Processed frame 4076 | Unique pearbags: 234\n",
      "Processed frame 4077 | Unique pearbags: 235\n",
      "Processed frame 4078 | Unique pearbags: 235\n",
      "Processed frame 4079 | Unique pearbags: 235\n",
      "Processed frame 4080 | Unique pearbags: 235\n",
      "Processed frame 4081 | Unique pearbags: 235\n",
      "Processed frame 4082 | Unique pearbags: 235\n",
      "Processed frame 4083 | Unique pearbags: 235\n",
      "Processed frame 4084 | Unique pearbags: 235\n",
      "Processed frame 4085 | Unique pearbags: 235\n",
      "Processed frame 4086 | Unique pearbags: 235\n",
      "Processed frame 4087 | Unique pearbags: 235\n",
      "Processed frame 4088 | Unique pearbags: 235\n",
      "Processed frame 4089 | Unique pearbags: 235\n",
      "Processed frame 4090 | Unique pearbags: 236\n",
      "Processed frame 4091 | Unique pearbags: 236\n",
      "Processed frame 4092 | Unique pearbags: 236\n",
      "Processed frame 4093 | Unique pearbags: 236\n",
      "Processed frame 4094 | Unique pearbags: 236\n",
      "Processed frame 4095 | Unique pearbags: 236\n",
      "Processed frame 4096 | Unique pearbags: 236\n",
      "Processed frame 4097 | Unique pearbags: 236\n",
      "Processed frame 4098 | Unique pearbags: 236\n",
      "Processed frame 4099 | Unique pearbags: 236\n",
      "Processed frame 4100 | Unique pearbags: 236\n",
      "Processed frame 4101 | Unique pearbags: 236\n",
      "Processed frame 4102 | Unique pearbags: 236\n",
      "Processed frame 4103 | Unique pearbags: 236\n",
      "Processed frame 4104 | Unique pearbags: 236\n",
      "Processed frame 4105 | Unique pearbags: 236\n",
      "Processed frame 4106 | Unique pearbags: 236\n",
      "Processed frame 4107 | Unique pearbags: 236\n",
      "Processed frame 4108 | Unique pearbags: 236\n",
      "Processed frame 4109 | Unique pearbags: 236\n",
      "Processed frame 4110 | Unique pearbags: 236\n",
      "Processed frame 4111 | Unique pearbags: 236\n",
      "Processed frame 4112 | Unique pearbags: 236\n",
      "Processed frame 4113 | Unique pearbags: 236\n",
      "Processed frame 4114 | Unique pearbags: 236\n",
      "Processed frame 4115 | Unique pearbags: 236\n",
      "Processed frame 4116 | Unique pearbags: 236\n",
      "Processed frame 4117 | Unique pearbags: 236\n",
      "Processed frame 4118 | Unique pearbags: 236\n",
      "Processed frame 4119 | Unique pearbags: 236\n",
      "Processed frame 4120 | Unique pearbags: 236\n",
      "Processed frame 4121 | Unique pearbags: 236\n",
      "Processed frame 4122 | Unique pearbags: 236\n",
      "Processed frame 4123 | Unique pearbags: 236\n",
      "Processed frame 4124 | Unique pearbags: 236\n",
      "Processed frame 4125 | Unique pearbags: 236\n",
      "Processed frame 4126 | Unique pearbags: 236\n",
      "Processed frame 4127 | Unique pearbags: 236\n",
      "Processed frame 4128 | Unique pearbags: 236\n",
      "Processed frame 4129 | Unique pearbags: 236\n",
      "Processed frame 4130 | Unique pearbags: 236\n",
      "Processed frame 4131 | Unique pearbags: 236\n",
      "Processed frame 4132 | Unique pearbags: 236\n",
      "Processed frame 4133 | Unique pearbags: 236\n",
      "Processed frame 4134 | Unique pearbags: 236\n",
      "Processed frame 4135 | Unique pearbags: 237\n",
      "Processed frame 4136 | Unique pearbags: 237\n",
      "Processed frame 4137 | Unique pearbags: 237\n",
      "Processed frame 4138 | Unique pearbags: 237\n",
      "Processed frame 4139 | Unique pearbags: 237\n",
      "Processed frame 4140 | Unique pearbags: 239\n",
      "Processed frame 4141 | Unique pearbags: 239\n",
      "Processed frame 4142 | Unique pearbags: 239\n",
      "Processed frame 4143 | Unique pearbags: 239\n",
      "Processed frame 4144 | Unique pearbags: 240\n",
      "Processed frame 4145 | Unique pearbags: 240\n",
      "Processed frame 4146 | Unique pearbags: 240\n",
      "Processed frame 4147 | Unique pearbags: 240\n",
      "Processed frame 4148 | Unique pearbags: 240\n",
      "Processed frame 4149 | Unique pearbags: 240\n",
      "Processed frame 4150 | Unique pearbags: 240\n",
      "Processed frame 4151 | Unique pearbags: 240\n",
      "Processed frame 4152 | Unique pearbags: 240\n",
      "Processed frame 4153 | Unique pearbags: 240\n",
      "Processed frame 4154 | Unique pearbags: 240\n",
      "Processed frame 4155 | Unique pearbags: 241\n",
      "Processed frame 4156 | Unique pearbags: 241\n",
      "Processed frame 4157 | Unique pearbags: 241\n",
      "Processed frame 4158 | Unique pearbags: 241\n",
      "Processed frame 4159 | Unique pearbags: 241\n",
      "Processed frame 4160 | Unique pearbags: 242\n",
      "Processed frame 4161 | Unique pearbags: 242\n",
      "Processed frame 4162 | Unique pearbags: 242\n",
      "Processed frame 4163 | Unique pearbags: 242\n",
      "Processed frame 4164 | Unique pearbags: 242\n",
      "Processed frame 4165 | Unique pearbags: 242\n",
      "Processed frame 4166 | Unique pearbags: 242\n",
      "Processed frame 4167 | Unique pearbags: 242\n",
      "Processed frame 4168 | Unique pearbags: 242\n",
      "Processed frame 4169 | Unique pearbags: 242\n",
      "Processed frame 4170 | Unique pearbags: 242\n",
      "Processed frame 4171 | Unique pearbags: 242\n",
      "Processed frame 4172 | Unique pearbags: 242\n",
      "Processed frame 4173 | Unique pearbags: 242\n",
      "Processed frame 4174 | Unique pearbags: 242\n",
      "Processed frame 4175 | Unique pearbags: 242\n",
      "Processed frame 4176 | Unique pearbags: 242\n",
      "Processed frame 4177 | Unique pearbags: 242\n",
      "Processed frame 4178 | Unique pearbags: 242\n",
      "Processed frame 4179 | Unique pearbags: 242\n",
      "Processed frame 4180 | Unique pearbags: 242\n",
      "Processed frame 4181 | Unique pearbags: 242\n",
      "Processed frame 4182 | Unique pearbags: 243\n",
      "Processed frame 4183 | Unique pearbags: 243\n",
      "Processed frame 4184 | Unique pearbags: 243\n",
      "Processed frame 4185 | Unique pearbags: 243\n",
      "Processed frame 4186 | Unique pearbags: 243\n",
      "Processed frame 4187 | Unique pearbags: 243\n",
      "Processed frame 4188 | Unique pearbags: 243\n",
      "Processed frame 4189 | Unique pearbags: 243\n",
      "Processed frame 4190 | Unique pearbags: 243\n",
      "Processed frame 4191 | Unique pearbags: 243\n",
      "Processed frame 4192 | Unique pearbags: 243\n",
      "Processed frame 4193 | Unique pearbags: 244\n",
      "Processed frame 4194 | Unique pearbags: 244\n",
      "Processed frame 4195 | Unique pearbags: 244\n",
      "Processed frame 4196 | Unique pearbags: 244\n",
      "Processed frame 4197 | Unique pearbags: 244\n",
      "Processed frame 4198 | Unique pearbags: 244\n",
      "Processed frame 4199 | Unique pearbags: 244\n",
      "Processed frame 4200 | Unique pearbags: 244\n",
      "Processed frame 4201 | Unique pearbags: 244\n",
      "Processed frame 4202 | Unique pearbags: 244\n",
      "Processed frame 4203 | Unique pearbags: 244\n",
      "Processed frame 4204 | Unique pearbags: 244\n",
      "Processed frame 4205 | Unique pearbags: 244\n",
      "Processed frame 4206 | Unique pearbags: 244\n",
      "Processed frame 4207 | Unique pearbags: 244\n",
      "Processed frame 4208 | Unique pearbags: 244\n",
      "Processed frame 4209 | Unique pearbags: 244\n",
      "Processed frame 4210 | Unique pearbags: 244\n",
      "Processed frame 4211 | Unique pearbags: 244\n",
      "Processed frame 4212 | Unique pearbags: 244\n",
      "Processed frame 4213 | Unique pearbags: 244\n",
      "Processed frame 4214 | Unique pearbags: 244\n",
      "Processed frame 4215 | Unique pearbags: 244\n",
      "Processed frame 4216 | Unique pearbags: 244\n",
      "Processed frame 4217 | Unique pearbags: 244\n",
      "Processed frame 4218 | Unique pearbags: 244\n",
      "Processed frame 4219 | Unique pearbags: 244\n",
      "Processed frame 4220 | Unique pearbags: 244\n",
      "Processed frame 4221 | Unique pearbags: 244\n",
      "Processed frame 4222 | Unique pearbags: 244\n",
      "Processed frame 4223 | Unique pearbags: 244\n",
      "Processed frame 4224 | Unique pearbags: 244\n",
      "Processed frame 4225 | Unique pearbags: 244\n",
      "Processed frame 4226 | Unique pearbags: 244\n",
      "Processed frame 4227 | Unique pearbags: 244\n",
      "Processed frame 4228 | Unique pearbags: 244\n",
      "Processed frame 4229 | Unique pearbags: 244\n",
      "Processed frame 4230 | Unique pearbags: 244\n",
      "Processed frame 4231 | Unique pearbags: 244\n",
      "Processed frame 4232 | Unique pearbags: 244\n",
      "Processed frame 4233 | Unique pearbags: 244\n",
      "Processed frame 4234 | Unique pearbags: 244\n",
      "Processed frame 4235 | Unique pearbags: 244\n",
      "Processed frame 4236 | Unique pearbags: 244\n",
      "Processed frame 4237 | Unique pearbags: 245\n",
      "Processed frame 4238 | Unique pearbags: 245\n",
      "Processed frame 4239 | Unique pearbags: 245\n",
      "Processed frame 4240 | Unique pearbags: 245\n",
      "Processed frame 4241 | Unique pearbags: 245\n",
      "Processed frame 4242 | Unique pearbags: 245\n",
      "Processed frame 4243 | Unique pearbags: 245\n",
      "Processed frame 4244 | Unique pearbags: 245\n",
      "Processed frame 4245 | Unique pearbags: 245\n",
      "Processed frame 4246 | Unique pearbags: 245\n",
      "Processed frame 4247 | Unique pearbags: 245\n",
      "Processed frame 4248 | Unique pearbags: 245\n",
      "Processed frame 4249 | Unique pearbags: 245\n",
      "Processed frame 4250 | Unique pearbags: 245\n",
      "Processed frame 4251 | Unique pearbags: 245\n",
      "Processed frame 4252 | Unique pearbags: 245\n",
      "Processed frame 4253 | Unique pearbags: 245\n",
      "Processed frame 4254 | Unique pearbags: 245\n",
      "Processed frame 4255 | Unique pearbags: 245\n",
      "Processed frame 4256 | Unique pearbags: 245\n",
      "Processed frame 4257 | Unique pearbags: 245\n",
      "Processed frame 4258 | Unique pearbags: 245\n",
      "Processed frame 4259 | Unique pearbags: 245\n",
      "Processed frame 4260 | Unique pearbags: 245\n",
      "Processed frame 4261 | Unique pearbags: 245\n",
      "Processed frame 4262 | Unique pearbags: 245\n",
      "Processed frame 4263 | Unique pearbags: 245\n",
      "Processed frame 4264 | Unique pearbags: 245\n",
      "Processed frame 4265 | Unique pearbags: 245\n",
      "Processed frame 4266 | Unique pearbags: 245\n",
      "Processed frame 4267 | Unique pearbags: 245\n",
      "Processed frame 4268 | Unique pearbags: 245\n",
      "Processed frame 4269 | Unique pearbags: 245\n",
      "Processed frame 4270 | Unique pearbags: 245\n",
      "Processed frame 4271 | Unique pearbags: 245\n",
      "Processed frame 4272 | Unique pearbags: 245\n",
      "Processed frame 4273 | Unique pearbags: 245\n",
      "Processed frame 4274 | Unique pearbags: 245\n",
      "Processed frame 4275 | Unique pearbags: 245\n",
      "Processed frame 4276 | Unique pearbags: 245\n",
      "Processed frame 4277 | Unique pearbags: 245\n",
      "Processed frame 4278 | Unique pearbags: 245\n",
      "Processed frame 4279 | Unique pearbags: 245\n",
      "Processed frame 4280 | Unique pearbags: 245\n",
      "Processed frame 4281 | Unique pearbags: 245\n",
      "Processed frame 4282 | Unique pearbags: 245\n",
      "Processed frame 4283 | Unique pearbags: 245\n",
      "Processed frame 4284 | Unique pearbags: 246\n",
      "Processed frame 4285 | Unique pearbags: 246\n",
      "Processed frame 4286 | Unique pearbags: 246\n",
      "Processed frame 4287 | Unique pearbags: 246\n",
      "Processed frame 4288 | Unique pearbags: 246\n",
      "Processed frame 4289 | Unique pearbags: 247\n",
      "Processed frame 4290 | Unique pearbags: 248\n",
      "Processed frame 4291 | Unique pearbags: 248\n",
      "Processed frame 4292 | Unique pearbags: 249\n",
      "Processed frame 4293 | Unique pearbags: 249\n",
      "Processed frame 4294 | Unique pearbags: 249\n",
      "Processed frame 4295 | Unique pearbags: 249\n",
      "Processed frame 4296 | Unique pearbags: 249\n",
      "Processed frame 4297 | Unique pearbags: 249\n",
      "Processed frame 4298 | Unique pearbags: 249\n",
      "Processed frame 4299 | Unique pearbags: 249\n",
      "Processed frame 4300 | Unique pearbags: 249\n",
      "Processed frame 4301 | Unique pearbags: 249\n",
      "Processed frame 4302 | Unique pearbags: 249\n",
      "Processed frame 4303 | Unique pearbags: 249\n",
      "Processed frame 4304 | Unique pearbags: 249\n",
      "Processed frame 4305 | Unique pearbags: 249\n",
      "Processed frame 4306 | Unique pearbags: 249\n",
      "Processed frame 4307 | Unique pearbags: 249\n",
      "Processed frame 4308 | Unique pearbags: 249\n",
      "Processed frame 4309 | Unique pearbags: 249\n",
      "Processed frame 4310 | Unique pearbags: 249\n",
      "Processed frame 4311 | Unique pearbags: 249\n",
      "Processed frame 4312 | Unique pearbags: 249\n",
      "Processed frame 4313 | Unique pearbags: 249\n",
      "Processed frame 4314 | Unique pearbags: 249\n",
      "Processed frame 4315 | Unique pearbags: 249\n",
      "Processed frame 4316 | Unique pearbags: 249\n",
      "Processed frame 4317 | Unique pearbags: 249\n",
      "Processed frame 4318 | Unique pearbags: 249\n",
      "Processed frame 4319 | Unique pearbags: 249\n",
      "Processed frame 4320 | Unique pearbags: 249\n",
      "Processed frame 4321 | Unique pearbags: 249\n",
      "Processed frame 4322 | Unique pearbags: 249\n",
      "Processed frame 4323 | Unique pearbags: 249\n",
      "Processed frame 4324 | Unique pearbags: 249\n",
      "Processed frame 4325 | Unique pearbags: 249\n",
      "Processed frame 4326 | Unique pearbags: 249\n",
      "Processed frame 4327 | Unique pearbags: 249\n",
      "Processed frame 4328 | Unique pearbags: 249\n",
      "Processed frame 4329 | Unique pearbags: 249\n",
      "Processed frame 4330 | Unique pearbags: 249\n",
      "Processed frame 4331 | Unique pearbags: 249\n",
      "Processed frame 4332 | Unique pearbags: 249\n",
      "Processed frame 4333 | Unique pearbags: 249\n",
      "Processed frame 4334 | Unique pearbags: 249\n",
      "Processed frame 4335 | Unique pearbags: 249\n",
      "Processed frame 4336 | Unique pearbags: 249\n",
      "Processed frame 4337 | Unique pearbags: 249\n",
      "Processed frame 4338 | Unique pearbags: 249\n",
      "Processed frame 4339 | Unique pearbags: 249\n",
      "Processed frame 4340 | Unique pearbags: 249\n",
      "Processed frame 4341 | Unique pearbags: 249\n",
      "Processed frame 4342 | Unique pearbags: 249\n",
      "Processed frame 4343 | Unique pearbags: 249\n",
      "Processed frame 4344 | Unique pearbags: 249\n",
      "Processed frame 4345 | Unique pearbags: 249\n",
      "Processed frame 4346 | Unique pearbags: 250\n",
      "Processed frame 4347 | Unique pearbags: 250\n",
      "Processed frame 4348 | Unique pearbags: 250\n",
      "Processed frame 4349 | Unique pearbags: 250\n",
      "Processed frame 4350 | Unique pearbags: 250\n",
      "Processed frame 4351 | Unique pearbags: 250\n",
      "Processed frame 4352 | Unique pearbags: 250\n",
      "Processed frame 4353 | Unique pearbags: 250\n",
      "Processed frame 4354 | Unique pearbags: 250\n",
      "Processed frame 4355 | Unique pearbags: 250\n",
      "Processed frame 4356 | Unique pearbags: 250\n",
      "Processed frame 4357 | Unique pearbags: 250\n",
      "Processed frame 4358 | Unique pearbags: 250\n",
      "Processed frame 4359 | Unique pearbags: 250\n",
      "Processed frame 4360 | Unique pearbags: 250\n",
      "Processed frame 4361 | Unique pearbags: 250\n",
      "Processed frame 4362 | Unique pearbags: 250\n",
      "Processed frame 4363 | Unique pearbags: 250\n",
      "Processed frame 4364 | Unique pearbags: 250\n",
      "Processed frame 4365 | Unique pearbags: 250\n",
      "Processed frame 4366 | Unique pearbags: 250\n",
      "Processed frame 4367 | Unique pearbags: 250\n",
      "Processed frame 4368 | Unique pearbags: 250\n",
      "Processed frame 4369 | Unique pearbags: 250\n",
      "Processed frame 4370 | Unique pearbags: 250\n",
      "Processed frame 4371 | Unique pearbags: 250\n",
      "Processed frame 4372 | Unique pearbags: 250\n",
      "Processed frame 4373 | Unique pearbags: 250\n",
      "Processed frame 4374 | Unique pearbags: 251\n",
      "Processed frame 4375 | Unique pearbags: 251\n",
      "Processed frame 4376 | Unique pearbags: 251\n",
      "Processed frame 4377 | Unique pearbags: 251\n",
      "Processed frame 4378 | Unique pearbags: 251\n",
      "Processed frame 4379 | Unique pearbags: 251\n",
      "Processed frame 4380 | Unique pearbags: 251\n",
      "Processed frame 4381 | Unique pearbags: 251\n",
      "Processed frame 4382 | Unique pearbags: 251\n",
      "Processed frame 4383 | Unique pearbags: 251\n",
      "Processed frame 4384 | Unique pearbags: 251\n",
      "Processed frame 4385 | Unique pearbags: 251\n",
      "Processed frame 4386 | Unique pearbags: 251\n",
      "Processed frame 4387 | Unique pearbags: 251\n",
      "Processed frame 4388 | Unique pearbags: 251\n",
      "Processed frame 4389 | Unique pearbags: 251\n",
      "Processed frame 4390 | Unique pearbags: 251\n",
      "Processed frame 4391 | Unique pearbags: 251\n",
      "Processed frame 4392 | Unique pearbags: 251\n",
      "Processed frame 4393 | Unique pearbags: 251\n",
      "Processed frame 4394 | Unique pearbags: 251\n",
      "Processed frame 4395 | Unique pearbags: 251\n",
      "Processed frame 4396 | Unique pearbags: 251\n",
      "Processed frame 4397 | Unique pearbags: 251\n",
      "Processed frame 4398 | Unique pearbags: 251\n",
      "Processed frame 4399 | Unique pearbags: 251\n",
      "Processed frame 4400 | Unique pearbags: 251\n",
      "Processed frame 4401 | Unique pearbags: 251\n",
      "Processed frame 4402 | Unique pearbags: 251\n",
      "Processed frame 4403 | Unique pearbags: 251\n",
      "Processed frame 4404 | Unique pearbags: 251\n",
      "Processed frame 4405 | Unique pearbags: 251\n",
      "Processed frame 4406 | Unique pearbags: 251\n",
      "Processed frame 4407 | Unique pearbags: 251\n",
      "Processed frame 4408 | Unique pearbags: 251\n",
      "Processed frame 4409 | Unique pearbags: 251\n",
      "Processed frame 4410 | Unique pearbags: 251\n",
      "Processed frame 4411 | Unique pearbags: 251\n",
      "Processed frame 4412 | Unique pearbags: 251\n",
      "Processed frame 4413 | Unique pearbags: 251\n",
      "Processed frame 4414 | Unique pearbags: 251\n",
      "Processed frame 4415 | Unique pearbags: 251\n",
      "Processed frame 4416 | Unique pearbags: 251\n",
      "Processed frame 4417 | Unique pearbags: 251\n",
      "Processed frame 4418 | Unique pearbags: 251\n",
      "Processed frame 4419 | Unique pearbags: 251\n",
      "Processed frame 4420 | Unique pearbags: 252\n",
      "Processed frame 4421 | Unique pearbags: 252\n",
      "Processed frame 4422 | Unique pearbags: 252\n",
      "Processed frame 4423 | Unique pearbags: 252\n",
      "Processed frame 4424 | Unique pearbags: 252\n",
      "Processed frame 4425 | Unique pearbags: 252\n",
      "Processed frame 4426 | Unique pearbags: 252\n",
      "Processed frame 4427 | Unique pearbags: 252\n",
      "Processed frame 4428 | Unique pearbags: 252\n",
      "Processed frame 4429 | Unique pearbags: 252\n",
      "Processed frame 4430 | Unique pearbags: 252\n",
      "Processed frame 4431 | Unique pearbags: 252\n",
      "Processed frame 4432 | Unique pearbags: 252\n",
      "Processed frame 4433 | Unique pearbags: 252\n",
      "Processed frame 4434 | Unique pearbags: 252\n",
      "Processed frame 4435 | Unique pearbags: 252\n",
      "Processed frame 4436 | Unique pearbags: 252\n",
      "Processed frame 4437 | Unique pearbags: 252\n",
      "Processed frame 4438 | Unique pearbags: 252\n",
      "Processed frame 4439 | Unique pearbags: 252\n",
      "Processed frame 4440 | Unique pearbags: 252\n",
      "Processed frame 4441 | Unique pearbags: 252\n",
      "Processed frame 4442 | Unique pearbags: 252\n",
      "Processed frame 4443 | Unique pearbags: 252\n",
      "Processed frame 4444 | Unique pearbags: 252\n",
      "Processed frame 4445 | Unique pearbags: 252\n",
      "Processed frame 4446 | Unique pearbags: 252\n",
      "Processed frame 4447 | Unique pearbags: 252\n",
      "Processed frame 4448 | Unique pearbags: 252\n",
      "Processed frame 4449 | Unique pearbags: 253\n",
      "Processed frame 4450 | Unique pearbags: 253\n",
      "Processed frame 4451 | Unique pearbags: 253\n",
      "Processed frame 4452 | Unique pearbags: 253\n",
      "Processed frame 4453 | Unique pearbags: 253\n",
      "Processed frame 4454 | Unique pearbags: 253\n",
      "Processed frame 4455 | Unique pearbags: 253\n",
      "Processed frame 4456 | Unique pearbags: 253\n",
      "Processed frame 4457 | Unique pearbags: 253\n",
      "Processed frame 4458 | Unique pearbags: 253\n",
      "Processed frame 4459 | Unique pearbags: 253\n",
      "Processed frame 4460 | Unique pearbags: 253\n",
      "Processed frame 4461 | Unique pearbags: 253\n",
      "Processed frame 4462 | Unique pearbags: 253\n",
      "Processed frame 4463 | Unique pearbags: 253\n",
      "Processed frame 4464 | Unique pearbags: 253\n",
      "Processed frame 4465 | Unique pearbags: 253\n",
      "Processed frame 4466 | Unique pearbags: 253\n",
      "Processed frame 4467 | Unique pearbags: 253\n",
      "Processed frame 4468 | Unique pearbags: 253\n",
      "Processed frame 4469 | Unique pearbags: 253\n",
      "Processed frame 4470 | Unique pearbags: 253\n",
      "Processed frame 4471 | Unique pearbags: 253\n",
      "Processed frame 4472 | Unique pearbags: 253\n",
      "Processed frame 4473 | Unique pearbags: 254\n",
      "Processed frame 4474 | Unique pearbags: 254\n",
      "Processed frame 4475 | Unique pearbags: 254\n",
      "Processed frame 4476 | Unique pearbags: 254\n",
      "Processed frame 4477 | Unique pearbags: 254\n",
      "Processed frame 4478 | Unique pearbags: 254\n",
      "Processed frame 4479 | Unique pearbags: 254\n",
      "Processed frame 4480 | Unique pearbags: 254\n",
      "Processed frame 4481 | Unique pearbags: 254\n",
      "Processed frame 4482 | Unique pearbags: 254\n",
      "Processed frame 4483 | Unique pearbags: 254\n",
      "Processed frame 4484 | Unique pearbags: 254\n",
      "Processed frame 4485 | Unique pearbags: 254\n",
      "Processed frame 4486 | Unique pearbags: 254\n",
      "Processed frame 4487 | Unique pearbags: 254\n",
      "Processed frame 4488 | Unique pearbags: 254\n",
      "Processed frame 4489 | Unique pearbags: 254\n",
      "Processed frame 4490 | Unique pearbags: 254\n",
      "Processed frame 4491 | Unique pearbags: 254\n",
      "Processed frame 4492 | Unique pearbags: 254\n",
      "Processed frame 4493 | Unique pearbags: 254\n",
      "Processed frame 4494 | Unique pearbags: 254\n",
      "Processed frame 4495 | Unique pearbags: 254\n",
      "Processed frame 4496 | Unique pearbags: 254\n",
      "Processed frame 4497 | Unique pearbags: 254\n",
      "Processed frame 4498 | Unique pearbags: 254\n",
      "Processed frame 4499 | Unique pearbags: 254\n",
      "Processed frame 4500 | Unique pearbags: 254\n",
      "Processed frame 4501 | Unique pearbags: 254\n",
      "Processed frame 4502 | Unique pearbags: 254\n",
      "Processed frame 4503 | Unique pearbags: 254\n",
      "Processed frame 4504 | Unique pearbags: 254\n",
      "Processed frame 4505 | Unique pearbags: 254\n",
      "Processed frame 4506 | Unique pearbags: 255\n",
      "Processed frame 4507 | Unique pearbags: 255\n",
      "Processed frame 4508 | Unique pearbags: 255\n",
      "Processed frame 4509 | Unique pearbags: 255\n",
      "Processed frame 4510 | Unique pearbags: 255\n",
      "Processed frame 4511 | Unique pearbags: 255\n",
      "Processed frame 4512 | Unique pearbags: 255\n",
      "Processed frame 4513 | Unique pearbags: 255\n",
      "Processed frame 4514 | Unique pearbags: 255\n",
      "Processed frame 4515 | Unique pearbags: 256\n",
      "Processed frame 4516 | Unique pearbags: 256\n",
      "Processed frame 4517 | Unique pearbags: 256\n",
      "Processed frame 4518 | Unique pearbags: 256\n",
      "Processed frame 4519 | Unique pearbags: 256\n",
      "Processed frame 4520 | Unique pearbags: 256\n",
      "Processed frame 4521 | Unique pearbags: 256\n",
      "Processed frame 4522 | Unique pearbags: 256\n",
      "Processed frame 4523 | Unique pearbags: 257\n",
      "Processed frame 4524 | Unique pearbags: 257\n",
      "Processed frame 4525 | Unique pearbags: 257\n",
      "Processed frame 4526 | Unique pearbags: 257\n",
      "Processed frame 4527 | Unique pearbags: 257\n",
      "Processed frame 4528 | Unique pearbags: 257\n",
      "Processed frame 4529 | Unique pearbags: 257\n",
      "Processed frame 4530 | Unique pearbags: 258\n",
      "Processed frame 4531 | Unique pearbags: 258\n",
      "Processed frame 4532 | Unique pearbags: 258\n",
      "Processed frame 4533 | Unique pearbags: 259\n",
      "Processed frame 4534 | Unique pearbags: 259\n",
      "Processed frame 4535 | Unique pearbags: 259\n",
      "Processed frame 4536 | Unique pearbags: 259\n",
      "Processed frame 4537 | Unique pearbags: 259\n",
      "Processed frame 4538 | Unique pearbags: 259\n",
      "Processed frame 4539 | Unique pearbags: 259\n",
      "Processed frame 4540 | Unique pearbags: 259\n",
      "Processed frame 4541 | Unique pearbags: 260\n",
      "Processed frame 4542 | Unique pearbags: 260\n",
      "Processed frame 4543 | Unique pearbags: 260\n",
      "Processed frame 4544 | Unique pearbags: 260\n",
      "Processed frame 4545 | Unique pearbags: 260\n",
      "Processed frame 4546 | Unique pearbags: 260\n",
      "Processed frame 4547 | Unique pearbags: 260\n",
      "Processed frame 4548 | Unique pearbags: 260\n",
      "Processed frame 4549 | Unique pearbags: 260\n",
      "Processed frame 4550 | Unique pearbags: 260\n",
      "Processed frame 4551 | Unique pearbags: 260\n",
      "Processed frame 4552 | Unique pearbags: 260\n",
      "Processed frame 4553 | Unique pearbags: 260\n",
      "Processed frame 4554 | Unique pearbags: 260\n",
      "Processed frame 4555 | Unique pearbags: 260\n",
      "Processed frame 4556 | Unique pearbags: 260\n",
      "Processed frame 4557 | Unique pearbags: 260\n",
      "Processed frame 4558 | Unique pearbags: 260\n",
      "Processed frame 4559 | Unique pearbags: 260\n",
      "Processed frame 4560 | Unique pearbags: 260\n",
      "Processed frame 4561 | Unique pearbags: 260\n",
      "Processed frame 4562 | Unique pearbags: 260\n",
      "Processed frame 4563 | Unique pearbags: 260\n",
      "Processed frame 4564 | Unique pearbags: 260\n",
      "Processed frame 4565 | Unique pearbags: 260\n",
      "Processed frame 4566 | Unique pearbags: 260\n",
      "Processed frame 4567 | Unique pearbags: 260\n",
      "Processed frame 4568 | Unique pearbags: 260\n",
      "Processed frame 4569 | Unique pearbags: 260\n",
      "Processed frame 4570 | Unique pearbags: 260\n",
      "Processed frame 4571 | Unique pearbags: 260\n",
      "Processed frame 4572 | Unique pearbags: 260\n",
      "Processed frame 4573 | Unique pearbags: 260\n",
      "Processed frame 4574 | Unique pearbags: 260\n",
      "Processed frame 4575 | Unique pearbags: 260\n",
      "Processed frame 4576 | Unique pearbags: 260\n",
      "Processed frame 4577 | Unique pearbags: 260\n",
      "Processed frame 4578 | Unique pearbags: 260\n",
      "Processed frame 4579 | Unique pearbags: 260\n",
      "Processed frame 4580 | Unique pearbags: 260\n",
      "Processed frame 4581 | Unique pearbags: 260\n",
      "Processed frame 4582 | Unique pearbags: 260\n",
      "Processed frame 4583 | Unique pearbags: 260\n",
      "Processed frame 4584 | Unique pearbags: 261\n",
      "Processed frame 4585 | Unique pearbags: 261\n",
      "Processed frame 4586 | Unique pearbags: 261\n",
      "Processed frame 4587 | Unique pearbags: 261\n",
      "Processed frame 4588 | Unique pearbags: 261\n",
      "Processed frame 4589 | Unique pearbags: 261\n",
      "Processed frame 4590 | Unique pearbags: 261\n",
      "Processed frame 4591 | Unique pearbags: 261\n",
      "Processed frame 4592 | Unique pearbags: 261\n",
      "Processed frame 4593 | Unique pearbags: 261\n",
      "Processed frame 4594 | Unique pearbags: 261\n",
      "Processed frame 4595 | Unique pearbags: 261\n",
      "Processed frame 4596 | Unique pearbags: 261\n",
      "Processed frame 4597 | Unique pearbags: 261\n",
      "Processed frame 4598 | Unique pearbags: 261\n",
      "Processed frame 4599 | Unique pearbags: 261\n",
      "Processed frame 4600 | Unique pearbags: 261\n",
      "Processed frame 4601 | Unique pearbags: 261\n",
      "Processed frame 4602 | Unique pearbags: 261\n",
      "Processed frame 4603 | Unique pearbags: 261\n",
      "Processed frame 4604 | Unique pearbags: 261\n",
      "Processed frame 4605 | Unique pearbags: 261\n",
      "Processed frame 4606 | Unique pearbags: 261\n",
      "Processed frame 4607 | Unique pearbags: 261\n",
      "Processed frame 4608 | Unique pearbags: 261\n",
      "Processed frame 4609 | Unique pearbags: 261\n",
      "Processed frame 4610 | Unique pearbags: 261\n",
      "Processed frame 4611 | Unique pearbags: 261\n",
      "Processed frame 4612 | Unique pearbags: 261\n",
      "Processed frame 4613 | Unique pearbags: 261\n",
      "Processed frame 4614 | Unique pearbags: 261\n",
      "Processed frame 4615 | Unique pearbags: 261\n",
      "Processed frame 4616 | Unique pearbags: 261\n",
      "Processed frame 4617 | Unique pearbags: 261\n",
      "Processed frame 4618 | Unique pearbags: 261\n",
      "Processed frame 4619 | Unique pearbags: 261\n",
      "Processed frame 4620 | Unique pearbags: 261\n",
      "Processed frame 4621 | Unique pearbags: 261\n",
      "Processed frame 4622 | Unique pearbags: 261\n",
      "Processed frame 4623 | Unique pearbags: 262\n",
      "Processed frame 4624 | Unique pearbags: 262\n",
      "Processed frame 4625 | Unique pearbags: 262\n",
      "Processed frame 4626 | Unique pearbags: 262\n",
      "Processed frame 4627 | Unique pearbags: 263\n",
      "Processed frame 4628 | Unique pearbags: 263\n",
      "Processed frame 4629 | Unique pearbags: 263\n",
      "Processed frame 4630 | Unique pearbags: 263\n",
      "Processed frame 4631 | Unique pearbags: 263\n",
      "Processed frame 4632 | Unique pearbags: 263\n",
      "Processed frame 4633 | Unique pearbags: 263\n",
      "Processed frame 4634 | Unique pearbags: 263\n",
      "Processed frame 4635 | Unique pearbags: 263\n",
      "Processed frame 4636 | Unique pearbags: 263\n",
      "Processed frame 4637 | Unique pearbags: 263\n",
      "Processed frame 4638 | Unique pearbags: 263\n",
      "Processed frame 4639 | Unique pearbags: 263\n",
      "Processed frame 4640 | Unique pearbags: 263\n",
      "Processed frame 4641 | Unique pearbags: 263\n",
      "Processed frame 4642 | Unique pearbags: 263\n",
      "Processed frame 4643 | Unique pearbags: 263\n",
      "Processed frame 4644 | Unique pearbags: 263\n",
      "Processed frame 4645 | Unique pearbags: 263\n",
      "Processed frame 4646 | Unique pearbags: 263\n",
      "Processed frame 4647 | Unique pearbags: 263\n",
      "Processed frame 4648 | Unique pearbags: 263\n",
      "Processed frame 4649 | Unique pearbags: 263\n",
      "Processed frame 4650 | Unique pearbags: 263\n",
      "Processed frame 4651 | Unique pearbags: 263\n",
      "Processed frame 4652 | Unique pearbags: 263\n",
      "Processed frame 4653 | Unique pearbags: 263\n",
      "Processed frame 4654 | Unique pearbags: 263\n",
      "Processed frame 4655 | Unique pearbags: 263\n",
      "Processed frame 4656 | Unique pearbags: 263\n",
      "Processed frame 4657 | Unique pearbags: 263\n",
      "Processed frame 4658 | Unique pearbags: 263\n",
      "Processed frame 4659 | Unique pearbags: 263\n",
      "Processed frame 4660 | Unique pearbags: 263\n",
      "Processed frame 4661 | Unique pearbags: 263\n",
      "Processed frame 4662 | Unique pearbags: 263\n",
      "Processed frame 4663 | Unique pearbags: 263\n",
      "Processed frame 4664 | Unique pearbags: 263\n",
      "Processed frame 4665 | Unique pearbags: 263\n",
      "Processed frame 4666 | Unique pearbags: 263\n",
      "Processed frame 4667 | Unique pearbags: 263\n",
      "Processed frame 4668 | Unique pearbags: 263\n",
      "Processed frame 4669 | Unique pearbags: 263\n",
      "Processed frame 4670 | Unique pearbags: 263\n",
      "Processed frame 4671 | Unique pearbags: 263\n",
      "Processed frame 4672 | Unique pearbags: 263\n",
      "Processed frame 4673 | Unique pearbags: 264\n",
      "Processed frame 4674 | Unique pearbags: 264\n",
      "Processed frame 4675 | Unique pearbags: 264\n",
      "Processed frame 4676 | Unique pearbags: 264\n",
      "Processed frame 4677 | Unique pearbags: 264\n",
      "Processed frame 4678 | Unique pearbags: 264\n",
      "Processed frame 4679 | Unique pearbags: 265\n",
      "Processed frame 4680 | Unique pearbags: 265\n",
      "Processed frame 4681 | Unique pearbags: 265\n",
      "Processed frame 4682 | Unique pearbags: 265\n",
      "Processed frame 4683 | Unique pearbags: 265\n",
      "Processed frame 4684 | Unique pearbags: 265\n",
      "Processed frame 4685 | Unique pearbags: 265\n",
      "Processed frame 4686 | Unique pearbags: 265\n",
      "Processed frame 4687 | Unique pearbags: 265\n",
      "Processed frame 4688 | Unique pearbags: 265\n",
      "Processed frame 4689 | Unique pearbags: 265\n",
      "Processed frame 4690 | Unique pearbags: 265\n",
      "Processed frame 4691 | Unique pearbags: 265\n",
      "Processed frame 4692 | Unique pearbags: 265\n",
      "Processed frame 4693 | Unique pearbags: 265\n",
      "Processed frame 4694 | Unique pearbags: 265\n",
      "Processed frame 4695 | Unique pearbags: 265\n",
      "Processed frame 4696 | Unique pearbags: 265\n",
      "Processed frame 4697 | Unique pearbags: 266\n",
      "Processed frame 4698 | Unique pearbags: 266\n",
      "Processed frame 4699 | Unique pearbags: 266\n",
      "Processed frame 4700 | Unique pearbags: 266\n",
      "Processed frame 4701 | Unique pearbags: 266\n",
      "Processed frame 4702 | Unique pearbags: 266\n",
      "Processed frame 4703 | Unique pearbags: 266\n",
      "Processed frame 4704 | Unique pearbags: 266\n",
      "Processed frame 4705 | Unique pearbags: 266\n",
      "Processed frame 4706 | Unique pearbags: 266\n",
      "Processed frame 4707 | Unique pearbags: 266\n",
      "Processed frame 4708 | Unique pearbags: 266\n",
      "Processed frame 4709 | Unique pearbags: 267\n",
      "Processed frame 4710 | Unique pearbags: 267\n",
      "Processed frame 4711 | Unique pearbags: 267\n",
      "Processed frame 4712 | Unique pearbags: 267\n",
      "Processed frame 4713 | Unique pearbags: 267\n",
      "Processed frame 4714 | Unique pearbags: 267\n",
      "Processed frame 4715 | Unique pearbags: 267\n",
      "Processed frame 4716 | Unique pearbags: 267\n",
      "Processed frame 4717 | Unique pearbags: 267\n",
      "Processed frame 4718 | Unique pearbags: 267\n",
      "Processed frame 4719 | Unique pearbags: 267\n",
      "Processed frame 4720 | Unique pearbags: 267\n",
      "Processed frame 4721 | Unique pearbags: 267\n",
      "Processed frame 4722 | Unique pearbags: 267\n",
      "Processed frame 4723 | Unique pearbags: 267\n",
      "Processed frame 4724 | Unique pearbags: 267\n",
      "Processed frame 4725 | Unique pearbags: 267\n",
      "Processed frame 4726 | Unique pearbags: 267\n",
      "Processed frame 4727 | Unique pearbags: 267\n",
      "Processed frame 4728 | Unique pearbags: 267\n",
      "Processed frame 4729 | Unique pearbags: 267\n",
      "Processed frame 4730 | Unique pearbags: 267\n",
      "Processed frame 4731 | Unique pearbags: 268\n",
      "Processed frame 4732 | Unique pearbags: 268\n",
      "Processed frame 4733 | Unique pearbags: 268\n",
      "Processed frame 4734 | Unique pearbags: 268\n",
      "Processed frame 4735 | Unique pearbags: 268\n",
      "Processed frame 4736 | Unique pearbags: 268\n",
      "Processed frame 4737 | Unique pearbags: 268\n",
      "Processed frame 4738 | Unique pearbags: 269\n",
      "Processed frame 4739 | Unique pearbags: 269\n",
      "Processed frame 4740 | Unique pearbags: 269\n",
      "Processed frame 4741 | Unique pearbags: 270\n",
      "Processed frame 4742 | Unique pearbags: 270\n",
      "Processed frame 4743 | Unique pearbags: 270\n",
      "Processed frame 4744 | Unique pearbags: 270\n",
      "Processed frame 4745 | Unique pearbags: 270\n",
      "Processed frame 4746 | Unique pearbags: 270\n",
      "Processed frame 4747 | Unique pearbags: 270\n",
      "Processed frame 4748 | Unique pearbags: 270\n",
      "Processed frame 4749 | Unique pearbags: 270\n",
      "Processed frame 4750 | Unique pearbags: 270\n",
      "Processed frame 4751 | Unique pearbags: 270\n",
      "Processed frame 4752 | Unique pearbags: 270\n",
      "Processed frame 4753 | Unique pearbags: 270\n",
      "Processed frame 4754 | Unique pearbags: 270\n",
      "Processed frame 4755 | Unique pearbags: 270\n",
      "Processed frame 4756 | Unique pearbags: 271\n",
      "Processed frame 4757 | Unique pearbags: 271\n",
      "Processed frame 4758 | Unique pearbags: 271\n",
      "Processed frame 4759 | Unique pearbags: 271\n",
      "Processed frame 4760 | Unique pearbags: 271\n",
      "Processed frame 4761 | Unique pearbags: 271\n",
      "Processed frame 4762 | Unique pearbags: 271\n",
      "Processed frame 4763 | Unique pearbags: 271\n",
      "Processed frame 4764 | Unique pearbags: 271\n",
      "Processed frame 4765 | Unique pearbags: 271\n",
      "Processed frame 4766 | Unique pearbags: 271\n",
      "Processed frame 4767 | Unique pearbags: 271\n",
      "Processed frame 4768 | Unique pearbags: 271\n",
      "Processed frame 4769 | Unique pearbags: 271\n",
      "Processed frame 4770 | Unique pearbags: 271\n",
      "Processed frame 4771 | Unique pearbags: 271\n",
      "Processed frame 4772 | Unique pearbags: 271\n",
      "Processed frame 4773 | Unique pearbags: 271\n",
      "Processed frame 4774 | Unique pearbags: 271\n",
      "Processed frame 4775 | Unique pearbags: 271\n",
      "Processed frame 4776 | Unique pearbags: 271\n",
      "Processed frame 4777 | Unique pearbags: 271\n",
      "Processed frame 4778 | Unique pearbags: 271\n",
      "Processed frame 4779 | Unique pearbags: 271\n",
      "Processed frame 4780 | Unique pearbags: 271\n",
      "Processed frame 4781 | Unique pearbags: 271\n",
      "Processed frame 4782 | Unique pearbags: 271\n",
      "Processed frame 4783 | Unique pearbags: 271\n",
      "Processed frame 4784 | Unique pearbags: 271\n",
      "Processed frame 4785 | Unique pearbags: 271\n",
      "Processed frame 4786 | Unique pearbags: 271\n",
      "Processed frame 4787 | Unique pearbags: 271\n",
      "Processed frame 4788 | Unique pearbags: 271\n",
      "Processed frame 4789 | Unique pearbags: 271\n",
      "Processed frame 4790 | Unique pearbags: 271\n",
      "Processed frame 4791 | Unique pearbags: 271\n",
      "Processed frame 4792 | Unique pearbags: 271\n",
      "Processed frame 4793 | Unique pearbags: 271\n",
      "Processed frame 4794 | Unique pearbags: 271\n",
      "Processed frame 4795 | Unique pearbags: 272\n",
      "Processed frame 4796 | Unique pearbags: 272\n",
      "Processed frame 4797 | Unique pearbags: 272\n",
      "Processed frame 4798 | Unique pearbags: 272\n",
      "Processed frame 4799 | Unique pearbags: 272\n",
      "Processed frame 4800 | Unique pearbags: 272\n",
      "Processed frame 4801 | Unique pearbags: 272\n",
      "Processed frame 4802 | Unique pearbags: 272\n",
      "Processed frame 4803 | Unique pearbags: 272\n",
      "Processed frame 4804 | Unique pearbags: 272\n",
      "Processed frame 4805 | Unique pearbags: 272\n",
      "Processed frame 4806 | Unique pearbags: 273\n",
      "Processed frame 4807 | Unique pearbags: 273\n",
      "Processed frame 4808 | Unique pearbags: 273\n",
      "Processed frame 4809 | Unique pearbags: 273\n",
      "Processed frame 4810 | Unique pearbags: 273\n",
      "Processed frame 4811 | Unique pearbags: 273\n",
      "Processed frame 4812 | Unique pearbags: 273\n",
      "Processed frame 4813 | Unique pearbags: 273\n",
      "Processed frame 4814 | Unique pearbags: 273\n",
      "Processed frame 4815 | Unique pearbags: 273\n",
      "Processed frame 4816 | Unique pearbags: 273\n",
      "Processed frame 4817 | Unique pearbags: 273\n",
      "Processed frame 4818 | Unique pearbags: 273\n",
      "Processed frame 4819 | Unique pearbags: 273\n",
      "Processed frame 4820 | Unique pearbags: 273\n",
      "Processed frame 4821 | Unique pearbags: 273\n",
      "Processed frame 4822 | Unique pearbags: 273\n",
      "Processed frame 4823 | Unique pearbags: 273\n",
      "Processed frame 4824 | Unique pearbags: 273\n",
      "Processed frame 4825 | Unique pearbags: 273\n",
      "Processed frame 4826 | Unique pearbags: 273\n",
      "Processed frame 4827 | Unique pearbags: 273\n",
      "Processed frame 4828 | Unique pearbags: 273\n",
      "Processed frame 4829 | Unique pearbags: 273\n",
      "Processed frame 4830 | Unique pearbags: 273\n",
      "Processed frame 4831 | Unique pearbags: 273\n",
      "Processed frame 4832 | Unique pearbags: 273\n",
      "Processed frame 4833 | Unique pearbags: 273\n",
      "Processed frame 4834 | Unique pearbags: 275\n",
      "Processed frame 4835 | Unique pearbags: 275\n",
      "Processed frame 4836 | Unique pearbags: 275\n",
      "Processed frame 4837 | Unique pearbags: 275\n",
      "Processed frame 4838 | Unique pearbags: 275\n",
      "Processed frame 4839 | Unique pearbags: 275\n",
      "Processed frame 4840 | Unique pearbags: 275\n",
      "Processed frame 4841 | Unique pearbags: 275\n",
      "Processed frame 4842 | Unique pearbags: 275\n",
      "Processed frame 4843 | Unique pearbags: 275\n",
      "Processed frame 4844 | Unique pearbags: 275\n",
      "Processed frame 4845 | Unique pearbags: 275\n",
      "Processed frame 4846 | Unique pearbags: 275\n",
      "Processed frame 4847 | Unique pearbags: 275\n",
      "Processed frame 4848 | Unique pearbags: 275\n",
      "Processed frame 4849 | Unique pearbags: 275\n",
      "Processed frame 4850 | Unique pearbags: 275\n",
      "Processed frame 4851 | Unique pearbags: 276\n",
      "Processed frame 4852 | Unique pearbags: 276\n",
      "Processed frame 4853 | Unique pearbags: 276\n",
      "Processed frame 4854 | Unique pearbags: 276\n",
      "Processed frame 4855 | Unique pearbags: 276\n",
      "Processed frame 4856 | Unique pearbags: 276\n",
      "Processed frame 4857 | Unique pearbags: 276\n",
      "Processed frame 4858 | Unique pearbags: 276\n",
      "Processed frame 4859 | Unique pearbags: 276\n",
      "Processed frame 4860 | Unique pearbags: 276\n",
      "Processed frame 4861 | Unique pearbags: 276\n",
      "Processed frame 4862 | Unique pearbags: 276\n",
      "Processed frame 4863 | Unique pearbags: 276\n",
      "Processed frame 4864 | Unique pearbags: 276\n",
      "Processed frame 4865 | Unique pearbags: 276\n",
      "Processed frame 4866 | Unique pearbags: 276\n",
      "Processed frame 4867 | Unique pearbags: 276\n",
      "Processed frame 4868 | Unique pearbags: 276\n",
      "Processed frame 4869 | Unique pearbags: 276\n",
      "Processed frame 4870 | Unique pearbags: 276\n",
      "Processed frame 4871 | Unique pearbags: 276\n",
      "Processed frame 4872 | Unique pearbags: 276\n",
      "Processed frame 4873 | Unique pearbags: 276\n",
      "Processed frame 4874 | Unique pearbags: 276\n",
      "Processed frame 4875 | Unique pearbags: 276\n",
      "Processed frame 4876 | Unique pearbags: 276\n",
      "Processed frame 4877 | Unique pearbags: 276\n",
      "Processed frame 4878 | Unique pearbags: 276\n",
      "Processed frame 4879 | Unique pearbags: 276\n",
      "Processed frame 4880 | Unique pearbags: 276\n",
      "Processed frame 4881 | Unique pearbags: 276\n",
      "Processed frame 4882 | Unique pearbags: 276\n",
      "Processed frame 4883 | Unique pearbags: 276\n",
      "Processed frame 4884 | Unique pearbags: 276\n",
      "Processed frame 4885 | Unique pearbags: 276\n",
      "Processed frame 4886 | Unique pearbags: 276\n",
      "Processed frame 4887 | Unique pearbags: 276\n",
      "Processed frame 4888 | Unique pearbags: 276\n",
      "Processed frame 4889 | Unique pearbags: 276\n",
      "✅ Done! Unique Pearbags Count: 276\n",
      "🎥 Output saved to: output_tracked2_deduplicated2.mp4\n"
     ]
    }
   ],
   "source": [
    "# --- Deduplication using seen track IDs ---\n",
    "seen_ids = set()\n",
    "\n",
    "# Paths\n",
    "video_path = \"YoloVideosOutputandInput/pearbags_video.mp4\"\n",
    "output_path = \"output_tracked2_deduplicated2.mp4\"\n",
    "model_path = \"PearBagsYolo/models/pearbags_cbam.pt\"\n",
    "\n",
    "# Load YOLO model\n",
    "device = \"cuda\" if torch.cuda.is_available() else \"cpu\"\n",
    "model = YOLO(model_path)\n",
    "model.to(device)\n",
    "\n",
    "# Load video\n",
    "cap = cv2.VideoCapture(video_path)\n",
    "fps = cap.get(cv2.CAP_PROP_FPS)\n",
    "w, h = int(cap.get(cv2.CAP_PROP_FRAME_WIDTH)), int(cap.get(cv2.CAP_PROP_FRAME_HEIGHT))\n",
    "out = cv2.VideoWriter(output_path, cv2.VideoWriter_fourcc(*'mp4v'), fps, (w, h))\n",
    "\n",
    "# Initialize DeepSORT tracker\n",
    "tracker = DeepSort(max_age=30, max_iou_distance=0.7)\n",
    "\n",
    "frame_num = 0\n",
    "while True:\n",
    "    ret, frame = cap.read()\n",
    "    if not ret:\n",
    "        break\n",
    "    frame_num += 1\n",
    "\n",
    "    # Inference\n",
    "    results = model.predict(source=frame, device=device, verbose=False)\n",
    "    detections = []\n",
    "\n",
    "    for box in results[0].boxes.data.tolist():\n",
    "        x1, y1, x2, y2, conf, cls = box\n",
    "\n",
    "        # Confidence threshold\n",
    "        if conf < 0.6:\n",
    "            continue\n",
    "\n",
    "        # Class filtering (assuming pearbag class is 0)\n",
    "        if int(cls) != 0:\n",
    "            continue\n",
    "\n",
    "        # Size and aspect ratio filtering\n",
    "        w_box, h_box = x2 - x1, y2 - y1\n",
    "        area = w_box * h_box\n",
    "        aspect_ratio = w_box / h_box if h_box != 0 else 0\n",
    "\n",
    "        if area < 300 or aspect_ratio > 2.5 or aspect_ratio < 0.3:\n",
    "            continue\n",
    "\n",
    "        detections.append(([x1, y1, w_box, h_box], conf, int(cls)))\n",
    "\n",
    "    # DeepSORT tracking\n",
    "    tracks = tracker.update_tracks(detections, frame=frame)\n",
    "\n",
    "    for track in tracks:\n",
    "        if not track.is_confirmed():\n",
    "            continue\n",
    "\n",
    "        track_id = track.track_id\n",
    "        if track_id not in seen_ids:\n",
    "            seen_ids.add(track_id)\n",
    "\n",
    "        x1, y1, x2, y2 = map(int, track.to_ltrb())\n",
    "        cv2.rectangle(frame, (x1, y1), (x2, y2), (0, 255, 0), 2)\n",
    "        cv2.putText(frame, f'ID {track_id}', (x1, y1 - 8), cv2.FONT_HERSHEY_SIMPLEX,\n",
    "                    0.6, (0, 255, 0), 2)\n",
    "\n",
    "    cv2.putText(frame, f'Total Unique Pearbags: {len(seen_ids)}', (10, 30),\n",
    "                cv2.FONT_HERSHEY_SIMPLEX, 0.9, (255, 0, 0), 3)\n",
    "    out.write(frame)\n",
    "    print(f\"Processed frame {frame_num} | Unique pearbags: {len(seen_ids)}\")\n",
    "# Release resources\n",
    "cap.release()\n",
    "out.release()\n",
    "print(\"✅ Done! Unique Pearbags Count:\", len(seen_ids))\n",
    "print(\"🎥 Output saved to:\", output_path)"
   ]
  },
  {
   "cell_type": "code",
   "execution_count": 14,
   "id": "34240d75-2cc1-441a-9380-814fa66acd0e",
   "metadata": {
    "scrolled": true
   },
   "outputs": [
    {
     "name": "stdout",
     "output_type": "stream",
     "text": [
      "Processed frame 1 | Unique pearbags: 0\n",
      "Processed frame 2 | Unique pearbags: 0\n",
      "Processed frame 3 | Unique pearbags: 0\n",
      "Processed frame 4 | Unique pearbags: 0\n",
      "Processed frame 5 | Unique pearbags: 0\n",
      "Processed frame 6 | Unique pearbags: 0\n",
      "Processed frame 7 | Unique pearbags: 0\n",
      "Processed frame 8 | Unique pearbags: 0\n",
      "Processed frame 9 | Unique pearbags: 0\n",
      "Processed frame 10 | Unique pearbags: 0\n",
      "Processed frame 11 | Unique pearbags: 0\n",
      "Processed frame 12 | Unique pearbags: 0\n",
      "Processed frame 13 | Unique pearbags: 0\n",
      "Processed frame 14 | Unique pearbags: 0\n",
      "Processed frame 15 | Unique pearbags: 0\n",
      "Processed frame 16 | Unique pearbags: 0\n",
      "Processed frame 17 | Unique pearbags: 0\n",
      "✅ Done! Unique Pearbags Count: 0\n",
      "🎥 Output saved to: output_tracked_drone_deduplicated.mp4\n"
     ]
    }
   ],
   "source": [
    "# --- Deduplication using seen track IDs ---\n",
    "seen_ids = set()\n",
    "\n",
    "# Paths\n",
    "video_path = \"pearbags_drone_video.mp4\"\n",
    "output_path = \"output_tracked_drone_deduplicated.mp4\"\n",
    "model_path = \"PearBagsYolo/models/pearbags_cbam.pt\"\n",
    "\n",
    "# Load YOLO model\n",
    "model = YOLO(model_path)\n",
    "model.to(device)\n",
    "\n",
    "# Load video\n",
    "cap = cv2.VideoCapture(video_path)\n",
    "fps = cap.get(cv2.CAP_PROP_FPS)\n",
    "w, h = int(cap.get(cv2.CAP_PROP_FRAME_WIDTH)), int(cap.get(cv2.CAP_PROP_FRAME_HEIGHT))\n",
    "out = cv2.VideoWriter(output_path, cv2.VideoWriter_fourcc(*'mp4v'), fps, (w, h))\n",
    "\n",
    "# Initialize DeepSORT tracker\n",
    "tracker = DeepSort(max_age=30, max_iou_distance=0.7)\n",
    "\n",
    "frame_num = 0\n",
    "while True:\n",
    "    ret, frame = cap.read()\n",
    "    if not ret:\n",
    "        break\n",
    "    frame_num += 1\n",
    "\n",
    "    # Inference\n",
    "    results = model.predict(source=frame, device=device, verbose=False)\n",
    "    detections = []\n",
    "    for box in results[0].boxes.data.tolist():\n",
    "        x1, y1, x2, y2, conf, cls = box\n",
    "        if int(cls) == 0:  # Assuming pearbag class is 0\n",
    "            detections.append(([x1, y1, x2 - x1, y2 - y1], conf, int(cls)))\n",
    "\n",
    "    # DeepSORT tracking\n",
    "    tracks = tracker.update_tracks(detections, frame=frame)\n",
    "\n",
    "    for track in tracks:\n",
    "        if not track.is_confirmed():\n",
    "            continue\n",
    "\n",
    "        track_id = track.track_id\n",
    "        if track_id not in seen_ids:\n",
    "            seen_ids.add(track_id)\n",
    "\n",
    "        x1, y1, x2, y2 = map(int, track.to_ltrb())\n",
    "        cv2.rectangle(frame, (x1, y1), (x2, y2), (0, 255, 0), 2)\n",
    "        cv2.putText(frame, f'ID {track_id}', (x1, y1 - 8), cv2.FONT_HERSHEY_SIMPLEX, 0.6, (255, 255, 255), 2)\n",
    "\n",
    "    # Show count on top\n",
    "    cv2.putText(frame, f'Total Unique Pearbags: {len(seen_ids)}', (10, 30),\n",
    "                cv2.FONT_HERSHEY_SIMPLEX, 0.9, (255, 0, 0), 3)\n",
    "\n",
    "    out.write(frame)\n",
    "    print(f\"Processed frame {frame_num} | Unique pearbags: {len(seen_ids)}\")\n",
    "\n",
    "# Cleanup\n",
    "cap.release()\n",
    "out.release()\n",
    "print(\"✅ Done! Unique Pearbags Count:\", len(seen_ids))\n",
    "print(\"🎥 Output saved to:\", output_path)"
   ]
  },
  {
   "cell_type": "code",
   "execution_count": 13,
   "id": "bbf40662-b294-4e91-bc0f-475a5074e0b3",
   "metadata": {
    "scrolled": true
   },
   "outputs": [
    {
     "name": "stdout",
     "output_type": "stream",
     "text": [
      "\n",
      "✅ Total Unique Pearbags Counted: 0\n"
     ]
    }
   ],
   "source": [
    "# Load YOLOv8-CBAM model\n",
    "model = YOLO(\"PearBagsYolo/models/pearbags_cbam.pt\")  # ← your trained weights\n",
    "\n",
    "# Initialize DeepSORT\n",
    "tracker = DeepSort(max_age=30)\n",
    "\n",
    "# Track unique pearbag IDs\n",
    "unique_ids = set()\n",
    "\n",
    "# Load video\n",
    "cap = cv2.VideoCapture(\"pearbags_video.mp4\")  # ← your input video\n",
    "frame_width = int(cap.get(cv2.CAP_PROP_FRAME_WIDTH))\n",
    "frame_height = int(cap.get(cv2.CAP_PROP_FRAME_HEIGHT))\n",
    "fps = cap.get(cv2.CAP_PROP_FPS)\n",
    "\n",
    "# Create output video writer\n",
    "out = cv2.VideoWriter(\"tracked_output2.mp4\", cv2.VideoWriter_fourcc(*'mp4v'), fps, (frame_width, frame_height))\n",
    "\n",
    "while cap.isOpened():\n",
    "    ret, frame = cap.read()\n",
    "    if not ret:\n",
    "        break\n",
    "\n",
    "    # YOLOv8-CBAM detection\n",
    "    results = model(frame)[0]\n",
    "    detections = []\n",
    "    for box in results.boxes:\n",
    "        x1, y1, x2, y2 = box.xyxy[0].tolist()\n",
    "        conf = float(box.conf)\n",
    "        cls_id = int(box.cls)\n",
    "        detections.append(([x1, y1, x2 - x1, y2 - y1], conf, cls_id))\n",
    "\n",
    "    # DeepSORT tracking\n",
    "    tracks = tracker.update_tracks(detections, frame=frame)\n",
    "\n",
    "    for track in tracks:\n",
    "        if not track.is_confirmed():\n",
    "            continue\n",
    "        track_id = track.track_id\n",
    "        l, t, r, b = track.to_ltrb()\n",
    "        unique_ids.add(track_id)\n",
    "\n",
    "        # Draw box and ID\n",
    "        cv2.rectangle(frame, (int(l), int(t)), (int(r), int(b)), (0, 255, 0), 2)\n",
    "        cv2.putText(frame, f'ID {track_id}', (int(l), int(t) - 10),\n",
    "                    cv2.FONT_HERSHEY_SIMPLEX, 0.6, (0, 255, 0), 2)\n",
    "\n",
    "    # Draw counter\n",
    "    cv2.putText(frame, f\"Total Pearbags: {len(unique_ids)}\", (10, 30),\n",
    "                cv2.FONT_HERSHEY_SIMPLEX, 1, (255, 0, 0), 2)\n",
    "\n",
    "    # Write and show\n",
    "    out.write(frame)\n",
    "    cv2.imshow(\"Detection + Tracking\", frame)\n",
    "    if cv2.waitKey(1) & 0xFF == ord('q'):\n",
    "        break\n",
    "\n",
    "cap.release()\n",
    "out.release()\n",
    "cv2.destroyAllWindows()\n",
    "\n",
    "print(f\"\\n✅ Total Unique Pearbags Counted: {len(unique_ids)}\")"
   ]
  },
  {
   "cell_type": "markdown",
   "id": "6cb447c1-58b6-4626-be9b-9f9445001ac5",
   "metadata": {
    "jp-MarkdownHeadingCollapsed": true
   },
   "source": [
    "## YOLO-CBAM"
   ]
  },
  {
   "cell_type": "code",
   "execution_count": 10,
   "id": "b805f764-7d6d-4b2f-9c02-90405bc6d87a",
   "metadata": {
    "scrolled": true
   },
   "outputs": [
    {
     "name": "stdout",
     "output_type": "stream",
     "text": [
      "Parsing layer: 0 | from: -1 | number: 1 | module: <class 'ultralytics.nn.modules.conv.Conv'> | args: [3, 64, 3, 2]\n",
      "Parsing layer: 1 | from: -1 | number: 1 | module: <class 'ultralytics.nn.modules.conv.Conv'> | args: [64, 128, 3, 2]\n",
      "Parsing layer: 2 | from: -1 | number: 1 | module: <class 'ultralytics.nn.modules.block.C2f'> | args: [128, 128, 3, True]\n",
      "Parsing layer: 3 | from: -1 | number: 1 | module: <class 'ultralytics.nn.modules.conv.Conv'> | args: [128, 256, 3, 2]\n",
      "Parsing layer: 4 | from: -1 | number: 1 | module: <class 'ultralytics.nn.modules.block.C2f'> | args: [256, 256, 6, True]\n",
      "Parsing layer: 5 | from: -1 | number: 1 | module: <class 'ultralytics.nn.modules.conv.Conv'> | args: [256, 512, 3, 2]\n",
      "Parsing layer: 6 | from: -1 | number: 1 | module: <class 'ultralytics.nn.modules.block.C2f'> | args: [512, 512, 6, True]\n",
      "Parsing layer: 7 | from: -1 | number: 1 | module: <class 'ultralytics.nn.modules.conv.Conv'> | args: [512, 1024, 3, 2]\n",
      "Parsing layer: 8 | from: -1 | number: 1 | module: <class 'ultralytics.nn.modules.block.C2f'> | args: [1024, 1024, 3, True]\n",
      "Parsing layer: 9 | from: -1 | number: 1 | module: <class 'ultralytics.nn.modules.block.SPPF'> | args: [1024, 1024, 5]\n",
      "Parsing layer: 10 | from: -1 | number: 1 | module: <class 'ultralytics.nn.modules.mycbam.myCBAM'> | args: [1024, 1024]\n",
      "Parsing layer: 11 | from: -1 | number: 1 | module: <class 'torch.nn.modules.upsampling.Upsample'> | args: [None, 2, 'nearest']\n",
      "Parsing layer: 12 | from: [-1, 6] | number: 1 | module: <class 'ultralytics.nn.modules.conv.Concat'> | args: [1]\n",
      "Parsing layer: 13 | from: -1 | number: 1 | module: <class 'ultralytics.nn.modules.block.C2f'> | args: [1536, 512, 3]\n",
      "Parsing layer: 14 | from: -1 | number: 1 | module: <class 'torch.nn.modules.upsampling.Upsample'> | args: [None, 2, 'nearest']\n",
      "Parsing layer: 15 | from: [-1, 4] | number: 1 | module: <class 'ultralytics.nn.modules.conv.Concat'> | args: [1]\n",
      "Parsing layer: 16 | from: -1 | number: 1 | module: <class 'ultralytics.nn.modules.block.C2f'> | args: [768, 256, 3]\n",
      "Parsing layer: 17 | from: -1 | number: 1 | module: <class 'ultralytics.nn.modules.conv.Conv'> | args: [256, 256, 3, 2]\n",
      "Parsing layer: 18 | from: [-1, 6, 12] | number: 1 | module: <class 'ultralytics.nn.modules.bifpn.BiFPN'> | args: [1]\n",
      "Parsing layer: 19 | from: -1 | number: 1 | module: <class 'ultralytics.nn.modules.block.C2f'> | args: [2304, 512, 3]\n",
      "Parsing layer: 20 | from: -1 | number: 1 | module: <class 'ultralytics.nn.modules.conv.Conv'> | args: [512, 512, 3, 2]\n",
      "Parsing layer: 21 | from: [-1, 9] | number: 1 | module: <class 'ultralytics.nn.modules.conv.Concat'> | args: [1]\n",
      "Parsing layer: 22 | from: -1 | number: 1 | module: <class 'ultralytics.nn.modules.block.C2f'> | args: [1536, 1024, 3]\n",
      "Parsing layer: 23 | from: [15, 18, 21] | number: 1 | module: <class 'ultralytics.nn.modules.head.Detect'> | args: [1, [768, 2304, 1536]]\n",
      "YOLOv8-bifpn-cbam summary: 217 layers, 127,221,368 parameters, 127,221,352 gradients, 422.2 GFLOPs\n"
     ]
    },
    {
     "data": {
      "text/plain": [
       "(217, 127221368, 127221352, 422.22277280000003)"
      ]
     },
     "execution_count": 10,
     "metadata": {},
     "output_type": "execute_result"
    }
   ],
   "source": [
    "model = YOLO(\"PearBagsYolo/ultralytics/ultralytics/models/yolov8-bifpn-cbam.yaml\", task='detect')\n",
    "model.info()"
   ]
  },
  {
   "cell_type": "code",
   "execution_count": 12,
   "id": "b0fbc7a6-bae6-4f62-8f24-581f188a570c",
   "metadata": {
    "scrolled": true
   },
   "outputs": [
    {
     "name": "stdout",
     "output_type": "stream",
     "text": [
      "Parsing layer: 0 | from: -1 | number: 1 | module: <class 'ultralytics.nn.modules.conv.Conv'> | args: [3, 8, 8, 3, 2]\n",
      "Parsing layer: 1 | from: -1 | number: 1 | module: <class 'ultralytics.nn.modules.conv.Conv'> | args: [8, 8, 16, 3, 2]\n",
      "Parsing layer: 2 | from: -1 | number: 1 | module: <class 'ultralytics.nn.modules.mycbam.myCBAM'> | args: [8, 16, 16]\n",
      "Parsing layer: 3 | from: -1 | number: 1 | module: <class 'ultralytics.nn.modules.conv.Conv'> | args: [16, 16, 32, 3, 2]\n",
      "Parsing layer: 4 | from: -1 | number: 1 | module: <class 'ultralytics.nn.modules.mycbam.myCBAM'> | args: [16, 32, 32]\n",
      "Parsing layer: 5 | from: -1 | number: 1 | module: <class 'ultralytics.nn.modules.conv.Conv'> | args: [32, 32, 64, 3, 2]\n",
      "Parsing layer: 6 | from: -1 | number: 1 | module: <class 'ultralytics.nn.modules.mycbam.myCBAM'> | args: [32, 64, 64]\n",
      "Parsing layer: 7 | from: -1 | number: 1 | module: <class 'ultralytics.nn.modules.conv.Conv'> | args: [64, 64, 128, 3, 2]\n",
      "Parsing layer: 8 | from: -1 | number: 1 | module: <class 'ultralytics.nn.modules.mycbam.myCBAM'> | args: [64, 128, 128]\n",
      "Parsing layer: 9 | from: -1 | number: 1 | module: <class 'ultralytics.nn.modules.bifpn.BiFPN'> | args: [128, 128, 128]\n",
      "Parsing layer: 10 | from: -1 | number: 1 | module: <class 'ultralytics.nn.modules.conv.Conv'> | args: [128, 128, 128, 1, 1]\n",
      "Parsing layer: 11 | from: -1 | number: 1 | module: <class 'ultralytics.nn.modules.conv.Conv'> | args: [128, 128, 64, 3, 1]\n",
      "Parsing layer: 12 | from: -1 | number: 1 | module: <class 'ultralytics.nn.modules.mycbam.myCBAM'> | args: [128, 64, 64]\n",
      "Parsing layer: 13 | from: -1 | number: 1 | module: <class 'ultralytics.nn.modules.conv.Conv'> | args: [64, 64, 18, 1, 1]\n",
      "Ultralytics 8.3.101 �윓� Python-3.12.8 torch-2.5.1 CUDA:0 (NVIDIA GeForce RTX 3070, 8191MiB)\n",
      "\u001b[34m\u001b[1mengine\\trainer: \u001b[0mtask=detect, mode=train, model=PearBagsYolo/ultralytics/ultralytics/models/yolov8n-bifpn-cbam.yaml, data=C:\\Users\\dnslab_fox\\Ugur\\PearBagsYolo\\data.yaml, epochs=50, time=None, patience=100, batch=16, imgsz=640, save=True, save_period=-1, cache=False, device=None, workers=8, project=None, name=train8, exist_ok=False, pretrained=True, optimizer=auto, verbose=True, seed=0, deterministic=True, single_cls=False, rect=False, cos_lr=False, close_mosaic=10, resume=False, amp=True, fraction=1.0, profile=False, freeze=None, multi_scale=False, overlap_mask=True, mask_ratio=4, dropout=0.0, val=True, split=val, save_json=False, save_hybrid=False, conf=None, iou=0.7, max_det=300, half=False, dnn=False, plots=True, source=None, vid_stride=1, stream_buffer=False, visualize=False, augment=False, agnostic_nms=False, classes=None, retina_masks=False, embed=None, show=False, save_frames=False, save_txt=False, save_conf=False, save_crop=False, show_labels=True, show_conf=True, show_boxes=True, line_width=None, format=torchscript, keras=False, optimize=False, int8=False, dynamic=False, simplify=True, opset=None, workspace=None, nms=False, lr0=0.01, lrf=0.01, momentum=0.937, weight_decay=0.0005, warmup_epochs=3.0, warmup_momentum=0.8, warmup_bias_lr=0.1, box=7.5, cls=0.5, dfl=1.5, pose=12.0, kobj=1.0, nbs=64, hsv_h=0.015, hsv_s=0.7, hsv_v=0.4, degrees=0.0, translate=0.1, scale=0.5, shear=0.0, perspective=0.0, flipud=0.0, fliplr=0.5, bgr=0.0, mosaic=1.0, mixup=0.0, copy_paste=0.0, copy_paste_mode=flip, auto_augment=randaugment, erasing=0.4, crop_fraction=1.0, cfg=None, tracker=botsort.yaml, save_dir=runs\\detect\\train8\n"
     ]
    },
    {
     "name": "stderr",
     "output_type": "stream",
     "text": [
      "C:\\Users\\dnslab_fox\\anaconda3\\envs\\Ugur\\Lib\\site-packages\\torch\\nn\\init.py:511: UserWarning: Initializing zero-element tensors is a no-op\n",
      "  warnings.warn(\"Initializing zero-element tensors is a no-op\")\n",
      "Traceback (most recent call last):\n",
      "  File \"C:\\Users\\dnslab_fox\\Ugur\\PearBagsYolo\\ultralytics\\ultralytics\\engine\\trainer.py\", line 582, in get_dataset\n",
      "    data = check_det_dataset(self.args.data)\n",
      "           ^^^^^^^^^^^^^^^^^^^^^^^^^^^^^^^^^\n",
      "  File \"C:\\Users\\dnslab_fox\\Ugur\\PearBagsYolo\\ultralytics\\ultralytics\\data\\utils.py\", line 372, in check_det_dataset\n",
      "    raise FileNotFoundError(m)\n",
      "FileNotFoundError: \n",
      "Dataset 'C://Users/dnslab_fox/Ugur/PearBagsYolo/data.yaml' images not found \\u26a0\\ufe0f, missing path 'C:\\Users\\dnslab_fox\\Ugur\\PearBagsYolo\\PearBagsYolo\\valid\\images'\n",
      "Note dataset download directory is 'C:\\Users\\dnslab_fox\\Ugur\\PearBagsYolo'. You can update this in 'C:\\Users\\dnslab_fox\\AppData\\Roaming\\Ultralytics\\settings.json'\n",
      "\n",
      "The above exception was the direct cause of the following exception:\n",
      "\n",
      "Traceback (most recent call last):\n",
      "  File \"<frozen runpy>\", line 198, in _run_module_as_main\n",
      "  File \"<frozen runpy>\", line 88, in _run_code\n",
      "  File \"C:\\Users\\dnslab_fox\\anaconda3\\envs\\Ugur\\Scripts\\yolo.exe\\__main__.py\", line 7, in <module>\n",
      "  File \"C:\\Users\\dnslab_fox\\Ugur\\PearBagsYolo\\ultralytics\\ultralytics\\cfg\\__init__.py\", line 987, in entrypoint\n",
      "    getattr(model, mode)(**overrides)  # default args from model\n",
      "    ^^^^^^^^^^^^^^^^^^^^^^^^^^^^^^^^^\n",
      "  File \"C:\\Users\\dnslab_fox\\Ugur\\PearBagsYolo\\ultralytics\\ultralytics\\engine\\model.py\", line 785, in train\n",
      "    self.trainer = (trainer or self._smart_load(\"trainer\"))(overrides=args, _callbacks=self.callbacks)\n",
      "                   ^^^^^^^^^^^^^^^^^^^^^^^^^^^^^^^^^^^^^^^^^^^^^^^^^^^^^^^^^^^^^^^^^^^^^^^^^^^^^^^^^^^\n",
      "  File \"C:\\Users\\dnslab_fox\\Ugur\\PearBagsYolo\\ultralytics\\ultralytics\\engine\\trainer.py\", line 137, in __init__\n",
      "    self.trainset, self.testset = self.get_dataset()\n",
      "                                  ^^^^^^^^^^^^^^^^^^\n",
      "  File \"C:\\Users\\dnslab_fox\\Ugur\\PearBagsYolo\\ultralytics\\ultralytics\\engine\\trainer.py\", line 586, in get_dataset\n",
      "    raise RuntimeError(emojis(f\"Dataset '{clean_url(self.args.data)}' error \\u274c {e}\")) from e\n",
      "RuntimeError: Dataset 'C://Users/dnslab_fox/Ugur/PearBagsYolo/data.yaml' error  \n",
      "Dataset 'C://Users/dnslab_fox/Ugur/PearBagsYolo/data.yaml' images not found , missing path 'C:\\Users\\dnslab_fox\\Ugur\\PearBagsYolo\\PearBagsYolo\\valid\\images'\n",
      "Note dataset download directory is 'C:\\Users\\dnslab_fox\\Ugur\\PearBagsYolo'. You can update this in 'C:\\Users\\dnslab_fox\\AppData\\Roaming\\Ultralytics\\settings.json'\n"
     ]
    }
   ],
   "source": [
    "!yolo task=detect mode=train model=PearBagsYolo/ultralytics/ultralytics/models/yolov8n-bifpn-cbam.yaml data=C:\\Users\\dnslab_fox\\Ugur\\PearBagsYolo\\data.yaml epochs=50"
   ]
  },
  {
   "cell_type": "code",
   "execution_count": 10,
   "id": "ed59e61a-a216-4d77-b5bc-b6b82e35a396",
   "metadata": {
    "scrolled": true
   },
   "outputs": [
    {
     "name": "stdout",
     "output_type": "stream",
     "text": [
      "New https://pypi.org/project/ultralytics/8.3.105 available  Update with 'pip install -U ultralytics'\n",
      "Ultralytics 8.3.101  Python-3.12.8 torch-2.5.1 CUDA:0 (NVIDIA GeForce RTX 3070, 8191MiB)\n",
      "\u001b[34m\u001b[1mengine\\trainer: \u001b[0mtask=detect, mode=train, model=PearBagsYolo/ultralytics/ultralytics/models/yolov8n-bifpn-cbam.yaml, data=C:/Users/dnslab_fox/Ugur/PearBagsYolo/data.yaml, epochs=50, time=None, patience=100, batch=16, imgsz=640, save=True, save_period=-1, cache=False, device=None, workers=8, project=None, name=train17, exist_ok=False, pretrained=True, optimizer=auto, verbose=True, seed=0, deterministic=True, single_cls=False, rect=False, cos_lr=False, close_mosaic=10, resume=False, amp=True, fraction=1.0, profile=False, freeze=None, multi_scale=False, overlap_mask=True, mask_ratio=4, dropout=0.0, val=True, split=val, save_json=False, save_hybrid=False, conf=None, iou=0.7, max_det=300, half=False, dnn=False, plots=True, source=None, vid_stride=1, stream_buffer=False, visualize=False, augment=False, agnostic_nms=False, classes=None, retina_masks=False, embed=None, show=False, save_frames=False, save_txt=False, save_conf=False, save_crop=False, show_labels=True, show_conf=True, show_boxes=True, line_width=None, format=torchscript, keras=False, optimize=False, int8=False, dynamic=False, simplify=True, opset=None, workspace=None, nms=False, lr0=0.01, lrf=0.01, momentum=0.937, weight_decay=0.0005, warmup_epochs=3.0, warmup_momentum=0.8, warmup_bias_lr=0.1, box=7.5, cls=0.5, dfl=1.5, pose=12.0, kobj=1.0, nbs=64, hsv_h=0.015, hsv_s=0.7, hsv_v=0.4, degrees=0.0, translate=0.1, scale=0.5, shear=0.0, perspective=0.0, flipud=0.0, fliplr=0.5, bgr=0.0, mosaic=1.0, mixup=0.0, copy_paste=0.0, copy_paste_mode=flip, auto_augment=randaugment, erasing=0.4, crop_fraction=1.0, cfg=None, tracker=botsort.yaml, save_dir=runs\\detect\\train17\n",
      "\n",
      "                   from  n    params  module                                       arguments                     \n",
      "Parsing layer: 0 | from: -1 | number: 1 | module: <class 'ultralytics.nn.modules.conv.Conv'> | args: [3, 64, 3, 2]\n",
      "  0                  -1  1      1856  ultralytics.nn.modules.conv.Conv             [3, 64, 3, 2]                 \n",
      "Parsing layer: 1 | from: -1 | number: 1 | module: <class 'ultralytics.nn.modules.conv.Conv'> | args: [64, 128, 3, 2]\n",
      "  1                  -1  1     73984  ultralytics.nn.modules.conv.Conv             [64, 128, 3, 2]               \n",
      "Parsing layer: 2 | from: -1 | number: 1 | module: <class 'ultralytics.nn.modules.block.C2f'> | args: [128, 128, 3, True]\n",
      "  2                  -1  3    279808  ultralytics.nn.modules.block.C2f             [128, 128, 3, True]           \n",
      "Parsing layer: 3 | from: -1 | number: 1 | module: <class 'ultralytics.nn.modules.conv.Conv'> | args: [128, 256, 3, 2]\n",
      "  3                  -1  1    295424  ultralytics.nn.modules.conv.Conv             [128, 256, 3, 2]              \n",
      "Parsing layer: 4 | from: -1 | number: 1 | module: <class 'ultralytics.nn.modules.block.C2f'> | args: [256, 256, 6, True]\n",
      "  4                  -1  6   2101248  ultralytics.nn.modules.block.C2f             [256, 256, 6, True]           \n",
      "Parsing layer: 5 | from: -1 | number: 1 | module: <class 'ultralytics.nn.modules.conv.Conv'> | args: [256, 512, 3, 2]\n",
      "  5                  -1  1   1180672  ultralytics.nn.modules.conv.Conv             [256, 512, 3, 2]              \n",
      "Parsing layer: 6 | from: -1 | number: 1 | module: <class 'ultralytics.nn.modules.block.C2f'> | args: [512, 512, 6, True]\n",
      "  6                  -1  6   8396800  ultralytics.nn.modules.block.C2f             [512, 512, 6, True]           \n",
      "Parsing layer: 7 | from: -1 | number: 1 | module: <class 'ultralytics.nn.modules.conv.Conv'> | args: [512, 1024, 3, 2]\n",
      "  7                  -1  1   4720640  ultralytics.nn.modules.conv.Conv             [512, 1024, 3, 2]             \n",
      "Parsing layer: 8 | from: -1 | number: 1 | module: <class 'ultralytics.nn.modules.block.C2f'> | args: [1024, 1024, 3, True]\n",
      "  8                  -1  3  17836032  ultralytics.nn.modules.block.C2f             [1024, 1024, 3, True]         \n",
      "Parsing layer: 9 | from: -1 | number: 1 | module: <class 'ultralytics.nn.modules.block.SPPF'> | args: [1024, 1024, 5]\n",
      "  9                  -1  1   2624512  ultralytics.nn.modules.block.SPPF            [1024, 1024, 5]               \n",
      "Parsing layer: 10 | from: -1 | number: 1 | module: <class 'ultralytics.nn.modules.mycbam.myCBAM'> | args: [1024, 1024]\n",
      " 10                  -1  1      2146  ultralytics.nn.modules.mycbam.myCBAM         [1024, 1024]                  \n",
      "Parsing layer: 11 | from: -1 | number: 1 | module: <class 'torch.nn.modules.upsampling.Upsample'> | args: [None, 2, 'nearest']\n",
      " 11                  -1  1         0  torch.nn.modules.upsampling.Upsample         [None, 2, 'nearest']          \n",
      "Parsing layer: 12 | from: [-1, 6] | number: 1 | module: <class 'ultralytics.nn.modules.conv.Concat'> | args: [1]\n",
      " 12             [-1, 6]  1         0  ultralytics.nn.modules.conv.Concat           [1]                           \n",
      "Parsing layer: 13 | from: -1 | number: 1 | module: <class 'ultralytics.nn.modules.block.C2f'> | args: [1536, 512, 3]\n",
      " 13                  -1  3   4985856  ultralytics.nn.modules.block.C2f             [1536, 512, 3]                \n",
      "Parsing layer: 14 | from: -1 | number: 1 | module: <class 'ultralytics.nn.modules.mycbam.myCBAM'> | args: [512, 512]\n",
      " 14                  -1  1      1122  ultralytics.nn.modules.mycbam.myCBAM         [512, 512]                    \n",
      "Parsing layer: 15 | from: -1 | number: 1 | module: <class 'torch.nn.modules.upsampling.Upsample'> | args: [None, 2, 'nearest']\n",
      " 15                  -1  1         0  torch.nn.modules.upsampling.Upsample         [None, 2, 'nearest']          \n",
      "Parsing layer: 16 | from: [-1, 4] | number: 1 | module: <class 'ultralytics.nn.modules.conv.Concat'> | args: [1]\n",
      " 16             [-1, 4]  1         0  ultralytics.nn.modules.conv.Concat           [1]                           \n",
      "Parsing layer: 17 | from: -1 | number: 1 | module: <class 'ultralytics.nn.modules.block.C2f'> | args: [768, 256, 3]\n",
      " 17                  -1  3   1247744  ultralytics.nn.modules.block.C2f             [768, 256, 3]                 \n",
      "Parsing layer: 18 | from: -1 | number: 1 | module: <class 'ultralytics.nn.modules.mycbam.myCBAM'> | args: [256, 256]\n",
      " 18                  -1  1       610  ultralytics.nn.modules.mycbam.myCBAM         [256, 256]                    \n",
      "Parsing layer: 19 | from: -1 | number: 1 | module: <class 'ultralytics.nn.modules.conv.Conv'> | args: [256, 256, 3, 2]\n",
      " 19                  -1  1    590336  ultralytics.nn.modules.conv.Conv             [256, 256, 3, 2]              \n",
      "Parsing layer: 20 | from: [-1, 13] | number: 1 | module: <class 'ultralytics.nn.modules.conv.Concat'> | args: [1]\n",
      " 20            [-1, 13]  1         0  ultralytics.nn.modules.conv.Concat           [1]                           \n",
      "Parsing layer: 21 | from: -1 | number: 1 | module: <class 'ultralytics.nn.modules.block.C2f'> | args: [768, 512, 3]\n",
      " 21                  -1  3   4592640  ultralytics.nn.modules.block.C2f             [768, 512, 3]                 \n",
      "Parsing layer: 22 | from: -1 | number: 1 | module: <class 'ultralytics.nn.modules.mycbam.myCBAM'> | args: [512, 512]\n",
      " 22                  -1  1      1122  ultralytics.nn.modules.mycbam.myCBAM         [512, 512]                    \n",
      "Parsing layer: 23 | from: -1 | number: 1 | module: <class 'ultralytics.nn.modules.conv.Conv'> | args: [512, 512, 3, 2]\n",
      " 23                  -1  1   2360320  ultralytics.nn.modules.conv.Conv             [512, 512, 3, 2]              \n",
      "Parsing layer: 24 | from: [-1, 9] | number: 1 | module: <class 'ultralytics.nn.modules.conv.Concat'> | args: [1]\n",
      " 24             [-1, 9]  1         0  ultralytics.nn.modules.conv.Concat           [1]                           \n",
      "Parsing layer: 25 | from: -1 | number: 1 | module: <class 'ultralytics.nn.modules.block.C2f'> | args: [1536, 1024, 3]\n",
      " 25                  -1  3  18360320  ultralytics.nn.modules.block.C2f             [1536, 1024, 3]               \n",
      "Parsing layer: 26 | from: [17, 21, 25] | number: 1 | module: <class 'ultralytics.nn.modules.head.Detect'> | args: [1, [256, 512, 1024]]\n",
      " 26        [17, 21, 25]  1   7058131  ultralytics.nn.modules.head.Detect           [1, [256, 512, 1024]]         \n",
      "YOLOv8n-bifpn-cbam summary: 241 layers, 76,711,323 parameters, 76,711,307 gradients, 192.5 GFLOPs\n",
      "\n",
      "\u001b[34m\u001b[1mTensorBoard: \u001b[0mStart with 'tensorboard --logdir runs\\detect\\train17', view at http://localhost:6006/\n",
      "Freezing layer 'model.26.dfl.conv.weight'\n",
      "\u001b[34m\u001b[1mAMP: \u001b[0mrunning Automatic Mixed Precision (AMP) checks...\n",
      "\u001b[34m\u001b[1mAMP: \u001b[0mchecks passed \n"
     ]
    },
    {
     "name": "stderr",
     "output_type": "stream",
     "text": [
      "\u001b[34m\u001b[1mtrain: \u001b[0mScanning C:\\Users\\dnslab_fox\\Ugur\\PearBagsYolo\\train\\labels.cache... 3907 images, 0 backgrounds, 0 corrupt: 100%|██████████| 3907/3907 [00:00<?, ?it/s]"
     ]
    },
    {
     "name": "stdout",
     "output_type": "stream",
     "text": [
      "\u001b[34m\u001b[1malbumentations: \u001b[0mBlur(p=0.01, blur_limit=(3, 7)), MedianBlur(p=0.01, blur_limit=(3, 7)), ToGray(p=0.01, num_output_channels=3, method='weighted_average'), CLAHE(p=0.01, clip_limit=(1.0, 4.0), tile_grid_size=(8, 8))\n"
     ]
    },
    {
     "name": "stderr",
     "output_type": "stream",
     "text": [
      "\n",
      "\u001b[34m\u001b[1mval: \u001b[0mScanning C:\\Users\\dnslab_fox\\Ugur\\PearBagsYolo\\valid\\labels.cache... 500 images, 0 backgrounds, 0 corrupt: 100%|██████████| 500/500 [00:00<?, ?it/s]\n"
     ]
    },
    {
     "name": "stdout",
     "output_type": "stream",
     "text": [
      "Plotting labels to runs\\detect\\train17\\labels.jpg... \n",
      "\u001b[34m\u001b[1moptimizer:\u001b[0m 'optimizer=auto' found, ignoring 'lr0=0.01' and 'momentum=0.937' and determining best 'optimizer', 'lr0' and 'momentum' automatically... \n",
      "\u001b[34m\u001b[1moptimizer:\u001b[0m AdamW(lr=0.002, momentum=0.9) with parameter groups 97 weight(decay=0.0), 116 weight(decay=0.0005), 103 bias(decay=0.0)\n",
      "\u001b[34m\u001b[1mTensorBoard: \u001b[0mmodel graph visualization added \n",
      "Image sizes 640 train, 640 val\n",
      "Using 8 dataloader workers\n",
      "Logging results to \u001b[1mruns\\detect\\train17\u001b[0m\n",
      "Starting training for 50 epochs...\n",
      "\n",
      "      Epoch    GPU_mem   box_loss   cls_loss   dfl_loss  Instances       Size\n"
     ]
    },
    {
     "name": "stderr",
     "output_type": "stream",
     "text": [
      "       1/50      11.3G      3.362      4.382      2.271         19        640: 100%|██████████| 245/245 [2:35:24<00:00, 38.06s/it]   \n",
      "                 Class     Images  Instances      Box(P          R      mAP50  mAP50-95): 100%|██████████| 16/16 [04:13<00:00, 15.84s/it]"
     ]
    },
    {
     "name": "stdout",
     "output_type": "stream",
     "text": [
      "                   all        500       2176      0.595      0.621      0.525       0.23\n"
     ]
    },
    {
     "name": "stderr",
     "output_type": "stream",
     "text": [
      "\n"
     ]
    },
    {
     "name": "stdout",
     "output_type": "stream",
     "text": [
      "\n",
      "      Epoch    GPU_mem   box_loss   cls_loss   dfl_loss  Instances       Size\n"
     ]
    },
    {
     "name": "stderr",
     "output_type": "stream",
     "text": [
      "       2/50      10.3G      1.984      1.316      1.261         14        640: 100%|██████████| 245/245 [49:58<00:00, 12.24s/it]\n",
      "                 Class     Images  Instances      Box(P          R      mAP50  mAP50-95): 100%|██████████| 16/16 [03:20<00:00, 12.55s/it]"
     ]
    },
    {
     "name": "stdout",
     "output_type": "stream",
     "text": [
      "                   all        500       2176      0.824      0.739      0.828      0.403\n"
     ]
    },
    {
     "name": "stderr",
     "output_type": "stream",
     "text": [
      "\n"
     ]
    },
    {
     "name": "stdout",
     "output_type": "stream",
     "text": [
      "\n",
      "      Epoch    GPU_mem   box_loss   cls_loss   dfl_loss  Instances       Size\n"
     ]
    },
    {
     "name": "stderr",
     "output_type": "stream",
     "text": [
      "       3/50      10.4G      1.775      1.097      1.166          9        640: 100%|██████████| 245/245 [1:53:42<00:00, 27.85s/it]    \n",
      "                 Class     Images  Instances      Box(P          R      mAP50  mAP50-95): 100%|██████████| 16/16 [03:12<00:00, 12.05s/it]"
     ]
    },
    {
     "name": "stdout",
     "output_type": "stream",
     "text": [
      "                   all        500       2176      0.868      0.827      0.892      0.444\n"
     ]
    },
    {
     "name": "stderr",
     "output_type": "stream",
     "text": [
      "\n"
     ]
    },
    {
     "name": "stdout",
     "output_type": "stream",
     "text": [
      "\n",
      "      Epoch    GPU_mem   box_loss   cls_loss   dfl_loss  Instances       Size\n"
     ]
    },
    {
     "name": "stderr",
     "output_type": "stream",
     "text": [
      "       4/50      10.6G      1.639     0.9595      1.108         25        640: 100%|██████████| 245/245 [2:36:08<00:00, 38.24s/it]   \n",
      "                 Class     Images  Instances      Box(P          R      mAP50  mAP50-95): 100%|██████████| 16/16 [04:00<00:00, 15.06s/it]"
     ]
    },
    {
     "name": "stdout",
     "output_type": "stream",
     "text": [
      "                   all        500       2176      0.861      0.867      0.904       0.51\n"
     ]
    },
    {
     "name": "stderr",
     "output_type": "stream",
     "text": [
      "\n"
     ]
    },
    {
     "name": "stdout",
     "output_type": "stream",
     "text": [
      "\n",
      "      Epoch    GPU_mem   box_loss   cls_loss   dfl_loss  Instances       Size\n"
     ]
    },
    {
     "name": "stderr",
     "output_type": "stream",
     "text": [
      "       5/50      10.6G      1.554     0.8842       1.08         16        640: 100%|██████████| 245/245 [1:01:10<00:00, 14.98s/it]\n",
      "                 Class     Images  Instances      Box(P          R      mAP50  mAP50-95): 100%|██████████| 16/16 [03:43<00:00, 14.00s/it]"
     ]
    },
    {
     "name": "stdout",
     "output_type": "stream",
     "text": [
      "                   all        500       2176      0.853      0.868      0.912      0.533\n"
     ]
    },
    {
     "name": "stderr",
     "output_type": "stream",
     "text": [
      "\n"
     ]
    },
    {
     "name": "stdout",
     "output_type": "stream",
     "text": [
      "\n",
      "      Epoch    GPU_mem   box_loss   cls_loss   dfl_loss  Instances       Size\n"
     ]
    },
    {
     "name": "stderr",
     "output_type": "stream",
     "text": [
      "       6/50      10.4G      1.512     0.8273      1.064         22        640: 100%|██████████| 245/245 [59:07<00:00, 14.48s/it]\n",
      "                 Class     Images  Instances      Box(P          R      mAP50  mAP50-95): 100%|██████████| 16/16 [04:21<00:00, 16.35s/it]"
     ]
    },
    {
     "name": "stdout",
     "output_type": "stream",
     "text": [
      "                   all        500       2176      0.842      0.885      0.879      0.512\n"
     ]
    },
    {
     "name": "stderr",
     "output_type": "stream",
     "text": [
      "\n"
     ]
    },
    {
     "name": "stdout",
     "output_type": "stream",
     "text": [
      "\n",
      "      Epoch    GPU_mem   box_loss   cls_loss   dfl_loss  Instances       Size\n"
     ]
    },
    {
     "name": "stderr",
     "output_type": "stream",
     "text": [
      "       7/50      10.6G      1.434     0.7767      1.042         15        640: 100%|██████████| 245/245 [49:37<00:00, 12.15s/it]\n",
      "                 Class     Images  Instances      Box(P          R      mAP50  mAP50-95): 100%|██████████| 16/16 [04:46<00:00, 17.91s/it]"
     ]
    },
    {
     "name": "stdout",
     "output_type": "stream",
     "text": [
      "                   all        500       2176       0.88      0.885      0.947      0.587\n"
     ]
    },
    {
     "name": "stderr",
     "output_type": "stream",
     "text": [
      "\n"
     ]
    },
    {
     "name": "stdout",
     "output_type": "stream",
     "text": [
      "\n",
      "      Epoch    GPU_mem   box_loss   cls_loss   dfl_loss  Instances       Size\n"
     ]
    },
    {
     "name": "stderr",
     "output_type": "stream",
     "text": [
      "       8/50      10.6G      1.399     0.7397      1.026         10        640: 100%|██████████| 245/245 [38:02<00:00,  9.31s/it]\n",
      "                 Class     Images  Instances      Box(P          R      mAP50  mAP50-95): 100%|██████████| 16/16 [02:53<00:00, 10.86s/it]"
     ]
    },
    {
     "name": "stdout",
     "output_type": "stream",
     "text": [
      "                   all        500       2176      0.904      0.901      0.957      0.593\n"
     ]
    },
    {
     "name": "stderr",
     "output_type": "stream",
     "text": [
      "\n"
     ]
    },
    {
     "name": "stdout",
     "output_type": "stream",
     "text": [
      "\n",
      "      Epoch    GPU_mem   box_loss   cls_loss   dfl_loss  Instances       Size\n"
     ]
    },
    {
     "name": "stderr",
     "output_type": "stream",
     "text": [
      "       9/50      10.6G      1.362     0.7202       1.02         15        640: 100%|██████████| 245/245 [38:37<00:00,  9.46s/it]\n",
      "                 Class     Images  Instances      Box(P          R      mAP50  mAP50-95): 100%|██████████| 16/16 [02:39<00:00,  9.96s/it]"
     ]
    },
    {
     "name": "stdout",
     "output_type": "stream",
     "text": [
      "                   all        500       2176      0.895       0.89      0.937      0.585\n"
     ]
    },
    {
     "name": "stderr",
     "output_type": "stream",
     "text": [
      "\n"
     ]
    },
    {
     "name": "stdout",
     "output_type": "stream",
     "text": [
      "\n",
      "      Epoch    GPU_mem   box_loss   cls_loss   dfl_loss  Instances       Size\n"
     ]
    },
    {
     "name": "stderr",
     "output_type": "stream",
     "text": [
      "      10/50      10.4G      1.338     0.6971      1.002         12        640: 100%|██████████| 245/245 [43:39<00:00, 10.69s/it]\n",
      "                 Class     Images  Instances      Box(P          R      mAP50  mAP50-95): 100%|██████████| 16/16 [02:54<00:00, 10.90s/it]"
     ]
    },
    {
     "name": "stdout",
     "output_type": "stream",
     "text": [
      "                   all        500       2176      0.891      0.918      0.939      0.604\n"
     ]
    },
    {
     "name": "stderr",
     "output_type": "stream",
     "text": [
      "\n"
     ]
    },
    {
     "name": "stdout",
     "output_type": "stream",
     "text": [
      "\n",
      "      Epoch    GPU_mem   box_loss   cls_loss   dfl_loss  Instances       Size\n"
     ]
    },
    {
     "name": "stderr",
     "output_type": "stream",
     "text": [
      "      11/50      10.7G      1.312     0.6681          1         11        640: 100%|██████████| 245/245 [47:02<00:00, 11.52s/it]\n",
      "                 Class     Images  Instances      Box(P          R      mAP50  mAP50-95): 100%|██████████| 16/16 [04:17<00:00, 16.08s/it]"
     ]
    },
    {
     "name": "stdout",
     "output_type": "stream",
     "text": [
      "                   all        500       2176      0.917      0.917      0.969      0.634\n"
     ]
    },
    {
     "name": "stderr",
     "output_type": "stream",
     "text": [
      "\n"
     ]
    },
    {
     "name": "stdout",
     "output_type": "stream",
     "text": [
      "\n",
      "      Epoch    GPU_mem   box_loss   cls_loss   dfl_loss  Instances       Size\n"
     ]
    },
    {
     "name": "stderr",
     "output_type": "stream",
     "text": [
      "      12/50      10.6G      1.289     0.6528     0.9922         18        640: 100%|██████████| 245/245 [46:12<00:00, 11.32s/it]\n",
      "                 Class     Images  Instances      Box(P          R      mAP50  mAP50-95): 100%|██████████| 16/16 [03:43<00:00, 13.97s/it]"
     ]
    },
    {
     "name": "stdout",
     "output_type": "stream",
     "text": [
      "                   all        500       2176      0.893      0.906       0.94      0.611\n"
     ]
    },
    {
     "name": "stderr",
     "output_type": "stream",
     "text": [
      "\n"
     ]
    },
    {
     "name": "stdout",
     "output_type": "stream",
     "text": [
      "\n",
      "      Epoch    GPU_mem   box_loss   cls_loss   dfl_loss  Instances       Size\n"
     ]
    },
    {
     "name": "stderr",
     "output_type": "stream",
     "text": [
      "      13/50      10.6G      1.266     0.6263     0.9801         13        640: 100%|██████████| 245/245 [45:13<00:00, 11.08s/it]\n",
      "                 Class     Images  Instances      Box(P          R      mAP50  mAP50-95): 100%|██████████| 16/16 [02:23<00:00,  8.97s/it]"
     ]
    },
    {
     "name": "stdout",
     "output_type": "stream",
     "text": [
      "                   all        500       2176      0.928      0.918      0.967      0.636\n"
     ]
    },
    {
     "name": "stderr",
     "output_type": "stream",
     "text": [
      "\n"
     ]
    },
    {
     "name": "stdout",
     "output_type": "stream",
     "text": [
      "\n",
      "      Epoch    GPU_mem   box_loss   cls_loss   dfl_loss  Instances       Size\n"
     ]
    },
    {
     "name": "stderr",
     "output_type": "stream",
     "text": [
      "      14/50      10.4G      1.241     0.6256     0.9801         11        640: 100%|██████████| 245/245 [39:47<00:00,  9.74s/it]\n",
      "                 Class     Images  Instances      Box(P          R      mAP50  mAP50-95): 100%|██████████| 16/16 [04:37<00:00, 17.34s/it]"
     ]
    },
    {
     "name": "stdout",
     "output_type": "stream",
     "text": [
      "                   all        500       2176      0.909       0.93       0.95      0.648\n"
     ]
    },
    {
     "name": "stderr",
     "output_type": "stream",
     "text": [
      "\n"
     ]
    },
    {
     "name": "stdout",
     "output_type": "stream",
     "text": [
      "\n",
      "      Epoch    GPU_mem   box_loss   cls_loss   dfl_loss  Instances       Size\n"
     ]
    },
    {
     "name": "stderr",
     "output_type": "stream",
     "text": [
      "      15/50      10.6G       1.24     0.6208     0.9774         15        640: 100%|██████████| 245/245 [39:45<00:00,  9.74s/it]\n",
      "                 Class     Images  Instances      Box(P          R      mAP50  mAP50-95): 100%|██████████| 16/16 [03:35<00:00, 13.46s/it]"
     ]
    },
    {
     "name": "stdout",
     "output_type": "stream",
     "text": [
      "                   all        500       2176      0.928      0.941      0.977      0.675\n"
     ]
    },
    {
     "name": "stderr",
     "output_type": "stream",
     "text": [
      "\n"
     ]
    },
    {
     "name": "stdout",
     "output_type": "stream",
     "text": [
      "\n",
      "      Epoch    GPU_mem   box_loss   cls_loss   dfl_loss  Instances       Size\n"
     ]
    },
    {
     "name": "stderr",
     "output_type": "stream",
     "text": [
      "      16/50      10.6G      1.211     0.5984     0.9665         14        640: 100%|██████████| 245/245 [43:51<00:00, 10.74s/it]\n",
      "                 Class     Images  Instances      Box(P          R      mAP50  mAP50-95): 100%|██████████| 16/16 [05:03<00:00, 18.97s/it]"
     ]
    },
    {
     "name": "stdout",
     "output_type": "stream",
     "text": [
      "                   all        500       2176      0.922      0.938      0.974      0.666\n"
     ]
    },
    {
     "name": "stderr",
     "output_type": "stream",
     "text": [
      "\n"
     ]
    },
    {
     "name": "stdout",
     "output_type": "stream",
     "text": [
      "\n",
      "      Epoch    GPU_mem   box_loss   cls_loss   dfl_loss  Instances       Size\n"
     ]
    },
    {
     "name": "stderr",
     "output_type": "stream",
     "text": [
      "      17/50      10.6G      1.194     0.5944     0.9633         10        640: 100%|██████████| 245/245 [45:25<00:00, 11.13s/it]\n",
      "                 Class     Images  Instances      Box(P          R      mAP50  mAP50-95): 100%|██████████| 16/16 [02:25<00:00,  9.09s/it]"
     ]
    },
    {
     "name": "stdout",
     "output_type": "stream",
     "text": [
      "                   all        500       2176      0.925      0.934      0.974      0.678\n"
     ]
    },
    {
     "name": "stderr",
     "output_type": "stream",
     "text": [
      "\n"
     ]
    },
    {
     "name": "stdout",
     "output_type": "stream",
     "text": [
      "\n",
      "      Epoch    GPU_mem   box_loss   cls_loss   dfl_loss  Instances       Size\n"
     ]
    },
    {
     "name": "stderr",
     "output_type": "stream",
     "text": [
      "      18/50      10.4G      1.165     0.5652     0.9556         25        640: 100%|██████████| 245/245 [49:53<00:00, 12.22s/it]\n",
      "                 Class     Images  Instances      Box(P          R      mAP50  mAP50-95): 100%|██████████| 16/16 [04:37<00:00, 17.36s/it]"
     ]
    },
    {
     "name": "stdout",
     "output_type": "stream",
     "text": [
      "                   all        500       2176       0.92      0.935      0.963      0.669\n"
     ]
    },
    {
     "name": "stderr",
     "output_type": "stream",
     "text": [
      "\n"
     ]
    },
    {
     "name": "stdout",
     "output_type": "stream",
     "text": [
      "\n",
      "      Epoch    GPU_mem   box_loss   cls_loss   dfl_loss  Instances       Size\n"
     ]
    },
    {
     "name": "stderr",
     "output_type": "stream",
     "text": [
      "      19/50      10.7G      1.152     0.5547     0.9511         13        640: 100%|██████████| 245/245 [55:45<00:00, 13.66s/it]\n",
      "                 Class     Images  Instances      Box(P          R      mAP50  mAP50-95): 100%|██████████| 16/16 [03:27<00:00, 12.96s/it]"
     ]
    },
    {
     "name": "stdout",
     "output_type": "stream",
     "text": [
      "                   all        500       2176      0.936      0.933      0.977      0.668\n"
     ]
    },
    {
     "name": "stderr",
     "output_type": "stream",
     "text": [
      "\n"
     ]
    },
    {
     "name": "stdout",
     "output_type": "stream",
     "text": [
      "\n",
      "      Epoch    GPU_mem   box_loss   cls_loss   dfl_loss  Instances       Size\n"
     ]
    },
    {
     "name": "stderr",
     "output_type": "stream",
     "text": [
      "      20/50      10.6G      1.156     0.5594     0.9556         11        640: 100%|██████████| 245/245 [55:13<00:00, 13.53s/it]\n",
      "                 Class     Images  Instances      Box(P          R      mAP50  mAP50-95): 100%|██████████| 16/16 [04:12<00:00, 15.77s/it]"
     ]
    },
    {
     "name": "stdout",
     "output_type": "stream",
     "text": [
      "                   all        500       2176      0.939      0.947      0.969      0.675\n"
     ]
    },
    {
     "name": "stderr",
     "output_type": "stream",
     "text": [
      "\n"
     ]
    },
    {
     "name": "stdout",
     "output_type": "stream",
     "text": [
      "\n",
      "      Epoch    GPU_mem   box_loss   cls_loss   dfl_loss  Instances       Size\n"
     ]
    },
    {
     "name": "stderr",
     "output_type": "stream",
     "text": [
      "      21/50      10.6G      1.135     0.5507     0.9423         19        640: 100%|██████████| 245/245 [56:01<00:00, 13.72s/it]\n",
      "                 Class     Images  Instances      Box(P          R      mAP50  mAP50-95): 100%|██████████| 16/16 [03:39<00:00, 13.71s/it]"
     ]
    },
    {
     "name": "stdout",
     "output_type": "stream",
     "text": [
      "                   all        500       2176      0.919      0.958      0.967      0.678\n"
     ]
    },
    {
     "name": "stderr",
     "output_type": "stream",
     "text": [
      "\n"
     ]
    },
    {
     "name": "stdout",
     "output_type": "stream",
     "text": [
      "\n",
      "      Epoch    GPU_mem   box_loss   cls_loss   dfl_loss  Instances       Size\n"
     ]
    },
    {
     "name": "stderr",
     "output_type": "stream",
     "text": [
      "      22/50      10.4G      1.123     0.5402     0.9389          8        640: 100%|██████████| 245/245 [48:54<00:00, 11.98s/it] \n",
      "                 Class     Images  Instances      Box(P          R      mAP50  mAP50-95): 100%|██████████| 16/16 [03:36<00:00, 13.51s/it]"
     ]
    },
    {
     "name": "stdout",
     "output_type": "stream",
     "text": [
      "                   all        500       2176      0.944      0.961      0.983        0.7\n"
     ]
    },
    {
     "name": "stderr",
     "output_type": "stream",
     "text": [
      "\n"
     ]
    },
    {
     "name": "stdout",
     "output_type": "stream",
     "text": [
      "\n",
      "      Epoch    GPU_mem   box_loss   cls_loss   dfl_loss  Instances       Size\n"
     ]
    },
    {
     "name": "stderr",
     "output_type": "stream",
     "text": [
      "      23/50      10.7G      1.116     0.5352     0.9373         16        640: 100%|██████████| 245/245 [45:41<00:00, 11.19s/it]\n",
      "                 Class     Images  Instances      Box(P          R      mAP50  mAP50-95): 100%|██████████| 16/16 [03:28<00:00, 13.05s/it]"
     ]
    },
    {
     "name": "stdout",
     "output_type": "stream",
     "text": [
      "                   all        500       2176       0.93      0.933      0.956      0.672\n"
     ]
    },
    {
     "name": "stderr",
     "output_type": "stream",
     "text": [
      "\n"
     ]
    },
    {
     "name": "stdout",
     "output_type": "stream",
     "text": [
      "\n",
      "      Epoch    GPU_mem   box_loss   cls_loss   dfl_loss  Instances       Size\n"
     ]
    },
    {
     "name": "stderr",
     "output_type": "stream",
     "text": [
      "      24/50      10.6G      1.092     0.5194     0.9289         12        640: 100%|██████████| 245/245 [43:41<00:00, 10.70s/it]\n",
      "                 Class     Images  Instances      Box(P          R      mAP50  mAP50-95): 100%|██████████| 16/16 [02:48<00:00, 10.52s/it]"
     ]
    },
    {
     "name": "stdout",
     "output_type": "stream",
     "text": [
      "                   all        500       2176      0.942      0.952      0.967      0.684\n"
     ]
    },
    {
     "name": "stderr",
     "output_type": "stream",
     "text": [
      "\n"
     ]
    },
    {
     "name": "stdout",
     "output_type": "stream",
     "text": [
      "\n",
      "      Epoch    GPU_mem   box_loss   cls_loss   dfl_loss  Instances       Size\n"
     ]
    },
    {
     "name": "stderr",
     "output_type": "stream",
     "text": [
      "      25/50      10.6G      1.089     0.5141     0.9331         17        640: 100%|██████████| 245/245 [49:57<00:00, 12.23s/it]\n",
      "                 Class     Images  Instances      Box(P          R      mAP50  mAP50-95): 100%|██████████| 16/16 [02:30<00:00,  9.39s/it]"
     ]
    },
    {
     "name": "stdout",
     "output_type": "stream",
     "text": [
      "                   all        500       2176      0.937      0.961      0.972      0.686\n"
     ]
    },
    {
     "name": "stderr",
     "output_type": "stream",
     "text": [
      "\n"
     ]
    },
    {
     "name": "stdout",
     "output_type": "stream",
     "text": [
      "\n",
      "      Epoch    GPU_mem   box_loss   cls_loss   dfl_loss  Instances       Size\n"
     ]
    },
    {
     "name": "stderr",
     "output_type": "stream",
     "text": [
      "      26/50      10.4G      1.073     0.5039      0.926         13        640: 100%|██████████| 245/245 [37:48<00:00,  9.26s/it]\n",
      "                 Class     Images  Instances      Box(P          R      mAP50  mAP50-95): 100%|██████████| 16/16 [03:02<00:00, 11.43s/it]"
     ]
    },
    {
     "name": "stdout",
     "output_type": "stream",
     "text": [
      "                   all        500       2176      0.949      0.957      0.985      0.713\n"
     ]
    },
    {
     "name": "stderr",
     "output_type": "stream",
     "text": [
      "\n"
     ]
    },
    {
     "name": "stdout",
     "output_type": "stream",
     "text": [
      "\n",
      "      Epoch    GPU_mem   box_loss   cls_loss   dfl_loss  Instances       Size\n"
     ]
    },
    {
     "name": "stderr",
     "output_type": "stream",
     "text": [
      "      27/50      10.6G      1.065     0.4966     0.9214         16        640: 100%|██████████| 245/245 [48:45<00:00, 11.94s/it]\n",
      "                 Class     Images  Instances      Box(P          R      mAP50  mAP50-95): 100%|██████████| 16/16 [02:03<00:00,  7.71s/it]"
     ]
    },
    {
     "name": "stdout",
     "output_type": "stream",
     "text": [
      "                   all        500       2176      0.947      0.961      0.985      0.715\n"
     ]
    },
    {
     "name": "stderr",
     "output_type": "stream",
     "text": [
      "\n"
     ]
    },
    {
     "name": "stdout",
     "output_type": "stream",
     "text": [
      "\n",
      "      Epoch    GPU_mem   box_loss   cls_loss   dfl_loss  Instances       Size\n"
     ]
    },
    {
     "name": "stderr",
     "output_type": "stream",
     "text": [
      "      28/50      10.7G      1.067     0.5031     0.9268         27        640: 100%|██████████| 245/245 [39:01<00:00,  9.56s/it]\n",
      "                 Class     Images  Instances      Box(P          R      mAP50  mAP50-95): 100%|██████████| 16/16 [03:35<00:00, 13.49s/it]"
     ]
    },
    {
     "name": "stdout",
     "output_type": "stream",
     "text": [
      "                   all        500       2176      0.949      0.966      0.987      0.712\n"
     ]
    },
    {
     "name": "stderr",
     "output_type": "stream",
     "text": [
      "\n"
     ]
    },
    {
     "name": "stdout",
     "output_type": "stream",
     "text": [
      "\n",
      "      Epoch    GPU_mem   box_loss   cls_loss   dfl_loss  Instances       Size\n"
     ]
    },
    {
     "name": "stderr",
     "output_type": "stream",
     "text": [
      "      29/50      10.6G      1.053     0.4923     0.9212         11        640: 100%|██████████| 245/245 [48:09<00:00, 11.80s/it]\n",
      "                 Class     Images  Instances      Box(P          R      mAP50  mAP50-95): 100%|██████████| 16/16 [02:36<00:00,  9.80s/it]"
     ]
    },
    {
     "name": "stdout",
     "output_type": "stream",
     "text": [
      "                   all        500       2176      0.953      0.958      0.987       0.73\n"
     ]
    },
    {
     "name": "stderr",
     "output_type": "stream",
     "text": [
      "\n"
     ]
    },
    {
     "name": "stdout",
     "output_type": "stream",
     "text": [
      "\n",
      "      Epoch    GPU_mem   box_loss   cls_loss   dfl_loss  Instances       Size\n"
     ]
    },
    {
     "name": "stderr",
     "output_type": "stream",
     "text": [
      "      30/50      10.4G      1.036     0.4805     0.9175         16        640: 100%|██████████| 245/245 [55:47<00:00, 13.67s/it]\n",
      "                 Class     Images  Instances      Box(P          R      mAP50  mAP50-95): 100%|██████████| 16/16 [03:01<00:00, 11.37s/it]"
     ]
    },
    {
     "name": "stdout",
     "output_type": "stream",
     "text": [
      "                   all        500       2176      0.959      0.961      0.988      0.722\n"
     ]
    },
    {
     "name": "stderr",
     "output_type": "stream",
     "text": [
      "\n"
     ]
    },
    {
     "name": "stdout",
     "output_type": "stream",
     "text": [
      "\n",
      "      Epoch    GPU_mem   box_loss   cls_loss   dfl_loss  Instances       Size\n"
     ]
    },
    {
     "name": "stderr",
     "output_type": "stream",
     "text": [
      "      31/50      10.7G      1.029     0.4737     0.9147         11        640: 100%|██████████| 245/245 [51:33<00:00, 12.63s/it]\n",
      "                 Class     Images  Instances      Box(P          R      mAP50  mAP50-95): 100%|██████████| 16/16 [03:35<00:00, 13.45s/it]"
     ]
    },
    {
     "name": "stdout",
     "output_type": "stream",
     "text": [
      "                   all        500       2176      0.947      0.964      0.987      0.729\n"
     ]
    },
    {
     "name": "stderr",
     "output_type": "stream",
     "text": [
      "\n"
     ]
    },
    {
     "name": "stdout",
     "output_type": "stream",
     "text": [
      "\n",
      "      Epoch    GPU_mem   box_loss   cls_loss   dfl_loss  Instances       Size\n"
     ]
    },
    {
     "name": "stderr",
     "output_type": "stream",
     "text": [
      "      32/50      10.6G      1.025     0.4745     0.9152         13        640: 100%|██████████| 245/245 [1:09:54<00:00, 17.12s/it]\n",
      "                 Class     Images  Instances      Box(P          R      mAP50  mAP50-95): 100%|██████████| 16/16 [04:40<00:00, 17.55s/it]"
     ]
    },
    {
     "name": "stdout",
     "output_type": "stream",
     "text": [
      "                   all        500       2176      0.952      0.965      0.988      0.722\n"
     ]
    },
    {
     "name": "stderr",
     "output_type": "stream",
     "text": [
      "\n"
     ]
    },
    {
     "name": "stdout",
     "output_type": "stream",
     "text": [
      "\n",
      "      Epoch    GPU_mem   box_loss   cls_loss   dfl_loss  Instances       Size\n"
     ]
    },
    {
     "name": "stderr",
     "output_type": "stream",
     "text": [
      "      33/50      10.6G     0.9958     0.4621     0.9077         22        640: 100%|██████████| 245/245 [45:04<00:00, 11.04s/it]\n",
      "                 Class     Images  Instances      Box(P          R      mAP50  mAP50-95): 100%|██████████| 16/16 [02:38<00:00,  9.92s/it]"
     ]
    },
    {
     "name": "stdout",
     "output_type": "stream",
     "text": [
      "                   all        500       2176      0.961      0.964      0.988      0.731\n"
     ]
    },
    {
     "name": "stderr",
     "output_type": "stream",
     "text": [
      "\n"
     ]
    },
    {
     "name": "stdout",
     "output_type": "stream",
     "text": [
      "\n",
      "      Epoch    GPU_mem   box_loss   cls_loss   dfl_loss  Instances       Size\n"
     ]
    },
    {
     "name": "stderr",
     "output_type": "stream",
     "text": [
      "      34/50      10.4G      1.005      0.466     0.9087          9        640: 100%|██████████| 245/245 [46:31<00:00, 11.39s/it]\n",
      "                 Class     Images  Instances      Box(P          R      mAP50  mAP50-95): 100%|██████████| 16/16 [02:59<00:00, 11.22s/it]"
     ]
    },
    {
     "name": "stdout",
     "output_type": "stream",
     "text": [
      "                   all        500       2176       0.95      0.966      0.986      0.737\n"
     ]
    },
    {
     "name": "stderr",
     "output_type": "stream",
     "text": [
      "\n"
     ]
    },
    {
     "name": "stdout",
     "output_type": "stream",
     "text": [
      "\n",
      "      Epoch    GPU_mem   box_loss   cls_loss   dfl_loss  Instances       Size\n"
     ]
    },
    {
     "name": "stderr",
     "output_type": "stream",
     "text": [
      "      35/50      10.7G     0.9919     0.4544      0.905          7        640: 100%|██████████| 245/245 [48:28<00:00, 11.87s/it]\n",
      "                 Class     Images  Instances      Box(P          R      mAP50  mAP50-95): 100%|██████████| 16/16 [04:20<00:00, 16.26s/it]"
     ]
    },
    {
     "name": "stdout",
     "output_type": "stream",
     "text": [
      "                   all        500       2176       0.96      0.967      0.989      0.729\n"
     ]
    },
    {
     "name": "stderr",
     "output_type": "stream",
     "text": [
      "\n"
     ]
    },
    {
     "name": "stdout",
     "output_type": "stream",
     "text": [
      "\n",
      "      Epoch    GPU_mem   box_loss   cls_loss   dfl_loss  Instances       Size\n"
     ]
    },
    {
     "name": "stderr",
     "output_type": "stream",
     "text": [
      "      36/50      10.6G     0.9951      0.453     0.9046         18        640: 100%|██████████| 245/245 [48:52<00:00, 11.97s/it]\n",
      "                 Class     Images  Instances      Box(P          R      mAP50  mAP50-95): 100%|██████████| 16/16 [03:35<00:00, 13.45s/it]"
     ]
    },
    {
     "name": "stdout",
     "output_type": "stream",
     "text": [
      "                   all        500       2176      0.958      0.966      0.989      0.733\n"
     ]
    },
    {
     "name": "stderr",
     "output_type": "stream",
     "text": [
      "\n"
     ]
    },
    {
     "name": "stdout",
     "output_type": "stream",
     "text": [
      "\n",
      "      Epoch    GPU_mem   box_loss   cls_loss   dfl_loss  Instances       Size\n"
     ]
    },
    {
     "name": "stderr",
     "output_type": "stream",
     "text": [
      "      37/50      10.6G     0.9742     0.4467      0.902         29        640: 100%|██████████| 245/245 [40:58<00:00, 10.04s/it]\n",
      "                 Class     Images  Instances      Box(P          R      mAP50  mAP50-95): 100%|██████████| 16/16 [02:27<00:00,  9.20s/it]"
     ]
    },
    {
     "name": "stdout",
     "output_type": "stream",
     "text": [
      "                   all        500       2176      0.957       0.96      0.988      0.731\n"
     ]
    },
    {
     "name": "stderr",
     "output_type": "stream",
     "text": [
      "\n"
     ]
    },
    {
     "name": "stdout",
     "output_type": "stream",
     "text": [
      "\n",
      "      Epoch    GPU_mem   box_loss   cls_loss   dfl_loss  Instances       Size\n"
     ]
    },
    {
     "name": "stderr",
     "output_type": "stream",
     "text": [
      "      38/50      10.4G     0.9636     0.4349     0.8997         21        640: 100%|██████████| 245/245 [38:06<00:00,  9.33s/it]\n",
      "                 Class     Images  Instances      Box(P          R      mAP50  mAP50-95): 100%|██████████| 16/16 [04:29<00:00, 16.86s/it]"
     ]
    },
    {
     "name": "stdout",
     "output_type": "stream",
     "text": [
      "                   all        500       2176      0.959      0.966      0.986      0.742\n"
     ]
    },
    {
     "name": "stderr",
     "output_type": "stream",
     "text": [
      "\n"
     ]
    },
    {
     "name": "stdout",
     "output_type": "stream",
     "text": [
      "\n",
      "      Epoch    GPU_mem   box_loss   cls_loss   dfl_loss  Instances       Size\n"
     ]
    },
    {
     "name": "stderr",
     "output_type": "stream",
     "text": [
      "      39/50      10.7G     0.9612     0.4341     0.8939         25        640: 100%|██████████| 245/245 [36:22<00:00,  8.91s/it]\n",
      "                 Class     Images  Instances      Box(P          R      mAP50  mAP50-95): 100%|██████████| 16/16 [03:27<00:00, 12.96s/it]"
     ]
    },
    {
     "name": "stdout",
     "output_type": "stream",
     "text": [
      "                   all        500       2176      0.958      0.981       0.99      0.753\n"
     ]
    },
    {
     "name": "stderr",
     "output_type": "stream",
     "text": [
      "\n"
     ]
    },
    {
     "name": "stdout",
     "output_type": "stream",
     "text": [
      "\n",
      "      Epoch    GPU_mem   box_loss   cls_loss   dfl_loss  Instances       Size\n"
     ]
    },
    {
     "name": "stderr",
     "output_type": "stream",
     "text": [
      "      40/50      10.6G     0.9467     0.4265     0.8933         16        640: 100%|██████████| 245/245 [37:50<00:00,  9.27s/it]\n",
      "                 Class     Images  Instances      Box(P          R      mAP50  mAP50-95): 100%|██████████| 16/16 [04:02<00:00, 15.16s/it]"
     ]
    },
    {
     "name": "stdout",
     "output_type": "stream",
     "text": [
      "                   all        500       2176      0.963      0.972      0.988      0.748\n"
     ]
    },
    {
     "name": "stderr",
     "output_type": "stream",
     "text": [
      "\n"
     ]
    },
    {
     "name": "stdout",
     "output_type": "stream",
     "text": [
      "Closing dataloader mosaic\n",
      "\u001b[34m\u001b[1malbumentations: \u001b[0mBlur(p=0.01, blur_limit=(3, 7)), MedianBlur(p=0.01, blur_limit=(3, 7)), ToGray(p=0.01, num_output_channels=3, method='weighted_average'), CLAHE(p=0.01, clip_limit=(1.0, 4.0), tile_grid_size=(8, 8))\n",
      "\n",
      "      Epoch    GPU_mem   box_loss   cls_loss   dfl_loss  Instances       Size\n"
     ]
    },
    {
     "name": "stderr",
     "output_type": "stream",
     "text": [
      "      41/50      10.6G     0.9566     0.4159     0.9069         12        640: 100%|██████████| 245/245 [50:27<00:00, 12.36s/it]\n",
      "                 Class     Images  Instances      Box(P          R      mAP50  mAP50-95): 100%|██████████| 16/16 [02:18<00:00,  8.69s/it]"
     ]
    },
    {
     "name": "stdout",
     "output_type": "stream",
     "text": [
      "                   all        500       2176      0.954      0.975      0.989      0.741\n"
     ]
    },
    {
     "name": "stderr",
     "output_type": "stream",
     "text": [
      "\n"
     ]
    },
    {
     "name": "stdout",
     "output_type": "stream",
     "text": [
      "\n",
      "      Epoch    GPU_mem   box_loss   cls_loss   dfl_loss  Instances       Size\n"
     ]
    },
    {
     "name": "stderr",
     "output_type": "stream",
     "text": [
      "      42/50      10.3G     0.9405     0.4097     0.9025         14        640: 100%|██████████| 245/245 [45:16<00:00, 11.09s/it]\n",
      "                 Class     Images  Instances      Box(P          R      mAP50  mAP50-95): 100%|██████████| 16/16 [03:09<00:00, 11.85s/it]"
     ]
    },
    {
     "name": "stdout",
     "output_type": "stream",
     "text": [
      "                   all        500       2176      0.956      0.977       0.99      0.752\n"
     ]
    },
    {
     "name": "stderr",
     "output_type": "stream",
     "text": [
      "\n"
     ]
    },
    {
     "name": "stdout",
     "output_type": "stream",
     "text": [
      "\n",
      "      Epoch    GPU_mem   box_loss   cls_loss   dfl_loss  Instances       Size\n"
     ]
    },
    {
     "name": "stderr",
     "output_type": "stream",
     "text": [
      "      43/50      10.6G     0.9275     0.3993     0.8983         13        640: 100%|██████████| 245/245 [49:44<00:00, 12.18s/it]\n",
      "                 Class     Images  Instances      Box(P          R      mAP50  mAP50-95): 100%|██████████| 16/16 [02:36<00:00,  9.76s/it]"
     ]
    },
    {
     "name": "stdout",
     "output_type": "stream",
     "text": [
      "                   all        500       2176      0.953      0.972      0.988      0.745\n"
     ]
    },
    {
     "name": "stderr",
     "output_type": "stream",
     "text": [
      "\n"
     ]
    },
    {
     "name": "stdout",
     "output_type": "stream",
     "text": [
      "\n",
      "      Epoch    GPU_mem   box_loss   cls_loss   dfl_loss  Instances       Size\n"
     ]
    },
    {
     "name": "stderr",
     "output_type": "stream",
     "text": [
      "      44/50      10.6G     0.9193     0.3926     0.8952         17        640: 100%|██████████| 245/245 [41:45<00:00, 10.23s/it]\n",
      "                 Class     Images  Instances      Box(P          R      mAP50  mAP50-95): 100%|██████████| 16/16 [04:32<00:00, 17.05s/it]"
     ]
    },
    {
     "name": "stdout",
     "output_type": "stream",
     "text": [
      "                   all        500       2176      0.953      0.976      0.988      0.749\n"
     ]
    },
    {
     "name": "stderr",
     "output_type": "stream",
     "text": [
      "\n"
     ]
    },
    {
     "name": "stdout",
     "output_type": "stream",
     "text": [
      "\n",
      "      Epoch    GPU_mem   box_loss   cls_loss   dfl_loss  Instances       Size\n"
     ]
    },
    {
     "name": "stderr",
     "output_type": "stream",
     "text": [
      "      45/50      10.6G     0.9106     0.3897     0.8928         10        640: 100%|██████████| 245/245 [43:48<00:00, 10.73s/it]\n",
      "                 Class     Images  Instances      Box(P          R      mAP50  mAP50-95): 100%|██████████| 16/16 [02:31<00:00,  9.49s/it]"
     ]
    },
    {
     "name": "stdout",
     "output_type": "stream",
     "text": [
      "                   all        500       2176       0.96      0.977      0.989      0.752\n"
     ]
    },
    {
     "name": "stderr",
     "output_type": "stream",
     "text": [
      "\n"
     ]
    },
    {
     "name": "stdout",
     "output_type": "stream",
     "text": [
      "\n",
      "      Epoch    GPU_mem   box_loss   cls_loss   dfl_loss  Instances       Size\n"
     ]
    },
    {
     "name": "stderr",
     "output_type": "stream",
     "text": [
      "      46/50      10.4G     0.8958     0.3841     0.8887          6        640: 100%|██████████| 245/245 [48:01<00:00, 11.76s/it]\n",
      "                 Class     Images  Instances      Box(P          R      mAP50  mAP50-95): 100%|██████████| 16/16 [03:08<00:00, 11.76s/it]"
     ]
    },
    {
     "name": "stdout",
     "output_type": "stream",
     "text": [
      "                   all        500       2176      0.966      0.972      0.989      0.758\n"
     ]
    },
    {
     "name": "stderr",
     "output_type": "stream",
     "text": [
      "\n"
     ]
    },
    {
     "name": "stdout",
     "output_type": "stream",
     "text": [
      "\n",
      "      Epoch    GPU_mem   box_loss   cls_loss   dfl_loss  Instances       Size\n"
     ]
    },
    {
     "name": "stderr",
     "output_type": "stream",
     "text": [
      "      47/50      10.6G     0.8881     0.3791     0.8871         13        640: 100%|██████████| 245/245 [43:23<00:00, 10.62s/it]\n",
      "                 Class     Images  Instances      Box(P          R      mAP50  mAP50-95): 100%|██████████| 16/16 [03:41<00:00, 13.83s/it]"
     ]
    },
    {
     "name": "stdout",
     "output_type": "stream",
     "text": [
      "                   all        500       2176      0.966      0.975       0.99      0.764\n"
     ]
    },
    {
     "name": "stderr",
     "output_type": "stream",
     "text": [
      "\n"
     ]
    },
    {
     "name": "stdout",
     "output_type": "stream",
     "text": [
      "\n",
      "      Epoch    GPU_mem   box_loss   cls_loss   dfl_loss  Instances       Size\n"
     ]
    },
    {
     "name": "stderr",
     "output_type": "stream",
     "text": [
      "      48/50      10.6G     0.8736     0.3716     0.8821         12        640: 100%|██████████| 245/245 [39:43<00:00,  9.73s/it]\n",
      "                 Class     Images  Instances      Box(P          R      mAP50  mAP50-95): 100%|██████████| 16/16 [04:05<00:00, 15.37s/it]"
     ]
    },
    {
     "name": "stdout",
     "output_type": "stream",
     "text": [
      "                   all        500       2176      0.958      0.978      0.989      0.761\n"
     ]
    },
    {
     "name": "stderr",
     "output_type": "stream",
     "text": [
      "\n"
     ]
    },
    {
     "name": "stdout",
     "output_type": "stream",
     "text": [
      "\n",
      "      Epoch    GPU_mem   box_loss   cls_loss   dfl_loss  Instances       Size\n"
     ]
    },
    {
     "name": "stderr",
     "output_type": "stream",
     "text": [
      "      49/50      10.6G     0.8701     0.3658     0.8818         11        640: 100%|██████████| 245/245 [41:14<00:00, 10.10s/it]\n",
      "                 Class     Images  Instances      Box(P          R      mAP50  mAP50-95): 100%|██████████| 16/16 [02:36<00:00,  9.78s/it]"
     ]
    },
    {
     "name": "stdout",
     "output_type": "stream",
     "text": [
      "                   all        500       2176      0.957      0.979       0.99      0.762\n"
     ]
    },
    {
     "name": "stderr",
     "output_type": "stream",
     "text": [
      "\n"
     ]
    },
    {
     "name": "stdout",
     "output_type": "stream",
     "text": [
      "\n",
      "      Epoch    GPU_mem   box_loss   cls_loss   dfl_loss  Instances       Size\n"
     ]
    },
    {
     "name": "stderr",
     "output_type": "stream",
     "text": [
      "      50/50      10.3G     0.8711     0.3643     0.8825         13        640: 100%|██████████| 245/245 [53:19<00:00, 13.06s/it]\n",
      "                 Class     Images  Instances      Box(P          R      mAP50  mAP50-95): 100%|██████████| 16/16 [03:26<00:00, 12.92s/it]"
     ]
    },
    {
     "name": "stdout",
     "output_type": "stream",
     "text": [
      "                   all        500       2176      0.962      0.979      0.989      0.762\n"
     ]
    },
    {
     "name": "stderr",
     "output_type": "stream",
     "text": [
      "\n"
     ]
    },
    {
     "name": "stdout",
     "output_type": "stream",
     "text": [
      "\n",
      "50 epochs completed in 46.757 hours.\n",
      "Optimizer stripped from runs\\detect\\train17\\weights\\last.pt, 153.8MB\n",
      "Optimizer stripped from runs\\detect\\train17\\weights\\best.pt, 153.8MB\n",
      "\n",
      "Validating runs\\detect\\train17\\weights\\best.pt...\n",
      "Ultralytics 8.3.101  Python-3.12.8 torch-2.5.1 CUDA:0 (NVIDIA GeForce RTX 3070, 8191MiB)\n",
      "YOLOv8n-bifpn-cbam summary (fused): 144 layers, 76,681,691 parameters, 0 gradients, 191.9 GFLOPs\n"
     ]
    },
    {
     "name": "stderr",
     "output_type": "stream",
     "text": [
      "                 Class     Images  Instances      Box(P          R      mAP50  mAP50-95): 100%|██████████| 16/16 [00:10<00:00,  1.46it/s]\n"
     ]
    },
    {
     "name": "stdout",
     "output_type": "stream",
     "text": [
      "                   all        500       2176      0.966      0.975       0.99      0.763\n",
      "Speed: 0.3ms preprocess, 16.4ms inference, 0.0ms loss, 0.9ms postprocess per image\n",
      "Results saved to \u001b[1mruns\\detect\\train17\u001b[0m\n"
     ]
    },
    {
     "data": {
      "text/plain": [
       "ultralytics.utils.metrics.DetMetrics object with attributes:\n",
       "\n",
       "ap_class_index: array([0])\n",
       "box: ultralytics.utils.metrics.Metric object\n",
       "confusion_matrix: <ultralytics.utils.metrics.ConfusionMatrix object at 0x00000238741B7A40>\n",
       "curves: ['Precision-Recall(B)', 'F1-Confidence(B)', 'Precision-Confidence(B)', 'Recall-Confidence(B)']\n",
       "curves_results: [[array([          0,    0.001001,    0.002002,    0.003003,    0.004004,    0.005005,    0.006006,    0.007007,    0.008008,    0.009009,     0.01001,    0.011011,    0.012012,    0.013013,    0.014014,    0.015015,    0.016016,    0.017017,    0.018018,    0.019019,     0.02002,    0.021021,    0.022022,    0.023023,\n",
       "          0.024024,    0.025025,    0.026026,    0.027027,    0.028028,    0.029029,     0.03003,    0.031031,    0.032032,    0.033033,    0.034034,    0.035035,    0.036036,    0.037037,    0.038038,    0.039039,     0.04004,    0.041041,    0.042042,    0.043043,    0.044044,    0.045045,    0.046046,    0.047047,\n",
       "          0.048048,    0.049049,     0.05005,    0.051051,    0.052052,    0.053053,    0.054054,    0.055055,    0.056056,    0.057057,    0.058058,    0.059059,     0.06006,    0.061061,    0.062062,    0.063063,    0.064064,    0.065065,    0.066066,    0.067067,    0.068068,    0.069069,     0.07007,    0.071071,\n",
       "          0.072072,    0.073073,    0.074074,    0.075075,    0.076076,    0.077077,    0.078078,    0.079079,     0.08008,    0.081081,    0.082082,    0.083083,    0.084084,    0.085085,    0.086086,    0.087087,    0.088088,    0.089089,     0.09009,    0.091091,    0.092092,    0.093093,    0.094094,    0.095095,\n",
       "          0.096096,    0.097097,    0.098098,    0.099099,      0.1001,      0.1011,      0.1021,      0.1031,      0.1041,     0.10511,     0.10611,     0.10711,     0.10811,     0.10911,     0.11011,     0.11111,     0.11211,     0.11311,     0.11411,     0.11512,     0.11612,     0.11712,     0.11812,     0.11912,\n",
       "           0.12012,     0.12112,     0.12212,     0.12312,     0.12412,     0.12513,     0.12613,     0.12713,     0.12813,     0.12913,     0.13013,     0.13113,     0.13213,     0.13313,     0.13413,     0.13514,     0.13614,     0.13714,     0.13814,     0.13914,     0.14014,     0.14114,     0.14214,     0.14314,\n",
       "           0.14414,     0.14515,     0.14615,     0.14715,     0.14815,     0.14915,     0.15015,     0.15115,     0.15215,     0.15315,     0.15415,     0.15516,     0.15616,     0.15716,     0.15816,     0.15916,     0.16016,     0.16116,     0.16216,     0.16316,     0.16416,     0.16517,     0.16617,     0.16717,\n",
       "           0.16817,     0.16917,     0.17017,     0.17117,     0.17217,     0.17317,     0.17417,     0.17518,     0.17618,     0.17718,     0.17818,     0.17918,     0.18018,     0.18118,     0.18218,     0.18318,     0.18418,     0.18519,     0.18619,     0.18719,     0.18819,     0.18919,     0.19019,     0.19119,\n",
       "           0.19219,     0.19319,     0.19419,      0.1952,      0.1962,      0.1972,      0.1982,      0.1992,      0.2002,      0.2012,      0.2022,      0.2032,      0.2042,     0.20521,     0.20621,     0.20721,     0.20821,     0.20921,     0.21021,     0.21121,     0.21221,     0.21321,     0.21421,     0.21522,\n",
       "           0.21622,     0.21722,     0.21822,     0.21922,     0.22022,     0.22122,     0.22222,     0.22322,     0.22422,     0.22523,     0.22623,     0.22723,     0.22823,     0.22923,     0.23023,     0.23123,     0.23223,     0.23323,     0.23423,     0.23524,     0.23624,     0.23724,     0.23824,     0.23924,\n",
       "           0.24024,     0.24124,     0.24224,     0.24324,     0.24424,     0.24525,     0.24625,     0.24725,     0.24825,     0.24925,     0.25025,     0.25125,     0.25225,     0.25325,     0.25425,     0.25526,     0.25626,     0.25726,     0.25826,     0.25926,     0.26026,     0.26126,     0.26226,     0.26326,\n",
       "           0.26426,     0.26527,     0.26627,     0.26727,     0.26827,     0.26927,     0.27027,     0.27127,     0.27227,     0.27327,     0.27427,     0.27528,     0.27628,     0.27728,     0.27828,     0.27928,     0.28028,     0.28128,     0.28228,     0.28328,     0.28428,     0.28529,     0.28629,     0.28729,\n",
       "           0.28829,     0.28929,     0.29029,     0.29129,     0.29229,     0.29329,     0.29429,      0.2953,      0.2963,      0.2973,      0.2983,      0.2993,      0.3003,      0.3013,      0.3023,      0.3033,      0.3043,     0.30531,     0.30631,     0.30731,     0.30831,     0.30931,     0.31031,     0.31131,\n",
       "           0.31231,     0.31331,     0.31431,     0.31532,     0.31632,     0.31732,     0.31832,     0.31932,     0.32032,     0.32132,     0.32232,     0.32332,     0.32432,     0.32533,     0.32633,     0.32733,     0.32833,     0.32933,     0.33033,     0.33133,     0.33233,     0.33333,     0.33433,     0.33534,\n",
       "           0.33634,     0.33734,     0.33834,     0.33934,     0.34034,     0.34134,     0.34234,     0.34334,     0.34434,     0.34535,     0.34635,     0.34735,     0.34835,     0.34935,     0.35035,     0.35135,     0.35235,     0.35335,     0.35435,     0.35536,     0.35636,     0.35736,     0.35836,     0.35936,\n",
       "           0.36036,     0.36136,     0.36236,     0.36336,     0.36436,     0.36537,     0.36637,     0.36737,     0.36837,     0.36937,     0.37037,     0.37137,     0.37237,     0.37337,     0.37437,     0.37538,     0.37638,     0.37738,     0.37838,     0.37938,     0.38038,     0.38138,     0.38238,     0.38338,\n",
       "           0.38438,     0.38539,     0.38639,     0.38739,     0.38839,     0.38939,     0.39039,     0.39139,     0.39239,     0.39339,     0.39439,      0.3954,      0.3964,      0.3974,      0.3984,      0.3994,      0.4004,      0.4014,      0.4024,      0.4034,      0.4044,     0.40541,     0.40641,     0.40741,\n",
       "           0.40841,     0.40941,     0.41041,     0.41141,     0.41241,     0.41341,     0.41441,     0.41542,     0.41642,     0.41742,     0.41842,     0.41942,     0.42042,     0.42142,     0.42242,     0.42342,     0.42442,     0.42543,     0.42643,     0.42743,     0.42843,     0.42943,     0.43043,     0.43143,\n",
       "           0.43243,     0.43343,     0.43443,     0.43544,     0.43644,     0.43744,     0.43844,     0.43944,     0.44044,     0.44144,     0.44244,     0.44344,     0.44444,     0.44545,     0.44645,     0.44745,     0.44845,     0.44945,     0.45045,     0.45145,     0.45245,     0.45345,     0.45445,     0.45546,\n",
       "           0.45646,     0.45746,     0.45846,     0.45946,     0.46046,     0.46146,     0.46246,     0.46346,     0.46446,     0.46547,     0.46647,     0.46747,     0.46847,     0.46947,     0.47047,     0.47147,     0.47247,     0.47347,     0.47447,     0.47548,     0.47648,     0.47748,     0.47848,     0.47948,\n",
       "           0.48048,     0.48148,     0.48248,     0.48348,     0.48448,     0.48549,     0.48649,     0.48749,     0.48849,     0.48949,     0.49049,     0.49149,     0.49249,     0.49349,     0.49449,      0.4955,      0.4965,      0.4975,      0.4985,      0.4995,      0.5005,      0.5015,      0.5025,      0.5035,\n",
       "            0.5045,     0.50551,     0.50651,     0.50751,     0.50851,     0.50951,     0.51051,     0.51151,     0.51251,     0.51351,     0.51451,     0.51552,     0.51652,     0.51752,     0.51852,     0.51952,     0.52052,     0.52152,     0.52252,     0.52352,     0.52452,     0.52553,     0.52653,     0.52753,\n",
       "           0.52853,     0.52953,     0.53053,     0.53153,     0.53253,     0.53353,     0.53453,     0.53554,     0.53654,     0.53754,     0.53854,     0.53954,     0.54054,     0.54154,     0.54254,     0.54354,     0.54454,     0.54555,     0.54655,     0.54755,     0.54855,     0.54955,     0.55055,     0.55155,\n",
       "           0.55255,     0.55355,     0.55455,     0.55556,     0.55656,     0.55756,     0.55856,     0.55956,     0.56056,     0.56156,     0.56256,     0.56356,     0.56456,     0.56557,     0.56657,     0.56757,     0.56857,     0.56957,     0.57057,     0.57157,     0.57257,     0.57357,     0.57457,     0.57558,\n",
       "           0.57658,     0.57758,     0.57858,     0.57958,     0.58058,     0.58158,     0.58258,     0.58358,     0.58458,     0.58559,     0.58659,     0.58759,     0.58859,     0.58959,     0.59059,     0.59159,     0.59259,     0.59359,     0.59459,      0.5956,      0.5966,      0.5976,      0.5986,      0.5996,\n",
       "            0.6006,      0.6016,      0.6026,      0.6036,      0.6046,     0.60561,     0.60661,     0.60761,     0.60861,     0.60961,     0.61061,     0.61161,     0.61261,     0.61361,     0.61461,     0.61562,     0.61662,     0.61762,     0.61862,     0.61962,     0.62062,     0.62162,     0.62262,     0.62362,\n",
       "           0.62462,     0.62563,     0.62663,     0.62763,     0.62863,     0.62963,     0.63063,     0.63163,     0.63263,     0.63363,     0.63463,     0.63564,     0.63664,     0.63764,     0.63864,     0.63964,     0.64064,     0.64164,     0.64264,     0.64364,     0.64464,     0.64565,     0.64665,     0.64765,\n",
       "           0.64865,     0.64965,     0.65065,     0.65165,     0.65265,     0.65365,     0.65465,     0.65566,     0.65666,     0.65766,     0.65866,     0.65966,     0.66066,     0.66166,     0.66266,     0.66366,     0.66466,     0.66567,     0.66667,     0.66767,     0.66867,     0.66967,     0.67067,     0.67167,\n",
       "           0.67267,     0.67367,     0.67467,     0.67568,     0.67668,     0.67768,     0.67868,     0.67968,     0.68068,     0.68168,     0.68268,     0.68368,     0.68468,     0.68569,     0.68669,     0.68769,     0.68869,     0.68969,     0.69069,     0.69169,     0.69269,     0.69369,     0.69469,      0.6957,\n",
       "            0.6967,      0.6977,      0.6987,      0.6997,      0.7007,      0.7017,      0.7027,      0.7037,      0.7047,     0.70571,     0.70671,     0.70771,     0.70871,     0.70971,     0.71071,     0.71171,     0.71271,     0.71371,     0.71471,     0.71572,     0.71672,     0.71772,     0.71872,     0.71972,\n",
       "           0.72072,     0.72172,     0.72272,     0.72372,     0.72472,     0.72573,     0.72673,     0.72773,     0.72873,     0.72973,     0.73073,     0.73173,     0.73273,     0.73373,     0.73473,     0.73574,     0.73674,     0.73774,     0.73874,     0.73974,     0.74074,     0.74174,     0.74274,     0.74374,\n",
       "           0.74474,     0.74575,     0.74675,     0.74775,     0.74875,     0.74975,     0.75075,     0.75175,     0.75275,     0.75375,     0.75475,     0.75576,     0.75676,     0.75776,     0.75876,     0.75976,     0.76076,     0.76176,     0.76276,     0.76376,     0.76476,     0.76577,     0.76677,     0.76777,\n",
       "           0.76877,     0.76977,     0.77077,     0.77177,     0.77277,     0.77377,     0.77477,     0.77578,     0.77678,     0.77778,     0.77878,     0.77978,     0.78078,     0.78178,     0.78278,     0.78378,     0.78478,     0.78579,     0.78679,     0.78779,     0.78879,     0.78979,     0.79079,     0.79179,\n",
       "           0.79279,     0.79379,     0.79479,      0.7958,      0.7968,      0.7978,      0.7988,      0.7998,      0.8008,      0.8018,      0.8028,      0.8038,      0.8048,     0.80581,     0.80681,     0.80781,     0.80881,     0.80981,     0.81081,     0.81181,     0.81281,     0.81381,     0.81481,     0.81582,\n",
       "           0.81682,     0.81782,     0.81882,     0.81982,     0.82082,     0.82182,     0.82282,     0.82382,     0.82482,     0.82583,     0.82683,     0.82783,     0.82883,     0.82983,     0.83083,     0.83183,     0.83283,     0.83383,     0.83483,     0.83584,     0.83684,     0.83784,     0.83884,     0.83984,\n",
       "           0.84084,     0.84184,     0.84284,     0.84384,     0.84484,     0.84585,     0.84685,     0.84785,     0.84885,     0.84985,     0.85085,     0.85185,     0.85285,     0.85385,     0.85485,     0.85586,     0.85686,     0.85786,     0.85886,     0.85986,     0.86086,     0.86186,     0.86286,     0.86386,\n",
       "           0.86486,     0.86587,     0.86687,     0.86787,     0.86887,     0.86987,     0.87087,     0.87187,     0.87287,     0.87387,     0.87487,     0.87588,     0.87688,     0.87788,     0.87888,     0.87988,     0.88088,     0.88188,     0.88288,     0.88388,     0.88488,     0.88589,     0.88689,     0.88789,\n",
       "           0.88889,     0.88989,     0.89089,     0.89189,     0.89289,     0.89389,     0.89489,      0.8959,      0.8969,      0.8979,      0.8989,      0.8999,      0.9009,      0.9019,      0.9029,      0.9039,      0.9049,     0.90591,     0.90691,     0.90791,     0.90891,     0.90991,     0.91091,     0.91191,\n",
       "           0.91291,     0.91391,     0.91491,     0.91592,     0.91692,     0.91792,     0.91892,     0.91992,     0.92092,     0.92192,     0.92292,     0.92392,     0.92492,     0.92593,     0.92693,     0.92793,     0.92893,     0.92993,     0.93093,     0.93193,     0.93293,     0.93393,     0.93493,     0.93594,\n",
       "           0.93694,     0.93794,     0.93894,     0.93994,     0.94094,     0.94194,     0.94294,     0.94394,     0.94494,     0.94595,     0.94695,     0.94795,     0.94895,     0.94995,     0.95095,     0.95195,     0.95295,     0.95395,     0.95495,     0.95596,     0.95696,     0.95796,     0.95896,     0.95996,\n",
       "           0.96096,     0.96196,     0.96296,     0.96396,     0.96496,     0.96597,     0.96697,     0.96797,     0.96897,     0.96997,     0.97097,     0.97197,     0.97297,     0.97397,     0.97497,     0.97598,     0.97698,     0.97798,     0.97898,     0.97998,     0.98098,     0.98198,     0.98298,     0.98398,\n",
       "           0.98498,     0.98599,     0.98699,     0.98799,     0.98899,     0.98999,     0.99099,     0.99199,     0.99299,     0.99399,     0.99499,       0.996,       0.997,       0.998,       0.999,           1]), array([[          1,           1,           1,           1,           1,           1,           1,           1,           1,           1,           1,           1,           1,           1,           1,           1,           1,           1,           1,           1,           1,           1,           1,\n",
       "                  1,           1,           1,           1,           1,           1,           1,           1,           1,           1,           1,           1,           1,           1,           1,           1,           1,           1,           1,           1,           1,           1,           1,\n",
       "                  1,           1,           1,           1,           1,           1,           1,           1,           1,           1,           1,           1,           1,           1,           1,           1,           1,           1,           1,           1,           1,           1,           1,\n",
       "                  1,           1,           1,           1,           1,           1,           1,           1,           1,           1,           1,           1,           1,           1,           1,           1,           1,           1,           1,           1,           1,           1,           1,\n",
       "                  1,           1,           1,           1,           1,           1,           1,           1,           1,           1,           1,           1,           1,           1,           1,           1,           1,           1,           1,           1,           1,           1,           1,\n",
       "                  1,           1,           1,           1,           1,           1,           1,           1,           1,           1,           1,           1,           1,           1,           1,           1,           1,           1,           1,           1,           1,           1,           1,\n",
       "                  1,           1,           1,           1,           1,           1,           1,           1,           1,           1,           1,           1,           1,           1,           1,           1,           1,           1,           1,           1,           1,           1,           1,\n",
       "                  1,           1,           1,           1,           1,           1,           1,           1,           1,           1,           1,           1,           1,     0.99768,     0.99768,     0.99768,     0.99768,     0.99768,     0.99768,     0.99768,     0.99768,     0.99768,     0.99768,\n",
       "            0.99768,     0.99768,     0.99768,     0.99768,     0.99768,     0.99768,     0.99768,     0.99768,     0.99768,     0.99768,     0.99768,     0.99768,     0.99768,     0.99768,     0.99768,     0.99768,     0.99768,     0.99768,     0.99768,     0.99768,     0.99768,     0.99768,     0.99768,\n",
       "            0.99768,     0.99768,     0.99768,     0.99768,     0.99768,     0.99768,     0.99768,     0.99768,     0.99768,     0.99768,     0.99768,     0.99768,     0.99768,     0.99768,     0.99768,     0.99768,     0.99768,     0.99768,     0.99768,     0.99768,     0.99768,     0.99768,     0.99768,\n",
       "            0.99768,     0.99768,     0.99768,     0.99768,     0.99768,     0.99768,     0.99768,     0.99768,     0.99768,     0.99768,     0.99768,     0.99768,     0.99768,     0.99768,     0.99768,     0.99768,     0.99768,     0.99768,     0.99768,     0.99768,     0.99768,     0.99768,     0.99768,\n",
       "            0.99768,     0.99768,     0.99768,     0.99768,     0.99768,     0.99768,     0.99768,     0.99768,     0.99768,     0.99768,     0.99768,     0.99768,     0.99768,     0.99768,     0.99768,     0.99768,     0.99768,     0.99768,     0.99768,     0.99768,     0.99768,     0.99768,     0.99768,\n",
       "            0.99768,     0.99768,     0.99768,     0.99768,     0.99768,     0.99768,     0.99768,     0.99768,     0.99768,     0.99768,     0.99768,     0.99768,     0.99768,     0.99768,     0.99768,     0.99768,     0.99768,     0.99768,     0.99768,     0.99768,     0.99768,     0.99768,     0.99768,\n",
       "            0.99768,     0.99768,     0.99768,     0.99768,     0.99768,     0.99768,     0.99768,     0.99768,     0.99768,     0.99768,     0.99768,     0.99768,     0.99768,     0.99768,     0.99768,     0.99768,     0.99768,     0.99768,     0.99768,     0.99768,     0.99768,     0.99768,     0.99768,\n",
       "            0.99768,     0.99768,     0.99768,     0.99768,     0.99768,     0.99768,     0.99768,     0.99768,     0.99768,     0.99768,     0.99768,     0.99768,     0.99768,     0.99768,     0.99768,     0.99768,     0.99768,     0.99768,     0.99768,     0.99768,     0.99768,     0.99768,     0.99768,\n",
       "            0.99768,     0.99768,     0.99768,     0.99768,     0.99768,     0.99768,     0.99768,     0.99768,     0.99768,     0.99768,     0.99768,     0.99768,     0.99768,     0.99768,     0.99768,     0.99768,     0.99768,     0.99768,     0.99768,     0.99768,     0.99768,     0.99768,     0.99768,\n",
       "            0.99768,     0.99768,     0.99768,     0.99768,     0.99768,     0.99768,     0.99768,     0.99768,     0.99768,     0.99768,     0.99768,     0.99768,     0.99768,     0.99768,     0.99768,     0.99768,     0.99768,     0.99768,     0.99768,     0.99768,     0.99768,     0.99768,     0.99768,\n",
       "            0.99768,     0.99768,     0.99768,     0.99768,     0.99768,     0.99758,     0.99758,     0.99758,     0.99758,     0.99758,     0.99758,     0.99758,     0.99758,     0.99758,     0.99758,     0.99758,     0.99758,     0.99758,     0.99758,     0.99758,     0.99758,     0.99758,     0.99758,\n",
       "            0.99758,     0.99758,     0.99758,     0.99758,     0.99758,     0.99758,     0.99758,     0.99758,     0.99758,     0.99758,     0.99758,     0.99758,     0.99758,     0.99758,     0.99758,     0.99758,     0.99758,     0.99758,     0.99758,     0.99758,     0.99758,     0.99758,     0.99758,\n",
       "            0.99758,     0.99758,     0.99758,     0.99758,     0.99758,     0.99758,     0.99758,     0.99758,     0.99758,     0.99758,     0.99758,     0.99758,     0.99758,     0.99758,     0.99758,     0.99758,     0.99758,     0.99758,     0.99758,     0.99758,     0.99758,     0.99758,     0.99758,\n",
       "            0.99758,     0.99758,     0.99758,     0.99758,     0.99758,     0.99758,     0.99758,     0.99758,     0.99758,     0.99758,     0.99758,     0.99758,     0.99758,     0.99758,     0.99758,     0.99758,     0.99758,     0.99758,     0.99758,     0.99758,     0.99758,     0.99758,     0.99758,\n",
       "            0.99758,     0.99758,     0.99758,     0.99758,     0.99758,     0.99758,     0.99758,     0.99758,     0.99758,     0.99758,     0.99758,     0.99758,     0.99758,     0.99758,     0.99758,     0.99758,     0.99758,     0.99758,     0.99758,     0.99758,     0.99758,     0.99758,     0.99758,\n",
       "            0.99758,     0.99758,     0.99758,     0.99758,     0.99758,     0.99758,     0.99758,     0.99758,     0.99758,     0.99758,     0.99758,     0.99758,     0.99758,     0.99758,     0.99758,     0.99758,     0.99758,     0.99758,     0.99758,     0.99758,     0.99758,     0.99758,     0.99758,\n",
       "            0.99758,     0.99758,     0.99758,     0.99758,     0.99758,     0.99758,     0.99758,     0.99758,     0.99758,     0.99758,     0.99758,     0.99758,     0.99758,     0.99758,     0.99758,     0.99758,     0.99758,     0.99758,     0.99758,     0.99758,     0.99758,     0.99758,     0.99758,\n",
       "            0.99758,     0.99758,     0.99758,     0.99758,     0.99758,     0.99758,     0.99758,     0.99758,     0.99758,     0.99758,     0.99758,     0.99758,     0.99758,     0.99758,     0.99758,     0.99758,     0.99758,     0.99727,     0.99727,     0.99727,     0.99727,     0.99727,     0.99727,\n",
       "            0.99727,     0.99727,     0.99727,     0.99727,     0.99727,     0.99727,     0.99727,     0.99727,     0.99727,     0.99727,     0.99727,     0.99727,     0.99727,     0.99727,     0.99727,     0.99727,     0.99727,     0.99727,     0.99727,     0.99727,     0.99727,     0.99727,     0.99727,\n",
       "            0.99727,     0.99727,     0.99727,     0.99727,     0.99727,     0.99727,     0.99727,     0.99727,     0.99727,     0.99727,     0.99727,     0.99727,     0.99727,     0.99727,     0.99727,     0.99727,     0.99727,     0.99727,     0.99727,     0.99727,     0.99727,     0.99727,     0.99727,\n",
       "            0.99727,     0.99727,     0.99727,     0.99727,     0.99727,     0.99727,     0.99727,     0.99727,     0.99727,     0.99727,     0.99727,     0.99727,     0.99727,     0.99727,     0.99727,     0.99727,     0.99727,     0.99727,     0.99727,     0.99727,     0.99727,     0.99727,     0.99727,\n",
       "            0.99727,     0.99727,     0.99727,     0.99727,     0.99727,     0.99727,     0.99727,     0.99727,     0.99727,     0.99727,     0.99727,     0.99727,     0.99727,     0.99727,     0.99727,     0.99727,     0.99727,     0.99727,     0.99727,     0.99727,     0.99727,     0.99727,     0.99727,\n",
       "            0.99727,     0.99727,     0.99727,      0.9968,      0.9968,      0.9968,      0.9968,      0.9968,      0.9968,      0.9968,      0.9968,      0.9968,      0.9968,      0.9968,      0.9968,      0.9968,      0.9968,      0.9968,      0.9968,      0.9968,      0.9968,      0.9968,      0.9968,\n",
       "             0.9968,      0.9968,      0.9968,      0.9968,      0.9968,      0.9968,      0.9968,      0.9968,      0.9968,      0.9968,      0.9968,      0.9968,      0.9968,      0.9968,      0.9968,      0.9968,      0.9968,      0.9968,      0.9968,      0.9968,      0.9968,      0.9968,      0.9968,\n",
       "             0.9968,      0.9968,     0.99622,     0.99622,     0.99622,     0.99622,     0.99622,     0.99622,     0.99622,     0.99622,     0.99622,     0.99622,     0.99622,     0.99622,      0.9958,      0.9958,      0.9958,      0.9958,      0.9958,      0.9958,      0.9958,      0.9958,      0.9958,\n",
       "             0.9958,      0.9958,      0.9958,      0.9958,      0.9958,      0.9958,      0.9958,      0.9958,      0.9958,      0.9958,      0.9958,      0.9958,      0.9958,      0.9958,      0.9958,      0.9958,      0.9958,      0.9958,      0.9958,      0.9958,      0.9958,      0.9958,      0.9958,\n",
       "             0.9958,      0.9958,      0.9958,     0.99529,     0.99529,     0.99529,     0.99529,     0.99529,     0.99529,     0.99529,     0.99529,     0.99529,     0.99529,     0.99529,     0.99529,     0.99529,     0.99529,     0.99529,     0.99474,     0.99474,     0.99474,     0.99474,     0.99474,\n",
       "             0.9943,      0.9943,      0.9943,      0.9943,      0.9943,      0.9943,      0.9943,      0.9943,      0.9943,      0.9943,      0.9943,      0.9943,      0.9943,      0.9943,      0.9943,      0.9943,      0.9943,      0.9943,      0.9943,     0.99397,     0.99397,     0.99397,     0.99397,\n",
       "            0.99397,     0.99397,     0.99397,     0.99397,     0.99397,     0.99397,     0.99397,     0.99397,     0.99397,     0.99397,     0.99397,     0.99397,     0.99397,     0.99397,     0.99397,     0.99397,     0.99397,     0.99397,     0.99397,     0.99397,     0.99397,     0.99397,     0.99397,\n",
       "            0.99397,     0.99397,     0.99397,     0.99397,     0.99397,     0.99348,     0.99348,     0.99348,     0.99348,     0.99348,     0.99348,     0.99348,     0.99249,     0.99249,     0.99249,     0.99249,     0.99249,     0.99249,     0.99249,     0.99249,     0.99249,     0.99205,     0.99205,\n",
       "            0.99205,     0.99205,     0.99205,     0.99205,     0.99205,     0.99205,     0.99205,     0.99205,     0.99173,     0.99173,     0.99173,     0.99173,     0.99173,     0.99173,     0.99173,     0.99173,     0.99173,     0.99173,     0.99173,     0.99173,     0.99173,     0.99173,     0.99173,\n",
       "            0.99173,     0.99173,     0.99173,     0.99173,     0.99173,     0.99173,     0.99173,      0.9913,      0.9913,      0.9913,      0.9913,      0.9913,      0.9913,      0.9913,      0.9913,      0.9913,       0.991,       0.991,       0.991,       0.991,       0.991,       0.991,       0.991,\n",
       "              0.991,       0.991,       0.991,       0.991,       0.991,       0.991,       0.991,       0.991,       0.991,       0.991,       0.991,       0.991,       0.991,       0.991,     0.99005,     0.99005,     0.99005,     0.99005,     0.98913,     0.98913,     0.98913,     0.98913,     0.98913,\n",
       "            0.98865,     0.98823,     0.98823,     0.98823,     0.98823,     0.98823,     0.98735,     0.98735,     0.98735,     0.98735,     0.98735,     0.98735,     0.98641,     0.98641,     0.98595,      0.9855,      0.9855,     0.98511,     0.98511,     0.98511,     0.98511,     0.98511,     0.98418,\n",
       "            0.98374,     0.98374,     0.98329,     0.98238,     0.98238,     0.98102,     0.98011,     0.98011,     0.97921,     0.97878,     0.97878,     0.97792,     0.97792,     0.97702,     0.97612,     0.97533,     0.97533,     0.97533,     0.97533,     0.97398,     0.97315,     0.97315,     0.97315,\n",
       "            0.97143,     0.97143,     0.97099,     0.97062,     0.97062,     0.96975,     0.96757,     0.96671,     0.96586,     0.96414,     0.96332,     0.96161,     0.95993,     0.95951,     0.95869,     0.95658,     0.95491,     0.95285,     0.95122,      0.9504,     0.94962,     0.94755,     0.93774,\n",
       "            0.93696,     0.93336,      0.9298,     0.92272,      0.9142,     0.90856,     0.90071,     0.87677,     0.85816,     0.81271,           0]]), 'Recall', 'Precision'], [array([          0,    0.001001,    0.002002,    0.003003,    0.004004,    0.005005,    0.006006,    0.007007,    0.008008,    0.009009,     0.01001,    0.011011,    0.012012,    0.013013,    0.014014,    0.015015,    0.016016,    0.017017,    0.018018,    0.019019,     0.02002,    0.021021,    0.022022,    0.023023,\n",
       "          0.024024,    0.025025,    0.026026,    0.027027,    0.028028,    0.029029,     0.03003,    0.031031,    0.032032,    0.033033,    0.034034,    0.035035,    0.036036,    0.037037,    0.038038,    0.039039,     0.04004,    0.041041,    0.042042,    0.043043,    0.044044,    0.045045,    0.046046,    0.047047,\n",
       "          0.048048,    0.049049,     0.05005,    0.051051,    0.052052,    0.053053,    0.054054,    0.055055,    0.056056,    0.057057,    0.058058,    0.059059,     0.06006,    0.061061,    0.062062,    0.063063,    0.064064,    0.065065,    0.066066,    0.067067,    0.068068,    0.069069,     0.07007,    0.071071,\n",
       "          0.072072,    0.073073,    0.074074,    0.075075,    0.076076,    0.077077,    0.078078,    0.079079,     0.08008,    0.081081,    0.082082,    0.083083,    0.084084,    0.085085,    0.086086,    0.087087,    0.088088,    0.089089,     0.09009,    0.091091,    0.092092,    0.093093,    0.094094,    0.095095,\n",
       "          0.096096,    0.097097,    0.098098,    0.099099,      0.1001,      0.1011,      0.1021,      0.1031,      0.1041,     0.10511,     0.10611,     0.10711,     0.10811,     0.10911,     0.11011,     0.11111,     0.11211,     0.11311,     0.11411,     0.11512,     0.11612,     0.11712,     0.11812,     0.11912,\n",
       "           0.12012,     0.12112,     0.12212,     0.12312,     0.12412,     0.12513,     0.12613,     0.12713,     0.12813,     0.12913,     0.13013,     0.13113,     0.13213,     0.13313,     0.13413,     0.13514,     0.13614,     0.13714,     0.13814,     0.13914,     0.14014,     0.14114,     0.14214,     0.14314,\n",
       "           0.14414,     0.14515,     0.14615,     0.14715,     0.14815,     0.14915,     0.15015,     0.15115,     0.15215,     0.15315,     0.15415,     0.15516,     0.15616,     0.15716,     0.15816,     0.15916,     0.16016,     0.16116,     0.16216,     0.16316,     0.16416,     0.16517,     0.16617,     0.16717,\n",
       "           0.16817,     0.16917,     0.17017,     0.17117,     0.17217,     0.17317,     0.17417,     0.17518,     0.17618,     0.17718,     0.17818,     0.17918,     0.18018,     0.18118,     0.18218,     0.18318,     0.18418,     0.18519,     0.18619,     0.18719,     0.18819,     0.18919,     0.19019,     0.19119,\n",
       "           0.19219,     0.19319,     0.19419,      0.1952,      0.1962,      0.1972,      0.1982,      0.1992,      0.2002,      0.2012,      0.2022,      0.2032,      0.2042,     0.20521,     0.20621,     0.20721,     0.20821,     0.20921,     0.21021,     0.21121,     0.21221,     0.21321,     0.21421,     0.21522,\n",
       "           0.21622,     0.21722,     0.21822,     0.21922,     0.22022,     0.22122,     0.22222,     0.22322,     0.22422,     0.22523,     0.22623,     0.22723,     0.22823,     0.22923,     0.23023,     0.23123,     0.23223,     0.23323,     0.23423,     0.23524,     0.23624,     0.23724,     0.23824,     0.23924,\n",
       "           0.24024,     0.24124,     0.24224,     0.24324,     0.24424,     0.24525,     0.24625,     0.24725,     0.24825,     0.24925,     0.25025,     0.25125,     0.25225,     0.25325,     0.25425,     0.25526,     0.25626,     0.25726,     0.25826,     0.25926,     0.26026,     0.26126,     0.26226,     0.26326,\n",
       "           0.26426,     0.26527,     0.26627,     0.26727,     0.26827,     0.26927,     0.27027,     0.27127,     0.27227,     0.27327,     0.27427,     0.27528,     0.27628,     0.27728,     0.27828,     0.27928,     0.28028,     0.28128,     0.28228,     0.28328,     0.28428,     0.28529,     0.28629,     0.28729,\n",
       "           0.28829,     0.28929,     0.29029,     0.29129,     0.29229,     0.29329,     0.29429,      0.2953,      0.2963,      0.2973,      0.2983,      0.2993,      0.3003,      0.3013,      0.3023,      0.3033,      0.3043,     0.30531,     0.30631,     0.30731,     0.30831,     0.30931,     0.31031,     0.31131,\n",
       "           0.31231,     0.31331,     0.31431,     0.31532,     0.31632,     0.31732,     0.31832,     0.31932,     0.32032,     0.32132,     0.32232,     0.32332,     0.32432,     0.32533,     0.32633,     0.32733,     0.32833,     0.32933,     0.33033,     0.33133,     0.33233,     0.33333,     0.33433,     0.33534,\n",
       "           0.33634,     0.33734,     0.33834,     0.33934,     0.34034,     0.34134,     0.34234,     0.34334,     0.34434,     0.34535,     0.34635,     0.34735,     0.34835,     0.34935,     0.35035,     0.35135,     0.35235,     0.35335,     0.35435,     0.35536,     0.35636,     0.35736,     0.35836,     0.35936,\n",
       "           0.36036,     0.36136,     0.36236,     0.36336,     0.36436,     0.36537,     0.36637,     0.36737,     0.36837,     0.36937,     0.37037,     0.37137,     0.37237,     0.37337,     0.37437,     0.37538,     0.37638,     0.37738,     0.37838,     0.37938,     0.38038,     0.38138,     0.38238,     0.38338,\n",
       "           0.38438,     0.38539,     0.38639,     0.38739,     0.38839,     0.38939,     0.39039,     0.39139,     0.39239,     0.39339,     0.39439,      0.3954,      0.3964,      0.3974,      0.3984,      0.3994,      0.4004,      0.4014,      0.4024,      0.4034,      0.4044,     0.40541,     0.40641,     0.40741,\n",
       "           0.40841,     0.40941,     0.41041,     0.41141,     0.41241,     0.41341,     0.41441,     0.41542,     0.41642,     0.41742,     0.41842,     0.41942,     0.42042,     0.42142,     0.42242,     0.42342,     0.42442,     0.42543,     0.42643,     0.42743,     0.42843,     0.42943,     0.43043,     0.43143,\n",
       "           0.43243,     0.43343,     0.43443,     0.43544,     0.43644,     0.43744,     0.43844,     0.43944,     0.44044,     0.44144,     0.44244,     0.44344,     0.44444,     0.44545,     0.44645,     0.44745,     0.44845,     0.44945,     0.45045,     0.45145,     0.45245,     0.45345,     0.45445,     0.45546,\n",
       "           0.45646,     0.45746,     0.45846,     0.45946,     0.46046,     0.46146,     0.46246,     0.46346,     0.46446,     0.46547,     0.46647,     0.46747,     0.46847,     0.46947,     0.47047,     0.47147,     0.47247,     0.47347,     0.47447,     0.47548,     0.47648,     0.47748,     0.47848,     0.47948,\n",
       "           0.48048,     0.48148,     0.48248,     0.48348,     0.48448,     0.48549,     0.48649,     0.48749,     0.48849,     0.48949,     0.49049,     0.49149,     0.49249,     0.49349,     0.49449,      0.4955,      0.4965,      0.4975,      0.4985,      0.4995,      0.5005,      0.5015,      0.5025,      0.5035,\n",
       "            0.5045,     0.50551,     0.50651,     0.50751,     0.50851,     0.50951,     0.51051,     0.51151,     0.51251,     0.51351,     0.51451,     0.51552,     0.51652,     0.51752,     0.51852,     0.51952,     0.52052,     0.52152,     0.52252,     0.52352,     0.52452,     0.52553,     0.52653,     0.52753,\n",
       "           0.52853,     0.52953,     0.53053,     0.53153,     0.53253,     0.53353,     0.53453,     0.53554,     0.53654,     0.53754,     0.53854,     0.53954,     0.54054,     0.54154,     0.54254,     0.54354,     0.54454,     0.54555,     0.54655,     0.54755,     0.54855,     0.54955,     0.55055,     0.55155,\n",
       "           0.55255,     0.55355,     0.55455,     0.55556,     0.55656,     0.55756,     0.55856,     0.55956,     0.56056,     0.56156,     0.56256,     0.56356,     0.56456,     0.56557,     0.56657,     0.56757,     0.56857,     0.56957,     0.57057,     0.57157,     0.57257,     0.57357,     0.57457,     0.57558,\n",
       "           0.57658,     0.57758,     0.57858,     0.57958,     0.58058,     0.58158,     0.58258,     0.58358,     0.58458,     0.58559,     0.58659,     0.58759,     0.58859,     0.58959,     0.59059,     0.59159,     0.59259,     0.59359,     0.59459,      0.5956,      0.5966,      0.5976,      0.5986,      0.5996,\n",
       "            0.6006,      0.6016,      0.6026,      0.6036,      0.6046,     0.60561,     0.60661,     0.60761,     0.60861,     0.60961,     0.61061,     0.61161,     0.61261,     0.61361,     0.61461,     0.61562,     0.61662,     0.61762,     0.61862,     0.61962,     0.62062,     0.62162,     0.62262,     0.62362,\n",
       "           0.62462,     0.62563,     0.62663,     0.62763,     0.62863,     0.62963,     0.63063,     0.63163,     0.63263,     0.63363,     0.63463,     0.63564,     0.63664,     0.63764,     0.63864,     0.63964,     0.64064,     0.64164,     0.64264,     0.64364,     0.64464,     0.64565,     0.64665,     0.64765,\n",
       "           0.64865,     0.64965,     0.65065,     0.65165,     0.65265,     0.65365,     0.65465,     0.65566,     0.65666,     0.65766,     0.65866,     0.65966,     0.66066,     0.66166,     0.66266,     0.66366,     0.66466,     0.66567,     0.66667,     0.66767,     0.66867,     0.66967,     0.67067,     0.67167,\n",
       "           0.67267,     0.67367,     0.67467,     0.67568,     0.67668,     0.67768,     0.67868,     0.67968,     0.68068,     0.68168,     0.68268,     0.68368,     0.68468,     0.68569,     0.68669,     0.68769,     0.68869,     0.68969,     0.69069,     0.69169,     0.69269,     0.69369,     0.69469,      0.6957,\n",
       "            0.6967,      0.6977,      0.6987,      0.6997,      0.7007,      0.7017,      0.7027,      0.7037,      0.7047,     0.70571,     0.70671,     0.70771,     0.70871,     0.70971,     0.71071,     0.71171,     0.71271,     0.71371,     0.71471,     0.71572,     0.71672,     0.71772,     0.71872,     0.71972,\n",
       "           0.72072,     0.72172,     0.72272,     0.72372,     0.72472,     0.72573,     0.72673,     0.72773,     0.72873,     0.72973,     0.73073,     0.73173,     0.73273,     0.73373,     0.73473,     0.73574,     0.73674,     0.73774,     0.73874,     0.73974,     0.74074,     0.74174,     0.74274,     0.74374,\n",
       "           0.74474,     0.74575,     0.74675,     0.74775,     0.74875,     0.74975,     0.75075,     0.75175,     0.75275,     0.75375,     0.75475,     0.75576,     0.75676,     0.75776,     0.75876,     0.75976,     0.76076,     0.76176,     0.76276,     0.76376,     0.76476,     0.76577,     0.76677,     0.76777,\n",
       "           0.76877,     0.76977,     0.77077,     0.77177,     0.77277,     0.77377,     0.77477,     0.77578,     0.77678,     0.77778,     0.77878,     0.77978,     0.78078,     0.78178,     0.78278,     0.78378,     0.78478,     0.78579,     0.78679,     0.78779,     0.78879,     0.78979,     0.79079,     0.79179,\n",
       "           0.79279,     0.79379,     0.79479,      0.7958,      0.7968,      0.7978,      0.7988,      0.7998,      0.8008,      0.8018,      0.8028,      0.8038,      0.8048,     0.80581,     0.80681,     0.80781,     0.80881,     0.80981,     0.81081,     0.81181,     0.81281,     0.81381,     0.81481,     0.81582,\n",
       "           0.81682,     0.81782,     0.81882,     0.81982,     0.82082,     0.82182,     0.82282,     0.82382,     0.82482,     0.82583,     0.82683,     0.82783,     0.82883,     0.82983,     0.83083,     0.83183,     0.83283,     0.83383,     0.83483,     0.83584,     0.83684,     0.83784,     0.83884,     0.83984,\n",
       "           0.84084,     0.84184,     0.84284,     0.84384,     0.84484,     0.84585,     0.84685,     0.84785,     0.84885,     0.84985,     0.85085,     0.85185,     0.85285,     0.85385,     0.85485,     0.85586,     0.85686,     0.85786,     0.85886,     0.85986,     0.86086,     0.86186,     0.86286,     0.86386,\n",
       "           0.86486,     0.86587,     0.86687,     0.86787,     0.86887,     0.86987,     0.87087,     0.87187,     0.87287,     0.87387,     0.87487,     0.87588,     0.87688,     0.87788,     0.87888,     0.87988,     0.88088,     0.88188,     0.88288,     0.88388,     0.88488,     0.88589,     0.88689,     0.88789,\n",
       "           0.88889,     0.88989,     0.89089,     0.89189,     0.89289,     0.89389,     0.89489,      0.8959,      0.8969,      0.8979,      0.8989,      0.8999,      0.9009,      0.9019,      0.9029,      0.9039,      0.9049,     0.90591,     0.90691,     0.90791,     0.90891,     0.90991,     0.91091,     0.91191,\n",
       "           0.91291,     0.91391,     0.91491,     0.91592,     0.91692,     0.91792,     0.91892,     0.91992,     0.92092,     0.92192,     0.92292,     0.92392,     0.92492,     0.92593,     0.92693,     0.92793,     0.92893,     0.92993,     0.93093,     0.93193,     0.93293,     0.93393,     0.93493,     0.93594,\n",
       "           0.93694,     0.93794,     0.93894,     0.93994,     0.94094,     0.94194,     0.94294,     0.94394,     0.94494,     0.94595,     0.94695,     0.94795,     0.94895,     0.94995,     0.95095,     0.95195,     0.95295,     0.95395,     0.95495,     0.95596,     0.95696,     0.95796,     0.95896,     0.95996,\n",
       "           0.96096,     0.96196,     0.96296,     0.96396,     0.96496,     0.96597,     0.96697,     0.96797,     0.96897,     0.96997,     0.97097,     0.97197,     0.97297,     0.97397,     0.97497,     0.97598,     0.97698,     0.97798,     0.97898,     0.97998,     0.98098,     0.98198,     0.98298,     0.98398,\n",
       "           0.98498,     0.98599,     0.98699,     0.98799,     0.98899,     0.98999,     0.99099,     0.99199,     0.99299,     0.99399,     0.99499,       0.996,       0.997,       0.998,       0.999,           1]), array([[    0.82215,     0.82215,     0.85366,     0.86543,     0.87583,     0.88142,     0.88633,     0.89097,     0.89522,     0.89719,     0.89948,     0.90093,     0.90266,     0.90442,     0.90552,     0.90648,     0.90844,      0.9089,     0.91069,     0.91143,      0.9123,     0.91384,     0.91444,\n",
       "            0.91545,     0.91661,     0.91795,     0.91818,     0.91909,     0.91962,     0.92001,     0.92085,      0.9213,     0.92183,     0.92269,     0.92285,     0.92302,     0.92387,     0.92416,     0.92453,     0.92473,     0.92489,     0.92507,     0.92535,     0.92555,     0.92576,     0.92645,\n",
       "             0.9266,     0.92669,     0.92677,     0.92719,     0.92766,     0.92783,     0.92867,     0.92925,     0.92961,     0.92979,     0.93002,     0.93012,     0.93037,     0.93058,     0.93067,       0.931,     0.93131,     0.93157,     0.93165,     0.93173,     0.93183,     0.93193,     0.93203,\n",
       "            0.93215,     0.93247,      0.9326,      0.9327,      0.9329,     0.93307,     0.93322,      0.9332,     0.93337,      0.9335,     0.93361,     0.93371,     0.93381,      0.9339,     0.93398,     0.93405,     0.93428,     0.93445,     0.93483,     0.93517,     0.93535,     0.93569,     0.93652,\n",
       "            0.93732,     0.93772,     0.93781,      0.9379,     0.93794,     0.93798,     0.93801,     0.93804,     0.93807,     0.93811,     0.93818,     0.93829,     0.93852,     0.93866,     0.93883,     0.93916,     0.93921,     0.93926,     0.93931,     0.93961,     0.93987,     0.94002,     0.94013,\n",
       "            0.94074,     0.94093,     0.94136,      0.9416,      0.9417,     0.94182,     0.94212,      0.9426,     0.94266,     0.94271,     0.94275,      0.9428,     0.94293,     0.94304,      0.9431,     0.94316,     0.94322,     0.94345,     0.94349,     0.94353,     0.94357,     0.94362,     0.94375,\n",
       "            0.94433,     0.94456,     0.94467,     0.94472,     0.94477,     0.94482,     0.94487,     0.94508,     0.94539,     0.94581,     0.94595,     0.94603,     0.94605,     0.94611,     0.94615,     0.94619,     0.94623,     0.94627,     0.94631,     0.94636,      0.9464,     0.94645,     0.94649,\n",
       "            0.94656,     0.94664,     0.94672,     0.94682,     0.94693,     0.94712,     0.94731,     0.94738,     0.94744,     0.94751,     0.94779,     0.94816,     0.94825,     0.94834,     0.94835,     0.94842,      0.9485,     0.94857,     0.94867,     0.94876,     0.94883,      0.9489,     0.94903,\n",
       "            0.94937,     0.94956,     0.94964,     0.94971,     0.94978,     0.94987,     0.94996,      0.9498,     0.94992,      0.9501,      0.9502,     0.95024,     0.95028,     0.95032,     0.95035,     0.95039,     0.95049,      0.9506,     0.95054,     0.95048,     0.95042,     0.95041,     0.95057,\n",
       "            0.95089,      0.9512,     0.95116,     0.95111,     0.95106,     0.95101,     0.95113,     0.95128,     0.95138,     0.95149,      0.9516,     0.95175,     0.95186,     0.95194,     0.95202,     0.95225,     0.95231,     0.95237,     0.95243,     0.95235,     0.95224,     0.95242,     0.95238,\n",
       "            0.95235,     0.95231,     0.95227,     0.95223,      0.9522,     0.95232,     0.95252,     0.95283,     0.95292,     0.95302,     0.95306,      0.9531,     0.95314,     0.95317,     0.95321,     0.95325,     0.95332,      0.9534,     0.95348,     0.95364,     0.95371,     0.95377,     0.95382,\n",
       "            0.95388,     0.95398,     0.95407,     0.95415,     0.95422,     0.95429,     0.95452,     0.95456,     0.95461,     0.95465,      0.9547,     0.95501,     0.95515,     0.95525,     0.95534,     0.95546,     0.95557,     0.95561,     0.95565,     0.95569,     0.95573,     0.95577,       0.956,\n",
       "            0.95615,     0.95628,      0.9564,     0.95661,     0.95659,     0.95657,     0.95655,     0.95652,      0.9565,     0.95648,     0.95646,     0.95643,     0.95641,     0.95639,     0.95643,     0.95647,     0.95652,     0.95656,      0.9566,     0.95665,     0.95669,     0.95673,     0.95678,\n",
       "            0.95684,     0.95696,     0.95706,     0.95712,     0.95719,     0.95731,     0.95747,     0.95754,     0.95761,     0.95768,     0.95775,     0.95783,     0.95791,     0.95797,     0.95804,     0.95827,     0.95818,     0.95809,     0.95809,     0.95813,     0.95816,      0.9582,     0.95823,\n",
       "            0.95827,     0.95838,     0.95851,     0.95893,     0.95906,     0.95918,     0.95931,     0.95937,     0.95941,     0.95946,      0.9595,     0.95954,     0.95963,     0.95975,     0.95996,      0.9599,      0.9598,     0.95979,     0.95987,     0.95995,     0.96003,     0.96011,     0.96018,\n",
       "            0.96023,     0.96028,     0.96033,     0.96038,     0.96043,     0.96048,     0.96052,     0.96057,     0.96068,     0.96101,     0.96096,     0.96091,     0.96086,      0.9608,     0.96082,     0.96084,     0.96086,     0.96088,      0.9609,     0.96092,     0.96094,     0.96096,     0.96098,\n",
       "              0.961,     0.96102,     0.96135,     0.96138,     0.96122,     0.96124,     0.96126,     0.96128,      0.9613,     0.96133,     0.96135,     0.96137,     0.96139,     0.96141,     0.96139,     0.96127,      0.9612,     0.96123,     0.96125,     0.96127,      0.9613,     0.96132,     0.96134,\n",
       "            0.96137,     0.96139,     0.96142,     0.96155,     0.96164,      0.9617,     0.96175,     0.96181,     0.96185,     0.96188,     0.96191,     0.96194,     0.96197,     0.96199,     0.96202,     0.96205,     0.96207,      0.9621,     0.96212,     0.96214,     0.96217,     0.96219,     0.96221,\n",
       "            0.96224,     0.96226,     0.96241,     0.96251,     0.96254,     0.96258,     0.96262,     0.96265,     0.96269,     0.96289,     0.96286,     0.96283,      0.9628,     0.96277,     0.96274,      0.9627,     0.96269,     0.96274,     0.96278,     0.96283,     0.96287,      0.9631,     0.96307,\n",
       "            0.96304,     0.96301,     0.96298,     0.96295,     0.96292,     0.96289,     0.96269,     0.96274,     0.96285,     0.96306,      0.9631,     0.96313,     0.96316,     0.96319,     0.96321,     0.96324,     0.96327,     0.96329,      0.9632,     0.96311,     0.96316,     0.96354,     0.96365,\n",
       "            0.96382,     0.96398,     0.96409,     0.96417,     0.96423,     0.96428,     0.96434,     0.96465,     0.96476,     0.96484,     0.96492,     0.96499,     0.96509,     0.96521,     0.96529,     0.96536,     0.96543,     0.96564,      0.9657,     0.96574,     0.96579,     0.96583,     0.96589,\n",
       "            0.96611,     0.96652,     0.96644,     0.96636,     0.96631,     0.96642,     0.96656,     0.96673,     0.96675,     0.96678,      0.9668,     0.96682,     0.96684,     0.96687,     0.96689,     0.96691,     0.96693,     0.96697,     0.96701,     0.96706,      0.9671,     0.96714,      0.9673,\n",
       "            0.96733,     0.96725,     0.96717,      0.9672,     0.96727,     0.96735,     0.96745,     0.96756,     0.96762,     0.96766,     0.96771,     0.96775,      0.9678,     0.96784,     0.96789,     0.96793,     0.96798,     0.96803,     0.96814,     0.96823,      0.9682,     0.96816,     0.96813,\n",
       "             0.9681,     0.96806,     0.96803,       0.968,     0.96798,     0.96796,     0.96794,     0.96792,      0.9679,     0.96788,     0.96786,     0.96784,     0.96782,      0.9678,     0.96778,      0.9679,      0.9679,     0.96782,     0.96789,     0.96812,     0.96801,     0.96777,     0.96789,\n",
       "            0.96795,     0.96797,       0.968,     0.96802,     0.96804,     0.96807,     0.96809,     0.96812,     0.96814,     0.96818,     0.96824,     0.96829,     0.96835,     0.96832,     0.96824,     0.96816,     0.96816,     0.96819,     0.96822,     0.96825,     0.96829,     0.96832,     0.96835,\n",
       "            0.96825,     0.96813,     0.96822,     0.96834,     0.96837,     0.96841,     0.96844,     0.96848,     0.96851,     0.96855,      0.9687,     0.96862,     0.96849,     0.96841,     0.96833,     0.96848,      0.9687,     0.96856,     0.96845,     0.96837,     0.96829,     0.96852,     0.96858,\n",
       "            0.96864,     0.96869,     0.96874,     0.96878,     0.96882,     0.96885,     0.96889,     0.96893,     0.96901,     0.96903,     0.96938,     0.96942,     0.96947,     0.96951,     0.96956,     0.96966,     0.96979,     0.96975,      0.9697,     0.96966,     0.96962,     0.96957,     0.96956,\n",
       "            0.96967,     0.96976,     0.96956,     0.96971,     0.96973,     0.96967,     0.96961,     0.96955,     0.96961,     0.96973,     0.96948,     0.96942,     0.96937,     0.96932,     0.96937,     0.96979,     0.96994,     0.96972,     0.96977,     0.96982,     0.96988,     0.96992,     0.96974,\n",
       "            0.96999,      0.9701,     0.96998,     0.97009,     0.97023,     0.97006,     0.96981,     0.96989,     0.96998,     0.97007,      0.9698,     0.96974,     0.96968,     0.96962,     0.97031,     0.97039,     0.97047,     0.97037,     0.97048,     0.97036,     0.97026,     0.97038,      0.9704,\n",
       "            0.97029,     0.97037,     0.97044,     0.97034,     0.97026,     0.97037,     0.97036,     0.97063,     0.97052,     0.97063,     0.97068,     0.97073,     0.97078,     0.97082,     0.97087,     0.97096,     0.97105,     0.97094,     0.97083,     0.97079,     0.97075,     0.97071,     0.97066,\n",
       "            0.97062,      0.9707,     0.97082,     0.97102,      0.9709,     0.97053,     0.97036,     0.96994,        0.97,     0.97007,     0.97002,     0.97008,     0.96992,     0.96978,     0.96966,     0.96946,      0.9698,     0.96973,     0.96966,     0.96959,     0.96945,     0.96954,     0.96947,\n",
       "             0.9694,     0.96933,     0.96918,     0.96854,     0.96838,     0.96832,     0.96827,     0.96822,     0.96817,     0.96857,      0.9684,     0.96865,     0.96899,     0.96882,     0.96842,     0.96803,     0.96791,      0.9678,     0.96771,     0.96763,     0.96755,     0.96747,     0.96739,\n",
       "            0.96727,     0.96711,       0.967,     0.96692,     0.96705,     0.96689,     0.96697,     0.96685,     0.96712,      0.9665,     0.96634,     0.96618,     0.96624,     0.96607,     0.96619,     0.96611,     0.96603,     0.96564,     0.96509,     0.96524,     0.96547,     0.96533,     0.96506,\n",
       "            0.96521,     0.96432,     0.96455,     0.96491,     0.96474,     0.96406,     0.96394,     0.96409,     0.96379,      0.9636,     0.96336,     0.96319,     0.96323,     0.96209,     0.96193,     0.96103,     0.96086,     0.96069,     0.95969,     0.95975,     0.95949,     0.95939,     0.95922,\n",
       "            0.95926,     0.95926,     0.95885,     0.95868,     0.95722,     0.95703,     0.95661,     0.95644,     0.95594,     0.95474,     0.95343,     0.95358,     0.95312,     0.95169,     0.95068,      0.9491,     0.94925,     0.94806,     0.94683,     0.94485,     0.94416,     0.94161,     0.94144,\n",
       "            0.93916,     0.93738,     0.93435,     0.93385,     0.93367,     0.93001,     0.92745,     0.92409,     0.92223,     0.92009,     0.91991,     0.91724,     0.91487,     0.91302,     0.91031,     0.90863,     0.90649,     0.90347,     0.90016,     0.89997,     0.89555,     0.89107,     0.88598,\n",
       "            0.88264,     0.87919,     0.87211,     0.86599,     0.86578,     0.86158,     0.85651,     0.84836,     0.84101,     0.83576,     0.82696,     0.82156,     0.81579,     0.80834,      0.7997,     0.79137,     0.78191,     0.77341,     0.76376,     0.75315,     0.74053,     0.73431,     0.72227,\n",
       "            0.71016,     0.69626,     0.68085,     0.66916,     0.65519,     0.64683,     0.62937,     0.60657,     0.59033,     0.56142,     0.54701,     0.52285,     0.50407,     0.48322,     0.46504,     0.44029,     0.41865,     0.39928,     0.38202,     0.36378,     0.34385,     0.30551,     0.28773,\n",
       "             0.2707,     0.25376,     0.23954,     0.21716,     0.20093,     0.17258,     0.16253,     0.13535,     0.12408,     0.11177,     0.10567,    0.098195,    0.081829,    0.074852,    0.068591,    0.060824,    0.045563,    0.038231,    0.034485,    0.028675,    0.027427,    0.023707,    0.016026,\n",
       "           0.014694,     0.01281,    0.010517,   0.0081969,   0.0068263,   0.0054774,   0.0051651,   0.0048526,   0.0024829,   0.0017908,   0.0017212,   0.0016515,   0.0015818,   0.0015121,   0.0014425,   0.0013728,   0.0013031,   0.0012334,   0.0011637,    0.001094,   0.0010243,  0.00095454,           0,\n",
       "                  0,           0,           0,           0,           0,           0,           0,           0,           0,           0,           0,           0,           0,           0,           0,           0,           0,           0,           0,           0,           0,           0,           0,\n",
       "                  0,           0,           0,           0,           0,           0,           0,           0,           0,           0,           0,           0,           0,           0,           0,           0,           0,           0,           0,           0,           0,           0,           0,\n",
       "                  0,           0,           0,           0,           0,           0,           0,           0,           0,           0,           0,           0,           0,           0,           0,           0,           0,           0,           0,           0,           0,           0,           0,\n",
       "                  0,           0,           0,           0,           0,           0,           0,           0,           0,           0,           0]]), 'Confidence', 'F1'], [array([          0,    0.001001,    0.002002,    0.003003,    0.004004,    0.005005,    0.006006,    0.007007,    0.008008,    0.009009,     0.01001,    0.011011,    0.012012,    0.013013,    0.014014,    0.015015,    0.016016,    0.017017,    0.018018,    0.019019,     0.02002,    0.021021,    0.022022,    0.023023,\n",
       "          0.024024,    0.025025,    0.026026,    0.027027,    0.028028,    0.029029,     0.03003,    0.031031,    0.032032,    0.033033,    0.034034,    0.035035,    0.036036,    0.037037,    0.038038,    0.039039,     0.04004,    0.041041,    0.042042,    0.043043,    0.044044,    0.045045,    0.046046,    0.047047,\n",
       "          0.048048,    0.049049,     0.05005,    0.051051,    0.052052,    0.053053,    0.054054,    0.055055,    0.056056,    0.057057,    0.058058,    0.059059,     0.06006,    0.061061,    0.062062,    0.063063,    0.064064,    0.065065,    0.066066,    0.067067,    0.068068,    0.069069,     0.07007,    0.071071,\n",
       "          0.072072,    0.073073,    0.074074,    0.075075,    0.076076,    0.077077,    0.078078,    0.079079,     0.08008,    0.081081,    0.082082,    0.083083,    0.084084,    0.085085,    0.086086,    0.087087,    0.088088,    0.089089,     0.09009,    0.091091,    0.092092,    0.093093,    0.094094,    0.095095,\n",
       "          0.096096,    0.097097,    0.098098,    0.099099,      0.1001,      0.1011,      0.1021,      0.1031,      0.1041,     0.10511,     0.10611,     0.10711,     0.10811,     0.10911,     0.11011,     0.11111,     0.11211,     0.11311,     0.11411,     0.11512,     0.11612,     0.11712,     0.11812,     0.11912,\n",
       "           0.12012,     0.12112,     0.12212,     0.12312,     0.12412,     0.12513,     0.12613,     0.12713,     0.12813,     0.12913,     0.13013,     0.13113,     0.13213,     0.13313,     0.13413,     0.13514,     0.13614,     0.13714,     0.13814,     0.13914,     0.14014,     0.14114,     0.14214,     0.14314,\n",
       "           0.14414,     0.14515,     0.14615,     0.14715,     0.14815,     0.14915,     0.15015,     0.15115,     0.15215,     0.15315,     0.15415,     0.15516,     0.15616,     0.15716,     0.15816,     0.15916,     0.16016,     0.16116,     0.16216,     0.16316,     0.16416,     0.16517,     0.16617,     0.16717,\n",
       "           0.16817,     0.16917,     0.17017,     0.17117,     0.17217,     0.17317,     0.17417,     0.17518,     0.17618,     0.17718,     0.17818,     0.17918,     0.18018,     0.18118,     0.18218,     0.18318,     0.18418,     0.18519,     0.18619,     0.18719,     0.18819,     0.18919,     0.19019,     0.19119,\n",
       "           0.19219,     0.19319,     0.19419,      0.1952,      0.1962,      0.1972,      0.1982,      0.1992,      0.2002,      0.2012,      0.2022,      0.2032,      0.2042,     0.20521,     0.20621,     0.20721,     0.20821,     0.20921,     0.21021,     0.21121,     0.21221,     0.21321,     0.21421,     0.21522,\n",
       "           0.21622,     0.21722,     0.21822,     0.21922,     0.22022,     0.22122,     0.22222,     0.22322,     0.22422,     0.22523,     0.22623,     0.22723,     0.22823,     0.22923,     0.23023,     0.23123,     0.23223,     0.23323,     0.23423,     0.23524,     0.23624,     0.23724,     0.23824,     0.23924,\n",
       "           0.24024,     0.24124,     0.24224,     0.24324,     0.24424,     0.24525,     0.24625,     0.24725,     0.24825,     0.24925,     0.25025,     0.25125,     0.25225,     0.25325,     0.25425,     0.25526,     0.25626,     0.25726,     0.25826,     0.25926,     0.26026,     0.26126,     0.26226,     0.26326,\n",
       "           0.26426,     0.26527,     0.26627,     0.26727,     0.26827,     0.26927,     0.27027,     0.27127,     0.27227,     0.27327,     0.27427,     0.27528,     0.27628,     0.27728,     0.27828,     0.27928,     0.28028,     0.28128,     0.28228,     0.28328,     0.28428,     0.28529,     0.28629,     0.28729,\n",
       "           0.28829,     0.28929,     0.29029,     0.29129,     0.29229,     0.29329,     0.29429,      0.2953,      0.2963,      0.2973,      0.2983,      0.2993,      0.3003,      0.3013,      0.3023,      0.3033,      0.3043,     0.30531,     0.30631,     0.30731,     0.30831,     0.30931,     0.31031,     0.31131,\n",
       "           0.31231,     0.31331,     0.31431,     0.31532,     0.31632,     0.31732,     0.31832,     0.31932,     0.32032,     0.32132,     0.32232,     0.32332,     0.32432,     0.32533,     0.32633,     0.32733,     0.32833,     0.32933,     0.33033,     0.33133,     0.33233,     0.33333,     0.33433,     0.33534,\n",
       "           0.33634,     0.33734,     0.33834,     0.33934,     0.34034,     0.34134,     0.34234,     0.34334,     0.34434,     0.34535,     0.34635,     0.34735,     0.34835,     0.34935,     0.35035,     0.35135,     0.35235,     0.35335,     0.35435,     0.35536,     0.35636,     0.35736,     0.35836,     0.35936,\n",
       "           0.36036,     0.36136,     0.36236,     0.36336,     0.36436,     0.36537,     0.36637,     0.36737,     0.36837,     0.36937,     0.37037,     0.37137,     0.37237,     0.37337,     0.37437,     0.37538,     0.37638,     0.37738,     0.37838,     0.37938,     0.38038,     0.38138,     0.38238,     0.38338,\n",
       "           0.38438,     0.38539,     0.38639,     0.38739,     0.38839,     0.38939,     0.39039,     0.39139,     0.39239,     0.39339,     0.39439,      0.3954,      0.3964,      0.3974,      0.3984,      0.3994,      0.4004,      0.4014,      0.4024,      0.4034,      0.4044,     0.40541,     0.40641,     0.40741,\n",
       "           0.40841,     0.40941,     0.41041,     0.41141,     0.41241,     0.41341,     0.41441,     0.41542,     0.41642,     0.41742,     0.41842,     0.41942,     0.42042,     0.42142,     0.42242,     0.42342,     0.42442,     0.42543,     0.42643,     0.42743,     0.42843,     0.42943,     0.43043,     0.43143,\n",
       "           0.43243,     0.43343,     0.43443,     0.43544,     0.43644,     0.43744,     0.43844,     0.43944,     0.44044,     0.44144,     0.44244,     0.44344,     0.44444,     0.44545,     0.44645,     0.44745,     0.44845,     0.44945,     0.45045,     0.45145,     0.45245,     0.45345,     0.45445,     0.45546,\n",
       "           0.45646,     0.45746,     0.45846,     0.45946,     0.46046,     0.46146,     0.46246,     0.46346,     0.46446,     0.46547,     0.46647,     0.46747,     0.46847,     0.46947,     0.47047,     0.47147,     0.47247,     0.47347,     0.47447,     0.47548,     0.47648,     0.47748,     0.47848,     0.47948,\n",
       "           0.48048,     0.48148,     0.48248,     0.48348,     0.48448,     0.48549,     0.48649,     0.48749,     0.48849,     0.48949,     0.49049,     0.49149,     0.49249,     0.49349,     0.49449,      0.4955,      0.4965,      0.4975,      0.4985,      0.4995,      0.5005,      0.5015,      0.5025,      0.5035,\n",
       "            0.5045,     0.50551,     0.50651,     0.50751,     0.50851,     0.50951,     0.51051,     0.51151,     0.51251,     0.51351,     0.51451,     0.51552,     0.51652,     0.51752,     0.51852,     0.51952,     0.52052,     0.52152,     0.52252,     0.52352,     0.52452,     0.52553,     0.52653,     0.52753,\n",
       "           0.52853,     0.52953,     0.53053,     0.53153,     0.53253,     0.53353,     0.53453,     0.53554,     0.53654,     0.53754,     0.53854,     0.53954,     0.54054,     0.54154,     0.54254,     0.54354,     0.54454,     0.54555,     0.54655,     0.54755,     0.54855,     0.54955,     0.55055,     0.55155,\n",
       "           0.55255,     0.55355,     0.55455,     0.55556,     0.55656,     0.55756,     0.55856,     0.55956,     0.56056,     0.56156,     0.56256,     0.56356,     0.56456,     0.56557,     0.56657,     0.56757,     0.56857,     0.56957,     0.57057,     0.57157,     0.57257,     0.57357,     0.57457,     0.57558,\n",
       "           0.57658,     0.57758,     0.57858,     0.57958,     0.58058,     0.58158,     0.58258,     0.58358,     0.58458,     0.58559,     0.58659,     0.58759,     0.58859,     0.58959,     0.59059,     0.59159,     0.59259,     0.59359,     0.59459,      0.5956,      0.5966,      0.5976,      0.5986,      0.5996,\n",
       "            0.6006,      0.6016,      0.6026,      0.6036,      0.6046,     0.60561,     0.60661,     0.60761,     0.60861,     0.60961,     0.61061,     0.61161,     0.61261,     0.61361,     0.61461,     0.61562,     0.61662,     0.61762,     0.61862,     0.61962,     0.62062,     0.62162,     0.62262,     0.62362,\n",
       "           0.62462,     0.62563,     0.62663,     0.62763,     0.62863,     0.62963,     0.63063,     0.63163,     0.63263,     0.63363,     0.63463,     0.63564,     0.63664,     0.63764,     0.63864,     0.63964,     0.64064,     0.64164,     0.64264,     0.64364,     0.64464,     0.64565,     0.64665,     0.64765,\n",
       "           0.64865,     0.64965,     0.65065,     0.65165,     0.65265,     0.65365,     0.65465,     0.65566,     0.65666,     0.65766,     0.65866,     0.65966,     0.66066,     0.66166,     0.66266,     0.66366,     0.66466,     0.66567,     0.66667,     0.66767,     0.66867,     0.66967,     0.67067,     0.67167,\n",
       "           0.67267,     0.67367,     0.67467,     0.67568,     0.67668,     0.67768,     0.67868,     0.67968,     0.68068,     0.68168,     0.68268,     0.68368,     0.68468,     0.68569,     0.68669,     0.68769,     0.68869,     0.68969,     0.69069,     0.69169,     0.69269,     0.69369,     0.69469,      0.6957,\n",
       "            0.6967,      0.6977,      0.6987,      0.6997,      0.7007,      0.7017,      0.7027,      0.7037,      0.7047,     0.70571,     0.70671,     0.70771,     0.70871,     0.70971,     0.71071,     0.71171,     0.71271,     0.71371,     0.71471,     0.71572,     0.71672,     0.71772,     0.71872,     0.71972,\n",
       "           0.72072,     0.72172,     0.72272,     0.72372,     0.72472,     0.72573,     0.72673,     0.72773,     0.72873,     0.72973,     0.73073,     0.73173,     0.73273,     0.73373,     0.73473,     0.73574,     0.73674,     0.73774,     0.73874,     0.73974,     0.74074,     0.74174,     0.74274,     0.74374,\n",
       "           0.74474,     0.74575,     0.74675,     0.74775,     0.74875,     0.74975,     0.75075,     0.75175,     0.75275,     0.75375,     0.75475,     0.75576,     0.75676,     0.75776,     0.75876,     0.75976,     0.76076,     0.76176,     0.76276,     0.76376,     0.76476,     0.76577,     0.76677,     0.76777,\n",
       "           0.76877,     0.76977,     0.77077,     0.77177,     0.77277,     0.77377,     0.77477,     0.77578,     0.77678,     0.77778,     0.77878,     0.77978,     0.78078,     0.78178,     0.78278,     0.78378,     0.78478,     0.78579,     0.78679,     0.78779,     0.78879,     0.78979,     0.79079,     0.79179,\n",
       "           0.79279,     0.79379,     0.79479,      0.7958,      0.7968,      0.7978,      0.7988,      0.7998,      0.8008,      0.8018,      0.8028,      0.8038,      0.8048,     0.80581,     0.80681,     0.80781,     0.80881,     0.80981,     0.81081,     0.81181,     0.81281,     0.81381,     0.81481,     0.81582,\n",
       "           0.81682,     0.81782,     0.81882,     0.81982,     0.82082,     0.82182,     0.82282,     0.82382,     0.82482,     0.82583,     0.82683,     0.82783,     0.82883,     0.82983,     0.83083,     0.83183,     0.83283,     0.83383,     0.83483,     0.83584,     0.83684,     0.83784,     0.83884,     0.83984,\n",
       "           0.84084,     0.84184,     0.84284,     0.84384,     0.84484,     0.84585,     0.84685,     0.84785,     0.84885,     0.84985,     0.85085,     0.85185,     0.85285,     0.85385,     0.85485,     0.85586,     0.85686,     0.85786,     0.85886,     0.85986,     0.86086,     0.86186,     0.86286,     0.86386,\n",
       "           0.86486,     0.86587,     0.86687,     0.86787,     0.86887,     0.86987,     0.87087,     0.87187,     0.87287,     0.87387,     0.87487,     0.87588,     0.87688,     0.87788,     0.87888,     0.87988,     0.88088,     0.88188,     0.88288,     0.88388,     0.88488,     0.88589,     0.88689,     0.88789,\n",
       "           0.88889,     0.88989,     0.89089,     0.89189,     0.89289,     0.89389,     0.89489,      0.8959,      0.8969,      0.8979,      0.8989,      0.8999,      0.9009,      0.9019,      0.9029,      0.9039,      0.9049,     0.90591,     0.90691,     0.90791,     0.90891,     0.90991,     0.91091,     0.91191,\n",
       "           0.91291,     0.91391,     0.91491,     0.91592,     0.91692,     0.91792,     0.91892,     0.91992,     0.92092,     0.92192,     0.92292,     0.92392,     0.92492,     0.92593,     0.92693,     0.92793,     0.92893,     0.92993,     0.93093,     0.93193,     0.93293,     0.93393,     0.93493,     0.93594,\n",
       "           0.93694,     0.93794,     0.93894,     0.93994,     0.94094,     0.94194,     0.94294,     0.94394,     0.94494,     0.94595,     0.94695,     0.94795,     0.94895,     0.94995,     0.95095,     0.95195,     0.95295,     0.95395,     0.95495,     0.95596,     0.95696,     0.95796,     0.95896,     0.95996,\n",
       "           0.96096,     0.96196,     0.96296,     0.96396,     0.96496,     0.96597,     0.96697,     0.96797,     0.96897,     0.96997,     0.97097,     0.97197,     0.97297,     0.97397,     0.97497,     0.97598,     0.97698,     0.97798,     0.97898,     0.97998,     0.98098,     0.98198,     0.98298,     0.98398,\n",
       "           0.98498,     0.98599,     0.98699,     0.98799,     0.98899,     0.98999,     0.99099,     0.99199,     0.99299,     0.99399,     0.99499,       0.996,       0.997,       0.998,       0.999,           1]), array([[    0.69823,     0.69823,     0.74519,     0.76332,     0.77965,     0.78856,     0.79644,     0.80397,     0.81092,     0.81446,     0.81824,     0.82095,     0.82383,     0.82677,     0.82862,     0.83022,     0.83352,      0.8343,     0.83731,     0.83856,     0.84004,     0.84266,     0.84368,\n",
       "             0.8454,     0.84738,     0.84966,     0.85006,     0.85163,     0.85254,     0.85321,     0.85465,     0.85542,     0.85634,     0.85782,     0.85815,     0.85874,     0.86022,     0.86072,     0.86136,      0.8617,     0.86198,      0.8623,     0.86279,     0.86312,      0.8635,      0.8647,\n",
       "            0.86497,     0.86511,     0.86525,     0.86599,     0.86682,     0.86711,     0.86858,     0.86958,     0.87021,     0.87054,     0.87095,     0.87111,     0.87191,     0.87227,     0.87243,     0.87301,     0.87356,     0.87401,     0.87415,     0.87429,     0.87446,     0.87465,     0.87483,\n",
       "            0.87503,      0.8756,     0.87584,     0.87601,     0.87637,     0.87665,     0.87741,     0.87759,      0.8779,     0.87814,     0.87832,      0.8785,     0.87868,     0.87884,     0.87897,      0.8791,     0.87951,     0.87981,     0.88048,     0.88109,      0.8814,     0.88202,     0.88349,\n",
       "            0.88492,     0.88563,     0.88579,     0.88595,     0.88603,     0.88609,     0.88614,      0.8862,     0.88626,     0.88632,     0.88645,     0.88665,     0.88706,     0.88731,      0.8876,      0.8882,     0.88829,     0.88837,     0.88846,     0.88901,     0.88947,     0.88975,     0.88993,\n",
       "            0.89103,     0.89138,     0.89215,     0.89257,     0.89276,     0.89297,     0.89352,     0.89438,     0.89448,     0.89456,     0.89465,     0.89474,     0.89497,     0.89517,     0.89528,     0.89538,     0.89549,     0.89591,     0.89598,     0.89606,     0.89613,      0.8962,     0.89644,\n",
       "             0.8975,      0.8979,     0.89812,      0.8982,     0.89829,     0.89838,     0.89846,     0.89884,     0.89941,     0.90017,     0.90042,     0.90057,      0.9007,     0.90109,     0.90116,     0.90123,     0.90131,     0.90138,     0.90146,     0.90154,     0.90162,      0.9017,     0.90178,\n",
       "            0.90191,     0.90205,      0.9022,     0.90238,     0.90258,     0.90293,     0.90327,      0.9034,     0.90351,     0.90363,     0.90414,     0.90481,     0.90497,     0.90514,     0.90555,     0.90568,     0.90581,     0.90595,     0.90613,     0.90629,     0.90642,     0.90655,     0.90678,\n",
       "             0.9074,     0.90775,     0.90791,     0.90803,     0.90816,     0.90831,     0.90848,     0.90852,      0.9088,     0.90912,     0.90931,     0.90938,     0.90945,     0.90952,     0.90959,     0.90965,     0.90984,     0.91005,     0.91004,     0.91003,     0.91002,     0.91008,     0.91036,\n",
       "            0.91096,     0.91154,     0.91153,     0.91152,     0.91152,     0.91151,     0.91178,     0.91205,     0.91225,     0.91245,     0.91264,     0.91293,     0.91313,     0.91327,     0.91342,     0.91383,     0.91395,     0.91406,     0.91417,     0.91419,     0.91417,     0.91455,     0.91455,\n",
       "            0.91454,     0.91453,     0.91453,     0.91452,     0.91452,     0.91474,     0.91511,     0.91569,     0.91586,     0.91604,     0.91612,     0.91619,     0.91626,     0.91633,      0.9164,     0.91647,      0.9166,     0.91674,      0.9169,     0.91719,     0.91732,     0.91742,     0.91753,\n",
       "            0.91764,     0.91781,     0.91799,     0.91813,     0.91826,      0.9184,     0.91881,      0.9189,     0.91898,     0.91906,     0.91915,     0.91973,     0.91999,     0.92017,     0.92035,     0.92057,     0.92077,     0.92084,     0.92091,     0.92099,     0.92106,     0.92113,     0.92157,\n",
       "            0.92184,     0.92208,     0.92231,     0.92271,     0.92271,     0.92271,     0.92271,      0.9227,      0.9227,      0.9227,     0.92269,     0.92269,     0.92269,     0.92268,     0.92276,     0.92284,     0.92292,       0.923,     0.92309,     0.92317,     0.92325,     0.92333,     0.92341,\n",
       "            0.92352,     0.92376,     0.92393,     0.92406,     0.92418,      0.9244,      0.9247,     0.92483,     0.92495,     0.92508,     0.92523,     0.92538,     0.92551,     0.92564,     0.92577,     0.92624,     0.92623,     0.92622,     0.92626,     0.92633,     0.92639,     0.92646,     0.92653,\n",
       "             0.9266,      0.9268,     0.92705,     0.92783,     0.92807,      0.9283,     0.92854,     0.92866,     0.92874,     0.92881,     0.92889,     0.92897,     0.92914,     0.92937,     0.92977,     0.92979,     0.92978,     0.92984,     0.92999,     0.93014,     0.93029,     0.93044,     0.93058,\n",
       "            0.93067,     0.93077,     0.93086,     0.93095,     0.93104,     0.93113,     0.93122,     0.93132,     0.93151,     0.93218,     0.93217,     0.93217,     0.93216,     0.93215,     0.93219,     0.93222,     0.93226,      0.9323,     0.93233,     0.93237,     0.93241,     0.93244,     0.93248,\n",
       "            0.93252,     0.93255,     0.93319,     0.93335,     0.93335,     0.93339,     0.93343,     0.93347,     0.93351,     0.93355,     0.93359,     0.93363,     0.93367,     0.93371,     0.93373,     0.93372,     0.93372,     0.93377,     0.93381,     0.93386,      0.9339,     0.93394,     0.93399,\n",
       "            0.93403,     0.93407,     0.93413,     0.93437,     0.93456,     0.93466,     0.93477,     0.93487,     0.93495,       0.935,     0.93506,     0.93511,     0.93516,     0.93522,     0.93527,     0.93533,     0.93537,     0.93541,     0.93546,      0.9355,     0.93555,     0.93559,     0.93563,\n",
       "            0.93568,     0.93572,       0.936,     0.93619,     0.93626,     0.93633,      0.9364,     0.93647,     0.93654,     0.93695,     0.93695,     0.93695,     0.93694,     0.93694,     0.93694,     0.93693,     0.93695,     0.93703,     0.93712,      0.9372,     0.93728,     0.93774,     0.93774,\n",
       "            0.93774,     0.93773,     0.93773,     0.93773,     0.93772,     0.93772,      0.9377,     0.93787,     0.93808,     0.93847,     0.93856,     0.93861,     0.93866,     0.93871,     0.93877,     0.93882,     0.93887,     0.93892,     0.93891,      0.9389,     0.93907,     0.93981,     0.94002,\n",
       "            0.94033,     0.94064,     0.94085,     0.94101,     0.94111,     0.94122,     0.94132,     0.94191,     0.94212,     0.94228,     0.94242,     0.94256,     0.94276,     0.94297,     0.94313,     0.94327,     0.94341,     0.94381,     0.94391,       0.944,     0.94408,     0.94417,     0.94428,\n",
       "             0.9447,     0.94549,     0.94549,     0.94548,     0.94551,     0.94572,     0.94599,     0.94631,     0.94636,      0.9464,     0.94644,     0.94648,     0.94653,     0.94657,     0.94661,     0.94666,      0.9467,     0.94676,     0.94685,     0.94693,     0.94702,      0.9471,      0.9474,\n",
       "            0.94755,     0.94754,     0.94753,     0.94763,     0.94778,     0.94792,     0.94812,     0.94833,     0.94844,     0.94853,     0.94861,      0.9487,     0.94878,     0.94887,     0.94895,     0.94904,     0.94913,     0.94922,     0.94944,     0.94962,     0.94962,     0.94962,     0.94961,\n",
       "            0.94961,     0.94961,      0.9496,      0.9496,      0.9496,      0.9496,      0.9496,     0.94959,     0.94959,     0.94959,     0.94959,     0.94959,     0.94958,     0.94958,     0.94958,     0.94984,     0.95025,     0.95038,     0.95067,      0.9511,      0.9512,     0.95118,     0.95151,\n",
       "            0.95163,     0.95168,     0.95173,     0.95177,     0.95182,     0.95186,     0.95191,     0.95195,       0.952,     0.95208,     0.95219,      0.9523,      0.9524,     0.95244,     0.95243,     0.95243,     0.95247,     0.95253,     0.95259,     0.95265,     0.95271,     0.95278,     0.95284,\n",
       "            0.95284,     0.95283,     0.95303,     0.95324,     0.95331,     0.95338,     0.95345,     0.95352,     0.95358,     0.95365,     0.95395,     0.95409,     0.95407,     0.95407,     0.95406,     0.95438,     0.95482,     0.95489,     0.95488,     0.95488,     0.95487,     0.95534,     0.95545,\n",
       "            0.95556,     0.95567,     0.95576,     0.95583,     0.95591,     0.95598,     0.95605,     0.95613,     0.95657,     0.95676,     0.95744,     0.95752,     0.95761,      0.9577,     0.95779,     0.95799,     0.95828,     0.95827,     0.95827,     0.95827,     0.95826,     0.95826,     0.95867,\n",
       "            0.95889,      0.9591,     0.95911,      0.9594,     0.95951,     0.95951,      0.9595,      0.9595,     0.95966,     0.95988,     0.95991,      0.9599,      0.9599,     0.95989,     0.96006,     0.96088,     0.96117,     0.96117,     0.96128,     0.96139,      0.9615,     0.96161,     0.96167,\n",
       "            0.96216,     0.96238,     0.96259,     0.96281,     0.96331,     0.96329,     0.96328,     0.96375,     0.96393,     0.96411,     0.96412,     0.96412,     0.96411,     0.96411,     0.96549,     0.96564,     0.96579,     0.96585,     0.96629,     0.96628,      0.9663,     0.96652,     0.96671,\n",
       "             0.9668,     0.96695,      0.9671,     0.96713,     0.96719,     0.96741,     0.96785,     0.96838,     0.96862,     0.96885,     0.96895,     0.96904,     0.96913,     0.96922,     0.96932,      0.9695,     0.96968,     0.96974,     0.96974,     0.96973,     0.96973,     0.96973,     0.96973,\n",
       "            0.96973,      0.9699,     0.97013,     0.97061,     0.97061,     0.97058,     0.97058,     0.97067,      0.9708,     0.97093,     0.97099,     0.97143,     0.97142,     0.97141,      0.9714,     0.97202,     0.97272,     0.97272,     0.97272,     0.97271,     0.97293,     0.97315,     0.97314,\n",
       "            0.97314,     0.97314,     0.97313,     0.97309,     0.97309,     0.97308,     0.97308,     0.97308,     0.97308,     0.97398,     0.97397,     0.97461,     0.97532,     0.97532,      0.9753,     0.97528,     0.97527,     0.97527,     0.97526,     0.97526,     0.97526,     0.97525,     0.97525,\n",
       "            0.97524,     0.97523,     0.97552,     0.97582,     0.97657,     0.97656,     0.97701,     0.97701,     0.97765,     0.97789,     0.97788,     0.97788,     0.97833,     0.97832,     0.97878,     0.97878,     0.97877,     0.97876,      0.9793,     0.97962,     0.98008,     0.98011,      0.9807,\n",
       "            0.98101,     0.98098,     0.98162,     0.98238,     0.98237,     0.98327,     0.98331,     0.98364,     0.98373,     0.98372,     0.98418,     0.98417,     0.98511,     0.98507,     0.98507,     0.98504,     0.98504,     0.98503,     0.98547,     0.98595,     0.98609,     0.98641,      0.9864,\n",
       "            0.98715,     0.98735,     0.98734,     0.98734,      0.9873,      0.9873,     0.98729,     0.98728,     0.98775,      0.9882,     0.98827,      0.9886,     0.98913,     0.98909,     0.99005,     0.99016,      0.9905,     0.99098,     0.99096,     0.99092,     0.99091,     0.99086,     0.99086,\n",
       "            0.99082,     0.99129,     0.99124,     0.99123,     0.99122,     0.99167,     0.99163,     0.99157,     0.99154,     0.99203,     0.99203,     0.99198,     0.99247,     0.99245,     0.99241,     0.99346,     0.99397,     0.99393,     0.99389,     0.99389,     0.99384,     0.99378,     0.99428,\n",
       "            0.99424,      0.9942,     0.99529,     0.99523,     0.99522,     0.99578,     0.99574,     0.99567,      0.9956,     0.99618,     0.99676,     0.99672,     0.99668,     0.99663,     0.99725,     0.99721,     0.99715,      0.9971,     0.99704,     0.99697,     0.99689,     0.99685,     0.99757,\n",
       "            0.99751,     0.99743,     0.99734,     0.99727,     0.99718,     0.99713,     0.99701,     0.99685,     0.99672,     0.99765,     0.99757,     0.99741,     0.99728,     0.99713,     0.99698,     0.99676,     0.99654,     0.99633,     0.99613,     0.99589,      0.9956,     0.99493,           1,\n",
       "                  1,           1,           1,           1,           1,           1,           1,           1,           1,           1,           1,           1,           1,           1,           1,           1,           1,           1,           1,           1,           1,           1,           1,\n",
       "                  1,           1,           1,           1,           1,           1,           1,           1,           1,           1,           1,           1,           1,           1,           1,           1,           1,           1,           1,           1,           1,           1,           1,\n",
       "                  1,           1,           1,           1,           1,           1,           1,           1,           1,           1,           1,           1,           1,           1,           1,           1,           1,           1,           1,           1,           1,           1,           1,\n",
       "                  1,           1,           1,           1,           1,           1,           1,           1,           1,           1,           1,           1,           1,           1,           1,           1,           1,           1,           1,           1,           1,           1,           1,\n",
       "                  1,           1,           1,           1,           1,           1,           1,           1,           1,           1,           1,           1,           1,           1,           1,           1,           1,           1,           1,           1,           1,           1,           1,\n",
       "                  1,           1,           1,           1,           1,           1,           1,           1,           1,           1,           1]]), 'Confidence', 'Precision'], [array([          0,    0.001001,    0.002002,    0.003003,    0.004004,    0.005005,    0.006006,    0.007007,    0.008008,    0.009009,     0.01001,    0.011011,    0.012012,    0.013013,    0.014014,    0.015015,    0.016016,    0.017017,    0.018018,    0.019019,     0.02002,    0.021021,    0.022022,    0.023023,\n",
       "          0.024024,    0.025025,    0.026026,    0.027027,    0.028028,    0.029029,     0.03003,    0.031031,    0.032032,    0.033033,    0.034034,    0.035035,    0.036036,    0.037037,    0.038038,    0.039039,     0.04004,    0.041041,    0.042042,    0.043043,    0.044044,    0.045045,    0.046046,    0.047047,\n",
       "          0.048048,    0.049049,     0.05005,    0.051051,    0.052052,    0.053053,    0.054054,    0.055055,    0.056056,    0.057057,    0.058058,    0.059059,     0.06006,    0.061061,    0.062062,    0.063063,    0.064064,    0.065065,    0.066066,    0.067067,    0.068068,    0.069069,     0.07007,    0.071071,\n",
       "          0.072072,    0.073073,    0.074074,    0.075075,    0.076076,    0.077077,    0.078078,    0.079079,     0.08008,    0.081081,    0.082082,    0.083083,    0.084084,    0.085085,    0.086086,    0.087087,    0.088088,    0.089089,     0.09009,    0.091091,    0.092092,    0.093093,    0.094094,    0.095095,\n",
       "          0.096096,    0.097097,    0.098098,    0.099099,      0.1001,      0.1011,      0.1021,      0.1031,      0.1041,     0.10511,     0.10611,     0.10711,     0.10811,     0.10911,     0.11011,     0.11111,     0.11211,     0.11311,     0.11411,     0.11512,     0.11612,     0.11712,     0.11812,     0.11912,\n",
       "           0.12012,     0.12112,     0.12212,     0.12312,     0.12412,     0.12513,     0.12613,     0.12713,     0.12813,     0.12913,     0.13013,     0.13113,     0.13213,     0.13313,     0.13413,     0.13514,     0.13614,     0.13714,     0.13814,     0.13914,     0.14014,     0.14114,     0.14214,     0.14314,\n",
       "           0.14414,     0.14515,     0.14615,     0.14715,     0.14815,     0.14915,     0.15015,     0.15115,     0.15215,     0.15315,     0.15415,     0.15516,     0.15616,     0.15716,     0.15816,     0.15916,     0.16016,     0.16116,     0.16216,     0.16316,     0.16416,     0.16517,     0.16617,     0.16717,\n",
       "           0.16817,     0.16917,     0.17017,     0.17117,     0.17217,     0.17317,     0.17417,     0.17518,     0.17618,     0.17718,     0.17818,     0.17918,     0.18018,     0.18118,     0.18218,     0.18318,     0.18418,     0.18519,     0.18619,     0.18719,     0.18819,     0.18919,     0.19019,     0.19119,\n",
       "           0.19219,     0.19319,     0.19419,      0.1952,      0.1962,      0.1972,      0.1982,      0.1992,      0.2002,      0.2012,      0.2022,      0.2032,      0.2042,     0.20521,     0.20621,     0.20721,     0.20821,     0.20921,     0.21021,     0.21121,     0.21221,     0.21321,     0.21421,     0.21522,\n",
       "           0.21622,     0.21722,     0.21822,     0.21922,     0.22022,     0.22122,     0.22222,     0.22322,     0.22422,     0.22523,     0.22623,     0.22723,     0.22823,     0.22923,     0.23023,     0.23123,     0.23223,     0.23323,     0.23423,     0.23524,     0.23624,     0.23724,     0.23824,     0.23924,\n",
       "           0.24024,     0.24124,     0.24224,     0.24324,     0.24424,     0.24525,     0.24625,     0.24725,     0.24825,     0.24925,     0.25025,     0.25125,     0.25225,     0.25325,     0.25425,     0.25526,     0.25626,     0.25726,     0.25826,     0.25926,     0.26026,     0.26126,     0.26226,     0.26326,\n",
       "           0.26426,     0.26527,     0.26627,     0.26727,     0.26827,     0.26927,     0.27027,     0.27127,     0.27227,     0.27327,     0.27427,     0.27528,     0.27628,     0.27728,     0.27828,     0.27928,     0.28028,     0.28128,     0.28228,     0.28328,     0.28428,     0.28529,     0.28629,     0.28729,\n",
       "           0.28829,     0.28929,     0.29029,     0.29129,     0.29229,     0.29329,     0.29429,      0.2953,      0.2963,      0.2973,      0.2983,      0.2993,      0.3003,      0.3013,      0.3023,      0.3033,      0.3043,     0.30531,     0.30631,     0.30731,     0.30831,     0.30931,     0.31031,     0.31131,\n",
       "           0.31231,     0.31331,     0.31431,     0.31532,     0.31632,     0.31732,     0.31832,     0.31932,     0.32032,     0.32132,     0.32232,     0.32332,     0.32432,     0.32533,     0.32633,     0.32733,     0.32833,     0.32933,     0.33033,     0.33133,     0.33233,     0.33333,     0.33433,     0.33534,\n",
       "           0.33634,     0.33734,     0.33834,     0.33934,     0.34034,     0.34134,     0.34234,     0.34334,     0.34434,     0.34535,     0.34635,     0.34735,     0.34835,     0.34935,     0.35035,     0.35135,     0.35235,     0.35335,     0.35435,     0.35536,     0.35636,     0.35736,     0.35836,     0.35936,\n",
       "           0.36036,     0.36136,     0.36236,     0.36336,     0.36436,     0.36537,     0.36637,     0.36737,     0.36837,     0.36937,     0.37037,     0.37137,     0.37237,     0.37337,     0.37437,     0.37538,     0.37638,     0.37738,     0.37838,     0.37938,     0.38038,     0.38138,     0.38238,     0.38338,\n",
       "           0.38438,     0.38539,     0.38639,     0.38739,     0.38839,     0.38939,     0.39039,     0.39139,     0.39239,     0.39339,     0.39439,      0.3954,      0.3964,      0.3974,      0.3984,      0.3994,      0.4004,      0.4014,      0.4024,      0.4034,      0.4044,     0.40541,     0.40641,     0.40741,\n",
       "           0.40841,     0.40941,     0.41041,     0.41141,     0.41241,     0.41341,     0.41441,     0.41542,     0.41642,     0.41742,     0.41842,     0.41942,     0.42042,     0.42142,     0.42242,     0.42342,     0.42442,     0.42543,     0.42643,     0.42743,     0.42843,     0.42943,     0.43043,     0.43143,\n",
       "           0.43243,     0.43343,     0.43443,     0.43544,     0.43644,     0.43744,     0.43844,     0.43944,     0.44044,     0.44144,     0.44244,     0.44344,     0.44444,     0.44545,     0.44645,     0.44745,     0.44845,     0.44945,     0.45045,     0.45145,     0.45245,     0.45345,     0.45445,     0.45546,\n",
       "           0.45646,     0.45746,     0.45846,     0.45946,     0.46046,     0.46146,     0.46246,     0.46346,     0.46446,     0.46547,     0.46647,     0.46747,     0.46847,     0.46947,     0.47047,     0.47147,     0.47247,     0.47347,     0.47447,     0.47548,     0.47648,     0.47748,     0.47848,     0.47948,\n",
       "           0.48048,     0.48148,     0.48248,     0.48348,     0.48448,     0.48549,     0.48649,     0.48749,     0.48849,     0.48949,     0.49049,     0.49149,     0.49249,     0.49349,     0.49449,      0.4955,      0.4965,      0.4975,      0.4985,      0.4995,      0.5005,      0.5015,      0.5025,      0.5035,\n",
       "            0.5045,     0.50551,     0.50651,     0.50751,     0.50851,     0.50951,     0.51051,     0.51151,     0.51251,     0.51351,     0.51451,     0.51552,     0.51652,     0.51752,     0.51852,     0.51952,     0.52052,     0.52152,     0.52252,     0.52352,     0.52452,     0.52553,     0.52653,     0.52753,\n",
       "           0.52853,     0.52953,     0.53053,     0.53153,     0.53253,     0.53353,     0.53453,     0.53554,     0.53654,     0.53754,     0.53854,     0.53954,     0.54054,     0.54154,     0.54254,     0.54354,     0.54454,     0.54555,     0.54655,     0.54755,     0.54855,     0.54955,     0.55055,     0.55155,\n",
       "           0.55255,     0.55355,     0.55455,     0.55556,     0.55656,     0.55756,     0.55856,     0.55956,     0.56056,     0.56156,     0.56256,     0.56356,     0.56456,     0.56557,     0.56657,     0.56757,     0.56857,     0.56957,     0.57057,     0.57157,     0.57257,     0.57357,     0.57457,     0.57558,\n",
       "           0.57658,     0.57758,     0.57858,     0.57958,     0.58058,     0.58158,     0.58258,     0.58358,     0.58458,     0.58559,     0.58659,     0.58759,     0.58859,     0.58959,     0.59059,     0.59159,     0.59259,     0.59359,     0.59459,      0.5956,      0.5966,      0.5976,      0.5986,      0.5996,\n",
       "            0.6006,      0.6016,      0.6026,      0.6036,      0.6046,     0.60561,     0.60661,     0.60761,     0.60861,     0.60961,     0.61061,     0.61161,     0.61261,     0.61361,     0.61461,     0.61562,     0.61662,     0.61762,     0.61862,     0.61962,     0.62062,     0.62162,     0.62262,     0.62362,\n",
       "           0.62462,     0.62563,     0.62663,     0.62763,     0.62863,     0.62963,     0.63063,     0.63163,     0.63263,     0.63363,     0.63463,     0.63564,     0.63664,     0.63764,     0.63864,     0.63964,     0.64064,     0.64164,     0.64264,     0.64364,     0.64464,     0.64565,     0.64665,     0.64765,\n",
       "           0.64865,     0.64965,     0.65065,     0.65165,     0.65265,     0.65365,     0.65465,     0.65566,     0.65666,     0.65766,     0.65866,     0.65966,     0.66066,     0.66166,     0.66266,     0.66366,     0.66466,     0.66567,     0.66667,     0.66767,     0.66867,     0.66967,     0.67067,     0.67167,\n",
       "           0.67267,     0.67367,     0.67467,     0.67568,     0.67668,     0.67768,     0.67868,     0.67968,     0.68068,     0.68168,     0.68268,     0.68368,     0.68468,     0.68569,     0.68669,     0.68769,     0.68869,     0.68969,     0.69069,     0.69169,     0.69269,     0.69369,     0.69469,      0.6957,\n",
       "            0.6967,      0.6977,      0.6987,      0.6997,      0.7007,      0.7017,      0.7027,      0.7037,      0.7047,     0.70571,     0.70671,     0.70771,     0.70871,     0.70971,     0.71071,     0.71171,     0.71271,     0.71371,     0.71471,     0.71572,     0.71672,     0.71772,     0.71872,     0.71972,\n",
       "           0.72072,     0.72172,     0.72272,     0.72372,     0.72472,     0.72573,     0.72673,     0.72773,     0.72873,     0.72973,     0.73073,     0.73173,     0.73273,     0.73373,     0.73473,     0.73574,     0.73674,     0.73774,     0.73874,     0.73974,     0.74074,     0.74174,     0.74274,     0.74374,\n",
       "           0.74474,     0.74575,     0.74675,     0.74775,     0.74875,     0.74975,     0.75075,     0.75175,     0.75275,     0.75375,     0.75475,     0.75576,     0.75676,     0.75776,     0.75876,     0.75976,     0.76076,     0.76176,     0.76276,     0.76376,     0.76476,     0.76577,     0.76677,     0.76777,\n",
       "           0.76877,     0.76977,     0.77077,     0.77177,     0.77277,     0.77377,     0.77477,     0.77578,     0.77678,     0.77778,     0.77878,     0.77978,     0.78078,     0.78178,     0.78278,     0.78378,     0.78478,     0.78579,     0.78679,     0.78779,     0.78879,     0.78979,     0.79079,     0.79179,\n",
       "           0.79279,     0.79379,     0.79479,      0.7958,      0.7968,      0.7978,      0.7988,      0.7998,      0.8008,      0.8018,      0.8028,      0.8038,      0.8048,     0.80581,     0.80681,     0.80781,     0.80881,     0.80981,     0.81081,     0.81181,     0.81281,     0.81381,     0.81481,     0.81582,\n",
       "           0.81682,     0.81782,     0.81882,     0.81982,     0.82082,     0.82182,     0.82282,     0.82382,     0.82482,     0.82583,     0.82683,     0.82783,     0.82883,     0.82983,     0.83083,     0.83183,     0.83283,     0.83383,     0.83483,     0.83584,     0.83684,     0.83784,     0.83884,     0.83984,\n",
       "           0.84084,     0.84184,     0.84284,     0.84384,     0.84484,     0.84585,     0.84685,     0.84785,     0.84885,     0.84985,     0.85085,     0.85185,     0.85285,     0.85385,     0.85485,     0.85586,     0.85686,     0.85786,     0.85886,     0.85986,     0.86086,     0.86186,     0.86286,     0.86386,\n",
       "           0.86486,     0.86587,     0.86687,     0.86787,     0.86887,     0.86987,     0.87087,     0.87187,     0.87287,     0.87387,     0.87487,     0.87588,     0.87688,     0.87788,     0.87888,     0.87988,     0.88088,     0.88188,     0.88288,     0.88388,     0.88488,     0.88589,     0.88689,     0.88789,\n",
       "           0.88889,     0.88989,     0.89089,     0.89189,     0.89289,     0.89389,     0.89489,      0.8959,      0.8969,      0.8979,      0.8989,      0.8999,      0.9009,      0.9019,      0.9029,      0.9039,      0.9049,     0.90591,     0.90691,     0.90791,     0.90891,     0.90991,     0.91091,     0.91191,\n",
       "           0.91291,     0.91391,     0.91491,     0.91592,     0.91692,     0.91792,     0.91892,     0.91992,     0.92092,     0.92192,     0.92292,     0.92392,     0.92492,     0.92593,     0.92693,     0.92793,     0.92893,     0.92993,     0.93093,     0.93193,     0.93293,     0.93393,     0.93493,     0.93594,\n",
       "           0.93694,     0.93794,     0.93894,     0.93994,     0.94094,     0.94194,     0.94294,     0.94394,     0.94494,     0.94595,     0.94695,     0.94795,     0.94895,     0.94995,     0.95095,     0.95195,     0.95295,     0.95395,     0.95495,     0.95596,     0.95696,     0.95796,     0.95896,     0.95996,\n",
       "           0.96096,     0.96196,     0.96296,     0.96396,     0.96496,     0.96597,     0.96697,     0.96797,     0.96897,     0.96997,     0.97097,     0.97197,     0.97297,     0.97397,     0.97497,     0.97598,     0.97698,     0.97798,     0.97898,     0.97998,     0.98098,     0.98198,     0.98298,     0.98398,\n",
       "           0.98498,     0.98599,     0.98699,     0.98799,     0.98899,     0.98999,     0.99099,     0.99199,     0.99299,     0.99399,     0.99499,       0.996,       0.997,       0.998,       0.999,           1]), array([[    0.99954,     0.99954,     0.99908,     0.99908,     0.99908,     0.99908,     0.99908,     0.99908,     0.99908,     0.99862,     0.99862,     0.99816,     0.99816,     0.99816,     0.99816,     0.99816,     0.99816,     0.99816,     0.99816,     0.99816,     0.99816,     0.99816,     0.99816,\n",
       "            0.99816,     0.99816,     0.99816,     0.99816,     0.99816,     0.99816,     0.99816,     0.99816,     0.99816,     0.99816,     0.99816,     0.99811,      0.9977,      0.9977,      0.9977,      0.9977,      0.9977,      0.9977,      0.9977,      0.9977,      0.9977,      0.9977,      0.9977,\n",
       "             0.9977,      0.9977,      0.9977,      0.9977,      0.9977,      0.9977,      0.9977,      0.9977,      0.9977,      0.9977,      0.9977,      0.9977,     0.99724,     0.99724,     0.99724,     0.99724,     0.99724,     0.99724,     0.99724,     0.99724,     0.99724,     0.99724,     0.99724,\n",
       "            0.99724,     0.99724,     0.99724,     0.99724,     0.99724,     0.99724,     0.99661,     0.99632,     0.99632,     0.99632,     0.99632,     0.99632,     0.99632,     0.99632,     0.99632,     0.99632,     0.99632,     0.99632,     0.99632,     0.99632,     0.99632,     0.99632,     0.99632,\n",
       "            0.99632,     0.99632,     0.99632,     0.99632,     0.99632,     0.99632,     0.99632,     0.99632,     0.99632,     0.99632,     0.99632,     0.99632,     0.99632,     0.99632,     0.99632,     0.99632,     0.99632,     0.99632,     0.99632,     0.99632,     0.99632,     0.99632,     0.99632,\n",
       "            0.99632,     0.99632,     0.99632,     0.99632,     0.99632,     0.99632,     0.99632,     0.99632,     0.99632,     0.99632,     0.99632,     0.99632,     0.99632,     0.99632,     0.99632,     0.99632,     0.99632,     0.99632,     0.99632,     0.99632,     0.99632,     0.99632,     0.99632,\n",
       "            0.99632,     0.99632,     0.99632,     0.99632,     0.99632,     0.99632,     0.99632,     0.99632,     0.99632,     0.99632,     0.99632,     0.99632,     0.99621,     0.99586,     0.99586,     0.99586,     0.99586,     0.99586,     0.99586,     0.99586,     0.99586,     0.99586,     0.99586,\n",
       "            0.99586,     0.99586,     0.99586,     0.99586,     0.99586,     0.99586,     0.99586,     0.99586,     0.99586,     0.99586,     0.99586,     0.99586,     0.99586,     0.99586,      0.9954,      0.9954,      0.9954,      0.9954,      0.9954,      0.9954,      0.9954,      0.9954,      0.9954,\n",
       "             0.9954,      0.9954,      0.9954,      0.9954,      0.9954,      0.9954,      0.9954,     0.99501,     0.99494,     0.99494,     0.99494,     0.99494,     0.99494,     0.99494,     0.99494,     0.99494,     0.99494,     0.99494,     0.99482,      0.9947,     0.99458,     0.99449,     0.99449,\n",
       "            0.99449,     0.99448,     0.99438,     0.99428,     0.99418,     0.99408,     0.99403,     0.99403,     0.99403,     0.99403,     0.99403,     0.99403,     0.99403,     0.99403,     0.99403,     0.99403,     0.99403,     0.99403,     0.99403,     0.99385,     0.99361,     0.99356,     0.99349,\n",
       "            0.99341,     0.99334,     0.99326,     0.99319,     0.99312,     0.99311,     0.99311,     0.99311,     0.99311,     0.99311,     0.99311,     0.99311,     0.99311,     0.99311,     0.99311,     0.99311,     0.99311,     0.99311,     0.99311,     0.99311,     0.99311,     0.99311,     0.99311,\n",
       "            0.99311,     0.99311,     0.99311,     0.99311,     0.99311,     0.99311,     0.99311,     0.99311,     0.99311,     0.99311,     0.99311,     0.99311,     0.99311,     0.99311,     0.99311,     0.99311,     0.99311,     0.99311,     0.99311,     0.99311,     0.99311,     0.99311,     0.99311,\n",
       "            0.99311,     0.99311,     0.99311,      0.9931,     0.99305,     0.99301,     0.99296,     0.99292,     0.99287,     0.99283,     0.99278,     0.99274,     0.99269,     0.99265,     0.99265,     0.99265,     0.99265,     0.99265,     0.99265,     0.99265,     0.99265,     0.99265,     0.99265,\n",
       "            0.99265,     0.99265,     0.99265,     0.99265,     0.99265,     0.99265,     0.99265,     0.99265,     0.99265,     0.99265,     0.99265,     0.99265,     0.99265,     0.99265,     0.99265,     0.99259,     0.99242,     0.99224,     0.99219,     0.99219,     0.99219,     0.99219,     0.99219,\n",
       "            0.99219,     0.99219,     0.99219,     0.99219,     0.99219,     0.99219,     0.99219,     0.99219,     0.99219,     0.99219,     0.99219,     0.99219,     0.99219,     0.99219,     0.99219,     0.99202,     0.99183,     0.99173,     0.99173,     0.99173,     0.99173,     0.99173,     0.99173,\n",
       "            0.99173,     0.99173,     0.99173,     0.99173,     0.99173,     0.99173,     0.99173,     0.99173,     0.99173,     0.99169,     0.99159,     0.99148,     0.99138,     0.99127,     0.99127,     0.99127,     0.99127,     0.99127,     0.99127,     0.99127,     0.99127,     0.99127,     0.99127,\n",
       "            0.99127,     0.99127,     0.99127,     0.99114,     0.99081,     0.99081,     0.99081,     0.99081,     0.99081,     0.99081,     0.99081,     0.99081,     0.99081,     0.99081,     0.99074,      0.9905,     0.99035,     0.99035,     0.99035,     0.99035,     0.99035,     0.99035,     0.99035,\n",
       "            0.99035,     0.99035,     0.99035,     0.99035,     0.99035,     0.99035,     0.99035,     0.99035,     0.99035,     0.99035,     0.99035,     0.99035,     0.99035,     0.99035,     0.99035,     0.99035,     0.99035,     0.99035,     0.99035,     0.99035,     0.99035,     0.99035,     0.99035,\n",
       "            0.99035,     0.99035,     0.99035,     0.99035,     0.99035,     0.99035,     0.99035,     0.99035,     0.99035,      0.9903,     0.99024,     0.99018,     0.99012,     0.99006,        0.99,     0.98994,     0.98989,     0.98989,     0.98989,     0.98989,     0.98989,     0.98987,     0.98981,\n",
       "            0.98975,     0.98968,     0.98962,     0.98956,      0.9895,     0.98944,     0.98905,     0.98897,     0.98897,     0.98897,     0.98897,     0.98897,     0.98897,     0.98897,     0.98897,     0.98897,     0.98897,     0.98895,     0.98878,     0.98861,     0.98851,     0.98851,     0.98851,\n",
       "            0.98851,     0.98851,     0.98851,     0.98851,     0.98851,     0.98851,     0.98851,     0.98851,     0.98851,     0.98851,     0.98851,     0.98851,     0.98851,     0.98851,     0.98851,     0.98851,     0.98851,     0.98851,     0.98851,     0.98851,     0.98851,     0.98851,     0.98851,\n",
       "            0.98851,     0.98849,     0.98834,     0.98818,     0.98805,     0.98805,     0.98805,     0.98805,     0.98805,     0.98805,     0.98805,     0.98805,     0.98805,     0.98805,     0.98805,     0.98805,     0.98805,     0.98805,     0.98805,     0.98805,     0.98805,     0.98805,     0.98805,\n",
       "            0.98795,     0.98779,     0.98764,     0.98759,     0.98759,     0.98759,     0.98759,     0.98759,     0.98759,     0.98759,     0.98759,     0.98759,     0.98759,     0.98759,     0.98759,     0.98759,     0.98759,     0.98759,     0.98759,     0.98758,     0.98752,     0.98745,     0.98738,\n",
       "            0.98731,     0.98725,     0.98718,     0.98712,     0.98708,     0.98704,       0.987,     0.98696,     0.98692,     0.98688,     0.98685,     0.98681,     0.98677,     0.98673,     0.98669,     0.98667,     0.98621,     0.98591,     0.98575,     0.98575,     0.98541,     0.98494,     0.98483,\n",
       "            0.98483,     0.98483,     0.98483,     0.98483,     0.98483,     0.98483,     0.98483,     0.98483,     0.98483,     0.98483,     0.98483,     0.98483,     0.98483,     0.98474,     0.98458,     0.98442,     0.98438,     0.98438,     0.98438,     0.98438,     0.98438,     0.98438,     0.98438,\n",
       "            0.98417,     0.98394,     0.98392,     0.98392,     0.98392,     0.98392,     0.98392,     0.98392,     0.98392,     0.98392,     0.98392,     0.98361,     0.98335,     0.98319,     0.98304,       0.983,       0.983,     0.98262,     0.98241,     0.98225,     0.98209,     0.98208,     0.98208,\n",
       "            0.98208,     0.98208,     0.98208,     0.98208,     0.98208,     0.98208,     0.98208,     0.98208,     0.98177,     0.98162,     0.98162,     0.98162,     0.98162,     0.98162,     0.98162,     0.98162,     0.98159,      0.9815,     0.98142,     0.98133,     0.98124,     0.98116,      0.9807,\n",
       "             0.9807,     0.98067,     0.98024,     0.98024,     0.98017,     0.98005,     0.97993,     0.97981,     0.97978,     0.97978,     0.97924,     0.97913,     0.97903,     0.97893,     0.97886,     0.97886,     0.97886,     0.97842,      0.9784,      0.9784,      0.9784,     0.97837,     0.97794,\n",
       "            0.97794,     0.97794,     0.97748,     0.97748,     0.97726,     0.97691,     0.97644,      0.9761,      0.9761,      0.9761,     0.97554,     0.97543,     0.97531,     0.97519,     0.97518,     0.97518,     0.97518,     0.97493,     0.97471,     0.97447,     0.97426,     0.97426,     0.97411,\n",
       "            0.97381,     0.97381,     0.97381,     0.97357,     0.97335,     0.97335,     0.97289,     0.97289,     0.97243,     0.97243,     0.97243,     0.97243,     0.97243,     0.97243,     0.97243,     0.97243,     0.97243,     0.97214,     0.97192,     0.97184,     0.97176,     0.97168,      0.9716,\n",
       "            0.97153,     0.97151,     0.97151,     0.97143,     0.97119,     0.97047,     0.97015,     0.96921,     0.96921,     0.96921,     0.96905,     0.96874,     0.96842,     0.96815,     0.96792,     0.96691,     0.96689,     0.96676,     0.96662,     0.96649,     0.96599,     0.96595,     0.96582,\n",
       "            0.96569,     0.96555,     0.96526,     0.96403,     0.96371,     0.96361,     0.96351,     0.96342,     0.96332,     0.96321,      0.9629,     0.96278,     0.96273,     0.96242,     0.96164,     0.96089,     0.96065,     0.96044,     0.96028,     0.96012,     0.95997,     0.95981,     0.95965,\n",
       "            0.95943,     0.95912,     0.95864,     0.95818,     0.95771,      0.9574,     0.95713,     0.95689,      0.9568,     0.95538,     0.95506,     0.95475,     0.95444,     0.95412,     0.95393,     0.95377,     0.95361,     0.95287,     0.95129,     0.95129,     0.95129,       0.951,     0.94991,\n",
       "            0.94991,     0.94822,     0.94807,     0.94805,     0.94773,     0.94558,     0.94531,     0.94531,     0.94464,     0.94429,      0.9434,     0.94309,     0.94231,     0.94016,     0.93985,     0.93815,     0.93784,     0.93752,     0.93523,     0.93491,     0.93428,     0.93382,      0.9335,\n",
       "             0.9329,     0.93272,     0.93195,     0.93163,     0.92892,     0.92856,     0.92778,     0.92747,     0.92612,     0.92347,     0.92096,     0.92096,     0.91964,     0.91701,     0.91433,     0.91131,     0.91131,      0.9087,     0.90647,     0.90287,     0.90162,     0.89703,     0.89672,\n",
       "            0.89263,     0.88904,     0.88364,     0.88275,     0.88243,     0.87557,     0.87108,      0.8652,     0.86197,     0.85788,     0.85757,     0.85298,     0.84852,     0.84537,     0.84076,     0.83716,     0.83316,     0.82809,     0.82258,     0.82227,     0.81496,      0.8076,     0.79896,\n",
       "            0.79356,     0.78803,     0.77607,     0.76645,     0.76614,     0.75926,     0.75144,     0.73902,     0.72798,     0.71984,     0.70659,     0.69876,     0.69048,      0.6799,     0.66748,     0.65598,      0.6431,      0.6317,     0.61895,     0.60515,     0.58905,     0.58123,     0.56605,\n",
       "            0.55133,     0.53478,     0.51684,     0.50351,     0.48787,     0.47867,     0.45981,      0.4359,     0.41935,     0.39062,     0.37682,     0.35429,     0.33727,     0.31888,     0.30324,     0.28255,     0.26498,     0.24967,     0.23633,     0.22253,     0.20781,     0.18046,     0.16804,\n",
       "            0.15654,     0.14532,     0.13607,     0.12181,     0.11169,    0.094441,    0.088455,    0.072589,    0.066143,    0.059194,     0.05578,    0.051633,     0.04266,    0.038881,    0.035514,    0.031366,    0.023312,    0.019488,    0.017545,    0.014546,    0.013904,    0.011996,   0.0080779,\n",
       "          0.0074012,   0.0064465,   0.0052861,   0.0041153,   0.0034248,   0.0027462,   0.0025892,   0.0024322,    0.001243,  0.00089622,  0.00086133,  0.00082643,  0.00079154,  0.00075665,  0.00072175,  0.00068686,  0.00065197,  0.00061707,  0.00058218,  0.00054729,  0.00051239,   0.0004775,           0,\n",
       "                  0,           0,           0,           0,           0,           0,           0,           0,           0,           0,           0,           0,           0,           0,           0,           0,           0,           0,           0,           0,           0,           0,           0,\n",
       "                  0,           0,           0,           0,           0,           0,           0,           0,           0,           0,           0,           0,           0,           0,           0,           0,           0,           0,           0,           0,           0,           0,           0,\n",
       "                  0,           0,           0,           0,           0,           0,           0,           0,           0,           0,           0,           0,           0,           0,           0,           0,           0,           0,           0,           0,           0,           0,           0,\n",
       "                  0,           0,           0,           0,           0,           0,           0,           0,           0,           0,           0]]), 'Confidence', 'Recall']]\n",
       "fitness: np.float64(0.7861392243661881)\n",
       "keys: ['metrics/precision(B)', 'metrics/recall(B)', 'metrics/mAP50(B)', 'metrics/mAP50-95(B)']\n",
       "maps: array([    0.76346])\n",
       "names: {0: 'pearbags'}\n",
       "plot: True\n",
       "results_dict: {'metrics/precision(B)': np.float64(0.9658541214059047), 'metrics/recall(B)': np.float64(0.9749349533356887), 'metrics/mAP50(B)': np.float64(0.9902315874703773), 'metrics/mAP50-95(B)': np.float64(0.7634622951323893), 'fitness': np.float64(0.7861392243661881)}\n",
       "save_dir: WindowsPath('runs/detect/train17')\n",
       "speed: {'preprocess': 0.2768628001213074, 'inference': 16.395960800582543, 'loss': 0.0008452001493424177, 'postprocess': 0.8965663998387754}\n",
       "task: 'detect'"
      ]
     },
     "execution_count": 10,
     "metadata": {},
     "output_type": "execute_result"
    }
   ],
   "source": [
    "#model.train(data=\"PearBagsYolo/data.yaml\", epochs=50, imgsz=640)\n",
    "model.train(data=\"C:/Users/dnslab_fox/Ugur/PearBagsYolo/data.yaml\", epochs=50, imgsz=640)\n",
    "#model.train(data=\"path/to/defect.yaml\", epochs=50, imgsz=640, batch=16)"
   ]
  },
  {
   "cell_type": "code",
   "execution_count": 8,
   "id": "8f564dee-45d6-4b04-8983-db9b8e885845",
   "metadata": {},
   "outputs": [],
   "source": [
    "img = \"pearbags/Augmented/20241208_161011.jpg\""
   ]
  },
  {
   "cell_type": "code",
   "execution_count": 10,
   "id": "94f9a363-79fe-43bf-a099-3e1ae700bc9b",
   "metadata": {},
   "outputs": [],
   "source": [
    "model = YOLO(\"PearBagsYolo/models/pearbags_cbam.pt\")"
   ]
  },
  {
   "cell_type": "code",
   "execution_count": 11,
   "id": "4a378336-d867-48e0-9d8f-5d16e0ab77d2",
   "metadata": {},
   "outputs": [
    {
     "name": "stdout",
     "output_type": "stream",
     "text": [
      "\n",
      "image 1/1 C:\\Users\\dnslab_fox\\Ugur\\pearbags\\Augmented\\20241208_161011.jpg: 480x640 (no detections), 58.5ms\n",
      "Speed: 3.2ms preprocess, 58.5ms inference, 13.7ms postprocess per image at shape (1, 3, 480, 640)\n",
      "Results saved to \u001b[1mruns\\detect\\predict4\u001b[0m\n",
      "Detected classes: []\n",
      "Confidences: []\n",
      "Boxes: []\n"
     ]
    }
   ],
   "source": [
    "# Inference on an image\n",
    "results = model(img, save=True, conf=0.25)\n",
    "\n",
    "# If you want to access results programmatically:\n",
    "for result in results:\n",
    "    boxes = result.boxes.xyxy  # x1, y1, x2, y2\n",
    "    confidences = result.boxes.conf\n",
    "    class_ids = result.boxes.cls\n",
    "\n",
    "    print(\"Detected classes:\", class_ids.tolist())\n",
    "    print(\"Confidences:\", confidences.tolist())\n",
    "    print(\"Boxes:\", boxes.tolist())"
   ]
  },
  {
   "cell_type": "code",
   "execution_count": 15,
   "id": "42f3c4b9-bfde-4297-b3bb-a8dfc9fa2f7e",
   "metadata": {},
   "outputs": [],
   "source": [
    "model.save(\"PearBagsYolo/models/pearbags_cbam.pt\")"
   ]
  },
  {
   "cell_type": "code",
   "execution_count": 32,
   "id": "8e3a11e0-53d9-4c5f-95f3-59cfeb07c90a",
   "metadata": {},
   "outputs": [
    {
     "name": "stdout",
     "output_type": "stream",
     "text": [
      "\n",
      "image 1/1 C:\\Users\\dnslab_fox\\Ugur\\pearbags\\Augmented\\20241208_161011.jpg: 480x640 (no detections), 18.6ms\n",
      "Speed: 2.1ms preprocess, 18.6ms inference, 0.5ms postprocess per image at shape (1, 3, 480, 640)\n"
     ]
    }
   ],
   "source": [
    "from ultralytics import YOLO\n",
    "import cv2\n",
    "\n",
    "# Load trained model\n",
    "model = YOLO(\"PearBagsYolo/models/pearbags_cbam.pt\")  # Adjust path if needed\n",
    "\n",
    "# Run inference\n",
    "results = model(img, conf=0.25, save=False)\n",
    "\n",
    "# Get result image with boxes\n",
    "annotated_frame = results[0].plot()  # This adds bounding boxes to the image\n",
    "\n",
    "# Show the image in a window\n",
    "annotated_frame = cv2.resize(annotated_frame, (640, 640))\n",
    "cv2.imshow(\"Detection Result\", annotated_frame)\n",
    "cv2.waitKey(0)\n",
    "cv2.destroyAllWindows()"
   ]
  },
  {
   "cell_type": "code",
   "execution_count": 33,
   "id": "0a906554-6f34-431a-9ca5-79641fe4efdc",
   "metadata": {},
   "outputs": [
    {
     "name": "stdout",
     "output_type": "stream",
     "text": [
      "\n",
      "image 1/1 C:\\Users\\dnslab_fox\\Ugur\\pearbags\\Augmented\\20241208_161011.jpg: 480x640 (no detections), 244.6ms\n",
      "Speed: 4.4ms preprocess, 244.6ms inference, 1.7ms postprocess per image at shape (1, 3, 480, 640)\n",
      "Detected pearbags: 0\n"
     ]
    }
   ],
   "source": [
    "results = model(img)\n",
    "count = len(results[0].boxes)\n",
    "print(f\"Detected pearbags: {count}\")"
   ]
  },
  {
   "cell_type": "code",
   "execution_count": 24,
   "id": "68dae0d5-1588-436f-b9b7-4dc725acc728",
   "metadata": {},
   "outputs": [
    {
     "name": "stdout",
     "output_type": "stream",
     "text": [
      "\n",
      "image 1/1 C:\\Users\\dnslab_fox\\Ugur\\PearBagsYolo\\valid\\images\\PE_001_TP_20231110_PM_001_007_001_0559_IMG_jpg.rf.a5c22c47f443a3bcaa8c423125b56356.jpg: 640x640 4 pearbagss, 25.9ms\n",
      "Speed: 2.1ms preprocess, 25.9ms inference, 1.2ms postprocess per image at shape (1, 3, 640, 640)\n"
     ]
    }
   ],
   "source": [
    "from ultralytics import YOLO\n",
    "import cv2\n",
    "\n",
    "# Load trained model\n",
    "model = YOLO(\"PearBagsYolo/models/pearbags_cbam.pt\")  # use your .pt file path\n",
    "\n",
    "# Run inference on the image\n",
    "results = model(img)  # change to your image path\n",
    "\n",
    "# Get number of detected objects\n",
    "count = len(results[0].boxes)\n",
    "\n",
    "# Plot image with boxes (Ultralytics draws it for you)\n",
    "annotated_img = results[0].plot()\n",
    "\n",
    "# Add count as text on top-left corner\n",
    "cv2.putText(\n",
    "    annotated_img,\n",
    "    f\"Detected pearbags: {count}\",\n",
    "    (10, 30),  # x, y position\n",
    "    cv2.FONT_HERSHEY_SIMPLEX,\n",
    "    1,              # font scale\n",
    "    (0, 255, 0),    # color (green)\n",
    "    2,              # thickness\n",
    "    cv2.LINE_AA\n",
    ")\n",
    "\n",
    "# Show the image in notebook or pop-up window\n",
    "cv2.imshow(\"Detection with Count\", annotated_img)\n",
    "cv2.waitKey(0)\n",
    "cv2.destroyAllWindows()"
   ]
  },
  {
   "cell_type": "markdown",
   "id": "045813fb-4460-44bb-ab0a-07edd0ea5e67",
   "metadata": {
    "jp-MarkdownHeadingCollapsed": true
   },
   "source": [
    "## YOLO-CBAM-BiFPN"
   ]
  },
  {
   "cell_type": "code",
   "execution_count": 10,
   "id": "529ef871-92dc-4563-ad0b-5e05ea1bfc05",
   "metadata": {},
   "outputs": [
    {
     "name": "stdout",
     "output_type": "stream",
     "text": [
      "Parsing layer: 0 | from: -1 | number: 1 | module: <class 'ultralytics.nn.modules.conv.Conv'> | args: [3, 64, 3, 2]\n",
      "Parsing layer: 1 | from: -1 | number: 1 | module: <class 'ultralytics.nn.modules.conv.Conv'> | args: [64, 128, 3, 2]\n",
      "Parsing layer: 2 | from: -1 | number: 1 | module: <class 'ultralytics.nn.modules.block.C2f'> | args: [128, 128, 3, True]\n",
      "Parsing layer: 3 | from: -1 | number: 1 | module: <class 'ultralytics.nn.modules.conv.Conv'> | args: [128, 256, 3, 2]\n",
      "Parsing layer: 4 | from: -1 | number: 1 | module: <class 'ultralytics.nn.modules.block.C2f'> | args: [256, 256, 6, True]\n",
      "Parsing layer: 5 | from: -1 | number: 1 | module: <class 'ultralytics.nn.modules.conv.Conv'> | args: [256, 512, 3, 2]\n",
      "Parsing layer: 6 | from: -1 | number: 1 | module: <class 'ultralytics.nn.modules.block.C2f'> | args: [512, 512, 6, True]\n",
      "Parsing layer: 7 | from: -1 | number: 1 | module: <class 'ultralytics.nn.modules.conv.Conv'> | args: [512, 1024, 3, 2]\n",
      "Parsing layer: 8 | from: -1 | number: 1 | module: <class 'ultralytics.nn.modules.block.C2f'> | args: [1024, 1024, 3, True]\n",
      "Parsing layer: 9 | from: -1 | number: 1 | module: <class 'ultralytics.nn.modules.block.SPPF'> | args: [1024, 1024, 5]\n",
      "Parsing layer: 10 | from: -1 | number: 1 | module: <class 'ultralytics.nn.modules.mycbam.myCBAM'> | args: [1024, 1024]\n",
      "Parsing layer: 11 | from: -1 | number: 1 | module: <class 'torch.nn.modules.upsampling.Upsample'> | args: [None, 2, 'nearest']\n",
      "Parsing layer: 12 | from: [-1, 6] | number: 1 | module: <class 'ultralytics.nn.modules.conv.Concat'> | args: [1]\n",
      "Parsing layer: 13 | from: -1 | number: 1 | module: <class 'ultralytics.nn.modules.block.C2f'> | args: [1536, 512, 3]\n",
      "Parsing layer: 14 | from: -1 | number: 1 | module: <class 'torch.nn.modules.upsampling.Upsample'> | args: [None, 2, 'nearest']\n",
      "Parsing layer: 15 | from: [-1, 4] | number: 1 | module: <class 'ultralytics.nn.modules.conv.Concat'> | args: [1]\n",
      "Parsing layer: 16 | from: -1 | number: 1 | module: <class 'ultralytics.nn.modules.block.C2f'> | args: [768, 256, 3]\n",
      "Parsing layer: 17 | from: -1 | number: 1 | module: <class 'ultralytics.nn.modules.conv.Conv'> | args: [256, 256, 3, 2]\n",
      "Parsing layer: 18 | from: [-1, 6, 12] | number: 1 | module: <class 'ultralytics.nn.modules.bifpn.BiFPN'> | args: [1]\n",
      "Parsing layer: 19 | from: -1 | number: 1 | module: <class 'ultralytics.nn.modules.block.C2f'> | args: [2304, 512, 3]\n",
      "Parsing layer: 20 | from: -1 | number: 1 | module: <class 'ultralytics.nn.modules.conv.Conv'> | args: [512, 512, 3, 2]\n",
      "Parsing layer: 21 | from: [-1, 9] | number: 1 | module: <class 'ultralytics.nn.modules.conv.Concat'> | args: [1]\n",
      "Parsing layer: 22 | from: -1 | number: 1 | module: <class 'ultralytics.nn.modules.block.C2f'> | args: [1536, 1024, 3]\n",
      "Parsing layer: 23 | from: [15, 18, 21] | number: 1 | module: <class 'ultralytics.nn.modules.head.Detect'> | args: [1, [768, 2304, 1536]]\n",
      "YOLOv8-bifpn-cbam summary: 217 layers, 127,221,368 parameters, 127,221,352 gradients, 422.2 GFLOPs\n"
     ]
    },
    {
     "data": {
      "text/plain": [
       "(217, 127221368, 127221352, 422.22277280000003)"
      ]
     },
     "execution_count": 10,
     "metadata": {},
     "output_type": "execute_result"
    }
   ],
   "source": [
    "model_cbam_bifpn = YOLO(\"PearBagsYolo/ultralytics/ultralytics/models/yolov8-bifpn-cbam.yaml\", task='detect')\n",
    "model_cbam_bifpn.info()"
   ]
  },
  {
   "cell_type": "code",
   "execution_count": 11,
   "id": "f6af7e7b-46ff-471c-b6cc-e1728f5b0a02",
   "metadata": {
    "scrolled": true
   },
   "outputs": [
    {
     "name": "stdout",
     "output_type": "stream",
     "text": [
      "New https://pypi.org/project/ultralytics/8.3.111 available  Update with 'pip install -U ultralytics'\n",
      "Ultralytics 8.3.101  Python-3.12.8 torch-2.5.1 CUDA:0 (NVIDIA GeForce RTX 3070, 8191MiB)\n",
      "\u001b[34m\u001b[1mengine\\trainer: \u001b[0mtask=detect, mode=train, model=PearBagsYolo/ultralytics/ultralytics/models/yolov8-bifpn-cbam.yaml, data=C:/Users/dnslab_fox/Ugur/PearBagsYolo/data.yaml, epochs=50, time=None, patience=100, batch=16, imgsz=640, save=True, save_period=-1, cache=False, device=None, workers=8, project=None, name=train19, exist_ok=False, pretrained=True, optimizer=auto, verbose=True, seed=0, deterministic=True, single_cls=False, rect=False, cos_lr=False, close_mosaic=10, resume=False, amp=True, fraction=1.0, profile=False, freeze=None, multi_scale=False, overlap_mask=True, mask_ratio=4, dropout=0.0, val=True, split=val, save_json=False, save_hybrid=False, conf=None, iou=0.7, max_det=300, half=False, dnn=False, plots=True, source=None, vid_stride=1, stream_buffer=False, visualize=False, augment=False, agnostic_nms=False, classes=None, retina_masks=False, embed=None, show=False, save_frames=False, save_txt=False, save_conf=False, save_crop=False, show_labels=True, show_conf=True, show_boxes=True, line_width=None, format=torchscript, keras=False, optimize=False, int8=False, dynamic=False, simplify=True, opset=None, workspace=None, nms=False, lr0=0.01, lrf=0.01, momentum=0.937, weight_decay=0.0005, warmup_epochs=3.0, warmup_momentum=0.8, warmup_bias_lr=0.1, box=7.5, cls=0.5, dfl=1.5, pose=12.0, kobj=1.0, nbs=64, hsv_h=0.015, hsv_s=0.7, hsv_v=0.4, degrees=0.0, translate=0.1, scale=0.5, shear=0.0, perspective=0.0, flipud=0.0, fliplr=0.5, bgr=0.0, mosaic=1.0, mixup=0.0, copy_paste=0.0, copy_paste_mode=flip, auto_augment=randaugment, erasing=0.4, crop_fraction=1.0, cfg=None, tracker=botsort.yaml, save_dir=runs\\detect\\train19\n",
      "\n",
      "                   from  n    params  module                                       arguments                     \n",
      "Parsing layer: 0 | from: -1 | number: 1 | module: <class 'ultralytics.nn.modules.conv.Conv'> | args: [3, 64, 3, 2]\n",
      "  0                  -1  1      1856  ultralytics.nn.modules.conv.Conv             [3, 64, 3, 2]                 \n",
      "Parsing layer: 1 | from: -1 | number: 1 | module: <class 'ultralytics.nn.modules.conv.Conv'> | args: [64, 128, 3, 2]\n",
      "  1                  -1  1     73984  ultralytics.nn.modules.conv.Conv             [64, 128, 3, 2]               \n",
      "Parsing layer: 2 | from: -1 | number: 1 | module: <class 'ultralytics.nn.modules.block.C2f'> | args: [128, 128, 3, True]\n",
      "  2                  -1  3    279808  ultralytics.nn.modules.block.C2f             [128, 128, 3, True]           \n",
      "Parsing layer: 3 | from: -1 | number: 1 | module: <class 'ultralytics.nn.modules.conv.Conv'> | args: [128, 256, 3, 2]\n",
      "  3                  -1  1    295424  ultralytics.nn.modules.conv.Conv             [128, 256, 3, 2]              \n",
      "Parsing layer: 4 | from: -1 | number: 1 | module: <class 'ultralytics.nn.modules.block.C2f'> | args: [256, 256, 6, True]\n",
      "  4                  -1  6   2101248  ultralytics.nn.modules.block.C2f             [256, 256, 6, True]           \n",
      "Parsing layer: 5 | from: -1 | number: 1 | module: <class 'ultralytics.nn.modules.conv.Conv'> | args: [256, 512, 3, 2]\n",
      "  5                  -1  1   1180672  ultralytics.nn.modules.conv.Conv             [256, 512, 3, 2]              \n",
      "Parsing layer: 6 | from: -1 | number: 1 | module: <class 'ultralytics.nn.modules.block.C2f'> | args: [512, 512, 6, True]\n",
      "  6                  -1  6   8396800  ultralytics.nn.modules.block.C2f             [512, 512, 6, True]           \n",
      "Parsing layer: 7 | from: -1 | number: 1 | module: <class 'ultralytics.nn.modules.conv.Conv'> | args: [512, 1024, 3, 2]\n",
      "  7                  -1  1   4720640  ultralytics.nn.modules.conv.Conv             [512, 1024, 3, 2]             \n",
      "Parsing layer: 8 | from: -1 | number: 1 | module: <class 'ultralytics.nn.modules.block.C2f'> | args: [1024, 1024, 3, True]\n",
      "  8                  -1  3  17836032  ultralytics.nn.modules.block.C2f             [1024, 1024, 3, True]         \n",
      "Parsing layer: 9 | from: -1 | number: 1 | module: <class 'ultralytics.nn.modules.block.SPPF'> | args: [1024, 1024, 5]\n",
      "  9                  -1  1   2624512  ultralytics.nn.modules.block.SPPF            [1024, 1024, 5]               \n",
      "Parsing layer: 10 | from: -1 | number: 1 | module: <class 'ultralytics.nn.modules.mycbam.myCBAM'> | args: [1024, 1024]\n",
      " 10                  -1  1      2146  ultralytics.nn.modules.mycbam.myCBAM         [1024, 1024]                  \n",
      "Parsing layer: 11 | from: -1 | number: 1 | module: <class 'torch.nn.modules.upsampling.Upsample'> | args: [None, 2, 'nearest']\n",
      " 11                  -1  1         0  torch.nn.modules.upsampling.Upsample         [None, 2, 'nearest']          \n",
      "Parsing layer: 12 | from: [-1, 6] | number: 1 | module: <class 'ultralytics.nn.modules.conv.Concat'> | args: [1]\n",
      " 12             [-1, 6]  1         0  ultralytics.nn.modules.conv.Concat           [1]                           \n",
      "Parsing layer: 13 | from: -1 | number: 1 | module: <class 'ultralytics.nn.modules.block.C2f'> | args: [1536, 512, 3]\n",
      " 13                  -1  3   4985856  ultralytics.nn.modules.block.C2f             [1536, 512, 3]                \n",
      "Parsing layer: 14 | from: -1 | number: 1 | module: <class 'torch.nn.modules.upsampling.Upsample'> | args: [None, 2, 'nearest']\n",
      " 14                  -1  1         0  torch.nn.modules.upsampling.Upsample         [None, 2, 'nearest']          \n",
      "Parsing layer: 15 | from: [-1, 4] | number: 1 | module: <class 'ultralytics.nn.modules.conv.Concat'> | args: [1]\n",
      " 15             [-1, 4]  1         0  ultralytics.nn.modules.conv.Concat           [1]                           \n",
      "Parsing layer: 16 | from: -1 | number: 1 | module: <class 'ultralytics.nn.modules.block.C2f'> | args: [768, 256, 3]\n",
      " 16                  -1  3   1247744  ultralytics.nn.modules.block.C2f             [768, 256, 3]                 \n",
      "Parsing layer: 17 | from: -1 | number: 1 | module: <class 'ultralytics.nn.modules.conv.Conv'> | args: [256, 256, 3, 2]\n",
      " 17                  -1  1    590336  ultralytics.nn.modules.conv.Conv             [256, 256, 3, 2]              \n",
      "Parsing layer: 18 | from: [-1, 6, 12] | number: 1 | module: <class 'ultralytics.nn.modules.bifpn.BiFPN'> | args: [1]\n",
      " 18         [-1, 6, 12]  1         3  ultralytics.nn.modules.bifpn.BiFPN           [1]                           \n",
      "Parsing layer: 19 | from: -1 | number: 1 | module: <class 'ultralytics.nn.modules.block.C2f'> | args: [2304, 512, 3]\n",
      " 19                  -1  3   5379072  ultralytics.nn.modules.block.C2f             [2304, 512, 3]                \n",
      "Parsing layer: 20 | from: -1 | number: 1 | module: <class 'ultralytics.nn.modules.conv.Conv'> | args: [512, 512, 3, 2]\n",
      " 20                  -1  1   2360320  ultralytics.nn.modules.conv.Conv             [512, 512, 3, 2]              \n",
      "Parsing layer: 21 | from: [-1, 9] | number: 1 | module: <class 'ultralytics.nn.modules.conv.Concat'> | args: [1]\n",
      " 21             [-1, 9]  1         0  ultralytics.nn.modules.conv.Concat           [1]                           \n",
      "Parsing layer: 22 | from: -1 | number: 1 | module: <class 'ultralytics.nn.modules.block.C2f'> | args: [1536, 1024, 3]\n",
      " 22                  -1  3  18360320  ultralytics.nn.modules.block.C2f             [1536, 1024, 3]               \n",
      "Parsing layer: 23 | from: [15, 18, 21] | number: 1 | module: <class 'ultralytics.nn.modules.head.Detect'> | args: [1, [768, 2304, 1536]]\n",
      " 23        [15, 18, 21]  1  56784595  ultralytics.nn.modules.head.Detect           [1, [768, 2304, 1536]]        \n",
      "YOLOv8-bifpn-cbam summary: 217 layers, 127,221,368 parameters, 127,221,352 gradients, 422.2 GFLOPs\n",
      "\n",
      "\u001b[34m\u001b[1mTensorBoard: \u001b[0mStart with 'tensorboard --logdir runs\\detect\\train19', view at http://localhost:6006/\n",
      "Freezing layer 'model.23.dfl.conv.weight'\n",
      "\u001b[34m\u001b[1mAMP: \u001b[0mrunning Automatic Mixed Precision (AMP) checks...\n",
      "\u001b[34m\u001b[1mAMP: \u001b[0mchecks passed \n"
     ]
    },
    {
     "name": "stderr",
     "output_type": "stream",
     "text": [
      "\u001b[34m\u001b[1mtrain: \u001b[0mScanning C:\\Users\\dnslab_fox\\Ugur\\PearBagsYolo\\train\\labels.cache... 3907 images, 0 backgrounds, 0 corrupt: 100%|██████████| 3907/3907 [00:00<?, ?it/s]"
     ]
    },
    {
     "name": "stdout",
     "output_type": "stream",
     "text": [
      "\u001b[34m\u001b[1malbumentations: \u001b[0mBlur(p=0.01, blur_limit=(3, 7)), MedianBlur(p=0.01, blur_limit=(3, 7)), ToGray(p=0.01, num_output_channels=3, method='weighted_average'), CLAHE(p=0.01, clip_limit=(1.0, 4.0), tile_grid_size=(8, 8))\n"
     ]
    },
    {
     "name": "stderr",
     "output_type": "stream",
     "text": [
      "\n",
      "\u001b[34m\u001b[1mval: \u001b[0mScanning C:\\Users\\dnslab_fox\\Ugur\\PearBagsYolo\\valid\\labels.cache... 500 images, 0 backgrounds, 0 corrupt: 100%|██████████| 500/500 [00:00<?, ?it/s]\n"
     ]
    },
    {
     "name": "stdout",
     "output_type": "stream",
     "text": [
      "Plotting labels to runs\\detect\\train19\\labels.jpg... \n",
      "\u001b[34m\u001b[1moptimizer:\u001b[0m 'optimizer=auto' found, ignoring 'lr0=0.01' and 'momentum=0.937' and determining best 'optimizer', 'lr0' and 'momentum' automatically... \n",
      "\u001b[34m\u001b[1moptimizer:\u001b[0m AdamW(lr=0.002, momentum=0.9) with parameter groups 97 weight(decay=0.0), 108 weight(decay=0.0005), 103 bias(decay=0.0)\n",
      "\u001b[34m\u001b[1mTensorBoard: \u001b[0mmodel graph visualization added \n",
      "Image sizes 640 train, 640 val\n",
      "Using 8 dataloader workers\n",
      "Logging results to \u001b[1mruns\\detect\\train19\u001b[0m\n",
      "Starting training for 50 epochs...\n",
      "\n",
      "      Epoch    GPU_mem   box_loss   cls_loss   dfl_loss  Instances       Size\n"
     ]
    },
    {
     "name": "stderr",
     "output_type": "stream",
     "text": [
      "       1/50      14.3G      3.183      3.854      1.969         19        640: 100%|██████████| 245/245 [3:24:16<00:00, 50.03s/it]  \n",
      "                 Class     Images  Instances      Box(P          R      mAP50  mAP50-95): 100%|██████████| 16/16 [10:52<00:00, 40.80s/it]"
     ]
    },
    {
     "name": "stdout",
     "output_type": "stream",
     "text": [
      "                   all        500       2176      0.813      0.717      0.796      0.356\n"
     ]
    },
    {
     "name": "stderr",
     "output_type": "stream",
     "text": [
      "\n"
     ]
    },
    {
     "name": "stdout",
     "output_type": "stream",
     "text": [
      "\n",
      "      Epoch    GPU_mem   box_loss   cls_loss   dfl_loss  Instances       Size\n"
     ]
    },
    {
     "name": "stderr",
     "output_type": "stream",
     "text": [
      "       2/50      13.3G      1.923       1.26      1.212         14        640: 100%|██████████| 245/245 [3:23:29<00:00, 49.84s/it]  \n",
      "                 Class     Images  Instances      Box(P          R      mAP50  mAP50-95): 100%|██████████| 16/16 [05:08<00:00, 19.25s/it]"
     ]
    },
    {
     "name": "stdout",
     "output_type": "stream",
     "text": [
      "                   all        500       2176      0.873      0.786      0.876      0.464\n"
     ]
    },
    {
     "name": "stderr",
     "output_type": "stream",
     "text": [
      "\n"
     ]
    },
    {
     "name": "stdout",
     "output_type": "stream",
     "text": [
      "\n",
      "      Epoch    GPU_mem   box_loss   cls_loss   dfl_loss  Instances       Size\n"
     ]
    },
    {
     "name": "stderr",
     "output_type": "stream",
     "text": [
      "       3/50      13.4G      1.738      1.067      1.141          9        640: 100%|██████████| 245/245 [2:45:48<00:00, 40.60s/it]  \n",
      "                 Class     Images  Instances      Box(P          R      mAP50  mAP50-95): 100%|██████████| 16/16 [10:19<00:00, 38.70s/it]"
     ]
    },
    {
     "name": "stdout",
     "output_type": "stream",
     "text": [
      "                   all        500       2176      0.862      0.818      0.901      0.492\n"
     ]
    },
    {
     "name": "stderr",
     "output_type": "stream",
     "text": [
      "\n"
     ]
    },
    {
     "name": "stdout",
     "output_type": "stream",
     "text": [
      "\n",
      "      Epoch    GPU_mem   box_loss   cls_loss   dfl_loss  Instances       Size\n"
     ]
    },
    {
     "name": "stderr",
     "output_type": "stream",
     "text": [
      "       4/50      13.5G      1.606     0.9388       1.09         25        640: 100%|██████████| 245/245 [3:06:28<00:00, 45.67s/it]  \n",
      "                 Class     Images  Instances      Box(P          R      mAP50  mAP50-95): 100%|██████████| 16/16 [05:01<00:00, 18.84s/it]"
     ]
    },
    {
     "name": "stdout",
     "output_type": "stream",
     "text": [
      "                   all        500       2176      0.868      0.816      0.896       0.51\n"
     ]
    },
    {
     "name": "stderr",
     "output_type": "stream",
     "text": [
      "\n"
     ]
    },
    {
     "name": "stdout",
     "output_type": "stream",
     "text": [
      "\n",
      "      Epoch    GPU_mem   box_loss   cls_loss   dfl_loss  Instances       Size\n"
     ]
    },
    {
     "name": "stderr",
     "output_type": "stream",
     "text": [
      "       5/50      13.5G      1.526     0.8504      1.064         16        640: 100%|██████████| 245/245 [2:47:35<00:00, 41.04s/it]  \n",
      "                 Class     Images  Instances      Box(P          R      mAP50  mAP50-95): 100%|██████████| 16/16 [09:35<00:00, 36.00s/it]"
     ]
    },
    {
     "name": "stdout",
     "output_type": "stream",
     "text": [
      "                   all        500       2176      0.867      0.887      0.937      0.569\n"
     ]
    },
    {
     "name": "stderr",
     "output_type": "stream",
     "text": [
      "\n"
     ]
    },
    {
     "name": "stdout",
     "output_type": "stream",
     "text": [
      "\n",
      "      Epoch    GPU_mem   box_loss   cls_loss   dfl_loss  Instances       Size\n"
     ]
    },
    {
     "name": "stderr",
     "output_type": "stream",
     "text": [
      "       6/50      13.4G       1.47        0.8      1.047         22        640: 100%|██████████| 245/245 [3:04:22<00:00, 45.15s/it]  \n",
      "                 Class     Images  Instances      Box(P          R      mAP50  mAP50-95): 100%|██████████| 16/16 [05:40<00:00, 21.29s/it]"
     ]
    },
    {
     "name": "stdout",
     "output_type": "stream",
     "text": [
      "                   all        500       2176      0.868      0.882      0.923      0.548\n"
     ]
    },
    {
     "name": "stderr",
     "output_type": "stream",
     "text": [
      "\n"
     ]
    },
    {
     "name": "stdout",
     "output_type": "stream",
     "text": [
      "\n",
      "      Epoch    GPU_mem   box_loss   cls_loss   dfl_loss  Instances       Size\n"
     ]
    },
    {
     "name": "stderr",
     "output_type": "stream",
     "text": [
      "       7/50      13.5G      1.406     0.7623      1.029         15        640: 100%|██████████| 245/245 [2:47:00<00:00, 40.90s/it]  \n",
      "                 Class     Images  Instances      Box(P          R      mAP50  mAP50-95): 100%|██████████| 16/16 [08:38<00:00, 32.42s/it]"
     ]
    },
    {
     "name": "stdout",
     "output_type": "stream",
     "text": [
      "                   all        500       2176      0.897      0.883      0.953      0.599\n"
     ]
    },
    {
     "name": "stderr",
     "output_type": "stream",
     "text": [
      "\n"
     ]
    },
    {
     "name": "stdout",
     "output_type": "stream",
     "text": [
      "\n",
      "      Epoch    GPU_mem   box_loss   cls_loss   dfl_loss  Instances       Size\n"
     ]
    },
    {
     "name": "stderr",
     "output_type": "stream",
     "text": [
      "       8/50      13.5G      1.376     0.7274      1.015         10        640: 100%|██████████| 245/245 [3:08:54<00:00, 46.27s/it]  \n",
      "                 Class     Images  Instances      Box(P          R      mAP50  mAP50-95): 100%|██████████| 16/16 [05:10<00:00, 19.40s/it]"
     ]
    },
    {
     "name": "stdout",
     "output_type": "stream",
     "text": [
      "                   all        500       2176      0.894      0.909      0.957      0.607\n"
     ]
    },
    {
     "name": "stderr",
     "output_type": "stream",
     "text": [
      "\n"
     ]
    },
    {
     "name": "stdout",
     "output_type": "stream",
     "text": [
      "\n",
      "      Epoch    GPU_mem   box_loss   cls_loss   dfl_loss  Instances       Size\n"
     ]
    },
    {
     "name": "stderr",
     "output_type": "stream",
     "text": [
      "       9/50      13.5G      1.346     0.7028      1.008         15        640: 100%|██████████| 245/245 [2:47:40<00:00, 41.06s/it]  \n",
      "                 Class     Images  Instances      Box(P          R      mAP50  mAP50-95): 100%|██████████| 16/16 [09:22<00:00, 35.14s/it]"
     ]
    },
    {
     "name": "stdout",
     "output_type": "stream",
     "text": [
      "                   all        500       2176      0.899      0.905      0.959      0.613\n"
     ]
    },
    {
     "name": "stderr",
     "output_type": "stream",
     "text": [
      "\n"
     ]
    },
    {
     "name": "stdout",
     "output_type": "stream",
     "text": [
      "\n",
      "      Epoch    GPU_mem   box_loss   cls_loss   dfl_loss  Instances       Size\n"
     ]
    },
    {
     "name": "stderr",
     "output_type": "stream",
     "text": [
      "      10/50      13.4G      1.317     0.6844     0.9913         12        640: 100%|██████████| 245/245 [3:19:09<00:00, 48.77s/it]  \n",
      "                 Class     Images  Instances      Box(P          R      mAP50  mAP50-95): 100%|██████████| 16/16 [05:18<00:00, 19.92s/it]"
     ]
    },
    {
     "name": "stdout",
     "output_type": "stream",
     "text": [
      "                   all        500       2176      0.909      0.902      0.963      0.588\n"
     ]
    },
    {
     "name": "stderr",
     "output_type": "stream",
     "text": [
      "\n"
     ]
    },
    {
     "name": "stdout",
     "output_type": "stream",
     "text": [
      "\n",
      "      Epoch    GPU_mem   box_loss   cls_loss   dfl_loss  Instances       Size\n"
     ]
    },
    {
     "name": "stderr",
     "output_type": "stream",
     "text": [
      "      11/50      13.5G      1.281      0.662     0.9887         11        640: 100%|██████████| 245/245 [3:06:40<00:00, 45.72s/it]  \n",
      "                 Class     Images  Instances      Box(P          R      mAP50  mAP50-95): 100%|██████████| 16/16 [10:06<00:00, 37.91s/it]"
     ]
    },
    {
     "name": "stdout",
     "output_type": "stream",
     "text": [
      "                   all        500       2176      0.917      0.911       0.97      0.644\n"
     ]
    },
    {
     "name": "stderr",
     "output_type": "stream",
     "text": [
      "\n"
     ]
    },
    {
     "name": "stdout",
     "output_type": "stream",
     "text": [
      "\n",
      "      Epoch    GPU_mem   box_loss   cls_loss   dfl_loss  Instances       Size\n"
     ]
    },
    {
     "name": "stderr",
     "output_type": "stream",
     "text": [
      "      12/50      13.5G       1.27     0.6437     0.9826         18        640: 100%|██████████| 245/245 [2:54:06<00:00, 42.64s/it]  \n",
      "                 Class     Images  Instances      Box(P          R      mAP50  mAP50-95): 100%|██████████| 16/16 [04:38<00:00, 17.40s/it]"
     ]
    },
    {
     "name": "stdout",
     "output_type": "stream",
     "text": [
      "                   all        500       2176      0.921      0.906       0.97      0.632\n"
     ]
    },
    {
     "name": "stderr",
     "output_type": "stream",
     "text": [
      "\n"
     ]
    },
    {
     "name": "stdout",
     "output_type": "stream",
     "text": [
      "\n",
      "      Epoch    GPU_mem   box_loss   cls_loss   dfl_loss  Instances       Size\n"
     ]
    },
    {
     "name": "stderr",
     "output_type": "stream",
     "text": [
      "      13/50      13.5G       1.24     0.6205     0.9711         13        640: 100%|██████████| 245/245 [3:05:21<00:00, 45.39s/it]  \n",
      "                 Class     Images  Instances      Box(P          R      mAP50  mAP50-95): 100%|██████████| 16/16 [09:28<00:00, 35.50s/it]"
     ]
    },
    {
     "name": "stdout",
     "output_type": "stream",
     "text": [
      "                   all        500       2176      0.922      0.926      0.974      0.647\n"
     ]
    },
    {
     "name": "stderr",
     "output_type": "stream",
     "text": [
      "\n"
     ]
    },
    {
     "name": "stdout",
     "output_type": "stream",
     "text": [
      "\n",
      "      Epoch    GPU_mem   box_loss   cls_loss   dfl_loss  Instances       Size\n"
     ]
    },
    {
     "name": "stderr",
     "output_type": "stream",
     "text": [
      "      14/50      13.4G      1.228     0.6183     0.9717         11        640: 100%|██████████| 245/245 [3:17:21<00:00, 48.33s/it]  \n",
      "                 Class     Images  Instances      Box(P          R      mAP50  mAP50-95): 100%|██████████| 16/16 [05:22<00:00, 20.13s/it]"
     ]
    },
    {
     "name": "stdout",
     "output_type": "stream",
     "text": [
      "                   all        500       2176      0.901      0.921      0.964      0.642\n"
     ]
    },
    {
     "name": "stderr",
     "output_type": "stream",
     "text": [
      "\n"
     ]
    },
    {
     "name": "stdout",
     "output_type": "stream",
     "text": [
      "\n",
      "      Epoch    GPU_mem   box_loss   cls_loss   dfl_loss  Instances       Size\n"
     ]
    },
    {
     "name": "stderr",
     "output_type": "stream",
     "text": [
      "      15/50      13.5G       1.22     0.6104     0.9694         15        640: 100%|██████████| 245/245 [2:43:06<00:00, 39.95s/it]  \n",
      "                 Class     Images  Instances      Box(P          R      mAP50  mAP50-95): 100%|██████████| 16/16 [09:48<00:00, 36.80s/it]"
     ]
    },
    {
     "name": "stdout",
     "output_type": "stream",
     "text": [
      "                   all        500       2176      0.926      0.942      0.977      0.663\n"
     ]
    },
    {
     "name": "stderr",
     "output_type": "stream",
     "text": [
      "\n"
     ]
    },
    {
     "name": "stdout",
     "output_type": "stream",
     "text": [
      "\n",
      "      Epoch    GPU_mem   box_loss   cls_loss   dfl_loss  Instances       Size\n"
     ]
    },
    {
     "name": "stderr",
     "output_type": "stream",
     "text": [
      "      16/50      13.5G      1.198     0.5921     0.9585         14        640: 100%|██████████| 245/245 [2:51:32<00:00, 42.01s/it]  \n",
      "                 Class     Images  Instances      Box(P          R      mAP50  mAP50-95): 100%|██████████| 16/16 [05:15<00:00, 19.74s/it]"
     ]
    },
    {
     "name": "stdout",
     "output_type": "stream",
     "text": [
      "                   all        500       2176      0.942      0.917      0.977      0.665\n"
     ]
    },
    {
     "name": "stderr",
     "output_type": "stream",
     "text": [
      "\n"
     ]
    },
    {
     "name": "stdout",
     "output_type": "stream",
     "text": [
      "\n",
      "      Epoch    GPU_mem   box_loss   cls_loss   dfl_loss  Instances       Size\n"
     ]
    },
    {
     "name": "stderr",
     "output_type": "stream",
     "text": [
      "      17/50      13.5G      1.178     0.5854     0.9559         10        640: 100%|██████████| 245/245 [2:48:33<00:00, 41.28s/it]  \n",
      "                 Class     Images  Instances      Box(P          R      mAP50  mAP50-95): 100%|██████████| 16/16 [10:11<00:00, 38.21s/it]"
     ]
    },
    {
     "name": "stdout",
     "output_type": "stream",
     "text": [
      "                   all        500       2176      0.933      0.938      0.976      0.658\n"
     ]
    },
    {
     "name": "stderr",
     "output_type": "stream",
     "text": [
      "\n"
     ]
    },
    {
     "name": "stdout",
     "output_type": "stream",
     "text": [
      "\n",
      "      Epoch    GPU_mem   box_loss   cls_loss   dfl_loss  Instances       Size\n"
     ]
    },
    {
     "name": "stderr",
     "output_type": "stream",
     "text": [
      "      18/50      13.4G      1.156     0.5649     0.9518         25        640: 100%|██████████| 245/245 [2:35:20<00:00, 38.04s/it]  \n",
      "                 Class     Images  Instances      Box(P          R      mAP50  mAP50-95): 100%|██████████| 16/16 [05:21<00:00, 20.08s/it]"
     ]
    },
    {
     "name": "stdout",
     "output_type": "stream",
     "text": [
      "                   all        500       2176      0.934      0.925      0.977      0.688\n"
     ]
    },
    {
     "name": "stderr",
     "output_type": "stream",
     "text": [
      "\n"
     ]
    },
    {
     "name": "stdout",
     "output_type": "stream",
     "text": [
      "\n",
      "      Epoch    GPU_mem   box_loss   cls_loss   dfl_loss  Instances       Size\n"
     ]
    },
    {
     "name": "stderr",
     "output_type": "stream",
     "text": [
      "      19/50      13.5G      1.141     0.5554     0.9462         13        640: 100%|██████████| 245/245 [2:50:16<00:00, 41.70s/it]  \n",
      "                 Class     Images  Instances      Box(P          R      mAP50  mAP50-95): 100%|██████████| 16/16 [10:08<00:00, 38.03s/it]"
     ]
    },
    {
     "name": "stdout",
     "output_type": "stream",
     "text": [
      "                   all        500       2176      0.934      0.939      0.979      0.671\n"
     ]
    },
    {
     "name": "stderr",
     "output_type": "stream",
     "text": [
      "\n"
     ]
    },
    {
     "name": "stdout",
     "output_type": "stream",
     "text": [
      "\n",
      "      Epoch    GPU_mem   box_loss   cls_loss   dfl_loss  Instances       Size\n"
     ]
    },
    {
     "name": "stderr",
     "output_type": "stream",
     "text": [
      "      20/50      13.5G      1.138     0.5504     0.9479         11        640: 100%|██████████| 245/245 [3:19:38<00:00, 48.89s/it]  \n",
      "                 Class     Images  Instances      Box(P          R      mAP50  mAP50-95): 100%|██████████| 16/16 [05:30<00:00, 20.63s/it]"
     ]
    },
    {
     "name": "stdout",
     "output_type": "stream",
     "text": [
      "                   all        500       2176      0.932       0.95      0.982      0.689\n"
     ]
    },
    {
     "name": "stderr",
     "output_type": "stream",
     "text": [
      "\n"
     ]
    },
    {
     "name": "stdout",
     "output_type": "stream",
     "text": [
      "\n",
      "      Epoch    GPU_mem   box_loss   cls_loss   dfl_loss  Instances       Size\n"
     ]
    },
    {
     "name": "stderr",
     "output_type": "stream",
     "text": [
      "      21/50      13.5G      1.117     0.5402     0.9337         19        640: 100%|██████████| 245/245 [2:52:17<00:00, 42.20s/it]  \n",
      "                 Class     Images  Instances      Box(P          R      mAP50  mAP50-95): 100%|██████████| 16/16 [08:52<00:00, 33.27s/it]"
     ]
    },
    {
     "name": "stdout",
     "output_type": "stream",
     "text": [
      "                   all        500       2176      0.941      0.951      0.984      0.695\n"
     ]
    },
    {
     "name": "stderr",
     "output_type": "stream",
     "text": [
      "\n"
     ]
    },
    {
     "name": "stdout",
     "output_type": "stream",
     "text": [
      "\n",
      "      Epoch    GPU_mem   box_loss   cls_loss   dfl_loss  Instances       Size\n"
     ]
    },
    {
     "name": "stderr",
     "output_type": "stream",
     "text": [
      "      22/50      13.4G      1.107     0.5341     0.9304          8        640: 100%|██████████| 245/245 [2:56:37<00:00, 43.25s/it]  \n",
      "                 Class     Images  Instances      Box(P          R      mAP50  mAP50-95): 100%|██████████| 16/16 [05:22<00:00, 20.13s/it]"
     ]
    },
    {
     "name": "stdout",
     "output_type": "stream",
     "text": [
      "                   all        500       2176      0.942      0.948      0.984      0.707\n"
     ]
    },
    {
     "name": "stderr",
     "output_type": "stream",
     "text": [
      "\n"
     ]
    },
    {
     "name": "stdout",
     "output_type": "stream",
     "text": [
      "\n",
      "      Epoch    GPU_mem   box_loss   cls_loss   dfl_loss  Instances       Size\n"
     ]
    },
    {
     "name": "stderr",
     "output_type": "stream",
     "text": [
      "      23/50      13.5G      1.097     0.5212     0.9309         16        640: 100%|██████████| 245/245 [2:39:14<00:00, 39.00s/it]  \n",
      "                 Class     Images  Instances      Box(P          R      mAP50  mAP50-95): 100%|██████████| 16/16 [08:54<00:00, 33.43s/it]"
     ]
    },
    {
     "name": "stdout",
     "output_type": "stream",
     "text": [
      "                   all        500       2176      0.954      0.951      0.985       0.71\n"
     ]
    },
    {
     "name": "stderr",
     "output_type": "stream",
     "text": [
      "\n"
     ]
    },
    {
     "name": "stdout",
     "output_type": "stream",
     "text": [
      "\n",
      "      Epoch    GPU_mem   box_loss   cls_loss   dfl_loss  Instances       Size\n"
     ]
    },
    {
     "name": "stderr",
     "output_type": "stream",
     "text": [
      "      24/50      13.5G      1.081     0.5184      0.924         12        640: 100%|██████████| 245/245 [2:39:23<00:00, 39.04s/it]  \n",
      "                 Class     Images  Instances      Box(P          R      mAP50  mAP50-95): 100%|██████████| 16/16 [05:39<00:00, 21.24s/it]"
     ]
    },
    {
     "name": "stdout",
     "output_type": "stream",
     "text": [
      "                   all        500       2176      0.925       0.96      0.979      0.704\n"
     ]
    },
    {
     "name": "stderr",
     "output_type": "stream",
     "text": [
      "\n"
     ]
    },
    {
     "name": "stdout",
     "output_type": "stream",
     "text": [
      "\n",
      "      Epoch    GPU_mem   box_loss   cls_loss   dfl_loss  Instances       Size\n"
     ]
    },
    {
     "name": "stderr",
     "output_type": "stream",
     "text": [
      "      25/50      13.5G      1.074     0.5115     0.9261         17        640: 100%|██████████| 245/245 [2:46:27<00:00, 40.76s/it]  \n",
      "                 Class     Images  Instances      Box(P          R      mAP50  mAP50-95): 100%|██████████| 16/16 [11:42<00:00, 43.91s/it]"
     ]
    },
    {
     "name": "stdout",
     "output_type": "stream",
     "text": [
      "                   all        500       2176      0.952      0.947      0.984      0.697\n"
     ]
    },
    {
     "name": "stderr",
     "output_type": "stream",
     "text": [
      "\n"
     ]
    },
    {
     "name": "stdout",
     "output_type": "stream",
     "text": [
      "\n",
      "      Epoch    GPU_mem   box_loss   cls_loss   dfl_loss  Instances       Size\n"
     ]
    },
    {
     "name": "stderr",
     "output_type": "stream",
     "text": [
      "      26/50      13.4G      1.062     0.5006      0.921         13        640: 100%|██████████| 245/245 [2:51:47<00:00, 42.07s/it]  \n",
      "                 Class     Images  Instances      Box(P          R      mAP50  mAP50-95): 100%|██████████| 16/16 [04:58<00:00, 18.63s/it]"
     ]
    },
    {
     "name": "stdout",
     "output_type": "stream",
     "text": [
      "                   all        500       2176      0.949      0.961      0.986      0.722\n"
     ]
    },
    {
     "name": "stderr",
     "output_type": "stream",
     "text": [
      "\n"
     ]
    },
    {
     "name": "stdout",
     "output_type": "stream",
     "text": [
      "\n",
      "      Epoch    GPU_mem   box_loss   cls_loss   dfl_loss  Instances       Size\n"
     ]
    },
    {
     "name": "stderr",
     "output_type": "stream",
     "text": [
      "      27/50      13.5G      1.057     0.4954     0.9178         16        640: 100%|██████████| 245/245 [2:54:26<00:00, 42.72s/it]  \n",
      "                 Class     Images  Instances      Box(P          R      mAP50  mAP50-95): 100%|██████████| 16/16 [10:31<00:00, 39.46s/it]"
     ]
    },
    {
     "name": "stdout",
     "output_type": "stream",
     "text": [
      "                   all        500       2176      0.948      0.957      0.983      0.708\n"
     ]
    },
    {
     "name": "stderr",
     "output_type": "stream",
     "text": [
      "\n"
     ]
    },
    {
     "name": "stdout",
     "output_type": "stream",
     "text": [
      "\n",
      "      Epoch    GPU_mem   box_loss   cls_loss   dfl_loss  Instances       Size\n"
     ]
    },
    {
     "name": "stderr",
     "output_type": "stream",
     "text": [
      "      28/50      13.5G      1.052     0.4969     0.9204         27        640: 100%|██████████| 245/245 [2:45:24<00:00, 40.51s/it]  \n",
      "                 Class     Images  Instances      Box(P          R      mAP50  mAP50-95): 100%|██████████| 16/16 [04:48<00:00, 18.04s/it]"
     ]
    },
    {
     "name": "stdout",
     "output_type": "stream",
     "text": [
      "                   all        500       2176      0.949       0.96      0.986      0.711\n"
     ]
    },
    {
     "name": "stderr",
     "output_type": "stream",
     "text": [
      "\n"
     ]
    },
    {
     "name": "stdout",
     "output_type": "stream",
     "text": [
      "\n",
      "      Epoch    GPU_mem   box_loss   cls_loss   dfl_loss  Instances       Size\n"
     ]
    },
    {
     "name": "stderr",
     "output_type": "stream",
     "text": [
      "      29/50      13.5G      1.039     0.4852     0.9158         11        640: 100%|██████████| 245/245 [2:52:43<00:00, 42.30s/it]  \n",
      "                 Class     Images  Instances      Box(P          R      mAP50  mAP50-95): 100%|██████████| 16/16 [09:23<00:00, 35.20s/it]"
     ]
    },
    {
     "name": "stdout",
     "output_type": "stream",
     "text": [
      "                   all        500       2176      0.944      0.965      0.985      0.721\n"
     ]
    },
    {
     "name": "stderr",
     "output_type": "stream",
     "text": [
      "\n"
     ]
    },
    {
     "name": "stdout",
     "output_type": "stream",
     "text": [
      "\n",
      "      Epoch    GPU_mem   box_loss   cls_loss   dfl_loss  Instances       Size\n"
     ]
    },
    {
     "name": "stderr",
     "output_type": "stream",
     "text": [
      "      30/50      13.4G      1.022     0.4813     0.9128         16        640: 100%|██████████| 245/245 [2:37:57<00:00, 38.68s/it]  \n",
      "                 Class     Images  Instances      Box(P          R      mAP50  mAP50-95): 100%|██████████| 16/16 [05:35<00:00, 20.95s/it]"
     ]
    },
    {
     "name": "stdout",
     "output_type": "stream",
     "text": [
      "                   all        500       2176      0.957      0.955      0.986      0.718\n"
     ]
    },
    {
     "name": "stderr",
     "output_type": "stream",
     "text": [
      "\n"
     ]
    },
    {
     "name": "stdout",
     "output_type": "stream",
     "text": [
      "\n",
      "      Epoch    GPU_mem   box_loss   cls_loss   dfl_loss  Instances       Size\n"
     ]
    },
    {
     "name": "stderr",
     "output_type": "stream",
     "text": [
      "      31/50      13.5G      1.017     0.4729     0.9087         11        640: 100%|██████████| 245/245 [2:40:07<00:00, 39.22s/it]  \n",
      "                 Class     Images  Instances      Box(P          R      mAP50  mAP50-95): 100%|██████████| 16/16 [09:29<00:00, 35.61s/it]"
     ]
    },
    {
     "name": "stdout",
     "output_type": "stream",
     "text": [
      "                   all        500       2176      0.949      0.969      0.988      0.728\n"
     ]
    },
    {
     "name": "stderr",
     "output_type": "stream",
     "text": [
      "\n"
     ]
    },
    {
     "name": "stdout",
     "output_type": "stream",
     "text": [
      "\n",
      "      Epoch    GPU_mem   box_loss   cls_loss   dfl_loss  Instances       Size\n"
     ]
    },
    {
     "name": "stderr",
     "output_type": "stream",
     "text": [
      "      32/50      13.5G      1.007     0.4705     0.9088         13        640: 100%|██████████| 245/245 [2:39:09<00:00, 38.98s/it]  \n",
      "                 Class     Images  Instances      Box(P          R      mAP50  mAP50-95): 100%|██████████| 16/16 [05:10<00:00, 19.39s/it]"
     ]
    },
    {
     "name": "stdout",
     "output_type": "stream",
     "text": [
      "                   all        500       2176      0.949      0.968      0.986      0.719\n"
     ]
    },
    {
     "name": "stderr",
     "output_type": "stream",
     "text": [
      "\n"
     ]
    },
    {
     "name": "stdout",
     "output_type": "stream",
     "text": [
      "\n",
      "      Epoch    GPU_mem   box_loss   cls_loss   dfl_loss  Instances       Size\n"
     ]
    },
    {
     "name": "stderr",
     "output_type": "stream",
     "text": [
      "      33/50      13.5G     0.9929     0.4592      0.904         22        640: 100%|██████████| 245/245 [2:54:24<00:00, 42.71s/it]  \n",
      "                 Class     Images  Instances      Box(P          R      mAP50  mAP50-95): 100%|██████████| 16/16 [09:31<00:00, 35.71s/it]"
     ]
    },
    {
     "name": "stdout",
     "output_type": "stream",
     "text": [
      "                   all        500       2176      0.957      0.965      0.988      0.734\n"
     ]
    },
    {
     "name": "stderr",
     "output_type": "stream",
     "text": [
      "\n"
     ]
    },
    {
     "name": "stdout",
     "output_type": "stream",
     "text": [
      "\n",
      "      Epoch    GPU_mem   box_loss   cls_loss   dfl_loss  Instances       Size\n"
     ]
    },
    {
     "name": "stderr",
     "output_type": "stream",
     "text": [
      "      34/50      13.3G     0.9957     0.4614     0.9043          9        640: 100%|██████████| 245/245 [3:03:30<00:00, 44.94s/it]  \n",
      "                 Class     Images  Instances      Box(P          R      mAP50  mAP50-95): 100%|██████████| 16/16 [05:27<00:00, 20.44s/it]"
     ]
    },
    {
     "name": "stdout",
     "output_type": "stream",
     "text": [
      "                   all        500       2176       0.95      0.974      0.988       0.73\n"
     ]
    },
    {
     "name": "stderr",
     "output_type": "stream",
     "text": [
      "\n"
     ]
    },
    {
     "name": "stdout",
     "output_type": "stream",
     "text": [
      "\n",
      "      Epoch    GPU_mem   box_loss   cls_loss   dfl_loss  Instances       Size\n"
     ]
    },
    {
     "name": "stderr",
     "output_type": "stream",
     "text": [
      "      35/50      13.5G     0.9849     0.4539     0.9013          7        640: 100%|██████████| 245/245 [2:45:48<00:00, 40.61s/it]  \n",
      "                 Class     Images  Instances      Box(P          R      mAP50  mAP50-95): 100%|██████████| 16/16 [09:51<00:00, 36.99s/it]"
     ]
    },
    {
     "name": "stdout",
     "output_type": "stream",
     "text": [
      "                   all        500       2176      0.953      0.972      0.989      0.737\n"
     ]
    },
    {
     "name": "stderr",
     "output_type": "stream",
     "text": [
      "\n"
     ]
    },
    {
     "name": "stdout",
     "output_type": "stream",
     "text": [
      "\n",
      "      Epoch    GPU_mem   box_loss   cls_loss   dfl_loss  Instances       Size\n"
     ]
    },
    {
     "name": "stderr",
     "output_type": "stream",
     "text": [
      "      36/50      13.5G     0.9808     0.4483     0.8992         18        640: 100%|██████████| 245/245 [2:55:48<00:00, 43.06s/it]  \n",
      "                 Class     Images  Instances      Box(P          R      mAP50  mAP50-95): 100%|██████████| 16/16 [05:12<00:00, 19.53s/it]"
     ]
    },
    {
     "name": "stdout",
     "output_type": "stream",
     "text": [
      "                   all        500       2176      0.965       0.97      0.989      0.727\n"
     ]
    },
    {
     "name": "stderr",
     "output_type": "stream",
     "text": [
      "\n"
     ]
    },
    {
     "name": "stdout",
     "output_type": "stream",
     "text": [
      "\n",
      "      Epoch    GPU_mem   box_loss   cls_loss   dfl_loss  Instances       Size\n"
     ]
    },
    {
     "name": "stderr",
     "output_type": "stream",
     "text": [
      "      37/50      13.5G     0.9654     0.4427     0.8982         29        640: 100%|██████████| 245/245 [2:42:03<00:00, 39.69s/it]  \n",
      "                 Class     Images  Instances      Box(P          R      mAP50  mAP50-95): 100%|██████████| 16/16 [09:55<00:00, 37.21s/it]"
     ]
    },
    {
     "name": "stdout",
     "output_type": "stream",
     "text": [
      "                   all        500       2176      0.954      0.972      0.989      0.733\n"
     ]
    },
    {
     "name": "stderr",
     "output_type": "stream",
     "text": [
      "\n"
     ]
    },
    {
     "name": "stdout",
     "output_type": "stream",
     "text": [
      "\n",
      "      Epoch    GPU_mem   box_loss   cls_loss   dfl_loss  Instances       Size\n"
     ]
    },
    {
     "name": "stderr",
     "output_type": "stream",
     "text": [
      "      38/50      13.4G     0.9571     0.4357     0.8967         21        640: 100%|██████████| 245/245 [2:33:52<00:00, 37.68s/it]  \n",
      "                 Class     Images  Instances      Box(P          R      mAP50  mAP50-95): 100%|██████████| 16/16 [05:24<00:00, 20.26s/it]"
     ]
    },
    {
     "name": "stdout",
     "output_type": "stream",
     "text": [
      "                   all        500       2176      0.959      0.973      0.988      0.736\n"
     ]
    },
    {
     "name": "stderr",
     "output_type": "stream",
     "text": [
      "\n"
     ]
    },
    {
     "name": "stdout",
     "output_type": "stream",
     "text": [
      "\n",
      "      Epoch    GPU_mem   box_loss   cls_loss   dfl_loss  Instances       Size\n"
     ]
    },
    {
     "name": "stderr",
     "output_type": "stream",
     "text": [
      "      39/50      13.5G     0.9551     0.4339     0.8911         25        640: 100%|██████████| 245/245 [2:50:08<00:00, 41.67s/it]  \n",
      "                 Class     Images  Instances      Box(P          R      mAP50  mAP50-95): 100%|██████████| 16/16 [08:47<00:00, 32.97s/it]"
     ]
    },
    {
     "name": "stdout",
     "output_type": "stream",
     "text": [
      "                   all        500       2176      0.962      0.971      0.989      0.748\n"
     ]
    },
    {
     "name": "stderr",
     "output_type": "stream",
     "text": [
      "\n"
     ]
    },
    {
     "name": "stdout",
     "output_type": "stream",
     "text": [
      "\n",
      "      Epoch    GPU_mem   box_loss   cls_loss   dfl_loss  Instances       Size\n"
     ]
    },
    {
     "name": "stderr",
     "output_type": "stream",
     "text": [
      "      40/50      13.5G     0.9459     0.4291     0.8908         16        640: 100%|██████████| 245/245 [3:04:21<00:00, 45.15s/it]  \n",
      "                 Class     Images  Instances      Box(P          R      mAP50  mAP50-95): 100%|██████████| 16/16 [05:05<00:00, 19.08s/it]"
     ]
    },
    {
     "name": "stdout",
     "output_type": "stream",
     "text": [
      "                   all        500       2176      0.959      0.979      0.989       0.75\n"
     ]
    },
    {
     "name": "stderr",
     "output_type": "stream",
     "text": [
      "\n"
     ]
    },
    {
     "name": "stdout",
     "output_type": "stream",
     "text": [
      "Closing dataloader mosaic\n",
      "\u001b[34m\u001b[1malbumentations: \u001b[0mBlur(p=0.01, blur_limit=(3, 7)), MedianBlur(p=0.01, blur_limit=(3, 7)), ToGray(p=0.01, num_output_channels=3, method='weighted_average'), CLAHE(p=0.01, clip_limit=(1.0, 4.0), tile_grid_size=(8, 8))\n",
      "\n",
      "      Epoch    GPU_mem   box_loss   cls_loss   dfl_loss  Instances       Size\n"
     ]
    },
    {
     "name": "stderr",
     "output_type": "stream",
     "text": [
      "      41/50      13.5G     0.9474     0.4168     0.9028         12        640: 100%|██████████| 245/245 [2:59:30<00:00, 43.96s/it]  \n",
      "                 Class     Images  Instances      Box(P          R      mAP50  mAP50-95): 100%|██████████| 16/16 [09:19<00:00, 34.95s/it]"
     ]
    },
    {
     "name": "stdout",
     "output_type": "stream",
     "text": [
      "                   all        500       2176      0.956      0.973      0.989      0.747\n"
     ]
    },
    {
     "name": "stderr",
     "output_type": "stream",
     "text": [
      "\n"
     ]
    },
    {
     "name": "stdout",
     "output_type": "stream",
     "text": [
      "\n",
      "      Epoch    GPU_mem   box_loss   cls_loss   dfl_loss  Instances       Size\n"
     ]
    },
    {
     "name": "stderr",
     "output_type": "stream",
     "text": [
      "      42/50      13.4G     0.9345     0.4127     0.8984         14        640: 100%|██████████| 245/245 [2:44:43<00:00, 40.34s/it]  \n",
      "                 Class     Images  Instances      Box(P          R      mAP50  mAP50-95): 100%|██████████| 16/16 [04:53<00:00, 18.36s/it]"
     ]
    },
    {
     "name": "stdout",
     "output_type": "stream",
     "text": [
      "                   all        500       2176      0.958      0.973      0.988       0.75\n"
     ]
    },
    {
     "name": "stderr",
     "output_type": "stream",
     "text": [
      "\n"
     ]
    },
    {
     "name": "stdout",
     "output_type": "stream",
     "text": [
      "\n",
      "      Epoch    GPU_mem   box_loss   cls_loss   dfl_loss  Instances       Size\n"
     ]
    },
    {
     "name": "stderr",
     "output_type": "stream",
     "text": [
      "      43/50      13.5G     0.9209     0.3999     0.8957         13        640: 100%|██████████| 245/245 [2:53:12<00:00, 42.42s/it]  \n",
      "                 Class     Images  Instances      Box(P          R      mAP50  mAP50-95): 100%|██████████| 16/16 [09:53<00:00, 37.11s/it]"
     ]
    },
    {
     "name": "stdout",
     "output_type": "stream",
     "text": [
      "                   all        500       2176      0.952      0.971      0.984      0.737\n"
     ]
    },
    {
     "name": "stderr",
     "output_type": "stream",
     "text": [
      "\n"
     ]
    },
    {
     "name": "stdout",
     "output_type": "stream",
     "text": [
      "\n",
      "      Epoch    GPU_mem   box_loss   cls_loss   dfl_loss  Instances       Size\n"
     ]
    },
    {
     "name": "stderr",
     "output_type": "stream",
     "text": [
      "      44/50      13.5G      0.915     0.3958     0.8937         17        640: 100%|██████████| 245/245 [3:07:16<00:00, 45.86s/it]  \n",
      "                 Class     Images  Instances      Box(P          R      mAP50  mAP50-95): 100%|██████████| 16/16 [05:01<00:00, 18.86s/it]"
     ]
    },
    {
     "name": "stdout",
     "output_type": "stream",
     "text": [
      "                   all        500       2176      0.948      0.971      0.984      0.751\n"
     ]
    },
    {
     "name": "stderr",
     "output_type": "stream",
     "text": [
      "\n"
     ]
    },
    {
     "name": "stdout",
     "output_type": "stream",
     "text": [
      "\n",
      "      Epoch    GPU_mem   box_loss   cls_loss   dfl_loss  Instances       Size\n"
     ]
    },
    {
     "name": "stderr",
     "output_type": "stream",
     "text": [
      "      45/50      13.5G     0.9068      0.392     0.8904         10        640: 100%|██████████| 245/245 [2:30:54<00:00, 36.96s/it]  \n",
      "                 Class     Images  Instances      Box(P          R      mAP50  mAP50-95): 100%|██████████| 16/16 [09:32<00:00, 35.79s/it]"
     ]
    },
    {
     "name": "stdout",
     "output_type": "stream",
     "text": [
      "                   all        500       2176      0.953      0.977      0.986      0.752\n"
     ]
    },
    {
     "name": "stderr",
     "output_type": "stream",
     "text": [
      "\n"
     ]
    },
    {
     "name": "stdout",
     "output_type": "stream",
     "text": [
      "\n",
      "      Epoch    GPU_mem   box_loss   cls_loss   dfl_loss  Instances       Size\n"
     ]
    },
    {
     "name": "stderr",
     "output_type": "stream",
     "text": [
      "      46/50      13.4G     0.8946      0.386     0.8872          6        640: 100%|██████████| 245/245 [2:49:19<00:00, 41.47s/it]  \n",
      "                 Class     Images  Instances      Box(P          R      mAP50  mAP50-95): 100%|██████████| 16/16 [05:21<00:00, 20.11s/it]"
     ]
    },
    {
     "name": "stdout",
     "output_type": "stream",
     "text": [
      "                   all        500       2176      0.957      0.976      0.986      0.757\n"
     ]
    },
    {
     "name": "stderr",
     "output_type": "stream",
     "text": [
      "\n"
     ]
    },
    {
     "name": "stdout",
     "output_type": "stream",
     "text": [
      "\n",
      "      Epoch    GPU_mem   box_loss   cls_loss   dfl_loss  Instances       Size\n"
     ]
    },
    {
     "name": "stderr",
     "output_type": "stream",
     "text": [
      "      47/50      13.5G     0.8857     0.3805      0.885         13        640: 100%|██████████| 245/245 [2:46:15<00:00, 40.72s/it]  \n",
      "                 Class     Images  Instances      Box(P          R      mAP50  mAP50-95): 100%|██████████| 16/16 [09:46<00:00, 36.69s/it]"
     ]
    },
    {
     "name": "stdout",
     "output_type": "stream",
     "text": [
      "                   all        500       2176       0.96      0.972      0.987      0.758\n"
     ]
    },
    {
     "name": "stderr",
     "output_type": "stream",
     "text": [
      "\n"
     ]
    },
    {
     "name": "stdout",
     "output_type": "stream",
     "text": [
      "\n",
      "      Epoch    GPU_mem   box_loss   cls_loss   dfl_loss  Instances       Size\n"
     ]
    },
    {
     "name": "stderr",
     "output_type": "stream",
     "text": [
      "      48/50      13.5G     0.8733     0.3743     0.8812         12        640: 100%|██████████| 245/245 [2:50:14<00:00, 41.69s/it]  \n",
      "                 Class     Images  Instances      Box(P          R      mAP50  mAP50-95): 100%|██████████| 16/16 [05:30<00:00, 20.63s/it]"
     ]
    },
    {
     "name": "stdout",
     "output_type": "stream",
     "text": [
      "                   all        500       2176      0.959      0.976      0.986      0.757\n"
     ]
    },
    {
     "name": "stderr",
     "output_type": "stream",
     "text": [
      "\n"
     ]
    },
    {
     "name": "stdout",
     "output_type": "stream",
     "text": [
      "\n",
      "      Epoch    GPU_mem   box_loss   cls_loss   dfl_loss  Instances       Size\n"
     ]
    },
    {
     "name": "stderr",
     "output_type": "stream",
     "text": [
      "      49/50      13.5G     0.8718     0.3712      0.881         11        640: 100%|██████████| 245/245 [2:48:18<00:00, 41.22s/it]  \n",
      "                 Class     Images  Instances      Box(P          R      mAP50  mAP50-95): 100%|██████████| 16/16 [09:28<00:00, 35.54s/it]"
     ]
    },
    {
     "name": "stdout",
     "output_type": "stream",
     "text": [
      "                   all        500       2176       0.96      0.977      0.988      0.758\n"
     ]
    },
    {
     "name": "stderr",
     "output_type": "stream",
     "text": [
      "\n"
     ]
    },
    {
     "name": "stdout",
     "output_type": "stream",
     "text": [
      "\n",
      "      Epoch    GPU_mem   box_loss   cls_loss   dfl_loss  Instances       Size\n"
     ]
    },
    {
     "name": "stderr",
     "output_type": "stream",
     "text": [
      "      50/50      13.4G     0.8714       0.37     0.8814         13        640: 100%|██████████| 245/245 [3:01:28<00:00, 44.44s/it]  \n",
      "                 Class     Images  Instances      Box(P          R      mAP50  mAP50-95): 100%|██████████| 16/16 [04:44<00:00, 17.76s/it]"
     ]
    },
    {
     "name": "stdout",
     "output_type": "stream",
     "text": [
      "                   all        500       2176      0.955      0.976      0.986       0.76\n"
     ]
    },
    {
     "name": "stderr",
     "output_type": "stream",
     "text": [
      "\n"
     ]
    },
    {
     "name": "stdout",
     "output_type": "stream",
     "text": [
      "\n",
      "50 epochs completed in 151.062 hours.\n",
      "Optimizer stripped from runs\\detect\\train19\\weights\\last.pt, 254.9MB\n",
      "Optimizer stripped from runs\\detect\\train19\\weights\\best.pt, 254.9MB\n",
      "\n",
      "Validating runs\\detect\\train19\\weights\\best.pt...\n",
      "Ultralytics 8.3.101  Python-3.12.8 torch-2.5.1 CUDA:0 (NVIDIA GeForce RTX 3070, 8191MiB)\n",
      "YOLOv8-bifpn-cbam summary (fused): 120 layers, 127,187,896 parameters, 0 gradients, 421.5 GFLOPs\n"
     ]
    },
    {
     "name": "stderr",
     "output_type": "stream",
     "text": [
      "                 Class     Images  Instances      Box(P          R      mAP50  mAP50-95): 100%|██████████| 16/16 [00:16<00:00,  1.06s/it]\n"
     ]
    },
    {
     "name": "stdout",
     "output_type": "stream",
     "text": [
      "                   all        500       2176      0.955      0.976      0.986       0.76\n",
      "Speed: 0.4ms preprocess, 28.7ms inference, 0.0ms loss, 0.9ms postprocess per image\n",
      "Results saved to \u001b[1mruns\\detect\\train19\u001b[0m\n"
     ]
    },
    {
     "data": {
      "text/plain": [
       "ultralytics.utils.metrics.DetMetrics object with attributes:\n",
       "\n",
       "ap_class_index: array([0])\n",
       "box: ultralytics.utils.metrics.Metric object\n",
       "confusion_matrix: <ultralytics.utils.metrics.ConfusionMatrix object at 0x0000020281010F20>\n",
       "curves: ['Precision-Recall(B)', 'F1-Confidence(B)', 'Precision-Confidence(B)', 'Recall-Confidence(B)']\n",
       "curves_results: [[array([          0,    0.001001,    0.002002,    0.003003,    0.004004,    0.005005,    0.006006,    0.007007,    0.008008,    0.009009,     0.01001,    0.011011,    0.012012,    0.013013,    0.014014,    0.015015,    0.016016,    0.017017,    0.018018,    0.019019,     0.02002,    0.021021,    0.022022,    0.023023,\n",
       "          0.024024,    0.025025,    0.026026,    0.027027,    0.028028,    0.029029,     0.03003,    0.031031,    0.032032,    0.033033,    0.034034,    0.035035,    0.036036,    0.037037,    0.038038,    0.039039,     0.04004,    0.041041,    0.042042,    0.043043,    0.044044,    0.045045,    0.046046,    0.047047,\n",
       "          0.048048,    0.049049,     0.05005,    0.051051,    0.052052,    0.053053,    0.054054,    0.055055,    0.056056,    0.057057,    0.058058,    0.059059,     0.06006,    0.061061,    0.062062,    0.063063,    0.064064,    0.065065,    0.066066,    0.067067,    0.068068,    0.069069,     0.07007,    0.071071,\n",
       "          0.072072,    0.073073,    0.074074,    0.075075,    0.076076,    0.077077,    0.078078,    0.079079,     0.08008,    0.081081,    0.082082,    0.083083,    0.084084,    0.085085,    0.086086,    0.087087,    0.088088,    0.089089,     0.09009,    0.091091,    0.092092,    0.093093,    0.094094,    0.095095,\n",
       "          0.096096,    0.097097,    0.098098,    0.099099,      0.1001,      0.1011,      0.1021,      0.1031,      0.1041,     0.10511,     0.10611,     0.10711,     0.10811,     0.10911,     0.11011,     0.11111,     0.11211,     0.11311,     0.11411,     0.11512,     0.11612,     0.11712,     0.11812,     0.11912,\n",
       "           0.12012,     0.12112,     0.12212,     0.12312,     0.12412,     0.12513,     0.12613,     0.12713,     0.12813,     0.12913,     0.13013,     0.13113,     0.13213,     0.13313,     0.13413,     0.13514,     0.13614,     0.13714,     0.13814,     0.13914,     0.14014,     0.14114,     0.14214,     0.14314,\n",
       "           0.14414,     0.14515,     0.14615,     0.14715,     0.14815,     0.14915,     0.15015,     0.15115,     0.15215,     0.15315,     0.15415,     0.15516,     0.15616,     0.15716,     0.15816,     0.15916,     0.16016,     0.16116,     0.16216,     0.16316,     0.16416,     0.16517,     0.16617,     0.16717,\n",
       "           0.16817,     0.16917,     0.17017,     0.17117,     0.17217,     0.17317,     0.17417,     0.17518,     0.17618,     0.17718,     0.17818,     0.17918,     0.18018,     0.18118,     0.18218,     0.18318,     0.18418,     0.18519,     0.18619,     0.18719,     0.18819,     0.18919,     0.19019,     0.19119,\n",
       "           0.19219,     0.19319,     0.19419,      0.1952,      0.1962,      0.1972,      0.1982,      0.1992,      0.2002,      0.2012,      0.2022,      0.2032,      0.2042,     0.20521,     0.20621,     0.20721,     0.20821,     0.20921,     0.21021,     0.21121,     0.21221,     0.21321,     0.21421,     0.21522,\n",
       "           0.21622,     0.21722,     0.21822,     0.21922,     0.22022,     0.22122,     0.22222,     0.22322,     0.22422,     0.22523,     0.22623,     0.22723,     0.22823,     0.22923,     0.23023,     0.23123,     0.23223,     0.23323,     0.23423,     0.23524,     0.23624,     0.23724,     0.23824,     0.23924,\n",
       "           0.24024,     0.24124,     0.24224,     0.24324,     0.24424,     0.24525,     0.24625,     0.24725,     0.24825,     0.24925,     0.25025,     0.25125,     0.25225,     0.25325,     0.25425,     0.25526,     0.25626,     0.25726,     0.25826,     0.25926,     0.26026,     0.26126,     0.26226,     0.26326,\n",
       "           0.26426,     0.26527,     0.26627,     0.26727,     0.26827,     0.26927,     0.27027,     0.27127,     0.27227,     0.27327,     0.27427,     0.27528,     0.27628,     0.27728,     0.27828,     0.27928,     0.28028,     0.28128,     0.28228,     0.28328,     0.28428,     0.28529,     0.28629,     0.28729,\n",
       "           0.28829,     0.28929,     0.29029,     0.29129,     0.29229,     0.29329,     0.29429,      0.2953,      0.2963,      0.2973,      0.2983,      0.2993,      0.3003,      0.3013,      0.3023,      0.3033,      0.3043,     0.30531,     0.30631,     0.30731,     0.30831,     0.30931,     0.31031,     0.31131,\n",
       "           0.31231,     0.31331,     0.31431,     0.31532,     0.31632,     0.31732,     0.31832,     0.31932,     0.32032,     0.32132,     0.32232,     0.32332,     0.32432,     0.32533,     0.32633,     0.32733,     0.32833,     0.32933,     0.33033,     0.33133,     0.33233,     0.33333,     0.33433,     0.33534,\n",
       "           0.33634,     0.33734,     0.33834,     0.33934,     0.34034,     0.34134,     0.34234,     0.34334,     0.34434,     0.34535,     0.34635,     0.34735,     0.34835,     0.34935,     0.35035,     0.35135,     0.35235,     0.35335,     0.35435,     0.35536,     0.35636,     0.35736,     0.35836,     0.35936,\n",
       "           0.36036,     0.36136,     0.36236,     0.36336,     0.36436,     0.36537,     0.36637,     0.36737,     0.36837,     0.36937,     0.37037,     0.37137,     0.37237,     0.37337,     0.37437,     0.37538,     0.37638,     0.37738,     0.37838,     0.37938,     0.38038,     0.38138,     0.38238,     0.38338,\n",
       "           0.38438,     0.38539,     0.38639,     0.38739,     0.38839,     0.38939,     0.39039,     0.39139,     0.39239,     0.39339,     0.39439,      0.3954,      0.3964,      0.3974,      0.3984,      0.3994,      0.4004,      0.4014,      0.4024,      0.4034,      0.4044,     0.40541,     0.40641,     0.40741,\n",
       "           0.40841,     0.40941,     0.41041,     0.41141,     0.41241,     0.41341,     0.41441,     0.41542,     0.41642,     0.41742,     0.41842,     0.41942,     0.42042,     0.42142,     0.42242,     0.42342,     0.42442,     0.42543,     0.42643,     0.42743,     0.42843,     0.42943,     0.43043,     0.43143,\n",
       "           0.43243,     0.43343,     0.43443,     0.43544,     0.43644,     0.43744,     0.43844,     0.43944,     0.44044,     0.44144,     0.44244,     0.44344,     0.44444,     0.44545,     0.44645,     0.44745,     0.44845,     0.44945,     0.45045,     0.45145,     0.45245,     0.45345,     0.45445,     0.45546,\n",
       "           0.45646,     0.45746,     0.45846,     0.45946,     0.46046,     0.46146,     0.46246,     0.46346,     0.46446,     0.46547,     0.46647,     0.46747,     0.46847,     0.46947,     0.47047,     0.47147,     0.47247,     0.47347,     0.47447,     0.47548,     0.47648,     0.47748,     0.47848,     0.47948,\n",
       "           0.48048,     0.48148,     0.48248,     0.48348,     0.48448,     0.48549,     0.48649,     0.48749,     0.48849,     0.48949,     0.49049,     0.49149,     0.49249,     0.49349,     0.49449,      0.4955,      0.4965,      0.4975,      0.4985,      0.4995,      0.5005,      0.5015,      0.5025,      0.5035,\n",
       "            0.5045,     0.50551,     0.50651,     0.50751,     0.50851,     0.50951,     0.51051,     0.51151,     0.51251,     0.51351,     0.51451,     0.51552,     0.51652,     0.51752,     0.51852,     0.51952,     0.52052,     0.52152,     0.52252,     0.52352,     0.52452,     0.52553,     0.52653,     0.52753,\n",
       "           0.52853,     0.52953,     0.53053,     0.53153,     0.53253,     0.53353,     0.53453,     0.53554,     0.53654,     0.53754,     0.53854,     0.53954,     0.54054,     0.54154,     0.54254,     0.54354,     0.54454,     0.54555,     0.54655,     0.54755,     0.54855,     0.54955,     0.55055,     0.55155,\n",
       "           0.55255,     0.55355,     0.55455,     0.55556,     0.55656,     0.55756,     0.55856,     0.55956,     0.56056,     0.56156,     0.56256,     0.56356,     0.56456,     0.56557,     0.56657,     0.56757,     0.56857,     0.56957,     0.57057,     0.57157,     0.57257,     0.57357,     0.57457,     0.57558,\n",
       "           0.57658,     0.57758,     0.57858,     0.57958,     0.58058,     0.58158,     0.58258,     0.58358,     0.58458,     0.58559,     0.58659,     0.58759,     0.58859,     0.58959,     0.59059,     0.59159,     0.59259,     0.59359,     0.59459,      0.5956,      0.5966,      0.5976,      0.5986,      0.5996,\n",
       "            0.6006,      0.6016,      0.6026,      0.6036,      0.6046,     0.60561,     0.60661,     0.60761,     0.60861,     0.60961,     0.61061,     0.61161,     0.61261,     0.61361,     0.61461,     0.61562,     0.61662,     0.61762,     0.61862,     0.61962,     0.62062,     0.62162,     0.62262,     0.62362,\n",
       "           0.62462,     0.62563,     0.62663,     0.62763,     0.62863,     0.62963,     0.63063,     0.63163,     0.63263,     0.63363,     0.63463,     0.63564,     0.63664,     0.63764,     0.63864,     0.63964,     0.64064,     0.64164,     0.64264,     0.64364,     0.64464,     0.64565,     0.64665,     0.64765,\n",
       "           0.64865,     0.64965,     0.65065,     0.65165,     0.65265,     0.65365,     0.65465,     0.65566,     0.65666,     0.65766,     0.65866,     0.65966,     0.66066,     0.66166,     0.66266,     0.66366,     0.66466,     0.66567,     0.66667,     0.66767,     0.66867,     0.66967,     0.67067,     0.67167,\n",
       "           0.67267,     0.67367,     0.67467,     0.67568,     0.67668,     0.67768,     0.67868,     0.67968,     0.68068,     0.68168,     0.68268,     0.68368,     0.68468,     0.68569,     0.68669,     0.68769,     0.68869,     0.68969,     0.69069,     0.69169,     0.69269,     0.69369,     0.69469,      0.6957,\n",
       "            0.6967,      0.6977,      0.6987,      0.6997,      0.7007,      0.7017,      0.7027,      0.7037,      0.7047,     0.70571,     0.70671,     0.70771,     0.70871,     0.70971,     0.71071,     0.71171,     0.71271,     0.71371,     0.71471,     0.71572,     0.71672,     0.71772,     0.71872,     0.71972,\n",
       "           0.72072,     0.72172,     0.72272,     0.72372,     0.72472,     0.72573,     0.72673,     0.72773,     0.72873,     0.72973,     0.73073,     0.73173,     0.73273,     0.73373,     0.73473,     0.73574,     0.73674,     0.73774,     0.73874,     0.73974,     0.74074,     0.74174,     0.74274,     0.74374,\n",
       "           0.74474,     0.74575,     0.74675,     0.74775,     0.74875,     0.74975,     0.75075,     0.75175,     0.75275,     0.75375,     0.75475,     0.75576,     0.75676,     0.75776,     0.75876,     0.75976,     0.76076,     0.76176,     0.76276,     0.76376,     0.76476,     0.76577,     0.76677,     0.76777,\n",
       "           0.76877,     0.76977,     0.77077,     0.77177,     0.77277,     0.77377,     0.77477,     0.77578,     0.77678,     0.77778,     0.77878,     0.77978,     0.78078,     0.78178,     0.78278,     0.78378,     0.78478,     0.78579,     0.78679,     0.78779,     0.78879,     0.78979,     0.79079,     0.79179,\n",
       "           0.79279,     0.79379,     0.79479,      0.7958,      0.7968,      0.7978,      0.7988,      0.7998,      0.8008,      0.8018,      0.8028,      0.8038,      0.8048,     0.80581,     0.80681,     0.80781,     0.80881,     0.80981,     0.81081,     0.81181,     0.81281,     0.81381,     0.81481,     0.81582,\n",
       "           0.81682,     0.81782,     0.81882,     0.81982,     0.82082,     0.82182,     0.82282,     0.82382,     0.82482,     0.82583,     0.82683,     0.82783,     0.82883,     0.82983,     0.83083,     0.83183,     0.83283,     0.83383,     0.83483,     0.83584,     0.83684,     0.83784,     0.83884,     0.83984,\n",
       "           0.84084,     0.84184,     0.84284,     0.84384,     0.84484,     0.84585,     0.84685,     0.84785,     0.84885,     0.84985,     0.85085,     0.85185,     0.85285,     0.85385,     0.85485,     0.85586,     0.85686,     0.85786,     0.85886,     0.85986,     0.86086,     0.86186,     0.86286,     0.86386,\n",
       "           0.86486,     0.86587,     0.86687,     0.86787,     0.86887,     0.86987,     0.87087,     0.87187,     0.87287,     0.87387,     0.87487,     0.87588,     0.87688,     0.87788,     0.87888,     0.87988,     0.88088,     0.88188,     0.88288,     0.88388,     0.88488,     0.88589,     0.88689,     0.88789,\n",
       "           0.88889,     0.88989,     0.89089,     0.89189,     0.89289,     0.89389,     0.89489,      0.8959,      0.8969,      0.8979,      0.8989,      0.8999,      0.9009,      0.9019,      0.9029,      0.9039,      0.9049,     0.90591,     0.90691,     0.90791,     0.90891,     0.90991,     0.91091,     0.91191,\n",
       "           0.91291,     0.91391,     0.91491,     0.91592,     0.91692,     0.91792,     0.91892,     0.91992,     0.92092,     0.92192,     0.92292,     0.92392,     0.92492,     0.92593,     0.92693,     0.92793,     0.92893,     0.92993,     0.93093,     0.93193,     0.93293,     0.93393,     0.93493,     0.93594,\n",
       "           0.93694,     0.93794,     0.93894,     0.93994,     0.94094,     0.94194,     0.94294,     0.94394,     0.94494,     0.94595,     0.94695,     0.94795,     0.94895,     0.94995,     0.95095,     0.95195,     0.95295,     0.95395,     0.95495,     0.95596,     0.95696,     0.95796,     0.95896,     0.95996,\n",
       "           0.96096,     0.96196,     0.96296,     0.96396,     0.96496,     0.96597,     0.96697,     0.96797,     0.96897,     0.96997,     0.97097,     0.97197,     0.97297,     0.97397,     0.97497,     0.97598,     0.97698,     0.97798,     0.97898,     0.97998,     0.98098,     0.98198,     0.98298,     0.98398,\n",
       "           0.98498,     0.98599,     0.98699,     0.98799,     0.98899,     0.98999,     0.99099,     0.99199,     0.99299,     0.99399,     0.99499,       0.996,       0.997,       0.998,       0.999,           1]), array([[          1,           1,           1,           1,           1,           1,           1,           1,           1,           1,           1,           1,           1,           1,           1,           1,           1,           1,           1,           1,           1,           1,           1,\n",
       "                  1,           1,           1,           1,           1,           1,           1,           1,           1,           1,           1,           1,           1,           1,           1,           1,           1,           1,           1,           1,           1,           1,           1,\n",
       "                  1,           1,           1,           1,           1,           1,           1,           1,           1,           1,           1,           1,           1,           1,           1,           1,           1,           1,           1,           1,           1,           1,           1,\n",
       "                  1,           1,           1,           1,           1,     0.99687,     0.99687,     0.99687,     0.99687,     0.99687,     0.99687,     0.99687,     0.99687,     0.99687,     0.99687,     0.99687,     0.99687,     0.99687,     0.99687,     0.99687,     0.99687,     0.99687,     0.99687,\n",
       "            0.99687,     0.99687,     0.99687,     0.99687,     0.99687,     0.99687,     0.99687,     0.99687,     0.99687,     0.99687,     0.99687,     0.99687,     0.99687,     0.99687,     0.99687,     0.99687,     0.99687,     0.99687,     0.99687,     0.99687,     0.99687,     0.99687,     0.99687,\n",
       "            0.99687,     0.99687,     0.99687,     0.99687,     0.99687,     0.99687,     0.99687,     0.99687,     0.99687,     0.99687,     0.99687,     0.99687,     0.99687,     0.99687,     0.99687,     0.99687,     0.99687,     0.99687,     0.99687,     0.99687,     0.99687,     0.99687,     0.99687,\n",
       "            0.99687,     0.99687,     0.99687,     0.99687,     0.99687,     0.99687,     0.99687,     0.99687,     0.99632,     0.99632,     0.99632,     0.99632,     0.99632,     0.99632,     0.99632,     0.99632,     0.99632,     0.99632,     0.99632,     0.99632,     0.99632,     0.99632,     0.99632,\n",
       "            0.99632,     0.99632,     0.99632,     0.99632,     0.99632,     0.99632,     0.99632,     0.99632,     0.99632,     0.99632,     0.99632,     0.99632,     0.99632,     0.99632,     0.99632,     0.99632,     0.99632,     0.99632,     0.99632,     0.99632,     0.99632,     0.99632,     0.99632,\n",
       "            0.99632,     0.99632,     0.99632,     0.99632,     0.99632,     0.99632,     0.99632,     0.99632,     0.99632,     0.99632,     0.99632,     0.99632,     0.99632,     0.99632,     0.99632,     0.99632,     0.99632,     0.99632,     0.99632,     0.99632,     0.99632,     0.99632,     0.99632,\n",
       "            0.99632,     0.99632,     0.99632,     0.99632,     0.99632,     0.99632,     0.99632,     0.99632,     0.99632,     0.99632,     0.99632,     0.99632,     0.99632,     0.99632,     0.99632,     0.99632,     0.99632,     0.99632,     0.99632,     0.99632,     0.99632,     0.99632,     0.99632,\n",
       "            0.99632,     0.99632,     0.99632,     0.99632,     0.99632,     0.99632,     0.99632,     0.99632,     0.99632,     0.99632,     0.99632,     0.99632,     0.99632,     0.99632,     0.99632,     0.99632,     0.99632,     0.99632,     0.99632,     0.99632,     0.99632,     0.99632,     0.99632,\n",
       "            0.99632,     0.99632,     0.99632,     0.99632,     0.99632,     0.99632,     0.99632,     0.99632,     0.99632,     0.99632,     0.99632,     0.99632,     0.99632,     0.99632,     0.99632,     0.99632,     0.99632,     0.99632,     0.99632,     0.99632,     0.99632,     0.99632,     0.99632,\n",
       "            0.99632,     0.99632,     0.99632,     0.99632,     0.99632,     0.99632,     0.99632,     0.99632,     0.99632,     0.99632,     0.99632,     0.99632,     0.99632,     0.99632,     0.99632,     0.99632,     0.99632,     0.99632,     0.99632,     0.99632,     0.99632,     0.99632,     0.99632,\n",
       "            0.99632,     0.99632,     0.99632,     0.99632,     0.99632,     0.99632,     0.99632,     0.99632,     0.99632,     0.99632,     0.99632,     0.99632,     0.99632,     0.99632,     0.99632,     0.99632,     0.99632,     0.99632,     0.99632,     0.99632,     0.99632,     0.99632,     0.99632,\n",
       "            0.99632,     0.99632,     0.99632,     0.99632,     0.99632,     0.99632,     0.99632,     0.99632,     0.99632,     0.99632,     0.99632,     0.99632,     0.99632,     0.99632,     0.99632,     0.99632,     0.99632,     0.99632,     0.99632,     0.99632,     0.99632,     0.99632,     0.99632,\n",
       "            0.99632,     0.99632,     0.99632,     0.99632,     0.99632,     0.99632,     0.99632,     0.99632,     0.99632,     0.99632,     0.99632,     0.99632,     0.99632,     0.99632,     0.99632,     0.99632,     0.99632,     0.99632,     0.99632,     0.99632,     0.99632,     0.99632,     0.99632,\n",
       "            0.99632,     0.99632,     0.99632,     0.99632,     0.99632,     0.99632,     0.99579,     0.99579,     0.99579,     0.99579,     0.99579,     0.99579,     0.99579,     0.99579,     0.99579,     0.99579,     0.99579,     0.99579,     0.99579,     0.99579,     0.99579,     0.99579,     0.99579,\n",
       "            0.99579,     0.99579,     0.99579,     0.99579,     0.99579,     0.99579,     0.99579,     0.99579,     0.99579,     0.99579,     0.99579,     0.99579,     0.99579,     0.99579,     0.99579,     0.99579,     0.99579,     0.99579,     0.99579,     0.99579,     0.99579,     0.99579,     0.99579,\n",
       "            0.99579,     0.99579,     0.99579,     0.99579,     0.99579,     0.99579,     0.99579,     0.99579,     0.99579,     0.99579,     0.99579,     0.99579,     0.99579,     0.99579,     0.99579,     0.99579,     0.99579,     0.99579,     0.99579,     0.99579,     0.99501,     0.99501,     0.99501,\n",
       "            0.99501,     0.99501,     0.99501,     0.99501,     0.99501,     0.99501,     0.99501,     0.99501,     0.99501,     0.99501,     0.99501,     0.99501,     0.99501,     0.99501,     0.99501,     0.99501,     0.99501,     0.99501,     0.99501,     0.99501,     0.99501,     0.99425,     0.99425,\n",
       "            0.99425,     0.99425,     0.99425,     0.99425,     0.99425,     0.99425,     0.99425,     0.99425,     0.99425,     0.99425,     0.99425,     0.99425,     0.99425,     0.99425,     0.99425,     0.99425,     0.99425,     0.99421,     0.99421,     0.99421,     0.99421,     0.99421,     0.99421,\n",
       "            0.99421,     0.99421,     0.99421,     0.99421,     0.99421,     0.99421,     0.99421,     0.99421,     0.99421,     0.99421,     0.99421,     0.99421,     0.99421,     0.99421,     0.99421,     0.99421,     0.99421,     0.99421,     0.99421,     0.99421,     0.99421,     0.99421,     0.99421,\n",
       "            0.99421,     0.99421,     0.99421,     0.99421,     0.99421,     0.99421,     0.99421,     0.99421,     0.99421,     0.99421,     0.99421,     0.99421,     0.99421,     0.99421,     0.99421,     0.99421,     0.99421,     0.99421,     0.99421,     0.99421,     0.99421,     0.99421,     0.99421,\n",
       "            0.99421,     0.99421,     0.99421,     0.99421,     0.99421,     0.99421,     0.99421,     0.99421,     0.99421,     0.99421,     0.99421,     0.99421,     0.99421,     0.99421,     0.99421,     0.99421,     0.99421,     0.99421,     0.99421,     0.99421,     0.99421,     0.99421,     0.99421,\n",
       "            0.99421,     0.99355,     0.99355,     0.99355,     0.99355,     0.99355,     0.99355,     0.99355,     0.99355,     0.99355,     0.99355,     0.99355,     0.99355,     0.99355,     0.99322,     0.99322,     0.99322,     0.99322,     0.99322,     0.99322,     0.99322,     0.99322,     0.99322,\n",
       "            0.99322,     0.99322,     0.99322,     0.99322,     0.99322,     0.99322,     0.99322,     0.99322,     0.99322,     0.99322,     0.99322,     0.99322,     0.99322,     0.99322,     0.99322,     0.99322,     0.99322,     0.99322,     0.99322,     0.99322,     0.99322,     0.99322,     0.99322,\n",
       "            0.99322,     0.99322,     0.99322,     0.99322,     0.99322,     0.99322,     0.99322,     0.99322,     0.99297,     0.99297,     0.99297,     0.99297,     0.99297,     0.99297,     0.99297,     0.99297,     0.99297,     0.99297,     0.99297,     0.99297,     0.99297,     0.99297,     0.99297,\n",
       "            0.99297,     0.99297,     0.99297,     0.99297,     0.99297,     0.99297,     0.99297,     0.99297,     0.99297,     0.99297,     0.99297,     0.99297,     0.99297,     0.99297,     0.99297,     0.99297,     0.99297,     0.99297,     0.99297,     0.99297,     0.99297,     0.99297,     0.99297,\n",
       "            0.99297,     0.99297,     0.99297,     0.99297,     0.99297,     0.99251,     0.99251,     0.99251,     0.99251,     0.99251,     0.99251,     0.99251,     0.99251,     0.99251,     0.99251,     0.99251,     0.99251,     0.99251,     0.99251,     0.99251,     0.99251,     0.99251,     0.99251,\n",
       "            0.99251,     0.99251,     0.99188,     0.99188,     0.99188,     0.99188,     0.99188,     0.99133,     0.99133,     0.99133,     0.99133,     0.99133,     0.99133,     0.99133,     0.99133,     0.99133,     0.99128,     0.99128,     0.99128,     0.99128,     0.99128,     0.99128,     0.99128,\n",
       "            0.99128,     0.99128,     0.99128,     0.99128,     0.99128,     0.99128,     0.99128,     0.99128,     0.99128,     0.99128,     0.99128,     0.99128,     0.99128,     0.99128,     0.99128,     0.99128,     0.99128,     0.99128,     0.99128,     0.99128,     0.99128,     0.99128,     0.99128,\n",
       "            0.99128,     0.99128,     0.99128,     0.99128,     0.99128,     0.99128,     0.99128,     0.99128,     0.99128,     0.99128,     0.99128,     0.99128,     0.99128,     0.99128,     0.99128,     0.99128,     0.99128,     0.99128,     0.99084,     0.99084,     0.99084,     0.99084,     0.99084,\n",
       "            0.99084,     0.99084,     0.99084,     0.99084,     0.99084,     0.99084,     0.99084,     0.99084,     0.99084,     0.99084,     0.99037,     0.99037,     0.99037,     0.99037,     0.99037,     0.99037,     0.99037,     0.99037,     0.99037,     0.99037,     0.98986,     0.98986,     0.98986,\n",
       "            0.98986,     0.98986,     0.98986,     0.98986,     0.98951,     0.98951,     0.98951,     0.98951,     0.98951,     0.98951,     0.98951,     0.98951,     0.98951,     0.98951,     0.98951,     0.98951,     0.98951,     0.98951,     0.98951,     0.98951,     0.98951,     0.98901,     0.98901,\n",
       "            0.98901,     0.98901,     0.98901,     0.98901,     0.98858,     0.98858,     0.98858,     0.98858,     0.98858,     0.98858,     0.98858,     0.98858,     0.98858,     0.98809,     0.98809,     0.98809,     0.98809,     0.98809,     0.98762,     0.98762,     0.98762,     0.98762,     0.98762,\n",
       "            0.98762,     0.98733,     0.98733,     0.98733,     0.98733,     0.98733,     0.98733,     0.98733,     0.98733,     0.98733,     0.98733,     0.98733,     0.98733,     0.98733,     0.98733,     0.98733,     0.98733,     0.98733,     0.98679,     0.98652,     0.98652,     0.98652,     0.98652,\n",
       "            0.98652,     0.98652,     0.98652,     0.98652,     0.98652,     0.98652,     0.98652,     0.98652,     0.98652,     0.98652,     0.98652,     0.98652,     0.98652,     0.98634,     0.98634,     0.98634,     0.98634,     0.98634,     0.98634,     0.98634,     0.98634,     0.98634,     0.98634,\n",
       "            0.98634,     0.98634,     0.98634,     0.98634,     0.98634,     0.98634,     0.98634,     0.98634,     0.98634,     0.98634,     0.98634,     0.98634,     0.98589,     0.98589,     0.98589,     0.98545,     0.98545,     0.98545,     0.98545,     0.98545,     0.98496,     0.98448,     0.98448,\n",
       "            0.98423,     0.98423,     0.98423,     0.98423,     0.98423,     0.98423,     0.98423,     0.98423,     0.98423,     0.98423,     0.98423,     0.98423,     0.98423,     0.98423,     0.98423,      0.9838,      0.9838,      0.9838,      0.9838,     0.98343,     0.98343,     0.98343,     0.98343,\n",
       "            0.98343,     0.98343,     0.98343,     0.98296,     0.98249,     0.98204,     0.98204,     0.98159,     0.98159,      0.9812,      0.9812,      0.9812,      0.9812,      0.9812,     0.98074,     0.98029,     0.98029,     0.97982,     0.97889,     0.97807,     0.97807,     0.97807,     0.97807,\n",
       "            0.97807,     0.97807,     0.97765,     0.97765,     0.97726,     0.97726,     0.97726,     0.97726,     0.97688,     0.97688,     0.97688,     0.97688,     0.97564,     0.97564,     0.97564,     0.97564,     0.97564,     0.97564,     0.97524,     0.97524,     0.97524,     0.97483,     0.97483,\n",
       "             0.9744,     0.97355,     0.97355,     0.97355,     0.97268,     0.97268,      0.9723,      0.9723,      0.9714,     0.97097,     0.97023,     0.97023,     0.97023,     0.97023,     0.97023,     0.96982,     0.96982,     0.96673,     0.96498,     0.96419,     0.96419,     0.96419,     0.96379,\n",
       "            0.96166,     0.96166,     0.96084,     0.95913,     0.95833,     0.95833,     0.95707,     0.95674,     0.95674,     0.95549,      0.9551,     0.95428,     0.95308,     0.95308,     0.94723,     0.94599,      0.9444,     0.94071,     0.94035,     0.93835,     0.93432,     0.93195,     0.92962,\n",
       "             0.9241,     0.92222,     0.91367,     0.90684,     0.89975,     0.88444,     0.87419,     0.86145,     0.83346,      0.8176,           0]]), 'Recall', 'Precision'], [array([          0,    0.001001,    0.002002,    0.003003,    0.004004,    0.005005,    0.006006,    0.007007,    0.008008,    0.009009,     0.01001,    0.011011,    0.012012,    0.013013,    0.014014,    0.015015,    0.016016,    0.017017,    0.018018,    0.019019,     0.02002,    0.021021,    0.022022,    0.023023,\n",
       "          0.024024,    0.025025,    0.026026,    0.027027,    0.028028,    0.029029,     0.03003,    0.031031,    0.032032,    0.033033,    0.034034,    0.035035,    0.036036,    0.037037,    0.038038,    0.039039,     0.04004,    0.041041,    0.042042,    0.043043,    0.044044,    0.045045,    0.046046,    0.047047,\n",
       "          0.048048,    0.049049,     0.05005,    0.051051,    0.052052,    0.053053,    0.054054,    0.055055,    0.056056,    0.057057,    0.058058,    0.059059,     0.06006,    0.061061,    0.062062,    0.063063,    0.064064,    0.065065,    0.066066,    0.067067,    0.068068,    0.069069,     0.07007,    0.071071,\n",
       "          0.072072,    0.073073,    0.074074,    0.075075,    0.076076,    0.077077,    0.078078,    0.079079,     0.08008,    0.081081,    0.082082,    0.083083,    0.084084,    0.085085,    0.086086,    0.087087,    0.088088,    0.089089,     0.09009,    0.091091,    0.092092,    0.093093,    0.094094,    0.095095,\n",
       "          0.096096,    0.097097,    0.098098,    0.099099,      0.1001,      0.1011,      0.1021,      0.1031,      0.1041,     0.10511,     0.10611,     0.10711,     0.10811,     0.10911,     0.11011,     0.11111,     0.11211,     0.11311,     0.11411,     0.11512,     0.11612,     0.11712,     0.11812,     0.11912,\n",
       "           0.12012,     0.12112,     0.12212,     0.12312,     0.12412,     0.12513,     0.12613,     0.12713,     0.12813,     0.12913,     0.13013,     0.13113,     0.13213,     0.13313,     0.13413,     0.13514,     0.13614,     0.13714,     0.13814,     0.13914,     0.14014,     0.14114,     0.14214,     0.14314,\n",
       "           0.14414,     0.14515,     0.14615,     0.14715,     0.14815,     0.14915,     0.15015,     0.15115,     0.15215,     0.15315,     0.15415,     0.15516,     0.15616,     0.15716,     0.15816,     0.15916,     0.16016,     0.16116,     0.16216,     0.16316,     0.16416,     0.16517,     0.16617,     0.16717,\n",
       "           0.16817,     0.16917,     0.17017,     0.17117,     0.17217,     0.17317,     0.17417,     0.17518,     0.17618,     0.17718,     0.17818,     0.17918,     0.18018,     0.18118,     0.18218,     0.18318,     0.18418,     0.18519,     0.18619,     0.18719,     0.18819,     0.18919,     0.19019,     0.19119,\n",
       "           0.19219,     0.19319,     0.19419,      0.1952,      0.1962,      0.1972,      0.1982,      0.1992,      0.2002,      0.2012,      0.2022,      0.2032,      0.2042,     0.20521,     0.20621,     0.20721,     0.20821,     0.20921,     0.21021,     0.21121,     0.21221,     0.21321,     0.21421,     0.21522,\n",
       "           0.21622,     0.21722,     0.21822,     0.21922,     0.22022,     0.22122,     0.22222,     0.22322,     0.22422,     0.22523,     0.22623,     0.22723,     0.22823,     0.22923,     0.23023,     0.23123,     0.23223,     0.23323,     0.23423,     0.23524,     0.23624,     0.23724,     0.23824,     0.23924,\n",
       "           0.24024,     0.24124,     0.24224,     0.24324,     0.24424,     0.24525,     0.24625,     0.24725,     0.24825,     0.24925,     0.25025,     0.25125,     0.25225,     0.25325,     0.25425,     0.25526,     0.25626,     0.25726,     0.25826,     0.25926,     0.26026,     0.26126,     0.26226,     0.26326,\n",
       "           0.26426,     0.26527,     0.26627,     0.26727,     0.26827,     0.26927,     0.27027,     0.27127,     0.27227,     0.27327,     0.27427,     0.27528,     0.27628,     0.27728,     0.27828,     0.27928,     0.28028,     0.28128,     0.28228,     0.28328,     0.28428,     0.28529,     0.28629,     0.28729,\n",
       "           0.28829,     0.28929,     0.29029,     0.29129,     0.29229,     0.29329,     0.29429,      0.2953,      0.2963,      0.2973,      0.2983,      0.2993,      0.3003,      0.3013,      0.3023,      0.3033,      0.3043,     0.30531,     0.30631,     0.30731,     0.30831,     0.30931,     0.31031,     0.31131,\n",
       "           0.31231,     0.31331,     0.31431,     0.31532,     0.31632,     0.31732,     0.31832,     0.31932,     0.32032,     0.32132,     0.32232,     0.32332,     0.32432,     0.32533,     0.32633,     0.32733,     0.32833,     0.32933,     0.33033,     0.33133,     0.33233,     0.33333,     0.33433,     0.33534,\n",
       "           0.33634,     0.33734,     0.33834,     0.33934,     0.34034,     0.34134,     0.34234,     0.34334,     0.34434,     0.34535,     0.34635,     0.34735,     0.34835,     0.34935,     0.35035,     0.35135,     0.35235,     0.35335,     0.35435,     0.35536,     0.35636,     0.35736,     0.35836,     0.35936,\n",
       "           0.36036,     0.36136,     0.36236,     0.36336,     0.36436,     0.36537,     0.36637,     0.36737,     0.36837,     0.36937,     0.37037,     0.37137,     0.37237,     0.37337,     0.37437,     0.37538,     0.37638,     0.37738,     0.37838,     0.37938,     0.38038,     0.38138,     0.38238,     0.38338,\n",
       "           0.38438,     0.38539,     0.38639,     0.38739,     0.38839,     0.38939,     0.39039,     0.39139,     0.39239,     0.39339,     0.39439,      0.3954,      0.3964,      0.3974,      0.3984,      0.3994,      0.4004,      0.4014,      0.4024,      0.4034,      0.4044,     0.40541,     0.40641,     0.40741,\n",
       "           0.40841,     0.40941,     0.41041,     0.41141,     0.41241,     0.41341,     0.41441,     0.41542,     0.41642,     0.41742,     0.41842,     0.41942,     0.42042,     0.42142,     0.42242,     0.42342,     0.42442,     0.42543,     0.42643,     0.42743,     0.42843,     0.42943,     0.43043,     0.43143,\n",
       "           0.43243,     0.43343,     0.43443,     0.43544,     0.43644,     0.43744,     0.43844,     0.43944,     0.44044,     0.44144,     0.44244,     0.44344,     0.44444,     0.44545,     0.44645,     0.44745,     0.44845,     0.44945,     0.45045,     0.45145,     0.45245,     0.45345,     0.45445,     0.45546,\n",
       "           0.45646,     0.45746,     0.45846,     0.45946,     0.46046,     0.46146,     0.46246,     0.46346,     0.46446,     0.46547,     0.46647,     0.46747,     0.46847,     0.46947,     0.47047,     0.47147,     0.47247,     0.47347,     0.47447,     0.47548,     0.47648,     0.47748,     0.47848,     0.47948,\n",
       "           0.48048,     0.48148,     0.48248,     0.48348,     0.48448,     0.48549,     0.48649,     0.48749,     0.48849,     0.48949,     0.49049,     0.49149,     0.49249,     0.49349,     0.49449,      0.4955,      0.4965,      0.4975,      0.4985,      0.4995,      0.5005,      0.5015,      0.5025,      0.5035,\n",
       "            0.5045,     0.50551,     0.50651,     0.50751,     0.50851,     0.50951,     0.51051,     0.51151,     0.51251,     0.51351,     0.51451,     0.51552,     0.51652,     0.51752,     0.51852,     0.51952,     0.52052,     0.52152,     0.52252,     0.52352,     0.52452,     0.52553,     0.52653,     0.52753,\n",
       "           0.52853,     0.52953,     0.53053,     0.53153,     0.53253,     0.53353,     0.53453,     0.53554,     0.53654,     0.53754,     0.53854,     0.53954,     0.54054,     0.54154,     0.54254,     0.54354,     0.54454,     0.54555,     0.54655,     0.54755,     0.54855,     0.54955,     0.55055,     0.55155,\n",
       "           0.55255,     0.55355,     0.55455,     0.55556,     0.55656,     0.55756,     0.55856,     0.55956,     0.56056,     0.56156,     0.56256,     0.56356,     0.56456,     0.56557,     0.56657,     0.56757,     0.56857,     0.56957,     0.57057,     0.57157,     0.57257,     0.57357,     0.57457,     0.57558,\n",
       "           0.57658,     0.57758,     0.57858,     0.57958,     0.58058,     0.58158,     0.58258,     0.58358,     0.58458,     0.58559,     0.58659,     0.58759,     0.58859,     0.58959,     0.59059,     0.59159,     0.59259,     0.59359,     0.59459,      0.5956,      0.5966,      0.5976,      0.5986,      0.5996,\n",
       "            0.6006,      0.6016,      0.6026,      0.6036,      0.6046,     0.60561,     0.60661,     0.60761,     0.60861,     0.60961,     0.61061,     0.61161,     0.61261,     0.61361,     0.61461,     0.61562,     0.61662,     0.61762,     0.61862,     0.61962,     0.62062,     0.62162,     0.62262,     0.62362,\n",
       "           0.62462,     0.62563,     0.62663,     0.62763,     0.62863,     0.62963,     0.63063,     0.63163,     0.63263,     0.63363,     0.63463,     0.63564,     0.63664,     0.63764,     0.63864,     0.63964,     0.64064,     0.64164,     0.64264,     0.64364,     0.64464,     0.64565,     0.64665,     0.64765,\n",
       "           0.64865,     0.64965,     0.65065,     0.65165,     0.65265,     0.65365,     0.65465,     0.65566,     0.65666,     0.65766,     0.65866,     0.65966,     0.66066,     0.66166,     0.66266,     0.66366,     0.66466,     0.66567,     0.66667,     0.66767,     0.66867,     0.66967,     0.67067,     0.67167,\n",
       "           0.67267,     0.67367,     0.67467,     0.67568,     0.67668,     0.67768,     0.67868,     0.67968,     0.68068,     0.68168,     0.68268,     0.68368,     0.68468,     0.68569,     0.68669,     0.68769,     0.68869,     0.68969,     0.69069,     0.69169,     0.69269,     0.69369,     0.69469,      0.6957,\n",
       "            0.6967,      0.6977,      0.6987,      0.6997,      0.7007,      0.7017,      0.7027,      0.7037,      0.7047,     0.70571,     0.70671,     0.70771,     0.70871,     0.70971,     0.71071,     0.71171,     0.71271,     0.71371,     0.71471,     0.71572,     0.71672,     0.71772,     0.71872,     0.71972,\n",
       "           0.72072,     0.72172,     0.72272,     0.72372,     0.72472,     0.72573,     0.72673,     0.72773,     0.72873,     0.72973,     0.73073,     0.73173,     0.73273,     0.73373,     0.73473,     0.73574,     0.73674,     0.73774,     0.73874,     0.73974,     0.74074,     0.74174,     0.74274,     0.74374,\n",
       "           0.74474,     0.74575,     0.74675,     0.74775,     0.74875,     0.74975,     0.75075,     0.75175,     0.75275,     0.75375,     0.75475,     0.75576,     0.75676,     0.75776,     0.75876,     0.75976,     0.76076,     0.76176,     0.76276,     0.76376,     0.76476,     0.76577,     0.76677,     0.76777,\n",
       "           0.76877,     0.76977,     0.77077,     0.77177,     0.77277,     0.77377,     0.77477,     0.77578,     0.77678,     0.77778,     0.77878,     0.77978,     0.78078,     0.78178,     0.78278,     0.78378,     0.78478,     0.78579,     0.78679,     0.78779,     0.78879,     0.78979,     0.79079,     0.79179,\n",
       "           0.79279,     0.79379,     0.79479,      0.7958,      0.7968,      0.7978,      0.7988,      0.7998,      0.8008,      0.8018,      0.8028,      0.8038,      0.8048,     0.80581,     0.80681,     0.80781,     0.80881,     0.80981,     0.81081,     0.81181,     0.81281,     0.81381,     0.81481,     0.81582,\n",
       "           0.81682,     0.81782,     0.81882,     0.81982,     0.82082,     0.82182,     0.82282,     0.82382,     0.82482,     0.82583,     0.82683,     0.82783,     0.82883,     0.82983,     0.83083,     0.83183,     0.83283,     0.83383,     0.83483,     0.83584,     0.83684,     0.83784,     0.83884,     0.83984,\n",
       "           0.84084,     0.84184,     0.84284,     0.84384,     0.84484,     0.84585,     0.84685,     0.84785,     0.84885,     0.84985,     0.85085,     0.85185,     0.85285,     0.85385,     0.85485,     0.85586,     0.85686,     0.85786,     0.85886,     0.85986,     0.86086,     0.86186,     0.86286,     0.86386,\n",
       "           0.86486,     0.86587,     0.86687,     0.86787,     0.86887,     0.86987,     0.87087,     0.87187,     0.87287,     0.87387,     0.87487,     0.87588,     0.87688,     0.87788,     0.87888,     0.87988,     0.88088,     0.88188,     0.88288,     0.88388,     0.88488,     0.88589,     0.88689,     0.88789,\n",
       "           0.88889,     0.88989,     0.89089,     0.89189,     0.89289,     0.89389,     0.89489,      0.8959,      0.8969,      0.8979,      0.8989,      0.8999,      0.9009,      0.9019,      0.9029,      0.9039,      0.9049,     0.90591,     0.90691,     0.90791,     0.90891,     0.90991,     0.91091,     0.91191,\n",
       "           0.91291,     0.91391,     0.91491,     0.91592,     0.91692,     0.91792,     0.91892,     0.91992,     0.92092,     0.92192,     0.92292,     0.92392,     0.92492,     0.92593,     0.92693,     0.92793,     0.92893,     0.92993,     0.93093,     0.93193,     0.93293,     0.93393,     0.93493,     0.93594,\n",
       "           0.93694,     0.93794,     0.93894,     0.93994,     0.94094,     0.94194,     0.94294,     0.94394,     0.94494,     0.94595,     0.94695,     0.94795,     0.94895,     0.94995,     0.95095,     0.95195,     0.95295,     0.95395,     0.95495,     0.95596,     0.95696,     0.95796,     0.95896,     0.95996,\n",
       "           0.96096,     0.96196,     0.96296,     0.96396,     0.96496,     0.96597,     0.96697,     0.96797,     0.96897,     0.96997,     0.97097,     0.97197,     0.97297,     0.97397,     0.97497,     0.97598,     0.97698,     0.97798,     0.97898,     0.97998,     0.98098,     0.98198,     0.98298,     0.98398,\n",
       "           0.98498,     0.98599,     0.98699,     0.98799,     0.98899,     0.98999,     0.99099,     0.99199,     0.99299,     0.99399,     0.99499,       0.996,       0.997,       0.998,       0.999,           1]), array([[    0.81914,     0.81914,     0.84566,     0.85666,     0.86526,     0.87103,     0.87659,     0.88034,     0.88304,     0.88602,     0.88771,     0.89147,     0.89367,      0.8959,     0.89783,     0.89951,     0.90072,     0.90201,      0.9037,     0.90475,     0.90592,     0.90698,     0.90821,\n",
       "            0.90902,     0.90975,     0.91084,     0.91108,     0.91158,     0.91182,     0.91257,     0.91358,     0.91428,     0.91519,     0.91579,      0.9163,     0.91719,     0.91775,     0.91789,      0.9184,     0.91875,     0.91905,     0.91972,     0.92031,     0.92047,     0.92107,     0.92116,\n",
       "            0.92125,     0.92144,     0.92186,     0.92207,     0.92225,     0.92234,     0.92242,     0.92252,     0.92261,     0.92279,     0.92321,     0.92344,     0.92361,     0.92372,     0.92397,     0.92436,     0.92448,     0.92534,     0.92558,     0.92607,     0.92636,     0.92653,     0.92713,\n",
       "            0.92758,     0.92769,      0.9278,     0.92791,     0.92817,     0.92829,     0.92841,     0.92859,     0.92893,     0.92911,     0.92941,     0.92955,     0.92988,     0.92993,     0.92998,     0.93002,     0.93007,     0.93024,     0.93037,     0.93088,     0.93093,     0.93097,     0.93102,\n",
       "            0.93106,     0.93125,     0.93116,     0.93157,     0.93189,     0.93213,     0.93225,     0.93244,     0.93252,     0.93253,     0.93307,     0.93327,     0.93338,     0.93376,     0.93398,     0.93434,     0.93449,     0.93458,     0.93467,     0.93478,     0.93486,     0.93493,     0.93499,\n",
       "            0.93507,     0.93517,     0.93548,      0.9356,     0.93568,     0.93573,     0.93578,     0.93584,     0.93662,     0.93649,     0.93649,     0.93664,     0.93676,     0.93693,     0.93717,     0.93751,     0.93762,     0.93805,     0.93814,     0.93823,     0.93816,     0.93806,     0.93848,\n",
       "            0.93859,     0.93877,     0.93893,     0.93925,      0.9393,     0.93934,     0.93939,     0.93944,     0.93951,     0.93958,     0.93965,     0.93979,     0.93988,     0.93994,        0.94,     0.94006,      0.9402,     0.94032,     0.94042,     0.94068,      0.9407,     0.94072,     0.94074,\n",
       "            0.94076,     0.94078,      0.9408,     0.94082,     0.94084,     0.94086,     0.94092,     0.94101,     0.94114,     0.94129,     0.94132,     0.94135,     0.94138,     0.94141,     0.94144,     0.94147,     0.94167,     0.94186,     0.94194,     0.94199,     0.94204,     0.94209,     0.94223,\n",
       "             0.9425,     0.94308,     0.94316,     0.94321,     0.94325,     0.94329,     0.94337,     0.94356,     0.94361,     0.94366,     0.94371,     0.94375,     0.94379,     0.94382,     0.94386,      0.9439,     0.94393,     0.94397,       0.944,     0.94403,     0.94407,      0.9441,     0.94413,\n",
       "            0.94434,     0.94427,     0.94419,     0.94414,     0.94425,     0.94438,     0.94446,     0.94435,      0.9445,     0.94474,     0.94485,     0.94496,     0.94511,     0.94527,     0.94542,     0.94557,     0.94567,     0.94597,     0.94601,     0.94605,     0.94609,     0.94612,     0.94616,\n",
       "            0.94609,     0.94598,     0.94613,     0.94622,     0.94629,     0.94657,     0.94667,     0.94677,     0.94687,     0.94696,     0.94706,     0.94716,     0.94723,     0.94729,     0.94734,      0.9474,     0.94746,     0.94752,     0.94758,     0.94768,     0.94781,      0.9479,       0.948,\n",
       "             0.9478,     0.94794,       0.948,     0.94801,     0.94803,     0.94804,     0.94806,     0.94807,     0.94808,      0.9481,     0.94811,     0.94812,     0.94814,     0.94815,     0.94817,     0.94818,     0.94819,     0.94804,     0.94802,     0.94809,     0.94815,     0.94823,     0.94833,\n",
       "             0.9485,     0.94865,     0.94874,     0.94882,     0.94891,     0.94899,     0.94903,     0.94906,     0.94909,     0.94912,     0.94915,     0.94918,     0.94921,     0.94926,     0.94931,     0.94936,     0.94942,     0.94953,     0.94965,     0.94977,      0.9499,     0.95005,     0.95011,\n",
       "            0.95017,     0.95023,     0.95041,     0.95052,     0.95058,     0.95064,     0.95069,     0.95071,     0.95073,     0.95075,     0.95077,     0.95079,     0.95081,     0.95083,     0.95085,     0.95087,     0.95088,     0.95103,     0.95116,     0.95124,     0.95126,      0.9513,     0.95133,\n",
       "            0.95137,     0.95141,     0.95144,     0.95148,     0.95151,     0.95155,     0.95158,     0.95162,     0.95165,     0.95168,     0.95172,     0.95175,     0.95179,     0.95182,     0.95186,     0.95189,     0.95193,     0.95201,     0.95209,     0.95214,     0.95218,     0.95221,     0.95224,\n",
       "            0.95227,      0.9523,     0.95233,     0.95249,     0.95278,     0.95281,     0.95284,     0.95287,      0.9529,     0.95293,     0.95296,     0.95302,      0.9531,     0.95318,     0.95339,     0.95345,     0.95351,     0.95356,      0.9537,     0.95394,     0.95405,      0.9541,     0.95414,\n",
       "            0.95419,     0.95423,      0.9545,     0.95472,     0.95488,     0.95493,     0.95497,     0.95502,     0.95506,     0.95509,     0.95511,     0.95513,     0.95516,     0.95518,      0.9552,     0.95522,     0.95524,     0.95526,     0.95528,     0.95543,     0.95565,     0.95545,      0.9554,\n",
       "            0.95535,      0.9553,     0.95525,     0.95521,     0.95516,     0.95512,     0.95508,     0.95504,     0.95506,     0.95514,     0.95521,      0.9554,     0.95547,      0.9555,     0.95553,     0.95556,      0.9556,     0.95563,      0.9557,     0.95588,     0.95591,     0.95595,     0.95599,\n",
       "            0.95603,     0.95606,     0.95604,     0.95598,     0.95592,     0.95586,     0.95601,     0.95654,     0.95662,      0.9567,     0.95681,     0.95694,     0.95712,     0.95709,     0.95707,     0.95704,     0.95702,       0.957,     0.95697,     0.95695,     0.95692,      0.9569,     0.95703,\n",
       "            0.95714,     0.95719,     0.95725,      0.9573,     0.95733,     0.95735,     0.95737,      0.9574,     0.95742,     0.95744,     0.95746,     0.95748,     0.95751,     0.95774,      0.9578,     0.95785,      0.9579,     0.95838,     0.95843,     0.95848,     0.95852,     0.95857,     0.95848,\n",
       "            0.95842,     0.95853,     0.95863,     0.95874,     0.95892,     0.95902,     0.95906,      0.9591,     0.95913,     0.95917,     0.95921,     0.95917,     0.95911,     0.95905,     0.95899,     0.95878,     0.95895,     0.95902,     0.95907,     0.95912,     0.95918,      0.9591,     0.95902,\n",
       "            0.95893,     0.95874,     0.95894,     0.95901,     0.95908,     0.95915,     0.95918,     0.95921,     0.95924,     0.95927,     0.95931,     0.95934,     0.95938,     0.95943,     0.95949,     0.95954,     0.95959,     0.95964,     0.95968,     0.95972,     0.95977,     0.95998,     0.95995,\n",
       "            0.95992,     0.95989,     0.95986,     0.95983,      0.9598,     0.95977,     0.95981,     0.95987,     0.95992,     0.95998,     0.96005,     0.96012,     0.96019,     0.95997,     0.96004,     0.96011,      0.9604,     0.96047,     0.96055,     0.96062,     0.96073,     0.96083,     0.96084,\n",
       "            0.96085,     0.96086,     0.96087,     0.96088,     0.96089,      0.9609,     0.96091,     0.96092,     0.96093,     0.96094,     0.96095,     0.96096,     0.96097,     0.96098,     0.96099,       0.961,     0.96101,     0.96102,     0.96103,     0.96104,     0.96108,     0.96113,     0.96119,\n",
       "            0.96124,     0.96128,     0.96132,     0.96135,     0.96138,     0.96142,     0.96145,     0.96165,     0.96157,     0.96149,     0.96157,     0.96189,     0.96191,     0.96193,     0.96194,     0.96196,     0.96198,       0.962,     0.96201,     0.96203,     0.96205,     0.96206,     0.96208,\n",
       "             0.9621,     0.96228,     0.96225,     0.96221,     0.96217,     0.96214,      0.9621,     0.96209,      0.9621,     0.96212,     0.96213,     0.96215,     0.96216,     0.96218,     0.96219,      0.9622,     0.96222,     0.96223,     0.96225,     0.96226,     0.96228,     0.96229,     0.96228,\n",
       "            0.96223,     0.96218,     0.96213,     0.96209,     0.96193,     0.96185,     0.96189,     0.96192,     0.96195,     0.96199,     0.96202,     0.96182,     0.96186,      0.9619,     0.96193,     0.96197,     0.96201,     0.96206,     0.96215,     0.96224,     0.96246,     0.96268,     0.96297,\n",
       "            0.96304,     0.96312,     0.96321,      0.9633,     0.96347,     0.96347,     0.96335,     0.96347,     0.96339,     0.96331,     0.96322,     0.96313,     0.96329,     0.96333,     0.96337,     0.96341,     0.96346,      0.9635,     0.96338,     0.96327,     0.96338,     0.96348,     0.96355,\n",
       "            0.96361,     0.96368,     0.96365,     0.96358,     0.96352,     0.96391,     0.96397,     0.96402,     0.96408,     0.96409,     0.96403,     0.96396,     0.96389,     0.96366,     0.96379,      0.9639,     0.96398,     0.96405,      0.9641,     0.96413,     0.96416,     0.96418,     0.96421,\n",
       "            0.96424,     0.96427,     0.96429,     0.96459,     0.96468,       0.965,     0.96515,     0.96522,     0.96527,     0.96532,     0.96537,     0.96549,     0.96559,     0.96555,     0.96551,     0.96547,     0.96543,     0.96539,     0.96545,     0.96556,     0.96626,     0.96628,     0.96631,\n",
       "            0.96634,     0.96637,      0.9664,     0.96642,     0.96645,     0.96641,     0.96625,     0.96609,     0.96582,     0.96593,     0.96605,     0.96618,     0.96602,     0.96592,     0.96585,     0.96578,     0.96596,     0.96611,     0.96584,     0.96572,     0.96579,     0.96566,     0.96561,\n",
       "            0.96556,     0.96552,     0.96547,      0.9655,     0.96565,     0.96572,     0.96578,     0.96585,     0.96596,     0.96585,     0.96569,     0.96553,     0.96513,     0.96497,     0.96495,     0.96501,     0.96508,     0.96508,     0.96492,     0.96501,     0.96527,     0.96511,     0.96448,\n",
       "            0.96441,     0.96449,     0.96456,     0.96463,     0.96467,     0.96472,     0.96476,     0.96481,     0.96444,     0.96503,     0.96518,     0.96486,     0.96496,     0.96488,      0.9648,     0.96479,     0.96494,     0.96432,     0.96439,     0.96447,     0.96488,     0.96505,     0.96497,\n",
       "            0.96488,     0.96448,     0.96456,     0.96391,     0.96374,     0.96353,     0.96364,     0.96348,     0.96353,     0.96344,     0.96402,     0.96385,     0.96438,     0.96466,     0.96449,     0.96436,     0.96388,     0.96379,     0.96369,     0.96329,     0.96264,     0.96175,      0.9619,\n",
       "            0.96161,     0.96182,     0.96117,     0.96101,     0.96028,     0.96005,     0.95989,     0.95972,     0.95911,      0.9578,     0.95673,     0.95689,     0.95572,     0.95529,     0.95355,     0.95235,     0.95218,      0.9515,     0.95054,     0.95031,     0.94937,     0.94813,     0.94796,\n",
       "            0.94646,     0.94623,     0.94584,      0.9453,     0.94545,     0.94504,     0.94332,     0.94104,     0.93917,      0.9369,     0.93672,     0.93438,     0.93236,     0.92982,     0.92721,     0.92591,     0.92303,     0.91951,     0.91552,     0.91534,     0.91161,     0.90778,     0.90239,\n",
       "            0.89602,     0.88989,     0.88532,     0.88096,     0.88077,     0.87469,     0.86619,     0.85814,     0.85208,       0.843,     0.83372,     0.82715,     0.81829,     0.80821,     0.79915,     0.78917,     0.77924,     0.76517,     0.75471,     0.74346,     0.73472,     0.72115,     0.71047,\n",
       "            0.70087,     0.68481,     0.67281,     0.65811,     0.64245,     0.62466,     0.60708,     0.59106,      0.5726,     0.53757,     0.51716,     0.50442,     0.48518,     0.46705,      0.4446,     0.42775,     0.40926,     0.38908,      0.3716,     0.35126,     0.32924,     0.29489,     0.28074,\n",
       "            0.26428,     0.24874,     0.23516,     0.22072,     0.20825,      0.1771,     0.16401,     0.14483,     0.13533,     0.12721,     0.11958,     0.10729,    0.086047,    0.076554,    0.071159,    0.063413,    0.051687,    0.047034,     0.04508,    0.037565,    0.034554,    0.032641,     0.02503,\n",
       "           0.022449,    0.021835,    0.017766,    0.011837,   0.0095611,    0.007977,   0.0075096,   0.0054746,   0.0052664,   0.0050581,   0.0048498,   0.0046414,   0.0016092,           0,           0,           0,           0,           0,           0,           0,           0,           0,           0,\n",
       "                  0,           0,           0,           0,           0,           0,           0,           0,           0,           0,           0,           0,           0,           0,           0,           0,           0,           0,           0,           0,           0,           0,           0,\n",
       "                  0,           0,           0,           0,           0,           0,           0,           0,           0,           0,           0,           0,           0,           0,           0,           0,           0,           0,           0,           0,           0,           0,           0,\n",
       "                  0,           0,           0,           0,           0,           0,           0,           0,           0,           0,           0,           0,           0,           0,           0,           0,           0,           0,           0,           0,           0,           0,           0,\n",
       "                  0,           0,           0,           0,           0,           0,           0,           0,           0,           0,           0]]), 'Confidence', 'F1'], [array([          0,    0.001001,    0.002002,    0.003003,    0.004004,    0.005005,    0.006006,    0.007007,    0.008008,    0.009009,     0.01001,    0.011011,    0.012012,    0.013013,    0.014014,    0.015015,    0.016016,    0.017017,    0.018018,    0.019019,     0.02002,    0.021021,    0.022022,    0.023023,\n",
       "          0.024024,    0.025025,    0.026026,    0.027027,    0.028028,    0.029029,     0.03003,    0.031031,    0.032032,    0.033033,    0.034034,    0.035035,    0.036036,    0.037037,    0.038038,    0.039039,     0.04004,    0.041041,    0.042042,    0.043043,    0.044044,    0.045045,    0.046046,    0.047047,\n",
       "          0.048048,    0.049049,     0.05005,    0.051051,    0.052052,    0.053053,    0.054054,    0.055055,    0.056056,    0.057057,    0.058058,    0.059059,     0.06006,    0.061061,    0.062062,    0.063063,    0.064064,    0.065065,    0.066066,    0.067067,    0.068068,    0.069069,     0.07007,    0.071071,\n",
       "          0.072072,    0.073073,    0.074074,    0.075075,    0.076076,    0.077077,    0.078078,    0.079079,     0.08008,    0.081081,    0.082082,    0.083083,    0.084084,    0.085085,    0.086086,    0.087087,    0.088088,    0.089089,     0.09009,    0.091091,    0.092092,    0.093093,    0.094094,    0.095095,\n",
       "          0.096096,    0.097097,    0.098098,    0.099099,      0.1001,      0.1011,      0.1021,      0.1031,      0.1041,     0.10511,     0.10611,     0.10711,     0.10811,     0.10911,     0.11011,     0.11111,     0.11211,     0.11311,     0.11411,     0.11512,     0.11612,     0.11712,     0.11812,     0.11912,\n",
       "           0.12012,     0.12112,     0.12212,     0.12312,     0.12412,     0.12513,     0.12613,     0.12713,     0.12813,     0.12913,     0.13013,     0.13113,     0.13213,     0.13313,     0.13413,     0.13514,     0.13614,     0.13714,     0.13814,     0.13914,     0.14014,     0.14114,     0.14214,     0.14314,\n",
       "           0.14414,     0.14515,     0.14615,     0.14715,     0.14815,     0.14915,     0.15015,     0.15115,     0.15215,     0.15315,     0.15415,     0.15516,     0.15616,     0.15716,     0.15816,     0.15916,     0.16016,     0.16116,     0.16216,     0.16316,     0.16416,     0.16517,     0.16617,     0.16717,\n",
       "           0.16817,     0.16917,     0.17017,     0.17117,     0.17217,     0.17317,     0.17417,     0.17518,     0.17618,     0.17718,     0.17818,     0.17918,     0.18018,     0.18118,     0.18218,     0.18318,     0.18418,     0.18519,     0.18619,     0.18719,     0.18819,     0.18919,     0.19019,     0.19119,\n",
       "           0.19219,     0.19319,     0.19419,      0.1952,      0.1962,      0.1972,      0.1982,      0.1992,      0.2002,      0.2012,      0.2022,      0.2032,      0.2042,     0.20521,     0.20621,     0.20721,     0.20821,     0.20921,     0.21021,     0.21121,     0.21221,     0.21321,     0.21421,     0.21522,\n",
       "           0.21622,     0.21722,     0.21822,     0.21922,     0.22022,     0.22122,     0.22222,     0.22322,     0.22422,     0.22523,     0.22623,     0.22723,     0.22823,     0.22923,     0.23023,     0.23123,     0.23223,     0.23323,     0.23423,     0.23524,     0.23624,     0.23724,     0.23824,     0.23924,\n",
       "           0.24024,     0.24124,     0.24224,     0.24324,     0.24424,     0.24525,     0.24625,     0.24725,     0.24825,     0.24925,     0.25025,     0.25125,     0.25225,     0.25325,     0.25425,     0.25526,     0.25626,     0.25726,     0.25826,     0.25926,     0.26026,     0.26126,     0.26226,     0.26326,\n",
       "           0.26426,     0.26527,     0.26627,     0.26727,     0.26827,     0.26927,     0.27027,     0.27127,     0.27227,     0.27327,     0.27427,     0.27528,     0.27628,     0.27728,     0.27828,     0.27928,     0.28028,     0.28128,     0.28228,     0.28328,     0.28428,     0.28529,     0.28629,     0.28729,\n",
       "           0.28829,     0.28929,     0.29029,     0.29129,     0.29229,     0.29329,     0.29429,      0.2953,      0.2963,      0.2973,      0.2983,      0.2993,      0.3003,      0.3013,      0.3023,      0.3033,      0.3043,     0.30531,     0.30631,     0.30731,     0.30831,     0.30931,     0.31031,     0.31131,\n",
       "           0.31231,     0.31331,     0.31431,     0.31532,     0.31632,     0.31732,     0.31832,     0.31932,     0.32032,     0.32132,     0.32232,     0.32332,     0.32432,     0.32533,     0.32633,     0.32733,     0.32833,     0.32933,     0.33033,     0.33133,     0.33233,     0.33333,     0.33433,     0.33534,\n",
       "           0.33634,     0.33734,     0.33834,     0.33934,     0.34034,     0.34134,     0.34234,     0.34334,     0.34434,     0.34535,     0.34635,     0.34735,     0.34835,     0.34935,     0.35035,     0.35135,     0.35235,     0.35335,     0.35435,     0.35536,     0.35636,     0.35736,     0.35836,     0.35936,\n",
       "           0.36036,     0.36136,     0.36236,     0.36336,     0.36436,     0.36537,     0.36637,     0.36737,     0.36837,     0.36937,     0.37037,     0.37137,     0.37237,     0.37337,     0.37437,     0.37538,     0.37638,     0.37738,     0.37838,     0.37938,     0.38038,     0.38138,     0.38238,     0.38338,\n",
       "           0.38438,     0.38539,     0.38639,     0.38739,     0.38839,     0.38939,     0.39039,     0.39139,     0.39239,     0.39339,     0.39439,      0.3954,      0.3964,      0.3974,      0.3984,      0.3994,      0.4004,      0.4014,      0.4024,      0.4034,      0.4044,     0.40541,     0.40641,     0.40741,\n",
       "           0.40841,     0.40941,     0.41041,     0.41141,     0.41241,     0.41341,     0.41441,     0.41542,     0.41642,     0.41742,     0.41842,     0.41942,     0.42042,     0.42142,     0.42242,     0.42342,     0.42442,     0.42543,     0.42643,     0.42743,     0.42843,     0.42943,     0.43043,     0.43143,\n",
       "           0.43243,     0.43343,     0.43443,     0.43544,     0.43644,     0.43744,     0.43844,     0.43944,     0.44044,     0.44144,     0.44244,     0.44344,     0.44444,     0.44545,     0.44645,     0.44745,     0.44845,     0.44945,     0.45045,     0.45145,     0.45245,     0.45345,     0.45445,     0.45546,\n",
       "           0.45646,     0.45746,     0.45846,     0.45946,     0.46046,     0.46146,     0.46246,     0.46346,     0.46446,     0.46547,     0.46647,     0.46747,     0.46847,     0.46947,     0.47047,     0.47147,     0.47247,     0.47347,     0.47447,     0.47548,     0.47648,     0.47748,     0.47848,     0.47948,\n",
       "           0.48048,     0.48148,     0.48248,     0.48348,     0.48448,     0.48549,     0.48649,     0.48749,     0.48849,     0.48949,     0.49049,     0.49149,     0.49249,     0.49349,     0.49449,      0.4955,      0.4965,      0.4975,      0.4985,      0.4995,      0.5005,      0.5015,      0.5025,      0.5035,\n",
       "            0.5045,     0.50551,     0.50651,     0.50751,     0.50851,     0.50951,     0.51051,     0.51151,     0.51251,     0.51351,     0.51451,     0.51552,     0.51652,     0.51752,     0.51852,     0.51952,     0.52052,     0.52152,     0.52252,     0.52352,     0.52452,     0.52553,     0.52653,     0.52753,\n",
       "           0.52853,     0.52953,     0.53053,     0.53153,     0.53253,     0.53353,     0.53453,     0.53554,     0.53654,     0.53754,     0.53854,     0.53954,     0.54054,     0.54154,     0.54254,     0.54354,     0.54454,     0.54555,     0.54655,     0.54755,     0.54855,     0.54955,     0.55055,     0.55155,\n",
       "           0.55255,     0.55355,     0.55455,     0.55556,     0.55656,     0.55756,     0.55856,     0.55956,     0.56056,     0.56156,     0.56256,     0.56356,     0.56456,     0.56557,     0.56657,     0.56757,     0.56857,     0.56957,     0.57057,     0.57157,     0.57257,     0.57357,     0.57457,     0.57558,\n",
       "           0.57658,     0.57758,     0.57858,     0.57958,     0.58058,     0.58158,     0.58258,     0.58358,     0.58458,     0.58559,     0.58659,     0.58759,     0.58859,     0.58959,     0.59059,     0.59159,     0.59259,     0.59359,     0.59459,      0.5956,      0.5966,      0.5976,      0.5986,      0.5996,\n",
       "            0.6006,      0.6016,      0.6026,      0.6036,      0.6046,     0.60561,     0.60661,     0.60761,     0.60861,     0.60961,     0.61061,     0.61161,     0.61261,     0.61361,     0.61461,     0.61562,     0.61662,     0.61762,     0.61862,     0.61962,     0.62062,     0.62162,     0.62262,     0.62362,\n",
       "           0.62462,     0.62563,     0.62663,     0.62763,     0.62863,     0.62963,     0.63063,     0.63163,     0.63263,     0.63363,     0.63463,     0.63564,     0.63664,     0.63764,     0.63864,     0.63964,     0.64064,     0.64164,     0.64264,     0.64364,     0.64464,     0.64565,     0.64665,     0.64765,\n",
       "           0.64865,     0.64965,     0.65065,     0.65165,     0.65265,     0.65365,     0.65465,     0.65566,     0.65666,     0.65766,     0.65866,     0.65966,     0.66066,     0.66166,     0.66266,     0.66366,     0.66466,     0.66567,     0.66667,     0.66767,     0.66867,     0.66967,     0.67067,     0.67167,\n",
       "           0.67267,     0.67367,     0.67467,     0.67568,     0.67668,     0.67768,     0.67868,     0.67968,     0.68068,     0.68168,     0.68268,     0.68368,     0.68468,     0.68569,     0.68669,     0.68769,     0.68869,     0.68969,     0.69069,     0.69169,     0.69269,     0.69369,     0.69469,      0.6957,\n",
       "            0.6967,      0.6977,      0.6987,      0.6997,      0.7007,      0.7017,      0.7027,      0.7037,      0.7047,     0.70571,     0.70671,     0.70771,     0.70871,     0.70971,     0.71071,     0.71171,     0.71271,     0.71371,     0.71471,     0.71572,     0.71672,     0.71772,     0.71872,     0.71972,\n",
       "           0.72072,     0.72172,     0.72272,     0.72372,     0.72472,     0.72573,     0.72673,     0.72773,     0.72873,     0.72973,     0.73073,     0.73173,     0.73273,     0.73373,     0.73473,     0.73574,     0.73674,     0.73774,     0.73874,     0.73974,     0.74074,     0.74174,     0.74274,     0.74374,\n",
       "           0.74474,     0.74575,     0.74675,     0.74775,     0.74875,     0.74975,     0.75075,     0.75175,     0.75275,     0.75375,     0.75475,     0.75576,     0.75676,     0.75776,     0.75876,     0.75976,     0.76076,     0.76176,     0.76276,     0.76376,     0.76476,     0.76577,     0.76677,     0.76777,\n",
       "           0.76877,     0.76977,     0.77077,     0.77177,     0.77277,     0.77377,     0.77477,     0.77578,     0.77678,     0.77778,     0.77878,     0.77978,     0.78078,     0.78178,     0.78278,     0.78378,     0.78478,     0.78579,     0.78679,     0.78779,     0.78879,     0.78979,     0.79079,     0.79179,\n",
       "           0.79279,     0.79379,     0.79479,      0.7958,      0.7968,      0.7978,      0.7988,      0.7998,      0.8008,      0.8018,      0.8028,      0.8038,      0.8048,     0.80581,     0.80681,     0.80781,     0.80881,     0.80981,     0.81081,     0.81181,     0.81281,     0.81381,     0.81481,     0.81582,\n",
       "           0.81682,     0.81782,     0.81882,     0.81982,     0.82082,     0.82182,     0.82282,     0.82382,     0.82482,     0.82583,     0.82683,     0.82783,     0.82883,     0.82983,     0.83083,     0.83183,     0.83283,     0.83383,     0.83483,     0.83584,     0.83684,     0.83784,     0.83884,     0.83984,\n",
       "           0.84084,     0.84184,     0.84284,     0.84384,     0.84484,     0.84585,     0.84685,     0.84785,     0.84885,     0.84985,     0.85085,     0.85185,     0.85285,     0.85385,     0.85485,     0.85586,     0.85686,     0.85786,     0.85886,     0.85986,     0.86086,     0.86186,     0.86286,     0.86386,\n",
       "           0.86486,     0.86587,     0.86687,     0.86787,     0.86887,     0.86987,     0.87087,     0.87187,     0.87287,     0.87387,     0.87487,     0.87588,     0.87688,     0.87788,     0.87888,     0.87988,     0.88088,     0.88188,     0.88288,     0.88388,     0.88488,     0.88589,     0.88689,     0.88789,\n",
       "           0.88889,     0.88989,     0.89089,     0.89189,     0.89289,     0.89389,     0.89489,      0.8959,      0.8969,      0.8979,      0.8989,      0.8999,      0.9009,      0.9019,      0.9029,      0.9039,      0.9049,     0.90591,     0.90691,     0.90791,     0.90891,     0.90991,     0.91091,     0.91191,\n",
       "           0.91291,     0.91391,     0.91491,     0.91592,     0.91692,     0.91792,     0.91892,     0.91992,     0.92092,     0.92192,     0.92292,     0.92392,     0.92492,     0.92593,     0.92693,     0.92793,     0.92893,     0.92993,     0.93093,     0.93193,     0.93293,     0.93393,     0.93493,     0.93594,\n",
       "           0.93694,     0.93794,     0.93894,     0.93994,     0.94094,     0.94194,     0.94294,     0.94394,     0.94494,     0.94595,     0.94695,     0.94795,     0.94895,     0.94995,     0.95095,     0.95195,     0.95295,     0.95395,     0.95495,     0.95596,     0.95696,     0.95796,     0.95896,     0.95996,\n",
       "           0.96096,     0.96196,     0.96296,     0.96396,     0.96496,     0.96597,     0.96697,     0.96797,     0.96897,     0.96997,     0.97097,     0.97197,     0.97297,     0.97397,     0.97497,     0.97598,     0.97698,     0.97798,     0.97898,     0.97998,     0.98098,     0.98198,     0.98298,     0.98398,\n",
       "           0.98498,     0.98599,     0.98699,     0.98799,     0.98899,     0.98999,     0.99099,     0.99199,     0.99299,     0.99399,     0.99499,       0.996,       0.997,       0.998,       0.999,           1]), array([[    0.69413,     0.69413,     0.73309,     0.74977,     0.76305,     0.77207,     0.78085,     0.78682,     0.79114,     0.79595,     0.79868,     0.80478,     0.80839,     0.81204,     0.81521,      0.8183,      0.8203,     0.82245,     0.82526,       0.827,     0.82928,     0.83106,     0.83341,\n",
       "            0.83482,     0.83604,     0.83789,      0.8383,     0.83948,     0.83987,     0.84115,     0.84287,     0.84407,     0.84561,     0.84664,     0.84751,     0.84903,     0.84999,     0.85024,     0.85111,     0.85172,     0.85224,     0.85338,      0.8544,     0.85468,     0.85571,     0.85586,\n",
       "            0.85602,     0.85634,     0.85707,     0.85744,     0.85775,      0.8579,     0.85805,     0.85821,     0.85836,     0.85867,     0.85942,     0.85981,     0.86011,     0.86029,     0.86072,     0.86145,     0.86195,     0.86346,     0.86388,     0.86473,     0.86524,     0.86552,     0.86657,\n",
       "            0.86736,     0.86755,     0.86775,     0.86795,     0.86839,     0.86861,     0.86882,     0.86912,     0.86972,     0.87005,     0.87058,     0.87116,     0.87175,     0.87183,     0.87191,       0.872,     0.87208,     0.87237,     0.87261,      0.8735,     0.87358,     0.87366,     0.87374,\n",
       "            0.87382,     0.87419,     0.87436,     0.87507,     0.87564,     0.87606,     0.87627,     0.87661,     0.87695,     0.87713,     0.87807,     0.87843,     0.87863,      0.8793,      0.8797,     0.88033,      0.8806,     0.88076,     0.88092,     0.88111,     0.88126,     0.88137,     0.88149,\n",
       "            0.88163,     0.88181,     0.88236,     0.88258,     0.88271,     0.88281,      0.8829,       0.883,     0.88444,     0.88441,     0.88453,     0.88479,       0.885,     0.88531,     0.88573,     0.88635,     0.88655,      0.8873,     0.88747,     0.88764,     0.88764,     0.88762,     0.88845,\n",
       "            0.88865,     0.88897,     0.88926,     0.88983,     0.88991,        0.89,     0.89008,     0.89017,     0.89029,     0.89042,     0.89055,      0.8908,     0.89097,     0.89107,     0.89117,     0.89129,     0.89154,     0.89174,     0.89192,     0.89239,     0.89243,     0.89246,      0.8925,\n",
       "            0.89254,     0.89258,     0.89261,     0.89265,     0.89269,     0.89272,     0.89283,       0.893,     0.89322,     0.89349,     0.89355,      0.8936,     0.89366,     0.89371,     0.89377,     0.89382,     0.89417,     0.89453,     0.89466,     0.89475,     0.89485,     0.89494,      0.8952,\n",
       "            0.89568,     0.89672,     0.89688,     0.89696,     0.89703,     0.89711,     0.89726,      0.8976,     0.89769,     0.89777,     0.89786,     0.89794,     0.89801,     0.89807,     0.89814,     0.89821,     0.89827,     0.89834,     0.89839,     0.89845,     0.89851,     0.89857,     0.89863,\n",
       "            0.89904,     0.89903,     0.89901,     0.89903,     0.89922,     0.89947,     0.89974,     0.89977,     0.90005,     0.90049,     0.90068,     0.90089,     0.90117,     0.90145,     0.90173,     0.90199,     0.90219,     0.90273,      0.9028,     0.90287,     0.90294,       0.903,     0.90307,\n",
       "            0.90308,     0.90306,     0.90339,     0.90355,     0.90369,     0.90421,     0.90439,     0.90457,     0.90474,     0.90492,      0.9051,     0.90528,      0.9054,     0.90551,     0.90561,     0.90571,     0.90582,     0.90593,     0.90604,     0.90622,     0.90646,     0.90663,     0.90681,\n",
       "            0.90682,     0.90708,      0.9072,     0.90722,     0.90725,     0.90727,      0.9073,     0.90732,     0.90735,     0.90737,      0.9074,     0.90742,     0.90745,     0.90747,      0.9075,     0.90753,     0.90755,     0.90754,     0.90762,     0.90774,     0.90786,     0.90801,     0.90818,\n",
       "             0.9085,     0.90877,     0.90893,     0.90909,     0.90925,      0.9094,     0.90948,     0.90953,     0.90959,     0.90964,     0.90969,     0.90975,      0.9098,     0.90989,     0.90999,     0.91009,     0.91018,     0.91038,     0.91061,     0.91083,     0.91107,     0.91134,     0.91146,\n",
       "            0.91157,     0.91169,     0.91201,     0.91221,     0.91233,     0.91244,     0.91252,     0.91256,      0.9126,     0.91263,     0.91267,      0.9127,     0.91274,     0.91278,     0.91281,     0.91285,     0.91288,     0.91315,     0.91339,     0.91355,     0.91366,     0.91404,      0.9141,\n",
       "            0.91417,     0.91423,      0.9143,     0.91437,     0.91443,      0.9145,     0.91456,     0.91462,     0.91469,     0.91475,     0.91481,     0.91488,     0.91494,       0.915,     0.91507,     0.91513,     0.91521,     0.91536,      0.9155,      0.9156,     0.91566,     0.91571,     0.91577,\n",
       "            0.91583,     0.91588,     0.91594,     0.91623,     0.91678,     0.91683,     0.91689,     0.91694,       0.917,     0.91705,     0.91711,     0.91722,     0.91737,     0.91751,      0.9179,     0.91801,     0.91812,     0.91823,     0.91847,     0.91893,     0.91913,     0.91922,      0.9193,\n",
       "            0.91939,     0.91947,     0.91997,     0.92037,     0.92067,     0.92076,     0.92084,     0.92093,     0.92101,     0.92107,     0.92111,     0.92115,     0.92119,     0.92122,     0.92126,      0.9213,     0.92134,     0.92138,     0.92142,      0.9217,     0.92211,     0.92218,     0.92218,\n",
       "            0.92217,     0.92216,     0.92216,     0.92215,     0.92214,     0.92214,     0.92213,     0.92213,     0.92219,     0.92234,     0.92249,     0.92284,     0.92296,     0.92302,     0.92308,     0.92314,      0.9232,     0.92326,      0.9234,     0.92372,     0.92379,     0.92386,     0.92393,\n",
       "              0.924,     0.92407,     0.92409,     0.92409,     0.92408,     0.92407,     0.92437,     0.92537,     0.92552,     0.92567,     0.92588,     0.92611,     0.92645,     0.92645,     0.92644,     0.92644,     0.92644,     0.92643,     0.92643,     0.92643,     0.92642,     0.92642,     0.92668,\n",
       "            0.92689,     0.92699,     0.92709,     0.92719,     0.92725,     0.92729,     0.92733,     0.92737,     0.92741,     0.92745,      0.9275,     0.92754,     0.92758,     0.92802,     0.92812,     0.92822,     0.92833,     0.92923,     0.92931,      0.9294,     0.92949,     0.92957,     0.92961,\n",
       "            0.92969,      0.9299,      0.9301,     0.93031,     0.93064,     0.93084,     0.93091,     0.93098,     0.93105,     0.93111,     0.93118,     0.93119,     0.93119,     0.93118,     0.93117,     0.93114,     0.93151,     0.93164,     0.93174,     0.93184,     0.93195,     0.93194,     0.93193,\n",
       "            0.93191,     0.93193,     0.93231,     0.93245,     0.93259,     0.93271,     0.93277,     0.93283,     0.93289,     0.93295,     0.93301,     0.93306,     0.93314,     0.93324,     0.93335,     0.93345,     0.93355,     0.93363,     0.93371,      0.9338,     0.93388,     0.93432,     0.93431,\n",
       "            0.93431,     0.93431,      0.9343,      0.9343,      0.9343,     0.93429,     0.93437,     0.93448,     0.93458,     0.93469,     0.93482,     0.93496,      0.9351,     0.93508,     0.93521,     0.93535,      0.9359,     0.93604,     0.93618,     0.93633,     0.93654,     0.93671,     0.93673,\n",
       "            0.93675,     0.93677,     0.93679,     0.93681,     0.93683,     0.93685,     0.93686,     0.93688,      0.9369,     0.93692,     0.93694,     0.93696,     0.93698,       0.937,     0.93702,     0.93704,     0.93706,     0.93707,     0.93709,     0.93711,     0.93719,      0.9373,      0.9374,\n",
       "            0.93751,     0.93758,     0.93764,     0.93771,     0.93777,     0.93784,      0.9379,     0.93834,     0.93833,     0.93832,     0.93855,     0.93916,     0.93919,     0.93923,     0.93926,     0.93929,     0.93932,     0.93936,     0.93939,     0.93942,     0.93945,     0.93948,     0.93952,\n",
       "            0.93955,     0.93996,     0.93996,     0.93995,     0.93995,     0.93994,     0.93994,     0.93995,     0.93998,     0.94001,     0.94004,     0.94006,     0.94009,     0.94012,     0.94014,     0.94017,      0.9402,     0.94023,     0.94025,     0.94028,     0.94031,     0.94034,     0.94035,\n",
       "            0.94034,     0.94034,     0.94033,     0.94033,     0.94031,     0.94034,      0.9404,     0.94047,     0.94053,      0.9406,     0.94066,      0.9407,     0.94077,     0.94084,     0.94091,     0.94098,     0.94106,     0.94116,     0.94133,      0.9415,     0.94191,     0.94234,      0.9429,\n",
       "            0.94304,     0.94318,     0.94335,     0.94352,     0.94385,       0.944,     0.94398,     0.94439,     0.94438,     0.94437,     0.94436,     0.94435,     0.94479,     0.94487,     0.94495,     0.94502,      0.9451,     0.94518,     0.94517,     0.94516,     0.94537,     0.94558,     0.94571,\n",
       "            0.94583,     0.94595,     0.94599,     0.94598,     0.94598,     0.94683,     0.94694,     0.94705,     0.94716,     0.94723,     0.94722,     0.94721,     0.94721,     0.94718,     0.94745,     0.94767,     0.94781,     0.94796,     0.94805,     0.94811,     0.94816,     0.94821,     0.94827,\n",
       "            0.94832,     0.94838,     0.94843,       0.949,     0.94917,      0.9498,     0.95009,     0.95022,     0.95031,     0.95041,      0.9505,     0.95075,     0.95098,     0.95097,     0.95097,     0.95097,     0.95096,     0.95096,     0.95109,     0.95131,     0.95267,     0.95272,     0.95278,\n",
       "            0.95283,     0.95289,     0.95294,     0.95299,     0.95305,     0.95308,     0.95306,     0.95305,     0.95312,     0.95334,       0.954,     0.95428,     0.95427,     0.95426,     0.95425,     0.95424,     0.95472,     0.95501,     0.95507,     0.95506,     0.95548,     0.95546,     0.95546,\n",
       "            0.95546,     0.95545,     0.95545,     0.95557,     0.95586,     0.95599,     0.95612,     0.95625,     0.95646,     0.95672,      0.9567,     0.95669,     0.95666,     0.95664,     0.95714,     0.95726,     0.95739,     0.95748,     0.95747,      0.9577,     0.95833,     0.95832,     0.95827,\n",
       "            0.95832,     0.95847,     0.95862,     0.95874,     0.95882,     0.95891,       0.959,     0.95909,     0.95927,     0.96044,     0.96074,       0.961,     0.96124,     0.96123,     0.96123,     0.96131,     0.96161,     0.96173,     0.96188,     0.96203,     0.96332,     0.96379,     0.96378,\n",
       "            0.96378,      0.9639,     0.96405,     0.96414,     0.96413,     0.96429,     0.96455,     0.96454,     0.96497,     0.96549,     0.96673,     0.96672,     0.96784,      0.9685,     0.96849,     0.96874,      0.9702,      0.9702,     0.97019,     0.97017,     0.97013,     0.97053,     0.97084,\n",
       "            0.97121,      0.9723,     0.97226,     0.97225,     0.97266,      0.9733,     0.97353,     0.97352,     0.97429,     0.97502,     0.97528,      0.9756,     0.97559,     0.97557,     0.97686,     0.97681,      0.9768,     0.97723,     0.97719,     0.97764,     0.97807,     0.97802,     0.97801,\n",
       "            0.97841,     0.97888,      0.9799,     0.98033,     0.98066,     0.98072,     0.98114,     0.98202,     0.98341,     0.98333,     0.98333,     0.98374,     0.98417,     0.98409,     0.98401,     0.98447,     0.98539,     0.98632,     0.98621,      0.9862,      0.9861,     0.98652,     0.98637,\n",
       "            0.98728,     0.98712,     0.98755,     0.98856,     0.98856,     0.98899,     0.98938,     0.98979,     0.99026,     0.99069,     0.99114,     0.99102,     0.99085,     0.99132,      0.9925,     0.99234,     0.99288,     0.99267,     0.99251,     0.99309,     0.99296,     0.99294,     0.99421,\n",
       "            0.99409,     0.99388,     0.99371,      0.9935,     0.99422,     0.99498,     0.99477,     0.99565,     0.99545,     0.99627,     0.99607,     0.99593,     0.99572,      0.9955,     0.99521,     0.99496,     0.99468,     0.99433,       0.994,     0.99358,     0.99536,     0.99472,     0.99441,\n",
       "            0.99401,     0.99678,     0.99656,     0.99631,     0.99606,     0.99529,     0.99488,     0.99415,           1,           1,           1,           1,           1,           1,           1,           1,           1,           1,           1,           1,           1,           1,           1,\n",
       "                  1,           1,           1,           1,           1,           1,           1,           1,           1,           1,           1,           1,           1,           1,           1,           1,           1,           1,           1,           1,           1,           1,           1,\n",
       "                  1,           1,           1,           1,           1,           1,           1,           1,           1,           1,           1,           1,           1,           1,           1,           1,           1,           1,           1,           1,           1,           1,           1,\n",
       "                  1,           1,           1,           1,           1,           1,           1,           1,           1,           1,           1,           1,           1,           1,           1,           1,           1,           1,           1,           1,           1,           1,           1,\n",
       "                  1,           1,           1,           1,           1,           1,           1,           1,           1,           1,           1,           1,           1,           1,           1,           1,           1,           1,           1,           1,           1,           1,           1,\n",
       "                  1,           1,           1,           1,           1,           1,           1,           1,           1,           1,           1]]), 'Confidence', 'Precision'], [array([          0,    0.001001,    0.002002,    0.003003,    0.004004,    0.005005,    0.006006,    0.007007,    0.008008,    0.009009,     0.01001,    0.011011,    0.012012,    0.013013,    0.014014,    0.015015,    0.016016,    0.017017,    0.018018,    0.019019,     0.02002,    0.021021,    0.022022,    0.023023,\n",
       "          0.024024,    0.025025,    0.026026,    0.027027,    0.028028,    0.029029,     0.03003,    0.031031,    0.032032,    0.033033,    0.034034,    0.035035,    0.036036,    0.037037,    0.038038,    0.039039,     0.04004,    0.041041,    0.042042,    0.043043,    0.044044,    0.045045,    0.046046,    0.047047,\n",
       "          0.048048,    0.049049,     0.05005,    0.051051,    0.052052,    0.053053,    0.054054,    0.055055,    0.056056,    0.057057,    0.058058,    0.059059,     0.06006,    0.061061,    0.062062,    0.063063,    0.064064,    0.065065,    0.066066,    0.067067,    0.068068,    0.069069,     0.07007,    0.071071,\n",
       "          0.072072,    0.073073,    0.074074,    0.075075,    0.076076,    0.077077,    0.078078,    0.079079,     0.08008,    0.081081,    0.082082,    0.083083,    0.084084,    0.085085,    0.086086,    0.087087,    0.088088,    0.089089,     0.09009,    0.091091,    0.092092,    0.093093,    0.094094,    0.095095,\n",
       "          0.096096,    0.097097,    0.098098,    0.099099,      0.1001,      0.1011,      0.1021,      0.1031,      0.1041,     0.10511,     0.10611,     0.10711,     0.10811,     0.10911,     0.11011,     0.11111,     0.11211,     0.11311,     0.11411,     0.11512,     0.11612,     0.11712,     0.11812,     0.11912,\n",
       "           0.12012,     0.12112,     0.12212,     0.12312,     0.12412,     0.12513,     0.12613,     0.12713,     0.12813,     0.12913,     0.13013,     0.13113,     0.13213,     0.13313,     0.13413,     0.13514,     0.13614,     0.13714,     0.13814,     0.13914,     0.14014,     0.14114,     0.14214,     0.14314,\n",
       "           0.14414,     0.14515,     0.14615,     0.14715,     0.14815,     0.14915,     0.15015,     0.15115,     0.15215,     0.15315,     0.15415,     0.15516,     0.15616,     0.15716,     0.15816,     0.15916,     0.16016,     0.16116,     0.16216,     0.16316,     0.16416,     0.16517,     0.16617,     0.16717,\n",
       "           0.16817,     0.16917,     0.17017,     0.17117,     0.17217,     0.17317,     0.17417,     0.17518,     0.17618,     0.17718,     0.17818,     0.17918,     0.18018,     0.18118,     0.18218,     0.18318,     0.18418,     0.18519,     0.18619,     0.18719,     0.18819,     0.18919,     0.19019,     0.19119,\n",
       "           0.19219,     0.19319,     0.19419,      0.1952,      0.1962,      0.1972,      0.1982,      0.1992,      0.2002,      0.2012,      0.2022,      0.2032,      0.2042,     0.20521,     0.20621,     0.20721,     0.20821,     0.20921,     0.21021,     0.21121,     0.21221,     0.21321,     0.21421,     0.21522,\n",
       "           0.21622,     0.21722,     0.21822,     0.21922,     0.22022,     0.22122,     0.22222,     0.22322,     0.22422,     0.22523,     0.22623,     0.22723,     0.22823,     0.22923,     0.23023,     0.23123,     0.23223,     0.23323,     0.23423,     0.23524,     0.23624,     0.23724,     0.23824,     0.23924,\n",
       "           0.24024,     0.24124,     0.24224,     0.24324,     0.24424,     0.24525,     0.24625,     0.24725,     0.24825,     0.24925,     0.25025,     0.25125,     0.25225,     0.25325,     0.25425,     0.25526,     0.25626,     0.25726,     0.25826,     0.25926,     0.26026,     0.26126,     0.26226,     0.26326,\n",
       "           0.26426,     0.26527,     0.26627,     0.26727,     0.26827,     0.26927,     0.27027,     0.27127,     0.27227,     0.27327,     0.27427,     0.27528,     0.27628,     0.27728,     0.27828,     0.27928,     0.28028,     0.28128,     0.28228,     0.28328,     0.28428,     0.28529,     0.28629,     0.28729,\n",
       "           0.28829,     0.28929,     0.29029,     0.29129,     0.29229,     0.29329,     0.29429,      0.2953,      0.2963,      0.2973,      0.2983,      0.2993,      0.3003,      0.3013,      0.3023,      0.3033,      0.3043,     0.30531,     0.30631,     0.30731,     0.30831,     0.30931,     0.31031,     0.31131,\n",
       "           0.31231,     0.31331,     0.31431,     0.31532,     0.31632,     0.31732,     0.31832,     0.31932,     0.32032,     0.32132,     0.32232,     0.32332,     0.32432,     0.32533,     0.32633,     0.32733,     0.32833,     0.32933,     0.33033,     0.33133,     0.33233,     0.33333,     0.33433,     0.33534,\n",
       "           0.33634,     0.33734,     0.33834,     0.33934,     0.34034,     0.34134,     0.34234,     0.34334,     0.34434,     0.34535,     0.34635,     0.34735,     0.34835,     0.34935,     0.35035,     0.35135,     0.35235,     0.35335,     0.35435,     0.35536,     0.35636,     0.35736,     0.35836,     0.35936,\n",
       "           0.36036,     0.36136,     0.36236,     0.36336,     0.36436,     0.36537,     0.36637,     0.36737,     0.36837,     0.36937,     0.37037,     0.37137,     0.37237,     0.37337,     0.37437,     0.37538,     0.37638,     0.37738,     0.37838,     0.37938,     0.38038,     0.38138,     0.38238,     0.38338,\n",
       "           0.38438,     0.38539,     0.38639,     0.38739,     0.38839,     0.38939,     0.39039,     0.39139,     0.39239,     0.39339,     0.39439,      0.3954,      0.3964,      0.3974,      0.3984,      0.3994,      0.4004,      0.4014,      0.4024,      0.4034,      0.4044,     0.40541,     0.40641,     0.40741,\n",
       "           0.40841,     0.40941,     0.41041,     0.41141,     0.41241,     0.41341,     0.41441,     0.41542,     0.41642,     0.41742,     0.41842,     0.41942,     0.42042,     0.42142,     0.42242,     0.42342,     0.42442,     0.42543,     0.42643,     0.42743,     0.42843,     0.42943,     0.43043,     0.43143,\n",
       "           0.43243,     0.43343,     0.43443,     0.43544,     0.43644,     0.43744,     0.43844,     0.43944,     0.44044,     0.44144,     0.44244,     0.44344,     0.44444,     0.44545,     0.44645,     0.44745,     0.44845,     0.44945,     0.45045,     0.45145,     0.45245,     0.45345,     0.45445,     0.45546,\n",
       "           0.45646,     0.45746,     0.45846,     0.45946,     0.46046,     0.46146,     0.46246,     0.46346,     0.46446,     0.46547,     0.46647,     0.46747,     0.46847,     0.46947,     0.47047,     0.47147,     0.47247,     0.47347,     0.47447,     0.47548,     0.47648,     0.47748,     0.47848,     0.47948,\n",
       "           0.48048,     0.48148,     0.48248,     0.48348,     0.48448,     0.48549,     0.48649,     0.48749,     0.48849,     0.48949,     0.49049,     0.49149,     0.49249,     0.49349,     0.49449,      0.4955,      0.4965,      0.4975,      0.4985,      0.4995,      0.5005,      0.5015,      0.5025,      0.5035,\n",
       "            0.5045,     0.50551,     0.50651,     0.50751,     0.50851,     0.50951,     0.51051,     0.51151,     0.51251,     0.51351,     0.51451,     0.51552,     0.51652,     0.51752,     0.51852,     0.51952,     0.52052,     0.52152,     0.52252,     0.52352,     0.52452,     0.52553,     0.52653,     0.52753,\n",
       "           0.52853,     0.52953,     0.53053,     0.53153,     0.53253,     0.53353,     0.53453,     0.53554,     0.53654,     0.53754,     0.53854,     0.53954,     0.54054,     0.54154,     0.54254,     0.54354,     0.54454,     0.54555,     0.54655,     0.54755,     0.54855,     0.54955,     0.55055,     0.55155,\n",
       "           0.55255,     0.55355,     0.55455,     0.55556,     0.55656,     0.55756,     0.55856,     0.55956,     0.56056,     0.56156,     0.56256,     0.56356,     0.56456,     0.56557,     0.56657,     0.56757,     0.56857,     0.56957,     0.57057,     0.57157,     0.57257,     0.57357,     0.57457,     0.57558,\n",
       "           0.57658,     0.57758,     0.57858,     0.57958,     0.58058,     0.58158,     0.58258,     0.58358,     0.58458,     0.58559,     0.58659,     0.58759,     0.58859,     0.58959,     0.59059,     0.59159,     0.59259,     0.59359,     0.59459,      0.5956,      0.5966,      0.5976,      0.5986,      0.5996,\n",
       "            0.6006,      0.6016,      0.6026,      0.6036,      0.6046,     0.60561,     0.60661,     0.60761,     0.60861,     0.60961,     0.61061,     0.61161,     0.61261,     0.61361,     0.61461,     0.61562,     0.61662,     0.61762,     0.61862,     0.61962,     0.62062,     0.62162,     0.62262,     0.62362,\n",
       "           0.62462,     0.62563,     0.62663,     0.62763,     0.62863,     0.62963,     0.63063,     0.63163,     0.63263,     0.63363,     0.63463,     0.63564,     0.63664,     0.63764,     0.63864,     0.63964,     0.64064,     0.64164,     0.64264,     0.64364,     0.64464,     0.64565,     0.64665,     0.64765,\n",
       "           0.64865,     0.64965,     0.65065,     0.65165,     0.65265,     0.65365,     0.65465,     0.65566,     0.65666,     0.65766,     0.65866,     0.65966,     0.66066,     0.66166,     0.66266,     0.66366,     0.66466,     0.66567,     0.66667,     0.66767,     0.66867,     0.66967,     0.67067,     0.67167,\n",
       "           0.67267,     0.67367,     0.67467,     0.67568,     0.67668,     0.67768,     0.67868,     0.67968,     0.68068,     0.68168,     0.68268,     0.68368,     0.68468,     0.68569,     0.68669,     0.68769,     0.68869,     0.68969,     0.69069,     0.69169,     0.69269,     0.69369,     0.69469,      0.6957,\n",
       "            0.6967,      0.6977,      0.6987,      0.6997,      0.7007,      0.7017,      0.7027,      0.7037,      0.7047,     0.70571,     0.70671,     0.70771,     0.70871,     0.70971,     0.71071,     0.71171,     0.71271,     0.71371,     0.71471,     0.71572,     0.71672,     0.71772,     0.71872,     0.71972,\n",
       "           0.72072,     0.72172,     0.72272,     0.72372,     0.72472,     0.72573,     0.72673,     0.72773,     0.72873,     0.72973,     0.73073,     0.73173,     0.73273,     0.73373,     0.73473,     0.73574,     0.73674,     0.73774,     0.73874,     0.73974,     0.74074,     0.74174,     0.74274,     0.74374,\n",
       "           0.74474,     0.74575,     0.74675,     0.74775,     0.74875,     0.74975,     0.75075,     0.75175,     0.75275,     0.75375,     0.75475,     0.75576,     0.75676,     0.75776,     0.75876,     0.75976,     0.76076,     0.76176,     0.76276,     0.76376,     0.76476,     0.76577,     0.76677,     0.76777,\n",
       "           0.76877,     0.76977,     0.77077,     0.77177,     0.77277,     0.77377,     0.77477,     0.77578,     0.77678,     0.77778,     0.77878,     0.77978,     0.78078,     0.78178,     0.78278,     0.78378,     0.78478,     0.78579,     0.78679,     0.78779,     0.78879,     0.78979,     0.79079,     0.79179,\n",
       "           0.79279,     0.79379,     0.79479,      0.7958,      0.7968,      0.7978,      0.7988,      0.7998,      0.8008,      0.8018,      0.8028,      0.8038,      0.8048,     0.80581,     0.80681,     0.80781,     0.80881,     0.80981,     0.81081,     0.81181,     0.81281,     0.81381,     0.81481,     0.81582,\n",
       "           0.81682,     0.81782,     0.81882,     0.81982,     0.82082,     0.82182,     0.82282,     0.82382,     0.82482,     0.82583,     0.82683,     0.82783,     0.82883,     0.82983,     0.83083,     0.83183,     0.83283,     0.83383,     0.83483,     0.83584,     0.83684,     0.83784,     0.83884,     0.83984,\n",
       "           0.84084,     0.84184,     0.84284,     0.84384,     0.84484,     0.84585,     0.84685,     0.84785,     0.84885,     0.84985,     0.85085,     0.85185,     0.85285,     0.85385,     0.85485,     0.85586,     0.85686,     0.85786,     0.85886,     0.85986,     0.86086,     0.86186,     0.86286,     0.86386,\n",
       "           0.86486,     0.86587,     0.86687,     0.86787,     0.86887,     0.86987,     0.87087,     0.87187,     0.87287,     0.87387,     0.87487,     0.87588,     0.87688,     0.87788,     0.87888,     0.87988,     0.88088,     0.88188,     0.88288,     0.88388,     0.88488,     0.88589,     0.88689,     0.88789,\n",
       "           0.88889,     0.88989,     0.89089,     0.89189,     0.89289,     0.89389,     0.89489,      0.8959,      0.8969,      0.8979,      0.8989,      0.8999,      0.9009,      0.9019,      0.9029,      0.9039,      0.9049,     0.90591,     0.90691,     0.90791,     0.90891,     0.90991,     0.91091,     0.91191,\n",
       "           0.91291,     0.91391,     0.91491,     0.91592,     0.91692,     0.91792,     0.91892,     0.91992,     0.92092,     0.92192,     0.92292,     0.92392,     0.92492,     0.92593,     0.92693,     0.92793,     0.92893,     0.92993,     0.93093,     0.93193,     0.93293,     0.93393,     0.93493,     0.93594,\n",
       "           0.93694,     0.93794,     0.93894,     0.93994,     0.94094,     0.94194,     0.94294,     0.94394,     0.94494,     0.94595,     0.94695,     0.94795,     0.94895,     0.94995,     0.95095,     0.95195,     0.95295,     0.95395,     0.95495,     0.95596,     0.95696,     0.95796,     0.95896,     0.95996,\n",
       "           0.96096,     0.96196,     0.96296,     0.96396,     0.96496,     0.96597,     0.96697,     0.96797,     0.96897,     0.96997,     0.97097,     0.97197,     0.97297,     0.97397,     0.97497,     0.97598,     0.97698,     0.97798,     0.97898,     0.97998,     0.98098,     0.98198,     0.98298,     0.98398,\n",
       "           0.98498,     0.98599,     0.98699,     0.98799,     0.98899,     0.98999,     0.99099,     0.99199,     0.99299,     0.99399,     0.99499,       0.996,       0.997,       0.998,       0.999,           1]), array([[    0.99908,     0.99908,     0.99908,     0.99908,     0.99908,     0.99908,     0.99908,     0.99908,     0.99908,     0.99908,     0.99908,     0.99908,     0.99908,     0.99908,     0.99908,     0.99862,     0.99862,     0.99862,     0.99862,     0.99862,     0.99816,     0.99816,     0.99776,\n",
       "             0.9977,      0.9977,      0.9977,      0.9977,     0.99724,     0.99724,     0.99724,     0.99724,     0.99724,     0.99724,     0.99724,     0.99724,     0.99724,     0.99724,     0.99724,     0.99724,     0.99724,     0.99724,     0.99724,     0.99724,     0.99724,     0.99724,     0.99724,\n",
       "            0.99724,     0.99724,     0.99724,     0.99724,     0.99724,     0.99724,     0.99724,     0.99724,     0.99724,     0.99724,     0.99724,     0.99724,     0.99724,     0.99724,     0.99724,     0.99718,     0.99678,     0.99678,     0.99678,     0.99678,     0.99678,     0.99678,     0.99678,\n",
       "            0.99678,     0.99678,     0.99678,     0.99678,     0.99678,     0.99678,     0.99678,     0.99678,     0.99678,     0.99678,     0.99678,     0.99632,     0.99632,     0.99632,     0.99632,     0.99632,     0.99632,     0.99632,     0.99632,     0.99632,     0.99632,     0.99632,     0.99632,\n",
       "            0.99632,     0.99627,     0.99586,     0.99586,     0.99586,     0.99586,     0.99586,     0.99586,     0.99561,      0.9954,      0.9954,      0.9954,      0.9954,      0.9954,      0.9954,      0.9954,      0.9954,      0.9954,      0.9954,      0.9954,      0.9954,      0.9954,      0.9954,\n",
       "             0.9954,      0.9954,      0.9954,      0.9954,      0.9954,      0.9954,      0.9954,      0.9954,     0.99535,     0.99508,     0.99494,     0.99494,     0.99494,     0.99494,     0.99494,     0.99494,     0.99494,     0.99494,     0.99494,     0.99494,     0.99477,     0.99458,     0.99449,\n",
       "            0.99449,     0.99449,     0.99449,     0.99449,     0.99449,     0.99449,     0.99449,     0.99449,     0.99449,     0.99449,     0.99449,     0.99449,     0.99449,     0.99449,     0.99449,     0.99449,     0.99449,     0.99449,     0.99449,     0.99449,     0.99449,     0.99449,     0.99449,\n",
       "            0.99449,     0.99449,     0.99449,     0.99449,     0.99449,     0.99449,     0.99449,     0.99449,     0.99449,     0.99449,     0.99449,     0.99449,     0.99449,     0.99449,     0.99449,     0.99449,     0.99449,     0.99449,     0.99449,     0.99449,     0.99449,     0.99449,     0.99449,\n",
       "            0.99449,     0.99449,     0.99449,     0.99449,     0.99449,     0.99449,     0.99449,     0.99449,     0.99449,     0.99449,     0.99449,     0.99449,     0.99449,     0.99449,     0.99449,     0.99449,     0.99449,     0.99449,     0.99449,     0.99449,     0.99449,     0.99449,     0.99449,\n",
       "            0.99444,      0.9943,     0.99415,     0.99403,     0.99403,     0.99403,     0.99386,     0.99357,     0.99357,     0.99357,     0.99357,     0.99357,     0.99357,     0.99357,     0.99357,     0.99357,     0.99357,     0.99357,     0.99357,     0.99357,     0.99357,     0.99357,     0.99357,\n",
       "             0.9934,     0.99318,     0.99311,     0.99311,     0.99311,     0.99311,     0.99311,     0.99311,     0.99311,     0.99311,     0.99311,     0.99311,     0.99311,     0.99311,     0.99311,     0.99311,     0.99311,     0.99311,     0.99311,     0.99311,     0.99311,     0.99311,     0.99311,\n",
       "            0.99265,     0.99265,     0.99265,     0.99265,     0.99265,     0.99265,     0.99265,     0.99265,     0.99265,     0.99265,     0.99265,     0.99265,     0.99265,     0.99265,     0.99265,     0.99265,     0.99265,     0.99234,     0.99219,     0.99219,     0.99219,     0.99219,     0.99219,\n",
       "            0.99219,     0.99219,     0.99219,     0.99219,     0.99219,     0.99219,     0.99219,     0.99219,     0.99219,     0.99219,     0.99219,     0.99219,     0.99219,     0.99219,     0.99219,     0.99219,     0.99219,     0.99219,     0.99219,     0.99219,     0.99219,     0.99219,     0.99219,\n",
       "            0.99219,     0.99219,     0.99219,     0.99219,     0.99219,     0.99219,     0.99219,     0.99219,     0.99219,     0.99219,     0.99219,     0.99219,     0.99219,     0.99219,     0.99219,     0.99219,     0.99219,     0.99219,     0.99219,     0.99219,     0.99208,     0.99173,     0.99173,\n",
       "            0.99173,     0.99173,     0.99173,     0.99173,     0.99173,     0.99173,     0.99173,     0.99173,     0.99173,     0.99173,     0.99173,     0.99173,     0.99173,     0.99173,     0.99173,     0.99173,     0.99173,     0.99173,     0.99173,     0.99173,     0.99173,     0.99173,     0.99173,\n",
       "            0.99173,     0.99173,     0.99173,     0.99173,     0.99173,     0.99173,     0.99173,     0.99173,     0.99173,     0.99173,     0.99173,     0.99173,     0.99173,     0.99173,     0.99173,     0.99173,     0.99173,     0.99173,     0.99173,     0.99173,     0.99173,     0.99173,     0.99173,\n",
       "            0.99173,     0.99173,     0.99173,     0.99173,     0.99173,     0.99173,     0.99173,     0.99173,     0.99173,     0.99173,     0.99173,     0.99173,     0.99173,     0.99173,     0.99173,     0.99173,     0.99173,     0.99173,     0.99173,     0.99173,     0.99173,      0.9912,      0.9911,\n",
       "              0.991,      0.9909,      0.9908,     0.99072,     0.99064,     0.99056,     0.99047,     0.99039,     0.99035,     0.99035,     0.99035,     0.99035,     0.99035,     0.99035,     0.99035,     0.99035,     0.99035,     0.99035,     0.99035,     0.99035,     0.99035,     0.99035,     0.99035,\n",
       "            0.99035,     0.99035,     0.99027,     0.99016,     0.99004,     0.98992,     0.98989,     0.98989,     0.98989,     0.98989,     0.98989,     0.98989,     0.98988,     0.98983,     0.98979,     0.98974,     0.98969,     0.98964,     0.98959,     0.98954,      0.9895,     0.98945,     0.98943,\n",
       "            0.98943,     0.98943,     0.98943,     0.98943,     0.98943,     0.98943,     0.98943,     0.98943,     0.98943,     0.98943,     0.98943,     0.98943,     0.98943,     0.98943,     0.98943,     0.98943,     0.98943,     0.98943,     0.98943,     0.98943,     0.98943,     0.98943,     0.98921,\n",
       "            0.98897,     0.98897,     0.98897,     0.98897,     0.98897,     0.98897,     0.98897,     0.98897,     0.98897,     0.98897,     0.98897,     0.98888,     0.98876,     0.98864,     0.98853,      0.9881,     0.98805,     0.98805,     0.98805,     0.98805,     0.98805,     0.98789,     0.98774,\n",
       "            0.98755,     0.98713,     0.98713,     0.98713,     0.98713,     0.98713,     0.98713,     0.98713,     0.98713,     0.98713,     0.98713,     0.98713,     0.98713,     0.98713,     0.98713,     0.98713,     0.98713,     0.98713,     0.98713,     0.98713,     0.98713,      0.9871,     0.98704,\n",
       "            0.98698,     0.98692,     0.98686,      0.9868,     0.98674,     0.98668,     0.98667,     0.98667,     0.98667,     0.98667,     0.98667,     0.98667,     0.98667,     0.98622,     0.98621,     0.98621,     0.98621,     0.98621,     0.98621,     0.98621,     0.98621,     0.98621,     0.98621,\n",
       "            0.98621,     0.98621,     0.98621,     0.98621,     0.98621,     0.98621,     0.98621,     0.98621,     0.98621,     0.98621,     0.98621,     0.98621,     0.98621,     0.98621,     0.98621,     0.98621,     0.98621,     0.98621,     0.98621,     0.98621,     0.98621,     0.98621,     0.98621,\n",
       "            0.98621,     0.98621,     0.98621,     0.98621,     0.98621,     0.98621,     0.98621,     0.98614,     0.98598,     0.98582,     0.98575,     0.98575,     0.98575,     0.98575,     0.98575,     0.98575,     0.98575,     0.98575,     0.98575,     0.98575,     0.98575,     0.98575,     0.98575,\n",
       "            0.98575,     0.98569,     0.98562,     0.98554,     0.98547,      0.9854,     0.98533,     0.98529,     0.98529,     0.98529,     0.98529,     0.98529,     0.98529,     0.98529,     0.98529,     0.98529,     0.98529,     0.98529,     0.98529,     0.98529,     0.98529,     0.98529,     0.98525,\n",
       "            0.98516,     0.98507,     0.98497,     0.98488,     0.98457,     0.98438,     0.98438,     0.98438,     0.98438,     0.98438,     0.98438,     0.98392,     0.98392,     0.98392,     0.98392,     0.98392,     0.98392,     0.98392,     0.98392,     0.98392,     0.98392,     0.98392,     0.98392,\n",
       "            0.98392,     0.98392,     0.98392,     0.98392,     0.98392,     0.98376,     0.98353,     0.98335,     0.98319,     0.98303,     0.98285,     0.98266,     0.98254,     0.98254,     0.98254,     0.98254,     0.98254,     0.98254,     0.98231,     0.98208,     0.98208,     0.98208,     0.98208,\n",
       "            0.98208,     0.98208,     0.98199,     0.98186,     0.98172,     0.98162,     0.98162,     0.98162,     0.98162,     0.98157,     0.98144,      0.9813,     0.98117,     0.98073,      0.9807,      0.9807,      0.9807,      0.9807,      0.9807,      0.9807,      0.9807,      0.9807,      0.9807,\n",
       "             0.9807,      0.9807,      0.9807,      0.9807,      0.9807,      0.9807,      0.9807,      0.9807,      0.9807,      0.9807,      0.9807,      0.9807,     0.98066,     0.98058,      0.9805,     0.98043,     0.98035,     0.98027,     0.98024,     0.98024,     0.98024,     0.98024,     0.98024,\n",
       "            0.98024,     0.98024,     0.98024,     0.98024,     0.98024,     0.98012,      0.9798,     0.97949,     0.97886,     0.97886,      0.9784,     0.97839,     0.97807,     0.97786,     0.97773,     0.97759,     0.97748,     0.97748,     0.97686,     0.97662,     0.97633,     0.97608,     0.97598,\n",
       "            0.97589,     0.97579,      0.9757,     0.97564,     0.97564,     0.97564,     0.97564,     0.97564,     0.97564,     0.97516,     0.97485,     0.97453,     0.97376,     0.97345,     0.97289,     0.97289,     0.97289,      0.9728,     0.97249,     0.97243,     0.97232,     0.97201,     0.97077,\n",
       "            0.97059,     0.97059,     0.97059,     0.97059,     0.97059,     0.97059,     0.97059,     0.97059,     0.96967,     0.96967,     0.96967,     0.96875,     0.96872,     0.96856,      0.9684,     0.96829,     0.96829,     0.96691,     0.96691,     0.96691,     0.96645,     0.96631,     0.96615,\n",
       "            0.96599,     0.96507,     0.96507,     0.96367,     0.96336,     0.96278,     0.96273,     0.96242,      0.9621,      0.9614,     0.96132,     0.96101,     0.96094,     0.96084,     0.96053,     0.96002,     0.95765,     0.95746,     0.95727,      0.9565,     0.95527,     0.95312,     0.95312,\n",
       "            0.95221,     0.95156,     0.95033,     0.95002,     0.94822,     0.94715,     0.94662,     0.94631,     0.94439,     0.94118,     0.93888,     0.93888,     0.93664,     0.93585,     0.93133,     0.92909,     0.92878,     0.92708,     0.92531,     0.92447,      0.9223,     0.92001,     0.91969,\n",
       "            0.91652,      0.9157,     0.91406,     0.91268,     0.91268,     0.91187,      0.9083,     0.90335,     0.89874,     0.89465,     0.89433,     0.88974,     0.88574,     0.88122,     0.87661,     0.87392,     0.86809,     0.86118,     0.85429,     0.85398,     0.84759,     0.84068,     0.83159,\n",
       "            0.82021,     0.81009,     0.80227,     0.79449,     0.79417,     0.78408,     0.77028,      0.7574,     0.74774,     0.73363,     0.71945,     0.70979,     0.69691,     0.68219,     0.66886,     0.65506,     0.64126,      0.6225,     0.60884,     0.59412,     0.58308,     0.56618,     0.55272,\n",
       "            0.54122,     0.52237,     0.50857,     0.49202,     0.47454,     0.45523,     0.43684,     0.42028,     0.40189,      0.3681,     0.34924,     0.33774,     0.32073,     0.30509,     0.28624,     0.27244,     0.25763,     0.24186,     0.22852,     0.21334,     0.19724,     0.17311,     0.16344,\n",
       "             0.1524,      0.1421,     0.13331,     0.12411,     0.11628,    0.097198,    0.089374,    0.078103,    0.072577,    0.067925,    0.063593,    0.056688,    0.044958,      0.0398,    0.036892,    0.032745,    0.026529,    0.024083,     0.02306,    0.019142,    0.017581,    0.016591,    0.012674,\n",
       "           0.011352,    0.011038,   0.0089625,   0.0059536,   0.0048035,   0.0040045,   0.0037689,   0.0027448,   0.0026402,   0.0025355,   0.0024308,   0.0023261,  0.00080526,           0,           0,           0,           0,           0,           0,           0,           0,           0,           0,\n",
       "                  0,           0,           0,           0,           0,           0,           0,           0,           0,           0,           0,           0,           0,           0,           0,           0,           0,           0,           0,           0,           0,           0,           0,\n",
       "                  0,           0,           0,           0,           0,           0,           0,           0,           0,           0,           0,           0,           0,           0,           0,           0,           0,           0,           0,           0,           0,           0,           0,\n",
       "                  0,           0,           0,           0,           0,           0,           0,           0,           0,           0,           0,           0,           0,           0,           0,           0,           0,           0,           0,           0,           0,           0,           0,\n",
       "                  0,           0,           0,           0,           0,           0,           0,           0,           0,           0,           0]]), 'Confidence', 'Recall']]\n",
       "fitness: np.float64(0.7824651017891717)\n",
       "keys: ['metrics/precision(B)', 'metrics/recall(B)', 'metrics/mAP50(B)', 'metrics/mAP50-95(B)']\n",
       "maps: array([    0.75981])\n",
       "names: {0: 'pearbags'}\n",
       "plot: True\n",
       "results_dict: {'metrics/precision(B)': np.float64(0.9554644133852055), 'metrics/recall(B)': np.float64(0.9760760300741919), 'metrics/mAP50(B)': np.float64(0.9863728347542479), 'metrics/mAP50-95(B)': np.float64(0.7598086870152744), 'fitness': np.float64(0.7824651017891717)}\n",
       "save_dir: WindowsPath('runs/detect/train19')\n",
       "speed: {'preprocess': 0.3646970000118017, 'inference': 28.704445799347013, 'loss': 0.0005524002481251955, 'postprocess': 0.8955940001178533}\n",
       "task: 'detect'"
      ]
     },
     "execution_count": 11,
     "metadata": {},
     "output_type": "execute_result"
    }
   ],
   "source": [
    "#model.train(data=\"PearBagsYolo/data.yaml\", epochs=50, imgsz=640)\n",
    "model_cbam_bifpn.train(data=\"C:/Users/dnslab_fox/Ugur/PearBagsYolo/data.yaml\", epochs=50, imgsz=640)\n",
    "#model.train(data=\"path/to/defect.yaml\", epochs=50, imgsz=640, batch=16)"
   ]
  },
  {
   "cell_type": "code",
   "execution_count": 12,
   "id": "304733eb-0e2e-448d-9d4e-6d1f7a417343",
   "metadata": {},
   "outputs": [],
   "source": [
    "model_cbam_bifpn.save(\"PearBagsYolo/models/pearbags_cbam_bifpn.pt\")"
   ]
  },
  {
   "cell_type": "code",
   "execution_count": 15,
   "id": "3ee25026-7b51-4d30-a740-447b9b39458f",
   "metadata": {},
   "outputs": [],
   "source": [
    "img = \"PearBagsYolo/train/images/PE_001_TP_20231110_PM_001_007_000_0013_IMG_jpg.rf.a84906c32b25aa5e6cf54f5783511d09.jpg\""
   ]
  },
  {
   "cell_type": "code",
   "execution_count": 16,
   "id": "aea0dd5a-e701-4274-943c-1fc19e60373d",
   "metadata": {},
   "outputs": [
    {
     "name": "stdout",
     "output_type": "stream",
     "text": [
      "\n",
      "image 1/1 C:\\Users\\dnslab_fox\\Ugur\\PearBagsYolo\\train\\images\\PE_001_TP_20231110_PM_001_007_000_0013_IMG_jpg.rf.a84906c32b25aa5e6cf54f5783511d09.jpg: 640x640 6 pearbagss, 370.7ms\n",
      "Speed: 4.1ms preprocess, 370.7ms inference, 1.6ms postprocess per image at shape (1, 3, 640, 640)\n",
      "Results saved to \u001b[1mruns\\detect\\train193\u001b[0m\n",
      "Detected classes: [0.0, 0.0, 0.0, 0.0, 0.0, 0.0]\n",
      "Confidences: [0.8678127527236938, 0.8645520210266113, 0.8521826267242432, 0.8391143679618835, 0.8329914808273315, 0.8201019763946533]\n",
      "Boxes: [[24.674413681030273, 185.97958374023438, 52.296043395996094, 238.98593139648438], [142.97705078125, 98.24432373046875, 172.49835205078125, 139.27664184570312], [530.2200317382812, 212.7557830810547, 547.6135864257812, 250.8553009033203], [278.29156494140625, 213.01895141601562, 289.6064453125, 233.24728393554688], [222.752197265625, 208.2711181640625, 237.81304931640625, 232.73480224609375], [454.77423095703125, 219.04605102539062, 467.82965087890625, 243.36288452148438]]\n"
     ]
    }
   ],
   "source": [
    "# Inference on an image\n",
    "results = model_cbam_bifpn(img, save=True, conf=0.25)\n",
    "\n",
    "# If you want to access results programmatically:\n",
    "for result in results:\n",
    "    boxes = result.boxes.xyxy  # x1, y1, x2, y2\n",
    "    confidences = result.boxes.conf\n",
    "    class_ids = result.boxes.cls\n",
    "\n",
    "    print(\"Detected classes:\", class_ids.tolist())\n",
    "    print(\"Confidences:\", confidences.tolist())\n",
    "    print(\"Boxes:\", boxes.tolist())"
   ]
  },
  {
   "cell_type": "code",
   "execution_count": 17,
   "id": "dd6831c3-0280-4e34-ad18-f5dc0c0c51b9",
   "metadata": {},
   "outputs": [
    {
     "name": "stdout",
     "output_type": "stream",
     "text": [
      "\n",
      "image 1/1 C:\\Users\\dnslab_fox\\Ugur\\PearBagsYolo\\train\\images\\PE_001_TP_20231110_PM_001_007_000_0013_IMG_jpg.rf.a84906c32b25aa5e6cf54f5783511d09.jpg: 640x640 6 pearbagss, 84.9ms\n",
      "Speed: 2.8ms preprocess, 84.9ms inference, 1.6ms postprocess per image at shape (1, 3, 640, 640)\n"
     ]
    }
   ],
   "source": [
    "from ultralytics import YOLO\n",
    "import cv2\n",
    "\n",
    "# Load trained model\n",
    "model_cbam_bifp = YOLO(\"PearBagsYolo/models/pearbags_cbam_bifpn.pt\")  # Adjust path if needed\n",
    "\n",
    "# Run inference\n",
    "results = model_cbam_bifp(img, conf=0.25, save=False)\n",
    "\n",
    "# Get result image with boxes\n",
    "annotated_frame = results[0].plot()  # This adds bounding boxes to the image\n",
    "\n",
    "# Show the image in a window\n",
    "annotated_frame = cv2.resize(annotated_frame, (640, 640))\n",
    "cv2.imshow(\"Detection Result\", annotated_frame)\n",
    "cv2.waitKey(0)\n",
    "cv2.destroyAllWindows()"
   ]
  },
  {
   "cell_type": "markdown",
   "id": "b043a59a-2ae2-49f3-b589-623f8eb5fae9",
   "metadata": {
    "jp-MarkdownHeadingCollapsed": true
   },
   "source": [
    "## YOLOv11"
   ]
  },
  {
   "cell_type": "code",
   "execution_count": 9,
   "id": "380af0bb-5792-4af3-82ec-7f854c7aa59e",
   "metadata": {
    "scrolled": true
   },
   "outputs": [
    {
     "name": "stdout",
     "output_type": "stream",
     "text": [
      "New https://pypi.org/project/ultralytics/8.3.116 available  Update with 'pip install -U ultralytics'\n",
      "Ultralytics 8.3.101  Python-3.12.8 torch-2.5.1 CUDA:0 (NVIDIA GeForce RTX 3070, 8191MiB)\n",
      "\u001b[34m\u001b[1mengine\\trainer: \u001b[0mtask=detect, mode=train, model=yolo11n.pt, data=C:/Users/dnslab_fox/Ugur/PearBagsYolo/data.yaml, epochs=50, time=None, patience=100, batch=16, imgsz=640, save=True, save_period=-1, cache=False, device=None, workers=8, project=None, name=train21, exist_ok=False, pretrained=True, optimizer=auto, verbose=True, seed=0, deterministic=True, single_cls=False, rect=False, cos_lr=False, close_mosaic=10, resume=False, amp=True, fraction=1.0, profile=False, freeze=None, multi_scale=False, overlap_mask=True, mask_ratio=4, dropout=0.0, val=True, split=val, save_json=False, save_hybrid=False, conf=None, iou=0.7, max_det=300, half=False, dnn=False, plots=True, source=None, vid_stride=1, stream_buffer=False, visualize=False, augment=False, agnostic_nms=False, classes=None, retina_masks=False, embed=None, show=False, save_frames=False, save_txt=False, save_conf=False, save_crop=False, show_labels=True, show_conf=True, show_boxes=True, line_width=None, format=torchscript, keras=False, optimize=False, int8=False, dynamic=False, simplify=True, opset=None, workspace=None, nms=False, lr0=0.01, lrf=0.01, momentum=0.937, weight_decay=0.0005, warmup_epochs=3.0, warmup_momentum=0.8, warmup_bias_lr=0.1, box=7.5, cls=0.5, dfl=1.5, pose=12.0, kobj=1.0, nbs=64, hsv_h=0.015, hsv_s=0.7, hsv_v=0.4, degrees=0.0, translate=0.1, scale=0.5, shear=0.0, perspective=0.0, flipud=0.0, fliplr=0.5, bgr=0.0, mosaic=1.0, mixup=0.0, copy_paste=0.0, copy_paste_mode=flip, auto_augment=randaugment, erasing=0.4, crop_fraction=1.0, cfg=None, tracker=botsort.yaml, save_dir=runs\\detect\\train21\n",
      "Overriding model.yaml nc=80 with nc=1\n",
      "\n",
      "                   from  n    params  module                                       arguments                     \n",
      "Parsing layer: 0 | from: -1 | number: 1 | module: <class 'ultralytics.nn.modules.conv.Conv'> | args: [3, 16, 3, 2]\n",
      "  0                  -1  1       464  ultralytics.nn.modules.conv.Conv             [3, 16, 3, 2]                 \n",
      "Parsing layer: 1 | from: -1 | number: 1 | module: <class 'ultralytics.nn.modules.conv.Conv'> | args: [16, 32, 3, 2]\n",
      "  1                  -1  1      4672  ultralytics.nn.modules.conv.Conv             [16, 32, 3, 2]                \n",
      "Parsing layer: 2 | from: -1 | number: 1 | module: <class 'ultralytics.nn.modules.block.C3k2'> | args: [32, 64, 1, False, 0.25]\n",
      "  2                  -1  1      6640  ultralytics.nn.modules.block.C3k2            [32, 64, 1, False, 0.25]      \n",
      "Parsing layer: 3 | from: -1 | number: 1 | module: <class 'ultralytics.nn.modules.conv.Conv'> | args: [64, 64, 3, 2]\n",
      "  3                  -1  1     36992  ultralytics.nn.modules.conv.Conv             [64, 64, 3, 2]                \n",
      "Parsing layer: 4 | from: -1 | number: 1 | module: <class 'ultralytics.nn.modules.block.C3k2'> | args: [64, 128, 1, False, 0.25]\n",
      "  4                  -1  1     26080  ultralytics.nn.modules.block.C3k2            [64, 128, 1, False, 0.25]     \n",
      "Parsing layer: 5 | from: -1 | number: 1 | module: <class 'ultralytics.nn.modules.conv.Conv'> | args: [128, 128, 3, 2]\n",
      "  5                  -1  1    147712  ultralytics.nn.modules.conv.Conv             [128, 128, 3, 2]              \n",
      "Parsing layer: 6 | from: -1 | number: 1 | module: <class 'ultralytics.nn.modules.block.C3k2'> | args: [128, 128, 1, True]\n",
      "  6                  -1  1     87040  ultralytics.nn.modules.block.C3k2            [128, 128, 1, True]           \n",
      "Parsing layer: 7 | from: -1 | number: 1 | module: <class 'ultralytics.nn.modules.conv.Conv'> | args: [128, 256, 3, 2]\n",
      "  7                  -1  1    295424  ultralytics.nn.modules.conv.Conv             [128, 256, 3, 2]              \n",
      "Parsing layer: 8 | from: -1 | number: 1 | module: <class 'ultralytics.nn.modules.block.C3k2'> | args: [256, 256, 1, True]\n",
      "  8                  -1  1    346112  ultralytics.nn.modules.block.C3k2            [256, 256, 1, True]           \n",
      "Parsing layer: 9 | from: -1 | number: 1 | module: <class 'ultralytics.nn.modules.block.SPPF'> | args: [256, 256, 5]\n",
      "  9                  -1  1    164608  ultralytics.nn.modules.block.SPPF            [256, 256, 5]                 \n",
      "Parsing layer: 10 | from: -1 | number: 1 | module: <class 'ultralytics.nn.modules.block.C2PSA'> | args: [256, 256, 1]\n",
      " 10                  -1  1    249728  ultralytics.nn.modules.block.C2PSA           [256, 256, 1]                 \n",
      "Parsing layer: 11 | from: -1 | number: 1 | module: <class 'torch.nn.modules.upsampling.Upsample'> | args: [None, 2, 'nearest']\n",
      " 11                  -1  1         0  torch.nn.modules.upsampling.Upsample         [None, 2, 'nearest']          \n",
      "Parsing layer: 12 | from: [-1, 6] | number: 1 | module: <class 'ultralytics.nn.modules.conv.Concat'> | args: [1]\n",
      " 12             [-1, 6]  1         0  ultralytics.nn.modules.conv.Concat           [1]                           \n",
      "Parsing layer: 13 | from: -1 | number: 1 | module: <class 'ultralytics.nn.modules.block.C3k2'> | args: [384, 128, 1, False]\n",
      " 13                  -1  1    111296  ultralytics.nn.modules.block.C3k2            [384, 128, 1, False]          \n",
      "Parsing layer: 14 | from: -1 | number: 1 | module: <class 'torch.nn.modules.upsampling.Upsample'> | args: [None, 2, 'nearest']\n",
      " 14                  -1  1         0  torch.nn.modules.upsampling.Upsample         [None, 2, 'nearest']          \n",
      "Parsing layer: 15 | from: [-1, 4] | number: 1 | module: <class 'ultralytics.nn.modules.conv.Concat'> | args: [1]\n",
      " 15             [-1, 4]  1         0  ultralytics.nn.modules.conv.Concat           [1]                           \n",
      "Parsing layer: 16 | from: -1 | number: 1 | module: <class 'ultralytics.nn.modules.block.C3k2'> | args: [256, 64, 1, False]\n",
      " 16                  -1  1     32096  ultralytics.nn.modules.block.C3k2            [256, 64, 1, False]           \n",
      "Parsing layer: 17 | from: -1 | number: 1 | module: <class 'ultralytics.nn.modules.conv.Conv'> | args: [64, 64, 3, 2]\n",
      " 17                  -1  1     36992  ultralytics.nn.modules.conv.Conv             [64, 64, 3, 2]                \n",
      "Parsing layer: 18 | from: [-1, 13] | number: 1 | module: <class 'ultralytics.nn.modules.conv.Concat'> | args: [1]\n",
      " 18            [-1, 13]  1         0  ultralytics.nn.modules.conv.Concat           [1]                           \n",
      "Parsing layer: 19 | from: -1 | number: 1 | module: <class 'ultralytics.nn.modules.block.C3k2'> | args: [192, 128, 1, False]\n",
      " 19                  -1  1     86720  ultralytics.nn.modules.block.C3k2            [192, 128, 1, False]          \n",
      "Parsing layer: 20 | from: -1 | number: 1 | module: <class 'ultralytics.nn.modules.conv.Conv'> | args: [128, 128, 3, 2]\n",
      " 20                  -1  1    147712  ultralytics.nn.modules.conv.Conv             [128, 128, 3, 2]              \n",
      "Parsing layer: 21 | from: [-1, 10] | number: 1 | module: <class 'ultralytics.nn.modules.conv.Concat'> | args: [1]\n",
      " 21            [-1, 10]  1         0  ultralytics.nn.modules.conv.Concat           [1]                           \n",
      "Parsing layer: 22 | from: -1 | number: 1 | module: <class 'ultralytics.nn.modules.block.C3k2'> | args: [384, 256, 1, True]\n",
      " 22                  -1  1    378880  ultralytics.nn.modules.block.C3k2            [384, 256, 1, True]           \n",
      "Parsing layer: 23 | from: [16, 19, 22] | number: 1 | module: <class 'ultralytics.nn.modules.head.Detect'> | args: [1, [64, 128, 256]]\n",
      " 23        [16, 19, 22]  1    430867  ultralytics.nn.modules.head.Detect           [1, [64, 128, 256]]           \n",
      "YOLO11n summary: 181 layers, 2,590,035 parameters, 2,590,019 gradients, 6.4 GFLOPs\n",
      "\n",
      "Transferred 448/499 items from pretrained weights\n",
      "\u001b[34m\u001b[1mTensorBoard: \u001b[0mStart with 'tensorboard --logdir runs\\detect\\train21', view at http://localhost:6006/\n",
      "Freezing layer 'model.23.dfl.conv.weight'\n",
      "\u001b[34m\u001b[1mAMP: \u001b[0mrunning Automatic Mixed Precision (AMP) checks...\n",
      "\u001b[34m\u001b[1mAMP: \u001b[0mchecks passed \n"
     ]
    },
    {
     "name": "stderr",
     "output_type": "stream",
     "text": [
      "\u001b[34m\u001b[1mtrain: \u001b[0mScanning C:\\Users\\dnslab_fox\\Ugur\\PearBagsYolo\\train\\labels.cache... 3907 images, 0 backgrounds, 0 corrupt: 100%|██████████| 3907/3907 [00:00<?, ?it/s]"
     ]
    },
    {
     "name": "stdout",
     "output_type": "stream",
     "text": [
      "\u001b[34m\u001b[1malbumentations: \u001b[0mBlur(p=0.01, blur_limit=(3, 7)), MedianBlur(p=0.01, blur_limit=(3, 7)), ToGray(p=0.01, num_output_channels=3, method='weighted_average'), CLAHE(p=0.01, clip_limit=(1.0, 4.0), tile_grid_size=(8, 8))\n"
     ]
    },
    {
     "name": "stderr",
     "output_type": "stream",
     "text": [
      "\n",
      "\u001b[34m\u001b[1mval: \u001b[0mScanning C:\\Users\\dnslab_fox\\Ugur\\PearBagsYolo\\valid\\labels.cache... 500 images, 0 backgrounds, 0 corrupt: 100%|██████████| 500/500 [00:00<?, ?it/s]\n"
     ]
    },
    {
     "name": "stdout",
     "output_type": "stream",
     "text": [
      "Plotting labels to runs\\detect\\train21\\labels.jpg... \n",
      "\u001b[34m\u001b[1moptimizer:\u001b[0m 'optimizer=auto' found, ignoring 'lr0=0.01' and 'momentum=0.937' and determining best 'optimizer', 'lr0' and 'momentum' automatically... \n",
      "\u001b[34m\u001b[1moptimizer:\u001b[0m AdamW(lr=0.002, momentum=0.9) with parameter groups 81 weight(decay=0.0), 88 weight(decay=0.0005), 87 bias(decay=0.0)\n",
      "\u001b[34m\u001b[1mTensorBoard: \u001b[0mmodel graph visualization added \n",
      "Image sizes 640 train, 640 val\n",
      "Using 8 dataloader workers\n",
      "Logging results to \u001b[1mruns\\detect\\train21\u001b[0m\n",
      "Starting training for 50 epochs...\n",
      "\n",
      "      Epoch    GPU_mem   box_loss   cls_loss   dfl_loss  Instances       Size\n"
     ]
    },
    {
     "name": "stderr",
     "output_type": "stream",
     "text": [
      "       1/50      2.31G      1.728      1.889       1.08         19        640: 100%|██████████| 245/245 [00:30<00:00,  8.13it/s]\n",
      "                 Class     Images  Instances      Box(P          R      mAP50  mAP50-95): 100%|██████████| 16/16 [00:02<00:00,  5.89it/s]\n"
     ]
    },
    {
     "name": "stdout",
     "output_type": "stream",
     "text": [
      "                   all        500       2176      0.873      0.847      0.915      0.531\n",
      "\n",
      "      Epoch    GPU_mem   box_loss   cls_loss   dfl_loss  Instances       Size\n"
     ]
    },
    {
     "name": "stderr",
     "output_type": "stream",
     "text": [
      "       2/50      2.67G      1.553      1.048      1.022         14        640: 100%|██████████| 245/245 [00:27<00:00,  8.90it/s]\n",
      "                 Class     Images  Instances      Box(P          R      mAP50  mAP50-95): 100%|██████████| 16/16 [00:02<00:00,  6.55it/s]"
     ]
    },
    {
     "name": "stdout",
     "output_type": "stream",
     "text": [
      "                   all        500       2176      0.868      0.846      0.922      0.549\n"
     ]
    },
    {
     "name": "stderr",
     "output_type": "stream",
     "text": [
      "\n"
     ]
    },
    {
     "name": "stdout",
     "output_type": "stream",
     "text": [
      "\n",
      "      Epoch    GPU_mem   box_loss   cls_loss   dfl_loss  Instances       Size\n"
     ]
    },
    {
     "name": "stderr",
     "output_type": "stream",
     "text": [
      "       3/50      2.67G      1.504     0.9067      1.005          9        640: 100%|██████████| 245/245 [00:26<00:00,  9.16it/s]\n",
      "                 Class     Images  Instances      Box(P          R      mAP50  mAP50-95): 100%|██████████| 16/16 [00:02<00:00,  6.57it/s]"
     ]
    },
    {
     "name": "stdout",
     "output_type": "stream",
     "text": [
      "                   all        500       2176      0.854      0.895      0.941      0.556\n"
     ]
    },
    {
     "name": "stderr",
     "output_type": "stream",
     "text": [
      "\n"
     ]
    },
    {
     "name": "stdout",
     "output_type": "stream",
     "text": [
      "\n",
      "      Epoch    GPU_mem   box_loss   cls_loss   dfl_loss  Instances       Size\n"
     ]
    },
    {
     "name": "stderr",
     "output_type": "stream",
     "text": [
      "       4/50      2.67G      1.449     0.8297      0.987         25        640: 100%|██████████| 245/245 [00:26<00:00,  9.27it/s]\n",
      "                 Class     Images  Instances      Box(P          R      mAP50  mAP50-95): 100%|██████████| 16/16 [00:02<00:00,  6.49it/s]"
     ]
    },
    {
     "name": "stdout",
     "output_type": "stream",
     "text": [
      "                   all        500       2176      0.854       0.88      0.925      0.558\n"
     ]
    },
    {
     "name": "stderr",
     "output_type": "stream",
     "text": [
      "\n"
     ]
    },
    {
     "name": "stdout",
     "output_type": "stream",
     "text": [
      "\n",
      "      Epoch    GPU_mem   box_loss   cls_loss   dfl_loss  Instances       Size\n"
     ]
    },
    {
     "name": "stderr",
     "output_type": "stream",
     "text": [
      "       5/50      2.67G      1.424     0.7878     0.9829         16        640: 100%|██████████| 245/245 [00:26<00:00,  9.37it/s]\n",
      "                 Class     Images  Instances      Box(P          R      mAP50  mAP50-95): 100%|██████████| 16/16 [00:02<00:00,  6.42it/s]"
     ]
    },
    {
     "name": "stdout",
     "output_type": "stream",
     "text": [
      "                   all        500       2176      0.908      0.909      0.961      0.603\n"
     ]
    },
    {
     "name": "stderr",
     "output_type": "stream",
     "text": [
      "\n"
     ]
    },
    {
     "name": "stdout",
     "output_type": "stream",
     "text": [
      "\n",
      "      Epoch    GPU_mem   box_loss   cls_loss   dfl_loss  Instances       Size\n"
     ]
    },
    {
     "name": "stderr",
     "output_type": "stream",
     "text": [
      "       6/50      2.67G      1.396     0.7532     0.9772         22        640: 100%|██████████| 245/245 [00:26<00:00,  9.33it/s]\n",
      "                 Class     Images  Instances      Box(P          R      mAP50  mAP50-95): 100%|██████████| 16/16 [00:02<00:00,  6.57it/s]"
     ]
    },
    {
     "name": "stdout",
     "output_type": "stream",
     "text": [
      "                   all        500       2176      0.896      0.906      0.956      0.588\n"
     ]
    },
    {
     "name": "stderr",
     "output_type": "stream",
     "text": [
      "\n"
     ]
    },
    {
     "name": "stdout",
     "output_type": "stream",
     "text": [
      "\n",
      "      Epoch    GPU_mem   box_loss   cls_loss   dfl_loss  Instances       Size\n"
     ]
    },
    {
     "name": "stderr",
     "output_type": "stream",
     "text": [
      "       7/50      2.67G      1.366     0.7244     0.9684         15        640: 100%|██████████| 245/245 [00:26<00:00,  9.27it/s]\n",
      "                 Class     Images  Instances      Box(P          R      mAP50  mAP50-95): 100%|██████████| 16/16 [00:02<00:00,  6.61it/s]"
     ]
    },
    {
     "name": "stdout",
     "output_type": "stream",
     "text": [
      "                   all        500       2176      0.903      0.906      0.962      0.585\n"
     ]
    },
    {
     "name": "stderr",
     "output_type": "stream",
     "text": [
      "\n"
     ]
    },
    {
     "name": "stdout",
     "output_type": "stream",
     "text": [
      "\n",
      "      Epoch    GPU_mem   box_loss   cls_loss   dfl_loss  Instances       Size\n"
     ]
    },
    {
     "name": "stderr",
     "output_type": "stream",
     "text": [
      "       8/50      2.67G      1.344     0.6945     0.9584         10        640: 100%|██████████| 245/245 [00:26<00:00,  9.30it/s]\n",
      "                 Class     Images  Instances      Box(P          R      mAP50  mAP50-95): 100%|██████████| 16/16 [00:02<00:00,  6.53it/s]"
     ]
    },
    {
     "name": "stdout",
     "output_type": "stream",
     "text": [
      "                   all        500       2176      0.915      0.913      0.971      0.623\n"
     ]
    },
    {
     "name": "stderr",
     "output_type": "stream",
     "text": [
      "\n"
     ]
    },
    {
     "name": "stdout",
     "output_type": "stream",
     "text": [
      "\n",
      "      Epoch    GPU_mem   box_loss   cls_loss   dfl_loss  Instances       Size\n"
     ]
    },
    {
     "name": "stderr",
     "output_type": "stream",
     "text": [
      "       9/50      2.67G      1.329     0.6939     0.9565         15        640: 100%|██████████| 245/245 [00:26<00:00,  9.12it/s]\n",
      "                 Class     Images  Instances      Box(P          R      mAP50  mAP50-95): 100%|██████████| 16/16 [00:02<00:00,  6.53it/s]"
     ]
    },
    {
     "name": "stdout",
     "output_type": "stream",
     "text": [
      "                   all        500       2176      0.904      0.908      0.965      0.616\n"
     ]
    },
    {
     "name": "stderr",
     "output_type": "stream",
     "text": [
      "\n"
     ]
    },
    {
     "name": "stdout",
     "output_type": "stream",
     "text": [
      "\n",
      "      Epoch    GPU_mem   box_loss   cls_loss   dfl_loss  Instances       Size\n"
     ]
    },
    {
     "name": "stderr",
     "output_type": "stream",
     "text": [
      "      10/50      2.67G      1.318     0.6809     0.9481         12        640: 100%|██████████| 245/245 [00:26<00:00,  9.38it/s]\n",
      "                 Class     Images  Instances      Box(P          R      mAP50  mAP50-95): 100%|██████████| 16/16 [00:02<00:00,  6.62it/s]"
     ]
    },
    {
     "name": "stdout",
     "output_type": "stream",
     "text": [
      "                   all        500       2176      0.933      0.909      0.974      0.637\n"
     ]
    },
    {
     "name": "stderr",
     "output_type": "stream",
     "text": [
      "\n"
     ]
    },
    {
     "name": "stdout",
     "output_type": "stream",
     "text": [
      "\n",
      "      Epoch    GPU_mem   box_loss   cls_loss   dfl_loss  Instances       Size\n"
     ]
    },
    {
     "name": "stderr",
     "output_type": "stream",
     "text": [
      "      11/50      2.67G      1.293      0.664     0.9463         11        640: 100%|██████████| 245/245 [00:25<00:00,  9.44it/s]\n",
      "                 Class     Images  Instances      Box(P          R      mAP50  mAP50-95): 100%|██████████| 16/16 [00:02<00:00,  6.25it/s]"
     ]
    },
    {
     "name": "stdout",
     "output_type": "stream",
     "text": [
      "                   all        500       2176      0.906      0.931       0.97      0.623\n"
     ]
    },
    {
     "name": "stderr",
     "output_type": "stream",
     "text": [
      "\n"
     ]
    },
    {
     "name": "stdout",
     "output_type": "stream",
     "text": [
      "\n",
      "      Epoch    GPU_mem   box_loss   cls_loss   dfl_loss  Instances       Size\n"
     ]
    },
    {
     "name": "stderr",
     "output_type": "stream",
     "text": [
      "      12/50      2.67G       1.29     0.6622     0.9442         18        640: 100%|██████████| 245/245 [00:26<00:00,  9.21it/s]\n",
      "                 Class     Images  Instances      Box(P          R      mAP50  mAP50-95): 100%|██████████| 16/16 [00:02<00:00,  6.57it/s]"
     ]
    },
    {
     "name": "stdout",
     "output_type": "stream",
     "text": [
      "                   all        500       2176      0.923      0.922      0.973       0.64\n"
     ]
    },
    {
     "name": "stderr",
     "output_type": "stream",
     "text": [
      "\n"
     ]
    },
    {
     "name": "stdout",
     "output_type": "stream",
     "text": [
      "\n",
      "      Epoch    GPU_mem   box_loss   cls_loss   dfl_loss  Instances       Size\n"
     ]
    },
    {
     "name": "stderr",
     "output_type": "stream",
     "text": [
      "      13/50      2.67G      1.273     0.6388     0.9389         13        640: 100%|██████████| 245/245 [00:26<00:00,  9.30it/s]\n",
      "                 Class     Images  Instances      Box(P          R      mAP50  mAP50-95): 100%|██████████| 16/16 [00:02<00:00,  6.56it/s]"
     ]
    },
    {
     "name": "stdout",
     "output_type": "stream",
     "text": [
      "                   all        500       2176       0.93      0.946      0.979      0.652\n"
     ]
    },
    {
     "name": "stderr",
     "output_type": "stream",
     "text": [
      "\n"
     ]
    },
    {
     "name": "stdout",
     "output_type": "stream",
     "text": [
      "\n",
      "      Epoch    GPU_mem   box_loss   cls_loss   dfl_loss  Instances       Size\n"
     ]
    },
    {
     "name": "stderr",
     "output_type": "stream",
     "text": [
      "      14/50      2.67G      1.268     0.6433     0.9391         11        640: 100%|██████████| 245/245 [00:26<00:00,  9.41it/s]\n",
      "                 Class     Images  Instances      Box(P          R      mAP50  mAP50-95): 100%|██████████| 16/16 [00:02<00:00,  6.61it/s]"
     ]
    },
    {
     "name": "stdout",
     "output_type": "stream",
     "text": [
      "                   all        500       2176      0.927      0.944      0.979      0.654\n"
     ]
    },
    {
     "name": "stderr",
     "output_type": "stream",
     "text": [
      "\n"
     ]
    },
    {
     "name": "stdout",
     "output_type": "stream",
     "text": [
      "\n",
      "      Epoch    GPU_mem   box_loss   cls_loss   dfl_loss  Instances       Size\n"
     ]
    },
    {
     "name": "stderr",
     "output_type": "stream",
     "text": [
      "      15/50      2.67G      1.246      0.626     0.9333         15        640: 100%|██████████| 245/245 [00:26<00:00,  9.36it/s]\n",
      "                 Class     Images  Instances      Box(P          R      mAP50  mAP50-95): 100%|██████████| 16/16 [00:02<00:00,  6.66it/s]"
     ]
    },
    {
     "name": "stdout",
     "output_type": "stream",
     "text": [
      "                   all        500       2176      0.928      0.938      0.977      0.656\n"
     ]
    },
    {
     "name": "stderr",
     "output_type": "stream",
     "text": [
      "\n"
     ]
    },
    {
     "name": "stdout",
     "output_type": "stream",
     "text": [
      "\n",
      "      Epoch    GPU_mem   box_loss   cls_loss   dfl_loss  Instances       Size\n"
     ]
    },
    {
     "name": "stderr",
     "output_type": "stream",
     "text": [
      "      16/50      2.67G      1.232     0.6157     0.9283         14        640: 100%|██████████| 245/245 [00:25<00:00,  9.44it/s]\n",
      "                 Class     Images  Instances      Box(P          R      mAP50  mAP50-95): 100%|██████████| 16/16 [00:02<00:00,  6.57it/s]"
     ]
    },
    {
     "name": "stdout",
     "output_type": "stream",
     "text": [
      "                   all        500       2176      0.942      0.932       0.98      0.662\n"
     ]
    },
    {
     "name": "stderr",
     "output_type": "stream",
     "text": [
      "\n"
     ]
    },
    {
     "name": "stdout",
     "output_type": "stream",
     "text": [
      "\n",
      "      Epoch    GPU_mem   box_loss   cls_loss   dfl_loss  Instances       Size\n"
     ]
    },
    {
     "name": "stderr",
     "output_type": "stream",
     "text": [
      "      17/50      2.67G      1.226     0.6133     0.9283         10        640: 100%|██████████| 245/245 [00:26<00:00,  9.42it/s]\n",
      "                 Class     Images  Instances      Box(P          R      mAP50  mAP50-95): 100%|██████████| 16/16 [00:02<00:00,  6.65it/s]"
     ]
    },
    {
     "name": "stdout",
     "output_type": "stream",
     "text": [
      "                   all        500       2176      0.925      0.961       0.98      0.668\n"
     ]
    },
    {
     "name": "stderr",
     "output_type": "stream",
     "text": [
      "\n"
     ]
    },
    {
     "name": "stdout",
     "output_type": "stream",
     "text": [
      "\n",
      "      Epoch    GPU_mem   box_loss   cls_loss   dfl_loss  Instances       Size\n"
     ]
    },
    {
     "name": "stderr",
     "output_type": "stream",
     "text": [
      "      18/50      2.67G      1.202     0.5927     0.9243         25        640: 100%|██████████| 245/245 [00:26<00:00,  9.37it/s]\n",
      "                 Class     Images  Instances      Box(P          R      mAP50  mAP50-95): 100%|██████████| 16/16 [00:02<00:00,  6.66it/s]"
     ]
    },
    {
     "name": "stdout",
     "output_type": "stream",
     "text": [
      "                   all        500       2176      0.943      0.953      0.983       0.68\n"
     ]
    },
    {
     "name": "stderr",
     "output_type": "stream",
     "text": [
      "\n"
     ]
    },
    {
     "name": "stdout",
     "output_type": "stream",
     "text": [
      "\n",
      "      Epoch    GPU_mem   box_loss   cls_loss   dfl_loss  Instances       Size\n"
     ]
    },
    {
     "name": "stderr",
     "output_type": "stream",
     "text": [
      "      19/50      2.67G      1.196     0.5903     0.9209         13        640: 100%|██████████| 245/245 [00:26<00:00,  9.38it/s]\n",
      "                 Class     Images  Instances      Box(P          R      mAP50  mAP50-95): 100%|██████████| 16/16 [00:02<00:00,  6.65it/s]"
     ]
    },
    {
     "name": "stdout",
     "output_type": "stream",
     "text": [
      "                   all        500       2176      0.938      0.948      0.979      0.672\n"
     ]
    },
    {
     "name": "stderr",
     "output_type": "stream",
     "text": [
      "\n"
     ]
    },
    {
     "name": "stdout",
     "output_type": "stream",
     "text": [
      "\n",
      "      Epoch    GPU_mem   box_loss   cls_loss   dfl_loss  Instances       Size\n"
     ]
    },
    {
     "name": "stderr",
     "output_type": "stream",
     "text": [
      "      20/50      2.67G      1.194     0.5859     0.9212         11        640: 100%|██████████| 245/245 [00:26<00:00,  9.34it/s]\n",
      "                 Class     Images  Instances      Box(P          R      mAP50  mAP50-95): 100%|██████████| 16/16 [00:02<00:00,  6.57it/s]"
     ]
    },
    {
     "name": "stdout",
     "output_type": "stream",
     "text": [
      "                   all        500       2176      0.933      0.952      0.979      0.669\n"
     ]
    },
    {
     "name": "stderr",
     "output_type": "stream",
     "text": [
      "\n"
     ]
    },
    {
     "name": "stdout",
     "output_type": "stream",
     "text": [
      "\n",
      "      Epoch    GPU_mem   box_loss   cls_loss   dfl_loss  Instances       Size\n"
     ]
    },
    {
     "name": "stderr",
     "output_type": "stream",
     "text": [
      "      21/50      2.67G      1.184     0.5778     0.9142         19        640: 100%|██████████| 245/245 [00:26<00:00,  9.27it/s]\n",
      "                 Class     Images  Instances      Box(P          R      mAP50  mAP50-95): 100%|██████████| 16/16 [00:02<00:00,  6.50it/s]"
     ]
    },
    {
     "name": "stdout",
     "output_type": "stream",
     "text": [
      "                   all        500       2176      0.937      0.945      0.982      0.683\n"
     ]
    },
    {
     "name": "stderr",
     "output_type": "stream",
     "text": [
      "\n"
     ]
    },
    {
     "name": "stdout",
     "output_type": "stream",
     "text": [
      "\n",
      "      Epoch    GPU_mem   box_loss   cls_loss   dfl_loss  Instances       Size\n"
     ]
    },
    {
     "name": "stderr",
     "output_type": "stream",
     "text": [
      "      22/50      2.67G      1.176     0.5752     0.9129          8        640: 100%|██████████| 245/245 [00:26<00:00,  9.28it/s]\n",
      "                 Class     Images  Instances      Box(P          R      mAP50  mAP50-95): 100%|██████████| 16/16 [00:02<00:00,  6.56it/s]"
     ]
    },
    {
     "name": "stdout",
     "output_type": "stream",
     "text": [
      "                   all        500       2176      0.937      0.957      0.981       0.69\n"
     ]
    },
    {
     "name": "stderr",
     "output_type": "stream",
     "text": [
      "\n"
     ]
    },
    {
     "name": "stdout",
     "output_type": "stream",
     "text": [
      "\n",
      "      Epoch    GPU_mem   box_loss   cls_loss   dfl_loss  Instances       Size\n"
     ]
    },
    {
     "name": "stderr",
     "output_type": "stream",
     "text": [
      "      23/50      2.67G       1.17     0.5678     0.9122         16        640: 100%|██████████| 245/245 [00:26<00:00,  9.34it/s]\n",
      "                 Class     Images  Instances      Box(P          R      mAP50  mAP50-95): 100%|██████████| 16/16 [00:02<00:00,  6.56it/s]"
     ]
    },
    {
     "name": "stdout",
     "output_type": "stream",
     "text": [
      "                   all        500       2176      0.936      0.958      0.982      0.688\n"
     ]
    },
    {
     "name": "stderr",
     "output_type": "stream",
     "text": [
      "\n"
     ]
    },
    {
     "name": "stdout",
     "output_type": "stream",
     "text": [
      "\n",
      "      Epoch    GPU_mem   box_loss   cls_loss   dfl_loss  Instances       Size\n"
     ]
    },
    {
     "name": "stderr",
     "output_type": "stream",
     "text": [
      "      24/50      2.67G      1.159     0.5638      0.908         12        640: 100%|██████████| 245/245 [00:26<00:00,  9.21it/s]\n",
      "                 Class     Images  Instances      Box(P          R      mAP50  mAP50-95): 100%|██████████| 16/16 [00:02<00:00,  6.55it/s]"
     ]
    },
    {
     "name": "stdout",
     "output_type": "stream",
     "text": [
      "                   all        500       2176      0.939       0.96      0.982      0.687\n"
     ]
    },
    {
     "name": "stderr",
     "output_type": "stream",
     "text": [
      "\n"
     ]
    },
    {
     "name": "stdout",
     "output_type": "stream",
     "text": [
      "\n",
      "      Epoch    GPU_mem   box_loss   cls_loss   dfl_loss  Instances       Size\n"
     ]
    },
    {
     "name": "stderr",
     "output_type": "stream",
     "text": [
      "      25/50      2.67G      1.145     0.5484     0.9074         17        640: 100%|██████████| 245/245 [00:26<00:00,  9.19it/s]\n",
      "                 Class     Images  Instances      Box(P          R      mAP50  mAP50-95): 100%|██████████| 16/16 [00:02<00:00,  6.63it/s]"
     ]
    },
    {
     "name": "stdout",
     "output_type": "stream",
     "text": [
      "                   all        500       2176      0.956      0.965      0.985      0.703\n"
     ]
    },
    {
     "name": "stderr",
     "output_type": "stream",
     "text": [
      "\n"
     ]
    },
    {
     "name": "stdout",
     "output_type": "stream",
     "text": [
      "\n",
      "      Epoch    GPU_mem   box_loss   cls_loss   dfl_loss  Instances       Size\n"
     ]
    },
    {
     "name": "stderr",
     "output_type": "stream",
     "text": [
      "      26/50      2.67G      1.139     0.5448     0.9053         13        640: 100%|██████████| 245/245 [00:26<00:00,  9.21it/s]\n",
      "                 Class     Images  Instances      Box(P          R      mAP50  mAP50-95): 100%|██████████| 16/16 [00:02<00:00,  6.53it/s]"
     ]
    },
    {
     "name": "stdout",
     "output_type": "stream",
     "text": [
      "                   all        500       2176      0.956      0.954      0.986        0.7\n"
     ]
    },
    {
     "name": "stderr",
     "output_type": "stream",
     "text": [
      "\n"
     ]
    },
    {
     "name": "stdout",
     "output_type": "stream",
     "text": [
      "\n",
      "      Epoch    GPU_mem   box_loss   cls_loss   dfl_loss  Instances       Size\n"
     ]
    },
    {
     "name": "stderr",
     "output_type": "stream",
     "text": [
      "      27/50      2.67G      1.145     0.5442     0.9049         16        640: 100%|██████████| 245/245 [00:26<00:00,  9.13it/s]\n",
      "                 Class     Images  Instances      Box(P          R      mAP50  mAP50-95): 100%|██████████| 16/16 [00:02<00:00,  6.49it/s]"
     ]
    },
    {
     "name": "stdout",
     "output_type": "stream",
     "text": [
      "                   all        500       2176      0.949      0.959      0.986      0.702\n"
     ]
    },
    {
     "name": "stderr",
     "output_type": "stream",
     "text": [
      "\n"
     ]
    },
    {
     "name": "stdout",
     "output_type": "stream",
     "text": [
      "\n",
      "      Epoch    GPU_mem   box_loss   cls_loss   dfl_loss  Instances       Size\n"
     ]
    },
    {
     "name": "stderr",
     "output_type": "stream",
     "text": [
      "      28/50      2.67G      1.137     0.5471     0.9047         27        640: 100%|██████████| 245/245 [00:26<00:00,  9.20it/s]\n",
      "                 Class     Images  Instances      Box(P          R      mAP50  mAP50-95): 100%|██████████| 16/16 [00:02<00:00,  6.58it/s]"
     ]
    },
    {
     "name": "stdout",
     "output_type": "stream",
     "text": [
      "                   all        500       2176      0.944      0.962      0.986      0.698\n"
     ]
    },
    {
     "name": "stderr",
     "output_type": "stream",
     "text": [
      "\n"
     ]
    },
    {
     "name": "stdout",
     "output_type": "stream",
     "text": [
      "\n",
      "      Epoch    GPU_mem   box_loss   cls_loss   dfl_loss  Instances       Size\n"
     ]
    },
    {
     "name": "stderr",
     "output_type": "stream",
     "text": [
      "      29/50      2.67G      1.124     0.5344     0.9025         11        640: 100%|██████████| 245/245 [00:26<00:00,  9.22it/s]\n",
      "                 Class     Images  Instances      Box(P          R      mAP50  mAP50-95): 100%|██████████| 16/16 [00:02<00:00,  6.62it/s]"
     ]
    },
    {
     "name": "stdout",
     "output_type": "stream",
     "text": [
      "                   all        500       2176      0.946      0.974      0.987      0.706\n"
     ]
    },
    {
     "name": "stderr",
     "output_type": "stream",
     "text": [
      "\n"
     ]
    },
    {
     "name": "stdout",
     "output_type": "stream",
     "text": [
      "\n",
      "      Epoch    GPU_mem   box_loss   cls_loss   dfl_loss  Instances       Size\n"
     ]
    },
    {
     "name": "stderr",
     "output_type": "stream",
     "text": [
      "      30/50      2.67G      1.111      0.528     0.8992         16        640: 100%|██████████| 245/245 [00:26<00:00,  9.25it/s]\n",
      "                 Class     Images  Instances      Box(P          R      mAP50  mAP50-95): 100%|██████████| 16/16 [00:02<00:00,  6.52it/s]"
     ]
    },
    {
     "name": "stdout",
     "output_type": "stream",
     "text": [
      "                   all        500       2176      0.946      0.969      0.986      0.708\n"
     ]
    },
    {
     "name": "stderr",
     "output_type": "stream",
     "text": [
      "\n"
     ]
    },
    {
     "name": "stdout",
     "output_type": "stream",
     "text": [
      "\n",
      "      Epoch    GPU_mem   box_loss   cls_loss   dfl_loss  Instances       Size\n"
     ]
    },
    {
     "name": "stderr",
     "output_type": "stream",
     "text": [
      "      31/50      2.67G      1.108     0.5245     0.8991         11        640: 100%|██████████| 245/245 [00:26<00:00,  9.29it/s]\n",
      "                 Class     Images  Instances      Box(P          R      mAP50  mAP50-95): 100%|██████████| 16/16 [00:02<00:00,  6.57it/s]"
     ]
    },
    {
     "name": "stdout",
     "output_type": "stream",
     "text": [
      "                   all        500       2176      0.955      0.966      0.985      0.715\n"
     ]
    },
    {
     "name": "stderr",
     "output_type": "stream",
     "text": [
      "\n"
     ]
    },
    {
     "name": "stdout",
     "output_type": "stream",
     "text": [
      "\n",
      "      Epoch    GPU_mem   box_loss   cls_loss   dfl_loss  Instances       Size\n"
     ]
    },
    {
     "name": "stderr",
     "output_type": "stream",
     "text": [
      "      32/50      2.67G      1.101     0.5221     0.8977         13        640: 100%|██████████| 245/245 [00:26<00:00,  9.28it/s]\n",
      "                 Class     Images  Instances      Box(P          R      mAP50  mAP50-95): 100%|██████████| 16/16 [00:02<00:00,  6.53it/s]"
     ]
    },
    {
     "name": "stdout",
     "output_type": "stream",
     "text": [
      "                   all        500       2176      0.956      0.973      0.988      0.714\n"
     ]
    },
    {
     "name": "stderr",
     "output_type": "stream",
     "text": [
      "\n"
     ]
    },
    {
     "name": "stdout",
     "output_type": "stream",
     "text": [
      "\n",
      "      Epoch    GPU_mem   box_loss   cls_loss   dfl_loss  Instances       Size\n"
     ]
    },
    {
     "name": "stderr",
     "output_type": "stream",
     "text": [
      "      33/50      2.67G      1.086     0.5134     0.8937         22        640: 100%|██████████| 245/245 [00:25<00:00,  9.45it/s]\n",
      "                 Class     Images  Instances      Box(P          R      mAP50  mAP50-95): 100%|██████████| 16/16 [00:02<00:00,  6.53it/s]"
     ]
    },
    {
     "name": "stdout",
     "output_type": "stream",
     "text": [
      "                   all        500       2176       0.96       0.96      0.988      0.715\n"
     ]
    },
    {
     "name": "stderr",
     "output_type": "stream",
     "text": [
      "\n"
     ]
    },
    {
     "name": "stdout",
     "output_type": "stream",
     "text": [
      "\n",
      "      Epoch    GPU_mem   box_loss   cls_loss   dfl_loss  Instances       Size\n"
     ]
    },
    {
     "name": "stderr",
     "output_type": "stream",
     "text": [
      "      34/50      2.67G      1.085     0.5156     0.8944          9        640: 100%|██████████| 245/245 [00:25<00:00,  9.44it/s]\n",
      "                 Class     Images  Instances      Box(P          R      mAP50  mAP50-95): 100%|██████████| 16/16 [00:02<00:00,  6.61it/s]"
     ]
    },
    {
     "name": "stdout",
     "output_type": "stream",
     "text": [
      "                   all        500       2176      0.952      0.978      0.988      0.711\n"
     ]
    },
    {
     "name": "stderr",
     "output_type": "stream",
     "text": [
      "\n"
     ]
    },
    {
     "name": "stdout",
     "output_type": "stream",
     "text": [
      "\n",
      "      Epoch    GPU_mem   box_loss   cls_loss   dfl_loss  Instances       Size\n"
     ]
    },
    {
     "name": "stderr",
     "output_type": "stream",
     "text": [
      "      35/50      2.67G      1.083     0.5112     0.8935          7        640: 100%|██████████| 245/245 [00:25<00:00,  9.45it/s]\n",
      "                 Class     Images  Instances      Box(P          R      mAP50  mAP50-95): 100%|██████████| 16/16 [00:02<00:00,  6.68it/s]"
     ]
    },
    {
     "name": "stdout",
     "output_type": "stream",
     "text": [
      "                   all        500       2176      0.967      0.971      0.987      0.713\n"
     ]
    },
    {
     "name": "stderr",
     "output_type": "stream",
     "text": [
      "\n"
     ]
    },
    {
     "name": "stdout",
     "output_type": "stream",
     "text": [
      "\n",
      "      Epoch    GPU_mem   box_loss   cls_loss   dfl_loss  Instances       Size\n"
     ]
    },
    {
     "name": "stderr",
     "output_type": "stream",
     "text": [
      "      36/50      2.67G      1.079     0.5042     0.8916         18        640: 100%|██████████| 245/245 [00:26<00:00,  9.33it/s]\n",
      "                 Class     Images  Instances      Box(P          R      mAP50  mAP50-95): 100%|██████████| 16/16 [00:02<00:00,  6.65it/s]"
     ]
    },
    {
     "name": "stdout",
     "output_type": "stream",
     "text": [
      "                   all        500       2176      0.958      0.975      0.987      0.718\n"
     ]
    },
    {
     "name": "stderr",
     "output_type": "stream",
     "text": [
      "\n"
     ]
    },
    {
     "name": "stdout",
     "output_type": "stream",
     "text": [
      "\n",
      "      Epoch    GPU_mem   box_loss   cls_loss   dfl_loss  Instances       Size\n"
     ]
    },
    {
     "name": "stderr",
     "output_type": "stream",
     "text": [
      "      37/50      2.67G      1.064     0.4971     0.8887         29        640: 100%|██████████| 245/245 [00:26<00:00,  9.38it/s]\n",
      "                 Class     Images  Instances      Box(P          R      mAP50  mAP50-95): 100%|██████████| 16/16 [00:02<00:00,  6.66it/s]"
     ]
    },
    {
     "name": "stdout",
     "output_type": "stream",
     "text": [
      "                   all        500       2176      0.956      0.977      0.987      0.723\n"
     ]
    },
    {
     "name": "stderr",
     "output_type": "stream",
     "text": [
      "\n"
     ]
    },
    {
     "name": "stdout",
     "output_type": "stream",
     "text": [
      "\n",
      "      Epoch    GPU_mem   box_loss   cls_loss   dfl_loss  Instances       Size\n"
     ]
    },
    {
     "name": "stderr",
     "output_type": "stream",
     "text": [
      "      38/50      2.67G      1.061     0.4923     0.8904         21        640: 100%|██████████| 245/245 [00:25<00:00,  9.45it/s]\n",
      "                 Class     Images  Instances      Box(P          R      mAP50  mAP50-95): 100%|██████████| 16/16 [00:02<00:00,  6.57it/s]"
     ]
    },
    {
     "name": "stdout",
     "output_type": "stream",
     "text": [
      "                   all        500       2176      0.958      0.975      0.988      0.729\n"
     ]
    },
    {
     "name": "stderr",
     "output_type": "stream",
     "text": [
      "\n"
     ]
    },
    {
     "name": "stdout",
     "output_type": "stream",
     "text": [
      "\n",
      "      Epoch    GPU_mem   box_loss   cls_loss   dfl_loss  Instances       Size\n"
     ]
    },
    {
     "name": "stderr",
     "output_type": "stream",
     "text": [
      "      39/50      2.67G      1.059     0.4895     0.8852         25        640: 100%|██████████| 245/245 [00:25<00:00,  9.46it/s]\n",
      "                 Class     Images  Instances      Box(P          R      mAP50  mAP50-95): 100%|██████████| 16/16 [00:02<00:00,  6.69it/s]"
     ]
    },
    {
     "name": "stdout",
     "output_type": "stream",
     "text": [
      "                   all        500       2176      0.964      0.969      0.989      0.727\n"
     ]
    },
    {
     "name": "stderr",
     "output_type": "stream",
     "text": [
      "\n"
     ]
    },
    {
     "name": "stdout",
     "output_type": "stream",
     "text": [
      "\n",
      "      Epoch    GPU_mem   box_loss   cls_loss   dfl_loss  Instances       Size\n"
     ]
    },
    {
     "name": "stderr",
     "output_type": "stream",
     "text": [
      "      40/50      2.67G       1.05     0.4847     0.8853         16        640: 100%|██████████| 245/245 [00:25<00:00,  9.46it/s]\n",
      "                 Class     Images  Instances      Box(P          R      mAP50  mAP50-95): 100%|██████████| 16/16 [00:02<00:00,  6.61it/s]"
     ]
    },
    {
     "name": "stdout",
     "output_type": "stream",
     "text": [
      "                   all        500       2176      0.961      0.972      0.988      0.726\n"
     ]
    },
    {
     "name": "stderr",
     "output_type": "stream",
     "text": [
      "\n"
     ]
    },
    {
     "name": "stdout",
     "output_type": "stream",
     "text": [
      "Closing dataloader mosaic\n",
      "\u001b[34m\u001b[1malbumentations: \u001b[0mBlur(p=0.01, blur_limit=(3, 7)), MedianBlur(p=0.01, blur_limit=(3, 7)), ToGray(p=0.01, num_output_channels=3, method='weighted_average'), CLAHE(p=0.01, clip_limit=(1.0, 4.0), tile_grid_size=(8, 8))\n",
      "\n",
      "      Epoch    GPU_mem   box_loss   cls_loss   dfl_loss  Instances       Size\n"
     ]
    },
    {
     "name": "stderr",
     "output_type": "stream",
     "text": [
      "      41/50      2.67G      1.051     0.4727      0.898         12        640: 100%|██████████| 245/245 [00:26<00:00,  9.40it/s]\n",
      "                 Class     Images  Instances      Box(P          R      mAP50  mAP50-95): 100%|██████████| 16/16 [00:02<00:00,  6.69it/s]"
     ]
    },
    {
     "name": "stdout",
     "output_type": "stream",
     "text": [
      "                   all        500       2176       0.96      0.965      0.986      0.721\n"
     ]
    },
    {
     "name": "stderr",
     "output_type": "stream",
     "text": [
      "\n"
     ]
    },
    {
     "name": "stdout",
     "output_type": "stream",
     "text": [
      "\n",
      "      Epoch    GPU_mem   box_loss   cls_loss   dfl_loss  Instances       Size\n"
     ]
    },
    {
     "name": "stderr",
     "output_type": "stream",
     "text": [
      "      42/50      2.67G      1.037     0.4618     0.8958         14        640: 100%|██████████| 245/245 [00:25<00:00,  9.58it/s]\n",
      "                 Class     Images  Instances      Box(P          R      mAP50  mAP50-95): 100%|██████████| 16/16 [00:02<00:00,  6.65it/s]"
     ]
    },
    {
     "name": "stdout",
     "output_type": "stream",
     "text": [
      "                   all        500       2176       0.96      0.977      0.987      0.725\n"
     ]
    },
    {
     "name": "stderr",
     "output_type": "stream",
     "text": [
      "\n"
     ]
    },
    {
     "name": "stdout",
     "output_type": "stream",
     "text": [
      "\n",
      "      Epoch    GPU_mem   box_loss   cls_loss   dfl_loss  Instances       Size\n"
     ]
    },
    {
     "name": "stderr",
     "output_type": "stream",
     "text": [
      "      43/50      2.67G      1.021       0.45     0.8907         13        640: 100%|██████████| 245/245 [00:25<00:00,  9.58it/s]\n",
      "                 Class     Images  Instances      Box(P          R      mAP50  mAP50-95): 100%|██████████| 16/16 [00:02<00:00,  6.61it/s]"
     ]
    },
    {
     "name": "stdout",
     "output_type": "stream",
     "text": [
      "                   all        500       2176      0.959       0.98      0.988      0.725\n"
     ]
    },
    {
     "name": "stderr",
     "output_type": "stream",
     "text": [
      "\n"
     ]
    },
    {
     "name": "stdout",
     "output_type": "stream",
     "text": [
      "\n",
      "      Epoch    GPU_mem   box_loss   cls_loss   dfl_loss  Instances       Size\n"
     ]
    },
    {
     "name": "stderr",
     "output_type": "stream",
     "text": [
      "      44/50      2.67G      1.014     0.4448     0.8886         17        640: 100%|██████████| 245/245 [00:25<00:00,  9.63it/s]\n",
      "                 Class     Images  Instances      Box(P          R      mAP50  mAP50-95): 100%|██████████| 16/16 [00:02<00:00,  6.62it/s]"
     ]
    },
    {
     "name": "stdout",
     "output_type": "stream",
     "text": [
      "                   all        500       2176      0.965      0.974      0.988      0.726\n"
     ]
    },
    {
     "name": "stderr",
     "output_type": "stream",
     "text": [
      "\n"
     ]
    },
    {
     "name": "stdout",
     "output_type": "stream",
     "text": [
      "\n",
      "      Epoch    GPU_mem   box_loss   cls_loss   dfl_loss  Instances       Size\n"
     ]
    },
    {
     "name": "stderr",
     "output_type": "stream",
     "text": [
      "      45/50      2.67G      1.011     0.4471     0.8871         10        640: 100%|██████████| 245/245 [00:25<00:00,  9.50it/s]\n",
      "                 Class     Images  Instances      Box(P          R      mAP50  mAP50-95): 100%|██████████| 16/16 [00:02<00:00,  6.69it/s]"
     ]
    },
    {
     "name": "stdout",
     "output_type": "stream",
     "text": [
      "                   all        500       2176      0.961      0.977      0.988      0.727\n"
     ]
    },
    {
     "name": "stderr",
     "output_type": "stream",
     "text": [
      "\n"
     ]
    },
    {
     "name": "stdout",
     "output_type": "stream",
     "text": [
      "\n",
      "      Epoch    GPU_mem   box_loss   cls_loss   dfl_loss  Instances       Size\n"
     ]
    },
    {
     "name": "stderr",
     "output_type": "stream",
     "text": [
      "      46/50      2.67G     0.9992     0.4373     0.8849          6        640: 100%|██████████| 245/245 [00:25<00:00,  9.50it/s]\n",
      "                 Class     Images  Instances      Box(P          R      mAP50  mAP50-95): 100%|██████████| 16/16 [00:02<00:00,  6.70it/s]"
     ]
    },
    {
     "name": "stdout",
     "output_type": "stream",
     "text": [
      "                   all        500       2176      0.952      0.984      0.987      0.731\n"
     ]
    },
    {
     "name": "stderr",
     "output_type": "stream",
     "text": [
      "\n"
     ]
    },
    {
     "name": "stdout",
     "output_type": "stream",
     "text": [
      "\n",
      "      Epoch    GPU_mem   box_loss   cls_loss   dfl_loss  Instances       Size\n"
     ]
    },
    {
     "name": "stderr",
     "output_type": "stream",
     "text": [
      "      47/50      2.67G     0.9888     0.4322     0.8829         13        640: 100%|██████████| 245/245 [00:25<00:00,  9.59it/s]\n",
      "                 Class     Images  Instances      Box(P          R      mAP50  mAP50-95): 100%|██████████| 16/16 [00:02<00:00,  6.70it/s]"
     ]
    },
    {
     "name": "stdout",
     "output_type": "stream",
     "text": [
      "                   all        500       2176      0.968      0.981      0.989       0.74\n"
     ]
    },
    {
     "name": "stderr",
     "output_type": "stream",
     "text": [
      "\n"
     ]
    },
    {
     "name": "stdout",
     "output_type": "stream",
     "text": [
      "\n",
      "      Epoch    GPU_mem   box_loss   cls_loss   dfl_loss  Instances       Size\n"
     ]
    },
    {
     "name": "stderr",
     "output_type": "stream",
     "text": [
      "      48/50      2.67G     0.9832     0.4274     0.8809         12        640: 100%|██████████| 245/245 [00:25<00:00,  9.58it/s]\n",
      "                 Class     Images  Instances      Box(P          R      mAP50  mAP50-95): 100%|██████████| 16/16 [00:02<00:00,  6.58it/s]"
     ]
    },
    {
     "name": "stdout",
     "output_type": "stream",
     "text": [
      "                   all        500       2176      0.969      0.976      0.988      0.739\n"
     ]
    },
    {
     "name": "stderr",
     "output_type": "stream",
     "text": [
      "\n"
     ]
    },
    {
     "name": "stdout",
     "output_type": "stream",
     "text": [
      "\n",
      "      Epoch    GPU_mem   box_loss   cls_loss   dfl_loss  Instances       Size\n"
     ]
    },
    {
     "name": "stderr",
     "output_type": "stream",
     "text": [
      "      49/50      2.67G     0.9829     0.4236     0.8819         11        640: 100%|██████████| 245/245 [00:25<00:00,  9.51it/s]\n",
      "                 Class     Images  Instances      Box(P          R      mAP50  mAP50-95): 100%|██████████| 16/16 [00:02<00:00,  6.70it/s]"
     ]
    },
    {
     "name": "stdout",
     "output_type": "stream",
     "text": [
      "                   all        500       2176      0.965      0.982      0.989      0.739\n"
     ]
    },
    {
     "name": "stderr",
     "output_type": "stream",
     "text": [
      "\n"
     ]
    },
    {
     "name": "stdout",
     "output_type": "stream",
     "text": [
      "\n",
      "      Epoch    GPU_mem   box_loss   cls_loss   dfl_loss  Instances       Size\n"
     ]
    },
    {
     "name": "stderr",
     "output_type": "stream",
     "text": [
      "      50/50      2.67G     0.9803     0.4229     0.8814         13        640: 100%|██████████| 245/245 [00:25<00:00,  9.50it/s]\n",
      "                 Class     Images  Instances      Box(P          R      mAP50  mAP50-95): 100%|██████████| 16/16 [00:02<00:00,  6.54it/s]"
     ]
    },
    {
     "name": "stdout",
     "output_type": "stream",
     "text": [
      "                   all        500       2176      0.963       0.98      0.988      0.737\n"
     ]
    },
    {
     "name": "stderr",
     "output_type": "stream",
     "text": [
      "\n"
     ]
    },
    {
     "name": "stdout",
     "output_type": "stream",
     "text": [
      "\n",
      "50 epochs completed in 0.415 hours.\n",
      "Optimizer stripped from runs\\detect\\train21\\weights\\last.pt, 5.5MB\n",
      "Optimizer stripped from runs\\detect\\train21\\weights\\best.pt, 5.5MB\n",
      "\n",
      "Validating runs\\detect\\train21\\weights\\best.pt...\n",
      "Ultralytics 8.3.101  Python-3.12.8 torch-2.5.1 CUDA:0 (NVIDIA GeForce RTX 3070, 8191MiB)\n",
      "YOLO11n summary (fused): 100 layers, 2,582,347 parameters, 0 gradients, 6.3 GFLOPs\n"
     ]
    },
    {
     "name": "stderr",
     "output_type": "stream",
     "text": [
      "                 Class     Images  Instances      Box(P          R      mAP50  mAP50-95): 100%|██████████| 16/16 [00:03<00:00,  4.55it/s]\n"
     ]
    },
    {
     "name": "stdout",
     "output_type": "stream",
     "text": [
      "                   all        500       2176      0.968      0.981      0.989      0.739\n",
      "Speed: 0.2ms preprocess, 1.4ms inference, 0.0ms loss, 1.0ms postprocess per image\n",
      "Results saved to \u001b[1mruns\\detect\\train21\u001b[0m\n"
     ]
    }
   ],
   "source": [
    "from ultralytics import YOLO\n",
    "\n",
    "# Load a COCO-pretrained YOLO11n model\n",
    "model = YOLO(\"yolo11n.pt\")\n",
    "\n",
    "# Train the model on the COCO8 example dataset for 100 epochs\n",
    "results = model.train(data=\"C:/Users/dnslab_fox/Ugur/PearBagsYolo/data.yaml\", epochs=50, imgsz=640)"
   ]
  },
  {
   "cell_type": "code",
   "execution_count": 10,
   "id": "b0dd871e-e4e9-4c9d-a3e1-878a1ff6afda",
   "metadata": {},
   "outputs": [],
   "source": [
    "model.save(\"PearBagsYolo/models/pearbags_yolov11.pt\")"
   ]
  },
  {
   "cell_type": "markdown",
   "id": "eb6f9932-a0d5-4716-8c6b-4ba942e448aa",
   "metadata": {
    "jp-MarkdownHeadingCollapsed": true
   },
   "source": [
    "## Yolov8"
   ]
  },
  {
   "cell_type": "code",
   "execution_count": 11,
   "id": "59b25156-5a63-4493-8840-a7e7c97f6e1d",
   "metadata": {
    "scrolled": true
   },
   "outputs": [
    {
     "name": "stdout",
     "output_type": "stream",
     "text": [
      "Downloading https://github.com/ultralytics/assets/releases/download/v8.3.0/yolov8n.pt to 'yolov8n.pt'...\n"
     ]
    },
    {
     "name": "stderr",
     "output_type": "stream",
     "text": [
      "100%|██████████| 6.25M/6.25M [00:00<00:00, 11.6MB/s]\n"
     ]
    },
    {
     "name": "stdout",
     "output_type": "stream",
     "text": [
      "YOLOv8n summary: 129 layers, 3,157,200 parameters, 0 gradients, 8.9 GFLOPs\n",
      "New https://pypi.org/project/ultralytics/8.3.116 available  Update with 'pip install -U ultralytics'\n",
      "Ultralytics 8.3.101  Python-3.12.8 torch-2.5.1 CUDA:0 (NVIDIA GeForce RTX 3070, 8191MiB)\n",
      "\u001b[34m\u001b[1mengine\\trainer: \u001b[0mtask=detect, mode=train, model=yolov8n.pt, data=C:/Users/dnslab_fox/Ugur/PearBagsYolo/data.yaml, epochs=50, time=None, patience=100, batch=16, imgsz=640, save=True, save_period=-1, cache=False, device=None, workers=8, project=None, name=train22, exist_ok=False, pretrained=True, optimizer=auto, verbose=True, seed=0, deterministic=True, single_cls=False, rect=False, cos_lr=False, close_mosaic=10, resume=False, amp=True, fraction=1.0, profile=False, freeze=None, multi_scale=False, overlap_mask=True, mask_ratio=4, dropout=0.0, val=True, split=val, save_json=False, save_hybrid=False, conf=None, iou=0.7, max_det=300, half=False, dnn=False, plots=True, source=None, vid_stride=1, stream_buffer=False, visualize=False, augment=False, agnostic_nms=False, classes=None, retina_masks=False, embed=None, show=False, save_frames=False, save_txt=False, save_conf=False, save_crop=False, show_labels=True, show_conf=True, show_boxes=True, line_width=None, format=torchscript, keras=False, optimize=False, int8=False, dynamic=False, simplify=True, opset=None, workspace=None, nms=False, lr0=0.01, lrf=0.01, momentum=0.937, weight_decay=0.0005, warmup_epochs=3.0, warmup_momentum=0.8, warmup_bias_lr=0.1, box=7.5, cls=0.5, dfl=1.5, pose=12.0, kobj=1.0, nbs=64, hsv_h=0.015, hsv_s=0.7, hsv_v=0.4, degrees=0.0, translate=0.1, scale=0.5, shear=0.0, perspective=0.0, flipud=0.0, fliplr=0.5, bgr=0.0, mosaic=1.0, mixup=0.0, copy_paste=0.0, copy_paste_mode=flip, auto_augment=randaugment, erasing=0.4, crop_fraction=1.0, cfg=None, tracker=botsort.yaml, save_dir=runs\\detect\\train22\n",
      "Overriding model.yaml nc=80 with nc=1\n",
      "\n",
      "                   from  n    params  module                                       arguments                     \n",
      "Parsing layer: 0 | from: -1 | number: 1 | module: <class 'ultralytics.nn.modules.conv.Conv'> | args: [3, 16, 3, 2]\n",
      "  0                  -1  1       464  ultralytics.nn.modules.conv.Conv             [3, 16, 3, 2]                 \n",
      "Parsing layer: 1 | from: -1 | number: 1 | module: <class 'ultralytics.nn.modules.conv.Conv'> | args: [16, 32, 3, 2]\n",
      "  1                  -1  1      4672  ultralytics.nn.modules.conv.Conv             [16, 32, 3, 2]                \n",
      "Parsing layer: 2 | from: -1 | number: 1 | module: <class 'ultralytics.nn.modules.block.C2f'> | args: [32, 32, 1, True]\n",
      "  2                  -1  1      7360  ultralytics.nn.modules.block.C2f             [32, 32, 1, True]             \n",
      "Parsing layer: 3 | from: -1 | number: 1 | module: <class 'ultralytics.nn.modules.conv.Conv'> | args: [32, 64, 3, 2]\n",
      "  3                  -1  1     18560  ultralytics.nn.modules.conv.Conv             [32, 64, 3, 2]                \n",
      "Parsing layer: 4 | from: -1 | number: 1 | module: <class 'ultralytics.nn.modules.block.C2f'> | args: [64, 64, 2, True]\n",
      "  4                  -1  2     49664  ultralytics.nn.modules.block.C2f             [64, 64, 2, True]             \n",
      "Parsing layer: 5 | from: -1 | number: 1 | module: <class 'ultralytics.nn.modules.conv.Conv'> | args: [64, 128, 3, 2]\n",
      "  5                  -1  1     73984  ultralytics.nn.modules.conv.Conv             [64, 128, 3, 2]               \n",
      "Parsing layer: 6 | from: -1 | number: 1 | module: <class 'ultralytics.nn.modules.block.C2f'> | args: [128, 128, 2, True]\n",
      "  6                  -1  2    197632  ultralytics.nn.modules.block.C2f             [128, 128, 2, True]           \n",
      "Parsing layer: 7 | from: -1 | number: 1 | module: <class 'ultralytics.nn.modules.conv.Conv'> | args: [128, 256, 3, 2]\n",
      "  7                  -1  1    295424  ultralytics.nn.modules.conv.Conv             [128, 256, 3, 2]              \n",
      "Parsing layer: 8 | from: -1 | number: 1 | module: <class 'ultralytics.nn.modules.block.C2f'> | args: [256, 256, 1, True]\n",
      "  8                  -1  1    460288  ultralytics.nn.modules.block.C2f             [256, 256, 1, True]           \n",
      "Parsing layer: 9 | from: -1 | number: 1 | module: <class 'ultralytics.nn.modules.block.SPPF'> | args: [256, 256, 5]\n",
      "  9                  -1  1    164608  ultralytics.nn.modules.block.SPPF            [256, 256, 5]                 \n",
      "Parsing layer: 10 | from: -1 | number: 1 | module: <class 'torch.nn.modules.upsampling.Upsample'> | args: [None, 2, 'nearest']\n",
      " 10                  -1  1         0  torch.nn.modules.upsampling.Upsample         [None, 2, 'nearest']          \n",
      "Parsing layer: 11 | from: [-1, 6] | number: 1 | module: <class 'ultralytics.nn.modules.conv.Concat'> | args: [1]\n",
      " 11             [-1, 6]  1         0  ultralytics.nn.modules.conv.Concat           [1]                           \n",
      "Parsing layer: 12 | from: -1 | number: 1 | module: <class 'ultralytics.nn.modules.block.C2f'> | args: [384, 128, 1]\n",
      " 12                  -1  1    148224  ultralytics.nn.modules.block.C2f             [384, 128, 1]                 \n",
      "Parsing layer: 13 | from: -1 | number: 1 | module: <class 'torch.nn.modules.upsampling.Upsample'> | args: [None, 2, 'nearest']\n",
      " 13                  -1  1         0  torch.nn.modules.upsampling.Upsample         [None, 2, 'nearest']          \n",
      "Parsing layer: 14 | from: [-1, 4] | number: 1 | module: <class 'ultralytics.nn.modules.conv.Concat'> | args: [1]\n",
      " 14             [-1, 4]  1         0  ultralytics.nn.modules.conv.Concat           [1]                           \n",
      "Parsing layer: 15 | from: -1 | number: 1 | module: <class 'ultralytics.nn.modules.block.C2f'> | args: [192, 64, 1]\n",
      " 15                  -1  1     37248  ultralytics.nn.modules.block.C2f             [192, 64, 1]                  \n",
      "Parsing layer: 16 | from: -1 | number: 1 | module: <class 'ultralytics.nn.modules.conv.Conv'> | args: [64, 64, 3, 2]\n",
      " 16                  -1  1     36992  ultralytics.nn.modules.conv.Conv             [64, 64, 3, 2]                \n",
      "Parsing layer: 17 | from: [-1, 12] | number: 1 | module: <class 'ultralytics.nn.modules.conv.Concat'> | args: [1]\n",
      " 17            [-1, 12]  1         0  ultralytics.nn.modules.conv.Concat           [1]                           \n",
      "Parsing layer: 18 | from: -1 | number: 1 | module: <class 'ultralytics.nn.modules.block.C2f'> | args: [192, 128, 1]\n",
      " 18                  -1  1    123648  ultralytics.nn.modules.block.C2f             [192, 128, 1]                 \n",
      "Parsing layer: 19 | from: -1 | number: 1 | module: <class 'ultralytics.nn.modules.conv.Conv'> | args: [128, 128, 3, 2]\n",
      " 19                  -1  1    147712  ultralytics.nn.modules.conv.Conv             [128, 128, 3, 2]              \n",
      "Parsing layer: 20 | from: [-1, 9] | number: 1 | module: <class 'ultralytics.nn.modules.conv.Concat'> | args: [1]\n",
      " 20             [-1, 9]  1         0  ultralytics.nn.modules.conv.Concat           [1]                           \n",
      "Parsing layer: 21 | from: -1 | number: 1 | module: <class 'ultralytics.nn.modules.block.C2f'> | args: [384, 256, 1]\n",
      " 21                  -1  1    493056  ultralytics.nn.modules.block.C2f             [384, 256, 1]                 \n",
      "Parsing layer: 22 | from: [15, 18, 21] | number: 1 | module: <class 'ultralytics.nn.modules.head.Detect'> | args: [1, [64, 128, 256]]\n",
      " 22        [15, 18, 21]  1    751507  ultralytics.nn.modules.head.Detect           [1, [64, 128, 256]]           \n",
      "Model summary: 129 layers, 3,011,043 parameters, 3,011,027 gradients, 8.2 GFLOPs\n",
      "\n",
      "Transferred 319/355 items from pretrained weights\n",
      "\u001b[34m\u001b[1mTensorBoard: \u001b[0mStart with 'tensorboard --logdir runs\\detect\\train22', view at http://localhost:6006/\n",
      "Freezing layer 'model.22.dfl.conv.weight'\n",
      "\u001b[34m\u001b[1mAMP: \u001b[0mrunning Automatic Mixed Precision (AMP) checks...\n",
      "\u001b[34m\u001b[1mAMP: \u001b[0mchecks passed \n"
     ]
    },
    {
     "name": "stderr",
     "output_type": "stream",
     "text": [
      "\u001b[34m\u001b[1mtrain: \u001b[0mScanning C:\\Users\\dnslab_fox\\Ugur\\PearBagsYolo\\train\\labels.cache... 3907 images, 0 backgrounds, 0 corrupt: 100%|██████████| 3907/3907 [00:00<?, ?it/s]"
     ]
    },
    {
     "name": "stdout",
     "output_type": "stream",
     "text": [
      "\u001b[34m\u001b[1malbumentations: \u001b[0mBlur(p=0.01, blur_limit=(3, 7)), MedianBlur(p=0.01, blur_limit=(3, 7)), ToGray(p=0.01, num_output_channels=3, method='weighted_average'), CLAHE(p=0.01, clip_limit=(1.0, 4.0), tile_grid_size=(8, 8))\n"
     ]
    },
    {
     "name": "stderr",
     "output_type": "stream",
     "text": [
      "\n",
      "\u001b[34m\u001b[1mval: \u001b[0mScanning C:\\Users\\dnslab_fox\\Ugur\\PearBagsYolo\\valid\\labels.cache... 500 images, 0 backgrounds, 0 corrupt: 100%|██████████| 500/500 [00:00<?, ?it/s]\n"
     ]
    },
    {
     "name": "stdout",
     "output_type": "stream",
     "text": [
      "Plotting labels to runs\\detect\\train22\\labels.jpg... \n",
      "\u001b[34m\u001b[1moptimizer:\u001b[0m 'optimizer=auto' found, ignoring 'lr0=0.01' and 'momentum=0.937' and determining best 'optimizer', 'lr0' and 'momentum' automatically... \n",
      "\u001b[34m\u001b[1moptimizer:\u001b[0m AdamW(lr=0.002, momentum=0.9) with parameter groups 57 weight(decay=0.0), 64 weight(decay=0.0005), 63 bias(decay=0.0)\n",
      "\u001b[34m\u001b[1mTensorBoard: \u001b[0mmodel graph visualization added \n",
      "Image sizes 640 train, 640 val\n",
      "Using 8 dataloader workers\n",
      "Logging results to \u001b[1mruns\\detect\\train22\u001b[0m\n",
      "Starting training for 50 epochs...\n",
      "\n",
      "      Epoch    GPU_mem   box_loss   cls_loss   dfl_loss  Instances       Size\n"
     ]
    },
    {
     "name": "stderr",
     "output_type": "stream",
     "text": [
      "       1/50      2.15G      1.728      1.783      1.088         19        640: 100%|██████████| 245/245 [00:27<00:00,  9.04it/s]\n",
      "                 Class     Images  Instances      Box(P          R      mAP50  mAP50-95): 100%|██████████| 16/16 [00:02<00:00,  6.51it/s]\n"
     ]
    },
    {
     "name": "stdout",
     "output_type": "stream",
     "text": [
      "                   all        500       2176      0.897      0.804      0.887      0.512\n",
      "\n",
      "      Epoch    GPU_mem   box_loss   cls_loss   dfl_loss  Instances       Size\n"
     ]
    },
    {
     "name": "stderr",
     "output_type": "stream",
     "text": [
      "       2/50      2.46G      1.546      1.002      1.018         14        640: 100%|██████████| 245/245 [00:25<00:00,  9.75it/s]\n",
      "                 Class     Images  Instances      Box(P          R      mAP50  mAP50-95): 100%|██████████| 16/16 [00:02<00:00,  6.78it/s]"
     ]
    },
    {
     "name": "stdout",
     "output_type": "stream",
     "text": [
      "                   all        500       2176      0.865      0.823      0.911      0.542\n"
     ]
    },
    {
     "name": "stderr",
     "output_type": "stream",
     "text": [
      "\n"
     ]
    },
    {
     "name": "stdout",
     "output_type": "stream",
     "text": [
      "\n",
      "      Epoch    GPU_mem   box_loss   cls_loss   dfl_loss  Instances       Size\n"
     ]
    },
    {
     "name": "stderr",
     "output_type": "stream",
     "text": [
      "       3/50      2.46G      1.495     0.8783      1.002          9        640: 100%|██████████| 245/245 [00:24<00:00,  9.95it/s]\n",
      "                 Class     Images  Instances      Box(P          R      mAP50  mAP50-95): 100%|██████████| 16/16 [00:02<00:00,  6.85it/s]"
     ]
    },
    {
     "name": "stdout",
     "output_type": "stream",
     "text": [
      "                   all        500       2176      0.838      0.861      0.905      0.541\n"
     ]
    },
    {
     "name": "stderr",
     "output_type": "stream",
     "text": [
      "\n"
     ]
    },
    {
     "name": "stdout",
     "output_type": "stream",
     "text": [
      "\n",
      "      Epoch    GPU_mem   box_loss   cls_loss   dfl_loss  Instances       Size\n"
     ]
    },
    {
     "name": "stderr",
     "output_type": "stream",
     "text": [
      "       4/50      2.46G      1.453     0.8156     0.9875         25        640: 100%|██████████| 245/245 [00:24<00:00, 10.02it/s]\n",
      "                 Class     Images  Instances      Box(P          R      mAP50  mAP50-95): 100%|██████████| 16/16 [00:02<00:00,  6.75it/s]"
     ]
    },
    {
     "name": "stdout",
     "output_type": "stream",
     "text": [
      "                   all        500       2176      0.898      0.867      0.939      0.556\n"
     ]
    },
    {
     "name": "stderr",
     "output_type": "stream",
     "text": [
      "\n"
     ]
    },
    {
     "name": "stdout",
     "output_type": "stream",
     "text": [
      "\n",
      "      Epoch    GPU_mem   box_loss   cls_loss   dfl_loss  Instances       Size\n"
     ]
    },
    {
     "name": "stderr",
     "output_type": "stream",
     "text": [
      "       5/50      2.46G      1.416     0.7722     0.9796         16        640: 100%|██████████| 245/245 [00:24<00:00, 10.03it/s]\n",
      "                 Class     Images  Instances      Box(P          R      mAP50  mAP50-95): 100%|██████████| 16/16 [00:02<00:00,  6.80it/s]"
     ]
    },
    {
     "name": "stdout",
     "output_type": "stream",
     "text": [
      "                   all        500       2176      0.896      0.898      0.958      0.595\n"
     ]
    },
    {
     "name": "stderr",
     "output_type": "stream",
     "text": [
      "\n"
     ]
    },
    {
     "name": "stdout",
     "output_type": "stream",
     "text": [
      "\n",
      "      Epoch    GPU_mem   box_loss   cls_loss   dfl_loss  Instances       Size\n"
     ]
    },
    {
     "name": "stderr",
     "output_type": "stream",
     "text": [
      "       6/50      2.46G      1.378     0.7366       0.97         22        640: 100%|██████████| 245/245 [00:24<00:00,  9.94it/s]\n",
      "                 Class     Images  Instances      Box(P          R      mAP50  mAP50-95): 100%|██████████| 16/16 [00:02<00:00,  6.84it/s]"
     ]
    },
    {
     "name": "stdout",
     "output_type": "stream",
     "text": [
      "                   all        500       2176      0.894      0.902      0.951      0.602\n"
     ]
    },
    {
     "name": "stderr",
     "output_type": "stream",
     "text": [
      "\n"
     ]
    },
    {
     "name": "stdout",
     "output_type": "stream",
     "text": [
      "\n",
      "      Epoch    GPU_mem   box_loss   cls_loss   dfl_loss  Instances       Size\n"
     ]
    },
    {
     "name": "stderr",
     "output_type": "stream",
     "text": [
      "       7/50      2.46G      1.357     0.7054     0.9637         15        640: 100%|██████████| 245/245 [00:24<00:00,  9.95it/s]\n",
      "                 Class     Images  Instances      Box(P          R      mAP50  mAP50-95): 100%|██████████| 16/16 [00:02<00:00,  6.80it/s]"
     ]
    },
    {
     "name": "stdout",
     "output_type": "stream",
     "text": [
      "                   all        500       2176      0.932      0.914      0.971      0.587\n"
     ]
    },
    {
     "name": "stderr",
     "output_type": "stream",
     "text": [
      "\n"
     ]
    },
    {
     "name": "stdout",
     "output_type": "stream",
     "text": [
      "\n",
      "      Epoch    GPU_mem   box_loss   cls_loss   dfl_loss  Instances       Size\n"
     ]
    },
    {
     "name": "stderr",
     "output_type": "stream",
     "text": [
      "       8/50      2.46G      1.325     0.6849     0.9505         10        640: 100%|██████████| 245/245 [00:24<00:00,  9.99it/s]\n",
      "                 Class     Images  Instances      Box(P          R      mAP50  mAP50-95): 100%|██████████| 16/16 [00:02<00:00,  6.83it/s]"
     ]
    },
    {
     "name": "stdout",
     "output_type": "stream",
     "text": [
      "                   all        500       2176      0.925      0.921      0.973      0.628\n"
     ]
    },
    {
     "name": "stderr",
     "output_type": "stream",
     "text": [
      "\n"
     ]
    },
    {
     "name": "stdout",
     "output_type": "stream",
     "text": [
      "\n",
      "      Epoch    GPU_mem   box_loss   cls_loss   dfl_loss  Instances       Size\n"
     ]
    },
    {
     "name": "stderr",
     "output_type": "stream",
     "text": [
      "       9/50      2.46G      1.318     0.6801     0.9516         15        640: 100%|██████████| 245/245 [00:24<00:00,  9.96it/s]\n",
      "                 Class     Images  Instances      Box(P          R      mAP50  mAP50-95): 100%|██████████| 16/16 [00:02<00:00,  6.82it/s]"
     ]
    },
    {
     "name": "stdout",
     "output_type": "stream",
     "text": [
      "                   all        500       2176      0.936      0.927      0.977      0.623\n"
     ]
    },
    {
     "name": "stderr",
     "output_type": "stream",
     "text": [
      "\n"
     ]
    },
    {
     "name": "stdout",
     "output_type": "stream",
     "text": [
      "\n",
      "      Epoch    GPU_mem   box_loss   cls_loss   dfl_loss  Instances       Size\n"
     ]
    },
    {
     "name": "stderr",
     "output_type": "stream",
     "text": [
      "      10/50      2.46G      1.297     0.6643     0.9418         12        640: 100%|██████████| 245/245 [00:24<00:00,  9.99it/s]\n",
      "                 Class     Images  Instances      Box(P          R      mAP50  mAP50-95): 100%|██████████| 16/16 [00:02<00:00,  6.82it/s]"
     ]
    },
    {
     "name": "stdout",
     "output_type": "stream",
     "text": [
      "                   all        500       2176      0.911      0.939       0.97       0.62\n"
     ]
    },
    {
     "name": "stderr",
     "output_type": "stream",
     "text": [
      "\n"
     ]
    },
    {
     "name": "stdout",
     "output_type": "stream",
     "text": [
      "\n",
      "      Epoch    GPU_mem   box_loss   cls_loss   dfl_loss  Instances       Size\n"
     ]
    },
    {
     "name": "stderr",
     "output_type": "stream",
     "text": [
      "      11/50      2.46G      1.268     0.6375     0.9384         11        640: 100%|██████████| 245/245 [00:24<00:00, 10.02it/s]\n",
      "                 Class     Images  Instances      Box(P          R      mAP50  mAP50-95): 100%|██████████| 16/16 [00:02<00:00,  6.88it/s]"
     ]
    },
    {
     "name": "stdout",
     "output_type": "stream",
     "text": [
      "                   all        500       2176      0.918      0.928      0.973      0.634\n"
     ]
    },
    {
     "name": "stderr",
     "output_type": "stream",
     "text": [
      "\n"
     ]
    },
    {
     "name": "stdout",
     "output_type": "stream",
     "text": [
      "\n",
      "      Epoch    GPU_mem   box_loss   cls_loss   dfl_loss  Instances       Size\n"
     ]
    },
    {
     "name": "stderr",
     "output_type": "stream",
     "text": [
      "      12/50      2.46G      1.262     0.6384      0.936         18        640: 100%|██████████| 245/245 [00:24<00:00,  9.99it/s]\n",
      "                 Class     Images  Instances      Box(P          R      mAP50  mAP50-95): 100%|██████████| 16/16 [00:02<00:00,  6.82it/s]"
     ]
    },
    {
     "name": "stdout",
     "output_type": "stream",
     "text": [
      "                   all        500       2176      0.919      0.943      0.978      0.661\n"
     ]
    },
    {
     "name": "stderr",
     "output_type": "stream",
     "text": [
      "\n"
     ]
    },
    {
     "name": "stdout",
     "output_type": "stream",
     "text": [
      "\n",
      "      Epoch    GPU_mem   box_loss   cls_loss   dfl_loss  Instances       Size\n"
     ]
    },
    {
     "name": "stderr",
     "output_type": "stream",
     "text": [
      "      13/50      2.46G       1.25     0.6228     0.9312         13        640: 100%|██████████| 245/245 [00:24<00:00,  9.99it/s]\n",
      "                 Class     Images  Instances      Box(P          R      mAP50  mAP50-95): 100%|██████████| 16/16 [00:02<00:00,  6.88it/s]"
     ]
    },
    {
     "name": "stdout",
     "output_type": "stream",
     "text": [
      "                   all        500       2176      0.944      0.938      0.982      0.664\n"
     ]
    },
    {
     "name": "stderr",
     "output_type": "stream",
     "text": [
      "\n"
     ]
    },
    {
     "name": "stdout",
     "output_type": "stream",
     "text": [
      "\n",
      "      Epoch    GPU_mem   box_loss   cls_loss   dfl_loss  Instances       Size\n"
     ]
    },
    {
     "name": "stderr",
     "output_type": "stream",
     "text": [
      "      14/50      2.46G      1.235     0.6201     0.9306         11        640: 100%|██████████| 245/245 [00:24<00:00,  9.97it/s]\n",
      "                 Class     Images  Instances      Box(P          R      mAP50  mAP50-95): 100%|██████████| 16/16 [00:02<00:00,  6.78it/s]"
     ]
    },
    {
     "name": "stdout",
     "output_type": "stream",
     "text": [
      "                   all        500       2176      0.955      0.934      0.981      0.664\n"
     ]
    },
    {
     "name": "stderr",
     "output_type": "stream",
     "text": [
      "\n"
     ]
    },
    {
     "name": "stdout",
     "output_type": "stream",
     "text": [
      "\n",
      "      Epoch    GPU_mem   box_loss   cls_loss   dfl_loss  Instances       Size\n"
     ]
    },
    {
     "name": "stderr",
     "output_type": "stream",
     "text": [
      "      15/50      2.46G      1.229     0.6105      0.928         15        640: 100%|██████████| 245/245 [00:24<00:00, 10.04it/s]\n",
      "                 Class     Images  Instances      Box(P          R      mAP50  mAP50-95): 100%|██████████| 16/16 [00:02<00:00,  6.93it/s]"
     ]
    },
    {
     "name": "stdout",
     "output_type": "stream",
     "text": [
      "                   all        500       2176      0.946      0.959      0.984      0.673\n"
     ]
    },
    {
     "name": "stderr",
     "output_type": "stream",
     "text": [
      "\n"
     ]
    },
    {
     "name": "stdout",
     "output_type": "stream",
     "text": [
      "\n",
      "      Epoch    GPU_mem   box_loss   cls_loss   dfl_loss  Instances       Size\n"
     ]
    },
    {
     "name": "stderr",
     "output_type": "stream",
     "text": [
      "      16/50      2.46G      1.205     0.5936     0.9212         14        640: 100%|██████████| 245/245 [00:24<00:00, 10.01it/s]\n",
      "                 Class     Images  Instances      Box(P          R      mAP50  mAP50-95): 100%|██████████| 16/16 [00:02<00:00,  6.86it/s]"
     ]
    },
    {
     "name": "stdout",
     "output_type": "stream",
     "text": [
      "                   all        500       2176      0.928       0.96       0.98      0.663\n"
     ]
    },
    {
     "name": "stderr",
     "output_type": "stream",
     "text": [
      "\n"
     ]
    },
    {
     "name": "stdout",
     "output_type": "stream",
     "text": [
      "\n",
      "      Epoch    GPU_mem   box_loss   cls_loss   dfl_loss  Instances       Size\n"
     ]
    },
    {
     "name": "stderr",
     "output_type": "stream",
     "text": [
      "      17/50      2.46G      1.201     0.5931     0.9229         10        640: 100%|██████████| 245/245 [00:24<00:00, 10.03it/s]\n",
      "                 Class     Images  Instances      Box(P          R      mAP50  mAP50-95): 100%|██████████| 16/16 [00:02<00:00,  6.83it/s]"
     ]
    },
    {
     "name": "stdout",
     "output_type": "stream",
     "text": [
      "                   all        500       2176      0.943      0.951      0.984       0.68\n"
     ]
    },
    {
     "name": "stderr",
     "output_type": "stream",
     "text": [
      "\n"
     ]
    },
    {
     "name": "stdout",
     "output_type": "stream",
     "text": [
      "\n",
      "      Epoch    GPU_mem   box_loss   cls_loss   dfl_loss  Instances       Size\n"
     ]
    },
    {
     "name": "stderr",
     "output_type": "stream",
     "text": [
      "      18/50      2.46G      1.189     0.5803     0.9189         25        640: 100%|██████████| 245/245 [00:24<00:00,  9.93it/s]\n",
      "                 Class     Images  Instances      Box(P          R      mAP50  mAP50-95): 100%|██████████| 16/16 [00:02<00:00,  6.88it/s]"
     ]
    },
    {
     "name": "stdout",
     "output_type": "stream",
     "text": [
      "                   all        500       2176      0.963      0.956      0.987      0.689\n"
     ]
    },
    {
     "name": "stderr",
     "output_type": "stream",
     "text": [
      "\n"
     ]
    },
    {
     "name": "stdout",
     "output_type": "stream",
     "text": [
      "\n",
      "      Epoch    GPU_mem   box_loss   cls_loss   dfl_loss  Instances       Size\n"
     ]
    },
    {
     "name": "stderr",
     "output_type": "stream",
     "text": [
      "      19/50      2.46G      1.174     0.5721     0.9148         13        640: 100%|██████████| 245/245 [00:24<00:00,  9.96it/s]\n",
      "                 Class     Images  Instances      Box(P          R      mAP50  mAP50-95): 100%|██████████| 16/16 [00:02<00:00,  6.76it/s]"
     ]
    },
    {
     "name": "stdout",
     "output_type": "stream",
     "text": [
      "                   all        500       2176      0.949      0.954      0.986      0.688\n"
     ]
    },
    {
     "name": "stderr",
     "output_type": "stream",
     "text": [
      "\n"
     ]
    },
    {
     "name": "stdout",
     "output_type": "stream",
     "text": [
      "\n",
      "      Epoch    GPU_mem   box_loss   cls_loss   dfl_loss  Instances       Size\n"
     ]
    },
    {
     "name": "stderr",
     "output_type": "stream",
     "text": [
      "      20/50      2.46G      1.172     0.5736     0.9174         11        640: 100%|██████████| 245/245 [00:24<00:00, 10.00it/s]\n",
      "                 Class     Images  Instances      Box(P          R      mAP50  mAP50-95): 100%|██████████| 16/16 [00:02<00:00,  6.87it/s]"
     ]
    },
    {
     "name": "stdout",
     "output_type": "stream",
     "text": [
      "                   all        500       2176      0.944      0.957      0.982      0.685\n"
     ]
    },
    {
     "name": "stderr",
     "output_type": "stream",
     "text": [
      "\n"
     ]
    },
    {
     "name": "stdout",
     "output_type": "stream",
     "text": [
      "\n",
      "      Epoch    GPU_mem   box_loss   cls_loss   dfl_loss  Instances       Size\n"
     ]
    },
    {
     "name": "stderr",
     "output_type": "stream",
     "text": [
      "      21/50      2.46G      1.161     0.5635     0.9085         19        640: 100%|██████████| 245/245 [00:24<00:00, 10.02it/s]\n",
      "                 Class     Images  Instances      Box(P          R      mAP50  mAP50-95): 100%|██████████| 16/16 [00:02<00:00,  6.87it/s]"
     ]
    },
    {
     "name": "stdout",
     "output_type": "stream",
     "text": [
      "                   all        500       2176      0.942      0.966      0.983      0.683\n"
     ]
    },
    {
     "name": "stderr",
     "output_type": "stream",
     "text": [
      "\n"
     ]
    },
    {
     "name": "stdout",
     "output_type": "stream",
     "text": [
      "\n",
      "      Epoch    GPU_mem   box_loss   cls_loss   dfl_loss  Instances       Size\n"
     ]
    },
    {
     "name": "stderr",
     "output_type": "stream",
     "text": [
      "      22/50      2.46G      1.149     0.5539     0.9063          8        640: 100%|██████████| 245/245 [00:24<00:00,  9.97it/s]\n",
      "                 Class     Images  Instances      Box(P          R      mAP50  mAP50-95): 100%|██████████| 16/16 [00:02<00:00,  6.87it/s]"
     ]
    },
    {
     "name": "stdout",
     "output_type": "stream",
     "text": [
      "                   all        500       2176       0.95       0.96      0.985      0.697\n"
     ]
    },
    {
     "name": "stderr",
     "output_type": "stream",
     "text": [
      "\n"
     ]
    },
    {
     "name": "stdout",
     "output_type": "stream",
     "text": [
      "\n",
      "      Epoch    GPU_mem   box_loss   cls_loss   dfl_loss  Instances       Size\n"
     ]
    },
    {
     "name": "stderr",
     "output_type": "stream",
     "text": [
      "      23/50      2.46G      1.136     0.5475     0.9034         16        640: 100%|██████████| 245/245 [00:24<00:00,  9.99it/s]\n",
      "                 Class     Images  Instances      Box(P          R      mAP50  mAP50-95): 100%|██████████| 16/16 [00:02<00:00,  6.88it/s]"
     ]
    },
    {
     "name": "stdout",
     "output_type": "stream",
     "text": [
      "                   all        500       2176      0.952      0.959      0.985      0.702\n"
     ]
    },
    {
     "name": "stderr",
     "output_type": "stream",
     "text": [
      "\n"
     ]
    },
    {
     "name": "stdout",
     "output_type": "stream",
     "text": [
      "\n",
      "      Epoch    GPU_mem   box_loss   cls_loss   dfl_loss  Instances       Size\n"
     ]
    },
    {
     "name": "stderr",
     "output_type": "stream",
     "text": [
      "      24/50      2.46G      1.131     0.5408     0.9007         12        640: 100%|██████████| 245/245 [00:24<00:00, 10.02it/s]\n",
      "                 Class     Images  Instances      Box(P          R      mAP50  mAP50-95): 100%|██████████| 16/16 [00:02<00:00,  6.83it/s]"
     ]
    },
    {
     "name": "stdout",
     "output_type": "stream",
     "text": [
      "                   all        500       2176      0.948      0.975      0.988      0.696\n"
     ]
    },
    {
     "name": "stderr",
     "output_type": "stream",
     "text": [
      "\n"
     ]
    },
    {
     "name": "stdout",
     "output_type": "stream",
     "text": [
      "\n",
      "      Epoch    GPU_mem   box_loss   cls_loss   dfl_loss  Instances       Size\n"
     ]
    },
    {
     "name": "stderr",
     "output_type": "stream",
     "text": [
      "      25/50      2.46G      1.125     0.5324     0.9034         17        640: 100%|██████████| 245/245 [00:24<00:00, 10.01it/s]\n",
      "                 Class     Images  Instances      Box(P          R      mAP50  mAP50-95): 100%|██████████| 16/16 [00:02<00:00,  6.86it/s]"
     ]
    },
    {
     "name": "stdout",
     "output_type": "stream",
     "text": [
      "                   all        500       2176      0.959      0.963      0.989      0.697\n"
     ]
    },
    {
     "name": "stderr",
     "output_type": "stream",
     "text": [
      "\n"
     ]
    },
    {
     "name": "stdout",
     "output_type": "stream",
     "text": [
      "\n",
      "      Epoch    GPU_mem   box_loss   cls_loss   dfl_loss  Instances       Size\n"
     ]
    },
    {
     "name": "stderr",
     "output_type": "stream",
     "text": [
      "      26/50      2.46G      1.113     0.5268     0.8991         13        640: 100%|██████████| 245/245 [00:24<00:00, 10.01it/s]\n",
      "                 Class     Images  Instances      Box(P          R      mAP50  mAP50-95): 100%|██████████| 16/16 [00:02<00:00,  6.83it/s]"
     ]
    },
    {
     "name": "stdout",
     "output_type": "stream",
     "text": [
      "                   all        500       2176      0.965      0.946      0.981      0.695\n"
     ]
    },
    {
     "name": "stderr",
     "output_type": "stream",
     "text": [
      "\n"
     ]
    },
    {
     "name": "stdout",
     "output_type": "stream",
     "text": [
      "\n",
      "      Epoch    GPU_mem   box_loss   cls_loss   dfl_loss  Instances       Size\n"
     ]
    },
    {
     "name": "stderr",
     "output_type": "stream",
     "text": [
      "      27/50      2.46G      1.116     0.5258     0.8974         16        640: 100%|██████████| 245/245 [00:24<00:00, 10.02it/s]\n",
      "                 Class     Images  Instances      Box(P          R      mAP50  mAP50-95): 100%|██████████| 16/16 [00:02<00:00,  6.78it/s]"
     ]
    },
    {
     "name": "stdout",
     "output_type": "stream",
     "text": [
      "                   all        500       2176      0.954       0.97      0.986      0.707\n"
     ]
    },
    {
     "name": "stderr",
     "output_type": "stream",
     "text": [
      "\n"
     ]
    },
    {
     "name": "stdout",
     "output_type": "stream",
     "text": [
      "\n",
      "      Epoch    GPU_mem   box_loss   cls_loss   dfl_loss  Instances       Size\n"
     ]
    },
    {
     "name": "stderr",
     "output_type": "stream",
     "text": [
      "      28/50      2.46G      1.112      0.527      0.899         27        640: 100%|██████████| 245/245 [00:24<00:00,  9.98it/s]\n",
      "                 Class     Images  Instances      Box(P          R      mAP50  mAP50-95): 100%|██████████| 16/16 [00:02<00:00,  6.98it/s]"
     ]
    },
    {
     "name": "stdout",
     "output_type": "stream",
     "text": [
      "                   all        500       2176      0.949      0.966      0.986      0.708\n"
     ]
    },
    {
     "name": "stderr",
     "output_type": "stream",
     "text": [
      "\n"
     ]
    },
    {
     "name": "stdout",
     "output_type": "stream",
     "text": [
      "\n",
      "      Epoch    GPU_mem   box_loss   cls_loss   dfl_loss  Instances       Size\n"
     ]
    },
    {
     "name": "stderr",
     "output_type": "stream",
     "text": [
      "      29/50      2.46G      1.101     0.5169     0.8973         11        640: 100%|██████████| 245/245 [00:24<00:00,  9.97it/s]\n",
      "                 Class     Images  Instances      Box(P          R      mAP50  mAP50-95): 100%|██████████| 16/16 [00:02<00:00,  6.94it/s]"
     ]
    },
    {
     "name": "stdout",
     "output_type": "stream",
     "text": [
      "                   all        500       2176      0.961      0.976      0.987      0.715\n"
     ]
    },
    {
     "name": "stderr",
     "output_type": "stream",
     "text": [
      "\n"
     ]
    },
    {
     "name": "stdout",
     "output_type": "stream",
     "text": [
      "\n",
      "      Epoch    GPU_mem   box_loss   cls_loss   dfl_loss  Instances       Size\n"
     ]
    },
    {
     "name": "stderr",
     "output_type": "stream",
     "text": [
      "      30/50      2.46G      1.084      0.508     0.8927         16        640: 100%|██████████| 245/245 [00:24<00:00,  9.84it/s]\n",
      "                 Class     Images  Instances      Box(P          R      mAP50  mAP50-95): 100%|██████████| 16/16 [00:02<00:00,  6.83it/s]"
     ]
    },
    {
     "name": "stdout",
     "output_type": "stream",
     "text": [
      "                   all        500       2176      0.966      0.966       0.99      0.714\n"
     ]
    },
    {
     "name": "stderr",
     "output_type": "stream",
     "text": [
      "\n"
     ]
    },
    {
     "name": "stdout",
     "output_type": "stream",
     "text": [
      "\n",
      "      Epoch    GPU_mem   box_loss   cls_loss   dfl_loss  Instances       Size\n"
     ]
    },
    {
     "name": "stderr",
     "output_type": "stream",
     "text": [
      "      31/50      2.46G       1.09     0.5072     0.8935         11        640: 100%|██████████| 245/245 [00:24<00:00,  9.95it/s]\n",
      "                 Class     Images  Instances      Box(P          R      mAP50  mAP50-95): 100%|██████████| 16/16 [00:02<00:00,  6.98it/s]"
     ]
    },
    {
     "name": "stdout",
     "output_type": "stream",
     "text": [
      "                   all        500       2176      0.959      0.969      0.988       0.71\n"
     ]
    },
    {
     "name": "stderr",
     "output_type": "stream",
     "text": [
      "\n"
     ]
    },
    {
     "name": "stdout",
     "output_type": "stream",
     "text": [
      "\n",
      "      Epoch    GPU_mem   box_loss   cls_loss   dfl_loss  Instances       Size\n"
     ]
    },
    {
     "name": "stderr",
     "output_type": "stream",
     "text": [
      "      32/50      2.46G      1.077     0.5073     0.8913         13        640: 100%|██████████| 245/245 [00:24<00:00,  9.98it/s]\n",
      "                 Class     Images  Instances      Box(P          R      mAP50  mAP50-95): 100%|██████████| 16/16 [00:02<00:00,  6.99it/s]"
     ]
    },
    {
     "name": "stdout",
     "output_type": "stream",
     "text": [
      "                   all        500       2176      0.959      0.968      0.988      0.723\n"
     ]
    },
    {
     "name": "stderr",
     "output_type": "stream",
     "text": [
      "\n"
     ]
    },
    {
     "name": "stdout",
     "output_type": "stream",
     "text": [
      "\n",
      "      Epoch    GPU_mem   box_loss   cls_loss   dfl_loss  Instances       Size\n"
     ]
    },
    {
     "name": "stderr",
     "output_type": "stream",
     "text": [
      "      33/50      2.46G      1.064     0.4955     0.8882         22        640: 100%|██████████| 245/245 [00:24<00:00, 10.00it/s]\n",
      "                 Class     Images  Instances      Box(P          R      mAP50  mAP50-95): 100%|██████████| 16/16 [00:02<00:00,  6.91it/s]"
     ]
    },
    {
     "name": "stdout",
     "output_type": "stream",
     "text": [
      "                   all        500       2176      0.961      0.979      0.989      0.725\n"
     ]
    },
    {
     "name": "stderr",
     "output_type": "stream",
     "text": [
      "\n"
     ]
    },
    {
     "name": "stdout",
     "output_type": "stream",
     "text": [
      "\n",
      "      Epoch    GPU_mem   box_loss   cls_loss   dfl_loss  Instances       Size\n"
     ]
    },
    {
     "name": "stderr",
     "output_type": "stream",
     "text": [
      "      34/50      2.46G      1.063     0.4964     0.8899          9        640: 100%|██████████| 245/245 [00:24<00:00, 10.00it/s]\n",
      "                 Class     Images  Instances      Box(P          R      mAP50  mAP50-95): 100%|██████████| 16/16 [00:02<00:00,  6.93it/s]"
     ]
    },
    {
     "name": "stdout",
     "output_type": "stream",
     "text": [
      "                   all        500       2176      0.963      0.977      0.991      0.725\n"
     ]
    },
    {
     "name": "stderr",
     "output_type": "stream",
     "text": [
      "\n"
     ]
    },
    {
     "name": "stdout",
     "output_type": "stream",
     "text": [
      "\n",
      "      Epoch    GPU_mem   box_loss   cls_loss   dfl_loss  Instances       Size\n"
     ]
    },
    {
     "name": "stderr",
     "output_type": "stream",
     "text": [
      "      35/50      2.46G      1.058     0.4913     0.8871          7        640: 100%|██████████| 245/245 [00:24<00:00, 10.00it/s]\n",
      "                 Class     Images  Instances      Box(P          R      mAP50  mAP50-95): 100%|██████████| 16/16 [00:02<00:00,  6.96it/s]"
     ]
    },
    {
     "name": "stdout",
     "output_type": "stream",
     "text": [
      "                   all        500       2176      0.962      0.975      0.988      0.727\n"
     ]
    },
    {
     "name": "stderr",
     "output_type": "stream",
     "text": [
      "\n"
     ]
    },
    {
     "name": "stdout",
     "output_type": "stream",
     "text": [
      "\n",
      "      Epoch    GPU_mem   box_loss   cls_loss   dfl_loss  Instances       Size\n"
     ]
    },
    {
     "name": "stderr",
     "output_type": "stream",
     "text": [
      "      36/50      2.46G      1.053      0.488     0.8855         18        640: 100%|██████████| 245/245 [00:24<00:00,  9.98it/s]\n",
      "                 Class     Images  Instances      Box(P          R      mAP50  mAP50-95): 100%|██████████| 16/16 [00:02<00:00,  6.97it/s]"
     ]
    },
    {
     "name": "stdout",
     "output_type": "stream",
     "text": [
      "                   all        500       2176       0.96      0.978       0.99      0.729\n"
     ]
    },
    {
     "name": "stderr",
     "output_type": "stream",
     "text": [
      "\n"
     ]
    },
    {
     "name": "stdout",
     "output_type": "stream",
     "text": [
      "\n",
      "      Epoch    GPU_mem   box_loss   cls_loss   dfl_loss  Instances       Size\n"
     ]
    },
    {
     "name": "stderr",
     "output_type": "stream",
     "text": [
      "      37/50      2.46G      1.044     0.4826      0.884         29        640: 100%|██████████| 245/245 [00:24<00:00,  9.97it/s]\n",
      "                 Class     Images  Instances      Box(P          R      mAP50  mAP50-95): 100%|██████████| 16/16 [00:02<00:00,  6.86it/s]"
     ]
    },
    {
     "name": "stdout",
     "output_type": "stream",
     "text": [
      "                   all        500       2176      0.958       0.98       0.99      0.729\n"
     ]
    },
    {
     "name": "stderr",
     "output_type": "stream",
     "text": [
      "\n"
     ]
    },
    {
     "name": "stdout",
     "output_type": "stream",
     "text": [
      "\n",
      "      Epoch    GPU_mem   box_loss   cls_loss   dfl_loss  Instances       Size\n"
     ]
    },
    {
     "name": "stderr",
     "output_type": "stream",
     "text": [
      "      38/50      2.46G      1.029      0.472      0.883         21        640: 100%|██████████| 245/245 [00:24<00:00,  9.98it/s]\n",
      "                 Class     Images  Instances      Box(P          R      mAP50  mAP50-95): 100%|██████████| 16/16 [00:02<00:00,  6.79it/s]"
     ]
    },
    {
     "name": "stdout",
     "output_type": "stream",
     "text": [
      "                   all        500       2176      0.955      0.978      0.989      0.731\n"
     ]
    },
    {
     "name": "stderr",
     "output_type": "stream",
     "text": [
      "\n"
     ]
    },
    {
     "name": "stdout",
     "output_type": "stream",
     "text": [
      "\n",
      "      Epoch    GPU_mem   box_loss   cls_loss   dfl_loss  Instances       Size\n"
     ]
    },
    {
     "name": "stderr",
     "output_type": "stream",
     "text": [
      "      39/50      2.46G      1.035     0.4731     0.8801         25        640: 100%|██████████| 245/245 [00:24<00:00,  9.94it/s]\n",
      "                 Class     Images  Instances      Box(P          R      mAP50  mAP50-95): 100%|██████████| 16/16 [00:02<00:00,  6.87it/s]"
     ]
    },
    {
     "name": "stdout",
     "output_type": "stream",
     "text": [
      "                   all        500       2176      0.964      0.975      0.991      0.739\n"
     ]
    },
    {
     "name": "stderr",
     "output_type": "stream",
     "text": [
      "\n"
     ]
    },
    {
     "name": "stdout",
     "output_type": "stream",
     "text": [
      "\n",
      "      Epoch    GPU_mem   box_loss   cls_loss   dfl_loss  Instances       Size\n"
     ]
    },
    {
     "name": "stderr",
     "output_type": "stream",
     "text": [
      "      40/50      2.46G      1.025     0.4675      0.881         16        640: 100%|██████████| 245/245 [00:24<00:00,  9.98it/s]\n",
      "                 Class     Images  Instances      Box(P          R      mAP50  mAP50-95): 100%|██████████| 16/16 [00:02<00:00,  6.74it/s]"
     ]
    },
    {
     "name": "stdout",
     "output_type": "stream",
     "text": [
      "                   all        500       2176      0.965      0.978       0.99      0.735\n"
     ]
    },
    {
     "name": "stderr",
     "output_type": "stream",
     "text": [
      "\n"
     ]
    },
    {
     "name": "stdout",
     "output_type": "stream",
     "text": [
      "Closing dataloader mosaic\n",
      "\u001b[34m\u001b[1malbumentations: \u001b[0mBlur(p=0.01, blur_limit=(3, 7)), MedianBlur(p=0.01, blur_limit=(3, 7)), ToGray(p=0.01, num_output_channels=3, method='weighted_average'), CLAHE(p=0.01, clip_limit=(1.0, 4.0), tile_grid_size=(8, 8))\n",
      "\n",
      "      Epoch    GPU_mem   box_loss   cls_loss   dfl_loss  Instances       Size\n"
     ]
    },
    {
     "name": "stderr",
     "output_type": "stream",
     "text": [
      "      41/50      2.46G      1.025     0.4498     0.8927         12        640: 100%|██████████| 245/245 [00:24<00:00,  9.96it/s]\n",
      "                 Class     Images  Instances      Box(P          R      mAP50  mAP50-95): 100%|██████████| 16/16 [00:02<00:00,  6.81it/s]"
     ]
    },
    {
     "name": "stdout",
     "output_type": "stream",
     "text": [
      "                   all        500       2176      0.962      0.976      0.989      0.724\n"
     ]
    },
    {
     "name": "stderr",
     "output_type": "stream",
     "text": [
      "\n"
     ]
    },
    {
     "name": "stdout",
     "output_type": "stream",
     "text": [
      "\n",
      "      Epoch    GPU_mem   box_loss   cls_loss   dfl_loss  Instances       Size\n"
     ]
    },
    {
     "name": "stderr",
     "output_type": "stream",
     "text": [
      "      42/50      2.46G      1.007     0.4432     0.8884         14        640: 100%|██████████| 245/245 [00:24<00:00, 10.14it/s]\n",
      "                 Class     Images  Instances      Box(P          R      mAP50  mAP50-95): 100%|██████████| 16/16 [00:02<00:00,  6.86it/s]"
     ]
    },
    {
     "name": "stdout",
     "output_type": "stream",
     "text": [
      "                   all        500       2176      0.966      0.981      0.989      0.736\n"
     ]
    },
    {
     "name": "stderr",
     "output_type": "stream",
     "text": [
      "\n"
     ]
    },
    {
     "name": "stdout",
     "output_type": "stream",
     "text": [
      "\n",
      "      Epoch    GPU_mem   box_loss   cls_loss   dfl_loss  Instances       Size\n"
     ]
    },
    {
     "name": "stderr",
     "output_type": "stream",
     "text": [
      "      43/50      2.46G     0.9933     0.4329     0.8849         13        640: 100%|██████████| 245/245 [00:24<00:00, 10.11it/s]\n",
      "                 Class     Images  Instances      Box(P          R      mAP50  mAP50-95): 100%|██████████| 16/16 [00:02<00:00,  6.89it/s]"
     ]
    },
    {
     "name": "stdout",
     "output_type": "stream",
     "text": [
      "                   all        500       2176      0.961       0.98      0.989      0.738\n"
     ]
    },
    {
     "name": "stderr",
     "output_type": "stream",
     "text": [
      "\n"
     ]
    },
    {
     "name": "stdout",
     "output_type": "stream",
     "text": [
      "\n",
      "      Epoch    GPU_mem   box_loss   cls_loss   dfl_loss  Instances       Size\n"
     ]
    },
    {
     "name": "stderr",
     "output_type": "stream",
     "text": [
      "      44/50      2.46G     0.9911     0.4299      0.884         17        640: 100%|██████████| 245/245 [00:24<00:00, 10.17it/s]\n",
      "                 Class     Images  Instances      Box(P          R      mAP50  mAP50-95): 100%|██████████| 16/16 [00:02<00:00,  6.92it/s]"
     ]
    },
    {
     "name": "stdout",
     "output_type": "stream",
     "text": [
      "                   all        500       2176      0.968      0.982       0.99      0.741\n"
     ]
    },
    {
     "name": "stderr",
     "output_type": "stream",
     "text": [
      "\n"
     ]
    },
    {
     "name": "stdout",
     "output_type": "stream",
     "text": [
      "\n",
      "      Epoch    GPU_mem   box_loss   cls_loss   dfl_loss  Instances       Size\n"
     ]
    },
    {
     "name": "stderr",
     "output_type": "stream",
     "text": [
      "      45/50      2.46G     0.9835     0.4256     0.8826         10        640: 100%|██████████| 245/245 [00:24<00:00, 10.20it/s]\n",
      "                 Class     Images  Instances      Box(P          R      mAP50  mAP50-95): 100%|██████████| 16/16 [00:02<00:00,  6.89it/s]"
     ]
    },
    {
     "name": "stdout",
     "output_type": "stream",
     "text": [
      "                   all        500       2176      0.963       0.98      0.989      0.739\n"
     ]
    },
    {
     "name": "stderr",
     "output_type": "stream",
     "text": [
      "\n"
     ]
    },
    {
     "name": "stdout",
     "output_type": "stream",
     "text": [
      "\n",
      "      Epoch    GPU_mem   box_loss   cls_loss   dfl_loss  Instances       Size\n"
     ]
    },
    {
     "name": "stderr",
     "output_type": "stream",
     "text": [
      "      46/50      2.46G     0.9731     0.4213     0.8792          6        640: 100%|██████████| 245/245 [00:24<00:00, 10.15it/s]\n",
      "                 Class     Images  Instances      Box(P          R      mAP50  mAP50-95): 100%|██████████| 16/16 [00:02<00:00,  6.86it/s]"
     ]
    },
    {
     "name": "stdout",
     "output_type": "stream",
     "text": [
      "                   all        500       2176      0.966      0.982       0.99      0.745\n"
     ]
    },
    {
     "name": "stderr",
     "output_type": "stream",
     "text": [
      "\n"
     ]
    },
    {
     "name": "stdout",
     "output_type": "stream",
     "text": [
      "\n",
      "      Epoch    GPU_mem   box_loss   cls_loss   dfl_loss  Instances       Size\n"
     ]
    },
    {
     "name": "stderr",
     "output_type": "stream",
     "text": [
      "      47/50      2.46G     0.9641     0.4153     0.8775         13        640: 100%|██████████| 245/245 [00:24<00:00, 10.16it/s]\n",
      "                 Class     Images  Instances      Box(P          R      mAP50  mAP50-95): 100%|██████████| 16/16 [00:02<00:00,  6.94it/s]"
     ]
    },
    {
     "name": "stdout",
     "output_type": "stream",
     "text": [
      "                   all        500       2176      0.964      0.985       0.99      0.743\n"
     ]
    },
    {
     "name": "stderr",
     "output_type": "stream",
     "text": [
      "\n"
     ]
    },
    {
     "name": "stdout",
     "output_type": "stream",
     "text": [
      "\n",
      "      Epoch    GPU_mem   box_loss   cls_loss   dfl_loss  Instances       Size\n"
     ]
    },
    {
     "name": "stderr",
     "output_type": "stream",
     "text": [
      "      48/50      2.46G     0.9551     0.4092     0.8749         12        640: 100%|██████████| 245/245 [00:23<00:00, 10.23it/s]\n",
      "                 Class     Images  Instances      Box(P          R      mAP50  mAP50-95): 100%|██████████| 16/16 [00:02<00:00,  6.83it/s]"
     ]
    },
    {
     "name": "stdout",
     "output_type": "stream",
     "text": [
      "                   all        500       2176      0.966      0.985      0.991      0.748\n"
     ]
    },
    {
     "name": "stderr",
     "output_type": "stream",
     "text": [
      "\n"
     ]
    },
    {
     "name": "stdout",
     "output_type": "stream",
     "text": [
      "\n",
      "      Epoch    GPU_mem   box_loss   cls_loss   dfl_loss  Instances       Size\n"
     ]
    },
    {
     "name": "stderr",
     "output_type": "stream",
     "text": [
      "      49/50      2.46G     0.9521     0.4051     0.8756         11        640: 100%|██████████| 245/245 [00:24<00:00, 10.17it/s]\n",
      "                 Class     Images  Instances      Box(P          R      mAP50  mAP50-95): 100%|██████████| 16/16 [00:02<00:00,  6.86it/s]"
     ]
    },
    {
     "name": "stdout",
     "output_type": "stream",
     "text": [
      "                   all        500       2176      0.967      0.985      0.991      0.746\n"
     ]
    },
    {
     "name": "stderr",
     "output_type": "stream",
     "text": [
      "\n"
     ]
    },
    {
     "name": "stdout",
     "output_type": "stream",
     "text": [
      "\n",
      "      Epoch    GPU_mem   box_loss   cls_loss   dfl_loss  Instances       Size\n"
     ]
    },
    {
     "name": "stderr",
     "output_type": "stream",
     "text": [
      "      50/50      2.46G     0.9522     0.4049      0.876         13        640: 100%|██████████| 245/245 [00:23<00:00, 10.22it/s]\n",
      "                 Class     Images  Instances      Box(P          R      mAP50  mAP50-95): 100%|██████████| 16/16 [00:02<00:00,  6.89it/s]"
     ]
    },
    {
     "name": "stdout",
     "output_type": "stream",
     "text": [
      "                   all        500       2176      0.968      0.983      0.991      0.749\n"
     ]
    },
    {
     "name": "stderr",
     "output_type": "stream",
     "text": [
      "\n"
     ]
    },
    {
     "name": "stdout",
     "output_type": "stream",
     "text": [
      "\n",
      "50 epochs completed in 0.389 hours.\n",
      "Optimizer stripped from runs\\detect\\train22\\weights\\last.pt, 6.2MB\n",
      "Optimizer stripped from runs\\detect\\train22\\weights\\best.pt, 6.2MB\n",
      "\n",
      "Validating runs\\detect\\train22\\weights\\best.pt...\n",
      "Ultralytics 8.3.101  Python-3.12.8 torch-2.5.1 CUDA:0 (NVIDIA GeForce RTX 3070, 8191MiB)\n",
      "Model summary (fused): 72 layers, 3,005,843 parameters, 0 gradients, 8.1 GFLOPs\n"
     ]
    },
    {
     "name": "stderr",
     "output_type": "stream",
     "text": [
      "                 Class     Images  Instances      Box(P          R      mAP50  mAP50-95): 100%|██████████| 16/16 [00:03<00:00,  4.74it/s]\n"
     ]
    },
    {
     "name": "stdout",
     "output_type": "stream",
     "text": [
      "                   all        500       2176      0.968      0.983      0.991      0.749\n",
      "Speed: 0.2ms preprocess, 1.2ms inference, 0.0ms loss, 1.1ms postprocess per image\n",
      "Results saved to \u001b[1mruns\\detect\\train22\u001b[0m\n"
     ]
    },
    {
     "data": {
      "text/plain": [
       "ultralytics.utils.metrics.DetMetrics object with attributes:\n",
       "\n",
       "ap_class_index: array([0])\n",
       "box: ultralytics.utils.metrics.Metric object\n",
       "confusion_matrix: <ultralytics.utils.metrics.ConfusionMatrix object at 0x000001A56AD56090>\n",
       "curves: ['Precision-Recall(B)', 'F1-Confidence(B)', 'Precision-Confidence(B)', 'Recall-Confidence(B)']\n",
       "curves_results: [[array([          0,    0.001001,    0.002002,    0.003003,    0.004004,    0.005005,    0.006006,    0.007007,    0.008008,    0.009009,     0.01001,    0.011011,    0.012012,    0.013013,    0.014014,    0.015015,    0.016016,    0.017017,    0.018018,    0.019019,     0.02002,    0.021021,    0.022022,    0.023023,\n",
       "          0.024024,    0.025025,    0.026026,    0.027027,    0.028028,    0.029029,     0.03003,    0.031031,    0.032032,    0.033033,    0.034034,    0.035035,    0.036036,    0.037037,    0.038038,    0.039039,     0.04004,    0.041041,    0.042042,    0.043043,    0.044044,    0.045045,    0.046046,    0.047047,\n",
       "          0.048048,    0.049049,     0.05005,    0.051051,    0.052052,    0.053053,    0.054054,    0.055055,    0.056056,    0.057057,    0.058058,    0.059059,     0.06006,    0.061061,    0.062062,    0.063063,    0.064064,    0.065065,    0.066066,    0.067067,    0.068068,    0.069069,     0.07007,    0.071071,\n",
       "          0.072072,    0.073073,    0.074074,    0.075075,    0.076076,    0.077077,    0.078078,    0.079079,     0.08008,    0.081081,    0.082082,    0.083083,    0.084084,    0.085085,    0.086086,    0.087087,    0.088088,    0.089089,     0.09009,    0.091091,    0.092092,    0.093093,    0.094094,    0.095095,\n",
       "          0.096096,    0.097097,    0.098098,    0.099099,      0.1001,      0.1011,      0.1021,      0.1031,      0.1041,     0.10511,     0.10611,     0.10711,     0.10811,     0.10911,     0.11011,     0.11111,     0.11211,     0.11311,     0.11411,     0.11512,     0.11612,     0.11712,     0.11812,     0.11912,\n",
       "           0.12012,     0.12112,     0.12212,     0.12312,     0.12412,     0.12513,     0.12613,     0.12713,     0.12813,     0.12913,     0.13013,     0.13113,     0.13213,     0.13313,     0.13413,     0.13514,     0.13614,     0.13714,     0.13814,     0.13914,     0.14014,     0.14114,     0.14214,     0.14314,\n",
       "           0.14414,     0.14515,     0.14615,     0.14715,     0.14815,     0.14915,     0.15015,     0.15115,     0.15215,     0.15315,     0.15415,     0.15516,     0.15616,     0.15716,     0.15816,     0.15916,     0.16016,     0.16116,     0.16216,     0.16316,     0.16416,     0.16517,     0.16617,     0.16717,\n",
       "           0.16817,     0.16917,     0.17017,     0.17117,     0.17217,     0.17317,     0.17417,     0.17518,     0.17618,     0.17718,     0.17818,     0.17918,     0.18018,     0.18118,     0.18218,     0.18318,     0.18418,     0.18519,     0.18619,     0.18719,     0.18819,     0.18919,     0.19019,     0.19119,\n",
       "           0.19219,     0.19319,     0.19419,      0.1952,      0.1962,      0.1972,      0.1982,      0.1992,      0.2002,      0.2012,      0.2022,      0.2032,      0.2042,     0.20521,     0.20621,     0.20721,     0.20821,     0.20921,     0.21021,     0.21121,     0.21221,     0.21321,     0.21421,     0.21522,\n",
       "           0.21622,     0.21722,     0.21822,     0.21922,     0.22022,     0.22122,     0.22222,     0.22322,     0.22422,     0.22523,     0.22623,     0.22723,     0.22823,     0.22923,     0.23023,     0.23123,     0.23223,     0.23323,     0.23423,     0.23524,     0.23624,     0.23724,     0.23824,     0.23924,\n",
       "           0.24024,     0.24124,     0.24224,     0.24324,     0.24424,     0.24525,     0.24625,     0.24725,     0.24825,     0.24925,     0.25025,     0.25125,     0.25225,     0.25325,     0.25425,     0.25526,     0.25626,     0.25726,     0.25826,     0.25926,     0.26026,     0.26126,     0.26226,     0.26326,\n",
       "           0.26426,     0.26527,     0.26627,     0.26727,     0.26827,     0.26927,     0.27027,     0.27127,     0.27227,     0.27327,     0.27427,     0.27528,     0.27628,     0.27728,     0.27828,     0.27928,     0.28028,     0.28128,     0.28228,     0.28328,     0.28428,     0.28529,     0.28629,     0.28729,\n",
       "           0.28829,     0.28929,     0.29029,     0.29129,     0.29229,     0.29329,     0.29429,      0.2953,      0.2963,      0.2973,      0.2983,      0.2993,      0.3003,      0.3013,      0.3023,      0.3033,      0.3043,     0.30531,     0.30631,     0.30731,     0.30831,     0.30931,     0.31031,     0.31131,\n",
       "           0.31231,     0.31331,     0.31431,     0.31532,     0.31632,     0.31732,     0.31832,     0.31932,     0.32032,     0.32132,     0.32232,     0.32332,     0.32432,     0.32533,     0.32633,     0.32733,     0.32833,     0.32933,     0.33033,     0.33133,     0.33233,     0.33333,     0.33433,     0.33534,\n",
       "           0.33634,     0.33734,     0.33834,     0.33934,     0.34034,     0.34134,     0.34234,     0.34334,     0.34434,     0.34535,     0.34635,     0.34735,     0.34835,     0.34935,     0.35035,     0.35135,     0.35235,     0.35335,     0.35435,     0.35536,     0.35636,     0.35736,     0.35836,     0.35936,\n",
       "           0.36036,     0.36136,     0.36236,     0.36336,     0.36436,     0.36537,     0.36637,     0.36737,     0.36837,     0.36937,     0.37037,     0.37137,     0.37237,     0.37337,     0.37437,     0.37538,     0.37638,     0.37738,     0.37838,     0.37938,     0.38038,     0.38138,     0.38238,     0.38338,\n",
       "           0.38438,     0.38539,     0.38639,     0.38739,     0.38839,     0.38939,     0.39039,     0.39139,     0.39239,     0.39339,     0.39439,      0.3954,      0.3964,      0.3974,      0.3984,      0.3994,      0.4004,      0.4014,      0.4024,      0.4034,      0.4044,     0.40541,     0.40641,     0.40741,\n",
       "           0.40841,     0.40941,     0.41041,     0.41141,     0.41241,     0.41341,     0.41441,     0.41542,     0.41642,     0.41742,     0.41842,     0.41942,     0.42042,     0.42142,     0.42242,     0.42342,     0.42442,     0.42543,     0.42643,     0.42743,     0.42843,     0.42943,     0.43043,     0.43143,\n",
       "           0.43243,     0.43343,     0.43443,     0.43544,     0.43644,     0.43744,     0.43844,     0.43944,     0.44044,     0.44144,     0.44244,     0.44344,     0.44444,     0.44545,     0.44645,     0.44745,     0.44845,     0.44945,     0.45045,     0.45145,     0.45245,     0.45345,     0.45445,     0.45546,\n",
       "           0.45646,     0.45746,     0.45846,     0.45946,     0.46046,     0.46146,     0.46246,     0.46346,     0.46446,     0.46547,     0.46647,     0.46747,     0.46847,     0.46947,     0.47047,     0.47147,     0.47247,     0.47347,     0.47447,     0.47548,     0.47648,     0.47748,     0.47848,     0.47948,\n",
       "           0.48048,     0.48148,     0.48248,     0.48348,     0.48448,     0.48549,     0.48649,     0.48749,     0.48849,     0.48949,     0.49049,     0.49149,     0.49249,     0.49349,     0.49449,      0.4955,      0.4965,      0.4975,      0.4985,      0.4995,      0.5005,      0.5015,      0.5025,      0.5035,\n",
       "            0.5045,     0.50551,     0.50651,     0.50751,     0.50851,     0.50951,     0.51051,     0.51151,     0.51251,     0.51351,     0.51451,     0.51552,     0.51652,     0.51752,     0.51852,     0.51952,     0.52052,     0.52152,     0.52252,     0.52352,     0.52452,     0.52553,     0.52653,     0.52753,\n",
       "           0.52853,     0.52953,     0.53053,     0.53153,     0.53253,     0.53353,     0.53453,     0.53554,     0.53654,     0.53754,     0.53854,     0.53954,     0.54054,     0.54154,     0.54254,     0.54354,     0.54454,     0.54555,     0.54655,     0.54755,     0.54855,     0.54955,     0.55055,     0.55155,\n",
       "           0.55255,     0.55355,     0.55455,     0.55556,     0.55656,     0.55756,     0.55856,     0.55956,     0.56056,     0.56156,     0.56256,     0.56356,     0.56456,     0.56557,     0.56657,     0.56757,     0.56857,     0.56957,     0.57057,     0.57157,     0.57257,     0.57357,     0.57457,     0.57558,\n",
       "           0.57658,     0.57758,     0.57858,     0.57958,     0.58058,     0.58158,     0.58258,     0.58358,     0.58458,     0.58559,     0.58659,     0.58759,     0.58859,     0.58959,     0.59059,     0.59159,     0.59259,     0.59359,     0.59459,      0.5956,      0.5966,      0.5976,      0.5986,      0.5996,\n",
       "            0.6006,      0.6016,      0.6026,      0.6036,      0.6046,     0.60561,     0.60661,     0.60761,     0.60861,     0.60961,     0.61061,     0.61161,     0.61261,     0.61361,     0.61461,     0.61562,     0.61662,     0.61762,     0.61862,     0.61962,     0.62062,     0.62162,     0.62262,     0.62362,\n",
       "           0.62462,     0.62563,     0.62663,     0.62763,     0.62863,     0.62963,     0.63063,     0.63163,     0.63263,     0.63363,     0.63463,     0.63564,     0.63664,     0.63764,     0.63864,     0.63964,     0.64064,     0.64164,     0.64264,     0.64364,     0.64464,     0.64565,     0.64665,     0.64765,\n",
       "           0.64865,     0.64965,     0.65065,     0.65165,     0.65265,     0.65365,     0.65465,     0.65566,     0.65666,     0.65766,     0.65866,     0.65966,     0.66066,     0.66166,     0.66266,     0.66366,     0.66466,     0.66567,     0.66667,     0.66767,     0.66867,     0.66967,     0.67067,     0.67167,\n",
       "           0.67267,     0.67367,     0.67467,     0.67568,     0.67668,     0.67768,     0.67868,     0.67968,     0.68068,     0.68168,     0.68268,     0.68368,     0.68468,     0.68569,     0.68669,     0.68769,     0.68869,     0.68969,     0.69069,     0.69169,     0.69269,     0.69369,     0.69469,      0.6957,\n",
       "            0.6967,      0.6977,      0.6987,      0.6997,      0.7007,      0.7017,      0.7027,      0.7037,      0.7047,     0.70571,     0.70671,     0.70771,     0.70871,     0.70971,     0.71071,     0.71171,     0.71271,     0.71371,     0.71471,     0.71572,     0.71672,     0.71772,     0.71872,     0.71972,\n",
       "           0.72072,     0.72172,     0.72272,     0.72372,     0.72472,     0.72573,     0.72673,     0.72773,     0.72873,     0.72973,     0.73073,     0.73173,     0.73273,     0.73373,     0.73473,     0.73574,     0.73674,     0.73774,     0.73874,     0.73974,     0.74074,     0.74174,     0.74274,     0.74374,\n",
       "           0.74474,     0.74575,     0.74675,     0.74775,     0.74875,     0.74975,     0.75075,     0.75175,     0.75275,     0.75375,     0.75475,     0.75576,     0.75676,     0.75776,     0.75876,     0.75976,     0.76076,     0.76176,     0.76276,     0.76376,     0.76476,     0.76577,     0.76677,     0.76777,\n",
       "           0.76877,     0.76977,     0.77077,     0.77177,     0.77277,     0.77377,     0.77477,     0.77578,     0.77678,     0.77778,     0.77878,     0.77978,     0.78078,     0.78178,     0.78278,     0.78378,     0.78478,     0.78579,     0.78679,     0.78779,     0.78879,     0.78979,     0.79079,     0.79179,\n",
       "           0.79279,     0.79379,     0.79479,      0.7958,      0.7968,      0.7978,      0.7988,      0.7998,      0.8008,      0.8018,      0.8028,      0.8038,      0.8048,     0.80581,     0.80681,     0.80781,     0.80881,     0.80981,     0.81081,     0.81181,     0.81281,     0.81381,     0.81481,     0.81582,\n",
       "           0.81682,     0.81782,     0.81882,     0.81982,     0.82082,     0.82182,     0.82282,     0.82382,     0.82482,     0.82583,     0.82683,     0.82783,     0.82883,     0.82983,     0.83083,     0.83183,     0.83283,     0.83383,     0.83483,     0.83584,     0.83684,     0.83784,     0.83884,     0.83984,\n",
       "           0.84084,     0.84184,     0.84284,     0.84384,     0.84484,     0.84585,     0.84685,     0.84785,     0.84885,     0.84985,     0.85085,     0.85185,     0.85285,     0.85385,     0.85485,     0.85586,     0.85686,     0.85786,     0.85886,     0.85986,     0.86086,     0.86186,     0.86286,     0.86386,\n",
       "           0.86486,     0.86587,     0.86687,     0.86787,     0.86887,     0.86987,     0.87087,     0.87187,     0.87287,     0.87387,     0.87487,     0.87588,     0.87688,     0.87788,     0.87888,     0.87988,     0.88088,     0.88188,     0.88288,     0.88388,     0.88488,     0.88589,     0.88689,     0.88789,\n",
       "           0.88889,     0.88989,     0.89089,     0.89189,     0.89289,     0.89389,     0.89489,      0.8959,      0.8969,      0.8979,      0.8989,      0.8999,      0.9009,      0.9019,      0.9029,      0.9039,      0.9049,     0.90591,     0.90691,     0.90791,     0.90891,     0.90991,     0.91091,     0.91191,\n",
       "           0.91291,     0.91391,     0.91491,     0.91592,     0.91692,     0.91792,     0.91892,     0.91992,     0.92092,     0.92192,     0.92292,     0.92392,     0.92492,     0.92593,     0.92693,     0.92793,     0.92893,     0.92993,     0.93093,     0.93193,     0.93293,     0.93393,     0.93493,     0.93594,\n",
       "           0.93694,     0.93794,     0.93894,     0.93994,     0.94094,     0.94194,     0.94294,     0.94394,     0.94494,     0.94595,     0.94695,     0.94795,     0.94895,     0.94995,     0.95095,     0.95195,     0.95295,     0.95395,     0.95495,     0.95596,     0.95696,     0.95796,     0.95896,     0.95996,\n",
       "           0.96096,     0.96196,     0.96296,     0.96396,     0.96496,     0.96597,     0.96697,     0.96797,     0.96897,     0.96997,     0.97097,     0.97197,     0.97297,     0.97397,     0.97497,     0.97598,     0.97698,     0.97798,     0.97898,     0.97998,     0.98098,     0.98198,     0.98298,     0.98398,\n",
       "           0.98498,     0.98599,     0.98699,     0.98799,     0.98899,     0.98999,     0.99099,     0.99199,     0.99299,     0.99399,     0.99499,       0.996,       0.997,       0.998,       0.999,           1]), array([[          1,           1,           1,           1,           1,           1,           1,           1,           1,           1,           1,           1,           1,           1,           1,           1,           1,           1,           1,           1,           1,           1,           1,\n",
       "                  1,           1,           1,           1,           1,           1,           1,           1,           1,           1,           1,           1,           1,           1,           1,           1,           1,           1,           1,           1,           1,           1,           1,\n",
       "                  1,           1,           1,           1,           1,           1,           1,           1,           1,           1,           1,           1,           1,           1,           1,           1,           1,           1,           1,           1,           1,           1,           1,\n",
       "                  1,           1,           1,           1,           1,           1,           1,           1,           1,           1,           1,           1,           1,           1,           1,           1,           1,           1,           1,           1,           1,           1,           1,\n",
       "                  1,           1,           1,           1,           1,           1,           1,           1,           1,           1,           1,           1,           1,           1,           1,           1,           1,           1,           1,           1,           1,           1,           1,\n",
       "                  1,     0.99796,     0.99796,     0.99796,     0.99796,     0.99796,     0.99796,     0.99796,     0.99796,     0.99796,     0.99796,     0.99796,     0.99796,     0.99796,     0.99796,     0.99796,     0.99796,     0.99796,     0.99796,     0.99796,     0.99796,     0.99796,     0.99796,\n",
       "            0.99796,     0.99796,     0.99796,     0.99796,     0.99796,     0.99796,     0.99796,     0.99796,     0.99796,     0.99796,     0.99796,     0.99796,     0.99796,     0.99796,     0.99796,     0.99796,     0.99796,     0.99796,     0.99796,     0.99796,     0.99796,     0.99796,     0.99796,\n",
       "            0.99796,     0.99796,     0.99796,     0.99796,     0.99796,     0.99796,     0.99796,     0.99796,     0.99796,     0.99796,     0.99796,     0.99796,     0.99796,     0.99796,     0.99796,     0.99796,     0.99796,     0.99796,     0.99796,     0.99796,     0.99796,     0.99796,     0.99796,\n",
       "            0.99796,     0.99796,     0.99796,     0.99796,     0.99796,     0.99796,     0.99796,     0.99796,     0.99796,     0.99796,     0.99796,     0.99796,     0.99796,     0.99796,     0.99796,     0.99796,     0.99796,     0.99796,     0.99796,     0.99796,     0.99796,     0.99796,     0.99796,\n",
       "            0.99796,     0.99796,     0.99796,     0.99796,     0.99796,     0.99796,     0.99796,     0.99796,     0.99796,     0.99796,     0.99796,     0.99796,     0.99796,     0.99796,     0.99796,     0.99796,     0.99796,     0.99796,     0.99796,     0.99796,     0.99796,     0.99796,     0.99796,\n",
       "            0.99796,     0.99796,     0.99796,     0.99796,     0.99796,     0.99796,     0.99796,     0.99796,     0.99796,     0.99796,     0.99796,     0.99796,     0.99796,     0.99796,     0.99796,     0.99796,     0.99796,     0.99796,     0.99796,     0.99796,     0.99796,     0.99796,     0.99796,\n",
       "            0.99796,     0.99796,     0.99796,     0.99796,     0.99796,     0.99796,     0.99796,     0.99796,     0.99796,     0.99796,     0.99796,     0.99796,     0.99796,     0.99796,     0.99796,     0.99796,     0.99796,     0.99796,     0.99796,     0.99796,     0.99796,     0.99796,     0.99796,\n",
       "            0.99796,     0.99796,     0.99796,     0.99796,     0.99796,     0.99796,     0.99796,     0.99796,     0.99796,     0.99796,     0.99796,     0.99796,     0.99796,     0.99796,     0.99796,     0.99796,     0.99796,     0.99796,     0.99796,     0.99796,     0.99796,     0.99796,     0.99796,\n",
       "            0.99796,     0.99796,     0.99796,     0.99796,     0.99796,     0.99796,     0.99796,     0.99796,     0.99796,     0.99796,     0.99796,     0.99796,     0.99796,     0.99796,     0.99796,     0.99796,     0.99796,     0.99796,     0.99796,     0.99796,     0.99796,     0.99796,     0.99796,\n",
       "            0.99796,     0.99796,     0.99796,     0.99796,     0.99796,     0.99796,     0.99796,     0.99796,     0.99796,     0.99796,     0.99796,     0.99796,     0.99796,     0.99796,     0.99796,     0.99796,     0.99796,     0.99796,     0.99796,     0.99796,     0.99796,     0.99796,     0.99796,\n",
       "            0.99796,     0.99796,     0.99796,     0.99796,     0.99796,     0.99796,     0.99796,     0.99796,     0.99796,     0.99796,     0.99796,     0.99796,     0.99796,     0.99796,     0.99796,     0.99796,     0.99796,     0.99796,     0.99796,     0.99796,     0.99796,     0.99796,     0.99796,\n",
       "            0.99796,     0.99796,     0.99796,     0.99796,     0.99796,     0.99796,     0.99796,     0.99796,     0.99796,     0.99796,     0.99796,     0.99796,     0.99796,     0.99796,     0.99796,     0.99796,     0.99796,     0.99796,     0.99796,     0.99796,     0.99796,     0.99796,     0.99796,\n",
       "            0.99796,     0.99796,     0.99796,     0.99796,     0.99796,     0.99796,     0.99796,     0.99796,     0.99796,     0.99796,     0.99796,     0.99796,     0.99796,     0.99796,     0.99796,     0.99796,     0.99796,     0.99796,     0.99796,     0.99796,     0.99796,     0.99796,     0.99796,\n",
       "            0.99796,     0.99796,     0.99796,     0.99796,     0.99796,     0.99796,     0.99796,     0.99796,     0.99796,     0.99796,     0.99796,     0.99796,     0.99796,     0.99796,     0.99796,     0.99796,     0.99796,     0.99796,     0.99796,     0.99796,     0.99796,     0.99796,     0.99796,\n",
       "            0.99796,     0.99796,     0.99796,     0.99796,     0.99796,     0.99796,     0.99796,     0.99796,     0.99796,     0.99796,     0.99796,     0.99796,     0.99796,     0.99796,     0.99796,     0.99796,     0.99796,     0.99796,     0.99796,     0.99796,     0.99796,     0.99796,     0.99796,\n",
       "            0.99796,     0.99796,     0.99796,     0.99796,     0.99796,     0.99796,     0.99796,     0.99796,     0.99796,     0.99796,     0.99796,     0.99796,     0.99796,     0.99796,     0.99796,     0.99796,     0.99796,     0.99796,     0.99796,     0.99796,     0.99796,     0.99796,     0.99796,\n",
       "            0.99796,     0.99796,     0.99796,     0.99796,     0.99796,     0.99796,     0.99796,     0.99796,     0.99796,     0.99796,     0.99796,     0.99796,     0.99796,     0.99796,     0.99796,     0.99796,     0.99796,     0.99796,     0.99796,     0.99796,     0.99796,     0.99796,     0.99796,\n",
       "            0.99796,     0.99796,     0.99796,     0.99796,     0.99796,     0.99796,     0.99796,     0.99796,     0.99796,     0.99796,     0.99796,     0.99796,     0.99796,     0.99796,     0.99796,     0.99796,     0.99796,     0.99796,     0.99796,     0.99796,     0.99796,     0.99796,     0.99796,\n",
       "            0.99796,     0.99796,     0.99796,     0.99796,     0.99796,     0.99796,     0.99796,     0.99796,     0.99796,     0.99796,     0.99796,     0.99796,     0.99796,     0.99796,     0.99796,     0.99796,     0.99796,     0.99796,     0.99796,     0.99796,     0.99796,     0.99796,     0.99796,\n",
       "            0.99796,     0.99796,     0.99796,     0.99796,     0.99796,     0.99796,     0.99796,     0.99796,     0.99796,     0.99796,     0.99796,     0.99796,     0.99796,     0.99796,     0.99796,     0.99796,     0.99796,     0.99796,     0.99796,     0.99796,     0.99796,     0.99796,     0.99796,\n",
       "            0.99796,     0.99796,     0.99796,     0.99796,     0.99796,     0.99796,     0.99796,     0.99796,     0.99796,     0.99796,     0.99796,     0.99796,     0.99796,     0.99796,     0.99796,     0.99796,     0.99796,     0.99796,     0.99796,     0.99796,     0.99796,     0.99796,     0.99796,\n",
       "            0.99796,     0.99796,     0.99796,     0.99796,     0.99796,     0.99796,     0.99796,     0.99796,     0.99796,     0.99796,     0.99796,     0.99796,     0.99796,     0.99796,     0.99796,     0.99796,     0.99796,     0.99796,     0.99796,     0.99796,     0.99796,     0.99796,     0.99796,\n",
       "            0.99796,     0.99796,     0.99796,     0.99796,     0.99796,     0.99796,     0.99796,     0.99796,     0.99796,     0.99796,     0.99796,     0.99796,     0.99796,     0.99796,     0.99796,     0.99796,     0.99796,     0.99796,     0.99796,     0.99796,     0.99796,     0.99796,     0.99796,\n",
       "            0.99796,     0.99796,     0.99796,     0.99796,     0.99796,     0.99796,     0.99796,     0.99796,     0.99796,     0.99796,     0.99796,     0.99796,     0.99796,     0.99796,     0.99796,     0.99796,     0.99796,     0.99796,     0.99796,     0.99796,     0.99796,     0.99796,     0.99796,\n",
       "            0.99796,     0.99796,     0.99796,     0.99796,     0.99796,     0.99796,     0.99796,     0.99796,     0.99731,     0.99731,     0.99731,     0.99731,     0.99731,     0.99704,     0.99704,     0.99704,     0.99704,     0.99704,     0.99704,     0.99704,     0.99704,     0.99704,     0.99704,\n",
       "            0.99704,     0.99704,     0.99704,     0.99704,     0.99704,     0.99704,     0.99704,     0.99704,     0.99704,     0.99704,     0.99704,     0.99704,     0.99704,     0.99704,     0.99704,     0.99704,     0.99704,     0.99704,     0.99704,     0.99704,     0.99704,     0.99704,     0.99704,\n",
       "            0.99704,     0.99704,     0.99704,     0.99704,     0.99704,     0.99704,     0.99704,     0.99704,     0.99704,     0.99704,     0.99704,     0.99704,     0.99704,     0.99704,     0.99704,     0.99704,     0.99704,     0.99704,     0.99704,     0.99704,     0.99704,     0.99704,     0.99704,\n",
       "            0.99704,     0.99704,     0.99704,     0.99704,     0.99704,     0.99704,     0.99704,     0.99704,     0.99704,     0.99704,     0.99704,     0.99704,     0.99704,     0.99704,     0.99704,     0.99704,     0.99704,     0.99704,     0.99704,     0.99704,     0.99704,     0.99704,     0.99704,\n",
       "            0.99704,     0.99704,     0.99704,     0.99704,     0.99704,     0.99704,     0.99704,     0.99704,     0.99704,     0.99704,     0.99704,     0.99704,     0.99704,     0.99704,     0.99704,     0.99646,     0.99646,     0.99592,     0.99592,     0.99592,     0.99592,     0.99592,     0.99592,\n",
       "            0.99592,     0.99592,     0.99543,     0.99543,     0.99543,     0.99543,     0.99543,     0.99543,     0.99543,     0.99543,     0.99543,     0.99543,     0.99543,     0.99543,     0.99543,     0.99543,     0.99543,     0.99543,     0.99496,     0.99496,     0.99496,     0.99496,     0.99496,\n",
       "            0.99496,     0.99496,     0.99496,     0.99496,     0.99496,     0.99496,     0.99496,     0.99496,     0.99496,     0.99496,     0.99496,     0.99496,     0.99463,     0.99463,     0.99463,     0.99463,     0.99463,     0.99463,     0.99463,     0.99463,     0.99463,     0.99463,     0.99463,\n",
       "            0.99463,     0.99463,     0.99463,     0.99463,     0.99463,     0.99463,     0.99463,     0.99463,     0.99463,     0.99463,     0.99463,     0.99463,     0.99463,     0.99463,     0.99463,     0.99463,     0.99463,     0.99463,     0.99463,     0.99463,     0.99463,     0.99463,     0.99463,\n",
       "            0.99362,     0.99362,     0.99362,     0.99362,     0.99362,     0.99362,     0.99362,     0.99313,     0.99313,     0.99313,     0.99313,     0.99313,     0.99262,     0.99262,     0.99214,     0.99214,     0.99214,     0.99214,     0.99214,     0.99166,     0.99166,     0.99166,     0.99166,\n",
       "            0.99122,     0.99122,     0.99122,     0.99122,     0.99122,     0.99122,     0.99122,     0.99122,     0.99076,     0.99076,     0.99076,     0.99076,      0.9903,      0.9903,      0.9903,      0.9903,      0.9903,     0.98959,     0.98959,     0.98959,     0.98959,     0.98959,     0.98959,\n",
       "            0.98959,     0.98959,     0.98959,     0.98959,     0.98959,     0.98959,     0.98959,     0.98959,     0.98959,     0.98959,     0.98959,     0.98959,     0.98959,     0.98959,     0.98959,     0.98959,     0.98959,     0.98959,     0.98959,     0.98959,     0.98911,     0.98868,     0.98868,\n",
       "            0.98868,     0.98868,      0.9882,     0.98776,     0.98776,     0.98776,     0.98776,     0.98735,     0.98735,     0.98735,     0.98735,     0.98735,     0.98648,     0.98648,     0.98648,     0.98648,     0.98648,     0.98648,     0.98554,     0.98508,     0.98415,     0.98369,     0.98331,\n",
       "            0.98331,     0.98331,     0.98331,     0.98331,     0.98287,     0.98287,     0.98244,     0.98244,     0.98167,     0.98167,     0.98167,     0.98167,     0.98167,     0.98167,     0.98167,     0.98167,     0.98167,     0.98124,     0.97993,     0.97993,     0.97993,     0.97993,     0.97907,\n",
       "            0.97907,     0.97773,     0.97639,     0.97598,     0.97598,     0.97424,     0.97424,     0.97382,     0.97343,     0.97343,     0.97257,     0.97172,     0.97041,     0.96913,     0.96913,     0.96834,     0.96834,     0.96792,     0.96755,     0.96755,      0.9667,     0.96456,     0.95689,\n",
       "             0.9565,     0.95192,     0.94776,     0.94491,     0.93921,     0.93201,     0.89809,     0.86317,     0.83699,     0.79285,           0]]), 'Recall', 'Precision'], [array([          0,    0.001001,    0.002002,    0.003003,    0.004004,    0.005005,    0.006006,    0.007007,    0.008008,    0.009009,     0.01001,    0.011011,    0.012012,    0.013013,    0.014014,    0.015015,    0.016016,    0.017017,    0.018018,    0.019019,     0.02002,    0.021021,    0.022022,    0.023023,\n",
       "          0.024024,    0.025025,    0.026026,    0.027027,    0.028028,    0.029029,     0.03003,    0.031031,    0.032032,    0.033033,    0.034034,    0.035035,    0.036036,    0.037037,    0.038038,    0.039039,     0.04004,    0.041041,    0.042042,    0.043043,    0.044044,    0.045045,    0.046046,    0.047047,\n",
       "          0.048048,    0.049049,     0.05005,    0.051051,    0.052052,    0.053053,    0.054054,    0.055055,    0.056056,    0.057057,    0.058058,    0.059059,     0.06006,    0.061061,    0.062062,    0.063063,    0.064064,    0.065065,    0.066066,    0.067067,    0.068068,    0.069069,     0.07007,    0.071071,\n",
       "          0.072072,    0.073073,    0.074074,    0.075075,    0.076076,    0.077077,    0.078078,    0.079079,     0.08008,    0.081081,    0.082082,    0.083083,    0.084084,    0.085085,    0.086086,    0.087087,    0.088088,    0.089089,     0.09009,    0.091091,    0.092092,    0.093093,    0.094094,    0.095095,\n",
       "          0.096096,    0.097097,    0.098098,    0.099099,      0.1001,      0.1011,      0.1021,      0.1031,      0.1041,     0.10511,     0.10611,     0.10711,     0.10811,     0.10911,     0.11011,     0.11111,     0.11211,     0.11311,     0.11411,     0.11512,     0.11612,     0.11712,     0.11812,     0.11912,\n",
       "           0.12012,     0.12112,     0.12212,     0.12312,     0.12412,     0.12513,     0.12613,     0.12713,     0.12813,     0.12913,     0.13013,     0.13113,     0.13213,     0.13313,     0.13413,     0.13514,     0.13614,     0.13714,     0.13814,     0.13914,     0.14014,     0.14114,     0.14214,     0.14314,\n",
       "           0.14414,     0.14515,     0.14615,     0.14715,     0.14815,     0.14915,     0.15015,     0.15115,     0.15215,     0.15315,     0.15415,     0.15516,     0.15616,     0.15716,     0.15816,     0.15916,     0.16016,     0.16116,     0.16216,     0.16316,     0.16416,     0.16517,     0.16617,     0.16717,\n",
       "           0.16817,     0.16917,     0.17017,     0.17117,     0.17217,     0.17317,     0.17417,     0.17518,     0.17618,     0.17718,     0.17818,     0.17918,     0.18018,     0.18118,     0.18218,     0.18318,     0.18418,     0.18519,     0.18619,     0.18719,     0.18819,     0.18919,     0.19019,     0.19119,\n",
       "           0.19219,     0.19319,     0.19419,      0.1952,      0.1962,      0.1972,      0.1982,      0.1992,      0.2002,      0.2012,      0.2022,      0.2032,      0.2042,     0.20521,     0.20621,     0.20721,     0.20821,     0.20921,     0.21021,     0.21121,     0.21221,     0.21321,     0.21421,     0.21522,\n",
       "           0.21622,     0.21722,     0.21822,     0.21922,     0.22022,     0.22122,     0.22222,     0.22322,     0.22422,     0.22523,     0.22623,     0.22723,     0.22823,     0.22923,     0.23023,     0.23123,     0.23223,     0.23323,     0.23423,     0.23524,     0.23624,     0.23724,     0.23824,     0.23924,\n",
       "           0.24024,     0.24124,     0.24224,     0.24324,     0.24424,     0.24525,     0.24625,     0.24725,     0.24825,     0.24925,     0.25025,     0.25125,     0.25225,     0.25325,     0.25425,     0.25526,     0.25626,     0.25726,     0.25826,     0.25926,     0.26026,     0.26126,     0.26226,     0.26326,\n",
       "           0.26426,     0.26527,     0.26627,     0.26727,     0.26827,     0.26927,     0.27027,     0.27127,     0.27227,     0.27327,     0.27427,     0.27528,     0.27628,     0.27728,     0.27828,     0.27928,     0.28028,     0.28128,     0.28228,     0.28328,     0.28428,     0.28529,     0.28629,     0.28729,\n",
       "           0.28829,     0.28929,     0.29029,     0.29129,     0.29229,     0.29329,     0.29429,      0.2953,      0.2963,      0.2973,      0.2983,      0.2993,      0.3003,      0.3013,      0.3023,      0.3033,      0.3043,     0.30531,     0.30631,     0.30731,     0.30831,     0.30931,     0.31031,     0.31131,\n",
       "           0.31231,     0.31331,     0.31431,     0.31532,     0.31632,     0.31732,     0.31832,     0.31932,     0.32032,     0.32132,     0.32232,     0.32332,     0.32432,     0.32533,     0.32633,     0.32733,     0.32833,     0.32933,     0.33033,     0.33133,     0.33233,     0.33333,     0.33433,     0.33534,\n",
       "           0.33634,     0.33734,     0.33834,     0.33934,     0.34034,     0.34134,     0.34234,     0.34334,     0.34434,     0.34535,     0.34635,     0.34735,     0.34835,     0.34935,     0.35035,     0.35135,     0.35235,     0.35335,     0.35435,     0.35536,     0.35636,     0.35736,     0.35836,     0.35936,\n",
       "           0.36036,     0.36136,     0.36236,     0.36336,     0.36436,     0.36537,     0.36637,     0.36737,     0.36837,     0.36937,     0.37037,     0.37137,     0.37237,     0.37337,     0.37437,     0.37538,     0.37638,     0.37738,     0.37838,     0.37938,     0.38038,     0.38138,     0.38238,     0.38338,\n",
       "           0.38438,     0.38539,     0.38639,     0.38739,     0.38839,     0.38939,     0.39039,     0.39139,     0.39239,     0.39339,     0.39439,      0.3954,      0.3964,      0.3974,      0.3984,      0.3994,      0.4004,      0.4014,      0.4024,      0.4034,      0.4044,     0.40541,     0.40641,     0.40741,\n",
       "           0.40841,     0.40941,     0.41041,     0.41141,     0.41241,     0.41341,     0.41441,     0.41542,     0.41642,     0.41742,     0.41842,     0.41942,     0.42042,     0.42142,     0.42242,     0.42342,     0.42442,     0.42543,     0.42643,     0.42743,     0.42843,     0.42943,     0.43043,     0.43143,\n",
       "           0.43243,     0.43343,     0.43443,     0.43544,     0.43644,     0.43744,     0.43844,     0.43944,     0.44044,     0.44144,     0.44244,     0.44344,     0.44444,     0.44545,     0.44645,     0.44745,     0.44845,     0.44945,     0.45045,     0.45145,     0.45245,     0.45345,     0.45445,     0.45546,\n",
       "           0.45646,     0.45746,     0.45846,     0.45946,     0.46046,     0.46146,     0.46246,     0.46346,     0.46446,     0.46547,     0.46647,     0.46747,     0.46847,     0.46947,     0.47047,     0.47147,     0.47247,     0.47347,     0.47447,     0.47548,     0.47648,     0.47748,     0.47848,     0.47948,\n",
       "           0.48048,     0.48148,     0.48248,     0.48348,     0.48448,     0.48549,     0.48649,     0.48749,     0.48849,     0.48949,     0.49049,     0.49149,     0.49249,     0.49349,     0.49449,      0.4955,      0.4965,      0.4975,      0.4985,      0.4995,      0.5005,      0.5015,      0.5025,      0.5035,\n",
       "            0.5045,     0.50551,     0.50651,     0.50751,     0.50851,     0.50951,     0.51051,     0.51151,     0.51251,     0.51351,     0.51451,     0.51552,     0.51652,     0.51752,     0.51852,     0.51952,     0.52052,     0.52152,     0.52252,     0.52352,     0.52452,     0.52553,     0.52653,     0.52753,\n",
       "           0.52853,     0.52953,     0.53053,     0.53153,     0.53253,     0.53353,     0.53453,     0.53554,     0.53654,     0.53754,     0.53854,     0.53954,     0.54054,     0.54154,     0.54254,     0.54354,     0.54454,     0.54555,     0.54655,     0.54755,     0.54855,     0.54955,     0.55055,     0.55155,\n",
       "           0.55255,     0.55355,     0.55455,     0.55556,     0.55656,     0.55756,     0.55856,     0.55956,     0.56056,     0.56156,     0.56256,     0.56356,     0.56456,     0.56557,     0.56657,     0.56757,     0.56857,     0.56957,     0.57057,     0.57157,     0.57257,     0.57357,     0.57457,     0.57558,\n",
       "           0.57658,     0.57758,     0.57858,     0.57958,     0.58058,     0.58158,     0.58258,     0.58358,     0.58458,     0.58559,     0.58659,     0.58759,     0.58859,     0.58959,     0.59059,     0.59159,     0.59259,     0.59359,     0.59459,      0.5956,      0.5966,      0.5976,      0.5986,      0.5996,\n",
       "            0.6006,      0.6016,      0.6026,      0.6036,      0.6046,     0.60561,     0.60661,     0.60761,     0.60861,     0.60961,     0.61061,     0.61161,     0.61261,     0.61361,     0.61461,     0.61562,     0.61662,     0.61762,     0.61862,     0.61962,     0.62062,     0.62162,     0.62262,     0.62362,\n",
       "           0.62462,     0.62563,     0.62663,     0.62763,     0.62863,     0.62963,     0.63063,     0.63163,     0.63263,     0.63363,     0.63463,     0.63564,     0.63664,     0.63764,     0.63864,     0.63964,     0.64064,     0.64164,     0.64264,     0.64364,     0.64464,     0.64565,     0.64665,     0.64765,\n",
       "           0.64865,     0.64965,     0.65065,     0.65165,     0.65265,     0.65365,     0.65465,     0.65566,     0.65666,     0.65766,     0.65866,     0.65966,     0.66066,     0.66166,     0.66266,     0.66366,     0.66466,     0.66567,     0.66667,     0.66767,     0.66867,     0.66967,     0.67067,     0.67167,\n",
       "           0.67267,     0.67367,     0.67467,     0.67568,     0.67668,     0.67768,     0.67868,     0.67968,     0.68068,     0.68168,     0.68268,     0.68368,     0.68468,     0.68569,     0.68669,     0.68769,     0.68869,     0.68969,     0.69069,     0.69169,     0.69269,     0.69369,     0.69469,      0.6957,\n",
       "            0.6967,      0.6977,      0.6987,      0.6997,      0.7007,      0.7017,      0.7027,      0.7037,      0.7047,     0.70571,     0.70671,     0.70771,     0.70871,     0.70971,     0.71071,     0.71171,     0.71271,     0.71371,     0.71471,     0.71572,     0.71672,     0.71772,     0.71872,     0.71972,\n",
       "           0.72072,     0.72172,     0.72272,     0.72372,     0.72472,     0.72573,     0.72673,     0.72773,     0.72873,     0.72973,     0.73073,     0.73173,     0.73273,     0.73373,     0.73473,     0.73574,     0.73674,     0.73774,     0.73874,     0.73974,     0.74074,     0.74174,     0.74274,     0.74374,\n",
       "           0.74474,     0.74575,     0.74675,     0.74775,     0.74875,     0.74975,     0.75075,     0.75175,     0.75275,     0.75375,     0.75475,     0.75576,     0.75676,     0.75776,     0.75876,     0.75976,     0.76076,     0.76176,     0.76276,     0.76376,     0.76476,     0.76577,     0.76677,     0.76777,\n",
       "           0.76877,     0.76977,     0.77077,     0.77177,     0.77277,     0.77377,     0.77477,     0.77578,     0.77678,     0.77778,     0.77878,     0.77978,     0.78078,     0.78178,     0.78278,     0.78378,     0.78478,     0.78579,     0.78679,     0.78779,     0.78879,     0.78979,     0.79079,     0.79179,\n",
       "           0.79279,     0.79379,     0.79479,      0.7958,      0.7968,      0.7978,      0.7988,      0.7998,      0.8008,      0.8018,      0.8028,      0.8038,      0.8048,     0.80581,     0.80681,     0.80781,     0.80881,     0.80981,     0.81081,     0.81181,     0.81281,     0.81381,     0.81481,     0.81582,\n",
       "           0.81682,     0.81782,     0.81882,     0.81982,     0.82082,     0.82182,     0.82282,     0.82382,     0.82482,     0.82583,     0.82683,     0.82783,     0.82883,     0.82983,     0.83083,     0.83183,     0.83283,     0.83383,     0.83483,     0.83584,     0.83684,     0.83784,     0.83884,     0.83984,\n",
       "           0.84084,     0.84184,     0.84284,     0.84384,     0.84484,     0.84585,     0.84685,     0.84785,     0.84885,     0.84985,     0.85085,     0.85185,     0.85285,     0.85385,     0.85485,     0.85586,     0.85686,     0.85786,     0.85886,     0.85986,     0.86086,     0.86186,     0.86286,     0.86386,\n",
       "           0.86486,     0.86587,     0.86687,     0.86787,     0.86887,     0.86987,     0.87087,     0.87187,     0.87287,     0.87387,     0.87487,     0.87588,     0.87688,     0.87788,     0.87888,     0.87988,     0.88088,     0.88188,     0.88288,     0.88388,     0.88488,     0.88589,     0.88689,     0.88789,\n",
       "           0.88889,     0.88989,     0.89089,     0.89189,     0.89289,     0.89389,     0.89489,      0.8959,      0.8969,      0.8979,      0.8989,      0.8999,      0.9009,      0.9019,      0.9029,      0.9039,      0.9049,     0.90591,     0.90691,     0.90791,     0.90891,     0.90991,     0.91091,     0.91191,\n",
       "           0.91291,     0.91391,     0.91491,     0.91592,     0.91692,     0.91792,     0.91892,     0.91992,     0.92092,     0.92192,     0.92292,     0.92392,     0.92492,     0.92593,     0.92693,     0.92793,     0.92893,     0.92993,     0.93093,     0.93193,     0.93293,     0.93393,     0.93493,     0.93594,\n",
       "           0.93694,     0.93794,     0.93894,     0.93994,     0.94094,     0.94194,     0.94294,     0.94394,     0.94494,     0.94595,     0.94695,     0.94795,     0.94895,     0.94995,     0.95095,     0.95195,     0.95295,     0.95395,     0.95495,     0.95596,     0.95696,     0.95796,     0.95896,     0.95996,\n",
       "           0.96096,     0.96196,     0.96296,     0.96396,     0.96496,     0.96597,     0.96697,     0.96797,     0.96897,     0.96997,     0.97097,     0.97197,     0.97297,     0.97397,     0.97497,     0.97598,     0.97698,     0.97798,     0.97898,     0.97998,     0.98098,     0.98198,     0.98298,     0.98398,\n",
       "           0.98498,     0.98599,     0.98699,     0.98799,     0.98899,     0.98999,     0.99099,     0.99199,     0.99299,     0.99399,     0.99499,       0.996,       0.997,       0.998,       0.999,           1]), array([[    0.78984,     0.78984,     0.83357,     0.85254,     0.86362,     0.87248,     0.87786,     0.88317,     0.88829,     0.89184,     0.89537,     0.89747,     0.89976,     0.90256,      0.9047,     0.90576,     0.90745,     0.90896,     0.91014,     0.91071,     0.91169,     0.91213,     0.91311,\n",
       "            0.91382,     0.91452,     0.91481,     0.91532,     0.91601,     0.91616,     0.91717,     0.91751,     0.91831,     0.91878,     0.91888,     0.91952,     0.92024,     0.92088,      0.9212,     0.92185,     0.92232,     0.92274,     0.92342,     0.92421,     0.92439,     0.92449,     0.92482,\n",
       "            0.92519,     0.92578,     0.92639,     0.92676,     0.92686,     0.92724,     0.92762,     0.92799,     0.92833,     0.92855,     0.92871,     0.92885,     0.92915,     0.92974,     0.93047,     0.93084,     0.93119,     0.93135,     0.93158,     0.93201,     0.93217,     0.93232,     0.93252,\n",
       "            0.93267,     0.93297,     0.93315,     0.93324,     0.93335,      0.9338,     0.93401,     0.93433,     0.93443,     0.93471,     0.93489,     0.93505,     0.93537,     0.93541,     0.93537,     0.93573,     0.93589,     0.93598,     0.93606,     0.93634,     0.93659,     0.93695,     0.93707,\n",
       "            0.93755,     0.93792,     0.93799,     0.93806,     0.93813,      0.9382,     0.93827,     0.93838,      0.9386,     0.93871,     0.93903,     0.93918,     0.93927,     0.93948,     0.93991,     0.94031,     0.94049,     0.94071,     0.94107,     0.94119,     0.94123,     0.94128,     0.94132,\n",
       "            0.94136,     0.94153,     0.94165,     0.94173,     0.94216,     0.94229,     0.94239,     0.94249,     0.94259,      0.9427,     0.94282,     0.94346,     0.94368,      0.9439,     0.94404,     0.94449,     0.94461,     0.94465,      0.9448,     0.94516,     0.94528,     0.94533,     0.94539,\n",
       "            0.94545,     0.94618,      0.9466,     0.94748,     0.94812,     0.94825,     0.94836,     0.94877,     0.94892,     0.94904,     0.94915,     0.94932,     0.94943,     0.94949,     0.94955,     0.94985,     0.95015,     0.95035,     0.95055,     0.95067,     0.95072,     0.95077,     0.95083,\n",
       "            0.95093,     0.95119,     0.95143,     0.95152,     0.95157,     0.95161,     0.95166,     0.95205,     0.95222,     0.95237,     0.95255,     0.95267,     0.95279,     0.95291,     0.95309,     0.95328,     0.95343,     0.95355,     0.95372,     0.95401,     0.95412,     0.95423,      0.9543,\n",
       "            0.95437,     0.95443,     0.95448,     0.95454,     0.95459,     0.95467,     0.95484,     0.95487,     0.95491,     0.95494,     0.95498,     0.95501,     0.95505,     0.95509,     0.95513,     0.95517,     0.95522,     0.95527,     0.95548,      0.9555,     0.95552,     0.95555,     0.95557,\n",
       "            0.95559,     0.95562,     0.95564,     0.95566,      0.9557,     0.95577,     0.95584,     0.95591,     0.95601,     0.95611,     0.95619,     0.95628,     0.95637,     0.95647,      0.9566,      0.9567,     0.95653,     0.95655,     0.95662,     0.95668,     0.95673,     0.95678,     0.95682,\n",
       "            0.95687,     0.95691,     0.95699,     0.95709,     0.95716,     0.95721,     0.95726,     0.95731,     0.95786,     0.95804,     0.95815,     0.95835,     0.95845,     0.95849,     0.95854,     0.95859,     0.95873,     0.95902,      0.9591,     0.95916,     0.95921,      0.9593,     0.95944,\n",
       "             0.9595,     0.95954,     0.95959,     0.95963,     0.95967,      0.9597,     0.95973,     0.95976,      0.9598,     0.95983,     0.95986,     0.95989,     0.96002,     0.96022,     0.96055,     0.96057,     0.96059,     0.96062,     0.96064,     0.96066,     0.96069,     0.96071,     0.96073,\n",
       "            0.96101,     0.96113,     0.96121,     0.96126,     0.96132,     0.96137,     0.96142,     0.96146,      0.9615,     0.96154,     0.96158,     0.96162,     0.96167,     0.96172,     0.96177,     0.96183,      0.9619,     0.96197,     0.96203,     0.96205,     0.96208,     0.96211,     0.96213,\n",
       "            0.96216,     0.96218,     0.96221,     0.96223,     0.96236,      0.9625,     0.96262,     0.96258,     0.96244,     0.96265,     0.96268,      0.9627,     0.96272,     0.96275,     0.96277,     0.96279,     0.96282,     0.96284,     0.96286,     0.96284,     0.96281,     0.96278,     0.96276,\n",
       "            0.96273,      0.9627,     0.96268,     0.96265,     0.96272,     0.96319,     0.96343,     0.96351,     0.96353,     0.96355,     0.96357,      0.9636,     0.96362,     0.96364,     0.96366,     0.96369,     0.96376,     0.96397,     0.96408,     0.96419,     0.96415,     0.96418,     0.96422,\n",
       "            0.96425,     0.96429,     0.96432,     0.96436,      0.9644,     0.96444,     0.96448,     0.96452,     0.96456,     0.96461,     0.96466,      0.9647,     0.96475,     0.96497,     0.96502,     0.96506,      0.9651,     0.96514,     0.96518,     0.96545,     0.96553,      0.9656,     0.96565,\n",
       "            0.96569,     0.96573,     0.96577,     0.96581,     0.96583,      0.9658,     0.96577,     0.96574,      0.9657,     0.96567,     0.96564,     0.96561,      0.9659,     0.96598,     0.96605,     0.96607,     0.96609,     0.96611,     0.96613,     0.96615,     0.96617,      0.9662,     0.96622,\n",
       "            0.96624,     0.96624,     0.96603,     0.96605,     0.96608,     0.96611,     0.96613,     0.96616,     0.96618,     0.96621,     0.96624,     0.96648,     0.96652,     0.96655,     0.96658,     0.96662,     0.96665,     0.96669,     0.96676,     0.96684,     0.96695,     0.96717,     0.96733,\n",
       "            0.96736,     0.96738,     0.96741,     0.96743,     0.96746,     0.96748,     0.96751,     0.96753,     0.96764,     0.96777,     0.96788,     0.96799,      0.9681,     0.96823,     0.96839,     0.96831,     0.96823,     0.96816,     0.96811,     0.96806,     0.96801,     0.96796,     0.96797,\n",
       "            0.96802,     0.96806,     0.96811,     0.96815,     0.96833,     0.96842,     0.96848,     0.96853,     0.96859,     0.96879,     0.96913,     0.96924,     0.96928,     0.96932,     0.96936,      0.9694,     0.96943,     0.96946,     0.96937,     0.96928,     0.96933,     0.96948,     0.96953,\n",
       "            0.96959,     0.96964,     0.97001,     0.97012,     0.97016,     0.97019,     0.97022,     0.97025,     0.97028,     0.97032,     0.97041,     0.97052,      0.9706,     0.97068,     0.97075,     0.97095,     0.97102,     0.97106,     0.97111,     0.97115,      0.9712,     0.97131,     0.97117,\n",
       "            0.97096,     0.97103,     0.97111,     0.97118,     0.97121,     0.97125,     0.97129,     0.97133,     0.97136,      0.9714,     0.97144,     0.97148,     0.97151,     0.97155,     0.97159,     0.97162,     0.97165,     0.97168,     0.97171,     0.97173,     0.97176,     0.97179,     0.97182,\n",
       "             0.9719,     0.97201,      0.9722,     0.97232,     0.97239,     0.97247,     0.97266,     0.97267,     0.97263,     0.97259,     0.97255,     0.97251,     0.97247,     0.97269,     0.97274,     0.97278,     0.97283,     0.97287,     0.97292,     0.97304,     0.97312,     0.97304,     0.97296,\n",
       "            0.97287,     0.97275,     0.97282,     0.97289,     0.97292,     0.97296,       0.973,     0.97304,     0.97307,      0.9731,     0.97312,     0.97314,     0.97316,     0.97318,      0.9732,     0.97322,     0.97324,     0.97325,     0.97327,     0.97329,     0.97331,     0.97348,     0.97371,\n",
       "            0.97371,     0.97365,     0.97359,     0.97353,     0.97377,     0.97379,     0.97382,     0.97385,     0.97387,      0.9739,     0.97393,     0.97395,      0.9741,     0.97433,     0.97466,      0.9747,     0.97475,     0.97479,     0.97484,     0.97524,     0.97535,     0.97542,      0.9755,\n",
       "            0.97571,      0.9758,     0.97587,     0.97595,     0.97599,     0.97603,     0.97608,     0.97612,     0.97616,      0.9761,     0.97598,     0.97601,     0.97585,     0.97573,     0.97575,     0.97583,      0.9759,      0.9761,     0.97618,     0.97623,     0.97628,     0.97633,     0.97646,\n",
       "            0.97669,      0.9766,     0.97666,     0.97672,     0.97677,     0.97684,     0.97692,     0.97699,     0.97686,     0.97654,      0.9765,     0.97645,      0.9764,     0.97635,     0.97625,     0.97593,     0.97599,     0.97593,     0.97581,     0.97576,      0.9757,     0.97565,      0.9756,\n",
       "            0.97554,     0.97548,     0.97542,     0.97531,     0.97509,     0.97503,     0.97497,     0.97491,     0.97488,     0.97485,     0.97482,     0.97479,     0.97476,     0.97474,     0.97471,     0.97468,     0.97473,     0.97488,     0.97491,     0.97494,     0.97497,     0.97499,     0.97502,\n",
       "            0.97505,     0.97507,      0.9751,     0.97479,     0.97467,     0.97464,     0.97468,     0.97472,     0.97476,      0.9748,     0.97485,     0.97491,     0.97497,     0.97504,     0.97505,     0.97499,     0.97493,     0.97487,     0.97491,     0.97525,     0.97501,     0.97484,     0.97495,\n",
       "            0.97487,     0.97499,     0.97484,     0.97466,     0.97458,     0.97469,     0.97492,     0.97456,     0.97431,     0.97407,      0.9739,     0.97385,     0.97391,     0.97398,      0.9738,     0.97368,     0.97358,     0.97374,     0.97325,     0.97312,     0.97303,     0.97295,     0.97287,\n",
       "            0.97316,     0.97327,     0.97342,     0.97347,     0.97335,     0.97297,     0.97281,     0.97262,     0.97269,     0.97275,     0.97254,     0.97298,     0.97272,     0.97287,      0.9731,     0.97285,      0.9727,     0.97263,     0.97256,     0.97249,     0.97234,     0.97227,     0.97242,\n",
       "            0.97187,     0.97175,     0.97146,     0.97136,     0.97126,     0.97063,      0.9706,     0.97071,     0.97117,     0.97109,     0.97101,     0.97088,      0.9707,     0.97058,     0.96942,     0.96902,      0.9689,     0.96853,     0.96836,     0.96772,     0.96744,     0.96716,     0.96691,\n",
       "            0.96654,     0.96619,     0.96653,     0.96572,     0.96587,     0.96561,     0.96497,     0.96508,     0.96462,     0.96409,     0.96385,     0.96375,     0.96364,     0.96347,     0.96233,     0.96213,     0.96197,     0.96225,     0.96171,     0.96187,      0.9614,     0.95973,     0.95907,\n",
       "            0.95891,     0.95919,     0.95828,     0.95737,     0.95721,      0.9561,     0.95471,      0.9547,     0.95399,      0.9523,     0.95227,      0.9521,     0.95118,     0.95001,     0.94983,     0.94846,     0.94709,     0.94656,     0.94579,     0.94427,     0.94138,     0.93967,     0.93949,\n",
       "            0.93836,     0.93797,     0.93571,     0.93553,     0.93322,     0.93064,     0.92826,     0.92766,     0.92698,     0.92479,      0.9215,     0.92118,     0.91874,     0.91436,     0.91058,     0.90715,     0.90647,     0.90192,      0.8986,     0.89692,     0.89449,     0.88996,     0.88928,\n",
       "            0.88553,     0.88053,     0.87752,     0.87287,     0.87249,     0.86832,      0.8622,     0.85613,     0.84917,     0.84316,     0.84273,     0.83499,     0.82791,     0.81774,     0.81242,     0.80471,     0.79645,     0.78467,     0.77479,     0.77455,     0.76323,     0.75224,     0.74221,\n",
       "            0.73371,     0.72265,     0.71235,     0.70275,     0.70189,     0.68905,     0.67387,     0.66369,     0.65042,     0.63964,     0.62633,     0.61475,     0.60005,     0.58205,     0.56429,     0.54917,     0.53303,     0.51357,     0.49922,     0.48555,     0.46849,     0.45434,     0.43713,\n",
       "            0.42125,      0.4046,     0.38804,     0.36379,     0.34913,      0.3319,     0.31639,     0.30553,     0.29523,     0.26807,     0.25554,     0.24213,     0.23138,     0.22059,     0.21107,     0.20214,     0.18788,     0.18081,     0.17028,     0.15689,     0.15374,     0.13807,     0.12922,\n",
       "            0.12192,     0.11128,     0.10548,    0.098777,    0.091252,    0.085355,    0.081533,    0.070882,    0.067434,    0.063028,    0.058665,    0.052232,    0.047404,    0.045455,    0.040767,    0.038319,    0.034085,     0.03291,    0.026708,    0.025201,    0.024588,    0.022809,    0.022303,\n",
       "           0.021842,    0.018265,    0.017012,    0.016368,    0.014268,    0.013627,      0.0117,    0.010592,   0.0088802,   0.0076246,   0.0066892,   0.0044648,   0.0042943,   0.0041237,   0.0039531,   0.0037825,   0.0030324,   0.0024335,   0.0020575,   0.0010602,           0,           0,           0,\n",
       "                  0,           0,           0,           0,           0,           0,           0,           0,           0,           0,           0,           0,           0,           0,           0,           0,           0,           0,           0,           0,           0,           0,           0,\n",
       "                  0,           0,           0,           0,           0,           0,           0,           0,           0,           0,           0,           0,           0,           0,           0,           0,           0,           0,           0,           0,           0,           0,           0,\n",
       "                  0,           0,           0,           0,           0,           0,           0,           0,           0,           0,           0,           0,           0,           0,           0,           0,           0,           0,           0,           0,           0,           0,           0,\n",
       "                  0,           0,           0,           0,           0,           0,           0,           0,           0,           0,           0]]), 'Confidence', 'F1'], [array([          0,    0.001001,    0.002002,    0.003003,    0.004004,    0.005005,    0.006006,    0.007007,    0.008008,    0.009009,     0.01001,    0.011011,    0.012012,    0.013013,    0.014014,    0.015015,    0.016016,    0.017017,    0.018018,    0.019019,     0.02002,    0.021021,    0.022022,    0.023023,\n",
       "          0.024024,    0.025025,    0.026026,    0.027027,    0.028028,    0.029029,     0.03003,    0.031031,    0.032032,    0.033033,    0.034034,    0.035035,    0.036036,    0.037037,    0.038038,    0.039039,     0.04004,    0.041041,    0.042042,    0.043043,    0.044044,    0.045045,    0.046046,    0.047047,\n",
       "          0.048048,    0.049049,     0.05005,    0.051051,    0.052052,    0.053053,    0.054054,    0.055055,    0.056056,    0.057057,    0.058058,    0.059059,     0.06006,    0.061061,    0.062062,    0.063063,    0.064064,    0.065065,    0.066066,    0.067067,    0.068068,    0.069069,     0.07007,    0.071071,\n",
       "          0.072072,    0.073073,    0.074074,    0.075075,    0.076076,    0.077077,    0.078078,    0.079079,     0.08008,    0.081081,    0.082082,    0.083083,    0.084084,    0.085085,    0.086086,    0.087087,    0.088088,    0.089089,     0.09009,    0.091091,    0.092092,    0.093093,    0.094094,    0.095095,\n",
       "          0.096096,    0.097097,    0.098098,    0.099099,      0.1001,      0.1011,      0.1021,      0.1031,      0.1041,     0.10511,     0.10611,     0.10711,     0.10811,     0.10911,     0.11011,     0.11111,     0.11211,     0.11311,     0.11411,     0.11512,     0.11612,     0.11712,     0.11812,     0.11912,\n",
       "           0.12012,     0.12112,     0.12212,     0.12312,     0.12412,     0.12513,     0.12613,     0.12713,     0.12813,     0.12913,     0.13013,     0.13113,     0.13213,     0.13313,     0.13413,     0.13514,     0.13614,     0.13714,     0.13814,     0.13914,     0.14014,     0.14114,     0.14214,     0.14314,\n",
       "           0.14414,     0.14515,     0.14615,     0.14715,     0.14815,     0.14915,     0.15015,     0.15115,     0.15215,     0.15315,     0.15415,     0.15516,     0.15616,     0.15716,     0.15816,     0.15916,     0.16016,     0.16116,     0.16216,     0.16316,     0.16416,     0.16517,     0.16617,     0.16717,\n",
       "           0.16817,     0.16917,     0.17017,     0.17117,     0.17217,     0.17317,     0.17417,     0.17518,     0.17618,     0.17718,     0.17818,     0.17918,     0.18018,     0.18118,     0.18218,     0.18318,     0.18418,     0.18519,     0.18619,     0.18719,     0.18819,     0.18919,     0.19019,     0.19119,\n",
       "           0.19219,     0.19319,     0.19419,      0.1952,      0.1962,      0.1972,      0.1982,      0.1992,      0.2002,      0.2012,      0.2022,      0.2032,      0.2042,     0.20521,     0.20621,     0.20721,     0.20821,     0.20921,     0.21021,     0.21121,     0.21221,     0.21321,     0.21421,     0.21522,\n",
       "           0.21622,     0.21722,     0.21822,     0.21922,     0.22022,     0.22122,     0.22222,     0.22322,     0.22422,     0.22523,     0.22623,     0.22723,     0.22823,     0.22923,     0.23023,     0.23123,     0.23223,     0.23323,     0.23423,     0.23524,     0.23624,     0.23724,     0.23824,     0.23924,\n",
       "           0.24024,     0.24124,     0.24224,     0.24324,     0.24424,     0.24525,     0.24625,     0.24725,     0.24825,     0.24925,     0.25025,     0.25125,     0.25225,     0.25325,     0.25425,     0.25526,     0.25626,     0.25726,     0.25826,     0.25926,     0.26026,     0.26126,     0.26226,     0.26326,\n",
       "           0.26426,     0.26527,     0.26627,     0.26727,     0.26827,     0.26927,     0.27027,     0.27127,     0.27227,     0.27327,     0.27427,     0.27528,     0.27628,     0.27728,     0.27828,     0.27928,     0.28028,     0.28128,     0.28228,     0.28328,     0.28428,     0.28529,     0.28629,     0.28729,\n",
       "           0.28829,     0.28929,     0.29029,     0.29129,     0.29229,     0.29329,     0.29429,      0.2953,      0.2963,      0.2973,      0.2983,      0.2993,      0.3003,      0.3013,      0.3023,      0.3033,      0.3043,     0.30531,     0.30631,     0.30731,     0.30831,     0.30931,     0.31031,     0.31131,\n",
       "           0.31231,     0.31331,     0.31431,     0.31532,     0.31632,     0.31732,     0.31832,     0.31932,     0.32032,     0.32132,     0.32232,     0.32332,     0.32432,     0.32533,     0.32633,     0.32733,     0.32833,     0.32933,     0.33033,     0.33133,     0.33233,     0.33333,     0.33433,     0.33534,\n",
       "           0.33634,     0.33734,     0.33834,     0.33934,     0.34034,     0.34134,     0.34234,     0.34334,     0.34434,     0.34535,     0.34635,     0.34735,     0.34835,     0.34935,     0.35035,     0.35135,     0.35235,     0.35335,     0.35435,     0.35536,     0.35636,     0.35736,     0.35836,     0.35936,\n",
       "           0.36036,     0.36136,     0.36236,     0.36336,     0.36436,     0.36537,     0.36637,     0.36737,     0.36837,     0.36937,     0.37037,     0.37137,     0.37237,     0.37337,     0.37437,     0.37538,     0.37638,     0.37738,     0.37838,     0.37938,     0.38038,     0.38138,     0.38238,     0.38338,\n",
       "           0.38438,     0.38539,     0.38639,     0.38739,     0.38839,     0.38939,     0.39039,     0.39139,     0.39239,     0.39339,     0.39439,      0.3954,      0.3964,      0.3974,      0.3984,      0.3994,      0.4004,      0.4014,      0.4024,      0.4034,      0.4044,     0.40541,     0.40641,     0.40741,\n",
       "           0.40841,     0.40941,     0.41041,     0.41141,     0.41241,     0.41341,     0.41441,     0.41542,     0.41642,     0.41742,     0.41842,     0.41942,     0.42042,     0.42142,     0.42242,     0.42342,     0.42442,     0.42543,     0.42643,     0.42743,     0.42843,     0.42943,     0.43043,     0.43143,\n",
       "           0.43243,     0.43343,     0.43443,     0.43544,     0.43644,     0.43744,     0.43844,     0.43944,     0.44044,     0.44144,     0.44244,     0.44344,     0.44444,     0.44545,     0.44645,     0.44745,     0.44845,     0.44945,     0.45045,     0.45145,     0.45245,     0.45345,     0.45445,     0.45546,\n",
       "           0.45646,     0.45746,     0.45846,     0.45946,     0.46046,     0.46146,     0.46246,     0.46346,     0.46446,     0.46547,     0.46647,     0.46747,     0.46847,     0.46947,     0.47047,     0.47147,     0.47247,     0.47347,     0.47447,     0.47548,     0.47648,     0.47748,     0.47848,     0.47948,\n",
       "           0.48048,     0.48148,     0.48248,     0.48348,     0.48448,     0.48549,     0.48649,     0.48749,     0.48849,     0.48949,     0.49049,     0.49149,     0.49249,     0.49349,     0.49449,      0.4955,      0.4965,      0.4975,      0.4985,      0.4995,      0.5005,      0.5015,      0.5025,      0.5035,\n",
       "            0.5045,     0.50551,     0.50651,     0.50751,     0.50851,     0.50951,     0.51051,     0.51151,     0.51251,     0.51351,     0.51451,     0.51552,     0.51652,     0.51752,     0.51852,     0.51952,     0.52052,     0.52152,     0.52252,     0.52352,     0.52452,     0.52553,     0.52653,     0.52753,\n",
       "           0.52853,     0.52953,     0.53053,     0.53153,     0.53253,     0.53353,     0.53453,     0.53554,     0.53654,     0.53754,     0.53854,     0.53954,     0.54054,     0.54154,     0.54254,     0.54354,     0.54454,     0.54555,     0.54655,     0.54755,     0.54855,     0.54955,     0.55055,     0.55155,\n",
       "           0.55255,     0.55355,     0.55455,     0.55556,     0.55656,     0.55756,     0.55856,     0.55956,     0.56056,     0.56156,     0.56256,     0.56356,     0.56456,     0.56557,     0.56657,     0.56757,     0.56857,     0.56957,     0.57057,     0.57157,     0.57257,     0.57357,     0.57457,     0.57558,\n",
       "           0.57658,     0.57758,     0.57858,     0.57958,     0.58058,     0.58158,     0.58258,     0.58358,     0.58458,     0.58559,     0.58659,     0.58759,     0.58859,     0.58959,     0.59059,     0.59159,     0.59259,     0.59359,     0.59459,      0.5956,      0.5966,      0.5976,      0.5986,      0.5996,\n",
       "            0.6006,      0.6016,      0.6026,      0.6036,      0.6046,     0.60561,     0.60661,     0.60761,     0.60861,     0.60961,     0.61061,     0.61161,     0.61261,     0.61361,     0.61461,     0.61562,     0.61662,     0.61762,     0.61862,     0.61962,     0.62062,     0.62162,     0.62262,     0.62362,\n",
       "           0.62462,     0.62563,     0.62663,     0.62763,     0.62863,     0.62963,     0.63063,     0.63163,     0.63263,     0.63363,     0.63463,     0.63564,     0.63664,     0.63764,     0.63864,     0.63964,     0.64064,     0.64164,     0.64264,     0.64364,     0.64464,     0.64565,     0.64665,     0.64765,\n",
       "           0.64865,     0.64965,     0.65065,     0.65165,     0.65265,     0.65365,     0.65465,     0.65566,     0.65666,     0.65766,     0.65866,     0.65966,     0.66066,     0.66166,     0.66266,     0.66366,     0.66466,     0.66567,     0.66667,     0.66767,     0.66867,     0.66967,     0.67067,     0.67167,\n",
       "           0.67267,     0.67367,     0.67467,     0.67568,     0.67668,     0.67768,     0.67868,     0.67968,     0.68068,     0.68168,     0.68268,     0.68368,     0.68468,     0.68569,     0.68669,     0.68769,     0.68869,     0.68969,     0.69069,     0.69169,     0.69269,     0.69369,     0.69469,      0.6957,\n",
       "            0.6967,      0.6977,      0.6987,      0.6997,      0.7007,      0.7017,      0.7027,      0.7037,      0.7047,     0.70571,     0.70671,     0.70771,     0.70871,     0.70971,     0.71071,     0.71171,     0.71271,     0.71371,     0.71471,     0.71572,     0.71672,     0.71772,     0.71872,     0.71972,\n",
       "           0.72072,     0.72172,     0.72272,     0.72372,     0.72472,     0.72573,     0.72673,     0.72773,     0.72873,     0.72973,     0.73073,     0.73173,     0.73273,     0.73373,     0.73473,     0.73574,     0.73674,     0.73774,     0.73874,     0.73974,     0.74074,     0.74174,     0.74274,     0.74374,\n",
       "           0.74474,     0.74575,     0.74675,     0.74775,     0.74875,     0.74975,     0.75075,     0.75175,     0.75275,     0.75375,     0.75475,     0.75576,     0.75676,     0.75776,     0.75876,     0.75976,     0.76076,     0.76176,     0.76276,     0.76376,     0.76476,     0.76577,     0.76677,     0.76777,\n",
       "           0.76877,     0.76977,     0.77077,     0.77177,     0.77277,     0.77377,     0.77477,     0.77578,     0.77678,     0.77778,     0.77878,     0.77978,     0.78078,     0.78178,     0.78278,     0.78378,     0.78478,     0.78579,     0.78679,     0.78779,     0.78879,     0.78979,     0.79079,     0.79179,\n",
       "           0.79279,     0.79379,     0.79479,      0.7958,      0.7968,      0.7978,      0.7988,      0.7998,      0.8008,      0.8018,      0.8028,      0.8038,      0.8048,     0.80581,     0.80681,     0.80781,     0.80881,     0.80981,     0.81081,     0.81181,     0.81281,     0.81381,     0.81481,     0.81582,\n",
       "           0.81682,     0.81782,     0.81882,     0.81982,     0.82082,     0.82182,     0.82282,     0.82382,     0.82482,     0.82583,     0.82683,     0.82783,     0.82883,     0.82983,     0.83083,     0.83183,     0.83283,     0.83383,     0.83483,     0.83584,     0.83684,     0.83784,     0.83884,     0.83984,\n",
       "           0.84084,     0.84184,     0.84284,     0.84384,     0.84484,     0.84585,     0.84685,     0.84785,     0.84885,     0.84985,     0.85085,     0.85185,     0.85285,     0.85385,     0.85485,     0.85586,     0.85686,     0.85786,     0.85886,     0.85986,     0.86086,     0.86186,     0.86286,     0.86386,\n",
       "           0.86486,     0.86587,     0.86687,     0.86787,     0.86887,     0.86987,     0.87087,     0.87187,     0.87287,     0.87387,     0.87487,     0.87588,     0.87688,     0.87788,     0.87888,     0.87988,     0.88088,     0.88188,     0.88288,     0.88388,     0.88488,     0.88589,     0.88689,     0.88789,\n",
       "           0.88889,     0.88989,     0.89089,     0.89189,     0.89289,     0.89389,     0.89489,      0.8959,      0.8969,      0.8979,      0.8989,      0.8999,      0.9009,      0.9019,      0.9029,      0.9039,      0.9049,     0.90591,     0.90691,     0.90791,     0.90891,     0.90991,     0.91091,     0.91191,\n",
       "           0.91291,     0.91391,     0.91491,     0.91592,     0.91692,     0.91792,     0.91892,     0.91992,     0.92092,     0.92192,     0.92292,     0.92392,     0.92492,     0.92593,     0.92693,     0.92793,     0.92893,     0.92993,     0.93093,     0.93193,     0.93293,     0.93393,     0.93493,     0.93594,\n",
       "           0.93694,     0.93794,     0.93894,     0.93994,     0.94094,     0.94194,     0.94294,     0.94394,     0.94494,     0.94595,     0.94695,     0.94795,     0.94895,     0.94995,     0.95095,     0.95195,     0.95295,     0.95395,     0.95495,     0.95596,     0.95696,     0.95796,     0.95896,     0.95996,\n",
       "           0.96096,     0.96196,     0.96296,     0.96396,     0.96496,     0.96597,     0.96697,     0.96797,     0.96897,     0.96997,     0.97097,     0.97197,     0.97297,     0.97397,     0.97497,     0.97598,     0.97698,     0.97798,     0.97898,     0.97998,     0.98098,     0.98198,     0.98298,     0.98398,\n",
       "           0.98498,     0.98599,     0.98699,     0.98799,     0.98899,     0.98999,     0.99099,     0.99199,     0.99299,     0.99399,     0.99499,       0.996,       0.997,       0.998,       0.999,           1]), array([[    0.65267,     0.65267,     0.71511,     0.74349,     0.76051,     0.77436,     0.78286,     0.79136,     0.79991,     0.80568,     0.81147,     0.81493,     0.81871,     0.82336,     0.82692,     0.82901,     0.83186,     0.83439,     0.83638,     0.83768,     0.83933,     0.84007,     0.84174,\n",
       "            0.84295,     0.84413,     0.84496,     0.84583,     0.84701,     0.84728,     0.84901,     0.84958,     0.85096,     0.85176,     0.85194,     0.85304,     0.85427,     0.85537,     0.85593,     0.85706,     0.85787,      0.8586,     0.85978,     0.86115,     0.86146,     0.86163,      0.8622,\n",
       "            0.86318,     0.86421,     0.86528,     0.86593,      0.8661,     0.86677,     0.86743,     0.86808,     0.86867,     0.86906,     0.86934,     0.86958,     0.87011,     0.87116,     0.87244,     0.87307,      0.8737,     0.87397,     0.87439,     0.87514,     0.87542,      0.8757,     0.87605,\n",
       "            0.87631,     0.87684,     0.87715,      0.8773,     0.87752,     0.87831,     0.87868,     0.87924,     0.87943,     0.87992,     0.88023,     0.88051,     0.88108,     0.88133,     0.88145,     0.88208,     0.88238,     0.88252,     0.88266,     0.88317,     0.88361,     0.88425,     0.88447,\n",
       "            0.88532,     0.88599,     0.88611,     0.88623,     0.88636,     0.88648,      0.8866,     0.88681,      0.8872,      0.8874,     0.88798,     0.88823,      0.8884,     0.88877,     0.88955,     0.89026,     0.89059,     0.89098,     0.89161,     0.89184,     0.89191,     0.89199,     0.89207,\n",
       "            0.89215,     0.89245,     0.89267,     0.89282,     0.89358,     0.89382,     0.89399,     0.89417,     0.89435,     0.89455,     0.89476,     0.89592,     0.89633,     0.89672,     0.89697,     0.89778,     0.89799,     0.89844,     0.89872,     0.89937,     0.89958,     0.89968,     0.89979,\n",
       "            0.89989,     0.90121,     0.90198,     0.90357,     0.90475,     0.90498,     0.90518,     0.90594,      0.9062,     0.90642,     0.90661,     0.90692,     0.90714,     0.90725,     0.90735,     0.90789,     0.90844,     0.90881,     0.90918,     0.90941,      0.9095,     0.90959,     0.90968,\n",
       "            0.90988,     0.91035,     0.91079,     0.91095,     0.91104,     0.91113,     0.91122,     0.91193,     0.91224,     0.91251,     0.91284,     0.91306,     0.91329,     0.91352,     0.91383,     0.91418,     0.91447,     0.91469,       0.915,     0.91553,     0.91574,     0.91593,     0.91606,\n",
       "             0.9162,     0.91631,     0.91641,      0.9165,     0.91659,     0.91675,     0.91706,     0.91713,     0.91719,     0.91725,     0.91732,     0.91738,     0.91745,     0.91752,      0.9176,     0.91768,     0.91776,     0.91785,     0.91824,     0.91828,     0.91832,     0.91837,     0.91841,\n",
       "            0.91845,      0.9185,     0.91854,     0.91858,     0.91866,     0.91878,      0.9189,     0.91904,     0.91923,     0.91941,     0.91956,     0.91972,     0.91989,     0.92008,     0.92032,     0.92056,     0.92053,     0.92062,     0.92074,     0.92085,     0.92095,     0.92104,     0.92112,\n",
       "             0.9212,     0.92128,     0.92143,     0.92161,     0.92175,     0.92184,     0.92194,     0.92203,     0.92305,     0.92339,     0.92358,     0.92395,     0.92413,     0.92422,     0.92431,      0.9244,     0.92467,     0.92521,     0.92535,     0.92545,     0.92556,     0.92572,     0.92599,\n",
       "             0.9261,     0.92618,     0.92625,     0.92633,     0.92641,     0.92647,     0.92653,     0.92659,     0.92665,     0.92671,     0.92676,     0.92682,     0.92706,     0.92744,     0.92805,     0.92809,     0.92813,     0.92818,     0.92822,     0.92826,     0.92831,     0.92835,     0.92839,\n",
       "            0.92891,     0.92914,     0.92929,     0.92939,     0.92949,     0.92959,     0.92967,     0.92975,     0.92982,      0.9299,     0.92997,     0.93005,     0.93015,     0.93025,     0.93034,     0.93045,     0.93057,      0.9307,     0.93082,     0.93087,     0.93091,     0.93096,     0.93101,\n",
       "            0.93106,     0.93111,     0.93116,      0.9312,     0.93143,     0.93169,     0.93193,       0.932,     0.93199,     0.93239,     0.93244,     0.93248,     0.93252,     0.93257,     0.93261,     0.93265,      0.9327,     0.93274,     0.93278,     0.93278,     0.93278,     0.93278,     0.93277,\n",
       "            0.93277,     0.93277,     0.93276,     0.93276,     0.93292,      0.9338,     0.93425,      0.9344,     0.93444,     0.93448,     0.93453,     0.93457,     0.93461,     0.93465,      0.9347,     0.93474,     0.93489,     0.93527,     0.93548,     0.93597,     0.93601,     0.93608,     0.93614,\n",
       "            0.93621,     0.93628,     0.93634,     0.93642,     0.93649,     0.93657,     0.93664,     0.93672,      0.9368,     0.93689,     0.93697,     0.93706,     0.93715,     0.93756,     0.93765,     0.93773,     0.93781,     0.93788,     0.93796,     0.93848,     0.93862,     0.93876,     0.93885,\n",
       "            0.93893,       0.939,     0.93908,     0.93916,     0.93921,     0.93921,      0.9392,      0.9392,     0.93919,     0.93919,     0.93919,     0.93918,     0.93974,     0.93989,     0.94001,     0.94005,     0.94009,     0.94013,     0.94017,     0.94021,     0.94025,     0.94029,     0.94033,\n",
       "            0.94037,     0.94041,     0.94039,     0.94044,     0.94049,     0.94054,     0.94058,     0.94063,     0.94068,     0.94073,     0.94078,     0.94125,     0.94131,     0.94138,     0.94144,      0.9415,     0.94156,     0.94164,     0.94178,     0.94192,     0.94214,     0.94256,     0.94286,\n",
       "            0.94291,     0.94296,     0.94301,     0.94305,      0.9431,     0.94315,      0.9432,     0.94325,     0.94345,     0.94369,      0.9439,     0.94411,     0.94432,     0.94457,      0.9449,      0.9449,     0.94489,     0.94488,     0.94488,     0.94487,     0.94486,     0.94486,     0.94491,\n",
       "              0.945,     0.94508,     0.94517,     0.94525,      0.9456,     0.94577,     0.94588,     0.94598,     0.94609,     0.94648,     0.94712,     0.94734,     0.94741,     0.94748,     0.94756,     0.94763,      0.9477,     0.94776,     0.94775,     0.94774,     0.94792,      0.9482,     0.94831,\n",
       "            0.94842,     0.94852,     0.94922,     0.94944,      0.9495,     0.94956,     0.94962,     0.94969,     0.94975,     0.94981,     0.94998,      0.9502,     0.95036,      0.9505,     0.95064,     0.95103,     0.95116,     0.95124,     0.95133,     0.95141,      0.9515,     0.95172,      0.9519,\n",
       "            0.95189,     0.95203,     0.95218,     0.95231,     0.95238,     0.95245,     0.95252,      0.9526,     0.95267,     0.95274,     0.95281,     0.95288,     0.95296,     0.95303,      0.9531,     0.95316,     0.95322,     0.95327,     0.95333,     0.95338,     0.95343,     0.95349,     0.95354,\n",
       "             0.9537,     0.95392,     0.95428,     0.95451,     0.95465,      0.9548,     0.95517,     0.95525,     0.95524,     0.95524,     0.95524,     0.95523,     0.95523,     0.95565,     0.95574,     0.95583,     0.95591,       0.956,      0.9561,     0.95632,      0.9565,     0.95649,     0.95649,\n",
       "            0.95648,     0.95647,     0.95688,     0.95732,     0.95739,     0.95746,     0.95754,     0.95761,     0.95768,     0.95774,     0.95777,     0.95781,     0.95785,     0.95788,     0.95792,     0.95796,     0.95799,     0.95803,     0.95807,      0.9581,     0.95814,     0.95847,     0.95891,\n",
       "              0.959,     0.95899,     0.95899,     0.95898,     0.95946,     0.95951,     0.95956,     0.95961,     0.95966,     0.95972,     0.95977,     0.95982,      0.9601,     0.96054,     0.96118,     0.96127,     0.96136,     0.96145,     0.96154,     0.96233,     0.96253,     0.96268,     0.96283,\n",
       "            0.96323,     0.96341,     0.96356,      0.9637,     0.96379,     0.96387,     0.96395,     0.96403,     0.96411,     0.96414,     0.96413,     0.96455,     0.96454,     0.96453,     0.96463,     0.96478,     0.96493,     0.96531,     0.96547,     0.96557,     0.96567,     0.96577,     0.96602,\n",
       "            0.96646,     0.96674,     0.96685,     0.96696,     0.96707,      0.9672,     0.96735,      0.9675,     0.96754,     0.96752,     0.96752,     0.96752,     0.96751,     0.96751,      0.9675,     0.96763,     0.96791,     0.96807,     0.96832,     0.96832,     0.96832,     0.96831,     0.96831,\n",
       "            0.96831,      0.9683,      0.9683,     0.96829,     0.96828,     0.96828,     0.96827,     0.96827,     0.96827,     0.96827,     0.96826,     0.96826,     0.96826,     0.96826,     0.96826,     0.96825,     0.96838,     0.96868,     0.96874,      0.9688,     0.96885,      0.9689,     0.96896,\n",
       "            0.96901,     0.96906,     0.96912,     0.96911,     0.96911,     0.96955,     0.96963,     0.96972,      0.9698,     0.96988,     0.96996,     0.97009,     0.97021,     0.97034,     0.97041,     0.97041,     0.97041,      0.9704,       0.971,     0.97171,      0.9717,     0.97175,     0.97213,\n",
       "            0.97227,      0.9725,     0.97256,     0.97255,     0.97261,     0.97283,     0.97329,     0.97341,      0.9734,     0.97338,     0.97337,     0.97343,     0.97356,     0.97369,      0.9738,      0.9738,     0.97382,     0.97413,     0.97421,     0.97421,      0.9742,      0.9742,     0.97419,\n",
       "            0.97482,     0.97505,     0.97534,     0.97598,     0.97597,     0.97596,     0.97595,     0.97606,     0.97619,     0.97632,     0.97638,     0.97773,     0.97771,     0.97843,      0.9789,     0.97906,     0.97905,     0.97905,     0.97904,     0.97904,     0.97948,     0.97957,     0.97988,\n",
       "            0.97991,     0.97991,      0.9799,     0.97989,     0.97989,     0.97986,     0.97997,     0.98021,     0.98124,     0.98123,     0.98123,     0.98123,     0.98122,     0.98137,     0.98163,     0.98161,     0.98161,     0.98159,     0.98159,     0.98156,     0.98155,     0.98154,     0.98154,\n",
       "            0.98152,     0.98151,     0.98227,     0.98256,     0.98287,     0.98286,     0.98297,     0.98321,     0.98329,     0.98328,     0.98327,     0.98326,     0.98326,     0.98325,     0.98322,     0.98414,     0.98414,     0.98508,     0.98518,      0.9855,     0.98646,     0.98642,      0.9864,\n",
       "            0.98639,     0.98735,     0.98733,      0.9873,      0.9873,     0.98775,     0.98785,      0.9882,     0.98866,     0.98862,     0.98959,     0.98959,     0.98957,     0.98955,     0.98954,     0.98951,     0.98949,     0.98947,     0.98946,     0.98943,     0.98937,     0.98933,     0.98933,\n",
       "             0.9893,     0.99029,     0.99075,     0.99075,     0.99088,     0.99117,     0.99164,     0.99163,     0.99202,      0.9921,      0.9931,     0.99309,     0.99359,      0.9946,     0.99456,     0.99452,     0.99451,     0.99446,     0.99442,     0.99496,     0.99494,     0.99489,     0.99488,\n",
       "            0.99541,     0.99536,     0.99592,     0.99588,     0.99587,     0.99702,     0.99698,     0.99695,      0.9969,     0.99686,     0.99686,     0.99681,     0.99676,      0.9967,     0.99666,     0.99796,     0.99792,     0.99787,     0.99783,     0.99783,     0.99777,     0.99772,     0.99767,\n",
       "            0.99763,     0.99757,     0.99752,     0.99746,     0.99746,     0.99739,      0.9973,     0.99724,     0.99715,     0.99708,     0.99699,     0.99691,      0.9968,     0.99666,     0.99651,     0.99638,     0.99623,     0.99603,     0.99588,     0.99572,     0.99552,     0.99534,      0.9951,\n",
       "            0.99487,     0.99639,      0.9962,     0.99589,     0.99568,      0.9977,     0.99756,     0.99746,     0.99735,     0.99704,     0.99687,     0.99668,      0.9965,     0.99631,     0.99612,           1,           1,           1,           1,           1,           1,           1,           1,\n",
       "                  1,           1,           1,           1,           1,           1,           1,           1,           1,           1,           1,           1,           1,           1,           1,           1,           1,           1,           1,           1,           1,           1,           1,\n",
       "                  1,           1,           1,           1,           1,           1,           1,           1,           1,           1,           1,           1,           1,           1,           1,           1,           1,           1,           1,           1,           1,           1,           1,\n",
       "                  1,           1,           1,           1,           1,           1,           1,           1,           1,           1,           1,           1,           1,           1,           1,           1,           1,           1,           1,           1,           1,           1,           1,\n",
       "                  1,           1,           1,           1,           1,           1,           1,           1,           1,           1,           1,           1,           1,           1,           1,           1,           1,           1,           1,           1,           1,           1,           1,\n",
       "                  1,           1,           1,           1,           1,           1,           1,           1,           1,           1,           1,           1,           1,           1,           1,           1,           1,           1,           1,           1,           1,           1,           1,\n",
       "                  1,           1,           1,           1,           1,           1,           1,           1,           1,           1,           1]]), 'Confidence', 'Precision'], [array([          0,    0.001001,    0.002002,    0.003003,    0.004004,    0.005005,    0.006006,    0.007007,    0.008008,    0.009009,     0.01001,    0.011011,    0.012012,    0.013013,    0.014014,    0.015015,    0.016016,    0.017017,    0.018018,    0.019019,     0.02002,    0.021021,    0.022022,    0.023023,\n",
       "          0.024024,    0.025025,    0.026026,    0.027027,    0.028028,    0.029029,     0.03003,    0.031031,    0.032032,    0.033033,    0.034034,    0.035035,    0.036036,    0.037037,    0.038038,    0.039039,     0.04004,    0.041041,    0.042042,    0.043043,    0.044044,    0.045045,    0.046046,    0.047047,\n",
       "          0.048048,    0.049049,     0.05005,    0.051051,    0.052052,    0.053053,    0.054054,    0.055055,    0.056056,    0.057057,    0.058058,    0.059059,     0.06006,    0.061061,    0.062062,    0.063063,    0.064064,    0.065065,    0.066066,    0.067067,    0.068068,    0.069069,     0.07007,    0.071071,\n",
       "          0.072072,    0.073073,    0.074074,    0.075075,    0.076076,    0.077077,    0.078078,    0.079079,     0.08008,    0.081081,    0.082082,    0.083083,    0.084084,    0.085085,    0.086086,    0.087087,    0.088088,    0.089089,     0.09009,    0.091091,    0.092092,    0.093093,    0.094094,    0.095095,\n",
       "          0.096096,    0.097097,    0.098098,    0.099099,      0.1001,      0.1011,      0.1021,      0.1031,      0.1041,     0.10511,     0.10611,     0.10711,     0.10811,     0.10911,     0.11011,     0.11111,     0.11211,     0.11311,     0.11411,     0.11512,     0.11612,     0.11712,     0.11812,     0.11912,\n",
       "           0.12012,     0.12112,     0.12212,     0.12312,     0.12412,     0.12513,     0.12613,     0.12713,     0.12813,     0.12913,     0.13013,     0.13113,     0.13213,     0.13313,     0.13413,     0.13514,     0.13614,     0.13714,     0.13814,     0.13914,     0.14014,     0.14114,     0.14214,     0.14314,\n",
       "           0.14414,     0.14515,     0.14615,     0.14715,     0.14815,     0.14915,     0.15015,     0.15115,     0.15215,     0.15315,     0.15415,     0.15516,     0.15616,     0.15716,     0.15816,     0.15916,     0.16016,     0.16116,     0.16216,     0.16316,     0.16416,     0.16517,     0.16617,     0.16717,\n",
       "           0.16817,     0.16917,     0.17017,     0.17117,     0.17217,     0.17317,     0.17417,     0.17518,     0.17618,     0.17718,     0.17818,     0.17918,     0.18018,     0.18118,     0.18218,     0.18318,     0.18418,     0.18519,     0.18619,     0.18719,     0.18819,     0.18919,     0.19019,     0.19119,\n",
       "           0.19219,     0.19319,     0.19419,      0.1952,      0.1962,      0.1972,      0.1982,      0.1992,      0.2002,      0.2012,      0.2022,      0.2032,      0.2042,     0.20521,     0.20621,     0.20721,     0.20821,     0.20921,     0.21021,     0.21121,     0.21221,     0.21321,     0.21421,     0.21522,\n",
       "           0.21622,     0.21722,     0.21822,     0.21922,     0.22022,     0.22122,     0.22222,     0.22322,     0.22422,     0.22523,     0.22623,     0.22723,     0.22823,     0.22923,     0.23023,     0.23123,     0.23223,     0.23323,     0.23423,     0.23524,     0.23624,     0.23724,     0.23824,     0.23924,\n",
       "           0.24024,     0.24124,     0.24224,     0.24324,     0.24424,     0.24525,     0.24625,     0.24725,     0.24825,     0.24925,     0.25025,     0.25125,     0.25225,     0.25325,     0.25425,     0.25526,     0.25626,     0.25726,     0.25826,     0.25926,     0.26026,     0.26126,     0.26226,     0.26326,\n",
       "           0.26426,     0.26527,     0.26627,     0.26727,     0.26827,     0.26927,     0.27027,     0.27127,     0.27227,     0.27327,     0.27427,     0.27528,     0.27628,     0.27728,     0.27828,     0.27928,     0.28028,     0.28128,     0.28228,     0.28328,     0.28428,     0.28529,     0.28629,     0.28729,\n",
       "           0.28829,     0.28929,     0.29029,     0.29129,     0.29229,     0.29329,     0.29429,      0.2953,      0.2963,      0.2973,      0.2983,      0.2993,      0.3003,      0.3013,      0.3023,      0.3033,      0.3043,     0.30531,     0.30631,     0.30731,     0.30831,     0.30931,     0.31031,     0.31131,\n",
       "           0.31231,     0.31331,     0.31431,     0.31532,     0.31632,     0.31732,     0.31832,     0.31932,     0.32032,     0.32132,     0.32232,     0.32332,     0.32432,     0.32533,     0.32633,     0.32733,     0.32833,     0.32933,     0.33033,     0.33133,     0.33233,     0.33333,     0.33433,     0.33534,\n",
       "           0.33634,     0.33734,     0.33834,     0.33934,     0.34034,     0.34134,     0.34234,     0.34334,     0.34434,     0.34535,     0.34635,     0.34735,     0.34835,     0.34935,     0.35035,     0.35135,     0.35235,     0.35335,     0.35435,     0.35536,     0.35636,     0.35736,     0.35836,     0.35936,\n",
       "           0.36036,     0.36136,     0.36236,     0.36336,     0.36436,     0.36537,     0.36637,     0.36737,     0.36837,     0.36937,     0.37037,     0.37137,     0.37237,     0.37337,     0.37437,     0.37538,     0.37638,     0.37738,     0.37838,     0.37938,     0.38038,     0.38138,     0.38238,     0.38338,\n",
       "           0.38438,     0.38539,     0.38639,     0.38739,     0.38839,     0.38939,     0.39039,     0.39139,     0.39239,     0.39339,     0.39439,      0.3954,      0.3964,      0.3974,      0.3984,      0.3994,      0.4004,      0.4014,      0.4024,      0.4034,      0.4044,     0.40541,     0.40641,     0.40741,\n",
       "           0.40841,     0.40941,     0.41041,     0.41141,     0.41241,     0.41341,     0.41441,     0.41542,     0.41642,     0.41742,     0.41842,     0.41942,     0.42042,     0.42142,     0.42242,     0.42342,     0.42442,     0.42543,     0.42643,     0.42743,     0.42843,     0.42943,     0.43043,     0.43143,\n",
       "           0.43243,     0.43343,     0.43443,     0.43544,     0.43644,     0.43744,     0.43844,     0.43944,     0.44044,     0.44144,     0.44244,     0.44344,     0.44444,     0.44545,     0.44645,     0.44745,     0.44845,     0.44945,     0.45045,     0.45145,     0.45245,     0.45345,     0.45445,     0.45546,\n",
       "           0.45646,     0.45746,     0.45846,     0.45946,     0.46046,     0.46146,     0.46246,     0.46346,     0.46446,     0.46547,     0.46647,     0.46747,     0.46847,     0.46947,     0.47047,     0.47147,     0.47247,     0.47347,     0.47447,     0.47548,     0.47648,     0.47748,     0.47848,     0.47948,\n",
       "           0.48048,     0.48148,     0.48248,     0.48348,     0.48448,     0.48549,     0.48649,     0.48749,     0.48849,     0.48949,     0.49049,     0.49149,     0.49249,     0.49349,     0.49449,      0.4955,      0.4965,      0.4975,      0.4985,      0.4995,      0.5005,      0.5015,      0.5025,      0.5035,\n",
       "            0.5045,     0.50551,     0.50651,     0.50751,     0.50851,     0.50951,     0.51051,     0.51151,     0.51251,     0.51351,     0.51451,     0.51552,     0.51652,     0.51752,     0.51852,     0.51952,     0.52052,     0.52152,     0.52252,     0.52352,     0.52452,     0.52553,     0.52653,     0.52753,\n",
       "           0.52853,     0.52953,     0.53053,     0.53153,     0.53253,     0.53353,     0.53453,     0.53554,     0.53654,     0.53754,     0.53854,     0.53954,     0.54054,     0.54154,     0.54254,     0.54354,     0.54454,     0.54555,     0.54655,     0.54755,     0.54855,     0.54955,     0.55055,     0.55155,\n",
       "           0.55255,     0.55355,     0.55455,     0.55556,     0.55656,     0.55756,     0.55856,     0.55956,     0.56056,     0.56156,     0.56256,     0.56356,     0.56456,     0.56557,     0.56657,     0.56757,     0.56857,     0.56957,     0.57057,     0.57157,     0.57257,     0.57357,     0.57457,     0.57558,\n",
       "           0.57658,     0.57758,     0.57858,     0.57958,     0.58058,     0.58158,     0.58258,     0.58358,     0.58458,     0.58559,     0.58659,     0.58759,     0.58859,     0.58959,     0.59059,     0.59159,     0.59259,     0.59359,     0.59459,      0.5956,      0.5966,      0.5976,      0.5986,      0.5996,\n",
       "            0.6006,      0.6016,      0.6026,      0.6036,      0.6046,     0.60561,     0.60661,     0.60761,     0.60861,     0.60961,     0.61061,     0.61161,     0.61261,     0.61361,     0.61461,     0.61562,     0.61662,     0.61762,     0.61862,     0.61962,     0.62062,     0.62162,     0.62262,     0.62362,\n",
       "           0.62462,     0.62563,     0.62663,     0.62763,     0.62863,     0.62963,     0.63063,     0.63163,     0.63263,     0.63363,     0.63463,     0.63564,     0.63664,     0.63764,     0.63864,     0.63964,     0.64064,     0.64164,     0.64264,     0.64364,     0.64464,     0.64565,     0.64665,     0.64765,\n",
       "           0.64865,     0.64965,     0.65065,     0.65165,     0.65265,     0.65365,     0.65465,     0.65566,     0.65666,     0.65766,     0.65866,     0.65966,     0.66066,     0.66166,     0.66266,     0.66366,     0.66466,     0.66567,     0.66667,     0.66767,     0.66867,     0.66967,     0.67067,     0.67167,\n",
       "           0.67267,     0.67367,     0.67467,     0.67568,     0.67668,     0.67768,     0.67868,     0.67968,     0.68068,     0.68168,     0.68268,     0.68368,     0.68468,     0.68569,     0.68669,     0.68769,     0.68869,     0.68969,     0.69069,     0.69169,     0.69269,     0.69369,     0.69469,      0.6957,\n",
       "            0.6967,      0.6977,      0.6987,      0.6997,      0.7007,      0.7017,      0.7027,      0.7037,      0.7047,     0.70571,     0.70671,     0.70771,     0.70871,     0.70971,     0.71071,     0.71171,     0.71271,     0.71371,     0.71471,     0.71572,     0.71672,     0.71772,     0.71872,     0.71972,\n",
       "           0.72072,     0.72172,     0.72272,     0.72372,     0.72472,     0.72573,     0.72673,     0.72773,     0.72873,     0.72973,     0.73073,     0.73173,     0.73273,     0.73373,     0.73473,     0.73574,     0.73674,     0.73774,     0.73874,     0.73974,     0.74074,     0.74174,     0.74274,     0.74374,\n",
       "           0.74474,     0.74575,     0.74675,     0.74775,     0.74875,     0.74975,     0.75075,     0.75175,     0.75275,     0.75375,     0.75475,     0.75576,     0.75676,     0.75776,     0.75876,     0.75976,     0.76076,     0.76176,     0.76276,     0.76376,     0.76476,     0.76577,     0.76677,     0.76777,\n",
       "           0.76877,     0.76977,     0.77077,     0.77177,     0.77277,     0.77377,     0.77477,     0.77578,     0.77678,     0.77778,     0.77878,     0.77978,     0.78078,     0.78178,     0.78278,     0.78378,     0.78478,     0.78579,     0.78679,     0.78779,     0.78879,     0.78979,     0.79079,     0.79179,\n",
       "           0.79279,     0.79379,     0.79479,      0.7958,      0.7968,      0.7978,      0.7988,      0.7998,      0.8008,      0.8018,      0.8028,      0.8038,      0.8048,     0.80581,     0.80681,     0.80781,     0.80881,     0.80981,     0.81081,     0.81181,     0.81281,     0.81381,     0.81481,     0.81582,\n",
       "           0.81682,     0.81782,     0.81882,     0.81982,     0.82082,     0.82182,     0.82282,     0.82382,     0.82482,     0.82583,     0.82683,     0.82783,     0.82883,     0.82983,     0.83083,     0.83183,     0.83283,     0.83383,     0.83483,     0.83584,     0.83684,     0.83784,     0.83884,     0.83984,\n",
       "           0.84084,     0.84184,     0.84284,     0.84384,     0.84484,     0.84585,     0.84685,     0.84785,     0.84885,     0.84985,     0.85085,     0.85185,     0.85285,     0.85385,     0.85485,     0.85586,     0.85686,     0.85786,     0.85886,     0.85986,     0.86086,     0.86186,     0.86286,     0.86386,\n",
       "           0.86486,     0.86587,     0.86687,     0.86787,     0.86887,     0.86987,     0.87087,     0.87187,     0.87287,     0.87387,     0.87487,     0.87588,     0.87688,     0.87788,     0.87888,     0.87988,     0.88088,     0.88188,     0.88288,     0.88388,     0.88488,     0.88589,     0.88689,     0.88789,\n",
       "           0.88889,     0.88989,     0.89089,     0.89189,     0.89289,     0.89389,     0.89489,      0.8959,      0.8969,      0.8979,      0.8989,      0.8999,      0.9009,      0.9019,      0.9029,      0.9039,      0.9049,     0.90591,     0.90691,     0.90791,     0.90891,     0.90991,     0.91091,     0.91191,\n",
       "           0.91291,     0.91391,     0.91491,     0.91592,     0.91692,     0.91792,     0.91892,     0.91992,     0.92092,     0.92192,     0.92292,     0.92392,     0.92492,     0.92593,     0.92693,     0.92793,     0.92893,     0.92993,     0.93093,     0.93193,     0.93293,     0.93393,     0.93493,     0.93594,\n",
       "           0.93694,     0.93794,     0.93894,     0.93994,     0.94094,     0.94194,     0.94294,     0.94394,     0.94494,     0.94595,     0.94695,     0.94795,     0.94895,     0.94995,     0.95095,     0.95195,     0.95295,     0.95395,     0.95495,     0.95596,     0.95696,     0.95796,     0.95896,     0.95996,\n",
       "           0.96096,     0.96196,     0.96296,     0.96396,     0.96496,     0.96597,     0.96697,     0.96797,     0.96897,     0.96997,     0.97097,     0.97197,     0.97297,     0.97397,     0.97497,     0.97598,     0.97698,     0.97798,     0.97898,     0.97998,     0.98098,     0.98198,     0.98298,     0.98398,\n",
       "           0.98498,     0.98599,     0.98699,     0.98799,     0.98899,     0.98999,     0.99099,     0.99199,     0.99299,     0.99399,     0.99499,       0.996,       0.997,       0.998,       0.999,           1]), array([[          1,           1,     0.99908,     0.99908,     0.99908,     0.99908,     0.99908,     0.99908,     0.99862,     0.99862,     0.99862,     0.99862,     0.99862,     0.99862,     0.99862,     0.99816,     0.99816,     0.99816,     0.99816,      0.9977,      0.9977,      0.9977,      0.9977,\n",
       "             0.9977,      0.9977,     0.99724,     0.99724,     0.99724,     0.99724,     0.99724,     0.99724,     0.99724,     0.99724,     0.99724,     0.99724,     0.99724,     0.99724,     0.99724,     0.99724,     0.99724,     0.99724,     0.99724,     0.99724,     0.99724,     0.99724,     0.99724,\n",
       "            0.99678,     0.99678,     0.99678,     0.99678,     0.99678,     0.99678,     0.99678,     0.99678,     0.99678,     0.99678,     0.99678,     0.99678,     0.99678,     0.99678,     0.99678,     0.99678,     0.99678,     0.99678,     0.99678,     0.99678,     0.99678,     0.99678,     0.99678,\n",
       "            0.99678,     0.99678,     0.99678,     0.99678,     0.99678,     0.99678,     0.99678,     0.99678,     0.99678,     0.99678,     0.99678,     0.99678,     0.99678,     0.99657,     0.99632,     0.99632,     0.99632,     0.99632,     0.99632,     0.99632,     0.99632,     0.99632,     0.99632,\n",
       "            0.99632,     0.99632,     0.99632,     0.99632,     0.99632,     0.99632,     0.99632,     0.99632,     0.99632,     0.99632,     0.99632,     0.99632,     0.99632,     0.99632,     0.99632,     0.99632,     0.99632,     0.99632,     0.99632,     0.99632,     0.99632,     0.99632,     0.99632,\n",
       "            0.99632,     0.99632,     0.99632,     0.99632,     0.99632,     0.99632,     0.99632,     0.99632,     0.99632,     0.99632,     0.99632,     0.99632,     0.99632,     0.99632,     0.99632,     0.99632,     0.99632,     0.99586,     0.99586,     0.99586,     0.99586,     0.99586,     0.99586,\n",
       "            0.99586,     0.99586,     0.99586,     0.99586,     0.99586,     0.99586,     0.99586,     0.99586,     0.99586,     0.99586,     0.99586,     0.99586,     0.99586,     0.99586,     0.99586,     0.99586,     0.99586,     0.99586,     0.99586,     0.99586,     0.99586,     0.99586,     0.99586,\n",
       "            0.99586,     0.99586,     0.99586,     0.99586,     0.99586,     0.99586,     0.99586,     0.99586,     0.99586,     0.99586,     0.99586,     0.99586,     0.99586,     0.99586,     0.99586,     0.99586,     0.99586,     0.99586,     0.99586,     0.99586,     0.99586,     0.99586,     0.99586,\n",
       "            0.99586,     0.99586,     0.99586,     0.99586,     0.99586,     0.99586,     0.99586,     0.99586,     0.99586,     0.99586,     0.99586,     0.99586,     0.99586,     0.99586,     0.99586,     0.99586,     0.99586,     0.99586,     0.99586,     0.99586,     0.99586,     0.99586,     0.99586,\n",
       "            0.99586,     0.99586,     0.99586,     0.99586,     0.99586,     0.99586,     0.99586,     0.99586,     0.99586,     0.99586,     0.99586,     0.99586,     0.99586,     0.99586,     0.99586,      0.9958,     0.99546,      0.9954,      0.9954,      0.9954,      0.9954,      0.9954,      0.9954,\n",
       "             0.9954,      0.9954,      0.9954,      0.9954,      0.9954,      0.9954,      0.9954,      0.9954,      0.9954,      0.9954,      0.9954,      0.9954,      0.9954,      0.9954,      0.9954,      0.9954,      0.9954,      0.9954,      0.9954,      0.9954,      0.9954,      0.9954,      0.9954,\n",
       "             0.9954,      0.9954,      0.9954,      0.9954,      0.9954,      0.9954,      0.9954,      0.9954,      0.9954,      0.9954,      0.9954,      0.9954,      0.9954,      0.9954,      0.9954,      0.9954,      0.9954,      0.9954,      0.9954,      0.9954,      0.9954,      0.9954,      0.9954,\n",
       "             0.9954,      0.9954,      0.9954,      0.9954,      0.9954,      0.9954,      0.9954,      0.9954,      0.9954,      0.9954,      0.9954,      0.9954,      0.9954,      0.9954,      0.9954,      0.9954,      0.9954,      0.9954,      0.9954,      0.9954,      0.9954,      0.9954,      0.9954,\n",
       "             0.9954,      0.9954,      0.9954,      0.9954,      0.9954,      0.9954,      0.9954,     0.99523,     0.99496,     0.99494,     0.99494,     0.99494,     0.99494,     0.99494,     0.99494,     0.99494,     0.99494,     0.99494,     0.99494,     0.99489,     0.99484,     0.99479,     0.99473,\n",
       "            0.99468,     0.99463,     0.99457,     0.99452,     0.99449,     0.99449,     0.99449,     0.99449,     0.99449,     0.99449,     0.99449,     0.99449,     0.99449,     0.99449,     0.99449,     0.99449,     0.99449,     0.99449,     0.99449,     0.99416,     0.99403,     0.99403,     0.99403,\n",
       "            0.99403,     0.99403,     0.99403,     0.99403,     0.99403,     0.99403,     0.99403,     0.99403,     0.99403,     0.99403,     0.99403,     0.99403,     0.99403,     0.99403,     0.99403,     0.99403,     0.99403,     0.99403,     0.99403,     0.99403,     0.99403,     0.99403,     0.99403,\n",
       "            0.99403,     0.99403,     0.99403,     0.99403,     0.99401,     0.99394,     0.99388,     0.99382,     0.99376,     0.99369,     0.99363,     0.99357,     0.99357,     0.99357,     0.99357,     0.99357,     0.99357,     0.99357,     0.99357,     0.99357,     0.99357,     0.99357,     0.99357,\n",
       "            0.99357,     0.99354,     0.99311,     0.99311,     0.99311,     0.99311,     0.99311,     0.99311,     0.99311,     0.99311,     0.99311,     0.99311,     0.99311,     0.99311,     0.99311,     0.99311,     0.99311,     0.99311,     0.99311,     0.99311,     0.99311,     0.99311,     0.99311,\n",
       "            0.99311,     0.99311,     0.99311,     0.99311,     0.99311,     0.99311,     0.99311,     0.99311,     0.99311,     0.99311,     0.99311,     0.99311,     0.99311,     0.99311,     0.99307,     0.99292,     0.99276,     0.99262,     0.99252,     0.99242,     0.99232,     0.99222,     0.99219,\n",
       "            0.99219,     0.99219,     0.99219,     0.99219,     0.99219,     0.99219,     0.99219,     0.99219,     0.99219,     0.99219,     0.99219,     0.99219,     0.99219,     0.99219,     0.99219,     0.99219,     0.99219,     0.99217,       0.992,     0.99183,     0.99173,     0.99173,     0.99173,\n",
       "            0.99173,     0.99173,     0.99173,     0.99173,     0.99173,     0.99173,     0.99173,     0.99173,     0.99173,     0.99173,     0.99173,     0.99173,     0.99173,     0.99173,     0.99173,     0.99173,     0.99173,     0.99173,     0.99173,     0.99173,     0.99173,     0.99173,     0.99124,\n",
       "            0.99081,     0.99081,     0.99081,     0.99081,     0.99081,     0.99081,     0.99081,     0.99081,     0.99081,     0.99081,     0.99081,     0.99081,     0.99081,     0.99081,     0.99081,     0.99081,     0.99081,     0.99081,     0.99081,     0.99081,     0.99081,     0.99081,     0.99081,\n",
       "            0.99081,     0.99081,     0.99081,     0.99081,     0.99081,     0.99081,     0.99081,     0.99074,     0.99067,     0.99059,     0.99051,     0.99043,     0.99035,     0.99035,     0.99035,     0.99035,     0.99035,     0.99035,     0.99035,     0.99035,     0.99032,     0.99017,     0.99001,\n",
       "            0.98983,      0.9896,      0.9893,     0.98897,     0.98897,     0.98897,     0.98897,     0.98897,     0.98897,     0.98897,     0.98897,     0.98897,     0.98897,     0.98897,     0.98897,     0.98897,     0.98897,     0.98897,     0.98897,     0.98897,     0.98897,     0.98897,     0.98897,\n",
       "            0.98888,     0.98876,     0.98864,     0.98852,     0.98851,     0.98851,     0.98851,     0.98851,     0.98851,     0.98851,     0.98851,     0.98851,     0.98851,     0.98851,     0.98851,     0.98851,     0.98851,     0.98851,     0.98851,     0.98851,     0.98851,     0.98851,     0.98851,\n",
       "            0.98851,     0.98851,     0.98851,     0.98851,     0.98851,     0.98851,     0.98851,     0.98851,     0.98851,     0.98837,     0.98813,     0.98775,     0.98743,      0.9872,     0.98713,     0.98713,     0.98713,     0.98713,     0.98713,     0.98713,     0.98713,     0.98713,     0.98713,\n",
       "            0.98713,     0.98667,     0.98667,     0.98667,     0.98667,     0.98667,     0.98667,     0.98667,     0.98637,     0.98574,     0.98564,     0.98555,     0.98545,     0.98536,     0.98515,     0.98438,     0.98421,     0.98392,     0.98341,     0.98331,      0.9832,      0.9831,     0.98299,\n",
       "            0.98288,     0.98276,     0.98264,     0.98243,       0.982,     0.98189,     0.98177,     0.98165,     0.98158,     0.98152,     0.98147,     0.98141,     0.98136,      0.9813,     0.98125,     0.98119,     0.98116,     0.98116,     0.98116,     0.98116,     0.98116,     0.98116,     0.98116,\n",
       "            0.98116,     0.98116,     0.98116,     0.98054,      0.9803,     0.97978,     0.97978,     0.97978,     0.97978,     0.97978,     0.97978,     0.97978,     0.97978,     0.97978,     0.97973,     0.97961,     0.97949,     0.97937,     0.97886,     0.97882,     0.97835,     0.97794,     0.97779,\n",
       "            0.97748,     0.97748,     0.97714,     0.97679,     0.97656,     0.97656,     0.97656,      0.9757,     0.97523,     0.97476,     0.97444,     0.97426,     0.97426,     0.97426,      0.9738,     0.97356,     0.97335,     0.97335,     0.97228,     0.97204,     0.97186,      0.9717,     0.97155,\n",
       "            0.97151,     0.97151,     0.97151,     0.97097,     0.97073,     0.97001,     0.96969,     0.96921,     0.96921,     0.96921,     0.96874,     0.96827,     0.96777,     0.96737,     0.96737,     0.96671,     0.96643,      0.9663,     0.96616,     0.96603,      0.9653,     0.96507,     0.96507,\n",
       "            0.96396,     0.96373,     0.96316,     0.96297,     0.96279,     0.96156,      0.9614,      0.9614,     0.96131,     0.96116,       0.961,     0.96075,     0.96041,     0.96002,     0.95751,     0.95675,     0.95652,      0.9558,     0.95549,     0.95425,     0.95373,     0.95319,     0.95271,\n",
       "            0.95201,     0.95134,     0.95129,     0.94945,     0.94944,     0.94895,     0.94761,     0.94761,     0.94664,     0.94564,     0.94519,       0.945,     0.94479,     0.94447,     0.94232,     0.94109,     0.94077,     0.94046,     0.93934,     0.93934,     0.93757,     0.93445,     0.93322,\n",
       "            0.93291,     0.93259,      0.9309,     0.92921,     0.92889,     0.92642,     0.92371,     0.92341,     0.92166,     0.91856,     0.91766,     0.91735,     0.91566,     0.91351,     0.91319,     0.91068,     0.90819,     0.90721,     0.90582,     0.90305,     0.89783,     0.89476,     0.89444,\n",
       "             0.8924,      0.8909,     0.88645,     0.88614,     0.88189,     0.87708,      0.8725,     0.87144,     0.86994,     0.86602,     0.85954,     0.85899,     0.85438,      0.8461,     0.83969,     0.83389,     0.83275,     0.82514,     0.81961,     0.81647,     0.81247,     0.80506,     0.80394,\n",
       "             0.7975,     0.78944,     0.78429,     0.77691,     0.77631,     0.76905,     0.75952,     0.75017,     0.73957,     0.73053,     0.72988,     0.71836,     0.70798,     0.69326,     0.68567,     0.67416,     0.66266,     0.64653,     0.63324,     0.63293,     0.61797,      0.6037,      0.5909,\n",
       "            0.58022,     0.56652,     0.55398,     0.54247,     0.54144,     0.52634,     0.50885,     0.49734,     0.48261,     0.47084,     0.45659,      0.4444,     0.42921,     0.41105,     0.39358,     0.37905,     0.36386,     0.34598,      0.3331,     0.32105,     0.30632,     0.29435,     0.28008,\n",
       "            0.26719,     0.25384,     0.24095,     0.22254,     0.21167,     0.19906,     0.18801,     0.18039,     0.17326,     0.15485,     0.14656,      0.1378,     0.13089,     0.12402,     0.11804,     0.11243,     0.10368,    0.099393,    0.093064,    0.085123,    0.083274,    0.074153,    0.069075,\n",
       "           0.064916,    0.058918,    0.055678,    0.051955,    0.047807,     0.04458,    0.042499,    0.036743,    0.034893,    0.032539,    0.030219,    0.026817,    0.024277,    0.023256,    0.020808,    0.019534,    0.017338,     0.01673,    0.013535,    0.012761,    0.012447,    0.011536,    0.011277,\n",
       "           0.011041,   0.0092165,   0.0085792,   0.0082514,   0.0071852,     0.00686,   0.0058846,    0.005324,   0.0044599,   0.0038269,   0.0033558,   0.0022374,   0.0021518,   0.0020661,   0.0019805,   0.0018948,   0.0015185,   0.0012182,   0.0010298,   0.0005304,           0,           0,           0,\n",
       "                  0,           0,           0,           0,           0,           0,           0,           0,           0,           0,           0,           0,           0,           0,           0,           0,           0,           0,           0,           0,           0,           0,           0,\n",
       "                  0,           0,           0,           0,           0,           0,           0,           0,           0,           0,           0,           0,           0,           0,           0,           0,           0,           0,           0,           0,           0,           0,           0,\n",
       "                  0,           0,           0,           0,           0,           0,           0,           0,           0,           0,           0,           0,           0,           0,           0,           0,           0,           0,           0,           0,           0,           0,           0,\n",
       "                  0,           0,           0,           0,           0,           0,           0,           0,           0,           0,           0]]), 'Confidence', 'Recall']]\n",
       "fitness: np.float64(0.772862912144988)\n",
       "keys: ['metrics/precision(B)', 'metrics/recall(B)', 'metrics/mAP50(B)', 'metrics/mAP50-95(B)']\n",
       "maps: array([    0.74864])\n",
       "names: {0: 'pearbags'}\n",
       "plot: True\n",
       "results_dict: {'metrics/precision(B)': np.float64(0.968314669826903), 'metrics/recall(B)': np.float64(0.9830994188633078), 'metrics/mAP50(B)': np.float64(0.9908913324163622), 'metrics/mAP50-95(B)': np.float64(0.7486375321148353), 'fitness': np.float64(0.772862912144988)}\n",
       "save_dir: WindowsPath('runs/detect/train22')\n",
       "speed: {'preprocess': 0.19068100000731647, 'inference': 1.15331400022842, 'loss': 0.0020198002457618713, 'postprocess': 1.1230057999491692}\n",
       "task: 'detect'"
      ]
     },
     "execution_count": 11,
     "metadata": {},
     "output_type": "execute_result"
    }
   ],
   "source": [
    "# Load a COCO-pretrained YOLOv8n model\n",
    "model_v8 = YOLO(\"yolov8n.pt\")\n",
    "\n",
    "# Display model information (optional)\n",
    "model_v8.info()\n",
    "\n",
    "# Train the model on the COCO8 example dataset for 100 epochs\n",
    "model_v8.train(data=\"C:/Users/dnslab_fox/Ugur/PearBagsYolo/data.yaml\", epochs=50, imgsz=640)"
   ]
  },
  {
   "cell_type": "code",
   "execution_count": 12,
   "id": "c53bbd98-02d1-4264-af8c-dc876a6e02e3",
   "metadata": {},
   "outputs": [],
   "source": [
    "model_v8.save(\"PearBagsYolo/models/pearbags_yolov8.pt\")"
   ]
  },
  {
   "cell_type": "markdown",
   "id": "ae96afd6-f76c-4e40-bd89-0356fcf7ab91",
   "metadata": {
    "jp-MarkdownHeadingCollapsed": true
   },
   "source": [
    "## Change Label"
   ]
  },
  {
   "cell_type": "code",
   "execution_count": 10,
   "id": "d24100aa-1c4b-4e2e-8726-79e1510057db",
   "metadata": {},
   "outputs": [
    {
     "name": "stdout",
     "output_type": "stream",
     "text": [
      "Bad label files: []\n"
     ]
    }
   ],
   "source": [
    "import os\n",
    "\n",
    "labels_dir = \"PearBagsYolo/train/labels\"\n",
    "bad_files = []\n",
    "\n",
    "for file in os.listdir(labels_dir):\n",
    "    if file.endswith(\".txt\"):\n",
    "        path = os.path.join(labels_dir, file)\n",
    "        with open(path, \"r\") as f:\n",
    "            lines = f.readlines()\n",
    "            if not lines:\n",
    "                bad_files.append(file)\n",
    "            for line in lines:\n",
    "                parts = line.strip().split()\n",
    "                if len(parts) != 5 or not all(p.replace('.', '', 1).isdigit() for p in parts[1:]):\n",
    "                    bad_files.append(file)\n",
    "                    break\n",
    "\n",
    "print(\"Bad label files:\", bad_files)"
   ]
  },
  {
   "cell_type": "code",
   "execution_count": 14,
   "id": "04ac8497-c402-47db-8fca-1c1629035539",
   "metadata": {},
   "outputs": [],
   "source": [
    "import os\n",
    "\n",
    "labels_dir = \"PearBagsYolo/test/labels\"  # repeat for valid/test if needed\n",
    "\n",
    "for filename in os.listdir(labels_dir):\n",
    "    if filename.endswith(\".txt\"):\n",
    "        file_path = os.path.join(labels_dir, filename)\n",
    "        with open(file_path, \"r\") as f:\n",
    "            lines = f.readlines()\n",
    "\n",
    "        new_lines = []\n",
    "        for line in lines:\n",
    "            parts = line.strip().split()\n",
    "            if parts[0] == \"1\":\n",
    "                parts[0] = \"0\"\n",
    "            new_lines.append(\" \".join(parts))\n",
    "\n",
    "        with open(file_path, \"w\") as f:\n",
    "            f.write(\"\\n\".join(new_lines))"
   ]
  },
  {
   "cell_type": "code",
   "execution_count": null,
   "id": "f26f0920-cf92-4016-8b19-7fdf39aec983",
   "metadata": {},
   "outputs": [],
   "source": []
  }
 ],
 "metadata": {
  "kernelspec": {
   "display_name": "Python 3 (ipykernel)",
   "language": "python",
   "name": "python3"
  },
  "language_info": {
   "codemirror_mode": {
    "name": "ipython",
    "version": 3
   },
   "file_extension": ".py",
   "mimetype": "text/x-python",
   "name": "python",
   "nbconvert_exporter": "python",
   "pygments_lexer": "ipython3",
   "version": "3.12.7"
  }
 },
 "nbformat": 4,
 "nbformat_minor": 5
}
